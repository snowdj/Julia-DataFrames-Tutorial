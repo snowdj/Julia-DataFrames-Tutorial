{
 "cells": [
  {
   "cell_type": "markdown",
   "metadata": {},
   "source": [
    "# Introduction to DataFrames\n",
    "**[Bogumił Kamiński](http://bogumilkaminski.pl/about/), August 26, 2019**"
   ]
  },
  {
   "cell_type": "code",
   "execution_count": 1,
   "metadata": {},
   "outputs": [
    {
     "name": "stdout",
     "output_type": "stream",
     "text": [
      "\u001b[32m\u001b[1mActivating\u001b[22m\u001b[39m environment at `d:\\Dev\\Julia\\DataFrames_Tutorial\\Project.toml`\n"
     ]
    }
   ],
   "source": [
    "using Pkg\n",
    "Pkg.activate(\".\")"
   ]
  },
  {
   "cell_type": "code",
   "execution_count": 2,
   "metadata": {},
   "outputs": [],
   "source": [
    "using DataFrames"
   ]
  },
  {
   "cell_type": "markdown",
   "metadata": {},
   "source": [
    "## Extras - selected functionalities of selected packages"
   ]
  },
  {
   "cell_type": "code",
   "execution_count": 3,
   "metadata": {},
   "outputs": [
    {
     "data": {
      "text/plain": [
       "4×3 Named Array{Int64,2}\n",
       "a ╲ b │  x   y   z\n",
       "──────┼───────────\n",
       "'a'   │ 78  80  78\n",
       "'b'   │ 91  86  84\n",
       "'c'   │ 76  83  90\n",
       "'d'   │ 89  82  83"
      ]
     },
     "execution_count": 3,
     "metadata": {},
     "output_type": "execute_result"
    }
   ],
   "source": [
    "using FreqTables\n",
    "df = DataFrame(a=rand('a':'d', 1000), b=rand([\"x\", \"y\", \"z\"], 1000))\n",
    "ft = freqtable(df, :a, :b) # observe that dimensions are sorted if possible"
   ]
  },
  {
   "cell_type": "code",
   "execution_count": 4,
   "metadata": {},
   "outputs": [
    {
     "data": {
      "text/plain": [
       "(78, 84)"
      ]
     },
     "execution_count": 4,
     "metadata": {},
     "output_type": "execute_result"
    }
   ],
   "source": [
    "ft[1,1], ft['b', \"z\"] # you can index the result using numbers or names"
   ]
  },
  {
   "cell_type": "code",
   "execution_count": 5,
   "metadata": {},
   "outputs": [
    {
     "data": {
      "text/plain": [
       "4×3 Named Array{Float64,2}\n",
       "a ╲ b │        x         y         z\n",
       "──────┼─────────────────────────────\n",
       "'a'   │ 0.330508  0.338983  0.330508\n",
       "'b'   │ 0.348659  0.329502  0.321839\n",
       "'c'   │ 0.305221  0.333333  0.361446\n",
       "'d'   │ 0.350394  0.322835  0.326772"
      ]
     },
     "execution_count": 5,
     "metadata": {},
     "output_type": "execute_result"
    }
   ],
   "source": [
    "prop(ft, 1) # getting proportions - 1 means we want to calculate them in rows (first dimension)"
   ]
  },
  {
   "cell_type": "code",
   "execution_count": 6,
   "metadata": {},
   "outputs": [
    {
     "data": {
      "text/plain": [
       "4×3 Named Array{Float64,2}\n",
       "a ╲ b │        x         y         z\n",
       "──────┼─────────────────────────────\n",
       "'a'   │ 0.233533  0.241692  0.232836\n",
       "'b'   │ 0.272455  0.259819  0.250746\n",
       "'c'   │ 0.227545  0.250755  0.268657\n",
       "'d'   │ 0.266467  0.247734  0.247761"
      ]
     },
     "execution_count": 6,
     "metadata": {},
     "output_type": "execute_result"
    }
   ],
   "source": [
    "prop(ft, 2) # and columns are normalized to 1.0 now"
   ]
  },
  {
   "cell_type": "code",
   "execution_count": 7,
   "metadata": {},
   "outputs": [
    {
     "data": {
      "text/plain": [
       "4-element Named Array{Int64,1}\n",
       "Dim1  │ \n",
       "──────┼──\n",
       "3     │ 3\n",
       "1     │ 3\n",
       "2     │ 4\n",
       "4     │ 0"
      ]
     },
     "execution_count": 7,
     "metadata": {},
     "output_type": "execute_result"
    }
   ],
   "source": [
    "x = categorical(rand(1:3, 10))\n",
    "levels!(x, [3, 1, 2, 4]) # reordering levels and adding an extra level\n",
    "freqtable(x) # order is preserved and not-used level is shown"
   ]
  },
  {
   "cell_type": "code",
   "execution_count": 8,
   "metadata": {},
   "outputs": [
    {
     "data": {
      "text/plain": [
       "4-element Named Array{Int64,1}\n",
       "Dim1    │ \n",
       "────────┼──\n",
       "1       │ 2\n",
       "2       │ 1\n",
       "3       │ 1\n",
       "missing │ 1"
      ]
     },
     "execution_count": 8,
     "metadata": {},
     "output_type": "execute_result"
    }
   ],
   "source": [
    "freqtable([1,1,2,3,missing]) # by default missings are listed"
   ]
  },
  {
   "cell_type": "code",
   "execution_count": 9,
   "metadata": {},
   "outputs": [
    {
     "data": {
      "text/plain": [
       "3-element Named Array{Int64,1}\n",
       "Dim1  │ \n",
       "──────┼──\n",
       "1     │ 2\n",
       "2     │ 1\n",
       "3     │ 1"
      ]
     },
     "execution_count": 9,
     "metadata": {},
     "output_type": "execute_result"
    }
   ],
   "source": [
    "freqtable([1,1,2,3,missing], skipmissing=true) # but we can skip them"
   ]
  },
  {
   "cell_type": "code",
   "execution_count": 10,
   "metadata": {},
   "outputs": [
    {
     "data": {
      "text/plain": [
       "2×2 Named Array{Int64,2}\n",
       "a ╲ b │   5    6\n",
       "──────┼─────────\n",
       "3     │ 234  247\n",
       "4     │ 243  276"
      ]
     },
     "execution_count": 10,
     "metadata": {},
     "output_type": "execute_result"
    }
   ],
   "source": [
    "df = DataFrame(a=rand(3:4, 1000), b=rand(5:6, 1000))\n",
    "ft = freqtable(df, :a, :b) # now dimensions are numbers"
   ]
  },
  {
   "cell_type": "code",
   "execution_count": 11,
   "metadata": {},
   "outputs": [
    {
     "ename": "BoundsError",
     "evalue": "BoundsError: attempt to access 2×2 Array{Int64,2} at index [3, 5]",
     "output_type": "error",
     "traceback": [
      "BoundsError: attempt to access 2×2 Array{Int64,2} at index [3, 5]",
      "",
      "Stacktrace:",
      " [1] getindex at .\\array.jl:729 [inlined]",
      " [2] getindex(::NamedArrays.NamedArray{Int64,2,Array{Int64,2},Tuple{OrderedCollections.OrderedDict{Int64,Int64},OrderedCollections.OrderedDict{Int64,Int64}}}, ::Int64, ::Int64) at C:\\Users\\bogum\\.julia\\packages\\NamedArrays\\d4lJL\\src\\index.jl:17",
      " [3] top-level scope at In[11]:1"
     ]
    }
   ],
   "source": [
    "ft[3,5] # this is an error - standard array indexing takes precedence"
   ]
  },
  {
   "cell_type": "code",
   "execution_count": 12,
   "metadata": {},
   "outputs": [
    {
     "data": {
      "text/plain": [
       "234"
      ]
     },
     "execution_count": 12,
     "metadata": {},
     "output_type": "execute_result"
    }
   ],
   "source": [
    "using NamedArrays\n",
    "ft[Name(3), Name(5)] # you have to use Name() from NamedArrays"
   ]
  },
  {
   "cell_type": "markdown",
   "metadata": {},
   "source": [
    "### DataFramesMeta - working on `DataFrame`"
   ]
  },
  {
   "cell_type": "code",
   "execution_count": 13,
   "metadata": {},
   "outputs": [
    {
     "data": {
      "text/html": [
       "<table class=\"data-frame\"><thead><tr><th></th><th>x</th><th>y</th><th>z</th></tr><tr><th></th><th>Int64</th><th>Char</th><th>Bool</th></tr></thead><tbody><p>8 rows × 3 columns</p><tr><th>1</th><td>1</td><td>'a'</td><td>1</td></tr><tr><th>2</th><td>2</td><td>'b'</td><td>0</td></tr><tr><th>3</th><td>3</td><td>'c'</td><td>1</td></tr><tr><th>4</th><td>4</td><td>'d'</td><td>0</td></tr><tr><th>5</th><td>5</td><td>'e'</td><td>1</td></tr><tr><th>6</th><td>6</td><td>'f'</td><td>0</td></tr><tr><th>7</th><td>7</td><td>'g'</td><td>1</td></tr><tr><th>8</th><td>8</td><td>'h'</td><td>0</td></tr></tbody></table>"
      ],
      "text/latex": [
       "\\begin{tabular}{r|ccc}\n",
       "\t& x & y & z\\\\\n",
       "\t\\hline\n",
       "\t& Int64 & Char & Bool\\\\\n",
       "\t\\hline\n",
       "\t1 & 1 & 'a' & 1 \\\\\n",
       "\t2 & 2 & 'b' & 0 \\\\\n",
       "\t3 & 3 & 'c' & 1 \\\\\n",
       "\t4 & 4 & 'd' & 0 \\\\\n",
       "\t5 & 5 & 'e' & 1 \\\\\n",
       "\t6 & 6 & 'f' & 0 \\\\\n",
       "\t7 & 7 & 'g' & 1 \\\\\n",
       "\t8 & 8 & 'h' & 0 \\\\\n",
       "\\end{tabular}\n"
      ],
      "text/plain": [
       "8×3 DataFrame\n",
       "│ Row │ x     │ y    │ z    │\n",
       "│     │ \u001b[90mInt64\u001b[39m │ \u001b[90mChar\u001b[39m │ \u001b[90mBool\u001b[39m │\n",
       "├─────┼───────┼──────┼──────┤\n",
       "│ 1   │ 1     │ 'a'  │ 1    │\n",
       "│ 2   │ 2     │ 'b'  │ 0    │\n",
       "│ 3   │ 3     │ 'c'  │ 1    │\n",
       "│ 4   │ 4     │ 'd'  │ 0    │\n",
       "│ 5   │ 5     │ 'e'  │ 1    │\n",
       "│ 6   │ 6     │ 'f'  │ 0    │\n",
       "│ 7   │ 7     │ 'g'  │ 1    │\n",
       "│ 8   │ 8     │ 'h'  │ 0    │"
      ]
     },
     "execution_count": 13,
     "metadata": {},
     "output_type": "execute_result"
    }
   ],
   "source": [
    "using DataFramesMeta\n",
    "df = DataFrame(x=1:8, y='a':'h', z=repeat([true,false], outer=4))"
   ]
  },
  {
   "cell_type": "code",
   "execution_count": 14,
   "metadata": {},
   "outputs": [
    {
     "data": {
      "text/plain": [
       "8-element Array{Int64,1}:\n",
       " 2\n",
       " 2\n",
       " 4\n",
       " 4\n",
       " 6\n",
       " 6\n",
       " 8\n",
       " 8"
      ]
     },
     "execution_count": 14,
     "metadata": {},
     "output_type": "execute_result"
    }
   ],
   "source": [
    "@with(df, :x+:z) # expressions with columns of DataFrame"
   ]
  },
  {
   "cell_type": "code",
   "execution_count": 15,
   "metadata": {},
   "outputs": [
    {
     "data": {
      "text/plain": [
       "8-element Array{Char,1}:\n",
       " 'b'\n",
       " 'e'\n",
       " 'h'\n",
       " 'k'\n",
       " 'g'\n",
       " 'j'\n",
       " 'm'\n",
       " 'p'"
      ]
     },
     "execution_count": 15,
     "metadata": {},
     "output_type": "execute_result"
    }
   ],
   "source": [
    "@with df begin # you can define code blocks\n",
    "    a = :x[:z]\n",
    "    b = :x[.!:z]\n",
    "    :y + [a; b]\n",
    "end"
   ]
  },
  {
   "cell_type": "code",
   "execution_count": 16,
   "metadata": {},
   "outputs": [
    {
     "ename": "UndefVarError",
     "evalue": "UndefVarError: a not defined",
     "output_type": "error",
     "traceback": [
      "UndefVarError: a not defined",
      "",
      "Stacktrace:",
      " [1] top-level scope at In[16]:1"
     ]
    }
   ],
   "source": [
    "a # @with creates hard scope so variables do not leak out"
   ]
  },
  {
   "cell_type": "code",
   "execution_count": 17,
   "metadata": {},
   "outputs": [
    {
     "data": {
      "text/plain": [
       "3-element BitArray{1}:\n",
       " 1\n",
       " 0\n",
       " 0"
      ]
     },
     "execution_count": 17,
     "metadata": {},
     "output_type": "execute_result"
    }
   ],
   "source": [
    "df2 = DataFrame(a = [:a, :b, :c])\n",
    "@with(df2, :a .== ^(:a)) # sometimes we want to work on a raw Symbol, ^() escapes it"
   ]
  },
  {
   "cell_type": "code",
   "execution_count": 18,
   "metadata": {},
   "outputs": [
    {
     "data": {
      "text/html": [
       "<table class=\"data-frame\"><thead><tr><th></th><th>y</th><th>z</th></tr><tr><th></th><th>Int64</th><th>Int64</th></tr></thead><tbody><p>3 rows × 2 columns</p><tr><th>1</th><td>4</td><td>7</td></tr><tr><th>2</th><td>5</td><td>8</td></tr><tr><th>3</th><td>6</td><td>9</td></tr></tbody></table>"
      ],
      "text/latex": [
       "\\begin{tabular}{r|cc}\n",
       "\t& y & z\\\\\n",
       "\t\\hline\n",
       "\t& Int64 & Int64\\\\\n",
       "\t\\hline\n",
       "\t1 & 4 & 7 \\\\\n",
       "\t2 & 5 & 8 \\\\\n",
       "\t3 & 6 & 9 \\\\\n",
       "\\end{tabular}\n"
      ],
      "text/plain": [
       "3×2 DataFrame\n",
       "│ Row │ y     │ z     │\n",
       "│     │ \u001b[90mInt64\u001b[39m │ \u001b[90mInt64\u001b[39m │\n",
       "├─────┼───────┼───────┤\n",
       "│ 1   │ 4     │ 7     │\n",
       "│ 2   │ 5     │ 8     │\n",
       "│ 3   │ 6     │ 9     │"
      ]
     },
     "execution_count": 18,
     "metadata": {},
     "output_type": "execute_result"
    }
   ],
   "source": [
    "df2 = DataFrame(x=1:3, y=4:6, z=7:9)\n",
    "@with(df2, cols(2:3)) # cols(expression) selects given columns"
   ]
  },
  {
   "cell_type": "code",
   "execution_count": 19,
   "metadata": {},
   "outputs": [
    {
     "data": {
      "text/html": [
       "<table class=\"data-frame\"><thead><tr><th></th><th>x</th><th>y</th><th>z</th></tr><tr><th></th><th>Int64</th><th>Char</th><th>Bool</th></tr></thead><tbody><p>2 rows × 3 columns</p><tr><th>1</th><td>1</td><td>'a'</td><td>1</td></tr><tr><th>2</th><td>3</td><td>'c'</td><td>1</td></tr></tbody></table>"
      ],
      "text/latex": [
       "\\begin{tabular}{r|ccc}\n",
       "\t& x & y & z\\\\\n",
       "\t\\hline\n",
       "\t& Int64 & Char & Bool\\\\\n",
       "\t\\hline\n",
       "\t1 & 1 & 'a' & 1 \\\\\n",
       "\t2 & 3 & 'c' & 1 \\\\\n",
       "\\end{tabular}\n"
      ],
      "text/plain": [
       "2×3 DataFrame\n",
       "│ Row │ x     │ y    │ z    │\n",
       "│     │ \u001b[90mInt64\u001b[39m │ \u001b[90mChar\u001b[39m │ \u001b[90mBool\u001b[39m │\n",
       "├─────┼───────┼──────┼──────┤\n",
       "│ 1   │ 1     │ 'a'  │ 1    │\n",
       "│ 2   │ 3     │ 'c'  │ 1    │"
      ]
     },
     "execution_count": 19,
     "metadata": {},
     "output_type": "execute_result"
    }
   ],
   "source": [
    "@where(df, :x .< 4, :z .== true) # a very useful macro for filtering"
   ]
  },
  {
   "cell_type": "code",
   "execution_count": 20,
   "metadata": {},
   "outputs": [
    {
     "data": {
      "text/html": [
       "<table class=\"data-frame\"><thead><tr><th></th><th>x</th><th>y</th><th>z</th></tr><tr><th></th><th>Int64</th><th>Int64</th><th>Char</th></tr></thead><tbody><p>8 rows × 3 columns</p><tr><th>1</th><td>1</td><td>2</td><td>'a'</td></tr><tr><th>2</th><td>2</td><td>4</td><td>'b'</td></tr><tr><th>3</th><td>3</td><td>6</td><td>'c'</td></tr><tr><th>4</th><td>4</td><td>8</td><td>'d'</td></tr><tr><th>5</th><td>5</td><td>10</td><td>'e'</td></tr><tr><th>6</th><td>6</td><td>12</td><td>'f'</td></tr><tr><th>7</th><td>7</td><td>14</td><td>'g'</td></tr><tr><th>8</th><td>8</td><td>16</td><td>'h'</td></tr></tbody></table>"
      ],
      "text/latex": [
       "\\begin{tabular}{r|ccc}\n",
       "\t& x & y & z\\\\\n",
       "\t\\hline\n",
       "\t& Int64 & Int64 & Char\\\\\n",
       "\t\\hline\n",
       "\t1 & 1 & 2 & 'a' \\\\\n",
       "\t2 & 2 & 4 & 'b' \\\\\n",
       "\t3 & 3 & 6 & 'c' \\\\\n",
       "\t4 & 4 & 8 & 'd' \\\\\n",
       "\t5 & 5 & 10 & 'e' \\\\\n",
       "\t6 & 6 & 12 & 'f' \\\\\n",
       "\t7 & 7 & 14 & 'g' \\\\\n",
       "\t8 & 8 & 16 & 'h' \\\\\n",
       "\\end{tabular}\n"
      ],
      "text/plain": [
       "8×3 DataFrame\n",
       "│ Row │ x     │ y     │ z    │\n",
       "│     │ \u001b[90mInt64\u001b[39m │ \u001b[90mInt64\u001b[39m │ \u001b[90mChar\u001b[39m │\n",
       "├─────┼───────┼───────┼──────┤\n",
       "│ 1   │ 1     │ 2     │ 'a'  │\n",
       "│ 2   │ 2     │ 4     │ 'b'  │\n",
       "│ 3   │ 3     │ 6     │ 'c'  │\n",
       "│ 4   │ 4     │ 8     │ 'd'  │\n",
       "│ 5   │ 5     │ 10    │ 'e'  │\n",
       "│ 6   │ 6     │ 12    │ 'f'  │\n",
       "│ 7   │ 7     │ 14    │ 'g'  │\n",
       "│ 8   │ 8     │ 16    │ 'h'  │"
      ]
     },
     "execution_count": 20,
     "metadata": {},
     "output_type": "execute_result"
    }
   ],
   "source": [
    "@select(df, :x, y = 2*:x, z=:y) # create a new DataFrame based on the old one"
   ]
  },
  {
   "cell_type": "code",
   "execution_count": 21,
   "metadata": {},
   "outputs": [
    {
     "data": {
      "text/html": [
       "<table class=\"data-frame\"><thead><tr><th></th><th>x</th><th>y</th><th>z</th></tr><tr><th></th><th>Int64</th><th>Int64</th><th>Bool</th></tr></thead><tbody><p>8 rows × 3 columns</p><tr><th>1</th><td>2</td><td>1</td><td>1</td></tr><tr><th>2</th><td>4</td><td>2</td><td>0</td></tr><tr><th>3</th><td>6</td><td>3</td><td>1</td></tr><tr><th>4</th><td>8</td><td>4</td><td>0</td></tr><tr><th>5</th><td>10</td><td>5</td><td>1</td></tr><tr><th>6</th><td>12</td><td>6</td><td>0</td></tr><tr><th>7</th><td>14</td><td>7</td><td>1</td></tr><tr><th>8</th><td>16</td><td>8</td><td>0</td></tr></tbody></table>"
      ],
      "text/latex": [
       "\\begin{tabular}{r|ccc}\n",
       "\t& x & y & z\\\\\n",
       "\t\\hline\n",
       "\t& Int64 & Int64 & Bool\\\\\n",
       "\t\\hline\n",
       "\t1 & 2 & 1 & 1 \\\\\n",
       "\t2 & 4 & 2 & 0 \\\\\n",
       "\t3 & 6 & 3 & 1 \\\\\n",
       "\t4 & 8 & 4 & 0 \\\\\n",
       "\t5 & 10 & 5 & 1 \\\\\n",
       "\t6 & 12 & 6 & 0 \\\\\n",
       "\t7 & 14 & 7 & 1 \\\\\n",
       "\t8 & 16 & 8 & 0 \\\\\n",
       "\\end{tabular}\n"
      ],
      "text/plain": [
       "8×3 DataFrame\n",
       "│ Row │ x     │ y     │ z    │\n",
       "│     │ \u001b[90mInt64\u001b[39m │ \u001b[90mInt64\u001b[39m │ \u001b[90mBool\u001b[39m │\n",
       "├─────┼───────┼───────┼──────┤\n",
       "│ 1   │ 2     │ 1     │ 1    │\n",
       "│ 2   │ 4     │ 2     │ 0    │\n",
       "│ 3   │ 6     │ 3     │ 1    │\n",
       "│ 4   │ 8     │ 4     │ 0    │\n",
       "│ 5   │ 10    │ 5     │ 1    │\n",
       "│ 6   │ 12    │ 6     │ 0    │\n",
       "│ 7   │ 14    │ 7     │ 1    │\n",
       "│ 8   │ 16    │ 8     │ 0    │"
      ]
     },
     "execution_count": 21,
     "metadata": {},
     "output_type": "execute_result"
    }
   ],
   "source": [
    "@transform(df, x = 2*:x, y=:x) # create a new DataFrame adding columns based on the old one"
   ]
  },
  {
   "cell_type": "code",
   "execution_count": 22,
   "metadata": {},
   "outputs": [
    {
     "data": {
      "text/html": [
       "<table class=\"data-frame\"><thead><tr><th></th><th>x</th><th>y</th><th>z</th></tr><tr><th></th><th>Int64</th><th>Char</th><th>Bool</th></tr></thead><tbody><p>8 rows × 3 columns</p><tr><th>1</th><td>8</td><td>'h'</td><td>0</td></tr><tr><th>2</th><td>6</td><td>'f'</td><td>0</td></tr><tr><th>3</th><td>4</td><td>'d'</td><td>0</td></tr><tr><th>4</th><td>2</td><td>'b'</td><td>0</td></tr><tr><th>5</th><td>7</td><td>'g'</td><td>1</td></tr><tr><th>6</th><td>5</td><td>'e'</td><td>1</td></tr><tr><th>7</th><td>3</td><td>'c'</td><td>1</td></tr><tr><th>8</th><td>1</td><td>'a'</td><td>1</td></tr></tbody></table>"
      ],
      "text/latex": [
       "\\begin{tabular}{r|ccc}\n",
       "\t& x & y & z\\\\\n",
       "\t\\hline\n",
       "\t& Int64 & Char & Bool\\\\\n",
       "\t\\hline\n",
       "\t1 & 8 & 'h' & 0 \\\\\n",
       "\t2 & 6 & 'f' & 0 \\\\\n",
       "\t3 & 4 & 'd' & 0 \\\\\n",
       "\t4 & 2 & 'b' & 0 \\\\\n",
       "\t5 & 7 & 'g' & 1 \\\\\n",
       "\t6 & 5 & 'e' & 1 \\\\\n",
       "\t7 & 3 & 'c' & 1 \\\\\n",
       "\t8 & 1 & 'a' & 1 \\\\\n",
       "\\end{tabular}\n"
      ],
      "text/plain": [
       "8×3 DataFrame\n",
       "│ Row │ x     │ y    │ z    │\n",
       "│     │ \u001b[90mInt64\u001b[39m │ \u001b[90mChar\u001b[39m │ \u001b[90mBool\u001b[39m │\n",
       "├─────┼───────┼──────┼──────┤\n",
       "│ 1   │ 8     │ 'h'  │ 0    │\n",
       "│ 2   │ 6     │ 'f'  │ 0    │\n",
       "│ 3   │ 4     │ 'd'  │ 0    │\n",
       "│ 4   │ 2     │ 'b'  │ 0    │\n",
       "│ 5   │ 7     │ 'g'  │ 1    │\n",
       "│ 6   │ 5     │ 'e'  │ 1    │\n",
       "│ 7   │ 3     │ 'c'  │ 1    │\n",
       "│ 8   │ 1     │ 'a'  │ 1    │"
      ]
     },
     "execution_count": 22,
     "metadata": {},
     "output_type": "execute_result"
    }
   ],
   "source": [
    "@orderby(df, :z, -:x) # sorting into a new data frame, less powerful than sort, but lightweight"
   ]
  },
  {
   "cell_type": "code",
   "execution_count": 23,
   "metadata": {},
   "outputs": [
    {
     "data": {
      "text/html": [
       "<table class=\"data-frame\"><thead><tr><th></th><th>z</th><th>x</th><th>x²</th></tr><tr><th></th><th>Bool</th><th>Int64</th><th>Int64</th></tr></thead><tbody><p>4 rows × 3 columns</p><tr><th>1</th><td>0</td><td>2</td><td>4</td></tr><tr><th>2</th><td>0</td><td>4</td><td>16</td></tr><tr><th>3</th><td>1</td><td>1</td><td>1</td></tr><tr><th>4</th><td>1</td><td>3</td><td>9</td></tr></tbody></table>"
      ],
      "text/latex": [
       "\\begin{tabular}{r|ccc}\n",
       "\t& z & x & x²\\\\\n",
       "\t\\hline\n",
       "\t& Bool & Int64 & Int64\\\\\n",
       "\t\\hline\n",
       "\t1 & 0 & 2 & 4 \\\\\n",
       "\t2 & 0 & 4 & 16 \\\\\n",
       "\t3 & 1 & 1 & 1 \\\\\n",
       "\t4 & 1 & 3 & 9 \\\\\n",
       "\\end{tabular}\n"
      ],
      "text/plain": [
       "4×3 DataFrame\n",
       "│ Row │ z    │ x     │ x²    │\n",
       "│     │ \u001b[90mBool\u001b[39m │ \u001b[90mInt64\u001b[39m │ \u001b[90mInt64\u001b[39m │\n",
       "├─────┼──────┼───────┼───────┤\n",
       "│ 1   │ 0    │ 2     │ 4     │\n",
       "│ 2   │ 0    │ 4     │ 16    │\n",
       "│ 3   │ 1    │ 1     │ 1     │\n",
       "│ 4   │ 1    │ 3     │ 9     │"
      ]
     },
     "execution_count": 23,
     "metadata": {},
     "output_type": "execute_result"
    }
   ],
   "source": [
    "@linq df |> # chaining of operations on DataFrame\n",
    "    where(:x .< 5) |>\n",
    "    orderby(:z) |>\n",
    "    transform(x²=:x.^2) |>\n",
    "    select(:z, :x, :x²)"
   ]
  },
  {
   "cell_type": "markdown",
   "metadata": {},
   "source": [
    "### DataFramesMeta - working on grouped `DataFrame`"
   ]
  },
  {
   "cell_type": "code",
   "execution_count": 24,
   "metadata": {},
   "outputs": [
    {
     "data": {
      "text/html": [
       "<p><b>GroupedDataFrame with 4 groups based on key: b</b></p><p><i>First Group (3 rows): b = 'a'</i></p><table class=\"data-frame\"><thead><tr><th></th><th>a</th><th>b</th></tr><tr><th></th><th>Int64</th><th>Char</th></tr></thead><tbody><tr><th>1</th><td>1</td><td>'a'</td></tr><tr><th>2</th><td>5</td><td>'a'</td></tr><tr><th>3</th><td>9</td><td>'a'</td></tr></tbody></table><p>&vellip;</p><p><i>Last Group (3 rows): b = 'd'</i></p><table class=\"data-frame\"><thead><tr><th></th><th>a</th><th>b</th></tr><tr><th></th><th>Int64</th><th>Char</th></tr></thead><tbody><tr><th>1</th><td>4</td><td>'d'</td></tr><tr><th>2</th><td>8</td><td>'d'</td></tr><tr><th>3</th><td>12</td><td>'d'</td></tr></tbody></table>"
      ],
      "text/latex": [
       "GroupedDataFrame with 4 groups based on key: b\n",
       "\n",
       "First Group (3 rows): b = 'a'\n",
       "\n",
       "\\begin{tabular}{r|cc}\n",
       "\t& a & b\\\\\n",
       "\t\\hline\n",
       "\t& Int64 & Char\\\\\n",
       "\t\\hline\n",
       "\t1 & 1 & 'a' \\\\\n",
       "\t2 & 5 & 'a' \\\\\n",
       "\t3 & 9 & 'a' \\\\\n",
       "\\end{tabular}\n",
       "\n",
       "$\\dots$\n",
       "\n",
       "Last Group (3 rows): b = 'd'\n",
       "\n",
       "\\begin{tabular}{r|cc}\n",
       "\t& a & b\\\\\n",
       "\t\\hline\n",
       "\t& Int64 & Char\\\\\n",
       "\t\\hline\n",
       "\t1 & 4 & 'd' \\\\\n",
       "\t2 & 8 & 'd' \\\\\n",
       "\t3 & 12 & 'd' \\\\\n",
       "\\end{tabular}\n"
      ],
      "text/plain": [
       "GroupedDataFrame with 4 groups based on key: b\n",
       "First Group (3 rows): b = 'a'\n",
       "│ Row │ a     │ b    │\n",
       "│     │ \u001b[90mInt64\u001b[39m │ \u001b[90mChar\u001b[39m │\n",
       "├─────┼───────┼──────┤\n",
       "│ 1   │ 1     │ 'a'  │\n",
       "│ 2   │ 5     │ 'a'  │\n",
       "│ 3   │ 9     │ 'a'  │\n",
       "⋮\n",
       "Last Group (3 rows): b = 'd'\n",
       "│ Row │ a     │ b    │\n",
       "│     │ \u001b[90mInt64\u001b[39m │ \u001b[90mChar\u001b[39m │\n",
       "├─────┼───────┼──────┤\n",
       "│ 1   │ 4     │ 'd'  │\n",
       "│ 2   │ 8     │ 'd'  │\n",
       "│ 3   │ 12    │ 'd'  │"
      ]
     },
     "execution_count": 24,
     "metadata": {},
     "output_type": "execute_result"
    }
   ],
   "source": [
    "df = DataFrame(a = 1:12, b = repeat('a':'d', outer=3))\n",
    "g = groupby(df, :b)"
   ]
  },
  {
   "cell_type": "code",
   "execution_count": 25,
   "metadata": {},
   "outputs": [
    {
     "data": {
      "text/html": [
       "<table class=\"data-frame\"><thead><tr><th></th><th>b</th><th>first</th><th>last</th><th>mean</th></tr><tr><th></th><th>Char</th><th>Int64</th><th>Int64</th><th>Float64</th></tr></thead><tbody><p>4 rows × 4 columns</p><tr><th>1</th><td>'a'</td><td>1</td><td>9</td><td>5.0</td></tr><tr><th>2</th><td>'b'</td><td>2</td><td>10</td><td>6.0</td></tr><tr><th>3</th><td>'c'</td><td>3</td><td>11</td><td>7.0</td></tr><tr><th>4</th><td>'d'</td><td>4</td><td>12</td><td>8.0</td></tr></tbody></table>"
      ],
      "text/latex": [
       "\\begin{tabular}{r|cccc}\n",
       "\t& b & first & last & mean\\\\\n",
       "\t\\hline\n",
       "\t& Char & Int64 & Int64 & Float64\\\\\n",
       "\t\\hline\n",
       "\t1 & 'a' & 1 & 9 & 5.0 \\\\\n",
       "\t2 & 'b' & 2 & 10 & 6.0 \\\\\n",
       "\t3 & 'c' & 3 & 11 & 7.0 \\\\\n",
       "\t4 & 'd' & 4 & 12 & 8.0 \\\\\n",
       "\\end{tabular}\n"
      ],
      "text/plain": [
       "4×4 DataFrame\n",
       "│ Row │ b    │ first │ last  │ mean    │\n",
       "│     │ \u001b[90mChar\u001b[39m │ \u001b[90mInt64\u001b[39m │ \u001b[90mInt64\u001b[39m │ \u001b[90mFloat64\u001b[39m │\n",
       "├─────┼──────┼───────┼───────┼─────────┤\n",
       "│ 1   │ 'a'  │ 1     │ 9     │ 5.0     │\n",
       "│ 2   │ 'b'  │ 2     │ 10    │ 6.0     │\n",
       "│ 3   │ 'c'  │ 3     │ 11    │ 7.0     │\n",
       "│ 4   │ 'd'  │ 4     │ 12    │ 8.0     │"
      ]
     },
     "execution_count": 25,
     "metadata": {},
     "output_type": "execute_result"
    }
   ],
   "source": [
    "using Statistics\n",
    "@by(df, :b, first=first(:a), last=last(:a), mean=mean(:a)) # similar to DataFrames"
   ]
  },
  {
   "cell_type": "code",
   "execution_count": 26,
   "metadata": {},
   "outputs": [
    {
     "data": {
      "text/html": [
       "<table class=\"data-frame\"><thead><tr><th></th><th>b</th><th>first</th><th>last</th><th>mean</th></tr><tr><th></th><th>Char</th><th>Int64</th><th>Int64</th><th>Float64</th></tr></thead><tbody><p>4 rows × 4 columns</p><tr><th>1</th><td>'a'</td><td>1</td><td>9</td><td>5.0</td></tr><tr><th>2</th><td>'b'</td><td>2</td><td>10</td><td>6.0</td></tr><tr><th>3</th><td>'c'</td><td>3</td><td>11</td><td>7.0</td></tr><tr><th>4</th><td>'d'</td><td>4</td><td>12</td><td>8.0</td></tr></tbody></table>"
      ],
      "text/latex": [
       "\\begin{tabular}{r|cccc}\n",
       "\t& b & first & last & mean\\\\\n",
       "\t\\hline\n",
       "\t& Char & Int64 & Int64 & Float64\\\\\n",
       "\t\\hline\n",
       "\t1 & 'a' & 1 & 9 & 5.0 \\\\\n",
       "\t2 & 'b' & 2 & 10 & 6.0 \\\\\n",
       "\t3 & 'c' & 3 & 11 & 7.0 \\\\\n",
       "\t4 & 'd' & 4 & 12 & 8.0 \\\\\n",
       "\\end{tabular}\n"
      ],
      "text/plain": [
       "4×4 DataFrame\n",
       "│ Row │ b    │ first │ last  │ mean    │\n",
       "│     │ \u001b[90mChar\u001b[39m │ \u001b[90mInt64\u001b[39m │ \u001b[90mInt64\u001b[39m │ \u001b[90mFloat64\u001b[39m │\n",
       "├─────┼──────┼───────┼───────┼─────────┤\n",
       "│ 1   │ 'a'  │ 1     │ 9     │ 5.0     │\n",
       "│ 2   │ 'b'  │ 2     │ 10    │ 6.0     │\n",
       "│ 3   │ 'c'  │ 3     │ 11    │ 7.0     │\n",
       "│ 4   │ 'd'  │ 4     │ 12    │ 8.0     │"
      ]
     },
     "execution_count": 26,
     "metadata": {},
     "output_type": "execute_result"
    }
   ],
   "source": [
    "@based_on(g, first=first(:a), last=last(:a), mean=mean(:a)) # the same as by but on grouped DataFrame"
   ]
  },
  {
   "cell_type": "code",
   "execution_count": 27,
   "metadata": {},
   "outputs": [
    {
     "data": {
      "text/html": [
       "<p><b>GroupedDataFrame with 2 groups based on key: b</b></p><p><i>First Group (3 rows): b = 'c'</i></p><table class=\"data-frame\"><thead><tr><th></th><th>a</th><th>b</th></tr><tr><th></th><th>Int64</th><th>Char</th></tr></thead><tbody><tr><th>1</th><td>3</td><td>'c'</td></tr><tr><th>2</th><td>7</td><td>'c'</td></tr><tr><th>3</th><td>11</td><td>'c'</td></tr></tbody></table><p>&vellip;</p><p><i>Last Group (3 rows): b = 'd'</i></p><table class=\"data-frame\"><thead><tr><th></th><th>a</th><th>b</th></tr><tr><th></th><th>Int64</th><th>Char</th></tr></thead><tbody><tr><th>1</th><td>4</td><td>'d'</td></tr><tr><th>2</th><td>8</td><td>'d'</td></tr><tr><th>3</th><td>12</td><td>'d'</td></tr></tbody></table>"
      ],
      "text/latex": [
       "GroupedDataFrame with 2 groups based on key: b\n",
       "\n",
       "First Group (3 rows): b = 'c'\n",
       "\n",
       "\\begin{tabular}{r|cc}\n",
       "\t& a & b\\\\\n",
       "\t\\hline\n",
       "\t& Int64 & Char\\\\\n",
       "\t\\hline\n",
       "\t1 & 3 & 'c' \\\\\n",
       "\t2 & 7 & 'c' \\\\\n",
       "\t3 & 11 & 'c' \\\\\n",
       "\\end{tabular}\n",
       "\n",
       "$\\dots$\n",
       "\n",
       "Last Group (3 rows): b = 'd'\n",
       "\n",
       "\\begin{tabular}{r|cc}\n",
       "\t& a & b\\\\\n",
       "\t\\hline\n",
       "\t& Int64 & Char\\\\\n",
       "\t\\hline\n",
       "\t1 & 4 & 'd' \\\\\n",
       "\t2 & 8 & 'd' \\\\\n",
       "\t3 & 12 & 'd' \\\\\n",
       "\\end{tabular}\n"
      ],
      "text/plain": [
       "GroupedDataFrame with 2 groups based on key: b\n",
       "First Group (3 rows): b = 'c'\n",
       "│ Row │ a     │ b    │\n",
       "│     │ \u001b[90mInt64\u001b[39m │ \u001b[90mChar\u001b[39m │\n",
       "├─────┼───────┼──────┤\n",
       "│ 1   │ 3     │ 'c'  │\n",
       "│ 2   │ 7     │ 'c'  │\n",
       "│ 3   │ 11    │ 'c'  │\n",
       "⋮\n",
       "Last Group (3 rows): b = 'd'\n",
       "│ Row │ a     │ b    │\n",
       "│     │ \u001b[90mInt64\u001b[39m │ \u001b[90mChar\u001b[39m │\n",
       "├─────┼───────┼──────┤\n",
       "│ 1   │ 4     │ 'd'  │\n",
       "│ 2   │ 8     │ 'd'  │\n",
       "│ 3   │ 12    │ 'd'  │"
      ]
     },
     "execution_count": 27,
     "metadata": {},
     "output_type": "execute_result"
    }
   ],
   "source": [
    "@where(g, mean(:a) > 6.5) # filter gropus on aggregate conditions"
   ]
  },
  {
   "cell_type": "code",
   "execution_count": 28,
   "metadata": {},
   "outputs": [
    {
     "data": {
      "text/html": [
       "<p><b>GroupedDataFrame with 4 groups based on key: b</b></p><p><i>First Group (3 rows): b = 'd'</i></p><table class=\"data-frame\"><thead><tr><th></th><th>a</th><th>b</th></tr><tr><th></th><th>Int64</th><th>Char</th></tr></thead><tbody><tr><th>1</th><td>4</td><td>'d'</td></tr><tr><th>2</th><td>8</td><td>'d'</td></tr><tr><th>3</th><td>12</td><td>'d'</td></tr></tbody></table><p>&vellip;</p><p><i>Last Group (3 rows): b = 'a'</i></p><table class=\"data-frame\"><thead><tr><th></th><th>a</th><th>b</th></tr><tr><th></th><th>Int64</th><th>Char</th></tr></thead><tbody><tr><th>1</th><td>1</td><td>'a'</td></tr><tr><th>2</th><td>5</td><td>'a'</td></tr><tr><th>3</th><td>9</td><td>'a'</td></tr></tbody></table>"
      ],
      "text/latex": [
       "GroupedDataFrame with 4 groups based on key: b\n",
       "\n",
       "First Group (3 rows): b = 'd'\n",
       "\n",
       "\\begin{tabular}{r|cc}\n",
       "\t& a & b\\\\\n",
       "\t\\hline\n",
       "\t& Int64 & Char\\\\\n",
       "\t\\hline\n",
       "\t1 & 4 & 'd' \\\\\n",
       "\t2 & 8 & 'd' \\\\\n",
       "\t3 & 12 & 'd' \\\\\n",
       "\\end{tabular}\n",
       "\n",
       "$\\dots$\n",
       "\n",
       "Last Group (3 rows): b = 'a'\n",
       "\n",
       "\\begin{tabular}{r|cc}\n",
       "\t& a & b\\\\\n",
       "\t\\hline\n",
       "\t& Int64 & Char\\\\\n",
       "\t\\hline\n",
       "\t1 & 1 & 'a' \\\\\n",
       "\t2 & 5 & 'a' \\\\\n",
       "\t3 & 9 & 'a' \\\\\n",
       "\\end{tabular}\n"
      ],
      "text/plain": [
       "GroupedDataFrame with 4 groups based on key: b\n",
       "First Group (3 rows): b = 'd'\n",
       "│ Row │ a     │ b    │\n",
       "│     │ \u001b[90mInt64\u001b[39m │ \u001b[90mChar\u001b[39m │\n",
       "├─────┼───────┼──────┤\n",
       "│ 1   │ 4     │ 'd'  │\n",
       "│ 2   │ 8     │ 'd'  │\n",
       "│ 3   │ 12    │ 'd'  │\n",
       "⋮\n",
       "Last Group (3 rows): b = 'a'\n",
       "│ Row │ a     │ b    │\n",
       "│     │ \u001b[90mInt64\u001b[39m │ \u001b[90mChar\u001b[39m │\n",
       "├─────┼───────┼──────┤\n",
       "│ 1   │ 1     │ 'a'  │\n",
       "│ 2   │ 5     │ 'a'  │\n",
       "│ 3   │ 9     │ 'a'  │"
      ]
     },
     "execution_count": 28,
     "metadata": {},
     "output_type": "execute_result"
    }
   ],
   "source": [
    "@orderby(g, -sum(:a)) # order groups on aggregate conditions"
   ]
  },
  {
   "cell_type": "code",
   "execution_count": 29,
   "metadata": {},
   "outputs": [
    {
     "data": {
      "text/html": [
       "<table class=\"data-frame\"><thead><tr><th></th><th>a</th><th>b</th><th>center</th><th>centered</th></tr><tr><th></th><th>Int64</th><th>Char</th><th>Float64</th><th>Float64</th></tr></thead><tbody><p>12 rows × 4 columns</p><tr><th>1</th><td>1</td><td>'a'</td><td>5.0</td><td>-4.0</td></tr><tr><th>2</th><td>5</td><td>'a'</td><td>5.0</td><td>0.0</td></tr><tr><th>3</th><td>9</td><td>'a'</td><td>5.0</td><td>4.0</td></tr><tr><th>4</th><td>2</td><td>'b'</td><td>6.0</td><td>-4.0</td></tr><tr><th>5</th><td>6</td><td>'b'</td><td>6.0</td><td>0.0</td></tr><tr><th>6</th><td>10</td><td>'b'</td><td>6.0</td><td>4.0</td></tr><tr><th>7</th><td>3</td><td>'c'</td><td>7.0</td><td>-4.0</td></tr><tr><th>8</th><td>7</td><td>'c'</td><td>7.0</td><td>0.0</td></tr><tr><th>9</th><td>11</td><td>'c'</td><td>7.0</td><td>4.0</td></tr><tr><th>10</th><td>4</td><td>'d'</td><td>8.0</td><td>-4.0</td></tr><tr><th>11</th><td>8</td><td>'d'</td><td>8.0</td><td>0.0</td></tr><tr><th>12</th><td>12</td><td>'d'</td><td>8.0</td><td>4.0</td></tr></tbody></table>"
      ],
      "text/latex": [
       "\\begin{tabular}{r|cccc}\n",
       "\t& a & b & center & centered\\\\\n",
       "\t\\hline\n",
       "\t& Int64 & Char & Float64 & Float64\\\\\n",
       "\t\\hline\n",
       "\t1 & 1 & 'a' & 5.0 & -4.0 \\\\\n",
       "\t2 & 5 & 'a' & 5.0 & 0.0 \\\\\n",
       "\t3 & 9 & 'a' & 5.0 & 4.0 \\\\\n",
       "\t4 & 2 & 'b' & 6.0 & -4.0 \\\\\n",
       "\t5 & 6 & 'b' & 6.0 & 0.0 \\\\\n",
       "\t6 & 10 & 'b' & 6.0 & 4.0 \\\\\n",
       "\t7 & 3 & 'c' & 7.0 & -4.0 \\\\\n",
       "\t8 & 7 & 'c' & 7.0 & 0.0 \\\\\n",
       "\t9 & 11 & 'c' & 7.0 & 4.0 \\\\\n",
       "\t10 & 4 & 'd' & 8.0 & -4.0 \\\\\n",
       "\t11 & 8 & 'd' & 8.0 & 0.0 \\\\\n",
       "\t12 & 12 & 'd' & 8.0 & 4.0 \\\\\n",
       "\\end{tabular}\n"
      ],
      "text/plain": [
       "12×4 DataFrame\n",
       "│ Row │ a     │ b    │ center  │ centered │\n",
       "│     │ \u001b[90mInt64\u001b[39m │ \u001b[90mChar\u001b[39m │ \u001b[90mFloat64\u001b[39m │ \u001b[90mFloat64\u001b[39m  │\n",
       "├─────┼───────┼──────┼─────────┼──────────┤\n",
       "│ 1   │ 1     │ 'a'  │ 5.0     │ -4.0     │\n",
       "│ 2   │ 5     │ 'a'  │ 5.0     │ 0.0      │\n",
       "│ 3   │ 9     │ 'a'  │ 5.0     │ 4.0      │\n",
       "│ 4   │ 2     │ 'b'  │ 6.0     │ -4.0     │\n",
       "│ 5   │ 6     │ 'b'  │ 6.0     │ 0.0      │\n",
       "│ 6   │ 10    │ 'b'  │ 6.0     │ 4.0      │\n",
       "│ 7   │ 3     │ 'c'  │ 7.0     │ -4.0     │\n",
       "│ 8   │ 7     │ 'c'  │ 7.0     │ 0.0      │\n",
       "│ 9   │ 11    │ 'c'  │ 7.0     │ 4.0      │\n",
       "│ 10  │ 4     │ 'd'  │ 8.0     │ -4.0     │\n",
       "│ 11  │ 8     │ 'd'  │ 8.0     │ 0.0      │\n",
       "│ 12  │ 12    │ 'd'  │ 8.0     │ 4.0      │"
      ]
     },
     "execution_count": 29,
     "metadata": {},
     "output_type": "execute_result"
    }
   ],
   "source": [
    "@transform(g, center = mean(:a), centered = :a .- mean(:a)) # perform operations within a group and return ungroped DataFrame"
   ]
  },
  {
   "cell_type": "code",
   "execution_count": 30,
   "metadata": {},
   "outputs": [
    {
     "data": {
      "text/html": [
       "<table class=\"data-frame\"><thead><tr><th></th><th>a</th><th>b</th></tr><tr><th></th><th>Int64</th><th>Char</th></tr></thead><tbody><p>12 rows × 2 columns</p><tr><th>1</th><td>1</td><td>'a'</td></tr><tr><th>2</th><td>5</td><td>'a'</td></tr><tr><th>3</th><td>9</td><td>'a'</td></tr><tr><th>4</th><td>2</td><td>'b'</td></tr><tr><th>5</th><td>6</td><td>'b'</td></tr><tr><th>6</th><td>10</td><td>'b'</td></tr><tr><th>7</th><td>3</td><td>'c'</td></tr><tr><th>8</th><td>7</td><td>'c'</td></tr><tr><th>9</th><td>11</td><td>'c'</td></tr><tr><th>10</th><td>4</td><td>'d'</td></tr><tr><th>11</th><td>8</td><td>'d'</td></tr><tr><th>12</th><td>12</td><td>'d'</td></tr></tbody></table>"
      ],
      "text/latex": [
       "\\begin{tabular}{r|cc}\n",
       "\t& a & b\\\\\n",
       "\t\\hline\n",
       "\t& Int64 & Char\\\\\n",
       "\t\\hline\n",
       "\t1 & 1 & 'a' \\\\\n",
       "\t2 & 5 & 'a' \\\\\n",
       "\t3 & 9 & 'a' \\\\\n",
       "\t4 & 2 & 'b' \\\\\n",
       "\t5 & 6 & 'b' \\\\\n",
       "\t6 & 10 & 'b' \\\\\n",
       "\t7 & 3 & 'c' \\\\\n",
       "\t8 & 7 & 'c' \\\\\n",
       "\t9 & 11 & 'c' \\\\\n",
       "\t10 & 4 & 'd' \\\\\n",
       "\t11 & 8 & 'd' \\\\\n",
       "\t12 & 12 & 'd' \\\\\n",
       "\\end{tabular}\n"
      ],
      "text/plain": [
       "12×2 DataFrame\n",
       "│ Row │ a     │ b    │\n",
       "│     │ \u001b[90mInt64\u001b[39m │ \u001b[90mChar\u001b[39m │\n",
       "├─────┼───────┼──────┤\n",
       "│ 1   │ 1     │ 'a'  │\n",
       "│ 2   │ 5     │ 'a'  │\n",
       "│ 3   │ 9     │ 'a'  │\n",
       "│ 4   │ 2     │ 'b'  │\n",
       "│ 5   │ 6     │ 'b'  │\n",
       "│ 6   │ 10    │ 'b'  │\n",
       "│ 7   │ 3     │ 'c'  │\n",
       "│ 8   │ 7     │ 'c'  │\n",
       "│ 9   │ 11    │ 'c'  │\n",
       "│ 10  │ 4     │ 'd'  │\n",
       "│ 11  │ 8     │ 'd'  │\n",
       "│ 12  │ 12    │ 'd'  │"
      ]
     },
     "execution_count": 30,
     "metadata": {},
     "output_type": "execute_result"
    }
   ],
   "source": [
    "DataFrame(g) # convinience equivalent to collect(g)"
   ]
  },
  {
   "cell_type": "code",
   "execution_count": 31,
   "metadata": {},
   "outputs": [
    {
     "data": {
      "text/html": [
       "<table class=\"data-frame\"><thead><tr><th></th><th>a</th><th>b</th></tr><tr><th></th><th>Int64</th><th>Char</th></tr></thead><tbody><p>12 rows × 2 columns</p><tr><th>1</th><td>1</td><td>'a'</td></tr><tr><th>2</th><td>5</td><td>'a'</td></tr><tr><th>3</th><td>9</td><td>'a'</td></tr><tr><th>4</th><td>2</td><td>'b'</td></tr><tr><th>5</th><td>6</td><td>'b'</td></tr><tr><th>6</th><td>10</td><td>'b'</td></tr><tr><th>7</th><td>3</td><td>'c'</td></tr><tr><th>8</th><td>7</td><td>'c'</td></tr><tr><th>9</th><td>11</td><td>'c'</td></tr><tr><th>10</th><td>4</td><td>'d'</td></tr><tr><th>11</th><td>8</td><td>'d'</td></tr><tr><th>12</th><td>12</td><td>'d'</td></tr></tbody></table>"
      ],
      "text/latex": [
       "\\begin{tabular}{r|cc}\n",
       "\t& a & b\\\\\n",
       "\t\\hline\n",
       "\t& Int64 & Char\\\\\n",
       "\t\\hline\n",
       "\t1 & 1 & 'a' \\\\\n",
       "\t2 & 5 & 'a' \\\\\n",
       "\t3 & 9 & 'a' \\\\\n",
       "\t4 & 2 & 'b' \\\\\n",
       "\t5 & 6 & 'b' \\\\\n",
       "\t6 & 10 & 'b' \\\\\n",
       "\t7 & 3 & 'c' \\\\\n",
       "\t8 & 7 & 'c' \\\\\n",
       "\t9 & 11 & 'c' \\\\\n",
       "\t10 & 4 & 'd' \\\\\n",
       "\t11 & 8 & 'd' \\\\\n",
       "\t12 & 12 & 'd' \\\\\n",
       "\\end{tabular}\n"
      ],
      "text/plain": [
       "12×2 DataFrame\n",
       "│ Row │ a     │ b    │\n",
       "│     │ \u001b[90mInt64\u001b[39m │ \u001b[90mChar\u001b[39m │\n",
       "├─────┼───────┼──────┤\n",
       "│ 1   │ 1     │ 'a'  │\n",
       "│ 2   │ 5     │ 'a'  │\n",
       "│ 3   │ 9     │ 'a'  │\n",
       "│ 4   │ 2     │ 'b'  │\n",
       "│ 5   │ 6     │ 'b'  │\n",
       "│ 6   │ 10    │ 'b'  │\n",
       "│ 7   │ 3     │ 'c'  │\n",
       "│ 8   │ 7     │ 'c'  │\n",
       "│ 9   │ 11    │ 'c'  │\n",
       "│ 10  │ 4     │ 'd'  │\n",
       "│ 11  │ 8     │ 'd'  │\n",
       "│ 12  │ 12    │ 'd'  │"
      ]
     },
     "execution_count": 31,
     "metadata": {},
     "output_type": "execute_result"
    }
   ],
   "source": [
    "@transform(g) # actually this is the same as DataFrame()"
   ]
  },
  {
   "cell_type": "code",
   "execution_count": 32,
   "metadata": {},
   "outputs": [
    {
     "data": {
      "text/html": [
       "<table class=\"data-frame\"><thead><tr><th></th><th>a</th><th>b</th></tr><tr><th></th><th>Int64</th><th>Char</th></tr></thead><tbody><p>6 rows × 2 columns</p><tr><th>1</th><td>3</td><td>'c'</td></tr><tr><th>2</th><td>7</td><td>'c'</td></tr><tr><th>3</th><td>11</td><td>'c'</td></tr><tr><th>4</th><td>4</td><td>'d'</td></tr><tr><th>5</th><td>8</td><td>'d'</td></tr><tr><th>6</th><td>12</td><td>'d'</td></tr></tbody></table>"
      ],
      "text/latex": [
       "\\begin{tabular}{r|cc}\n",
       "\t& a & b\\\\\n",
       "\t\\hline\n",
       "\t& Int64 & Char\\\\\n",
       "\t\\hline\n",
       "\t1 & 3 & 'c' \\\\\n",
       "\t2 & 7 & 'c' \\\\\n",
       "\t3 & 11 & 'c' \\\\\n",
       "\t4 & 4 & 'd' \\\\\n",
       "\t5 & 8 & 'd' \\\\\n",
       "\t6 & 12 & 'd' \\\\\n",
       "\\end{tabular}\n"
      ],
      "text/plain": [
       "6×2 DataFrame\n",
       "│ Row │ a     │ b    │\n",
       "│     │ \u001b[90mInt64\u001b[39m │ \u001b[90mChar\u001b[39m │\n",
       "├─────┼───────┼──────┤\n",
       "│ 1   │ 3     │ 'c'  │\n",
       "│ 2   │ 7     │ 'c'  │\n",
       "│ 3   │ 11    │ 'c'  │\n",
       "│ 4   │ 4     │ 'd'  │\n",
       "│ 5   │ 8     │ 'd'  │\n",
       "│ 6   │ 12    │ 'd'  │"
      ]
     },
     "execution_count": 32,
     "metadata": {},
     "output_type": "execute_result"
    }
   ],
   "source": [
    "@linq df |> groupby(:b) |> where(mean(:a) > 6.5) |> DataFrame # you can do chaining on grouped DataFrames as well"
   ]
  },
  {
   "cell_type": "markdown",
   "metadata": {},
   "source": [
    "### DataFramesMeta - rowwise operations on `DataFrame`"
   ]
  },
  {
   "cell_type": "code",
   "execution_count": 33,
   "metadata": {},
   "outputs": [
    {
     "data": {
      "text/html": [
       "<table class=\"data-frame\"><thead><tr><th></th><th>a</th><th>b</th></tr><tr><th></th><th>Int64</th><th>Int64</th></tr></thead><tbody><p>12 rows × 2 columns</p><tr><th>1</th><td>1</td><td>1</td></tr><tr><th>2</th><td>2</td><td>2</td></tr><tr><th>3</th><td>3</td><td>3</td></tr><tr><th>4</th><td>4</td><td>4</td></tr><tr><th>5</th><td>5</td><td>1</td></tr><tr><th>6</th><td>6</td><td>2</td></tr><tr><th>7</th><td>7</td><td>3</td></tr><tr><th>8</th><td>8</td><td>4</td></tr><tr><th>9</th><td>9</td><td>1</td></tr><tr><th>10</th><td>10</td><td>2</td></tr><tr><th>11</th><td>11</td><td>3</td></tr><tr><th>12</th><td>12</td><td>4</td></tr></tbody></table>"
      ],
      "text/latex": [
       "\\begin{tabular}{r|cc}\n",
       "\t& a & b\\\\\n",
       "\t\\hline\n",
       "\t& Int64 & Int64\\\\\n",
       "\t\\hline\n",
       "\t1 & 1 & 1 \\\\\n",
       "\t2 & 2 & 2 \\\\\n",
       "\t3 & 3 & 3 \\\\\n",
       "\t4 & 4 & 4 \\\\\n",
       "\t5 & 5 & 1 \\\\\n",
       "\t6 & 6 & 2 \\\\\n",
       "\t7 & 7 & 3 \\\\\n",
       "\t8 & 8 & 4 \\\\\n",
       "\t9 & 9 & 1 \\\\\n",
       "\t10 & 10 & 2 \\\\\n",
       "\t11 & 11 & 3 \\\\\n",
       "\t12 & 12 & 4 \\\\\n",
       "\\end{tabular}\n"
      ],
      "text/plain": [
       "12×2 DataFrame\n",
       "│ Row │ a     │ b     │\n",
       "│     │ \u001b[90mInt64\u001b[39m │ \u001b[90mInt64\u001b[39m │\n",
       "├─────┼───────┼───────┤\n",
       "│ 1   │ 1     │ 1     │\n",
       "│ 2   │ 2     │ 2     │\n",
       "│ 3   │ 3     │ 3     │\n",
       "│ 4   │ 4     │ 4     │\n",
       "│ 5   │ 5     │ 1     │\n",
       "│ 6   │ 6     │ 2     │\n",
       "│ 7   │ 7     │ 3     │\n",
       "│ 8   │ 8     │ 4     │\n",
       "│ 9   │ 9     │ 1     │\n",
       "│ 10  │ 10    │ 2     │\n",
       "│ 11  │ 11    │ 3     │\n",
       "│ 12  │ 12    │ 4     │"
      ]
     },
     "execution_count": 33,
     "metadata": {},
     "output_type": "execute_result"
    }
   ],
   "source": [
    "df = DataFrame(a = 1:12, b = repeat(1:4, outer=3))"
   ]
  },
  {
   "cell_type": "code",
   "execution_count": 34,
   "metadata": {},
   "outputs": [
    {
     "data": {
      "text/html": [
       "<table class=\"data-frame\"><thead><tr><th></th><th>a</th><th>b</th><th>x</th></tr><tr><th></th><th>Int64</th><th>Int64</th><th>String</th></tr></thead><tbody><p>12 rows × 3 columns</p><tr><th>1</th><td>1</td><td>1</td><td>no</td></tr><tr><th>2</th><td>2</td><td>2</td><td>no</td></tr><tr><th>3</th><td>3</td><td>3</td><td>no</td></tr><tr><th>4</th><td>4</td><td>4</td><td>no</td></tr><tr><th>5</th><td>5</td><td>1</td><td>no</td></tr><tr><th>6</th><td>6</td><td>2</td><td>no</td></tr><tr><th>7</th><td>7</td><td>3</td><td>no</td></tr><tr><th>8</th><td>8</td><td>4</td><td>yes</td></tr><tr><th>9</th><td>9</td><td>1</td><td>no</td></tr><tr><th>10</th><td>10</td><td>2</td><td>no</td></tr><tr><th>11</th><td>11</td><td>3</td><td>no</td></tr><tr><th>12</th><td>12</td><td>4</td><td>yes</td></tr></tbody></table>"
      ],
      "text/latex": [
       "\\begin{tabular}{r|ccc}\n",
       "\t& a & b & x\\\\\n",
       "\t\\hline\n",
       "\t& Int64 & Int64 & String\\\\\n",
       "\t\\hline\n",
       "\t1 & 1 & 1 & no \\\\\n",
       "\t2 & 2 & 2 & no \\\\\n",
       "\t3 & 3 & 3 & no \\\\\n",
       "\t4 & 4 & 4 & no \\\\\n",
       "\t5 & 5 & 1 & no \\\\\n",
       "\t6 & 6 & 2 & no \\\\\n",
       "\t7 & 7 & 3 & no \\\\\n",
       "\t8 & 8 & 4 & yes \\\\\n",
       "\t9 & 9 & 1 & no \\\\\n",
       "\t10 & 10 & 2 & no \\\\\n",
       "\t11 & 11 & 3 & no \\\\\n",
       "\t12 & 12 & 4 & yes \\\\\n",
       "\\end{tabular}\n"
      ],
      "text/plain": [
       "12×3 DataFrame\n",
       "│ Row │ a     │ b     │ x      │\n",
       "│     │ \u001b[90mInt64\u001b[39m │ \u001b[90mInt64\u001b[39m │ \u001b[90mString\u001b[39m │\n",
       "├─────┼───────┼───────┼────────┤\n",
       "│ 1   │ 1     │ 1     │ no     │\n",
       "│ 2   │ 2     │ 2     │ no     │\n",
       "│ 3   │ 3     │ 3     │ no     │\n",
       "│ 4   │ 4     │ 4     │ no     │\n",
       "│ 5   │ 5     │ 1     │ no     │\n",
       "│ 6   │ 6     │ 2     │ no     │\n",
       "│ 7   │ 7     │ 3     │ no     │\n",
       "│ 8   │ 8     │ 4     │ yes    │\n",
       "│ 9   │ 9     │ 1     │ no     │\n",
       "│ 10  │ 10    │ 2     │ no     │\n",
       "│ 11  │ 11    │ 3     │ no     │\n",
       "│ 12  │ 12    │ 4     │ yes    │"
      ]
     },
     "execution_count": 34,
     "metadata": {},
     "output_type": "execute_result"
    }
   ],
   "source": [
    "# such conditions are often needed but are complex to write\n",
    "@transform(df, x = ifelse.((:a .> 6) .& (:b .== 4), \"yes\", \"no\"))"
   ]
  },
  {
   "cell_type": "code",
   "execution_count": 35,
   "metadata": {},
   "outputs": [
    {
     "data": {
      "text/html": [
       "<table class=\"data-frame\"><thead><tr><th></th><th>a</th><th>b</th><th>x</th></tr><tr><th></th><th>Int64</th><th>Int64</th><th>String</th></tr></thead><tbody><p>12 rows × 3 columns</p><tr><th>1</th><td>1</td><td>1</td><td>no</td></tr><tr><th>2</th><td>2</td><td>2</td><td>no</td></tr><tr><th>3</th><td>3</td><td>3</td><td>no</td></tr><tr><th>4</th><td>4</td><td>4</td><td>no</td></tr><tr><th>5</th><td>5</td><td>1</td><td>no</td></tr><tr><th>6</th><td>6</td><td>2</td><td>no</td></tr><tr><th>7</th><td>7</td><td>3</td><td>no</td></tr><tr><th>8</th><td>8</td><td>4</td><td>yes</td></tr><tr><th>9</th><td>9</td><td>1</td><td>no</td></tr><tr><th>10</th><td>10</td><td>2</td><td>no</td></tr><tr><th>11</th><td>11</td><td>3</td><td>no</td></tr><tr><th>12</th><td>12</td><td>4</td><td>yes</td></tr></tbody></table>"
      ],
      "text/latex": [
       "\\begin{tabular}{r|ccc}\n",
       "\t& a & b & x\\\\\n",
       "\t\\hline\n",
       "\t& Int64 & Int64 & String\\\\\n",
       "\t\\hline\n",
       "\t1 & 1 & 1 & no \\\\\n",
       "\t2 & 2 & 2 & no \\\\\n",
       "\t3 & 3 & 3 & no \\\\\n",
       "\t4 & 4 & 4 & no \\\\\n",
       "\t5 & 5 & 1 & no \\\\\n",
       "\t6 & 6 & 2 & no \\\\\n",
       "\t7 & 7 & 3 & no \\\\\n",
       "\t8 & 8 & 4 & yes \\\\\n",
       "\t9 & 9 & 1 & no \\\\\n",
       "\t10 & 10 & 2 & no \\\\\n",
       "\t11 & 11 & 3 & no \\\\\n",
       "\t12 & 12 & 4 & yes \\\\\n",
       "\\end{tabular}\n"
      ],
      "text/plain": [
       "12×3 DataFrame\n",
       "│ Row │ a     │ b     │ x      │\n",
       "│     │ \u001b[90mInt64\u001b[39m │ \u001b[90mInt64\u001b[39m │ \u001b[90mString\u001b[39m │\n",
       "├─────┼───────┼───────┼────────┤\n",
       "│ 1   │ 1     │ 1     │ no     │\n",
       "│ 2   │ 2     │ 2     │ no     │\n",
       "│ 3   │ 3     │ 3     │ no     │\n",
       "│ 4   │ 4     │ 4     │ no     │\n",
       "│ 5   │ 5     │ 1     │ no     │\n",
       "│ 6   │ 6     │ 2     │ no     │\n",
       "│ 7   │ 7     │ 3     │ no     │\n",
       "│ 8   │ 8     │ 4     │ yes    │\n",
       "│ 9   │ 9     │ 1     │ no     │\n",
       "│ 10  │ 10    │ 2     │ no     │\n",
       "│ 11  │ 11    │ 3     │ no     │\n",
       "│ 12  │ 12    │ 4     │ yes    │"
      ]
     },
     "execution_count": 35,
     "metadata": {},
     "output_type": "execute_result"
    }
   ],
   "source": [
    "# one option is to use a function that works on a single observation and broadcast it\n",
    "myfun(a, b) = a > 6 && b == 4 ? \"yes\" : \"no\"\n",
    "@transform(df, x = myfun.(:a, :b))"
   ]
  },
  {
   "cell_type": "code",
   "execution_count": 36,
   "metadata": {},
   "outputs": [
    {
     "data": {
      "text/html": [
       "<table class=\"data-frame\"><thead><tr><th></th><th>a</th><th>b</th><th>x</th></tr><tr><th></th><th>Int64</th><th>Int64</th><th>String</th></tr></thead><tbody><p>12 rows × 3 columns</p><tr><th>1</th><td>1</td><td>1</td><td>no</td></tr><tr><th>2</th><td>2</td><td>2</td><td>no</td></tr><tr><th>3</th><td>3</td><td>3</td><td>no</td></tr><tr><th>4</th><td>4</td><td>4</td><td>no</td></tr><tr><th>5</th><td>5</td><td>1</td><td>no</td></tr><tr><th>6</th><td>6</td><td>2</td><td>no</td></tr><tr><th>7</th><td>7</td><td>3</td><td>no</td></tr><tr><th>8</th><td>8</td><td>4</td><td>yes</td></tr><tr><th>9</th><td>9</td><td>1</td><td>no</td></tr><tr><th>10</th><td>10</td><td>2</td><td>no</td></tr><tr><th>11</th><td>11</td><td>3</td><td>no</td></tr><tr><th>12</th><td>12</td><td>4</td><td>yes</td></tr></tbody></table>"
      ],
      "text/latex": [
       "\\begin{tabular}{r|ccc}\n",
       "\t& a & b & x\\\\\n",
       "\t\\hline\n",
       "\t& Int64 & Int64 & String\\\\\n",
       "\t\\hline\n",
       "\t1 & 1 & 1 & no \\\\\n",
       "\t2 & 2 & 2 & no \\\\\n",
       "\t3 & 3 & 3 & no \\\\\n",
       "\t4 & 4 & 4 & no \\\\\n",
       "\t5 & 5 & 1 & no \\\\\n",
       "\t6 & 6 & 2 & no \\\\\n",
       "\t7 & 7 & 3 & no \\\\\n",
       "\t8 & 8 & 4 & yes \\\\\n",
       "\t9 & 9 & 1 & no \\\\\n",
       "\t10 & 10 & 2 & no \\\\\n",
       "\t11 & 11 & 3 & no \\\\\n",
       "\t12 & 12 & 4 & yes \\\\\n",
       "\\end{tabular}\n"
      ],
      "text/plain": [
       "12×3 DataFrame\n",
       "│ Row │ a     │ b     │ x      │\n",
       "│     │ \u001b[90mInt64\u001b[39m │ \u001b[90mInt64\u001b[39m │ \u001b[90mString\u001b[39m │\n",
       "├─────┼───────┼───────┼────────┤\n",
       "│ 1   │ 1     │ 1     │ no     │\n",
       "│ 2   │ 2     │ 2     │ no     │\n",
       "│ 3   │ 3     │ 3     │ no     │\n",
       "│ 4   │ 4     │ 4     │ no     │\n",
       "│ 5   │ 5     │ 1     │ no     │\n",
       "│ 6   │ 6     │ 2     │ no     │\n",
       "│ 7   │ 7     │ 3     │ no     │\n",
       "│ 8   │ 8     │ 4     │ yes    │\n",
       "│ 9   │ 9     │ 1     │ no     │\n",
       "│ 10  │ 10    │ 2     │ no     │\n",
       "│ 11  │ 11    │ 3     │ no     │\n",
       "│ 12  │ 12    │ 4     │ yes    │"
      ]
     },
     "execution_count": 36,
     "metadata": {},
     "output_type": "execute_result"
    }
   ],
   "source": [
    "# or you can use @byrow! macro that allows you to process DataFrame rowwise\n",
    "@byrow! df begin\n",
    "    @newcol x::Vector{String}\n",
    "    :x = :a > 6 && :b == 4 ? \"yes\" : \"no\"\n",
    "end"
   ]
  },
  {
   "cell_type": "markdown",
   "metadata": {},
   "source": [
    "### Visualizing data with StatsPlots"
   ]
  },
  {
   "cell_type": "code",
   "execution_count": 37,
   "metadata": {},
   "outputs": [],
   "source": [
    "using StatsPlots # you might need to setup Plots package and some plotting backend first\n",
    "default(fmt=:png)"
   ]
  },
  {
   "cell_type": "markdown",
   "metadata": {},
   "source": [
    "we present only a minimal functionality of the package"
   ]
  },
  {
   "cell_type": "code",
   "execution_count": 38,
   "metadata": {},
   "outputs": [],
   "source": [
    "using Random\n",
    "Random.seed!(1)\n",
    "df = DataFrame(x = sort(randn(1000)), y=randn(1000), z = [fill(\"b\", 500); fill(\"a\", 500)]);"
   ]
  },
  {
   "cell_type": "code",
   "execution_count": 39,
   "metadata": {},
   "outputs": [
    {
     "data": {
      "image/png": "[encoded data removed]"
     },
     "execution_count": 39,
     "metadata": {},
     "output_type": "execute_result"
    }
   ],
   "source": [
    "@df df plot(:x, :y, legend=:topleft, label=\"y(x)\") # a most basic plot"
   ]
  },
  {
   "cell_type": "code",
   "execution_count": 40,
   "metadata": {},
   "outputs": [
    {
     "data": {
      "image/png": "[encoded data removed]"
     },
     "execution_count": 40,
     "metadata": {},
     "output_type": "execute_result"
    }
   ],
   "source": [
    "@df df density(:x, label=\"\") # density plot"
   ]
  },
  {
   "cell_type": "code",
   "execution_count": 41,
   "metadata": {},
   "outputs": [
    {
     "data": {
      "image/png": "[encoded data removed]"
     },
     "execution_count": 41,
     "metadata": {},
     "output_type": "execute_result"
    }
   ],
   "source": [
    "@df df histogram(:y, label=\"y\") # and a histogram"
   ]
  },
  {
   "cell_type": "code",
   "execution_count": 42,
   "metadata": {},
   "outputs": [
    {
     "data": {
      "image/png": "[encoded data removed]"
     },
     "execution_count": 42,
     "metadata": {},
     "output_type": "execute_result"
    }
   ],
   "source": [
    "@df df boxplot(:z, :x, label=\"x\")"
   ]
  },
  {
   "cell_type": "code",
   "execution_count": 43,
   "metadata": {},
   "outputs": [
    {
     "data": {
      "image/png": "[encoded data removed]"
     },
     "execution_count": 43,
     "metadata": {},
     "output_type": "execute_result"
    }
   ],
   "source": [
    "@df df violin(:z, :y, label=\"y\") "
   ]
  }
 ],
 "metadata": {
  "@webio": {
   "lastCommId": null,
   "lastKernelId": null
  },
  "kernelspec": {
   "display_name": "Julia 1.2.0",
   "language": "julia",
   "name": "julia-1.2"
  },
  "language_info": {
   "file_extension": ".jl",
   "mimetype": "application/julia",
   "name": "julia",
   "version": "1.2.0"
  }
 },
 "nbformat": 4,
 "nbformat_minor": 1
}
