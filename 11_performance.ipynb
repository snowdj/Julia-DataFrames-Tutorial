{
 "cells": [
  {
   "cell_type": "markdown",
   "metadata": {},
   "source": [
    "# Introduction to DataFrames\n",
    "**[Bogumił Kamiński](http://bogumilkaminski.pl/about/), August 26, 2019**"
   ]
  },
  {
   "cell_type": "code",
   "execution_count": 1,
   "metadata": {},
   "outputs": [
    {
     "name": "stdout",
     "output_type": "stream",
     "text": [
      "\u001b[32m\u001b[1mActivating\u001b[22m\u001b[39m environment at `d:\\Dev\\Julia\\DataFrames_Tutorial\\Project.toml`\n"
     ]
    }
   ],
   "source": [
    "using Pkg\n",
    "Pkg.activate(\".\")"
   ]
  },
  {
   "cell_type": "code",
   "execution_count": 2,
   "metadata": {},
   "outputs": [],
   "source": [
    "using DataFrames\n",
    "using BenchmarkTools"
   ]
  },
  {
   "cell_type": "markdown",
   "metadata": {},
   "source": [
    "## Performance tips"
   ]
  },
  {
   "cell_type": "markdown",
   "metadata": {},
   "source": [
    "### Access by column number is faster than by name"
   ]
  },
  {
   "cell_type": "code",
   "execution_count": 3,
   "metadata": {},
   "outputs": [
    {
     "name": "stdout",
     "output_type": "stream",
     "text": [
      "  4.199 ns (0 allocations: 0 bytes)\n",
      "  13.813 ns (0 allocations: 0 bytes)\n"
     ]
    }
   ],
   "source": [
    "x = DataFrame(rand(5, 1000))\n",
    "@btime $x[!, 500];\n",
    "@btime $x.x500;"
   ]
  },
  {
   "cell_type": "markdown",
   "metadata": {},
   "source": [
    "### When working with data `DataFrame` use barrier functions or type annotation"
   ]
  },
  {
   "cell_type": "code",
   "execution_count": 4,
   "metadata": {},
   "outputs": [
    {
     "name": "stdout",
     "output_type": "stream",
     "text": [
      "  82.455 ms (5999020 allocations: 122.06 MiB)\n"
     ]
    }
   ],
   "source": [
    "using Random\n",
    "function f_bad() # this function will be slow\n",
    "    Random.seed!(1); x = DataFrame(rand(1000000,2))\n",
    "    y, z = x[!, 1], x[!, 2]\n",
    "    p = 0.0\n",
    "    for i in 1:nrow(x)\n",
    "        p += y[i]*z[i]\n",
    "    end\n",
    "    p\n",
    "end\n",
    "\n",
    "@btime f_bad();\n",
    "# if you run @code_warntype f_bad() then you notice\n",
    "# that Julia does not know column types of `DataFrame`\n"
   ]
  },
  {
   "cell_type": "code",
   "execution_count": 5,
   "metadata": {},
   "outputs": [
    {
     "name": "stdout",
     "output_type": "stream",
     "text": [
      "  12.327 ms (42 allocations: 30.52 MiB)\n",
      "  13.004 ms (42 allocations: 30.52 MiB)\n"
     ]
    }
   ],
   "source": [
    "# solution 1 is to use barrier function (it should be possible to use it in almost any code)\n",
    "function f_inner(y,z)\n",
    "   p = 0.0\n",
    "   for i in 1:length(y)\n",
    "       p += y[i]*z[i]\n",
    "   end\n",
    "   p\n",
    "end\n",
    "\n",
    "function f_barrier() # extract the work to an inner function\n",
    "    Random.seed!(1); x = DataFrame(rand(1000000,2))\n",
    "    f_inner(x[!, 1], x[!, 2])\n",
    "end\n",
    "\n",
    "using LinearAlgebra\n",
    "function f_inbuilt() # or use inbuilt function if possible\n",
    "    Random.seed!(1); x = DataFrame(rand(1000000,2))\n",
    "    dot(x[!, 1], x[!, 2])\n",
    "end\n",
    "\n",
    "@btime f_barrier();\n",
    "@btime f_inbuilt();"
   ]
  },
  {
   "cell_type": "code",
   "execution_count": 6,
   "metadata": {},
   "outputs": [
    {
     "name": "stdout",
     "output_type": "stream",
     "text": [
      "  12.953 ms (42 allocations: 30.52 MiB)\n"
     ]
    }
   ],
   "source": [
    "# solution 2 is to provide the types of extracted columns\n",
    "# it is simpler but there are cases in which you will not know these types\n",
    "# This example  assumes that you have DataFrames master at least from August 31, 2018\n",
    "function f_typed()\n",
    "    Random.seed!(1); x = DataFrame(rand(1000000,2))\n",
    "    y::Vector{Float64}, z::Vector{Float64} = x[!, 1], x[!, 2]\n",
    "    p = 0.0\n",
    "    for i in 1:nrow(x)\n",
    "        p += y[i]*z[i]\n",
    "    end\n",
    "    p\n",
    "end\n",
    "\n",
    "@btime f_typed();"
   ]
  },
  {
   "cell_type": "markdown",
   "metadata": {},
   "source": [
    "### Consider using delayed `DataFrame` creation technique"
   ]
  },
  {
   "cell_type": "markdown",
   "metadata": {},
   "source": [
    "also notice the difference in performance between `DataFrame` and `DataFrame!` (copying vs non-copying data frame creation)"
   ]
  },
  {
   "cell_type": "code",
   "execution_count": 7,
   "metadata": {},
   "outputs": [
    {
     "name": "stdout",
     "output_type": "stream",
     "text": [
      "  21.032 ms (1949736 allocations: 37.42 MiB)\n",
      "  22.184 ms (1949936 allocations: 45.05 MiB)\n",
      "  1.585 ms (836 allocations: 7.68 MiB)\n",
      "  2.646 ms (1036 allocations: 15.32 MiB)\n"
     ]
    }
   ],
   "source": [
    "function f1()\n",
    "    x = DataFrame!([Vector{Float64}(undef, 10^4) for i in 1:100]) # we work with a DataFrame directly\n",
    "    for c in 1:ncol(x)\n",
    "        d = x[!, c]\n",
    "        for r in 1:nrow(x)\n",
    "            d[r] = rand()\n",
    "        end\n",
    "    end\n",
    "    x\n",
    "end\n",
    "\n",
    "function f1a()\n",
    "    x = DataFrame([Vector{Float64}(undef, 10^4) for i in 1:100]) # we work with a DataFrame directly\n",
    "    for c in 1:ncol(x)\n",
    "        d = x[!, c]\n",
    "        for r in 1:nrow(x)\n",
    "            d[r] = rand()\n",
    "        end\n",
    "    end\n",
    "    x\n",
    "end\n",
    "\n",
    "function f2()\n",
    "    x = Vector{Any}(undef, 100)\n",
    "    for c in 1:length(x)\n",
    "        d = Vector{Float64}(undef, 10^4)\n",
    "        for r in 1:length(d)\n",
    "            d[r] = rand()\n",
    "        end\n",
    "        x[c] = d\n",
    "    end\n",
    "    DataFrame!(x) # we delay creation of DataFrame after we have our job done\n",
    "end\n",
    "\n",
    "function f2a()\n",
    "    x = Vector{Any}(undef, 100)\n",
    "    for c in 1:length(x)\n",
    "        d = Vector{Float64}(undef, 10^4)\n",
    "        for r in 1:length(d)\n",
    "            d[r] = rand()\n",
    "        end\n",
    "        x[c] = d\n",
    "    end\n",
    "    DataFrame(x) # we delay creation of DataFrame after we have our job done\n",
    "end\n",
    "\n",
    "@btime f1();\n",
    "@btime f1a();\n",
    "@btime f2();\n",
    "@btime f2a();"
   ]
  },
  {
   "cell_type": "markdown",
   "metadata": {},
   "source": [
    "### You can add rows to a `DataFrame` in place and it is fast"
   ]
  },
  {
   "cell_type": "code",
   "execution_count": 8,
   "metadata": {},
   "outputs": [
    {
     "name": "stdout",
     "output_type": "stream",
     "text": [
      "  13.787 ms (174 allocations: 38.16 MiB)\n",
      "  359.330 ns (11 allocations: 176 bytes)\n",
      "  324.348 ns (16 allocations: 256 bytes)\n"
     ]
    }
   ],
   "source": [
    "x = DataFrame(rand(10^6, 5))\n",
    "y = DataFrame(transpose(1.0:5.0))\n",
    "z = [1.0:5.0;]\n",
    "\n",
    "@btime vcat($x, $y); # creates a new DataFrame - slow\n",
    "@btime append!($x, $y); # in place - fast\n",
    "\n",
    "x = DataFrame(rand(10^6, 5)) # reset to the same starting point\n",
    "@btime push!($x, $z); # add a single row in place - fast"
   ]
  },
  {
   "cell_type": "markdown",
   "metadata": {},
   "source": [
    "### Allowing `missing` as well as `categorical` slows down computations"
   ]
  },
  {
   "cell_type": "code",
   "execution_count": 9,
   "metadata": {},
   "outputs": [
    {
     "ename": "ArgumentError",
     "evalue": "ArgumentError: Package StatsBase not found in current path:\n- Run `import Pkg; Pkg.add(\"StatsBase\")` to install the StatsBase package.\n",
     "output_type": "error",
     "traceback": [
      "ArgumentError: Package StatsBase not found in current path:\n- Run `import Pkg; Pkg.add(\"StatsBase\")` to install the StatsBase package.\n",
      "",
      "Stacktrace:",
      " [1] require(::Module, ::Symbol) at .\\loading.jl:876",
      " [2] top-level scope at In[9]:1"
     ]
    }
   ],
   "source": [
    "using StatsBase\n",
    "\n",
    "function test(data) # uses countmap function to test performance\n",
    "    println(eltype(data))\n",
    "    x = rand(data, 10^6)\n",
    "    y = categorical(x)\n",
    "    println(\" raw:\")\n",
    "    @btime countmap($x)\n",
    "    println(\" categorical:\")\n",
    "    @btime countmap($y)\n",
    "    nothing\n",
    "end\n",
    "\n",
    "test(1:10)\n",
    "test([randstring() for i in 1:10])\n",
    "test(allowmissing(1:10))\n",
    "test(allowmissing([randstring() for i in 1:10]))\n"
   ]
  },
  {
   "cell_type": "markdown",
   "metadata": {},
   "source": [
    "### When aggregating use column selector and prefer categorical or pooled array grouping variable"
   ]
  },
  {
   "cell_type": "code",
   "execution_count": 10,
   "metadata": {},
   "outputs": [],
   "source": [
    "df = DataFrame(x=rand('a':'d', 10^7), y=1);"
   ]
  },
  {
   "cell_type": "code",
   "execution_count": 11,
   "metadata": {},
   "outputs": [
    {
     "name": "stdout",
     "output_type": "stream",
     "text": [
      "  300.102 ms (189 allocations: 433.19 MiB)\n"
     ]
    },
    {
     "data": {
      "text/html": [
       "<table class=\"data-frame\"><thead><tr><th></th><th>x</th><th>x1</th></tr><tr><th></th><th>Char</th><th>Int64</th></tr></thead><tbody><p>4 rows × 2 columns</p><tr><th>1</th><td>'a'</td><td>2500239</td></tr><tr><th>2</th><td>'b'</td><td>2501757</td></tr><tr><th>3</th><td>'c'</td><td>2497646</td></tr><tr><th>4</th><td>'d'</td><td>2500358</td></tr></tbody></table>"
      ],
      "text/latex": [
       "\\begin{tabular}{r|cc}\n",
       "\t& x & x1\\\\\n",
       "\t\\hline\n",
       "\t& Char & Int64\\\\\n",
       "\t\\hline\n",
       "\t1 & 'a' & 2500239 \\\\\n",
       "\t2 & 'b' & 2501757 \\\\\n",
       "\t3 & 'c' & 2497646 \\\\\n",
       "\t4 & 'd' & 2500358 \\\\\n",
       "\\end{tabular}\n"
      ],
      "text/plain": [
       "4×2 DataFrame\n",
       "│ Row │ x    │ x1      │\n",
       "│     │ \u001b[90mChar\u001b[39m │ \u001b[90mInt64\u001b[39m   │\n",
       "├─────┼──────┼─────────┤\n",
       "│ 1   │ 'a'  │ 2500239 │\n",
       "│ 2   │ 'b'  │ 2501757 │\n",
       "│ 3   │ 'c'  │ 2497646 │\n",
       "│ 4   │ 'd'  │ 2500358 │"
      ]
     },
     "execution_count": 11,
     "metadata": {},
     "output_type": "execute_result"
    }
   ],
   "source": [
    "@btime by($df, :x, v -> sum(v.y)) # traditional syntax, slow"
   ]
  },
  {
   "cell_type": "code",
   "execution_count": 12,
   "metadata": {},
   "outputs": [
    {
     "name": "stdout",
     "output_type": "stream",
     "text": [
      "  218.191 ms (152 allocations: 356.89 MiB)\n"
     ]
    },
    {
     "data": {
      "text/html": [
       "<table class=\"data-frame\"><thead><tr><th></th><th>x</th><th>y_sum</th></tr><tr><th></th><th>Char</th><th>Int64</th></tr></thead><tbody><p>4 rows × 2 columns</p><tr><th>1</th><td>'a'</td><td>2500239</td></tr><tr><th>2</th><td>'b'</td><td>2501757</td></tr><tr><th>3</th><td>'c'</td><td>2497646</td></tr><tr><th>4</th><td>'d'</td><td>2500358</td></tr></tbody></table>"
      ],
      "text/latex": [
       "\\begin{tabular}{r|cc}\n",
       "\t& x & y\\_sum\\\\\n",
       "\t\\hline\n",
       "\t& Char & Int64\\\\\n",
       "\t\\hline\n",
       "\t1 & 'a' & 2500239 \\\\\n",
       "\t2 & 'b' & 2501757 \\\\\n",
       "\t3 & 'c' & 2497646 \\\\\n",
       "\t4 & 'd' & 2500358 \\\\\n",
       "\\end{tabular}\n"
      ],
      "text/plain": [
       "4×2 DataFrame\n",
       "│ Row │ x    │ y_sum   │\n",
       "│     │ \u001b[90mChar\u001b[39m │ \u001b[90mInt64\u001b[39m   │\n",
       "├─────┼──────┼─────────┤\n",
       "│ 1   │ 'a'  │ 2500239 │\n",
       "│ 2   │ 'b'  │ 2501757 │\n",
       "│ 3   │ 'c'  │ 2497646 │\n",
       "│ 4   │ 'd'  │ 2500358 │"
      ]
     },
     "execution_count": 12,
     "metadata": {},
     "output_type": "execute_result"
    }
   ],
   "source": [
    "@btime by($df, :x, :y=>sum) # use column selector"
   ]
  },
  {
   "cell_type": "code",
   "execution_count": 13,
   "metadata": {},
   "outputs": [],
   "source": [
    "categorical!(df, :x);"
   ]
  },
  {
   "cell_type": "code",
   "execution_count": 14,
   "metadata": {},
   "outputs": [
    {
     "name": "stdout",
     "output_type": "stream",
     "text": [
      "  98.036 ms (171 allocations: 152.60 MiB)\n"
     ]
    },
    {
     "data": {
      "text/html": [
       "<table class=\"data-frame\"><thead><tr><th></th><th>x</th><th>y_sum</th></tr><tr><th></th><th>Categorical…</th><th>Int64</th></tr></thead><tbody><p>4 rows × 2 columns</p><tr><th>1</th><td>'a'</td><td>2500239</td></tr><tr><th>2</th><td>'b'</td><td>2501757</td></tr><tr><th>3</th><td>'c'</td><td>2497646</td></tr><tr><th>4</th><td>'d'</td><td>2500358</td></tr></tbody></table>"
      ],
      "text/latex": [
       "\\begin{tabular}{r|cc}\n",
       "\t& x & y\\_sum\\\\\n",
       "\t\\hline\n",
       "\t& Categorical… & Int64\\\\\n",
       "\t\\hline\n",
       "\t1 & 'a' & 2500239 \\\\\n",
       "\t2 & 'b' & 2501757 \\\\\n",
       "\t3 & 'c' & 2497646 \\\\\n",
       "\t4 & 'd' & 2500358 \\\\\n",
       "\\end{tabular}\n"
      ],
      "text/plain": [
       "4×2 DataFrame\n",
       "│ Row │ x            │ y_sum   │\n",
       "│     │ \u001b[90mCategorical…\u001b[39m │ \u001b[90mInt64\u001b[39m   │\n",
       "├─────┼──────────────┼─────────┤\n",
       "│ 1   │ 'a'          │ 2500239 │\n",
       "│ 2   │ 'b'          │ 2501757 │\n",
       "│ 3   │ 'c'          │ 2497646 │\n",
       "│ 4   │ 'd'          │ 2500358 │"
      ]
     },
     "execution_count": 14,
     "metadata": {},
     "output_type": "execute_result"
    }
   ],
   "source": [
    "@btime by($df, :x, :y=>sum)"
   ]
  },
  {
   "cell_type": "code",
   "execution_count": 15,
   "metadata": {},
   "outputs": [],
   "source": [
    "using PooledArrays"
   ]
  },
  {
   "cell_type": "code",
   "execution_count": 16,
   "metadata": {},
   "outputs": [
    {
     "data": {
      "text/plain": [
       "10000000-element PooledArray{Char,UInt8,1,Array{UInt8,1}}:\n",
       " 'a'\n",
       " 'b'\n",
       " 'c'\n",
       " 'a'\n",
       " 'b'\n",
       " 'a'\n",
       " 'a'\n",
       " 'a'\n",
       " 'c'\n",
       " 'd'\n",
       " 'd'\n",
       " 'a'\n",
       " 'a'\n",
       " ⋮  \n",
       " 'd'\n",
       " 'b'\n",
       " 'b'\n",
       " 'd'\n",
       " 'a'\n",
       " 'd'\n",
       " 'b'\n",
       " 'b'\n",
       " 'b'\n",
       " 'c'\n",
       " 'd'\n",
       " 'a'"
      ]
     },
     "execution_count": 16,
     "metadata": {},
     "output_type": "execute_result"
    }
   ],
   "source": [
    "df.x = PooledArray{Char}(df.x)"
   ]
  },
  {
   "cell_type": "code",
   "execution_count": 17,
   "metadata": {},
   "outputs": [
    {
     "name": "stdout",
     "output_type": "stream",
     "text": [
      "  94.520 ms (162 allocations: 152.60 MiB)\n"
     ]
    },
    {
     "data": {
      "text/html": [
       "<table class=\"data-frame\"><thead><tr><th></th><th>x</th><th>y_sum</th></tr><tr><th></th><th>Char</th><th>Int64</th></tr></thead><tbody><p>4 rows × 2 columns</p><tr><th>1</th><td>'a'</td><td>2500239</td></tr><tr><th>2</th><td>'b'</td><td>2501757</td></tr><tr><th>3</th><td>'c'</td><td>2497646</td></tr><tr><th>4</th><td>'d'</td><td>2500358</td></tr></tbody></table>"
      ],
      "text/latex": [
       "\\begin{tabular}{r|cc}\n",
       "\t& x & y\\_sum\\\\\n",
       "\t\\hline\n",
       "\t& Char & Int64\\\\\n",
       "\t\\hline\n",
       "\t1 & 'a' & 2500239 \\\\\n",
       "\t2 & 'b' & 2501757 \\\\\n",
       "\t3 & 'c' & 2497646 \\\\\n",
       "\t4 & 'd' & 2500358 \\\\\n",
       "\\end{tabular}\n"
      ],
      "text/plain": [
       "4×2 DataFrame\n",
       "│ Row │ x    │ y_sum   │\n",
       "│     │ \u001b[90mChar\u001b[39m │ \u001b[90mInt64\u001b[39m   │\n",
       "├─────┼──────┼─────────┤\n",
       "│ 1   │ 'a'  │ 2500239 │\n",
       "│ 2   │ 'b'  │ 2501757 │\n",
       "│ 3   │ 'c'  │ 2497646 │\n",
       "│ 4   │ 'd'  │ 2500358 │"
      ]
     },
     "execution_count": 17,
     "metadata": {},
     "output_type": "execute_result"
    }
   ],
   "source": [
    "@btime by($df, :x, :y=>sum)"
   ]
  },
  {
   "cell_type": "markdown",
   "metadata": {},
   "source": [
    "### Use views instead of materializing a new DataFrame"
   ]
  },
  {
   "cell_type": "code",
   "execution_count": 18,
   "metadata": {},
   "outputs": [
    {
     "data": {
      "text/html": [
       "<table class=\"data-frame\"><thead><tr><th></th><th>x1</th><th>x2</th><th>x3</th><th>x4</th><th>x5</th><th>x6</th><th>x7</th><th>x8</th></tr><tr><th></th><th>Float64</th><th>Float64</th><th>Float64</th><th>Float64</th><th>Float64</th><th>Float64</th><th>Float64</th><th>Float64</th></tr></thead><tbody><p>100 rows × 1,000 columns (omitted printing of 992 columns)</p><tr><th>1</th><td>0.194219</td><td>0.0752102</td><td>0.924622</td><td>0.654874</td><td>0.333907</td><td>0.084221</td><td>0.85674</td><td>0.559508</td></tr><tr><th>2</th><td>0.957204</td><td>0.273191</td><td>0.676637</td><td>0.73715</td><td>0.477124</td><td>0.950504</td><td>0.0979649</td><td>0.444878</td></tr><tr><th>3</th><td>0.515305</td><td>0.423896</td><td>0.253171</td><td>0.457358</td><td>0.978996</td><td>0.794402</td><td>0.412566</td><td>0.163449</td></tr><tr><th>4</th><td>0.413562</td><td>0.140442</td><td>0.127564</td><td>0.0370993</td><td>0.922239</td><td>0.122679</td><td>0.56249</td><td>0.158148</td></tr><tr><th>5</th><td>0.747217</td><td>0.435913</td><td>0.301009</td><td>0.0636139</td><td>0.396994</td><td>0.177713</td><td>0.836312</td><td>0.831274</td></tr><tr><th>6</th><td>0.468164</td><td>0.300709</td><td>0.0108362</td><td>0.412532</td><td>0.185336</td><td>0.494331</td><td>0.63317</td><td>0.369617</td></tr><tr><th>7</th><td>0.13405</td><td>0.431765</td><td>0.537711</td><td>0.371646</td><td>0.222836</td><td>0.358901</td><td>0.13515</td><td>0.350138</td></tr><tr><th>8</th><td>0.751183</td><td>0.487788</td><td>0.278622</td><td>0.808394</td><td>0.0132744</td><td>0.508094</td><td>0.400571</td><td>0.27485</td></tr><tr><th>9</th><td>0.721054</td><td>0.176363</td><td>0.281248</td><td>0.408147</td><td>0.191549</td><td>0.398679</td><td>0.0360686</td><td>0.78678</td></tr><tr><th>10</th><td>0.283822</td><td>0.00133573</td><td>0.265396</td><td>0.550296</td><td>0.481423</td><td>0.610814</td><td>0.193391</td><td>0.770691</td></tr><tr><th>11</th><td>0.111064</td><td>0.988188</td><td>0.594384</td><td>0.731648</td><td>0.375488</td><td>0.919852</td><td>0.00432574</td><td>0.175803</td></tr><tr><th>12</th><td>0.723014</td><td>0.156981</td><td>0.345008</td><td>0.487601</td><td>0.817459</td><td>0.360002</td><td>0.724893</td><td>0.320105</td></tr><tr><th>13</th><td>0.793591</td><td>0.192488</td><td>0.317012</td><td>0.542865</td><td>0.291115</td><td>0.138631</td><td>0.65577</td><td>0.163466</td></tr><tr><th>14</th><td>0.614995</td><td>0.330524</td><td>0.595769</td><td>0.067228</td><td>0.439315</td><td>0.850259</td><td>0.156509</td><td>0.868469</td></tr><tr><th>15</th><td>0.936289</td><td>0.396538</td><td>0.323705</td><td>0.0114948</td><td>0.129806</td><td>0.891488</td><td>0.502662</td><td>0.674742</td></tr><tr><th>16</th><td>0.34088</td><td>0.692065</td><td>0.59155</td><td>0.0527231</td><td>0.405014</td><td>0.335088</td><td>0.604077</td><td>0.207129</td></tr><tr><th>17</th><td>0.240336</td><td>0.968359</td><td>0.858534</td><td>0.542356</td><td>0.422371</td><td>0.394155</td><td>0.178665</td><td>0.174581</td></tr><tr><th>18</th><td>0.859833</td><td>0.910398</td><td>0.343647</td><td>0.55947</td><td>0.307745</td><td>0.857514</td><td>0.431057</td><td>0.921949</td></tr><tr><th>19</th><td>0.19637</td><td>0.352796</td><td>0.204442</td><td>0.488816</td><td>0.958277</td><td>0.640041</td><td>0.557372</td><td>0.59287</td></tr><tr><th>20</th><td>0.805047</td><td>0.962413</td><td>0.934472</td><td>0.663316</td><td>0.31013</td><td>0.486961</td><td>0.861097</td><td>0.252995</td></tr><tr><th>21</th><td>0.255911</td><td>0.752767</td><td>0.816956</td><td>0.747311</td><td>0.482878</td><td>0.817465</td><td>0.650224</td><td>0.448567</td></tr><tr><th>22</th><td>0.604684</td><td>0.43619</td><td>0.034563</td><td>0.573696</td><td>0.371992</td><td>0.742981</td><td>0.0491467</td><td>0.587664</td></tr><tr><th>23</th><td>0.9416</td><td>0.166091</td><td>0.890706</td><td>0.22303</td><td>0.145846</td><td>0.219108</td><td>0.607674</td><td>0.263441</td></tr><tr><th>24</th><td>0.127497</td><td>0.791043</td><td>0.307706</td><td>0.530004</td><td>0.562858</td><td>0.891988</td><td>0.562613</td><td>0.0172463</td></tr><tr><th>25</th><td>0.937661</td><td>0.734579</td><td>0.28635</td><td>0.379194</td><td>0.707282</td><td>0.0253081</td><td>0.0477671</td><td>0.982392</td></tr><tr><th>26</th><td>0.119059</td><td>0.33562</td><td>0.328346</td><td>0.0511288</td><td>0.974854</td><td>0.970426</td><td>0.175139</td><td>0.306896</td></tr><tr><th>27</th><td>0.690065</td><td>0.784296</td><td>0.675649</td><td>0.38278</td><td>0.0301635</td><td>0.693995</td><td>0.391749</td><td>0.908674</td></tr><tr><th>28</th><td>0.630035</td><td>0.576551</td><td>0.413793</td><td>0.0501955</td><td>0.668656</td><td>0.996436</td><td>0.260991</td><td>0.780354</td></tr><tr><th>29</th><td>0.641614</td><td>0.976603</td><td>0.825724</td><td>0.886445</td><td>0.651591</td><td>0.366608</td><td>0.0215013</td><td>0.970774</td></tr><tr><th>30</th><td>0.724173</td><td>0.609323</td><td>0.478621</td><td>0.00905805</td><td>0.535274</td><td>0.359996</td><td>0.26221</td><td>0.118953</td></tr><tr><th>&vellip;</th><td>&vellip;</td><td>&vellip;</td><td>&vellip;</td><td>&vellip;</td><td>&vellip;</td><td>&vellip;</td><td>&vellip;</td><td>&vellip;</td></tr></tbody></table>"
      ],
      "text/latex": [
       "\\begin{tabular}{r|ccccccccc}\n",
       "\t& x1 & x2 & x3 & x4 & x5 & x6 & x7 & x8 & \\\\\n",
       "\t\\hline\n",
       "\t& Float64 & Float64 & Float64 & Float64 & Float64 & Float64 & Float64 & Float64 & \\\\\n",
       "\t\\hline\n",
       "\t1 & 0.194219 & 0.0752102 & 0.924622 & 0.654874 & 0.333907 & 0.084221 & 0.85674 & 0.559508 & $\\dots$ \\\\\n",
       "\t2 & 0.957204 & 0.273191 & 0.676637 & 0.73715 & 0.477124 & 0.950504 & 0.0979649 & 0.444878 & $\\dots$ \\\\\n",
       "\t3 & 0.515305 & 0.423896 & 0.253171 & 0.457358 & 0.978996 & 0.794402 & 0.412566 & 0.163449 & $\\dots$ \\\\\n",
       "\t4 & 0.413562 & 0.140442 & 0.127564 & 0.0370993 & 0.922239 & 0.122679 & 0.56249 & 0.158148 & $\\dots$ \\\\\n",
       "\t5 & 0.747217 & 0.435913 & 0.301009 & 0.0636139 & 0.396994 & 0.177713 & 0.836312 & 0.831274 & $\\dots$ \\\\\n",
       "\t6 & 0.468164 & 0.300709 & 0.0108362 & 0.412532 & 0.185336 & 0.494331 & 0.63317 & 0.369617 & $\\dots$ \\\\\n",
       "\t7 & 0.13405 & 0.431765 & 0.537711 & 0.371646 & 0.222836 & 0.358901 & 0.13515 & 0.350138 & $\\dots$ \\\\\n",
       "\t8 & 0.751183 & 0.487788 & 0.278622 & 0.808394 & 0.0132744 & 0.508094 & 0.400571 & 0.27485 & $\\dots$ \\\\\n",
       "\t9 & 0.721054 & 0.176363 & 0.281248 & 0.408147 & 0.191549 & 0.398679 & 0.0360686 & 0.78678 & $\\dots$ \\\\\n",
       "\t10 & 0.283822 & 0.00133573 & 0.265396 & 0.550296 & 0.481423 & 0.610814 & 0.193391 & 0.770691 & $\\dots$ \\\\\n",
       "\t11 & 0.111064 & 0.988188 & 0.594384 & 0.731648 & 0.375488 & 0.919852 & 0.00432574 & 0.175803 & $\\dots$ \\\\\n",
       "\t12 & 0.723014 & 0.156981 & 0.345008 & 0.487601 & 0.817459 & 0.360002 & 0.724893 & 0.320105 & $\\dots$ \\\\\n",
       "\t13 & 0.793591 & 0.192488 & 0.317012 & 0.542865 & 0.291115 & 0.138631 & 0.65577 & 0.163466 & $\\dots$ \\\\\n",
       "\t14 & 0.614995 & 0.330524 & 0.595769 & 0.067228 & 0.439315 & 0.850259 & 0.156509 & 0.868469 & $\\dots$ \\\\\n",
       "\t15 & 0.936289 & 0.396538 & 0.323705 & 0.0114948 & 0.129806 & 0.891488 & 0.502662 & 0.674742 & $\\dots$ \\\\\n",
       "\t16 & 0.34088 & 0.692065 & 0.59155 & 0.0527231 & 0.405014 & 0.335088 & 0.604077 & 0.207129 & $\\dots$ \\\\\n",
       "\t17 & 0.240336 & 0.968359 & 0.858534 & 0.542356 & 0.422371 & 0.394155 & 0.178665 & 0.174581 & $\\dots$ \\\\\n",
       "\t18 & 0.859833 & 0.910398 & 0.343647 & 0.55947 & 0.307745 & 0.857514 & 0.431057 & 0.921949 & $\\dots$ \\\\\n",
       "\t19 & 0.19637 & 0.352796 & 0.204442 & 0.488816 & 0.958277 & 0.640041 & 0.557372 & 0.59287 & $\\dots$ \\\\\n",
       "\t20 & 0.805047 & 0.962413 & 0.934472 & 0.663316 & 0.31013 & 0.486961 & 0.861097 & 0.252995 & $\\dots$ \\\\\n",
       "\t21 & 0.255911 & 0.752767 & 0.816956 & 0.747311 & 0.482878 & 0.817465 & 0.650224 & 0.448567 & $\\dots$ \\\\\n",
       "\t22 & 0.604684 & 0.43619 & 0.034563 & 0.573696 & 0.371992 & 0.742981 & 0.0491467 & 0.587664 & $\\dots$ \\\\\n",
       "\t23 & 0.9416 & 0.166091 & 0.890706 & 0.22303 & 0.145846 & 0.219108 & 0.607674 & 0.263441 & $\\dots$ \\\\\n",
       "\t24 & 0.127497 & 0.791043 & 0.307706 & 0.530004 & 0.562858 & 0.891988 & 0.562613 & 0.0172463 & $\\dots$ \\\\\n",
       "\t25 & 0.937661 & 0.734579 & 0.28635 & 0.379194 & 0.707282 & 0.0253081 & 0.0477671 & 0.982392 & $\\dots$ \\\\\n",
       "\t26 & 0.119059 & 0.33562 & 0.328346 & 0.0511288 & 0.974854 & 0.970426 & 0.175139 & 0.306896 & $\\dots$ \\\\\n",
       "\t27 & 0.690065 & 0.784296 & 0.675649 & 0.38278 & 0.0301635 & 0.693995 & 0.391749 & 0.908674 & $\\dots$ \\\\\n",
       "\t28 & 0.630035 & 0.576551 & 0.413793 & 0.0501955 & 0.668656 & 0.996436 & 0.260991 & 0.780354 & $\\dots$ \\\\\n",
       "\t29 & 0.641614 & 0.976603 & 0.825724 & 0.886445 & 0.651591 & 0.366608 & 0.0215013 & 0.970774 & $\\dots$ \\\\\n",
       "\t30 & 0.724173 & 0.609323 & 0.478621 & 0.00905805 & 0.535274 & 0.359996 & 0.26221 & 0.118953 & $\\dots$ \\\\\n",
       "\t$\\dots$ & $\\dots$ & $\\dots$ & $\\dots$ & $\\dots$ & $\\dots$ & $\\dots$ & $\\dots$ & $\\dots$ &  \\\\\n",
       "\\end{tabular}\n"
      ],
      "text/plain": [
       "100×1000 DataFrame. Omitted printing of 994 columns\n",
       "│ Row │ x1       │ x2         │ x3        │ x4        │ x5        │ x6        │\n",
       "│     │ \u001b[90mFloat64\u001b[39m  │ \u001b[90mFloat64\u001b[39m    │ \u001b[90mFloat64\u001b[39m   │ \u001b[90mFloat64\u001b[39m   │ \u001b[90mFloat64\u001b[39m   │ \u001b[90mFloat64\u001b[39m   │\n",
       "├─────┼──────────┼────────────┼───────────┼───────────┼───────────┼───────────┤\n",
       "│ 1   │ 0.194219 │ 0.0752102  │ 0.924622  │ 0.654874  │ 0.333907  │ 0.084221  │\n",
       "│ 2   │ 0.957204 │ 0.273191   │ 0.676637  │ 0.73715   │ 0.477124  │ 0.950504  │\n",
       "│ 3   │ 0.515305 │ 0.423896   │ 0.253171  │ 0.457358  │ 0.978996  │ 0.794402  │\n",
       "│ 4   │ 0.413562 │ 0.140442   │ 0.127564  │ 0.0370993 │ 0.922239  │ 0.122679  │\n",
       "│ 5   │ 0.747217 │ 0.435913   │ 0.301009  │ 0.0636139 │ 0.396994  │ 0.177713  │\n",
       "│ 6   │ 0.468164 │ 0.300709   │ 0.0108362 │ 0.412532  │ 0.185336  │ 0.494331  │\n",
       "│ 7   │ 0.13405  │ 0.431765   │ 0.537711  │ 0.371646  │ 0.222836  │ 0.358901  │\n",
       "│ 8   │ 0.751183 │ 0.487788   │ 0.278622  │ 0.808394  │ 0.0132744 │ 0.508094  │\n",
       "│ 9   │ 0.721054 │ 0.176363   │ 0.281248  │ 0.408147  │ 0.191549  │ 0.398679  │\n",
       "│ 10  │ 0.283822 │ 0.00133573 │ 0.265396  │ 0.550296  │ 0.481423  │ 0.610814  │\n",
       "⋮\n",
       "│ 90  │ 0.865537 │ 0.0277713  │ 0.108856  │ 0.850077  │ 0.658016  │ 0.622494  │\n",
       "│ 91  │ 0.472027 │ 0.0632137  │ 0.132949  │ 0.0568324 │ 0.237564  │ 0.132219  │\n",
       "│ 92  │ 0.214298 │ 0.417844   │ 0.100075  │ 0.369733  │ 0.973111  │ 0.291273  │\n",
       "│ 93  │ 0.714338 │ 0.859117   │ 0.621122  │ 0.173497  │ 0.941706  │ 0.485196  │\n",
       "│ 94  │ 0.690853 │ 0.35774    │ 0.479175  │ 0.318237  │ 0.404565  │ 0.377118  │\n",
       "│ 95  │ 0.383528 │ 0.0609579  │ 0.219527  │ 0.44513   │ 0.296673  │ 0.639369  │\n",
       "│ 96  │ 0.12381  │ 0.732036   │ 0.236604  │ 0.0649893 │ 0.106875  │ 0.343871  │\n",
       "│ 97  │ 0.71475  │ 0.655101   │ 0.065989  │ 0.135891  │ 0.997011  │ 0.0210381 │\n",
       "│ 98  │ 0.422165 │ 0.985991   │ 0.517044  │ 0.0721196 │ 0.330794  │ 0.696058  │\n",
       "│ 99  │ 0.9266   │ 0.953138   │ 0.808528  │ 0.0994082 │ 0.705817  │ 0.842965  │\n",
       "│ 100 │ 0.914562 │ 0.700196   │ 0.72052   │ 0.206094  │ 0.829292  │ 0.0642699 │"
      ]
     },
     "execution_count": 18,
     "metadata": {},
     "output_type": "execute_result"
    }
   ],
   "source": [
    "x = DataFrame(rand(100, 1000))"
   ]
  },
  {
   "cell_type": "code",
   "execution_count": 19,
   "metadata": {},
   "outputs": [
    {
     "name": "stdout",
     "output_type": "stream",
     "text": [
      "  100.800 μs (1512 allocations: 194.53 KiB)\n"
     ]
    },
    {
     "data": {
      "text/html": [
       "<table class=\"data-frame\"><thead><tr><th></th><th>x1</th><th>x2</th><th>x3</th><th>x4</th><th>x5</th><th>x6</th><th>x7</th><th>x8</th></tr><tr><th></th><th>Float64</th><th>Float64</th><th>Float64</th><th>Float64</th><th>Float64</th><th>Float64</th><th>Float64</th><th>Float64</th></tr></thead><tbody><p>1 rows × 1,000 columns (omitted printing of 992 columns)</p><tr><th>1</th><td>0.194219</td><td>0.0752102</td><td>0.924622</td><td>0.654874</td><td>0.333907</td><td>0.084221</td><td>0.85674</td><td>0.559508</td></tr></tbody></table>"
      ],
      "text/latex": [
       "\\begin{tabular}{r|ccccccccc}\n",
       "\t& x1 & x2 & x3 & x4 & x5 & x6 & x7 & x8 & \\\\\n",
       "\t\\hline\n",
       "\t& Float64 & Float64 & Float64 & Float64 & Float64 & Float64 & Float64 & Float64 & \\\\\n",
       "\t\\hline\n",
       "\t1 & 0.194219 & 0.0752102 & 0.924622 & 0.654874 & 0.333907 & 0.084221 & 0.85674 & 0.559508 & $\\dots$ \\\\\n",
       "\\end{tabular}\n"
      ],
      "text/plain": [
       "1×1000 DataFrame. Omitted printing of 994 columns\n",
       "│ Row │ x1       │ x2        │ x3       │ x4       │ x5       │ x6       │\n",
       "│     │ \u001b[90mFloat64\u001b[39m  │ \u001b[90mFloat64\u001b[39m   │ \u001b[90mFloat64\u001b[39m  │ \u001b[90mFloat64\u001b[39m  │ \u001b[90mFloat64\u001b[39m  │ \u001b[90mFloat64\u001b[39m  │\n",
       "├─────┼──────────┼───────────┼──────────┼──────────┼──────────┼──────────┤\n",
       "│ 1   │ 0.194219 │ 0.0752102 │ 0.924622 │ 0.654874 │ 0.333907 │ 0.084221 │"
      ]
     },
     "execution_count": 19,
     "metadata": {},
     "output_type": "execute_result"
    }
   ],
   "source": [
    "@btime $x[1:1, :]"
   ]
  },
  {
   "cell_type": "code",
   "execution_count": 20,
   "metadata": {},
   "outputs": [
    {
     "name": "stdout",
     "output_type": "stream",
     "text": [
      "  23.593 ns (1 allocation: 32 bytes)\n"
     ]
    },
    {
     "data": {
      "text/html": [
       "<p>DataFrameRow (1000 columns)</p><table class=\"data-frame\"><thead><tr><th></th><th>x1</th><th>x2</th><th>x3</th><th>x4</th><th>x5</th><th>x6</th><th>x7</th><th>x8</th></tr><tr><th></th><th>Float64</th><th>Float64</th><th>Float64</th><th>Float64</th><th>Float64</th><th>Float64</th><th>Float64</th><th>Float64</th></tr></thead><tbody><tr><th>1</th><td>0.194219</td><td>0.0752102</td><td>0.924622</td><td>0.654874</td><td>0.333907</td><td>0.084221</td><td>0.85674</td><td>0.559508</td></tr></tbody></table>"
      ],
      "text/latex": [
       "\\begin{tabular}{r|ccccccccc}\n",
       "\t& x1 & x2 & x3 & x4 & x5 & x6 & x7 & x8 & \\\\\n",
       "\t\\hline\n",
       "\t& Float64 & Float64 & Float64 & Float64 & Float64 & Float64 & Float64 & Float64 & \\\\\n",
       "\t\\hline\n",
       "\t1 & 0.194219 & 0.0752102 & 0.924622 & 0.654874 & 0.333907 & 0.084221 & 0.85674 & 0.559508 & $\\dots$ \\\\\n",
       "\\end{tabular}\n"
      ],
      "text/plain": [
       "DataFrameRow. Omitted printing of 994 columns\n",
       "│ Row │ x1       │ x2        │ x3       │ x4       │ x5       │ x6       │\n",
       "│     │ \u001b[90mFloat64\u001b[39m  │ \u001b[90mFloat64\u001b[39m   │ \u001b[90mFloat64\u001b[39m  │ \u001b[90mFloat64\u001b[39m  │ \u001b[90mFloat64\u001b[39m  │ \u001b[90mFloat64\u001b[39m  │\n",
       "├─────┼──────────┼───────────┼──────────┼──────────┼──────────┼──────────┤\n",
       "│ 1   │ 0.194219 │ 0.0752102 │ 0.924622 │ 0.654874 │ 0.333907 │ 0.084221 │"
      ]
     },
     "execution_count": 20,
     "metadata": {},
     "output_type": "execute_result"
    }
   ],
   "source": [
    "@btime $x[1, :]"
   ]
  },
  {
   "cell_type": "code",
   "execution_count": 21,
   "metadata": {},
   "outputs": [
    {
     "name": "stdout",
     "output_type": "stream",
     "text": [
      "  23.695 ns (1 allocation: 48 bytes)\n"
     ]
    },
    {
     "data": {
      "text/html": [
       "<table class=\"data-frame\"><thead><tr><th></th><th>x1</th><th>x2</th><th>x3</th><th>x4</th><th>x5</th><th>x6</th><th>x7</th><th>x8</th></tr><tr><th></th><th>Float64</th><th>Float64</th><th>Float64</th><th>Float64</th><th>Float64</th><th>Float64</th><th>Float64</th><th>Float64</th></tr></thead><tbody><p>1 rows × 1,000 columns (omitted printing of 992 columns)</p><tr><th>1</th><td>0.194219</td><td>0.0752102</td><td>0.924622</td><td>0.654874</td><td>0.333907</td><td>0.084221</td><td>0.85674</td><td>0.559508</td></tr></tbody></table>"
      ],
      "text/latex": [
       "\\begin{tabular}{r|ccccccccc}\n",
       "\t& x1 & x2 & x3 & x4 & x5 & x6 & x7 & x8 & \\\\\n",
       "\t\\hline\n",
       "\t& Float64 & Float64 & Float64 & Float64 & Float64 & Float64 & Float64 & Float64 & \\\\\n",
       "\t\\hline\n",
       "\t1 & 0.194219 & 0.0752102 & 0.924622 & 0.654874 & 0.333907 & 0.084221 & 0.85674 & 0.559508 & $\\dots$ \\\\\n",
       "\\end{tabular}\n"
      ],
      "text/plain": [
       "1×1000 SubDataFrame. Omitted printing of 994 columns\n",
       "│ Row │ x1       │ x2        │ x3       │ x4       │ x5       │ x6       │\n",
       "│     │ \u001b[90mFloat64\u001b[39m  │ \u001b[90mFloat64\u001b[39m   │ \u001b[90mFloat64\u001b[39m  │ \u001b[90mFloat64\u001b[39m  │ \u001b[90mFloat64\u001b[39m  │ \u001b[90mFloat64\u001b[39m  │\n",
       "├─────┼──────────┼───────────┼──────────┼──────────┼──────────┼──────────┤\n",
       "│ 1   │ 0.194219 │ 0.0752102 │ 0.924622 │ 0.654874 │ 0.333907 │ 0.084221 │"
      ]
     },
     "execution_count": 21,
     "metadata": {},
     "output_type": "execute_result"
    }
   ],
   "source": [
    "@btime view($x, 1:1, :)"
   ]
  },
  {
   "cell_type": "code",
   "execution_count": 22,
   "metadata": {},
   "outputs": [
    {
     "name": "stdout",
     "output_type": "stream",
     "text": [
      "  4.586 μs (56 allocations: 7.36 KiB)\n"
     ]
    },
    {
     "data": {
      "text/html": [
       "<table class=\"data-frame\"><thead><tr><th></th><th>x1</th><th>x2</th><th>x3</th><th>x4</th><th>x5</th><th>x6</th><th>x7</th><th>x8</th></tr><tr><th></th><th>Float64</th><th>Float64</th><th>Float64</th><th>Float64</th><th>Float64</th><th>Float64</th><th>Float64</th><th>Float64</th></tr></thead><tbody><p>1 rows × 20 columns (omitted printing of 12 columns)</p><tr><th>1</th><td>0.194219</td><td>0.0752102</td><td>0.924622</td><td>0.654874</td><td>0.333907</td><td>0.084221</td><td>0.85674</td><td>0.559508</td></tr></tbody></table>"
      ],
      "text/latex": [
       "\\begin{tabular}{r|ccccccccc}\n",
       "\t& x1 & x2 & x3 & x4 & x5 & x6 & x7 & x8 & \\\\\n",
       "\t\\hline\n",
       "\t& Float64 & Float64 & Float64 & Float64 & Float64 & Float64 & Float64 & Float64 & \\\\\n",
       "\t\\hline\n",
       "\t1 & 0.194219 & 0.0752102 & 0.924622 & 0.654874 & 0.333907 & 0.084221 & 0.85674 & 0.559508 & $\\dots$ \\\\\n",
       "\\end{tabular}\n"
      ],
      "text/plain": [
       "1×20 DataFrame. Omitted printing of 14 columns\n",
       "│ Row │ x1       │ x2        │ x3       │ x4       │ x5       │ x6       │\n",
       "│     │ \u001b[90mFloat64\u001b[39m  │ \u001b[90mFloat64\u001b[39m   │ \u001b[90mFloat64\u001b[39m  │ \u001b[90mFloat64\u001b[39m  │ \u001b[90mFloat64\u001b[39m  │ \u001b[90mFloat64\u001b[39m  │\n",
       "├─────┼──────────┼───────────┼──────────┼──────────┼──────────┼──────────┤\n",
       "│ 1   │ 0.194219 │ 0.0752102 │ 0.924622 │ 0.654874 │ 0.333907 │ 0.084221 │"
      ]
     },
     "execution_count": 22,
     "metadata": {},
     "output_type": "execute_result"
    }
   ],
   "source": [
    "@btime $x[1:1, 1:20]"
   ]
  },
  {
   "cell_type": "code",
   "execution_count": 23,
   "metadata": {},
   "outputs": [
    {
     "name": "stdout",
     "output_type": "stream",
     "text": [
      "  27.537 ns (2 allocations: 80 bytes)\n"
     ]
    },
    {
     "data": {
      "text/html": [
       "<p>DataFrameRow (20 columns)</p><table class=\"data-frame\"><thead><tr><th></th><th>x1</th><th>x2</th><th>x3</th><th>x4</th><th>x5</th><th>x6</th><th>x7</th><th>x8</th></tr><tr><th></th><th>Float64</th><th>Float64</th><th>Float64</th><th>Float64</th><th>Float64</th><th>Float64</th><th>Float64</th><th>Float64</th></tr></thead><tbody><tr><th>1</th><td>0.194219</td><td>0.0752102</td><td>0.924622</td><td>0.654874</td><td>0.333907</td><td>0.084221</td><td>0.85674</td><td>0.559508</td></tr></tbody></table>"
      ],
      "text/latex": [
       "\\begin{tabular}{r|ccccccccc}\n",
       "\t& x1 & x2 & x3 & x4 & x5 & x6 & x7 & x8 & \\\\\n",
       "\t\\hline\n",
       "\t& Float64 & Float64 & Float64 & Float64 & Float64 & Float64 & Float64 & Float64 & \\\\\n",
       "\t\\hline\n",
       "\t1 & 0.194219 & 0.0752102 & 0.924622 & 0.654874 & 0.333907 & 0.084221 & 0.85674 & 0.559508 & $\\dots$ \\\\\n",
       "\\end{tabular}\n"
      ],
      "text/plain": [
       "DataFrameRow. Omitted printing of 14 columns\n",
       "│ Row │ x1       │ x2        │ x3       │ x4       │ x5       │ x6       │\n",
       "│     │ \u001b[90mFloat64\u001b[39m  │ \u001b[90mFloat64\u001b[39m   │ \u001b[90mFloat64\u001b[39m  │ \u001b[90mFloat64\u001b[39m  │ \u001b[90mFloat64\u001b[39m  │ \u001b[90mFloat64\u001b[39m  │\n",
       "├─────┼──────────┼───────────┼──────────┼──────────┼──────────┼──────────┤\n",
       "│ 1   │ 0.194219 │ 0.0752102 │ 0.924622 │ 0.654874 │ 0.333907 │ 0.084221 │"
      ]
     },
     "execution_count": 23,
     "metadata": {},
     "output_type": "execute_result"
    }
   ],
   "source": [
    "@btime $x[1, 1:20]"
   ]
  },
  {
   "cell_type": "code",
   "execution_count": 24,
   "metadata": {},
   "outputs": [
    {
     "name": "stdout",
     "output_type": "stream",
     "text": [
      "  27.235 ns (2 allocations: 96 bytes)\n"
     ]
    },
    {
     "data": {
      "text/html": [
       "<table class=\"data-frame\"><thead><tr><th></th><th>x1</th><th>x2</th><th>x3</th><th>x4</th><th>x5</th><th>x6</th><th>x7</th><th>x8</th></tr><tr><th></th><th>Float64</th><th>Float64</th><th>Float64</th><th>Float64</th><th>Float64</th><th>Float64</th><th>Float64</th><th>Float64</th></tr></thead><tbody><p>1 rows × 20 columns (omitted printing of 12 columns)</p><tr><th>1</th><td>0.194219</td><td>0.0752102</td><td>0.924622</td><td>0.654874</td><td>0.333907</td><td>0.084221</td><td>0.85674</td><td>0.559508</td></tr></tbody></table>"
      ],
      "text/latex": [
       "\\begin{tabular}{r|ccccccccc}\n",
       "\t& x1 & x2 & x3 & x4 & x5 & x6 & x7 & x8 & \\\\\n",
       "\t\\hline\n",
       "\t& Float64 & Float64 & Float64 & Float64 & Float64 & Float64 & Float64 & Float64 & \\\\\n",
       "\t\\hline\n",
       "\t1 & 0.194219 & 0.0752102 & 0.924622 & 0.654874 & 0.333907 & 0.084221 & 0.85674 & 0.559508 & $\\dots$ \\\\\n",
       "\\end{tabular}\n"
      ],
      "text/plain": [
       "1×20 SubDataFrame. Omitted printing of 14 columns\n",
       "│ Row │ x1       │ x2        │ x3       │ x4       │ x5       │ x6       │\n",
       "│     │ \u001b[90mFloat64\u001b[39m  │ \u001b[90mFloat64\u001b[39m   │ \u001b[90mFloat64\u001b[39m  │ \u001b[90mFloat64\u001b[39m  │ \u001b[90mFloat64\u001b[39m  │ \u001b[90mFloat64\u001b[39m  │\n",
       "├─────┼──────────┼───────────┼──────────┼──────────┼──────────┼──────────┤\n",
       "│ 1   │ 0.194219 │ 0.0752102 │ 0.924622 │ 0.654874 │ 0.333907 │ 0.084221 │"
      ]
     },
     "execution_count": 24,
     "metadata": {},
     "output_type": "execute_result"
    }
   ],
   "source": [
    "@btime view($x, 1:1, 1:20)"
   ]
  }
 ],
 "metadata": {
  "@webio": {
   "lastCommId": null,
   "lastKernelId": null
  },
  "kernelspec": {
   "display_name": "Julia 1.2.0",
   "language": "julia",
   "name": "julia-1.2"
  },
  "language_info": {
   "file_extension": ".jl",
   "mimetype": "application/julia",
   "name": "julia",
   "version": "1.2.0"
  }
 },
 "nbformat": 4,
 "nbformat_minor": 1
}
