{
 "cells": [
  {
   "cell_type": "markdown",
   "metadata": {},
   "source": [
    "# Introduction to DataFrames\n",
    "**[Bogumił Kamiński](http://bogumilkaminski.pl/about/), December 8, 2019**"
   ]
  },
  {
   "cell_type": "code",
   "execution_count": 1,
   "metadata": {},
   "outputs": [],
   "source": [
    "using DataFrames\n",
    "using BenchmarkTools"
   ]
  },
  {
   "cell_type": "markdown",
   "metadata": {},
   "source": [
    "## Performance tips"
   ]
  },
  {
   "cell_type": "markdown",
   "metadata": {},
   "source": [
    "### Access by column number is faster than by name"
   ]
  },
  {
   "cell_type": "code",
   "execution_count": 2,
   "metadata": {},
   "outputs": [
    {
     "name": "stdout",
     "output_type": "stream",
     "text": [
      "  4.399 ns (0 allocations: 0 bytes)\n",
      "  13.727 ns (0 allocations: 0 bytes)\n"
     ]
    }
   ],
   "source": [
    "x = DataFrame(rand(5, 1000))\n",
    "@btime $x[!, 500];\n",
    "@btime $x.x500;"
   ]
  },
  {
   "cell_type": "markdown",
   "metadata": {},
   "source": [
    "### When working with data `DataFrame` use barrier functions or type annotation"
   ]
  },
  {
   "cell_type": "code",
   "execution_count": 3,
   "metadata": {},
   "outputs": [
    {
     "name": "stdout",
     "output_type": "stream",
     "text": [
      "  84.487 ms (5999020 allocations: 122.06 MiB)\n"
     ]
    }
   ],
   "source": [
    "using Random\n",
    "function f_bad() # this function will be slow\n",
    "    Random.seed!(1); x = DataFrame(rand(1000000,2))\n",
    "    y, z = x[!, 1], x[!, 2]\n",
    "    p = 0.0\n",
    "    for i in 1:nrow(x)\n",
    "        p += y[i]*z[i]\n",
    "    end\n",
    "    p\n",
    "end\n",
    "\n",
    "@btime f_bad();\n",
    "# if you run @code_warntype f_bad() then you notice\n",
    "# that Julia does not know column types of `DataFrame`\n"
   ]
  },
  {
   "cell_type": "code",
   "execution_count": 4,
   "metadata": {},
   "outputs": [
    {
     "name": "stdout",
     "output_type": "stream",
     "text": [
      "  11.836 ms (42 allocations: 30.52 MiB)\n",
      "  11.448 ms (42 allocations: 30.52 MiB)\n"
     ]
    }
   ],
   "source": [
    "# solution 1 is to use barrier function (it should be possible to use it in almost any code)\n",
    "function f_inner(y,z)\n",
    "   p = 0.0\n",
    "   for i in 1:length(y)\n",
    "       p += y[i]*z[i]\n",
    "   end\n",
    "   p\n",
    "end\n",
    "\n",
    "function f_barrier() # extract the work to an inner function\n",
    "    Random.seed!(1); x = DataFrame(rand(1000000,2))\n",
    "    f_inner(x[!, 1], x[!, 2])\n",
    "end\n",
    "\n",
    "using LinearAlgebra\n",
    "function f_inbuilt() # or use inbuilt function if possible\n",
    "    Random.seed!(1); x = DataFrame(rand(1000000,2))\n",
    "    dot(x[!, 1], x[!, 2])\n",
    "end\n",
    "\n",
    "@btime f_barrier();\n",
    "@btime f_inbuilt();"
   ]
  },
  {
   "cell_type": "code",
   "execution_count": 5,
   "metadata": {},
   "outputs": [
    {
     "name": "stdout",
     "output_type": "stream",
     "text": [
      "  11.756 ms (42 allocations: 30.52 MiB)\n"
     ]
    }
   ],
   "source": [
    "# solution 2 is to provide the types of extracted columns\n",
    "# it is simpler but there are cases in which you will not know these types\n",
    "# This example  assumes that you have DataFrames master at least from August 31, 2018\n",
    "function f_typed()\n",
    "    Random.seed!(1); x = DataFrame(rand(1000000,2))\n",
    "    y::Vector{Float64}, z::Vector{Float64} = x[!, 1], x[!, 2]\n",
    "    p = 0.0\n",
    "    for i in 1:nrow(x)\n",
    "        p += y[i]*z[i]\n",
    "    end\n",
    "    p\n",
    "end\n",
    "\n",
    "@btime f_typed();"
   ]
  },
  {
   "cell_type": "markdown",
   "metadata": {},
   "source": [
    "### Consider using delayed `DataFrame` creation technique"
   ]
  },
  {
   "cell_type": "markdown",
   "metadata": {},
   "source": [
    "also notice the difference in performance between `DataFrame` and `DataFrame!` (copying vs non-copying data frame creation)"
   ]
  },
  {
   "cell_type": "code",
   "execution_count": 6,
   "metadata": {},
   "outputs": [
    {
     "name": "stdout",
     "output_type": "stream",
     "text": [
      "  23.668 ms (1949736 allocations: 37.42 MiB)\n",
      "  25.578 ms (1949936 allocations: 45.05 MiB)\n",
      "  5.804 ms (836 allocations: 7.68 MiB)\n",
      "  6.458 ms (1036 allocations: 15.32 MiB)\n"
     ]
    }
   ],
   "source": [
    "function f1()\n",
    "    x = DataFrame!([Vector{Float64}(undef, 10^4) for i in 1:100]) # we work with a DataFrame directly\n",
    "    for c in 1:ncol(x)\n",
    "        d = x[!, c]\n",
    "        for r in 1:nrow(x)\n",
    "            d[r] = rand()\n",
    "        end\n",
    "    end\n",
    "    x\n",
    "end\n",
    "\n",
    "function f1a()\n",
    "    x = DataFrame([Vector{Float64}(undef, 10^4) for i in 1:100]) # we work with a DataFrame directly\n",
    "    for c in 1:ncol(x)\n",
    "        d = x[!, c]\n",
    "        for r in 1:nrow(x)\n",
    "            d[r] = rand()\n",
    "        end\n",
    "    end\n",
    "    x\n",
    "end\n",
    "\n",
    "function f2()\n",
    "    x = Vector{Any}(undef, 100)\n",
    "    for c in 1:length(x)\n",
    "        d = Vector{Float64}(undef, 10^4)\n",
    "        for r in 1:length(d)\n",
    "            d[r] = rand()\n",
    "        end\n",
    "        x[c] = d\n",
    "    end\n",
    "    DataFrame!(x) # we delay creation of DataFrame after we have our job done\n",
    "end\n",
    "\n",
    "function f2a()\n",
    "    x = Vector{Any}(undef, 100)\n",
    "    for c in 1:length(x)\n",
    "        d = Vector{Float64}(undef, 10^4)\n",
    "        for r in 1:length(d)\n",
    "            d[r] = rand()\n",
    "        end\n",
    "        x[c] = d\n",
    "    end\n",
    "    DataFrame(x) # we delay creation of DataFrame after we have our job done\n",
    "end\n",
    "\n",
    "@btime f1();\n",
    "@btime f1a();\n",
    "@btime f2();\n",
    "@btime f2a();"
   ]
  },
  {
   "cell_type": "markdown",
   "metadata": {},
   "source": [
    "### You can add rows to a `DataFrame` in place and it is fast"
   ]
  },
  {
   "cell_type": "code",
   "execution_count": 7,
   "metadata": {},
   "outputs": [
    {
     "name": "stdout",
     "output_type": "stream",
     "text": [
      "  12.832 ms (172 allocations: 38.16 MiB)\n",
      "  834.233 ns (18 allocations: 768 bytes)\n",
      "  316.517 ns (16 allocations: 256 bytes)\n"
     ]
    }
   ],
   "source": [
    "x = DataFrame(rand(10^6, 5))\n",
    "y = DataFrame(transpose(1.0:5.0))\n",
    "z = [1.0:5.0;]\n",
    "\n",
    "@btime vcat($x, $y); # creates a new DataFrame - slow\n",
    "@btime append!($x, $y); # in place - fast\n",
    "\n",
    "x = DataFrame(rand(10^6, 5)) # reset to the same starting point\n",
    "@btime push!($x, $z); # add a single row in place - fast"
   ]
  },
  {
   "cell_type": "markdown",
   "metadata": {},
   "source": [
    "### Allowing `missing` as well as `categorical` slows down computations"
   ]
  },
  {
   "cell_type": "code",
   "execution_count": 8,
   "metadata": {},
   "outputs": [
    {
     "name": "stdout",
     "output_type": "stream",
     "text": [
      "Int64\n",
      " raw:\n",
      "  4.712 ms (7 allocations: 7.63 MiB)\n",
      " categorical:\n",
      "  17.635 ms (4 allocations: 608 bytes)\n",
      "String\n",
      " raw:\n",
      "  22.013 ms (4 allocations: 608 bytes)\n",
      " categorical:\n",
      "  29.232 ms (4 allocations: 608 bytes)\n",
      "Union{Missing, Int64}\n",
      " raw:\n",
      "  10.345 ms (4 allocations: 624 bytes)\n",
      " categorical:\n",
      "  17.681 ms (4 allocations: 608 bytes)\n",
      "Union{Missing, String}\n",
      " raw:\n",
      "  32.312 ms (4 allocations: 608 bytes)\n",
      " categorical:\n",
      "  40.473 ms (4 allocations: 608 bytes)\n"
     ]
    }
   ],
   "source": [
    "using StatsBase\n",
    "\n",
    "function test(data) # uses countmap function to test performance\n",
    "    println(eltype(data))\n",
    "    x = rand(data, 10^6)\n",
    "    y = categorical(x)\n",
    "    println(\" raw:\")\n",
    "    @btime countmap($x)\n",
    "    println(\" categorical:\")\n",
    "    @btime countmap($y)\n",
    "    nothing\n",
    "end\n",
    "\n",
    "test(1:10)\n",
    "test([randstring() for i in 1:10])\n",
    "test(allowmissing(1:10))\n",
    "test(allowmissing([randstring() for i in 1:10]))\n"
   ]
  },
  {
   "cell_type": "markdown",
   "metadata": {},
   "source": [
    "### When aggregating use column selector and prefer categorical or pooled array grouping variable"
   ]
  },
  {
   "cell_type": "code",
   "execution_count": 9,
   "metadata": {},
   "outputs": [],
   "source": [
    "df = DataFrame(x=rand('a':'d', 10^7), y=1);"
   ]
  },
  {
   "cell_type": "code",
   "execution_count": 10,
   "metadata": {},
   "outputs": [
    {
     "name": "stdout",
     "output_type": "stream",
     "text": [
      "  247.536 ms (232 allocations: 433.19 MiB)\n"
     ]
    },
    {
     "data": {
      "text/html": [
       "<table class=\"data-frame\"><thead><tr><th></th><th>x</th><th>x1</th></tr><tr><th></th><th>Char</th><th>Int64</th></tr></thead><tbody><p>4 rows × 2 columns</p><tr><th>1</th><td>'b'</td><td>2500951</td></tr><tr><th>2</th><td>'a'</td><td>2497716</td></tr><tr><th>3</th><td>'c'</td><td>2500955</td></tr><tr><th>4</th><td>'d'</td><td>2500378</td></tr></tbody></table>"
      ],
      "text/latex": [
       "\\begin{tabular}{r|cc}\n",
       "\t& x & x1\\\\\n",
       "\t\\hline\n",
       "\t& Char & Int64\\\\\n",
       "\t\\hline\n",
       "\t1 & 'b' & 2500951 \\\\\n",
       "\t2 & 'a' & 2497716 \\\\\n",
       "\t3 & 'c' & 2500955 \\\\\n",
       "\t4 & 'd' & 2500378 \\\\\n",
       "\\end{tabular}\n"
      ],
      "text/plain": [
       "4×2 DataFrame\n",
       "│ Row │ x    │ x1      │\n",
       "│     │ \u001b[90mChar\u001b[39m │ \u001b[90mInt64\u001b[39m   │\n",
       "├─────┼──────┼─────────┤\n",
       "│ 1   │ 'b'  │ 2500951 │\n",
       "│ 2   │ 'a'  │ 2497716 │\n",
       "│ 3   │ 'c'  │ 2500955 │\n",
       "│ 4   │ 'd'  │ 2500378 │"
      ]
     },
     "execution_count": 10,
     "metadata": {},
     "output_type": "execute_result"
    }
   ],
   "source": [
    "@btime by($df, :x, v -> sum(v.y)) # traditional syntax, slow"
   ]
  },
  {
   "cell_type": "code",
   "execution_count": 11,
   "metadata": {},
   "outputs": [
    {
     "name": "stdout",
     "output_type": "stream",
     "text": [
      "  194.269 ms (178 allocations: 356.89 MiB)\n"
     ]
    },
    {
     "data": {
      "text/html": [
       "<table class=\"data-frame\"><thead><tr><th></th><th>x</th><th>y_sum</th></tr><tr><th></th><th>Char</th><th>Int64</th></tr></thead><tbody><p>4 rows × 2 columns</p><tr><th>1</th><td>'b'</td><td>2500951</td></tr><tr><th>2</th><td>'a'</td><td>2497716</td></tr><tr><th>3</th><td>'c'</td><td>2500955</td></tr><tr><th>4</th><td>'d'</td><td>2500378</td></tr></tbody></table>"
      ],
      "text/latex": [
       "\\begin{tabular}{r|cc}\n",
       "\t& x & y\\_sum\\\\\n",
       "\t\\hline\n",
       "\t& Char & Int64\\\\\n",
       "\t\\hline\n",
       "\t1 & 'b' & 2500951 \\\\\n",
       "\t2 & 'a' & 2497716 \\\\\n",
       "\t3 & 'c' & 2500955 \\\\\n",
       "\t4 & 'd' & 2500378 \\\\\n",
       "\\end{tabular}\n"
      ],
      "text/plain": [
       "4×2 DataFrame\n",
       "│ Row │ x    │ y_sum   │\n",
       "│     │ \u001b[90mChar\u001b[39m │ \u001b[90mInt64\u001b[39m   │\n",
       "├─────┼──────┼─────────┤\n",
       "│ 1   │ 'b'  │ 2500951 │\n",
       "│ 2   │ 'a'  │ 2497716 │\n",
       "│ 3   │ 'c'  │ 2500955 │\n",
       "│ 4   │ 'd'  │ 2500378 │"
      ]
     },
     "execution_count": 11,
     "metadata": {},
     "output_type": "execute_result"
    }
   ],
   "source": [
    "@btime by($df, :x, :y=>sum) # use column selector"
   ]
  },
  {
   "cell_type": "code",
   "execution_count": 12,
   "metadata": {},
   "outputs": [],
   "source": [
    "categorical!(df, :x);"
   ]
  },
  {
   "cell_type": "code",
   "execution_count": 13,
   "metadata": {},
   "outputs": [
    {
     "name": "stdout",
     "output_type": "stream",
     "text": [
      "  95.231 ms (195 allocations: 152.60 MiB)\n"
     ]
    },
    {
     "data": {
      "text/html": [
       "<table class=\"data-frame\"><thead><tr><th></th><th>x</th><th>y_sum</th></tr><tr><th></th><th>Categorical…</th><th>Int64</th></tr></thead><tbody><p>4 rows × 2 columns</p><tr><th>1</th><td>'a'</td><td>2497716</td></tr><tr><th>2</th><td>'b'</td><td>2500951</td></tr><tr><th>3</th><td>'c'</td><td>2500955</td></tr><tr><th>4</th><td>'d'</td><td>2500378</td></tr></tbody></table>"
      ],
      "text/latex": [
       "\\begin{tabular}{r|cc}\n",
       "\t& x & y\\_sum\\\\\n",
       "\t\\hline\n",
       "\t& Categorical… & Int64\\\\\n",
       "\t\\hline\n",
       "\t1 & 'a' & 2497716 \\\\\n",
       "\t2 & 'b' & 2500951 \\\\\n",
       "\t3 & 'c' & 2500955 \\\\\n",
       "\t4 & 'd' & 2500378 \\\\\n",
       "\\end{tabular}\n"
      ],
      "text/plain": [
       "4×2 DataFrame\n",
       "│ Row │ x            │ y_sum   │\n",
       "│     │ \u001b[90mCategorical…\u001b[39m │ \u001b[90mInt64\u001b[39m   │\n",
       "├─────┼──────────────┼─────────┤\n",
       "│ 1   │ 'a'          │ 2497716 │\n",
       "│ 2   │ 'b'          │ 2500951 │\n",
       "│ 3   │ 'c'          │ 2500955 │\n",
       "│ 4   │ 'd'          │ 2500378 │"
      ]
     },
     "execution_count": 13,
     "metadata": {},
     "output_type": "execute_result"
    }
   ],
   "source": [
    "@btime by($df, :x, :y=>sum)"
   ]
  },
  {
   "cell_type": "code",
   "execution_count": 14,
   "metadata": {},
   "outputs": [],
   "source": [
    "using PooledArrays"
   ]
  },
  {
   "cell_type": "code",
   "execution_count": 15,
   "metadata": {},
   "outputs": [
    {
     "data": {
      "text/plain": [
       "10000000-element PooledArray{Char,UInt8,1,Array{UInt8,1}}:\n",
       " 'b'\n",
       " 'a'\n",
       " 'a'\n",
       " 'b'\n",
       " 'c'\n",
       " 'c'\n",
       " 'b'\n",
       " 'b'\n",
       " 'a'\n",
       " 'b'\n",
       " 'c'\n",
       " 'd'\n",
       " 'a'\n",
       " ⋮  \n",
       " 'a'\n",
       " 'c'\n",
       " 'd'\n",
       " 'a'\n",
       " 'b'\n",
       " 'a'\n",
       " 'c'\n",
       " 'c'\n",
       " 'a'\n",
       " 'c'\n",
       " 'c'\n",
       " 'd'"
      ]
     },
     "execution_count": 15,
     "metadata": {},
     "output_type": "execute_result"
    }
   ],
   "source": [
    "df.x = PooledArray{Char}(df.x)"
   ]
  },
  {
   "cell_type": "code",
   "execution_count": 16,
   "metadata": {},
   "outputs": [
    {
     "name": "stdout",
     "output_type": "stream",
     "text": [
      "  95.332 ms (188 allocations: 152.60 MiB)\n"
     ]
    },
    {
     "data": {
      "text/html": [
       "<table class=\"data-frame\"><thead><tr><th></th><th>x</th><th>y_sum</th></tr><tr><th></th><th>Char</th><th>Int64</th></tr></thead><tbody><p>4 rows × 2 columns</p><tr><th>1</th><td>'b'</td><td>2500951</td></tr><tr><th>2</th><td>'a'</td><td>2497716</td></tr><tr><th>3</th><td>'c'</td><td>2500955</td></tr><tr><th>4</th><td>'d'</td><td>2500378</td></tr></tbody></table>"
      ],
      "text/latex": [
       "\\begin{tabular}{r|cc}\n",
       "\t& x & y\\_sum\\\\\n",
       "\t\\hline\n",
       "\t& Char & Int64\\\\\n",
       "\t\\hline\n",
       "\t1 & 'b' & 2500951 \\\\\n",
       "\t2 & 'a' & 2497716 \\\\\n",
       "\t3 & 'c' & 2500955 \\\\\n",
       "\t4 & 'd' & 2500378 \\\\\n",
       "\\end{tabular}\n"
      ],
      "text/plain": [
       "4×2 DataFrame\n",
       "│ Row │ x    │ y_sum   │\n",
       "│     │ \u001b[90mChar\u001b[39m │ \u001b[90mInt64\u001b[39m   │\n",
       "├─────┼──────┼─────────┤\n",
       "│ 1   │ 'b'  │ 2500951 │\n",
       "│ 2   │ 'a'  │ 2497716 │\n",
       "│ 3   │ 'c'  │ 2500955 │\n",
       "│ 4   │ 'd'  │ 2500378 │"
      ]
     },
     "execution_count": 16,
     "metadata": {},
     "output_type": "execute_result"
    }
   ],
   "source": [
    "@btime by($df, :x, :y=>sum)"
   ]
  },
  {
   "cell_type": "markdown",
   "metadata": {},
   "source": [
    "### Use views instead of materializing a new DataFrame"
   ]
  },
  {
   "cell_type": "code",
   "execution_count": 17,
   "metadata": {},
   "outputs": [
    {
     "data": {
      "text/html": [
       "<table class=\"data-frame\"><thead><tr><th></th><th>x1</th><th>x2</th><th>x3</th><th>x4</th><th>x5</th><th>x6</th><th>x7</th><th>x8</th></tr><tr><th></th><th>Float64</th><th>Float64</th><th>Float64</th><th>Float64</th><th>Float64</th><th>Float64</th><th>Float64</th><th>Float64</th></tr></thead><tbody><p>100 rows × 1,000 columns (omitted printing of 992 columns)</p><tr><th>1</th><td>0.401231</td><td>0.554653</td><td>0.351137</td><td>0.466443</td><td>0.146239</td><td>0.491392</td><td>0.738363</td><td>0.381962</td></tr><tr><th>2</th><td>0.814225</td><td>0.798912</td><td>0.261771</td><td>0.911435</td><td>0.00748892</td><td>0.356792</td><td>0.0631944</td><td>0.60062</td></tr><tr><th>3</th><td>0.765845</td><td>0.650583</td><td>0.493127</td><td>0.0861466</td><td>0.332161</td><td>0.0910342</td><td>0.554393</td><td>0.53809</td></tr><tr><th>4</th><td>0.0466681</td><td>0.0592616</td><td>0.344917</td><td>0.394735</td><td>0.320023</td><td>0.90514</td><td>0.661371</td><td>0.957423</td></tr><tr><th>5</th><td>0.451083</td><td>0.767918</td><td>0.079251</td><td>0.38842</td><td>0.965302</td><td>0.486402</td><td>0.605539</td><td>0.778464</td></tr><tr><th>6</th><td>0.238854</td><td>0.670357</td><td>0.704591</td><td>0.735974</td><td>0.850833</td><td>0.178727</td><td>0.603458</td><td>0.212492</td></tr><tr><th>7</th><td>0.0540254</td><td>0.543548</td><td>0.327693</td><td>0.675549</td><td>0.16487</td><td>0.377317</td><td>0.302322</td><td>0.898442</td></tr><tr><th>8</th><td>0.16169</td><td>0.358802</td><td>0.890735</td><td>0.499997</td><td>0.52147</td><td>0.556091</td><td>0.62327</td><td>0.683097</td></tr><tr><th>9</th><td>0.386167</td><td>0.976076</td><td>0.0990527</td><td>0.944734</td><td>0.973824</td><td>0.587316</td><td>0.499486</td><td>0.260115</td></tr><tr><th>10</th><td>0.3423</td><td>0.258658</td><td>0.116603</td><td>0.392028</td><td>0.298917</td><td>0.740033</td><td>0.996724</td><td>0.424945</td></tr><tr><th>11</th><td>0.0324268</td><td>0.0636533</td><td>0.188905</td><td>0.840637</td><td>0.806076</td><td>0.190557</td><td>0.4886</td><td>0.139862</td></tr><tr><th>12</th><td>0.920392</td><td>0.952105</td><td>0.779107</td><td>0.828453</td><td>0.49191</td><td>0.783405</td><td>0.836032</td><td>0.756605</td></tr><tr><th>13</th><td>0.836813</td><td>0.58094</td><td>0.980228</td><td>0.299496</td><td>0.285969</td><td>0.0769111</td><td>0.943639</td><td>0.609568</td></tr><tr><th>14</th><td>0.763172</td><td>0.917903</td><td>0.610753</td><td>0.242606</td><td>0.147648</td><td>0.0103519</td><td>0.730836</td><td>0.190256</td></tr><tr><th>15</th><td>0.417191</td><td>0.159005</td><td>0.61301</td><td>0.998468</td><td>0.656115</td><td>0.846859</td><td>0.387488</td><td>0.757489</td></tr><tr><th>16</th><td>0.125616</td><td>0.241929</td><td>0.391397</td><td>0.218385</td><td>0.493255</td><td>0.146628</td><td>0.265159</td><td>0.838275</td></tr><tr><th>17</th><td>0.404116</td><td>0.256788</td><td>0.149639</td><td>0.169757</td><td>0.568673</td><td>0.386592</td><td>0.516355</td><td>0.526462</td></tr><tr><th>18</th><td>0.502863</td><td>0.613861</td><td>0.655145</td><td>0.169402</td><td>0.771001</td><td>0.310419</td><td>0.367167</td><td>0.807778</td></tr><tr><th>19</th><td>0.0521336</td><td>0.488173</td><td>0.0473046</td><td>0.388891</td><td>0.508808</td><td>0.072889</td><td>0.970552</td><td>0.857428</td></tr><tr><th>20</th><td>0.691894</td><td>0.240523</td><td>0.474541</td><td>0.690535</td><td>0.733694</td><td>0.044767</td><td>0.0986767</td><td>0.248432</td></tr><tr><th>21</th><td>0.617325</td><td>0.253887</td><td>0.316634</td><td>0.237032</td><td>0.0727342</td><td>0.170686</td><td>0.297555</td><td>0.217292</td></tr><tr><th>22</th><td>0.0184999</td><td>0.131789</td><td>0.357251</td><td>0.936252</td><td>0.372254</td><td>0.973393</td><td>0.913176</td><td>0.797139</td></tr><tr><th>23</th><td>0.691112</td><td>0.0941637</td><td>0.927515</td><td>0.676322</td><td>0.129493</td><td>0.432146</td><td>0.750378</td><td>0.967233</td></tr><tr><th>24</th><td>0.330361</td><td>0.709876</td><td>0.394578</td><td>0.803752</td><td>0.686921</td><td>0.203502</td><td>0.860663</td><td>0.219845</td></tr><tr><th>25</th><td>0.531773</td><td>0.705275</td><td>0.431549</td><td>0.1725</td><td>0.715566</td><td>0.423973</td><td>0.700862</td><td>0.633093</td></tr><tr><th>26</th><td>0.322428</td><td>0.221394</td><td>0.83061</td><td>0.702351</td><td>0.035712</td><td>0.97726</td><td>0.966754</td><td>0.0759105</td></tr><tr><th>27</th><td>0.711001</td><td>0.109791</td><td>0.223728</td><td>0.560602</td><td>0.264944</td><td>0.178562</td><td>0.157821</td><td>0.197904</td></tr><tr><th>28</th><td>0.487896</td><td>0.611116</td><td>0.461322</td><td>0.388529</td><td>0.37387</td><td>0.620898</td><td>0.0854852</td><td>0.445505</td></tr><tr><th>29</th><td>0.0336611</td><td>0.704568</td><td>0.840062</td><td>0.350895</td><td>0.0768774</td><td>0.688113</td><td>0.0914557</td><td>0.863719</td></tr><tr><th>30</th><td>0.730972</td><td>0.894356</td><td>0.665525</td><td>0.0347059</td><td>0.875041</td><td>0.257904</td><td>0.531009</td><td>0.0786523</td></tr><tr><th>&vellip;</th><td>&vellip;</td><td>&vellip;</td><td>&vellip;</td><td>&vellip;</td><td>&vellip;</td><td>&vellip;</td><td>&vellip;</td><td>&vellip;</td></tr></tbody></table>"
      ],
      "text/latex": [
       "\\begin{tabular}{r|ccccccccc}\n",
       "\t& x1 & x2 & x3 & x4 & x5 & x6 & x7 & x8 & \\\\\n",
       "\t\\hline\n",
       "\t& Float64 & Float64 & Float64 & Float64 & Float64 & Float64 & Float64 & Float64 & \\\\\n",
       "\t\\hline\n",
       "\t1 & 0.401231 & 0.554653 & 0.351137 & 0.466443 & 0.146239 & 0.491392 & 0.738363 & 0.381962 & $\\dots$ \\\\\n",
       "\t2 & 0.814225 & 0.798912 & 0.261771 & 0.911435 & 0.00748892 & 0.356792 & 0.0631944 & 0.60062 & $\\dots$ \\\\\n",
       "\t3 & 0.765845 & 0.650583 & 0.493127 & 0.0861466 & 0.332161 & 0.0910342 & 0.554393 & 0.53809 & $\\dots$ \\\\\n",
       "\t4 & 0.0466681 & 0.0592616 & 0.344917 & 0.394735 & 0.320023 & 0.90514 & 0.661371 & 0.957423 & $\\dots$ \\\\\n",
       "\t5 & 0.451083 & 0.767918 & 0.079251 & 0.38842 & 0.965302 & 0.486402 & 0.605539 & 0.778464 & $\\dots$ \\\\\n",
       "\t6 & 0.238854 & 0.670357 & 0.704591 & 0.735974 & 0.850833 & 0.178727 & 0.603458 & 0.212492 & $\\dots$ \\\\\n",
       "\t7 & 0.0540254 & 0.543548 & 0.327693 & 0.675549 & 0.16487 & 0.377317 & 0.302322 & 0.898442 & $\\dots$ \\\\\n",
       "\t8 & 0.16169 & 0.358802 & 0.890735 & 0.499997 & 0.52147 & 0.556091 & 0.62327 & 0.683097 & $\\dots$ \\\\\n",
       "\t9 & 0.386167 & 0.976076 & 0.0990527 & 0.944734 & 0.973824 & 0.587316 & 0.499486 & 0.260115 & $\\dots$ \\\\\n",
       "\t10 & 0.3423 & 0.258658 & 0.116603 & 0.392028 & 0.298917 & 0.740033 & 0.996724 & 0.424945 & $\\dots$ \\\\\n",
       "\t11 & 0.0324268 & 0.0636533 & 0.188905 & 0.840637 & 0.806076 & 0.190557 & 0.4886 & 0.139862 & $\\dots$ \\\\\n",
       "\t12 & 0.920392 & 0.952105 & 0.779107 & 0.828453 & 0.49191 & 0.783405 & 0.836032 & 0.756605 & $\\dots$ \\\\\n",
       "\t13 & 0.836813 & 0.58094 & 0.980228 & 0.299496 & 0.285969 & 0.0769111 & 0.943639 & 0.609568 & $\\dots$ \\\\\n",
       "\t14 & 0.763172 & 0.917903 & 0.610753 & 0.242606 & 0.147648 & 0.0103519 & 0.730836 & 0.190256 & $\\dots$ \\\\\n",
       "\t15 & 0.417191 & 0.159005 & 0.61301 & 0.998468 & 0.656115 & 0.846859 & 0.387488 & 0.757489 & $\\dots$ \\\\\n",
       "\t16 & 0.125616 & 0.241929 & 0.391397 & 0.218385 & 0.493255 & 0.146628 & 0.265159 & 0.838275 & $\\dots$ \\\\\n",
       "\t17 & 0.404116 & 0.256788 & 0.149639 & 0.169757 & 0.568673 & 0.386592 & 0.516355 & 0.526462 & $\\dots$ \\\\\n",
       "\t18 & 0.502863 & 0.613861 & 0.655145 & 0.169402 & 0.771001 & 0.310419 & 0.367167 & 0.807778 & $\\dots$ \\\\\n",
       "\t19 & 0.0521336 & 0.488173 & 0.0473046 & 0.388891 & 0.508808 & 0.072889 & 0.970552 & 0.857428 & $\\dots$ \\\\\n",
       "\t20 & 0.691894 & 0.240523 & 0.474541 & 0.690535 & 0.733694 & 0.044767 & 0.0986767 & 0.248432 & $\\dots$ \\\\\n",
       "\t21 & 0.617325 & 0.253887 & 0.316634 & 0.237032 & 0.0727342 & 0.170686 & 0.297555 & 0.217292 & $\\dots$ \\\\\n",
       "\t22 & 0.0184999 & 0.131789 & 0.357251 & 0.936252 & 0.372254 & 0.973393 & 0.913176 & 0.797139 & $\\dots$ \\\\\n",
       "\t23 & 0.691112 & 0.0941637 & 0.927515 & 0.676322 & 0.129493 & 0.432146 & 0.750378 & 0.967233 & $\\dots$ \\\\\n",
       "\t24 & 0.330361 & 0.709876 & 0.394578 & 0.803752 & 0.686921 & 0.203502 & 0.860663 & 0.219845 & $\\dots$ \\\\\n",
       "\t25 & 0.531773 & 0.705275 & 0.431549 & 0.1725 & 0.715566 & 0.423973 & 0.700862 & 0.633093 & $\\dots$ \\\\\n",
       "\t26 & 0.322428 & 0.221394 & 0.83061 & 0.702351 & 0.035712 & 0.97726 & 0.966754 & 0.0759105 & $\\dots$ \\\\\n",
       "\t27 & 0.711001 & 0.109791 & 0.223728 & 0.560602 & 0.264944 & 0.178562 & 0.157821 & 0.197904 & $\\dots$ \\\\\n",
       "\t28 & 0.487896 & 0.611116 & 0.461322 & 0.388529 & 0.37387 & 0.620898 & 0.0854852 & 0.445505 & $\\dots$ \\\\\n",
       "\t29 & 0.0336611 & 0.704568 & 0.840062 & 0.350895 & 0.0768774 & 0.688113 & 0.0914557 & 0.863719 & $\\dots$ \\\\\n",
       "\t30 & 0.730972 & 0.894356 & 0.665525 & 0.0347059 & 0.875041 & 0.257904 & 0.531009 & 0.0786523 & $\\dots$ \\\\\n",
       "\t$\\dots$ & $\\dots$ & $\\dots$ & $\\dots$ & $\\dots$ & $\\dots$ & $\\dots$ & $\\dots$ & $\\dots$ &  \\\\\n",
       "\\end{tabular}\n"
      ],
      "text/plain": [
       "100×1000 DataFrame. Omitted printing of 994 columns\n",
       "│ Row │ x1        │ x2        │ x3        │ x4        │ x5         │ x6        │\n",
       "│     │ \u001b[90mFloat64\u001b[39m   │ \u001b[90mFloat64\u001b[39m   │ \u001b[90mFloat64\u001b[39m   │ \u001b[90mFloat64\u001b[39m   │ \u001b[90mFloat64\u001b[39m    │ \u001b[90mFloat64\u001b[39m   │\n",
       "├─────┼───────────┼───────────┼───────────┼───────────┼────────────┼───────────┤\n",
       "│ 1   │ 0.401231  │ 0.554653  │ 0.351137  │ 0.466443  │ 0.146239   │ 0.491392  │\n",
       "│ 2   │ 0.814225  │ 0.798912  │ 0.261771  │ 0.911435  │ 0.00748892 │ 0.356792  │\n",
       "│ 3   │ 0.765845  │ 0.650583  │ 0.493127  │ 0.0861466 │ 0.332161   │ 0.0910342 │\n",
       "│ 4   │ 0.0466681 │ 0.0592616 │ 0.344917  │ 0.394735  │ 0.320023   │ 0.90514   │\n",
       "│ 5   │ 0.451083  │ 0.767918  │ 0.079251  │ 0.38842   │ 0.965302   │ 0.486402  │\n",
       "│ 6   │ 0.238854  │ 0.670357  │ 0.704591  │ 0.735974  │ 0.850833   │ 0.178727  │\n",
       "│ 7   │ 0.0540254 │ 0.543548  │ 0.327693  │ 0.675549  │ 0.16487    │ 0.377317  │\n",
       "│ 8   │ 0.16169   │ 0.358802  │ 0.890735  │ 0.499997  │ 0.52147    │ 0.556091  │\n",
       "│ 9   │ 0.386167  │ 0.976076  │ 0.0990527 │ 0.944734  │ 0.973824   │ 0.587316  │\n",
       "│ 10  │ 0.3423    │ 0.258658  │ 0.116603  │ 0.392028  │ 0.298917   │ 0.740033  │\n",
       "⋮\n",
       "│ 90  │ 0.297605  │ 0.0309275 │ 0.0413175 │ 0.308723  │ 0.273037   │ 0.10486   │\n",
       "│ 91  │ 0.914724  │ 0.118524  │ 0.649708  │ 0.741564  │ 0.392647   │ 0.321443  │\n",
       "│ 92  │ 0.0238583 │ 0.219234  │ 0.0698428 │ 0.8466    │ 0.0732618  │ 0.609531  │\n",
       "│ 93  │ 0.571088  │ 0.60634   │ 0.974107  │ 0.308371  │ 0.0526426  │ 0.851714  │\n",
       "│ 94  │ 0.868685  │ 0.359362  │ 0.896688  │ 0.925134  │ 0.168619   │ 0.884979  │\n",
       "│ 95  │ 0.734143  │ 0.4706    │ 0.784143  │ 0.578642  │ 0.00125462 │ 0.19058   │\n",
       "│ 96  │ 0.105253  │ 0.0833235 │ 0.794786  │ 0.285429  │ 0.930277   │ 0.906369  │\n",
       "│ 97  │ 0.223907  │ 0.288168  │ 0.871665  │ 0.910164  │ 0.391419   │ 0.65484   │\n",
       "│ 98  │ 0.272707  │ 0.831778  │ 0.767252  │ 0.609493  │ 0.0337416  │ 0.974827  │\n",
       "│ 99  │ 0.847021  │ 0.308142  │ 0.681606  │ 0.978172  │ 0.799455   │ 0.242795  │\n",
       "│ 100 │ 0.589364  │ 0.628947  │ 0.892805  │ 0.432713  │ 0.458356   │ 0.368706  │"
      ]
     },
     "execution_count": 17,
     "metadata": {},
     "output_type": "execute_result"
    }
   ],
   "source": [
    "x = DataFrame(rand(100, 1000))"
   ]
  },
  {
   "cell_type": "code",
   "execution_count": 18,
   "metadata": {},
   "outputs": [
    {
     "name": "stdout",
     "output_type": "stream",
     "text": [
      "  99.099 μs (1510 allocations: 194.39 KiB)\n"
     ]
    },
    {
     "data": {
      "text/html": [
       "<table class=\"data-frame\"><thead><tr><th></th><th>x1</th><th>x2</th><th>x3</th><th>x4</th><th>x5</th><th>x6</th><th>x7</th><th>x8</th></tr><tr><th></th><th>Float64</th><th>Float64</th><th>Float64</th><th>Float64</th><th>Float64</th><th>Float64</th><th>Float64</th><th>Float64</th></tr></thead><tbody><p>1 rows × 1,000 columns (omitted printing of 992 columns)</p><tr><th>1</th><td>0.401231</td><td>0.554653</td><td>0.351137</td><td>0.466443</td><td>0.146239</td><td>0.491392</td><td>0.738363</td><td>0.381962</td></tr></tbody></table>"
      ],
      "text/latex": [
       "\\begin{tabular}{r|ccccccccc}\n",
       "\t& x1 & x2 & x3 & x4 & x5 & x6 & x7 & x8 & \\\\\n",
       "\t\\hline\n",
       "\t& Float64 & Float64 & Float64 & Float64 & Float64 & Float64 & Float64 & Float64 & \\\\\n",
       "\t\\hline\n",
       "\t1 & 0.401231 & 0.554653 & 0.351137 & 0.466443 & 0.146239 & 0.491392 & 0.738363 & 0.381962 & $\\dots$ \\\\\n",
       "\\end{tabular}\n"
      ],
      "text/plain": [
       "1×1000 DataFrame. Omitted printing of 994 columns\n",
       "│ Row │ x1       │ x2       │ x3       │ x4       │ x5       │ x6       │\n",
       "│     │ \u001b[90mFloat64\u001b[39m  │ \u001b[90mFloat64\u001b[39m  │ \u001b[90mFloat64\u001b[39m  │ \u001b[90mFloat64\u001b[39m  │ \u001b[90mFloat64\u001b[39m  │ \u001b[90mFloat64\u001b[39m  │\n",
       "├─────┼──────────┼──────────┼──────────┼──────────┼──────────┼──────────┤\n",
       "│ 1   │ 0.401231 │ 0.554653 │ 0.351137 │ 0.466443 │ 0.146239 │ 0.491392 │"
      ]
     },
     "execution_count": 18,
     "metadata": {},
     "output_type": "execute_result"
    }
   ],
   "source": [
    "@btime $x[1:1, :]"
   ]
  },
  {
   "cell_type": "code",
   "execution_count": 19,
   "metadata": {},
   "outputs": [
    {
     "name": "stdout",
     "output_type": "stream",
     "text": [
      "  26.130 ns (1 allocation: 32 bytes)\n"
     ]
    },
    {
     "data": {
      "text/html": [
       "<p>DataFrameRow (1000 columns)</p><table class=\"data-frame\"><thead><tr><th></th><th>x1</th><th>x2</th><th>x3</th><th>x4</th><th>x5</th><th>x6</th><th>x7</th><th>x8</th></tr><tr><th></th><th>Float64</th><th>Float64</th><th>Float64</th><th>Float64</th><th>Float64</th><th>Float64</th><th>Float64</th><th>Float64</th></tr></thead><tbody><tr><th>1</th><td>0.401231</td><td>0.554653</td><td>0.351137</td><td>0.466443</td><td>0.146239</td><td>0.491392</td><td>0.738363</td><td>0.381962</td></tr></tbody></table>"
      ],
      "text/latex": [
       "\\begin{tabular}{r|ccccccccc}\n",
       "\t& x1 & x2 & x3 & x4 & x5 & x6 & x7 & x8 & \\\\\n",
       "\t\\hline\n",
       "\t& Float64 & Float64 & Float64 & Float64 & Float64 & Float64 & Float64 & Float64 & \\\\\n",
       "\t\\hline\n",
       "\t1 & 0.401231 & 0.554653 & 0.351137 & 0.466443 & 0.146239 & 0.491392 & 0.738363 & 0.381962 & $\\dots$ \\\\\n",
       "\\end{tabular}\n"
      ],
      "text/plain": [
       "DataFrameRow. Omitted printing of 994 columns\n",
       "│ Row │ x1       │ x2       │ x3       │ x4       │ x5       │ x6       │\n",
       "│     │ \u001b[90mFloat64\u001b[39m  │ \u001b[90mFloat64\u001b[39m  │ \u001b[90mFloat64\u001b[39m  │ \u001b[90mFloat64\u001b[39m  │ \u001b[90mFloat64\u001b[39m  │ \u001b[90mFloat64\u001b[39m  │\n",
       "├─────┼──────────┼──────────┼──────────┼──────────┼──────────┼──────────┤\n",
       "│ 1   │ 0.401231 │ 0.554653 │ 0.351137 │ 0.466443 │ 0.146239 │ 0.491392 │"
      ]
     },
     "execution_count": 19,
     "metadata": {},
     "output_type": "execute_result"
    }
   ],
   "source": [
    "@btime $x[1, :]"
   ]
  },
  {
   "cell_type": "code",
   "execution_count": 20,
   "metadata": {},
   "outputs": [
    {
     "name": "stdout",
     "output_type": "stream",
     "text": [
      "  26.433 ns (1 allocation: 48 bytes)\n"
     ]
    },
    {
     "data": {
      "text/html": [
       "<table class=\"data-frame\"><thead><tr><th></th><th>x1</th><th>x2</th><th>x3</th><th>x4</th><th>x5</th><th>x6</th><th>x7</th><th>x8</th></tr><tr><th></th><th>Float64</th><th>Float64</th><th>Float64</th><th>Float64</th><th>Float64</th><th>Float64</th><th>Float64</th><th>Float64</th></tr></thead><tbody><p>1 rows × 1,000 columns (omitted printing of 992 columns)</p><tr><th>1</th><td>0.401231</td><td>0.554653</td><td>0.351137</td><td>0.466443</td><td>0.146239</td><td>0.491392</td><td>0.738363</td><td>0.381962</td></tr></tbody></table>"
      ],
      "text/latex": [
       "\\begin{tabular}{r|ccccccccc}\n",
       "\t& x1 & x2 & x3 & x4 & x5 & x6 & x7 & x8 & \\\\\n",
       "\t\\hline\n",
       "\t& Float64 & Float64 & Float64 & Float64 & Float64 & Float64 & Float64 & Float64 & \\\\\n",
       "\t\\hline\n",
       "\t1 & 0.401231 & 0.554653 & 0.351137 & 0.466443 & 0.146239 & 0.491392 & 0.738363 & 0.381962 & $\\dots$ \\\\\n",
       "\\end{tabular}\n"
      ],
      "text/plain": [
       "1×1000 SubDataFrame. Omitted printing of 994 columns\n",
       "│ Row │ x1       │ x2       │ x3       │ x4       │ x5       │ x6       │\n",
       "│     │ \u001b[90mFloat64\u001b[39m  │ \u001b[90mFloat64\u001b[39m  │ \u001b[90mFloat64\u001b[39m  │ \u001b[90mFloat64\u001b[39m  │ \u001b[90mFloat64\u001b[39m  │ \u001b[90mFloat64\u001b[39m  │\n",
       "├─────┼──────────┼──────────┼──────────┼──────────┼──────────┼──────────┤\n",
       "│ 1   │ 0.401231 │ 0.554653 │ 0.351137 │ 0.466443 │ 0.146239 │ 0.491392 │"
      ]
     },
     "execution_count": 20,
     "metadata": {},
     "output_type": "execute_result"
    }
   ],
   "source": [
    "@btime view($x, 1:1, :)"
   ]
  },
  {
   "cell_type": "code",
   "execution_count": 21,
   "metadata": {},
   "outputs": [
    {
     "name": "stdout",
     "output_type": "stream",
     "text": [
      "  4.143 μs (54 allocations: 7.22 KiB)\n"
     ]
    },
    {
     "data": {
      "text/html": [
       "<table class=\"data-frame\"><thead><tr><th></th><th>x1</th><th>x2</th><th>x3</th><th>x4</th><th>x5</th><th>x6</th><th>x7</th><th>x8</th></tr><tr><th></th><th>Float64</th><th>Float64</th><th>Float64</th><th>Float64</th><th>Float64</th><th>Float64</th><th>Float64</th><th>Float64</th></tr></thead><tbody><p>1 rows × 20 columns (omitted printing of 12 columns)</p><tr><th>1</th><td>0.401231</td><td>0.554653</td><td>0.351137</td><td>0.466443</td><td>0.146239</td><td>0.491392</td><td>0.738363</td><td>0.381962</td></tr></tbody></table>"
      ],
      "text/latex": [
       "\\begin{tabular}{r|ccccccccc}\n",
       "\t& x1 & x2 & x3 & x4 & x5 & x6 & x7 & x8 & \\\\\n",
       "\t\\hline\n",
       "\t& Float64 & Float64 & Float64 & Float64 & Float64 & Float64 & Float64 & Float64 & \\\\\n",
       "\t\\hline\n",
       "\t1 & 0.401231 & 0.554653 & 0.351137 & 0.466443 & 0.146239 & 0.491392 & 0.738363 & 0.381962 & $\\dots$ \\\\\n",
       "\\end{tabular}\n"
      ],
      "text/plain": [
       "1×20 DataFrame. Omitted printing of 14 columns\n",
       "│ Row │ x1       │ x2       │ x3       │ x4       │ x5       │ x6       │\n",
       "│     │ \u001b[90mFloat64\u001b[39m  │ \u001b[90mFloat64\u001b[39m  │ \u001b[90mFloat64\u001b[39m  │ \u001b[90mFloat64\u001b[39m  │ \u001b[90mFloat64\u001b[39m  │ \u001b[90mFloat64\u001b[39m  │\n",
       "├─────┼──────────┼──────────┼──────────┼──────────┼──────────┼──────────┤\n",
       "│ 1   │ 0.401231 │ 0.554653 │ 0.351137 │ 0.466443 │ 0.146239 │ 0.491392 │"
      ]
     },
     "execution_count": 21,
     "metadata": {},
     "output_type": "execute_result"
    }
   ],
   "source": [
    "@btime $x[1:1, 1:20]"
   ]
  },
  {
   "cell_type": "code",
   "execution_count": 22,
   "metadata": {},
   "outputs": [
    {
     "name": "stdout",
     "output_type": "stream",
     "text": [
      "  35.685 ns (2 allocations: 80 bytes)\n"
     ]
    },
    {
     "data": {
      "text/html": [
       "<p>DataFrameRow (20 columns)</p><table class=\"data-frame\"><thead><tr><th></th><th>x1</th><th>x2</th><th>x3</th><th>x4</th><th>x5</th><th>x6</th><th>x7</th><th>x8</th></tr><tr><th></th><th>Float64</th><th>Float64</th><th>Float64</th><th>Float64</th><th>Float64</th><th>Float64</th><th>Float64</th><th>Float64</th></tr></thead><tbody><tr><th>1</th><td>0.401231</td><td>0.554653</td><td>0.351137</td><td>0.466443</td><td>0.146239</td><td>0.491392</td><td>0.738363</td><td>0.381962</td></tr></tbody></table>"
      ],
      "text/latex": [
       "\\begin{tabular}{r|ccccccccc}\n",
       "\t& x1 & x2 & x3 & x4 & x5 & x6 & x7 & x8 & \\\\\n",
       "\t\\hline\n",
       "\t& Float64 & Float64 & Float64 & Float64 & Float64 & Float64 & Float64 & Float64 & \\\\\n",
       "\t\\hline\n",
       "\t1 & 0.401231 & 0.554653 & 0.351137 & 0.466443 & 0.146239 & 0.491392 & 0.738363 & 0.381962 & $\\dots$ \\\\\n",
       "\\end{tabular}\n"
      ],
      "text/plain": [
       "DataFrameRow. Omitted printing of 14 columns\n",
       "│ Row │ x1       │ x2       │ x3       │ x4       │ x5       │ x6       │\n",
       "│     │ \u001b[90mFloat64\u001b[39m  │ \u001b[90mFloat64\u001b[39m  │ \u001b[90mFloat64\u001b[39m  │ \u001b[90mFloat64\u001b[39m  │ \u001b[90mFloat64\u001b[39m  │ \u001b[90mFloat64\u001b[39m  │\n",
       "├─────┼──────────┼──────────┼──────────┼──────────┼──────────┼──────────┤\n",
       "│ 1   │ 0.401231 │ 0.554653 │ 0.351137 │ 0.466443 │ 0.146239 │ 0.491392 │"
      ]
     },
     "execution_count": 22,
     "metadata": {},
     "output_type": "execute_result"
    }
   ],
   "source": [
    "@btime $x[1, 1:20]"
   ]
  },
  {
   "cell_type": "code",
   "execution_count": 23,
   "metadata": {},
   "outputs": [
    {
     "name": "stdout",
     "output_type": "stream",
     "text": [
      "  36.391 ns (2 allocations: 96 bytes)\n"
     ]
    },
    {
     "data": {
      "text/html": [
       "<table class=\"data-frame\"><thead><tr><th></th><th>x1</th><th>x2</th><th>x3</th><th>x4</th><th>x5</th><th>x6</th><th>x7</th><th>x8</th></tr><tr><th></th><th>Float64</th><th>Float64</th><th>Float64</th><th>Float64</th><th>Float64</th><th>Float64</th><th>Float64</th><th>Float64</th></tr></thead><tbody><p>1 rows × 20 columns (omitted printing of 12 columns)</p><tr><th>1</th><td>0.401231</td><td>0.554653</td><td>0.351137</td><td>0.466443</td><td>0.146239</td><td>0.491392</td><td>0.738363</td><td>0.381962</td></tr></tbody></table>"
      ],
      "text/latex": [
       "\\begin{tabular}{r|ccccccccc}\n",
       "\t& x1 & x2 & x3 & x4 & x5 & x6 & x7 & x8 & \\\\\n",
       "\t\\hline\n",
       "\t& Float64 & Float64 & Float64 & Float64 & Float64 & Float64 & Float64 & Float64 & \\\\\n",
       "\t\\hline\n",
       "\t1 & 0.401231 & 0.554653 & 0.351137 & 0.466443 & 0.146239 & 0.491392 & 0.738363 & 0.381962 & $\\dots$ \\\\\n",
       "\\end{tabular}\n"
      ],
      "text/plain": [
       "1×20 SubDataFrame. Omitted printing of 14 columns\n",
       "│ Row │ x1       │ x2       │ x3       │ x4       │ x5       │ x6       │\n",
       "│     │ \u001b[90mFloat64\u001b[39m  │ \u001b[90mFloat64\u001b[39m  │ \u001b[90mFloat64\u001b[39m  │ \u001b[90mFloat64\u001b[39m  │ \u001b[90mFloat64\u001b[39m  │ \u001b[90mFloat64\u001b[39m  │\n",
       "├─────┼──────────┼──────────┼──────────┼──────────┼──────────┼──────────┤\n",
       "│ 1   │ 0.401231 │ 0.554653 │ 0.351137 │ 0.466443 │ 0.146239 │ 0.491392 │"
      ]
     },
     "execution_count": 23,
     "metadata": {},
     "output_type": "execute_result"
    }
   ],
   "source": [
    "@btime view($x, 1:1, 1:20)"
   ]
  }
 ],
 "metadata": {
  "@webio": {
   "lastCommId": null,
   "lastKernelId": null
  },
  "kernelspec": {
   "display_name": "Julia 1.3.0",
   "language": "julia",
   "name": "julia-1.3"
  },
  "language_info": {
   "file_extension": ".jl",
   "mimetype": "application/julia",
   "name": "julia",
   "version": "1.3.0"
  }
 },
 "nbformat": 4,
 "nbformat_minor": 1
}
