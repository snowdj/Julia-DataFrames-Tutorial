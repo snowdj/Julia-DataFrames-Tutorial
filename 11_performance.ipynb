{
 "cells": [
  {
   "cell_type": "markdown",
   "metadata": {},
   "source": [
    "# Introduction to DataFrames\n",
    "**[Bogumił Kamiński](http://bogumilkaminski.pl/about/), July 16, 2019**"
   ]
  },
  {
   "cell_type": "code",
   "execution_count": 1,
   "metadata": {},
   "outputs": [],
   "source": [
    "using DataFrames\n",
    "using BenchmarkTools"
   ]
  },
  {
   "cell_type": "markdown",
   "metadata": {},
   "source": [
    "## Performance tips"
   ]
  },
  {
   "cell_type": "markdown",
   "metadata": {},
   "source": [
    "### Access by column number is faster than by name"
   ]
  },
  {
   "cell_type": "code",
   "execution_count": 2,
   "metadata": {},
   "outputs": [
    {
     "name": "stdout",
     "output_type": "stream",
     "text": [
      "  4.199 ns (0 allocations: 0 bytes)\n",
      "  14.328 ns (0 allocations: 0 bytes)\n"
     ]
    }
   ],
   "source": [
    "x = DataFrame(rand(5, 1000))\n",
    "@btime $x[!, 500];\n",
    "@btime $x.x500;"
   ]
  },
  {
   "cell_type": "markdown",
   "metadata": {},
   "source": [
    "### When working with data `DataFrame` use barrier functions or type annotation"
   ]
  },
  {
   "cell_type": "code",
   "execution_count": 3,
   "metadata": {},
   "outputs": [
    {
     "name": "stdout",
     "output_type": "stream",
     "text": [
      "  83.402 ms (5999023 allocations: 122.06 MiB)\n"
     ]
    }
   ],
   "source": [
    "using Random\n",
    "function f_bad() # this function will be slow\n",
    "    Random.seed!(1); x = DataFrame(rand(1000000,2))\n",
    "    y, z = x[!, 1], x[!, 2]\n",
    "    p = 0.0\n",
    "    for i in 1:nrow(x)\n",
    "        p += y[i]*z[i]\n",
    "    end\n",
    "    p\n",
    "end\n",
    "\n",
    "@btime f_bad();\n",
    "# if you run @code_warntype f_bad() then you notice\n",
    "# that Julia does not know column types of `DataFrame`\n"
   ]
  },
  {
   "cell_type": "code",
   "execution_count": 4,
   "metadata": {},
   "outputs": [
    {
     "name": "stdout",
     "output_type": "stream",
     "text": [
      "  12.379 ms (45 allocations: 30.52 MiB)\n",
      "  12.863 ms (45 allocations: 30.52 MiB)\n"
     ]
    }
   ],
   "source": [
    "# solution 1 is to use barrier function (it should be possible to use it in almost any code)\n",
    "function f_inner(y,z)\n",
    "   p = 0.0\n",
    "   for i in 1:length(y)\n",
    "       p += y[i]*z[i]\n",
    "   end\n",
    "   p\n",
    "end\n",
    "\n",
    "function f_barrier() # extract the work to an inner function\n",
    "    Random.seed!(1); x = DataFrame(rand(1000000,2))\n",
    "    f_inner(x[!, 1], x[!, 2])\n",
    "end\n",
    "\n",
    "using LinearAlgebra\n",
    "function f_inbuilt() # or use inbuilt function if possible\n",
    "    Random.seed!(1); x = DataFrame(rand(1000000,2))\n",
    "    dot(x[!, 1], x[!, 2])\n",
    "end\n",
    "\n",
    "@btime f_barrier();\n",
    "@btime f_inbuilt();"
   ]
  },
  {
   "cell_type": "code",
   "execution_count": 5,
   "metadata": {},
   "outputs": [
    {
     "name": "stdout",
     "output_type": "stream",
     "text": [
      "  12.582 ms (45 allocations: 30.52 MiB)\n"
     ]
    }
   ],
   "source": [
    "# solution 2 is to provide the types of extracted columns\n",
    "# it is simpler but there are cases in which you will not know these types\n",
    "# This example  assumes that you have DataFrames master at least from August 31, 2018\n",
    "function f_typed()\n",
    "    Random.seed!(1); x = DataFrame(rand(1000000,2))\n",
    "    y::Vector{Float64}, z::Vector{Float64} = x[!, 1], x[!, 2]\n",
    "    p = 0.0\n",
    "    for i in 1:nrow(x)\n",
    "        p += y[i]*z[i]\n",
    "    end\n",
    "    p\n",
    "end\n",
    "\n",
    "@btime f_typed();"
   ]
  },
  {
   "cell_type": "markdown",
   "metadata": {},
   "source": [
    "### Consider using delayed `DataFrame` creation technique"
   ]
  },
  {
   "cell_type": "markdown",
   "metadata": {},
   "source": [
    "also notice the difference in performance between `DataFrame` and `DataFrame!` (copying vs non-copying data frame creation)"
   ]
  },
  {
   "cell_type": "code",
   "execution_count": 6,
   "metadata": {},
   "outputs": [
    {
     "name": "stdout",
     "output_type": "stream",
     "text": [
      "  20.849 ms (1949837 allocations: 37.42 MiB)\n",
      "  21.840 ms (1950037 allocations: 45.06 MiB)\n",
      "  1.568 ms (937 allocations: 7.69 MiB)\n",
      "  2.538 ms (1137 allocations: 15.32 MiB)\n"
     ]
    }
   ],
   "source": [
    "function f1()\n",
    "    x = DataFrame!([Vector{Float64}(undef, 10^4) for i in 1:100]) # we work with a DataFrame directly\n",
    "    for c in 1:ncol(x)\n",
    "        d = x[!, c]\n",
    "        for r in 1:nrow(x)\n",
    "            d[r] = rand()\n",
    "        end\n",
    "    end\n",
    "    x\n",
    "end\n",
    "\n",
    "function f1a()\n",
    "    x = DataFrame([Vector{Float64}(undef, 10^4) for i in 1:100]) # we work with a DataFrame directly\n",
    "    for c in 1:ncol(x)\n",
    "        d = x[!, c]\n",
    "        for r in 1:nrow(x)\n",
    "            d[r] = rand()\n",
    "        end\n",
    "    end\n",
    "    x\n",
    "end\n",
    "\n",
    "function f2()\n",
    "    x = Vector{Any}(undef, 100)\n",
    "    for c in 1:length(x)\n",
    "        d = Vector{Float64}(undef, 10^4)\n",
    "        for r in 1:length(d)\n",
    "            d[r] = rand()\n",
    "        end\n",
    "        x[c] = d\n",
    "    end\n",
    "    DataFrame!(x) # we delay creation of DataFrame after we have our job done\n",
    "end\n",
    "\n",
    "function f2a()\n",
    "    x = Vector{Any}(undef, 100)\n",
    "    for c in 1:length(x)\n",
    "        d = Vector{Float64}(undef, 10^4)\n",
    "        for r in 1:length(d)\n",
    "            d[r] = rand()\n",
    "        end\n",
    "        x[c] = d\n",
    "    end\n",
    "    DataFrame(x) # we delay creation of DataFrame after we have our job done\n",
    "end\n",
    "\n",
    "@btime f1();\n",
    "@btime f1a();\n",
    "@btime f2();\n",
    "@btime f2a();"
   ]
  },
  {
   "cell_type": "markdown",
   "metadata": {},
   "source": [
    "### You can add rows to a `DataFrame` in place and it is fast"
   ]
  },
  {
   "cell_type": "code",
   "execution_count": 7,
   "metadata": {},
   "outputs": [
    {
     "name": "stdout",
     "output_type": "stream",
     "text": [
      "  13.669 ms (174 allocations: 38.16 MiB)\n",
      "  166.582 ns (1 allocation: 16 bytes)\n",
      "  193.721 ns (5 allocations: 80 bytes)\n"
     ]
    }
   ],
   "source": [
    "x = DataFrame(rand(10^6, 5))\n",
    "y = DataFrame(transpose(1.0:5.0))\n",
    "z = [1.0:5.0;]\n",
    "\n",
    "@btime vcat($x, $y); # creates a new DataFrame - slow\n",
    "@btime append!($x, $y); # in place - fast\n",
    "\n",
    "x = DataFrame(rand(10^6, 5)) # reset to the same starting point\n",
    "@btime push!($x, $z); # add a single row in place - fast"
   ]
  },
  {
   "cell_type": "markdown",
   "metadata": {},
   "source": [
    "### Allowing `missing` as well as `categorical` slows down computations"
   ]
  },
  {
   "cell_type": "code",
   "execution_count": 8,
   "metadata": {},
   "outputs": [
    {
     "name": "stdout",
     "output_type": "stream",
     "text": [
      "Int64\n",
      " raw:\n",
      "  4.625 ms (7 allocations: 7.63 MiB)\n",
      " categorical:\n",
      "  18.108 ms (4 allocations: 608 bytes)\n",
      "String\n",
      " raw:\n",
      "  23.858 ms (4 allocations: 608 bytes)\n",
      " categorical:\n",
      "  30.332 ms (4 allocations: 608 bytes)\n",
      "Union{Missing, Int64}\n",
      " raw:\n",
      "  10.390 ms (4 allocations: 624 bytes)\n",
      " categorical:\n",
      "  18.695 ms (4 allocations: 608 bytes)\n",
      "Union{Missing, String}\n",
      " raw:\n",
      "  24.059 ms (4 allocations: 608 bytes)\n",
      " categorical:\n",
      "  37.816 ms (4 allocations: 608 bytes)\n"
     ]
    }
   ],
   "source": [
    "using StatsBase\n",
    "\n",
    "function test(data) # uses countmap function to test performance\n",
    "    println(eltype(data))\n",
    "    x = rand(data, 10^6)\n",
    "    y = categorical(x)\n",
    "    println(\" raw:\")\n",
    "    @btime countmap($x)\n",
    "    println(\" categorical:\")\n",
    "    @btime countmap($y)\n",
    "    nothing\n",
    "end\n",
    "\n",
    "test(1:10)\n",
    "test([randstring() for i in 1:10])\n",
    "test(allowmissing(1:10))\n",
    "test(allowmissing([randstring() for i in 1:10]))\n"
   ]
  },
  {
   "cell_type": "markdown",
   "metadata": {},
   "source": [
    "### When aggregating use column selector and prefer categorical or pooled array grouping variable"
   ]
  },
  {
   "cell_type": "code",
   "execution_count": 9,
   "metadata": {},
   "outputs": [],
   "source": [
    "df = DataFrame(x=rand('a':'d', 10^7), y=1);"
   ]
  },
  {
   "cell_type": "code",
   "execution_count": 10,
   "metadata": {},
   "outputs": [
    {
     "name": "stdout",
     "output_type": "stream",
     "text": [
      "  313.270 ms (196 allocations: 433.19 MiB)\n"
     ]
    },
    {
     "data": {
      "text/html": [
       "<table class=\"data-frame\"><thead><tr><th></th><th>x</th><th>x1</th></tr><tr><th></th><th>Char</th><th>Int64</th></tr></thead><tbody><p>4 rows × 2 columns</p><tr><th>1</th><td>'b'</td><td>2504347</td></tr><tr><th>2</th><td>'d'</td><td>2498415</td></tr><tr><th>3</th><td>'c'</td><td>2499953</td></tr><tr><th>4</th><td>'a'</td><td>2497285</td></tr></tbody></table>"
      ],
      "text/latex": [
       "\\begin{tabular}{r|cc}\n",
       "\t& x & x1\\\\\n",
       "\t\\hline\n",
       "\t& Char & Int64\\\\\n",
       "\t\\hline\n",
       "\t1 & 'b' & 2504347 \\\\\n",
       "\t2 & 'd' & 2498415 \\\\\n",
       "\t3 & 'c' & 2499953 \\\\\n",
       "\t4 & 'a' & 2497285 \\\\\n",
       "\\end{tabular}\n"
      ],
      "text/plain": [
       "4×2 DataFrame\n",
       "│ Row │ x    │ x1      │\n",
       "│     │ \u001b[90mChar\u001b[39m │ \u001b[90mInt64\u001b[39m   │\n",
       "├─────┼──────┼─────────┤\n",
       "│ 1   │ 'b'  │ 2504347 │\n",
       "│ 2   │ 'd'  │ 2498415 │\n",
       "│ 3   │ 'c'  │ 2499953 │\n",
       "│ 4   │ 'a'  │ 2497285 │"
      ]
     },
     "execution_count": 10,
     "metadata": {},
     "output_type": "execute_result"
    }
   ],
   "source": [
    "@btime by($df, :x, v -> sum(v.y)) # traditional syntax, slow"
   ]
  },
  {
   "cell_type": "code",
   "execution_count": 11,
   "metadata": {},
   "outputs": [
    {
     "name": "stdout",
     "output_type": "stream",
     "text": [
      "  218.989 ms (157 allocations: 356.89 MiB)\n"
     ]
    },
    {
     "data": {
      "text/html": [
       "<table class=\"data-frame\"><thead><tr><th></th><th>x</th><th>y_sum</th></tr><tr><th></th><th>Char</th><th>Int64</th></tr></thead><tbody><p>4 rows × 2 columns</p><tr><th>1</th><td>'b'</td><td>2504347</td></tr><tr><th>2</th><td>'d'</td><td>2498415</td></tr><tr><th>3</th><td>'c'</td><td>2499953</td></tr><tr><th>4</th><td>'a'</td><td>2497285</td></tr></tbody></table>"
      ],
      "text/latex": [
       "\\begin{tabular}{r|cc}\n",
       "\t& x & y\\_sum\\\\\n",
       "\t\\hline\n",
       "\t& Char & Int64\\\\\n",
       "\t\\hline\n",
       "\t1 & 'b' & 2504347 \\\\\n",
       "\t2 & 'd' & 2498415 \\\\\n",
       "\t3 & 'c' & 2499953 \\\\\n",
       "\t4 & 'a' & 2497285 \\\\\n",
       "\\end{tabular}\n"
      ],
      "text/plain": [
       "4×2 DataFrame\n",
       "│ Row │ x    │ y_sum   │\n",
       "│     │ \u001b[90mChar\u001b[39m │ \u001b[90mInt64\u001b[39m   │\n",
       "├─────┼──────┼─────────┤\n",
       "│ 1   │ 'b'  │ 2504347 │\n",
       "│ 2   │ 'd'  │ 2498415 │\n",
       "│ 3   │ 'c'  │ 2499953 │\n",
       "│ 4   │ 'a'  │ 2497285 │"
      ]
     },
     "execution_count": 11,
     "metadata": {},
     "output_type": "execute_result"
    }
   ],
   "source": [
    "@btime by($df, :x, :y=>sum) # use column selector"
   ]
  },
  {
   "cell_type": "code",
   "execution_count": 12,
   "metadata": {},
   "outputs": [],
   "source": [
    "categorical!(df, :x);"
   ]
  },
  {
   "cell_type": "code",
   "execution_count": 13,
   "metadata": {},
   "outputs": [
    {
     "name": "stdout",
     "output_type": "stream",
     "text": [
      "  97.493 ms (176 allocations: 152.60 MiB)\n"
     ]
    },
    {
     "data": {
      "text/html": [
       "<table class=\"data-frame\"><thead><tr><th></th><th>x</th><th>y_sum</th></tr><tr><th></th><th>Categorical…</th><th>Int64</th></tr></thead><tbody><p>4 rows × 2 columns</p><tr><th>1</th><td>'a'</td><td>2497285</td></tr><tr><th>2</th><td>'b'</td><td>2504347</td></tr><tr><th>3</th><td>'c'</td><td>2499953</td></tr><tr><th>4</th><td>'d'</td><td>2498415</td></tr></tbody></table>"
      ],
      "text/latex": [
       "\\begin{tabular}{r|cc}\n",
       "\t& x & y\\_sum\\\\\n",
       "\t\\hline\n",
       "\t& Categorical… & Int64\\\\\n",
       "\t\\hline\n",
       "\t1 & 'a' & 2497285 \\\\\n",
       "\t2 & 'b' & 2504347 \\\\\n",
       "\t3 & 'c' & 2499953 \\\\\n",
       "\t4 & 'd' & 2498415 \\\\\n",
       "\\end{tabular}\n"
      ],
      "text/plain": [
       "4×2 DataFrame\n",
       "│ Row │ x            │ y_sum   │\n",
       "│     │ \u001b[90mCategorical…\u001b[39m │ \u001b[90mInt64\u001b[39m   │\n",
       "├─────┼──────────────┼─────────┤\n",
       "│ 1   │ 'a'          │ 2497285 │\n",
       "│ 2   │ 'b'          │ 2504347 │\n",
       "│ 3   │ 'c'          │ 2499953 │\n",
       "│ 4   │ 'd'          │ 2498415 │"
      ]
     },
     "execution_count": 13,
     "metadata": {},
     "output_type": "execute_result"
    }
   ],
   "source": [
    "@btime by($df, :x, :y=>sum)"
   ]
  },
  {
   "cell_type": "code",
   "execution_count": 14,
   "metadata": {},
   "outputs": [],
   "source": [
    "using PooledArrays"
   ]
  },
  {
   "cell_type": "code",
   "execution_count": 15,
   "metadata": {},
   "outputs": [
    {
     "data": {
      "text/plain": [
       "10000000-element PooledArray{Char,UInt8,1,Array{UInt8,1}}:\n",
       " 'b'\n",
       " 'd'\n",
       " 'b'\n",
       " 'd'\n",
       " 'c'\n",
       " 'b'\n",
       " 'b'\n",
       " 'b'\n",
       " 'c'\n",
       " 'c'\n",
       " ⋮  \n",
       " 'a'\n",
       " 'c'\n",
       " 'b'\n",
       " 'b'\n",
       " 'd'\n",
       " 'c'\n",
       " 'b'\n",
       " 'a'\n",
       " 'a'"
      ]
     },
     "execution_count": 15,
     "metadata": {},
     "output_type": "execute_result"
    }
   ],
   "source": [
    "df.x = PooledArray{Char}(df.x)"
   ]
  },
  {
   "cell_type": "code",
   "execution_count": 16,
   "metadata": {},
   "outputs": [
    {
     "name": "stdout",
     "output_type": "stream",
     "text": [
      "  97.074 ms (166 allocations: 152.60 MiB)\n"
     ]
    },
    {
     "data": {
      "text/html": [
       "<table class=\"data-frame\"><thead><tr><th></th><th>x</th><th>y_sum</th></tr><tr><th></th><th>Char</th><th>Int64</th></tr></thead><tbody><p>4 rows × 2 columns</p><tr><th>1</th><td>'b'</td><td>2504347</td></tr><tr><th>2</th><td>'d'</td><td>2498415</td></tr><tr><th>3</th><td>'c'</td><td>2499953</td></tr><tr><th>4</th><td>'a'</td><td>2497285</td></tr></tbody></table>"
      ],
      "text/latex": [
       "\\begin{tabular}{r|cc}\n",
       "\t& x & y\\_sum\\\\\n",
       "\t\\hline\n",
       "\t& Char & Int64\\\\\n",
       "\t\\hline\n",
       "\t1 & 'b' & 2504347 \\\\\n",
       "\t2 & 'd' & 2498415 \\\\\n",
       "\t3 & 'c' & 2499953 \\\\\n",
       "\t4 & 'a' & 2497285 \\\\\n",
       "\\end{tabular}\n"
      ],
      "text/plain": [
       "4×2 DataFrame\n",
       "│ Row │ x    │ y_sum   │\n",
       "│     │ \u001b[90mChar\u001b[39m │ \u001b[90mInt64\u001b[39m   │\n",
       "├─────┼──────┼─────────┤\n",
       "│ 1   │ 'b'  │ 2504347 │\n",
       "│ 2   │ 'd'  │ 2498415 │\n",
       "│ 3   │ 'c'  │ 2499953 │\n",
       "│ 4   │ 'a'  │ 2497285 │"
      ]
     },
     "execution_count": 16,
     "metadata": {},
     "output_type": "execute_result"
    }
   ],
   "source": [
    "@btime by($df, :x, :y=>sum)"
   ]
  },
  {
   "cell_type": "markdown",
   "metadata": {},
   "source": [
    "### Use views instead of materializing a new DataFrame"
   ]
  },
  {
   "cell_type": "code",
   "execution_count": 17,
   "metadata": {},
   "outputs": [
    {
     "data": {
      "text/html": [
       "<table class=\"data-frame\"><thead><tr><th></th><th>x1</th><th>x2</th><th>x3</th><th>x4</th><th>x5</th><th>x6</th><th>x7</th><th>x8</th><th>x9</th><th>x10</th><th>x11</th><th>x12</th><th>x13</th><th>x14</th><th>x15</th><th>x16</th><th>x17</th><th>x18</th><th>x19</th><th>x20</th><th>x21</th><th>x22</th><th>x23</th><th>x24</th><th>x25</th><th>x26</th><th>x27</th><th>x28</th><th>x29</th><th>x30</th><th>x31</th><th>x32</th><th>x33</th><th>x34</th><th>x35</th><th>x36</th><th>x37</th><th>x38</th><th>x39</th><th>x40</th><th>x41</th><th>x42</th><th>x43</th><th>x44</th><th>x45</th><th>x46</th><th>x47</th><th>x48</th><th>x49</th><th>x50</th><th>x51</th><th>x52</th><th>x53</th><th>x54</th><th>x55</th><th>x56</th><th>x57</th><th>x58</th><th>x59</th><th>x60</th><th>x61</th><th>x62</th><th>x63</th><th>x64</th><th>x65</th><th>x66</th><th>x67</th><th>x68</th><th>x69</th><th>x70</th><th>x71</th><th>x72</th><th>x73</th><th>x74</th><th>x75</th><th>x76</th><th>x77</th><th>x78</th><th>x79</th><th>x80</th><th>x81</th><th>x82</th><th>x83</th><th>x84</th><th>x85</th><th>x86</th><th>x87</th><th>x88</th><th>x89</th><th>x90</th><th>x91</th></tr><tr><th></th><th>Float64</th><th>Float64</th><th>Float64</th><th>Float64</th><th>Float64</th><th>Float64</th><th>Float64</th><th>Float64</th><th>Float64</th><th>Float64</th><th>Float64</th><th>Float64</th><th>Float64</th><th>Float64</th><th>Float64</th><th>Float64</th><th>Float64</th><th>Float64</th><th>Float64</th><th>Float64</th><th>Float64</th><th>Float64</th><th>Float64</th><th>Float64</th><th>Float64</th><th>Float64</th><th>Float64</th><th>Float64</th><th>Float64</th><th>Float64</th><th>Float64</th><th>Float64</th><th>Float64</th><th>Float64</th><th>Float64</th><th>Float64</th><th>Float64</th><th>Float64</th><th>Float64</th><th>Float64</th><th>Float64</th><th>Float64</th><th>Float64</th><th>Float64</th><th>Float64</th><th>Float64</th><th>Float64</th><th>Float64</th><th>Float64</th><th>Float64</th><th>Float64</th><th>Float64</th><th>Float64</th><th>Float64</th><th>Float64</th><th>Float64</th><th>Float64</th><th>Float64</th><th>Float64</th><th>Float64</th><th>Float64</th><th>Float64</th><th>Float64</th><th>Float64</th><th>Float64</th><th>Float64</th><th>Float64</th><th>Float64</th><th>Float64</th><th>Float64</th><th>Float64</th><th>Float64</th><th>Float64</th><th>Float64</th><th>Float64</th><th>Float64</th><th>Float64</th><th>Float64</th><th>Float64</th><th>Float64</th><th>Float64</th><th>Float64</th><th>Float64</th><th>Float64</th><th>Float64</th><th>Float64</th><th>Float64</th><th>Float64</th><th>Float64</th><th>Float64</th><th>Float64</th></tr></thead><tbody><p>100 rows × 1,000 columns (omitted printing of 909 columns)</p><tr><th>1</th><td>0.691238</td><td>0.502941</td><td>0.113297</td><td>0.328738</td><td>0.13378</td><td>0.441278</td><td>0.685002</td><td>0.0538219</td><td>0.0761798</td><td>0.769235</td><td>0.284291</td><td>0.171352</td><td>0.754563</td><td>0.648736</td><td>0.0953225</td><td>0.775889</td><td>0.841043</td><td>0.311933</td><td>0.56814</td><td>0.577725</td><td>0.192599</td><td>0.00604097</td><td>0.581288</td><td>0.746245</td><td>0.385509</td><td>0.355455</td><td>0.929221</td><td>0.729291</td><td>0.778783</td><td>0.598102</td><td>0.498373</td><td>0.0278266</td><td>0.0462616</td><td>0.0804585</td><td>0.486005</td><td>0.829665</td><td>0.605489</td><td>0.922619</td><td>0.615983</td><td>0.975146</td><td>0.218467</td><td>0.214458</td><td>0.201525</td><td>0.388645</td><td>0.558404</td><td>0.163782</td><td>0.437683</td><td>0.897702</td><td>0.0696074</td><td>0.656873</td><td>0.096646</td><td>0.604482</td><td>0.826148</td><td>0.90222</td><td>0.213158</td><td>0.145633</td><td>0.715524</td><td>0.821202</td><td>0.851274</td><td>0.809465</td><td>0.938894</td><td>0.833493</td><td>0.0128205</td><td>0.911447</td><td>0.572925</td><td>0.492402</td><td>0.70685</td><td>0.391735</td><td>0.379956</td><td>0.894197</td><td>0.319608</td><td>0.282724</td><td>0.662529</td><td>0.751371</td><td>0.0515758</td><td>0.0554555</td><td>0.407253</td><td>0.714758</td><td>0.930454</td><td>0.34133</td><td>0.409226</td><td>0.0593862</td><td>0.943453</td><td>0.396289</td><td>0.611359</td><td>0.630375</td><td>0.0122984</td><td>0.948587</td><td>0.395367</td><td>0.912241</td><td>0.192444</td></tr><tr><th>2</th><td>0.815357</td><td>0.7703</td><td>0.239176</td><td>0.275748</td><td>0.183924</td><td>0.507341</td><td>0.284418</td><td>0.28708</td><td>0.942902</td><td>0.0887963</td><td>0.734511</td><td>0.379075</td><td>0.434635</td><td>0.474651</td><td>0.280465</td><td>0.180545</td><td>0.997093</td><td>0.58534</td><td>0.404039</td><td>0.0574775</td><td>0.829238</td><td>0.551627</td><td>0.0609086</td><td>0.866673</td><td>0.00203838</td><td>0.23122</td><td>0.100199</td><td>0.542427</td><td>0.6176</td><td>0.210846</td><td>0.169462</td><td>0.317331</td><td>0.120702</td><td>0.522714</td><td>0.771854</td><td>0.861075</td><td>0.607028</td><td>0.577105</td><td>0.0263973</td><td>0.508519</td><td>0.207115</td><td>0.260203</td><td>0.966495</td><td>0.950563</td><td>0.23515</td><td>0.807233</td><td>0.667959</td><td>0.469412</td><td>0.68944</td><td>0.303178</td><td>0.916198</td><td>0.175827</td><td>0.630586</td><td>0.617525</td><td>0.436164</td><td>0.30317</td><td>0.0596742</td><td>0.0982103</td><td>0.094269</td><td>0.774918</td><td>0.74536</td><td>0.45168</td><td>0.0928307</td><td>0.314255</td><td>0.837564</td><td>0.507878</td><td>0.633839</td><td>0.298748</td><td>0.501813</td><td>0.667421</td><td>0.244102</td><td>0.99187</td><td>0.320146</td><td>0.327764</td><td>0.0972044</td><td>0.865251</td><td>0.370263</td><td>0.207617</td><td>0.490622</td><td>0.128018</td><td>0.973084</td><td>0.769352</td><td>0.780947</td><td>0.258148</td><td>0.812933</td><td>0.83484</td><td>0.432996</td><td>0.511692</td><td>0.611335</td><td>0.877168</td><td>0.742428</td></tr><tr><th>3</th><td>0.816104</td><td>0.0311551</td><td>0.5683</td><td>0.704495</td><td>0.549385</td><td>0.471999</td><td>0.543525</td><td>0.878611</td><td>0.0553813</td><td>0.433413</td><td>0.721113</td><td>0.90562</td><td>0.822592</td><td>0.101155</td><td>0.215981</td><td>0.0727627</td><td>0.579711</td><td>0.579151</td><td>0.755325</td><td>0.632599</td><td>0.676199</td><td>0.921829</td><td>0.749605</td><td>0.981136</td><td>0.10249</td><td>0.953556</td><td>0.50945</td><td>0.646269</td><td>0.396988</td><td>0.932969</td><td>0.506011</td><td>0.387092</td><td>0.513568</td><td>0.548799</td><td>0.117301</td><td>0.749199</td><td>0.161664</td><td>0.507067</td><td>0.982289</td><td>0.0554118</td><td>0.0723973</td><td>0.296174</td><td>0.2617</td><td>0.0464874</td><td>0.0168145</td><td>0.938944</td><td>0.731108</td><td>0.464276</td><td>0.0282041</td><td>0.112549</td><td>0.745749</td><td>0.432314</td><td>0.693835</td><td>0.956663</td><td>0.177674</td><td>0.874948</td><td>0.587931</td><td>0.834267</td><td>0.751571</td><td>0.871607</td><td>0.118688</td><td>0.895995</td><td>0.688151</td><td>0.931742</td><td>0.0470647</td><td>0.356565</td><td>0.648014</td><td>0.314232</td><td>0.90112</td><td>0.837802</td><td>0.419339</td><td>0.126734</td><td>0.00268467</td><td>0.843003</td><td>0.505144</td><td>0.5602</td><td>0.0985052</td><td>0.861954</td><td>0.860644</td><td>0.204682</td><td>0.634035</td><td>0.553771</td><td>0.220832</td><td>0.416234</td><td>0.900075</td><td>0.095238</td><td>0.323409</td><td>0.461687</td><td>0.099201</td><td>0.043433</td><td>0.690487</td></tr><tr><th>4</th><td>0.0294096</td><td>0.602984</td><td>0.357492</td><td>0.588966</td><td>0.100176</td><td>0.163219</td><td>0.3719</td><td>0.0634015</td><td>0.57308</td><td>0.795895</td><td>0.89425</td><td>0.0849626</td><td>0.763744</td><td>0.239118</td><td>0.722183</td><td>0.856142</td><td>0.180864</td><td>0.581203</td><td>0.3304</td><td>0.520827</td><td>0.0140902</td><td>0.402648</td><td>0.492288</td><td>0.0419267</td><td>0.565855</td><td>0.185707</td><td>0.912092</td><td>0.276022</td><td>0.687733</td><td>0.152818</td><td>0.596199</td><td>0.246881</td><td>0.624406</td><td>0.86924</td><td>0.60933</td><td>0.662877</td><td>0.97319</td><td>0.112181</td><td>0.417401</td><td>0.384564</td><td>0.824204</td><td>0.936204</td><td>0.710395</td><td>0.962075</td><td>0.429801</td><td>0.781552</td><td>0.110724</td><td>0.238736</td><td>0.239962</td><td>0.805589</td><td>0.45364</td><td>0.827796</td><td>0.0670384</td><td>0.651466</td><td>0.136</td><td>0.596721</td><td>0.0877139</td><td>0.147265</td><td>0.621543</td><td>0.185766</td><td>0.935794</td><td>0.940496</td><td>0.041551</td><td>0.380434</td><td>0.804594</td><td>0.463235</td><td>0.614597</td><td>0.995259</td><td>0.853942</td><td>0.909778</td><td>0.677835</td><td>0.136624</td><td>0.0101655</td><td>0.313183</td><td>0.793315</td><td>0.640075</td><td>0.802004</td><td>0.355651</td><td>0.797319</td><td>0.811142</td><td>0.8665</td><td>0.440861</td><td>0.110327</td><td>0.591043</td><td>0.382544</td><td>0.345257</td><td>0.506768</td><td>0.344783</td><td>0.0190208</td><td>0.371157</td><td>0.885855</td></tr><tr><th>5</th><td>0.735294</td><td>0.518496</td><td>0.867751</td><td>0.944726</td><td>0.304592</td><td>0.341913</td><td>0.681918</td><td>0.0712981</td><td>0.999297</td><td>0.8393</td><td>0.949566</td><td>0.461614</td><td>0.249693</td><td>0.5351</td><td>0.908043</td><td>0.197059</td><td>0.688323</td><td>0.200507</td><td>0.0450562</td><td>0.70558</td><td>0.770484</td><td>0.0854422</td><td>0.843648</td><td>0.641052</td><td>0.408662</td><td>0.479613</td><td>0.47507</td><td>0.826897</td><td>0.168435</td><td>0.433382</td><td>0.502158</td><td>0.274056</td><td>0.61335</td><td>0.89971</td><td>0.717724</td><td>0.94818</td><td>0.375389</td><td>0.953553</td><td>0.455064</td><td>0.483564</td><td>0.0675189</td><td>0.274972</td><td>0.0285296</td><td>0.683966</td><td>0.192759</td><td>0.263576</td><td>0.531961</td><td>0.227704</td><td>0.102302</td><td>0.786472</td><td>0.028373</td><td>0.0335419</td><td>0.90208</td><td>0.493996</td><td>0.860681</td><td>0.513063</td><td>0.0637473</td><td>0.185034</td><td>0.940987</td><td>0.029071</td><td>0.715109</td><td>0.199015</td><td>0.430876</td><td>0.038609</td><td>0.843466</td><td>0.554907</td><td>0.130222</td><td>0.25381</td><td>0.927273</td><td>0.7202</td><td>0.45438</td><td>0.968065</td><td>0.244117</td><td>0.964951</td><td>0.59948</td><td>0.0335906</td><td>0.0874323</td><td>0.919734</td><td>0.57089</td><td>0.541353</td><td>0.743658</td><td>0.953108</td><td>0.601884</td><td>0.170292</td><td>0.790372</td><td>0.0300106</td><td>0.650849</td><td>0.691083</td><td>0.672981</td><td>0.211433</td><td>0.31572</td></tr><tr><th>6</th><td>0.104985</td><td>0.748484</td><td>0.270928</td><td>0.726806</td><td>0.242353</td><td>0.424651</td><td>0.89167</td><td>0.0989472</td><td>0.63658</td><td>0.451663</td><td>0.58207</td><td>0.37181</td><td>0.784128</td><td>0.881445</td><td>0.522263</td><td>0.843995</td><td>0.647146</td><td>0.510528</td><td>0.760864</td><td>0.176008</td><td>0.604682</td><td>0.529928</td><td>0.868341</td><td>0.956101</td><td>0.636343</td><td>0.346888</td><td>0.383413</td><td>0.124892</td><td>0.137329</td><td>0.953385</td><td>0.019473</td><td>0.918218</td><td>0.217521</td><td>0.454126</td><td>0.216184</td><td>0.128865</td><td>0.71009</td><td>0.202403</td><td>0.786343</td><td>0.376344</td><td>0.876184</td><td>0.173444</td><td>0.543272</td><td>0.569241</td><td>0.217485</td><td>0.54297</td><td>0.794895</td><td>0.197436</td><td>0.405965</td><td>0.218483</td><td>0.621621</td><td>0.588901</td><td>0.55798</td><td>0.758998</td><td>0.0190227</td><td>0.0141301</td><td>0.262226</td><td>0.526782</td><td>0.897284</td><td>0.160378</td><td>0.882961</td><td>0.908824</td><td>0.288973</td><td>0.995771</td><td>0.217869</td><td>0.155613</td><td>0.14274</td><td>0.398137</td><td>0.715217</td><td>0.671268</td><td>0.309147</td><td>0.0980875</td><td>0.0506852</td><td>0.705388</td><td>0.856581</td><td>0.490066</td><td>0.868483</td><td>0.923126</td><td>0.134035</td><td>0.0515882</td><td>0.745122</td><td>0.967005</td><td>0.56791</td><td>0.478049</td><td>0.0906394</td><td>0.124289</td><td>0.333455</td><td>0.133029</td><td>0.785799</td><td>0.00307311</td><td>0.0231871</td></tr><tr><th>7</th><td>0.122963</td><td>0.299071</td><td>0.398845</td><td>0.595742</td><td>0.897918</td><td>0.767277</td><td>0.528869</td><td>0.0952854</td><td>0.876014</td><td>0.91985</td><td>0.274228</td><td>0.235176</td><td>0.155168</td><td>0.897107</td><td>0.844195</td><td>0.523281</td><td>0.695864</td><td>0.151124</td><td>0.201065</td><td>0.433001</td><td>0.967306</td><td>0.277211</td><td>0.0633977</td><td>0.559057</td><td>0.803475</td><td>0.955828</td><td>0.418065</td><td>0.176816</td><td>0.452077</td><td>0.212605</td><td>0.359162</td><td>0.872456</td><td>0.954056</td><td>0.00969582</td><td>0.654253</td><td>0.451168</td><td>0.936156</td><td>0.83678</td><td>0.352908</td><td>0.355679</td><td>0.351366</td><td>0.6976</td><td>0.182677</td><td>0.582376</td><td>0.446669</td><td>0.468831</td><td>0.986564</td><td>0.787202</td><td>0.0207218</td><td>0.830462</td><td>0.528791</td><td>0.649264</td><td>0.462557</td><td>0.495886</td><td>0.331946</td><td>0.207492</td><td>0.147196</td><td>0.413481</td><td>0.384668</td><td>0.289411</td><td>0.671321</td><td>0.0849257</td><td>0.822076</td><td>0.691735</td><td>0.00201329</td><td>0.986001</td><td>0.255116</td><td>0.62795</td><td>0.439429</td><td>0.855033</td><td>0.0392876</td><td>0.533968</td><td>0.954528</td><td>0.621568</td><td>0.554224</td><td>0.245084</td><td>0.430127</td><td>0.0393655</td><td>0.861053</td><td>0.79146</td><td>0.19431</td><td>0.130647</td><td>0.320469</td><td>0.79884</td><td>0.508452</td><td>0.615816</td><td>0.620154</td><td>0.59971</td><td>0.95422</td><td>0.175857</td><td>0.0561981</td></tr><tr><th>8</th><td>0.285565</td><td>0.860297</td><td>0.761779</td><td>0.493953</td><td>0.352795</td><td>0.0978239</td><td>0.33335</td><td>0.271201</td><td>0.925524</td><td>0.917375</td><td>0.576162</td><td>0.268133</td><td>0.125511</td><td>0.490454</td><td>0.344244</td><td>0.701716</td><td>0.974315</td><td>0.627148</td><td>0.719798</td><td>0.897083</td><td>0.355013</td><td>0.525964</td><td>0.1293</td><td>0.469946</td><td>0.220079</td><td>0.363505</td><td>0.511436</td><td>0.121252</td><td>0.22358</td><td>0.913205</td><td>0.00264764</td><td>0.68959</td><td>0.780974</td><td>0.0783856</td><td>0.796506</td><td>0.110054</td><td>0.368587</td><td>0.193997</td><td>0.29098</td><td>0.868428</td><td>0.786319</td><td>0.545261</td><td>0.919114</td><td>0.76211</td><td>0.999873</td><td>0.357683</td><td>0.432689</td><td>0.663905</td><td>0.100488</td><td>0.951057</td><td>0.516271</td><td>0.483088</td><td>0.94885</td><td>0.202503</td><td>0.303644</td><td>0.891888</td><td>0.795852</td><td>0.607904</td><td>0.85376</td><td>0.103206</td><td>0.714224</td><td>0.646276</td><td>0.320943</td><td>0.0962626</td><td>0.251722</td><td>0.732607</td><td>0.793814</td><td>0.72889</td><td>0.432618</td><td>0.425725</td><td>0.509217</td><td>0.0901841</td><td>0.0428452</td><td>0.662801</td><td>0.20999</td><td>0.78545</td><td>0.417713</td><td>0.587398</td><td>0.29783</td><td>0.443977</td><td>0.657121</td><td>0.614854</td><td>0.171036</td><td>0.333022</td><td>0.600891</td><td>0.690445</td><td>0.711591</td><td>0.353383</td><td>0.872337</td><td>0.56693</td><td>0.650327</td></tr><tr><th>9</th><td>0.699475</td><td>0.526547</td><td>0.48827</td><td>0.833843</td><td>0.398902</td><td>0.34097</td><td>0.434416</td><td>0.737417</td><td>0.601661</td><td>0.948748</td><td>0.143168</td><td>0.39857</td><td>0.274069</td><td>0.441589</td><td>0.907523</td><td>0.776778</td><td>0.0880758</td><td>0.563284</td><td>0.035741</td><td>0.965501</td><td>0.158115</td><td>0.935467</td><td>0.0107191</td><td>0.794095</td><td>0.306485</td><td>0.563838</td><td>0.234564</td><td>0.470866</td><td>0.545337</td><td>0.882925</td><td>0.652653</td><td>0.484142</td><td>0.0444346</td><td>0.926649</td><td>0.0893685</td><td>0.149006</td><td>0.196885</td><td>0.902177</td><td>0.234035</td><td>0.518022</td><td>0.0508096</td><td>0.734057</td><td>0.71099</td><td>0.587393</td><td>0.899463</td><td>0.145148</td><td>0.130772</td><td>0.618149</td><td>0.231209</td><td>0.546901</td><td>0.536324</td><td>0.381786</td><td>0.110766</td><td>0.535949</td><td>0.188301</td><td>0.523542</td><td>0.609068</td><td>0.691422</td><td>0.785489</td><td>0.2771</td><td>0.198504</td><td>0.149313</td><td>0.283498</td><td>0.0928673</td><td>0.455494</td><td>0.017388</td><td>0.633155</td><td>0.669383</td><td>0.573861</td><td>0.747748</td><td>0.855555</td><td>0.859311</td><td>0.343575</td><td>0.326334</td><td>0.704096</td><td>0.752342</td><td>0.644027</td><td>0.0584409</td><td>0.374489</td><td>0.468853</td><td>0.301344</td><td>0.859881</td><td>0.353032</td><td>0.364108</td><td>0.712382</td><td>0.0796823</td><td>0.639522</td><td>0.799812</td><td>0.765472</td><td>0.449926</td><td>0.00834814</td></tr><tr><th>10</th><td>0.166966</td><td>0.39248</td><td>0.927411</td><td>0.375408</td><td>0.948402</td><td>0.74614</td><td>0.165905</td><td>0.60924</td><td>0.658242</td><td>0.405263</td><td>0.250541</td><td>0.250369</td><td>0.528383</td><td>0.882483</td><td>0.669635</td><td>0.468719</td><td>0.211685</td><td>0.571305</td><td>0.941935</td><td>0.0399602</td><td>0.949572</td><td>0.884902</td><td>0.874846</td><td>0.935472</td><td>0.753027</td><td>0.222745</td><td>0.072964</td><td>0.446266</td><td>0.665754</td><td>0.494479</td><td>0.594426</td><td>0.22792</td><td>0.304495</td><td>0.32287</td><td>0.846079</td><td>0.635526</td><td>0.176167</td><td>0.335138</td><td>0.528078</td><td>0.744476</td><td>0.369796</td><td>0.541871</td><td>0.638983</td><td>0.512564</td><td>0.278364</td><td>0.379862</td><td>0.981846</td><td>0.310789</td><td>0.92563</td><td>0.345531</td><td>0.0565916</td><td>0.0972791</td><td>0.357956</td><td>0.979057</td><td>0.987561</td><td>0.80529</td><td>0.467411</td><td>0.329724</td><td>0.897648</td><td>0.860602</td><td>0.149986</td><td>0.480947</td><td>0.835866</td><td>0.561121</td><td>0.128314</td><td>0.962059</td><td>0.10865</td><td>0.0481761</td><td>0.842291</td><td>0.557756</td><td>0.290992</td><td>0.72197</td><td>0.215849</td><td>0.784464</td><td>0.480755</td><td>0.325451</td><td>0.00124807</td><td>0.255167</td><td>0.651753</td><td>0.861789</td><td>0.654518</td><td>0.395987</td><td>0.686211</td><td>0.201202</td><td>0.807569</td><td>0.966599</td><td>0.858589</td><td>0.0542331</td><td>0.803382</td><td>0.153509</td><td>0.349456</td></tr><tr><th>11</th><td>0.416885</td><td>0.786112</td><td>0.892138</td><td>0.603528</td><td>0.400857</td><td>0.488044</td><td>0.805061</td><td>0.815509</td><td>0.949073</td><td>0.0997092</td><td>0.689906</td><td>0.471251</td><td>0.0254083</td><td>0.939511</td><td>0.0381978</td><td>0.87884</td><td>0.299637</td><td>0.999647</td><td>0.309296</td><td>0.0201042</td><td>0.514313</td><td>0.556854</td><td>0.213665</td><td>0.125529</td><td>0.644093</td><td>0.776143</td><td>0.428217</td><td>0.410361</td><td>0.31759</td><td>0.187317</td><td>0.271677</td><td>0.433429</td><td>0.0915086</td><td>0.690614</td><td>0.304914</td><td>0.614119</td><td>0.017071</td><td>0.432537</td><td>0.241412</td><td>0.571407</td><td>0.706505</td><td>0.053553</td><td>0.229129</td><td>0.410833</td><td>0.300025</td><td>0.366573</td><td>0.50443</td><td>0.815611</td><td>0.407297</td><td>0.0882654</td><td>0.221459</td><td>0.947458</td><td>0.161545</td><td>0.908259</td><td>0.491513</td><td>0.212744</td><td>0.0616568</td><td>0.645213</td><td>0.454906</td><td>0.37159</td><td>0.149114</td><td>0.193823</td><td>0.508172</td><td>0.0199597</td><td>0.120865</td><td>0.145493</td><td>0.0798437</td><td>0.280795</td><td>0.329265</td><td>0.475399</td><td>0.340869</td><td>0.895608</td><td>0.563804</td><td>0.258064</td><td>0.121789</td><td>0.921411</td><td>0.0950939</td><td>0.580073</td><td>0.758349</td><td>0.625454</td><td>0.752884</td><td>0.802718</td><td>0.920175</td><td>0.717342</td><td>0.719859</td><td>0.424176</td><td>0.837297</td><td>0.470277</td><td>0.980379</td><td>0.757167</td><td>0.152447</td></tr><tr><th>12</th><td>0.754568</td><td>0.252141</td><td>0.125841</td><td>0.743868</td><td>0.322289</td><td>0.248748</td><td>0.233131</td><td>0.901151</td><td>0.541749</td><td>0.451507</td><td>0.743821</td><td>0.115309</td><td>0.0533659</td><td>0.224579</td><td>0.427137</td><td>0.732949</td><td>0.0139583</td><td>0.518952</td><td>0.524448</td><td>0.708239</td><td>0.680834</td><td>0.503947</td><td>0.297688</td><td>0.758444</td><td>0.155056</td><td>0.725885</td><td>0.560022</td><td>0.878697</td><td>0.788712</td><td>0.0911159</td><td>0.351682</td><td>0.15456</td><td>0.16106</td><td>0.938585</td><td>0.512901</td><td>0.667643</td><td>0.154321</td><td>0.948208</td><td>0.685353</td><td>0.400909</td><td>0.235272</td><td>0.137961</td><td>0.634572</td><td>0.305139</td><td>0.468947</td><td>0.783277</td><td>0.160702</td><td>0.801933</td><td>0.270504</td><td>0.54568</td><td>0.740096</td><td>0.453297</td><td>0.479879</td><td>0.445893</td><td>0.553824</td><td>0.624774</td><td>0.387326</td><td>0.522014</td><td>0.425619</td><td>0.728292</td><td>0.566535</td><td>0.823266</td><td>0.188184</td><td>0.954409</td><td>0.692347</td><td>0.723116</td><td>0.334068</td><td>0.156718</td><td>0.050776</td><td>0.649684</td><td>0.523817</td><td>0.951366</td><td>0.981999</td><td>0.131595</td><td>0.63162</td><td>0.0457824</td><td>0.788564</td><td>0.838033</td><td>0.610428</td><td>0.849241</td><td>0.14634</td><td>0.400393</td><td>0.629283</td><td>0.704738</td><td>0.11485</td><td>0.202387</td><td>0.0125521</td><td>0.0500447</td><td>0.952813</td><td>0.103388</td><td>0.916409</td></tr><tr><th>13</th><td>0.359805</td><td>0.70869</td><td>0.180921</td><td>0.318276</td><td>0.696253</td><td>0.780391</td><td>0.395035</td><td>0.494216</td><td>0.816286</td><td>0.928157</td><td>0.0477657</td><td>0.673665</td><td>0.809989</td><td>0.160694</td><td>0.0990286</td><td>0.627871</td><td>0.501307</td><td>0.460785</td><td>0.414588</td><td>0.911045</td><td>0.103021</td><td>0.654851</td><td>0.588015</td><td>0.816675</td><td>0.229959</td><td>0.996814</td><td>0.390815</td><td>0.289545</td><td>0.69559</td><td>0.747203</td><td>0.676633</td><td>0.887763</td><td>0.00891286</td><td>0.530944</td><td>0.541194</td><td>0.354979</td><td>0.953086</td><td>0.148502</td><td>0.560864</td><td>0.475162</td><td>0.969971</td><td>0.00743405</td><td>0.11161</td><td>0.704805</td><td>0.205323</td><td>0.545716</td><td>0.756746</td><td>0.494702</td><td>0.725381</td><td>0.68307</td><td>0.368649</td><td>0.815366</td><td>0.744184</td><td>0.416854</td><td>0.113417</td><td>0.0161777</td><td>0.237871</td><td>0.328869</td><td>0.388594</td><td>0.827495</td><td>0.525308</td><td>0.673568</td><td>0.0787224</td><td>0.146568</td><td>0.485066</td><td>0.877684</td><td>0.416192</td><td>0.571045</td><td>0.182155</td><td>0.134323</td><td>0.150976</td><td>0.742043</td><td>0.331399</td><td>0.441721</td><td>0.258435</td><td>0.179365</td><td>0.547326</td><td>0.0396702</td><td>0.901111</td><td>0.875182</td><td>0.0940496</td><td>0.135748</td><td>0.815906</td><td>0.318638</td><td>0.467641</td><td>0.350695</td><td>0.438721</td><td>0.0306896</td><td>0.826348</td><td>0.188778</td><td>0.778235</td></tr><tr><th>14</th><td>0.256697</td><td>0.442184</td><td>0.882668</td><td>0.295139</td><td>0.661251</td><td>0.345927</td><td>0.00618738</td><td>0.839614</td><td>0.126678</td><td>0.367896</td><td>0.905565</td><td>0.992191</td><td>0.814239</td><td>0.891956</td><td>0.945523</td><td>0.105662</td><td>0.144674</td><td>0.742911</td><td>0.0199684</td><td>0.600905</td><td>0.938825</td><td>0.637899</td><td>0.574996</td><td>0.959144</td><td>0.289137</td><td>0.05706</td><td>0.534704</td><td>0.859948</td><td>0.792136</td><td>0.699435</td><td>0.452928</td><td>0.00628875</td><td>0.646328</td><td>0.00625986</td><td>0.0948943</td><td>0.509564</td><td>0.831057</td><td>0.150589</td><td>0.99755</td><td>0.825637</td><td>0.359116</td><td>0.25917</td><td>0.184987</td><td>0.246293</td><td>0.678959</td><td>0.246704</td><td>0.262669</td><td>0.673208</td><td>0.312037</td><td>0.32152</td><td>0.568042</td><td>0.0513086</td><td>0.404207</td><td>0.882484</td><td>0.544177</td><td>0.857876</td><td>0.537279</td><td>0.120186</td><td>0.0197411</td><td>0.134976</td><td>0.490367</td><td>0.915333</td><td>0.267332</td><td>0.608344</td><td>0.702321</td><td>0.818114</td><td>0.128523</td><td>0.923254</td><td>0.198797</td><td>0.36647</td><td>0.690348</td><td>0.441621</td><td>0.0754382</td><td>0.827973</td><td>0.287905</td><td>0.151659</td><td>0.908283</td><td>0.622234</td><td>0.924394</td><td>0.437373</td><td>0.249388</td><td>0.343454</td><td>0.0902369</td><td>0.95358</td><td>0.5275</td><td>0.490004</td><td>0.448121</td><td>0.434673</td><td>0.703803</td><td>0.398894</td><td>0.106829</td></tr><tr><th>15</th><td>0.785111</td><td>0.0287701</td><td>0.723653</td><td>0.420017</td><td>0.369392</td><td>0.12533</td><td>0.613561</td><td>0.353583</td><td>0.0484257</td><td>0.48146</td><td>0.00590497</td><td>0.403021</td><td>0.928766</td><td>0.936654</td><td>0.0148183</td><td>0.541617</td><td>0.0887707</td><td>0.65463</td><td>0.112795</td><td>0.819853</td><td>0.153062</td><td>0.753844</td><td>0.157142</td><td>0.801286</td><td>0.579688</td><td>0.0908388</td><td>0.356038</td><td>0.744643</td><td>0.250392</td><td>0.908347</td><td>0.723184</td><td>0.680819</td><td>0.255666</td><td>0.582374</td><td>0.159995</td><td>0.0551349</td><td>0.25848</td><td>0.956404</td><td>0.106678</td><td>0.578684</td><td>0.819128</td><td>0.835611</td><td>0.164239</td><td>0.352778</td><td>0.260887</td><td>0.340043</td><td>0.359265</td><td>0.753189</td><td>0.691452</td><td>0.465358</td><td>0.294545</td><td>0.101817</td><td>0.408753</td><td>0.197066</td><td>0.891221</td><td>0.449196</td><td>0.353885</td><td>0.817879</td><td>0.302634</td><td>0.781319</td><td>0.878146</td><td>0.223373</td><td>0.341864</td><td>0.67</td><td>0.818568</td><td>0.45743</td><td>0.0106534</td><td>0.109349</td><td>0.755255</td><td>0.554298</td><td>0.0187193</td><td>0.470433</td><td>0.747251</td><td>0.883222</td><td>0.0343146</td><td>0.0722684</td><td>0.82199</td><td>0.213906</td><td>0.916131</td><td>0.43422</td><td>0.686634</td><td>0.0813054</td><td>0.515826</td><td>0.441113</td><td>0.369452</td><td>0.468456</td><td>0.700418</td><td>0.199584</td><td>0.790778</td><td>0.876855</td><td>0.197238</td></tr><tr><th>16</th><td>0.119175</td><td>0.997407</td><td>0.600071</td><td>0.150134</td><td>0.294867</td><td>0.232884</td><td>0.0359352</td><td>0.0405297</td><td>0.956944</td><td>0.206612</td><td>0.891109</td><td>0.536923</td><td>0.444805</td><td>0.0592091</td><td>0.349784</td><td>0.041129</td><td>0.204062</td><td>0.356162</td><td>0.427058</td><td>0.436655</td><td>0.323965</td><td>0.405204</td><td>0.243517</td><td>0.0983356</td><td>0.707926</td><td>0.626772</td><td>0.397375</td><td>0.103048</td><td>0.493754</td><td>0.0512734</td><td>0.284098</td><td>0.905525</td><td>0.2557</td><td>0.492156</td><td>0.217349</td><td>0.72758</td><td>0.45774</td><td>0.757575</td><td>0.504359</td><td>0.111195</td><td>0.144946</td><td>0.63563</td><td>0.640765</td><td>0.473529</td><td>0.888842</td><td>0.0662461</td><td>0.0669501</td><td>0.0937819</td><td>0.284774</td><td>0.388454</td><td>0.315083</td><td>0.705965</td><td>0.110245</td><td>0.545334</td><td>0.328949</td><td>0.953212</td><td>0.869523</td><td>0.883671</td><td>0.789061</td><td>0.538512</td><td>0.17662</td><td>0.679105</td><td>0.756235</td><td>0.700965</td><td>0.714096</td><td>0.773286</td><td>0.838677</td><td>0.194138</td><td>0.189236</td><td>0.801607</td><td>0.928073</td><td>0.21181</td><td>0.59794</td><td>0.939369</td><td>0.6301</td><td>0.428423</td><td>0.400726</td><td>0.392068</td><td>0.276225</td><td>0.647371</td><td>0.204536</td><td>0.803716</td><td>0.756323</td><td>0.630274</td><td>0.981307</td><td>0.669312</td><td>0.731045</td><td>0.686936</td><td>0.830185</td><td>0.225691</td><td>0.718969</td></tr><tr><th>17</th><td>0.767517</td><td>0.0917449</td><td>0.98261</td><td>0.155235</td><td>0.779822</td><td>0.697622</td><td>0.276395</td><td>0.0334867</td><td>0.211488</td><td>0.656095</td><td>0.271849</td><td>0.921427</td><td>0.704899</td><td>0.125585</td><td>0.677568</td><td>0.297045</td><td>0.438671</td><td>0.141978</td><td>0.197653</td><td>0.14572</td><td>0.901121</td><td>0.826308</td><td>0.254755</td><td>0.963487</td><td>0.69993</td><td>0.799628</td><td>0.384087</td><td>0.694298</td><td>0.505828</td><td>0.325642</td><td>0.518123</td><td>0.386466</td><td>0.86465</td><td>0.72836</td><td>0.282926</td><td>0.6356</td><td>0.24907</td><td>0.705237</td><td>0.185539</td><td>0.739488</td><td>0.316557</td><td>0.990732</td><td>0.291909</td><td>0.919134</td><td>0.609385</td><td>0.741514</td><td>0.100009</td><td>0.535735</td><td>0.198862</td><td>0.882838</td><td>0.497125</td><td>0.995807</td><td>0.0103457</td><td>0.820863</td><td>0.626746</td><td>0.296194</td><td>0.96574</td><td>0.655598</td><td>0.436826</td><td>0.163791</td><td>0.659449</td><td>0.36553</td><td>0.82149</td><td>0.976503</td><td>0.88755</td><td>0.125286</td><td>0.700833</td><td>0.946964</td><td>0.0848134</td><td>0.196714</td><td>0.937769</td><td>0.652907</td><td>0.619412</td><td>0.722275</td><td>0.566419</td><td>0.137032</td><td>0.421072</td><td>0.883118</td><td>0.076193</td><td>0.924065</td><td>0.742058</td><td>0.695228</td><td>0.692421</td><td>0.814906</td><td>0.0784302</td><td>0.395074</td><td>0.0195594</td><td>0.0644042</td><td>0.192134</td><td>0.226081</td><td>0.305123</td></tr><tr><th>18</th><td>0.0912103</td><td>0.858123</td><td>0.523157</td><td>0.341457</td><td>0.0188369</td><td>0.654098</td><td>0.713415</td><td>0.129512</td><td>0.111948</td><td>0.459208</td><td>0.183655</td><td>0.920433</td><td>0.997478</td><td>0.650843</td><td>0.0416978</td><td>0.983741</td><td>0.0409416</td><td>0.681168</td><td>0.652302</td><td>0.380478</td><td>0.182672</td><td>0.48964</td><td>0.183932</td><td>0.779065</td><td>0.531586</td><td>0.731207</td><td>0.546016</td><td>0.209642</td><td>0.388015</td><td>0.707885</td><td>0.401469</td><td>0.414996</td><td>0.34144</td><td>0.123668</td><td>0.97512</td><td>0.600568</td><td>0.840934</td><td>0.0844493</td><td>0.83362</td><td>0.0164664</td><td>0.643974</td><td>0.370158</td><td>0.36341</td><td>0.49419</td><td>0.134667</td><td>0.111654</td><td>0.0603724</td><td>0.0192727</td><td>0.817629</td><td>0.337511</td><td>0.282739</td><td>0.0427535</td><td>0.428996</td><td>0.991509</td><td>0.699613</td><td>0.942149</td><td>0.979018</td><td>0.774627</td><td>0.263582</td><td>0.0343829</td><td>0.691345</td><td>0.529715</td><td>0.3491</td><td>0.568308</td><td>0.445266</td><td>0.860663</td><td>0.737898</td><td>0.158701</td><td>0.0853444</td><td>0.671737</td><td>0.778676</td><td>0.616331</td><td>0.605166</td><td>0.137921</td><td>0.49265</td><td>0.084879</td><td>0.490077</td><td>0.840441</td><td>0.805008</td><td>0.577131</td><td>0.164546</td><td>0.585887</td><td>0.712441</td><td>0.0406718</td><td>0.813799</td><td>0.597728</td><td>0.31394</td><td>0.493442</td><td>0.755567</td><td>0.148272</td><td>0.780615</td></tr><tr><th>19</th><td>0.476591</td><td>0.800718</td><td>0.11265</td><td>0.283065</td><td>0.685996</td><td>0.948567</td><td>0.922045</td><td>0.393786</td><td>0.235692</td><td>0.923032</td><td>0.389098</td><td>0.305808</td><td>0.0757194</td><td>0.643833</td><td>0.508898</td><td>0.909184</td><td>0.289196</td><td>0.449011</td><td>0.449166</td><td>0.2876</td><td>0.0347074</td><td>0.44147</td><td>0.103866</td><td>0.526855</td><td>0.983031</td><td>0.0932253</td><td>0.537359</td><td>0.31136</td><td>0.347529</td><td>0.379231</td><td>0.224118</td><td>0.668162</td><td>0.128517</td><td>0.539799</td><td>0.172349</td><td>0.435991</td><td>0.180826</td><td>0.104718</td><td>0.932985</td><td>0.0209317</td><td>0.286929</td><td>0.644148</td><td>0.345779</td><td>0.723341</td><td>0.675401</td><td>0.220316</td><td>0.0820871</td><td>0.321589</td><td>0.693457</td><td>0.409098</td><td>0.044919</td><td>0.982601</td><td>0.902514</td><td>0.812016</td><td>0.530556</td><td>0.0802128</td><td>0.350024</td><td>0.332135</td><td>0.726545</td><td>0.730135</td><td>0.874499</td><td>0.942222</td><td>0.125513</td><td>0.0707746</td><td>0.174651</td><td>0.713836</td><td>0.517898</td><td>0.508667</td><td>0.0270955</td><td>0.958009</td><td>0.109962</td><td>0.351123</td><td>0.926009</td><td>0.952153</td><td>0.729818</td><td>0.58579</td><td>0.235482</td><td>0.247183</td><td>0.196109</td><td>0.363625</td><td>0.047663</td><td>0.190607</td><td>0.53017</td><td>0.945846</td><td>0.750075</td><td>0.236835</td><td>0.745386</td><td>0.0186635</td><td>0.963414</td><td>0.502514</td><td>0.232607</td></tr><tr><th>20</th><td>0.50936</td><td>0.0677106</td><td>0.646342</td><td>0.529543</td><td>0.906977</td><td>0.680919</td><td>0.854906</td><td>0.349826</td><td>0.108508</td><td>0.152323</td><td>0.529554</td><td>0.375108</td><td>0.449717</td><td>0.536842</td><td>0.831645</td><td>0.809305</td><td>0.388969</td><td>0.924636</td><td>0.566278</td><td>0.812893</td><td>0.30783</td><td>0.923731</td><td>0.00478722</td><td>0.26212</td><td>0.449992</td><td>0.0998924</td><td>0.610672</td><td>0.55376</td><td>0.70763</td><td>0.230976</td><td>0.524448</td><td>0.680562</td><td>0.0315408</td><td>0.957406</td><td>0.651823</td><td>0.00561359</td><td>0.903019</td><td>0.617892</td><td>0.0853425</td><td>0.53347</td><td>0.82833</td><td>0.854056</td><td>0.633794</td><td>0.339436</td><td>0.291664</td><td>0.750913</td><td>0.345843</td><td>0.243037</td><td>0.185055</td><td>0.0380478</td><td>0.184534</td><td>0.261817</td><td>0.1994</td><td>0.323532</td><td>0.95045</td><td>0.632434</td><td>0.566106</td><td>0.874069</td><td>0.499607</td><td>0.0521806</td><td>0.528636</td><td>0.526479</td><td>0.134858</td><td>0.879343</td><td>0.880208</td><td>0.953152</td><td>0.619533</td><td>0.554013</td><td>0.32116</td><td>0.402539</td><td>0.230132</td><td>0.914399</td><td>0.849661</td><td>0.706032</td><td>0.999066</td><td>0.709593</td><td>0.806477</td><td>0.579369</td><td>0.237576</td><td>0.872421</td><td>0.917755</td><td>0.238283</td><td>0.624868</td><td>0.670813</td><td>0.0892321</td><td>0.100787</td><td>0.528799</td><td>0.563496</td><td>0.422123</td><td>0.235726</td><td>0.744823</td></tr><tr><th>21</th><td>0.307134</td><td>0.93039</td><td>0.547991</td><td>0.282763</td><td>0.494457</td><td>0.318209</td><td>0.669773</td><td>0.853721</td><td>0.850005</td><td>0.715816</td><td>0.0337688</td><td>0.804402</td><td>0.893978</td><td>0.893904</td><td>0.312627</td><td>0.669111</td><td>0.99144</td><td>0.947155</td><td>0.639849</td><td>0.483649</td><td>0.316967</td><td>0.471222</td><td>0.178188</td><td>0.0538918</td><td>0.0673325</td><td>0.819659</td><td>0.213087</td><td>0.902479</td><td>0.146789</td><td>0.956968</td><td>0.437638</td><td>0.15399</td><td>0.551659</td><td>0.188814</td><td>0.584219</td><td>0.25859</td><td>0.497828</td><td>0.929091</td><td>0.629446</td><td>0.426062</td><td>0.353392</td><td>0.111176</td><td>0.370121</td><td>0.6948</td><td>0.705744</td><td>0.199877</td><td>0.375927</td><td>0.306254</td><td>0.0172798</td><td>0.326679</td><td>0.0677236</td><td>0.774519</td><td>0.0455985</td><td>0.353574</td><td>0.187917</td><td>0.623197</td><td>0.208424</td><td>0.403822</td><td>0.840184</td><td>0.222461</td><td>0.0881465</td><td>0.931478</td><td>0.853111</td><td>0.397111</td><td>0.35587</td><td>0.432234</td><td>0.0661484</td><td>0.539728</td><td>0.656949</td><td>0.524179</td><td>0.988885</td><td>0.450697</td><td>0.00364027</td><td>0.205573</td><td>0.662258</td><td>0.737181</td><td>0.977659</td><td>0.961869</td><td>0.0908337</td><td>0.583425</td><td>0.337415</td><td>0.0922778</td><td>0.398518</td><td>0.557303</td><td>0.866034</td><td>0.825382</td><td>0.334265</td><td>0.0775024</td><td>0.634409</td><td>0.0882148</td><td>0.951536</td></tr><tr><th>22</th><td>0.0748494</td><td>0.842819</td><td>0.174397</td><td>0.585027</td><td>0.647524</td><td>0.361121</td><td>0.457783</td><td>0.197152</td><td>0.209876</td><td>0.466329</td><td>0.406155</td><td>0.152351</td><td>0.505483</td><td>0.456496</td><td>0.283564</td><td>0.143957</td><td>0.116476</td><td>0.86016</td><td>0.64683</td><td>0.210622</td><td>0.826885</td><td>0.300417</td><td>0.71228</td><td>0.904871</td><td>0.696229</td><td>0.72267</td><td>0.174136</td><td>0.23003</td><td>0.741294</td><td>0.0815247</td><td>0.979206</td><td>0.742809</td><td>0.878433</td><td>0.0525933</td><td>0.950189</td><td>0.0190811</td><td>0.933998</td><td>0.770685</td><td>0.86052</td><td>0.865665</td><td>0.297431</td><td>0.795359</td><td>0.645038</td><td>0.712073</td><td>0.634281</td><td>0.742885</td><td>0.961849</td><td>0.885925</td><td>0.248304</td><td>0.453857</td><td>0.997385</td><td>0.383937</td><td>0.547439</td><td>0.781781</td><td>0.712037</td><td>0.348259</td><td>0.081833</td><td>0.38983</td><td>0.222769</td><td>0.786352</td><td>0.11826</td><td>0.995367</td><td>0.414437</td><td>0.31492</td><td>0.495709</td><td>0.617816</td><td>0.139765</td><td>0.167134</td><td>0.909815</td><td>0.978409</td><td>0.559653</td><td>0.264359</td><td>0.310432</td><td>0.857375</td><td>0.714564</td><td>0.554775</td><td>0.707106</td><td>0.0868333</td><td>0.37476</td><td>0.405064</td><td>0.934688</td><td>0.210175</td><td>0.315303</td><td>0.10453</td><td>0.709695</td><td>0.250576</td><td>0.988624</td><td>0.221699</td><td>0.251387</td><td>0.736891</td><td>0.821235</td></tr><tr><th>23</th><td>0.910248</td><td>0.974573</td><td>0.262119</td><td>0.972754</td><td>0.831086</td><td>0.884634</td><td>0.439225</td><td>0.385293</td><td>0.853531</td><td>0.639563</td><td>0.855535</td><td>0.333158</td><td>0.597535</td><td>0.00115976</td><td>0.124596</td><td>0.301587</td><td>0.143348</td><td>0.488919</td><td>0.2388</td><td>0.58854</td><td>0.267387</td><td>0.380235</td><td>0.674924</td><td>0.518806</td><td>0.759586</td><td>0.756648</td><td>0.487546</td><td>0.435687</td><td>0.0224561</td><td>0.0792966</td><td>0.52714</td><td>0.711805</td><td>0.378414</td><td>0.519893</td><td>0.713293</td><td>0.290639</td><td>0.572989</td><td>0.0323744</td><td>0.332728</td><td>0.432508</td><td>0.963921</td><td>0.73476</td><td>0.461187</td><td>0.797265</td><td>0.907193</td><td>0.922693</td><td>0.534732</td><td>0.303427</td><td>0.253601</td><td>0.221667</td><td>0.888425</td><td>0.157442</td><td>0.68488</td><td>0.407556</td><td>0.362209</td><td>0.938802</td><td>0.8389</td><td>0.0255732</td><td>0.561258</td><td>0.499792</td><td>0.815692</td><td>0.408309</td><td>0.00851013</td><td>0.249499</td><td>0.709797</td><td>0.551949</td><td>0.972655</td><td>0.158132</td><td>0.215669</td><td>0.287993</td><td>0.684705</td><td>0.976339</td><td>0.472291</td><td>0.629154</td><td>0.515939</td><td>0.237566</td><td>0.0324053</td><td>0.219753</td><td>0.584838</td><td>0.596525</td><td>0.700229</td><td>0.170792</td><td>0.587667</td><td>0.223331</td><td>0.810288</td><td>0.280452</td><td>0.281214</td><td>0.968538</td><td>0.625783</td><td>0.9265</td><td>0.987795</td></tr><tr><th>24</th><td>0.256616</td><td>0.810693</td><td>0.049729</td><td>0.69182</td><td>0.960388</td><td>0.971199</td><td>0.354185</td><td>0.553695</td><td>0.915114</td><td>0.53437</td><td>0.483389</td><td>0.420419</td><td>0.931358</td><td>0.846367</td><td>0.0833473</td><td>0.882511</td><td>0.0889344</td><td>0.105441</td><td>0.898072</td><td>0.618268</td><td>0.322621</td><td>0.935854</td><td>0.513055</td><td>0.578302</td><td>0.556542</td><td>0.635414</td><td>0.920086</td><td>0.313886</td><td>0.077584</td><td>0.410661</td><td>0.536799</td><td>0.842727</td><td>0.323424</td><td>0.0979703</td><td>0.643813</td><td>0.739761</td><td>0.367318</td><td>0.498612</td><td>0.0349703</td><td>0.289825</td><td>0.505065</td><td>0.622601</td><td>0.238781</td><td>0.800493</td><td>0.834235</td><td>0.707748</td><td>0.254695</td><td>0.55248</td><td>0.900382</td><td>0.0516816</td><td>0.0722662</td><td>0.670037</td><td>0.528175</td><td>0.838406</td><td>0.418662</td><td>0.266291</td><td>0.581613</td><td>0.610446</td><td>0.841307</td><td>0.673156</td><td>0.705877</td><td>0.846345</td><td>0.8071</td><td>0.484362</td><td>0.00264264</td><td>0.376861</td><td>0.00286258</td><td>0.813644</td><td>0.0601934</td><td>0.401146</td><td>0.455901</td><td>0.412068</td><td>0.205892</td><td>0.692938</td><td>0.761514</td><td>0.608291</td><td>0.165913</td><td>0.70564</td><td>0.456988</td><td>0.752319</td><td>0.762804</td><td>0.552292</td><td>0.596155</td><td>0.306926</td><td>0.407184</td><td>0.745572</td><td>0.0312873</td><td>0.52841</td><td>0.918759</td><td>0.689452</td><td>0.14905</td></tr><tr><th>&vellip;</th><td>&vellip;</td><td>&vellip;</td><td>&vellip;</td><td>&vellip;</td><td>&vellip;</td><td>&vellip;</td><td>&vellip;</td><td>&vellip;</td><td>&vellip;</td><td>&vellip;</td><td>&vellip;</td><td>&vellip;</td><td>&vellip;</td><td>&vellip;</td><td>&vellip;</td><td>&vellip;</td><td>&vellip;</td><td>&vellip;</td><td>&vellip;</td><td>&vellip;</td><td>&vellip;</td><td>&vellip;</td><td>&vellip;</td><td>&vellip;</td><td>&vellip;</td><td>&vellip;</td><td>&vellip;</td><td>&vellip;</td><td>&vellip;</td><td>&vellip;</td><td>&vellip;</td><td>&vellip;</td><td>&vellip;</td><td>&vellip;</td><td>&vellip;</td><td>&vellip;</td><td>&vellip;</td><td>&vellip;</td><td>&vellip;</td><td>&vellip;</td><td>&vellip;</td><td>&vellip;</td><td>&vellip;</td><td>&vellip;</td><td>&vellip;</td><td>&vellip;</td><td>&vellip;</td><td>&vellip;</td><td>&vellip;</td><td>&vellip;</td><td>&vellip;</td><td>&vellip;</td><td>&vellip;</td><td>&vellip;</td><td>&vellip;</td><td>&vellip;</td><td>&vellip;</td><td>&vellip;</td><td>&vellip;</td><td>&vellip;</td><td>&vellip;</td><td>&vellip;</td><td>&vellip;</td><td>&vellip;</td><td>&vellip;</td><td>&vellip;</td><td>&vellip;</td><td>&vellip;</td><td>&vellip;</td><td>&vellip;</td><td>&vellip;</td><td>&vellip;</td><td>&vellip;</td><td>&vellip;</td><td>&vellip;</td><td>&vellip;</td><td>&vellip;</td><td>&vellip;</td><td>&vellip;</td><td>&vellip;</td><td>&vellip;</td><td>&vellip;</td><td>&vellip;</td><td>&vellip;</td><td>&vellip;</td><td>&vellip;</td><td>&vellip;</td><td>&vellip;</td><td>&vellip;</td><td>&vellip;</td><td>&vellip;</td></tr></tbody></table>"
      ],
      "text/latex": [
       "\\begin{tabular}{r|cccccccccccccccccccccccccccccccccccccccccccccccccccccccccccccccccccccccccccccccccccccccccccc}\n",
       "\t& x1 & x2 & x3 & x4 & x5 & x6 & x7 & x8 & x9 & x10 & x11 & x12 & x13 & x14 & x15 & x16 & x17 & x18 & x19 & x20 & x21 & x22 & x23 & x24 & x25 & x26 & x27 & x28 & x29 & x30 & x31 & x32 & x33 & x34 & x35 & x36 & x37 & x38 & x39 & x40 & x41 & x42 & x43 & x44 & x45 & x46 & x47 & x48 & x49 & x50 & x51 & x52 & x53 & x54 & x55 & x56 & x57 & x58 & x59 & x60 & x61 & x62 & x63 & x64 & x65 & x66 & x67 & x68 & x69 & x70 & x71 & x72 & x73 & x74 & x75 & x76 & x77 & x78 & x79 & x80 & x81 & x82 & x83 & x84 & x85 & x86 & x87 & x88 & x89 & x90 & x91 & \\\\\n",
       "\t\\hline\n",
       "\t& Float64 & Float64 & Float64 & Float64 & Float64 & Float64 & Float64 & Float64 & Float64 & Float64 & Float64 & Float64 & Float64 & Float64 & Float64 & Float64 & Float64 & Float64 & Float64 & Float64 & Float64 & Float64 & Float64 & Float64 & Float64 & Float64 & Float64 & Float64 & Float64 & Float64 & Float64 & Float64 & Float64 & Float64 & Float64 & Float64 & Float64 & Float64 & Float64 & Float64 & Float64 & Float64 & Float64 & Float64 & Float64 & Float64 & Float64 & Float64 & Float64 & Float64 & Float64 & Float64 & Float64 & Float64 & Float64 & Float64 & Float64 & Float64 & Float64 & Float64 & Float64 & Float64 & Float64 & Float64 & Float64 & Float64 & Float64 & Float64 & Float64 & Float64 & Float64 & Float64 & Float64 & Float64 & Float64 & Float64 & Float64 & Float64 & Float64 & Float64 & Float64 & Float64 & Float64 & Float64 & Float64 & Float64 & Float64 & Float64 & Float64 & Float64 & Float64 & \\\\\n",
       "\t\\hline\n",
       "\t1 & 0.691238 & 0.502941 & 0.113297 & 0.328738 & 0.13378 & 0.441278 & 0.685002 & 0.0538219 & 0.0761798 & 0.769235 & 0.284291 & 0.171352 & 0.754563 & 0.648736 & 0.0953225 & 0.775889 & 0.841043 & 0.311933 & 0.56814 & 0.577725 & 0.192599 & 0.00604097 & 0.581288 & 0.746245 & 0.385509 & 0.355455 & 0.929221 & 0.729291 & 0.778783 & 0.598102 & 0.498373 & 0.0278266 & 0.0462616 & 0.0804585 & 0.486005 & 0.829665 & 0.605489 & 0.922619 & 0.615983 & 0.975146 & 0.218467 & 0.214458 & 0.201525 & 0.388645 & 0.558404 & 0.163782 & 0.437683 & 0.897702 & 0.0696074 & 0.656873 & 0.096646 & 0.604482 & 0.826148 & 0.90222 & 0.213158 & 0.145633 & 0.715524 & 0.821202 & 0.851274 & 0.809465 & 0.938894 & 0.833493 & 0.0128205 & 0.911447 & 0.572925 & 0.492402 & 0.70685 & 0.391735 & 0.379956 & 0.894197 & 0.319608 & 0.282724 & 0.662529 & 0.751371 & 0.0515758 & 0.0554555 & 0.407253 & 0.714758 & 0.930454 & 0.34133 & 0.409226 & 0.0593862 & 0.943453 & 0.396289 & 0.611359 & 0.630375 & 0.0122984 & 0.948587 & 0.395367 & 0.912241 & 0.192444 & $\\dots$ \\\\\n",
       "\t2 & 0.815357 & 0.7703 & 0.239176 & 0.275748 & 0.183924 & 0.507341 & 0.284418 & 0.28708 & 0.942902 & 0.0887963 & 0.734511 & 0.379075 & 0.434635 & 0.474651 & 0.280465 & 0.180545 & 0.997093 & 0.58534 & 0.404039 & 0.0574775 & 0.829238 & 0.551627 & 0.0609086 & 0.866673 & 0.00203838 & 0.23122 & 0.100199 & 0.542427 & 0.6176 & 0.210846 & 0.169462 & 0.317331 & 0.120702 & 0.522714 & 0.771854 & 0.861075 & 0.607028 & 0.577105 & 0.0263973 & 0.508519 & 0.207115 & 0.260203 & 0.966495 & 0.950563 & 0.23515 & 0.807233 & 0.667959 & 0.469412 & 0.68944 & 0.303178 & 0.916198 & 0.175827 & 0.630586 & 0.617525 & 0.436164 & 0.30317 & 0.0596742 & 0.0982103 & 0.094269 & 0.774918 & 0.74536 & 0.45168 & 0.0928307 & 0.314255 & 0.837564 & 0.507878 & 0.633839 & 0.298748 & 0.501813 & 0.667421 & 0.244102 & 0.99187 & 0.320146 & 0.327764 & 0.0972044 & 0.865251 & 0.370263 & 0.207617 & 0.490622 & 0.128018 & 0.973084 & 0.769352 & 0.780947 & 0.258148 & 0.812933 & 0.83484 & 0.432996 & 0.511692 & 0.611335 & 0.877168 & 0.742428 & $\\dots$ \\\\\n",
       "\t3 & 0.816104 & 0.0311551 & 0.5683 & 0.704495 & 0.549385 & 0.471999 & 0.543525 & 0.878611 & 0.0553813 & 0.433413 & 0.721113 & 0.90562 & 0.822592 & 0.101155 & 0.215981 & 0.0727627 & 0.579711 & 0.579151 & 0.755325 & 0.632599 & 0.676199 & 0.921829 & 0.749605 & 0.981136 & 0.10249 & 0.953556 & 0.50945 & 0.646269 & 0.396988 & 0.932969 & 0.506011 & 0.387092 & 0.513568 & 0.548799 & 0.117301 & 0.749199 & 0.161664 & 0.507067 & 0.982289 & 0.0554118 & 0.0723973 & 0.296174 & 0.2617 & 0.0464874 & 0.0168145 & 0.938944 & 0.731108 & 0.464276 & 0.0282041 & 0.112549 & 0.745749 & 0.432314 & 0.693835 & 0.956663 & 0.177674 & 0.874948 & 0.587931 & 0.834267 & 0.751571 & 0.871607 & 0.118688 & 0.895995 & 0.688151 & 0.931742 & 0.0470647 & 0.356565 & 0.648014 & 0.314232 & 0.90112 & 0.837802 & 0.419339 & 0.126734 & 0.00268467 & 0.843003 & 0.505144 & 0.5602 & 0.0985052 & 0.861954 & 0.860644 & 0.204682 & 0.634035 & 0.553771 & 0.220832 & 0.416234 & 0.900075 & 0.095238 & 0.323409 & 0.461687 & 0.099201 & 0.043433 & 0.690487 & $\\dots$ \\\\\n",
       "\t4 & 0.0294096 & 0.602984 & 0.357492 & 0.588966 & 0.100176 & 0.163219 & 0.3719 & 0.0634015 & 0.57308 & 0.795895 & 0.89425 & 0.0849626 & 0.763744 & 0.239118 & 0.722183 & 0.856142 & 0.180864 & 0.581203 & 0.3304 & 0.520827 & 0.0140902 & 0.402648 & 0.492288 & 0.0419267 & 0.565855 & 0.185707 & 0.912092 & 0.276022 & 0.687733 & 0.152818 & 0.596199 & 0.246881 & 0.624406 & 0.86924 & 0.60933 & 0.662877 & 0.97319 & 0.112181 & 0.417401 & 0.384564 & 0.824204 & 0.936204 & 0.710395 & 0.962075 & 0.429801 & 0.781552 & 0.110724 & 0.238736 & 0.239962 & 0.805589 & 0.45364 & 0.827796 & 0.0670384 & 0.651466 & 0.136 & 0.596721 & 0.0877139 & 0.147265 & 0.621543 & 0.185766 & 0.935794 & 0.940496 & 0.041551 & 0.380434 & 0.804594 & 0.463235 & 0.614597 & 0.995259 & 0.853942 & 0.909778 & 0.677835 & 0.136624 & 0.0101655 & 0.313183 & 0.793315 & 0.640075 & 0.802004 & 0.355651 & 0.797319 & 0.811142 & 0.8665 & 0.440861 & 0.110327 & 0.591043 & 0.382544 & 0.345257 & 0.506768 & 0.344783 & 0.0190208 & 0.371157 & 0.885855 & $\\dots$ \\\\\n",
       "\t5 & 0.735294 & 0.518496 & 0.867751 & 0.944726 & 0.304592 & 0.341913 & 0.681918 & 0.0712981 & 0.999297 & 0.8393 & 0.949566 & 0.461614 & 0.249693 & 0.5351 & 0.908043 & 0.197059 & 0.688323 & 0.200507 & 0.0450562 & 0.70558 & 0.770484 & 0.0854422 & 0.843648 & 0.641052 & 0.408662 & 0.479613 & 0.47507 & 0.826897 & 0.168435 & 0.433382 & 0.502158 & 0.274056 & 0.61335 & 0.89971 & 0.717724 & 0.94818 & 0.375389 & 0.953553 & 0.455064 & 0.483564 & 0.0675189 & 0.274972 & 0.0285296 & 0.683966 & 0.192759 & 0.263576 & 0.531961 & 0.227704 & 0.102302 & 0.786472 & 0.028373 & 0.0335419 & 0.90208 & 0.493996 & 0.860681 & 0.513063 & 0.0637473 & 0.185034 & 0.940987 & 0.029071 & 0.715109 & 0.199015 & 0.430876 & 0.038609 & 0.843466 & 0.554907 & 0.130222 & 0.25381 & 0.927273 & 0.7202 & 0.45438 & 0.968065 & 0.244117 & 0.964951 & 0.59948 & 0.0335906 & 0.0874323 & 0.919734 & 0.57089 & 0.541353 & 0.743658 & 0.953108 & 0.601884 & 0.170292 & 0.790372 & 0.0300106 & 0.650849 & 0.691083 & 0.672981 & 0.211433 & 0.31572 & $\\dots$ \\\\\n",
       "\t6 & 0.104985 & 0.748484 & 0.270928 & 0.726806 & 0.242353 & 0.424651 & 0.89167 & 0.0989472 & 0.63658 & 0.451663 & 0.58207 & 0.37181 & 0.784128 & 0.881445 & 0.522263 & 0.843995 & 0.647146 & 0.510528 & 0.760864 & 0.176008 & 0.604682 & 0.529928 & 0.868341 & 0.956101 & 0.636343 & 0.346888 & 0.383413 & 0.124892 & 0.137329 & 0.953385 & 0.019473 & 0.918218 & 0.217521 & 0.454126 & 0.216184 & 0.128865 & 0.71009 & 0.202403 & 0.786343 & 0.376344 & 0.876184 & 0.173444 & 0.543272 & 0.569241 & 0.217485 & 0.54297 & 0.794895 & 0.197436 & 0.405965 & 0.218483 & 0.621621 & 0.588901 & 0.55798 & 0.758998 & 0.0190227 & 0.0141301 & 0.262226 & 0.526782 & 0.897284 & 0.160378 & 0.882961 & 0.908824 & 0.288973 & 0.995771 & 0.217869 & 0.155613 & 0.14274 & 0.398137 & 0.715217 & 0.671268 & 0.309147 & 0.0980875 & 0.0506852 & 0.705388 & 0.856581 & 0.490066 & 0.868483 & 0.923126 & 0.134035 & 0.0515882 & 0.745122 & 0.967005 & 0.56791 & 0.478049 & 0.0906394 & 0.124289 & 0.333455 & 0.133029 & 0.785799 & 0.00307311 & 0.0231871 & $\\dots$ \\\\\n",
       "\t7 & 0.122963 & 0.299071 & 0.398845 & 0.595742 & 0.897918 & 0.767277 & 0.528869 & 0.0952854 & 0.876014 & 0.91985 & 0.274228 & 0.235176 & 0.155168 & 0.897107 & 0.844195 & 0.523281 & 0.695864 & 0.151124 & 0.201065 & 0.433001 & 0.967306 & 0.277211 & 0.0633977 & 0.559057 & 0.803475 & 0.955828 & 0.418065 & 0.176816 & 0.452077 & 0.212605 & 0.359162 & 0.872456 & 0.954056 & 0.00969582 & 0.654253 & 0.451168 & 0.936156 & 0.83678 & 0.352908 & 0.355679 & 0.351366 & 0.6976 & 0.182677 & 0.582376 & 0.446669 & 0.468831 & 0.986564 & 0.787202 & 0.0207218 & 0.830462 & 0.528791 & 0.649264 & 0.462557 & 0.495886 & 0.331946 & 0.207492 & 0.147196 & 0.413481 & 0.384668 & 0.289411 & 0.671321 & 0.0849257 & 0.822076 & 0.691735 & 0.00201329 & 0.986001 & 0.255116 & 0.62795 & 0.439429 & 0.855033 & 0.0392876 & 0.533968 & 0.954528 & 0.621568 & 0.554224 & 0.245084 & 0.430127 & 0.0393655 & 0.861053 & 0.79146 & 0.19431 & 0.130647 & 0.320469 & 0.79884 & 0.508452 & 0.615816 & 0.620154 & 0.59971 & 0.95422 & 0.175857 & 0.0561981 & $\\dots$ \\\\\n",
       "\t8 & 0.285565 & 0.860297 & 0.761779 & 0.493953 & 0.352795 & 0.0978239 & 0.33335 & 0.271201 & 0.925524 & 0.917375 & 0.576162 & 0.268133 & 0.125511 & 0.490454 & 0.344244 & 0.701716 & 0.974315 & 0.627148 & 0.719798 & 0.897083 & 0.355013 & 0.525964 & 0.1293 & 0.469946 & 0.220079 & 0.363505 & 0.511436 & 0.121252 & 0.22358 & 0.913205 & 0.00264764 & 0.68959 & 0.780974 & 0.0783856 & 0.796506 & 0.110054 & 0.368587 & 0.193997 & 0.29098 & 0.868428 & 0.786319 & 0.545261 & 0.919114 & 0.76211 & 0.999873 & 0.357683 & 0.432689 & 0.663905 & 0.100488 & 0.951057 & 0.516271 & 0.483088 & 0.94885 & 0.202503 & 0.303644 & 0.891888 & 0.795852 & 0.607904 & 0.85376 & 0.103206 & 0.714224 & 0.646276 & 0.320943 & 0.0962626 & 0.251722 & 0.732607 & 0.793814 & 0.72889 & 0.432618 & 0.425725 & 0.509217 & 0.0901841 & 0.0428452 & 0.662801 & 0.20999 & 0.78545 & 0.417713 & 0.587398 & 0.29783 & 0.443977 & 0.657121 & 0.614854 & 0.171036 & 0.333022 & 0.600891 & 0.690445 & 0.711591 & 0.353383 & 0.872337 & 0.56693 & 0.650327 & $\\dots$ \\\\\n",
       "\t9 & 0.699475 & 0.526547 & 0.48827 & 0.833843 & 0.398902 & 0.34097 & 0.434416 & 0.737417 & 0.601661 & 0.948748 & 0.143168 & 0.39857 & 0.274069 & 0.441589 & 0.907523 & 0.776778 & 0.0880758 & 0.563284 & 0.035741 & 0.965501 & 0.158115 & 0.935467 & 0.0107191 & 0.794095 & 0.306485 & 0.563838 & 0.234564 & 0.470866 & 0.545337 & 0.882925 & 0.652653 & 0.484142 & 0.0444346 & 0.926649 & 0.0893685 & 0.149006 & 0.196885 & 0.902177 & 0.234035 & 0.518022 & 0.0508096 & 0.734057 & 0.71099 & 0.587393 & 0.899463 & 0.145148 & 0.130772 & 0.618149 & 0.231209 & 0.546901 & 0.536324 & 0.381786 & 0.110766 & 0.535949 & 0.188301 & 0.523542 & 0.609068 & 0.691422 & 0.785489 & 0.2771 & 0.198504 & 0.149313 & 0.283498 & 0.0928673 & 0.455494 & 0.017388 & 0.633155 & 0.669383 & 0.573861 & 0.747748 & 0.855555 & 0.859311 & 0.343575 & 0.326334 & 0.704096 & 0.752342 & 0.644027 & 0.0584409 & 0.374489 & 0.468853 & 0.301344 & 0.859881 & 0.353032 & 0.364108 & 0.712382 & 0.0796823 & 0.639522 & 0.799812 & 0.765472 & 0.449926 & 0.00834814 & $\\dots$ \\\\\n",
       "\t10 & 0.166966 & 0.39248 & 0.927411 & 0.375408 & 0.948402 & 0.74614 & 0.165905 & 0.60924 & 0.658242 & 0.405263 & 0.250541 & 0.250369 & 0.528383 & 0.882483 & 0.669635 & 0.468719 & 0.211685 & 0.571305 & 0.941935 & 0.0399602 & 0.949572 & 0.884902 & 0.874846 & 0.935472 & 0.753027 & 0.222745 & 0.072964 & 0.446266 & 0.665754 & 0.494479 & 0.594426 & 0.22792 & 0.304495 & 0.32287 & 0.846079 & 0.635526 & 0.176167 & 0.335138 & 0.528078 & 0.744476 & 0.369796 & 0.541871 & 0.638983 & 0.512564 & 0.278364 & 0.379862 & 0.981846 & 0.310789 & 0.92563 & 0.345531 & 0.0565916 & 0.0972791 & 0.357956 & 0.979057 & 0.987561 & 0.80529 & 0.467411 & 0.329724 & 0.897648 & 0.860602 & 0.149986 & 0.480947 & 0.835866 & 0.561121 & 0.128314 & 0.962059 & 0.10865 & 0.0481761 & 0.842291 & 0.557756 & 0.290992 & 0.72197 & 0.215849 & 0.784464 & 0.480755 & 0.325451 & 0.00124807 & 0.255167 & 0.651753 & 0.861789 & 0.654518 & 0.395987 & 0.686211 & 0.201202 & 0.807569 & 0.966599 & 0.858589 & 0.0542331 & 0.803382 & 0.153509 & 0.349456 & $\\dots$ \\\\\n",
       "\t11 & 0.416885 & 0.786112 & 0.892138 & 0.603528 & 0.400857 & 0.488044 & 0.805061 & 0.815509 & 0.949073 & 0.0997092 & 0.689906 & 0.471251 & 0.0254083 & 0.939511 & 0.0381978 & 0.87884 & 0.299637 & 0.999647 & 0.309296 & 0.0201042 & 0.514313 & 0.556854 & 0.213665 & 0.125529 & 0.644093 & 0.776143 & 0.428217 & 0.410361 & 0.31759 & 0.187317 & 0.271677 & 0.433429 & 0.0915086 & 0.690614 & 0.304914 & 0.614119 & 0.017071 & 0.432537 & 0.241412 & 0.571407 & 0.706505 & 0.053553 & 0.229129 & 0.410833 & 0.300025 & 0.366573 & 0.50443 & 0.815611 & 0.407297 & 0.0882654 & 0.221459 & 0.947458 & 0.161545 & 0.908259 & 0.491513 & 0.212744 & 0.0616568 & 0.645213 & 0.454906 & 0.37159 & 0.149114 & 0.193823 & 0.508172 & 0.0199597 & 0.120865 & 0.145493 & 0.0798437 & 0.280795 & 0.329265 & 0.475399 & 0.340869 & 0.895608 & 0.563804 & 0.258064 & 0.121789 & 0.921411 & 0.0950939 & 0.580073 & 0.758349 & 0.625454 & 0.752884 & 0.802718 & 0.920175 & 0.717342 & 0.719859 & 0.424176 & 0.837297 & 0.470277 & 0.980379 & 0.757167 & 0.152447 & $\\dots$ \\\\\n",
       "\t12 & 0.754568 & 0.252141 & 0.125841 & 0.743868 & 0.322289 & 0.248748 & 0.233131 & 0.901151 & 0.541749 & 0.451507 & 0.743821 & 0.115309 & 0.0533659 & 0.224579 & 0.427137 & 0.732949 & 0.0139583 & 0.518952 & 0.524448 & 0.708239 & 0.680834 & 0.503947 & 0.297688 & 0.758444 & 0.155056 & 0.725885 & 0.560022 & 0.878697 & 0.788712 & 0.0911159 & 0.351682 & 0.15456 & 0.16106 & 0.938585 & 0.512901 & 0.667643 & 0.154321 & 0.948208 & 0.685353 & 0.400909 & 0.235272 & 0.137961 & 0.634572 & 0.305139 & 0.468947 & 0.783277 & 0.160702 & 0.801933 & 0.270504 & 0.54568 & 0.740096 & 0.453297 & 0.479879 & 0.445893 & 0.553824 & 0.624774 & 0.387326 & 0.522014 & 0.425619 & 0.728292 & 0.566535 & 0.823266 & 0.188184 & 0.954409 & 0.692347 & 0.723116 & 0.334068 & 0.156718 & 0.050776 & 0.649684 & 0.523817 & 0.951366 & 0.981999 & 0.131595 & 0.63162 & 0.0457824 & 0.788564 & 0.838033 & 0.610428 & 0.849241 & 0.14634 & 0.400393 & 0.629283 & 0.704738 & 0.11485 & 0.202387 & 0.0125521 & 0.0500447 & 0.952813 & 0.103388 & 0.916409 & $\\dots$ \\\\\n",
       "\t13 & 0.359805 & 0.70869 & 0.180921 & 0.318276 & 0.696253 & 0.780391 & 0.395035 & 0.494216 & 0.816286 & 0.928157 & 0.0477657 & 0.673665 & 0.809989 & 0.160694 & 0.0990286 & 0.627871 & 0.501307 & 0.460785 & 0.414588 & 0.911045 & 0.103021 & 0.654851 & 0.588015 & 0.816675 & 0.229959 & 0.996814 & 0.390815 & 0.289545 & 0.69559 & 0.747203 & 0.676633 & 0.887763 & 0.00891286 & 0.530944 & 0.541194 & 0.354979 & 0.953086 & 0.148502 & 0.560864 & 0.475162 & 0.969971 & 0.00743405 & 0.11161 & 0.704805 & 0.205323 & 0.545716 & 0.756746 & 0.494702 & 0.725381 & 0.68307 & 0.368649 & 0.815366 & 0.744184 & 0.416854 & 0.113417 & 0.0161777 & 0.237871 & 0.328869 & 0.388594 & 0.827495 & 0.525308 & 0.673568 & 0.0787224 & 0.146568 & 0.485066 & 0.877684 & 0.416192 & 0.571045 & 0.182155 & 0.134323 & 0.150976 & 0.742043 & 0.331399 & 0.441721 & 0.258435 & 0.179365 & 0.547326 & 0.0396702 & 0.901111 & 0.875182 & 0.0940496 & 0.135748 & 0.815906 & 0.318638 & 0.467641 & 0.350695 & 0.438721 & 0.0306896 & 0.826348 & 0.188778 & 0.778235 & $\\dots$ \\\\\n",
       "\t14 & 0.256697 & 0.442184 & 0.882668 & 0.295139 & 0.661251 & 0.345927 & 0.00618738 & 0.839614 & 0.126678 & 0.367896 & 0.905565 & 0.992191 & 0.814239 & 0.891956 & 0.945523 & 0.105662 & 0.144674 & 0.742911 & 0.0199684 & 0.600905 & 0.938825 & 0.637899 & 0.574996 & 0.959144 & 0.289137 & 0.05706 & 0.534704 & 0.859948 & 0.792136 & 0.699435 & 0.452928 & 0.00628875 & 0.646328 & 0.00625986 & 0.0948943 & 0.509564 & 0.831057 & 0.150589 & 0.99755 & 0.825637 & 0.359116 & 0.25917 & 0.184987 & 0.246293 & 0.678959 & 0.246704 & 0.262669 & 0.673208 & 0.312037 & 0.32152 & 0.568042 & 0.0513086 & 0.404207 & 0.882484 & 0.544177 & 0.857876 & 0.537279 & 0.120186 & 0.0197411 & 0.134976 & 0.490367 & 0.915333 & 0.267332 & 0.608344 & 0.702321 & 0.818114 & 0.128523 & 0.923254 & 0.198797 & 0.36647 & 0.690348 & 0.441621 & 0.0754382 & 0.827973 & 0.287905 & 0.151659 & 0.908283 & 0.622234 & 0.924394 & 0.437373 & 0.249388 & 0.343454 & 0.0902369 & 0.95358 & 0.5275 & 0.490004 & 0.448121 & 0.434673 & 0.703803 & 0.398894 & 0.106829 & $\\dots$ \\\\\n",
       "\t15 & 0.785111 & 0.0287701 & 0.723653 & 0.420017 & 0.369392 & 0.12533 & 0.613561 & 0.353583 & 0.0484257 & 0.48146 & 0.00590497 & 0.403021 & 0.928766 & 0.936654 & 0.0148183 & 0.541617 & 0.0887707 & 0.65463 & 0.112795 & 0.819853 & 0.153062 & 0.753844 & 0.157142 & 0.801286 & 0.579688 & 0.0908388 & 0.356038 & 0.744643 & 0.250392 & 0.908347 & 0.723184 & 0.680819 & 0.255666 & 0.582374 & 0.159995 & 0.0551349 & 0.25848 & 0.956404 & 0.106678 & 0.578684 & 0.819128 & 0.835611 & 0.164239 & 0.352778 & 0.260887 & 0.340043 & 0.359265 & 0.753189 & 0.691452 & 0.465358 & 0.294545 & 0.101817 & 0.408753 & 0.197066 & 0.891221 & 0.449196 & 0.353885 & 0.817879 & 0.302634 & 0.781319 & 0.878146 & 0.223373 & 0.341864 & 0.67 & 0.818568 & 0.45743 & 0.0106534 & 0.109349 & 0.755255 & 0.554298 & 0.0187193 & 0.470433 & 0.747251 & 0.883222 & 0.0343146 & 0.0722684 & 0.82199 & 0.213906 & 0.916131 & 0.43422 & 0.686634 & 0.0813054 & 0.515826 & 0.441113 & 0.369452 & 0.468456 & 0.700418 & 0.199584 & 0.790778 & 0.876855 & 0.197238 & $\\dots$ \\\\\n",
       "\t16 & 0.119175 & 0.997407 & 0.600071 & 0.150134 & 0.294867 & 0.232884 & 0.0359352 & 0.0405297 & 0.956944 & 0.206612 & 0.891109 & 0.536923 & 0.444805 & 0.0592091 & 0.349784 & 0.041129 & 0.204062 & 0.356162 & 0.427058 & 0.436655 & 0.323965 & 0.405204 & 0.243517 & 0.0983356 & 0.707926 & 0.626772 & 0.397375 & 0.103048 & 0.493754 & 0.0512734 & 0.284098 & 0.905525 & 0.2557 & 0.492156 & 0.217349 & 0.72758 & 0.45774 & 0.757575 & 0.504359 & 0.111195 & 0.144946 & 0.63563 & 0.640765 & 0.473529 & 0.888842 & 0.0662461 & 0.0669501 & 0.0937819 & 0.284774 & 0.388454 & 0.315083 & 0.705965 & 0.110245 & 0.545334 & 0.328949 & 0.953212 & 0.869523 & 0.883671 & 0.789061 & 0.538512 & 0.17662 & 0.679105 & 0.756235 & 0.700965 & 0.714096 & 0.773286 & 0.838677 & 0.194138 & 0.189236 & 0.801607 & 0.928073 & 0.21181 & 0.59794 & 0.939369 & 0.6301 & 0.428423 & 0.400726 & 0.392068 & 0.276225 & 0.647371 & 0.204536 & 0.803716 & 0.756323 & 0.630274 & 0.981307 & 0.669312 & 0.731045 & 0.686936 & 0.830185 & 0.225691 & 0.718969 & $\\dots$ \\\\\n",
       "\t17 & 0.767517 & 0.0917449 & 0.98261 & 0.155235 & 0.779822 & 0.697622 & 0.276395 & 0.0334867 & 0.211488 & 0.656095 & 0.271849 & 0.921427 & 0.704899 & 0.125585 & 0.677568 & 0.297045 & 0.438671 & 0.141978 & 0.197653 & 0.14572 & 0.901121 & 0.826308 & 0.254755 & 0.963487 & 0.69993 & 0.799628 & 0.384087 & 0.694298 & 0.505828 & 0.325642 & 0.518123 & 0.386466 & 0.86465 & 0.72836 & 0.282926 & 0.6356 & 0.24907 & 0.705237 & 0.185539 & 0.739488 & 0.316557 & 0.990732 & 0.291909 & 0.919134 & 0.609385 & 0.741514 & 0.100009 & 0.535735 & 0.198862 & 0.882838 & 0.497125 & 0.995807 & 0.0103457 & 0.820863 & 0.626746 & 0.296194 & 0.96574 & 0.655598 & 0.436826 & 0.163791 & 0.659449 & 0.36553 & 0.82149 & 0.976503 & 0.88755 & 0.125286 & 0.700833 & 0.946964 & 0.0848134 & 0.196714 & 0.937769 & 0.652907 & 0.619412 & 0.722275 & 0.566419 & 0.137032 & 0.421072 & 0.883118 & 0.076193 & 0.924065 & 0.742058 & 0.695228 & 0.692421 & 0.814906 & 0.0784302 & 0.395074 & 0.0195594 & 0.0644042 & 0.192134 & 0.226081 & 0.305123 & $\\dots$ \\\\\n",
       "\t18 & 0.0912103 & 0.858123 & 0.523157 & 0.341457 & 0.0188369 & 0.654098 & 0.713415 & 0.129512 & 0.111948 & 0.459208 & 0.183655 & 0.920433 & 0.997478 & 0.650843 & 0.0416978 & 0.983741 & 0.0409416 & 0.681168 & 0.652302 & 0.380478 & 0.182672 & 0.48964 & 0.183932 & 0.779065 & 0.531586 & 0.731207 & 0.546016 & 0.209642 & 0.388015 & 0.707885 & 0.401469 & 0.414996 & 0.34144 & 0.123668 & 0.97512 & 0.600568 & 0.840934 & 0.0844493 & 0.83362 & 0.0164664 & 0.643974 & 0.370158 & 0.36341 & 0.49419 & 0.134667 & 0.111654 & 0.0603724 & 0.0192727 & 0.817629 & 0.337511 & 0.282739 & 0.0427535 & 0.428996 & 0.991509 & 0.699613 & 0.942149 & 0.979018 & 0.774627 & 0.263582 & 0.0343829 & 0.691345 & 0.529715 & 0.3491 & 0.568308 & 0.445266 & 0.860663 & 0.737898 & 0.158701 & 0.0853444 & 0.671737 & 0.778676 & 0.616331 & 0.605166 & 0.137921 & 0.49265 & 0.084879 & 0.490077 & 0.840441 & 0.805008 & 0.577131 & 0.164546 & 0.585887 & 0.712441 & 0.0406718 & 0.813799 & 0.597728 & 0.31394 & 0.493442 & 0.755567 & 0.148272 & 0.780615 & $\\dots$ \\\\\n",
       "\t19 & 0.476591 & 0.800718 & 0.11265 & 0.283065 & 0.685996 & 0.948567 & 0.922045 & 0.393786 & 0.235692 & 0.923032 & 0.389098 & 0.305808 & 0.0757194 & 0.643833 & 0.508898 & 0.909184 & 0.289196 & 0.449011 & 0.449166 & 0.2876 & 0.0347074 & 0.44147 & 0.103866 & 0.526855 & 0.983031 & 0.0932253 & 0.537359 & 0.31136 & 0.347529 & 0.379231 & 0.224118 & 0.668162 & 0.128517 & 0.539799 & 0.172349 & 0.435991 & 0.180826 & 0.104718 & 0.932985 & 0.0209317 & 0.286929 & 0.644148 & 0.345779 & 0.723341 & 0.675401 & 0.220316 & 0.0820871 & 0.321589 & 0.693457 & 0.409098 & 0.044919 & 0.982601 & 0.902514 & 0.812016 & 0.530556 & 0.0802128 & 0.350024 & 0.332135 & 0.726545 & 0.730135 & 0.874499 & 0.942222 & 0.125513 & 0.0707746 & 0.174651 & 0.713836 & 0.517898 & 0.508667 & 0.0270955 & 0.958009 & 0.109962 & 0.351123 & 0.926009 & 0.952153 & 0.729818 & 0.58579 & 0.235482 & 0.247183 & 0.196109 & 0.363625 & 0.047663 & 0.190607 & 0.53017 & 0.945846 & 0.750075 & 0.236835 & 0.745386 & 0.0186635 & 0.963414 & 0.502514 & 0.232607 & $\\dots$ \\\\\n",
       "\t20 & 0.50936 & 0.0677106 & 0.646342 & 0.529543 & 0.906977 & 0.680919 & 0.854906 & 0.349826 & 0.108508 & 0.152323 & 0.529554 & 0.375108 & 0.449717 & 0.536842 & 0.831645 & 0.809305 & 0.388969 & 0.924636 & 0.566278 & 0.812893 & 0.30783 & 0.923731 & 0.00478722 & 0.26212 & 0.449992 & 0.0998924 & 0.610672 & 0.55376 & 0.70763 & 0.230976 & 0.524448 & 0.680562 & 0.0315408 & 0.957406 & 0.651823 & 0.00561359 & 0.903019 & 0.617892 & 0.0853425 & 0.53347 & 0.82833 & 0.854056 & 0.633794 & 0.339436 & 0.291664 & 0.750913 & 0.345843 & 0.243037 & 0.185055 & 0.0380478 & 0.184534 & 0.261817 & 0.1994 & 0.323532 & 0.95045 & 0.632434 & 0.566106 & 0.874069 & 0.499607 & 0.0521806 & 0.528636 & 0.526479 & 0.134858 & 0.879343 & 0.880208 & 0.953152 & 0.619533 & 0.554013 & 0.32116 & 0.402539 & 0.230132 & 0.914399 & 0.849661 & 0.706032 & 0.999066 & 0.709593 & 0.806477 & 0.579369 & 0.237576 & 0.872421 & 0.917755 & 0.238283 & 0.624868 & 0.670813 & 0.0892321 & 0.100787 & 0.528799 & 0.563496 & 0.422123 & 0.235726 & 0.744823 & $\\dots$ \\\\\n",
       "\t21 & 0.307134 & 0.93039 & 0.547991 & 0.282763 & 0.494457 & 0.318209 & 0.669773 & 0.853721 & 0.850005 & 0.715816 & 0.0337688 & 0.804402 & 0.893978 & 0.893904 & 0.312627 & 0.669111 & 0.99144 & 0.947155 & 0.639849 & 0.483649 & 0.316967 & 0.471222 & 0.178188 & 0.0538918 & 0.0673325 & 0.819659 & 0.213087 & 0.902479 & 0.146789 & 0.956968 & 0.437638 & 0.15399 & 0.551659 & 0.188814 & 0.584219 & 0.25859 & 0.497828 & 0.929091 & 0.629446 & 0.426062 & 0.353392 & 0.111176 & 0.370121 & 0.6948 & 0.705744 & 0.199877 & 0.375927 & 0.306254 & 0.0172798 & 0.326679 & 0.0677236 & 0.774519 & 0.0455985 & 0.353574 & 0.187917 & 0.623197 & 0.208424 & 0.403822 & 0.840184 & 0.222461 & 0.0881465 & 0.931478 & 0.853111 & 0.397111 & 0.35587 & 0.432234 & 0.0661484 & 0.539728 & 0.656949 & 0.524179 & 0.988885 & 0.450697 & 0.00364027 & 0.205573 & 0.662258 & 0.737181 & 0.977659 & 0.961869 & 0.0908337 & 0.583425 & 0.337415 & 0.0922778 & 0.398518 & 0.557303 & 0.866034 & 0.825382 & 0.334265 & 0.0775024 & 0.634409 & 0.0882148 & 0.951536 & $\\dots$ \\\\\n",
       "\t22 & 0.0748494 & 0.842819 & 0.174397 & 0.585027 & 0.647524 & 0.361121 & 0.457783 & 0.197152 & 0.209876 & 0.466329 & 0.406155 & 0.152351 & 0.505483 & 0.456496 & 0.283564 & 0.143957 & 0.116476 & 0.86016 & 0.64683 & 0.210622 & 0.826885 & 0.300417 & 0.71228 & 0.904871 & 0.696229 & 0.72267 & 0.174136 & 0.23003 & 0.741294 & 0.0815247 & 0.979206 & 0.742809 & 0.878433 & 0.0525933 & 0.950189 & 0.0190811 & 0.933998 & 0.770685 & 0.86052 & 0.865665 & 0.297431 & 0.795359 & 0.645038 & 0.712073 & 0.634281 & 0.742885 & 0.961849 & 0.885925 & 0.248304 & 0.453857 & 0.997385 & 0.383937 & 0.547439 & 0.781781 & 0.712037 & 0.348259 & 0.081833 & 0.38983 & 0.222769 & 0.786352 & 0.11826 & 0.995367 & 0.414437 & 0.31492 & 0.495709 & 0.617816 & 0.139765 & 0.167134 & 0.909815 & 0.978409 & 0.559653 & 0.264359 & 0.310432 & 0.857375 & 0.714564 & 0.554775 & 0.707106 & 0.0868333 & 0.37476 & 0.405064 & 0.934688 & 0.210175 & 0.315303 & 0.10453 & 0.709695 & 0.250576 & 0.988624 & 0.221699 & 0.251387 & 0.736891 & 0.821235 & $\\dots$ \\\\\n",
       "\t23 & 0.910248 & 0.974573 & 0.262119 & 0.972754 & 0.831086 & 0.884634 & 0.439225 & 0.385293 & 0.853531 & 0.639563 & 0.855535 & 0.333158 & 0.597535 & 0.00115976 & 0.124596 & 0.301587 & 0.143348 & 0.488919 & 0.2388 & 0.58854 & 0.267387 & 0.380235 & 0.674924 & 0.518806 & 0.759586 & 0.756648 & 0.487546 & 0.435687 & 0.0224561 & 0.0792966 & 0.52714 & 0.711805 & 0.378414 & 0.519893 & 0.713293 & 0.290639 & 0.572989 & 0.0323744 & 0.332728 & 0.432508 & 0.963921 & 0.73476 & 0.461187 & 0.797265 & 0.907193 & 0.922693 & 0.534732 & 0.303427 & 0.253601 & 0.221667 & 0.888425 & 0.157442 & 0.68488 & 0.407556 & 0.362209 & 0.938802 & 0.8389 & 0.0255732 & 0.561258 & 0.499792 & 0.815692 & 0.408309 & 0.00851013 & 0.249499 & 0.709797 & 0.551949 & 0.972655 & 0.158132 & 0.215669 & 0.287993 & 0.684705 & 0.976339 & 0.472291 & 0.629154 & 0.515939 & 0.237566 & 0.0324053 & 0.219753 & 0.584838 & 0.596525 & 0.700229 & 0.170792 & 0.587667 & 0.223331 & 0.810288 & 0.280452 & 0.281214 & 0.968538 & 0.625783 & 0.9265 & 0.987795 & $\\dots$ \\\\\n",
       "\t24 & 0.256616 & 0.810693 & 0.049729 & 0.69182 & 0.960388 & 0.971199 & 0.354185 & 0.553695 & 0.915114 & 0.53437 & 0.483389 & 0.420419 & 0.931358 & 0.846367 & 0.0833473 & 0.882511 & 0.0889344 & 0.105441 & 0.898072 & 0.618268 & 0.322621 & 0.935854 & 0.513055 & 0.578302 & 0.556542 & 0.635414 & 0.920086 & 0.313886 & 0.077584 & 0.410661 & 0.536799 & 0.842727 & 0.323424 & 0.0979703 & 0.643813 & 0.739761 & 0.367318 & 0.498612 & 0.0349703 & 0.289825 & 0.505065 & 0.622601 & 0.238781 & 0.800493 & 0.834235 & 0.707748 & 0.254695 & 0.55248 & 0.900382 & 0.0516816 & 0.0722662 & 0.670037 & 0.528175 & 0.838406 & 0.418662 & 0.266291 & 0.581613 & 0.610446 & 0.841307 & 0.673156 & 0.705877 & 0.846345 & 0.8071 & 0.484362 & 0.00264264 & 0.376861 & 0.00286258 & 0.813644 & 0.0601934 & 0.401146 & 0.455901 & 0.412068 & 0.205892 & 0.692938 & 0.761514 & 0.608291 & 0.165913 & 0.70564 & 0.456988 & 0.752319 & 0.762804 & 0.552292 & 0.596155 & 0.306926 & 0.407184 & 0.745572 & 0.0312873 & 0.52841 & 0.918759 & 0.689452 & 0.14905 & $\\dots$ \\\\\n",
       "\t$\\dots$ & $\\dots$ & $\\dots$ & $\\dots$ & $\\dots$ & $\\dots$ & $\\dots$ & $\\dots$ & $\\dots$ & $\\dots$ & $\\dots$ & $\\dots$ & $\\dots$ & $\\dots$ & $\\dots$ & $\\dots$ & $\\dots$ & $\\dots$ & $\\dots$ & $\\dots$ & $\\dots$ & $\\dots$ & $\\dots$ & $\\dots$ & $\\dots$ & $\\dots$ & $\\dots$ & $\\dots$ & $\\dots$ & $\\dots$ & $\\dots$ & $\\dots$ & $\\dots$ & $\\dots$ & $\\dots$ & $\\dots$ & $\\dots$ & $\\dots$ & $\\dots$ & $\\dots$ & $\\dots$ & $\\dots$ & $\\dots$ & $\\dots$ & $\\dots$ & $\\dots$ & $\\dots$ & $\\dots$ & $\\dots$ & $\\dots$ & $\\dots$ & $\\dots$ & $\\dots$ & $\\dots$ & $\\dots$ & $\\dots$ & $\\dots$ & $\\dots$ & $\\dots$ & $\\dots$ & $\\dots$ & $\\dots$ & $\\dots$ & $\\dots$ & $\\dots$ & $\\dots$ & $\\dots$ & $\\dots$ & $\\dots$ & $\\dots$ & $\\dots$ & $\\dots$ & $\\dots$ & $\\dots$ & $\\dots$ & $\\dots$ & $\\dots$ & $\\dots$ & $\\dots$ & $\\dots$ & $\\dots$ & $\\dots$ & $\\dots$ & $\\dots$ & $\\dots$ & $\\dots$ & $\\dots$ & $\\dots$ & $\\dots$ & $\\dots$ & $\\dots$ & $\\dots$ &  \\\\\n",
       "\\end{tabular}\n"
      ],
      "text/plain": [
       "100×1000 DataFrame. Omitted printing of 917 columns\n",
       "│ Row │ x1        │ x2        │ x3       │ x4        │ x5       │ x6        │ x7       │ x8        │ x9        │ x10       │ x11      │ x12       │ x13       │ x14        │ x15       │ x16       │ x17      │ x18      │ x19       │ x20       │ x21       │ x22        │ x23       │ x24       │ x25        │ x26       │ x27       │ x28      │ x29      │ x30      │ x31      │ x32       │ x33       │ x34        │ x35      │ x36       │ x37       │ x38       │ x39       │ x40       │ x41       │ x42       │ x43       │ x44       │ x45       │ x46       │ x47       │ x48      │ x49       │ x50      │ x51        │ x52       │ x53       │ x54        │ x55       │ x56       │ x57       │ x58       │ x59       │ x60      │ x61       │ x62       │ x63       │ x64      │ x65        │ x66      │ x67       │ x68      │ x69       │ x70      │ x71       │ x72       │ x73        │ x74      │ x75       │ x76       │ x77       │ x78       │ x79      │ x80       │ x81      │ x82       │ x83       │\n",
       "│     │ \u001b[90mFloat64\u001b[39m   │ \u001b[90mFloat64\u001b[39m   │ \u001b[90mFloat64\u001b[39m  │ \u001b[90mFloat64\u001b[39m   │ \u001b[90mFloat64\u001b[39m  │ \u001b[90mFloat64\u001b[39m   │ \u001b[90mFloat64\u001b[39m  │ \u001b[90mFloat64\u001b[39m   │ \u001b[90mFloat64\u001b[39m   │ \u001b[90mFloat64\u001b[39m   │ \u001b[90mFloat64\u001b[39m  │ \u001b[90mFloat64\u001b[39m   │ \u001b[90mFloat64\u001b[39m   │ \u001b[90mFloat64\u001b[39m    │ \u001b[90mFloat64\u001b[39m   │ \u001b[90mFloat64\u001b[39m   │ \u001b[90mFloat64\u001b[39m  │ \u001b[90mFloat64\u001b[39m  │ \u001b[90mFloat64\u001b[39m   │ \u001b[90mFloat64\u001b[39m   │ \u001b[90mFloat64\u001b[39m   │ \u001b[90mFloat64\u001b[39m    │ \u001b[90mFloat64\u001b[39m   │ \u001b[90mFloat64\u001b[39m   │ \u001b[90mFloat64\u001b[39m    │ \u001b[90mFloat64\u001b[39m   │ \u001b[90mFloat64\u001b[39m   │ \u001b[90mFloat64\u001b[39m  │ \u001b[90mFloat64\u001b[39m  │ \u001b[90mFloat64\u001b[39m  │ \u001b[90mFloat64\u001b[39m  │ \u001b[90mFloat64\u001b[39m   │ \u001b[90mFloat64\u001b[39m   │ \u001b[90mFloat64\u001b[39m    │ \u001b[90mFloat64\u001b[39m  │ \u001b[90mFloat64\u001b[39m   │ \u001b[90mFloat64\u001b[39m   │ \u001b[90mFloat64\u001b[39m   │ \u001b[90mFloat64\u001b[39m   │ \u001b[90mFloat64\u001b[39m   │ \u001b[90mFloat64\u001b[39m   │ \u001b[90mFloat64\u001b[39m   │ \u001b[90mFloat64\u001b[39m   │ \u001b[90mFloat64\u001b[39m   │ \u001b[90mFloat64\u001b[39m   │ \u001b[90mFloat64\u001b[39m   │ \u001b[90mFloat64\u001b[39m   │ \u001b[90mFloat64\u001b[39m  │ \u001b[90mFloat64\u001b[39m   │ \u001b[90mFloat64\u001b[39m  │ \u001b[90mFloat64\u001b[39m    │ \u001b[90mFloat64\u001b[39m   │ \u001b[90mFloat64\u001b[39m   │ \u001b[90mFloat64\u001b[39m    │ \u001b[90mFloat64\u001b[39m   │ \u001b[90mFloat64\u001b[39m   │ \u001b[90mFloat64\u001b[39m   │ \u001b[90mFloat64\u001b[39m   │ \u001b[90mFloat64\u001b[39m   │ \u001b[90mFloat64\u001b[39m  │ \u001b[90mFloat64\u001b[39m   │ \u001b[90mFloat64\u001b[39m   │ \u001b[90mFloat64\u001b[39m   │ \u001b[90mFloat64\u001b[39m  │ \u001b[90mFloat64\u001b[39m    │ \u001b[90mFloat64\u001b[39m  │ \u001b[90mFloat64\u001b[39m   │ \u001b[90mFloat64\u001b[39m  │ \u001b[90mFloat64\u001b[39m   │ \u001b[90mFloat64\u001b[39m  │ \u001b[90mFloat64\u001b[39m   │ \u001b[90mFloat64\u001b[39m   │ \u001b[90mFloat64\u001b[39m    │ \u001b[90mFloat64\u001b[39m  │ \u001b[90mFloat64\u001b[39m   │ \u001b[90mFloat64\u001b[39m   │ \u001b[90mFloat64\u001b[39m   │ \u001b[90mFloat64\u001b[39m   │ \u001b[90mFloat64\u001b[39m  │ \u001b[90mFloat64\u001b[39m   │ \u001b[90mFloat64\u001b[39m  │ \u001b[90mFloat64\u001b[39m   │ \u001b[90mFloat64\u001b[39m   │\n",
       "├─────┼───────────┼───────────┼──────────┼───────────┼──────────┼───────────┼──────────┼───────────┼───────────┼───────────┼──────────┼───────────┼───────────┼────────────┼───────────┼───────────┼──────────┼──────────┼───────────┼───────────┼───────────┼────────────┼───────────┼───────────┼────────────┼───────────┼───────────┼──────────┼──────────┼──────────┼──────────┼───────────┼───────────┼────────────┼──────────┼───────────┼───────────┼───────────┼───────────┼───────────┼───────────┼───────────┼───────────┼───────────┼───────────┼───────────┼───────────┼──────────┼───────────┼──────────┼────────────┼───────────┼───────────┼────────────┼───────────┼───────────┼───────────┼───────────┼───────────┼──────────┼───────────┼───────────┼───────────┼──────────┼────────────┼──────────┼───────────┼──────────┼───────────┼──────────┼───────────┼───────────┼────────────┼──────────┼───────────┼───────────┼───────────┼───────────┼──────────┼───────────┼──────────┼───────────┼───────────┤\n",
       "│ 1   │ 0.691238  │ 0.502941  │ 0.113297 │ 0.328738  │ 0.13378  │ 0.441278  │ 0.685002 │ 0.0538219 │ 0.0761798 │ 0.769235  │ 0.284291 │ 0.171352  │ 0.754563  │ 0.648736   │ 0.0953225 │ 0.775889  │ 0.841043 │ 0.311933 │ 0.56814   │ 0.577725  │ 0.192599  │ 0.00604097 │ 0.581288  │ 0.746245  │ 0.385509   │ 0.355455  │ 0.929221  │ 0.729291 │ 0.778783 │ 0.598102 │ 0.498373 │ 0.0278266 │ 0.0462616 │ 0.0804585  │ 0.486005 │ 0.829665  │ 0.605489  │ 0.922619  │ 0.615983  │ 0.975146  │ 0.218467  │ 0.214458  │ 0.201525  │ 0.388645  │ 0.558404  │ 0.163782  │ 0.437683  │ 0.897702 │ 0.0696074 │ 0.656873 │ 0.096646   │ 0.604482  │ 0.826148  │ 0.90222    │ 0.213158  │ 0.145633  │ 0.715524  │ 0.821202  │ 0.851274  │ 0.809465 │ 0.938894  │ 0.833493  │ 0.0128205 │ 0.911447 │ 0.572925   │ 0.492402 │ 0.70685   │ 0.391735 │ 0.379956  │ 0.894197 │ 0.319608  │ 0.282724  │ 0.662529   │ 0.751371 │ 0.0515758 │ 0.0554555 │ 0.407253  │ 0.714758  │ 0.930454 │ 0.34133   │ 0.409226 │ 0.0593862 │ 0.943453  │\n",
       "│ 2   │ 0.815357  │ 0.7703    │ 0.239176 │ 0.275748  │ 0.183924 │ 0.507341  │ 0.284418 │ 0.28708   │ 0.942902  │ 0.0887963 │ 0.734511 │ 0.379075  │ 0.434635  │ 0.474651   │ 0.280465  │ 0.180545  │ 0.997093 │ 0.58534  │ 0.404039  │ 0.0574775 │ 0.829238  │ 0.551627   │ 0.0609086 │ 0.866673  │ 0.00203838 │ 0.23122   │ 0.100199  │ 0.542427 │ 0.6176   │ 0.210846 │ 0.169462 │ 0.317331  │ 0.120702  │ 0.522714   │ 0.771854 │ 0.861075  │ 0.607028  │ 0.577105  │ 0.0263973 │ 0.508519  │ 0.207115  │ 0.260203  │ 0.966495  │ 0.950563  │ 0.23515   │ 0.807233  │ 0.667959  │ 0.469412 │ 0.68944   │ 0.303178 │ 0.916198   │ 0.175827  │ 0.630586  │ 0.617525   │ 0.436164  │ 0.30317   │ 0.0596742 │ 0.0982103 │ 0.094269  │ 0.774918 │ 0.74536   │ 0.45168   │ 0.0928307 │ 0.314255 │ 0.837564   │ 0.507878 │ 0.633839  │ 0.298748 │ 0.501813  │ 0.667421 │ 0.244102  │ 0.99187   │ 0.320146   │ 0.327764 │ 0.0972044 │ 0.865251  │ 0.370263  │ 0.207617  │ 0.490622 │ 0.128018  │ 0.973084 │ 0.769352  │ 0.780947  │\n",
       "│ 3   │ 0.816104  │ 0.0311551 │ 0.5683   │ 0.704495  │ 0.549385 │ 0.471999  │ 0.543525 │ 0.878611  │ 0.0553813 │ 0.433413  │ 0.721113 │ 0.90562   │ 0.822592  │ 0.101155   │ 0.215981  │ 0.0727627 │ 0.579711 │ 0.579151 │ 0.755325  │ 0.632599  │ 0.676199  │ 0.921829   │ 0.749605  │ 0.981136  │ 0.10249    │ 0.953556  │ 0.50945   │ 0.646269 │ 0.396988 │ 0.932969 │ 0.506011 │ 0.387092  │ 0.513568  │ 0.548799   │ 0.117301 │ 0.749199  │ 0.161664  │ 0.507067  │ 0.982289  │ 0.0554118 │ 0.0723973 │ 0.296174  │ 0.2617    │ 0.0464874 │ 0.0168145 │ 0.938944  │ 0.731108  │ 0.464276 │ 0.0282041 │ 0.112549 │ 0.745749   │ 0.432314  │ 0.693835  │ 0.956663   │ 0.177674  │ 0.874948  │ 0.587931  │ 0.834267  │ 0.751571  │ 0.871607 │ 0.118688  │ 0.895995  │ 0.688151  │ 0.931742 │ 0.0470647  │ 0.356565 │ 0.648014  │ 0.314232 │ 0.90112   │ 0.837802 │ 0.419339  │ 0.126734  │ 0.00268467 │ 0.843003 │ 0.505144  │ 0.5602    │ 0.0985052 │ 0.861954  │ 0.860644 │ 0.204682  │ 0.634035 │ 0.553771  │ 0.220832  │\n",
       "│ 4   │ 0.0294096 │ 0.602984  │ 0.357492 │ 0.588966  │ 0.100176 │ 0.163219  │ 0.3719   │ 0.0634015 │ 0.57308   │ 0.795895  │ 0.89425  │ 0.0849626 │ 0.763744  │ 0.239118   │ 0.722183  │ 0.856142  │ 0.180864 │ 0.581203 │ 0.3304    │ 0.520827  │ 0.0140902 │ 0.402648   │ 0.492288  │ 0.0419267 │ 0.565855   │ 0.185707  │ 0.912092  │ 0.276022 │ 0.687733 │ 0.152818 │ 0.596199 │ 0.246881  │ 0.624406  │ 0.86924    │ 0.60933  │ 0.662877  │ 0.97319   │ 0.112181  │ 0.417401  │ 0.384564  │ 0.824204  │ 0.936204  │ 0.710395  │ 0.962075  │ 0.429801  │ 0.781552  │ 0.110724  │ 0.238736 │ 0.239962  │ 0.805589 │ 0.45364    │ 0.827796  │ 0.0670384 │ 0.651466   │ 0.136     │ 0.596721  │ 0.0877139 │ 0.147265  │ 0.621543  │ 0.185766 │ 0.935794  │ 0.940496  │ 0.041551  │ 0.380434 │ 0.804594   │ 0.463235 │ 0.614597  │ 0.995259 │ 0.853942  │ 0.909778 │ 0.677835  │ 0.136624  │ 0.0101655  │ 0.313183 │ 0.793315  │ 0.640075  │ 0.802004  │ 0.355651  │ 0.797319 │ 0.811142  │ 0.8665   │ 0.440861  │ 0.110327  │\n",
       "│ 5   │ 0.735294  │ 0.518496  │ 0.867751 │ 0.944726  │ 0.304592 │ 0.341913  │ 0.681918 │ 0.0712981 │ 0.999297  │ 0.8393    │ 0.949566 │ 0.461614  │ 0.249693  │ 0.5351     │ 0.908043  │ 0.197059  │ 0.688323 │ 0.200507 │ 0.0450562 │ 0.70558   │ 0.770484  │ 0.0854422  │ 0.843648  │ 0.641052  │ 0.408662   │ 0.479613  │ 0.47507   │ 0.826897 │ 0.168435 │ 0.433382 │ 0.502158 │ 0.274056  │ 0.61335   │ 0.89971    │ 0.717724 │ 0.94818   │ 0.375389  │ 0.953553  │ 0.455064  │ 0.483564  │ 0.0675189 │ 0.274972  │ 0.0285296 │ 0.683966  │ 0.192759  │ 0.263576  │ 0.531961  │ 0.227704 │ 0.102302  │ 0.786472 │ 0.028373   │ 0.0335419 │ 0.90208   │ 0.493996   │ 0.860681  │ 0.513063  │ 0.0637473 │ 0.185034  │ 0.940987  │ 0.029071 │ 0.715109  │ 0.199015  │ 0.430876  │ 0.038609 │ 0.843466   │ 0.554907 │ 0.130222  │ 0.25381  │ 0.927273  │ 0.7202   │ 0.45438   │ 0.968065  │ 0.244117   │ 0.964951 │ 0.59948   │ 0.0335906 │ 0.0874323 │ 0.919734  │ 0.57089  │ 0.541353  │ 0.743658 │ 0.953108  │ 0.601884  │\n",
       "│ 6   │ 0.104985  │ 0.748484  │ 0.270928 │ 0.726806  │ 0.242353 │ 0.424651  │ 0.89167  │ 0.0989472 │ 0.63658   │ 0.451663  │ 0.58207  │ 0.37181   │ 0.784128  │ 0.881445   │ 0.522263  │ 0.843995  │ 0.647146 │ 0.510528 │ 0.760864  │ 0.176008  │ 0.604682  │ 0.529928   │ 0.868341  │ 0.956101  │ 0.636343   │ 0.346888  │ 0.383413  │ 0.124892 │ 0.137329 │ 0.953385 │ 0.019473 │ 0.918218  │ 0.217521  │ 0.454126   │ 0.216184 │ 0.128865  │ 0.71009   │ 0.202403  │ 0.786343  │ 0.376344  │ 0.876184  │ 0.173444  │ 0.543272  │ 0.569241  │ 0.217485  │ 0.54297   │ 0.794895  │ 0.197436 │ 0.405965  │ 0.218483 │ 0.621621   │ 0.588901  │ 0.55798   │ 0.758998   │ 0.0190227 │ 0.0141301 │ 0.262226  │ 0.526782  │ 0.897284  │ 0.160378 │ 0.882961  │ 0.908824  │ 0.288973  │ 0.995771 │ 0.217869   │ 0.155613 │ 0.14274   │ 0.398137 │ 0.715217  │ 0.671268 │ 0.309147  │ 0.0980875 │ 0.0506852  │ 0.705388 │ 0.856581  │ 0.490066  │ 0.868483  │ 0.923126  │ 0.134035 │ 0.0515882 │ 0.745122 │ 0.967005  │ 0.56791   │\n",
       "│ 7   │ 0.122963  │ 0.299071  │ 0.398845 │ 0.595742  │ 0.897918 │ 0.767277  │ 0.528869 │ 0.0952854 │ 0.876014  │ 0.91985   │ 0.274228 │ 0.235176  │ 0.155168  │ 0.897107   │ 0.844195  │ 0.523281  │ 0.695864 │ 0.151124 │ 0.201065  │ 0.433001  │ 0.967306  │ 0.277211   │ 0.0633977 │ 0.559057  │ 0.803475   │ 0.955828  │ 0.418065  │ 0.176816 │ 0.452077 │ 0.212605 │ 0.359162 │ 0.872456  │ 0.954056  │ 0.00969582 │ 0.654253 │ 0.451168  │ 0.936156  │ 0.83678   │ 0.352908  │ 0.355679  │ 0.351366  │ 0.6976    │ 0.182677  │ 0.582376  │ 0.446669  │ 0.468831  │ 0.986564  │ 0.787202 │ 0.0207218 │ 0.830462 │ 0.528791   │ 0.649264  │ 0.462557  │ 0.495886   │ 0.331946  │ 0.207492  │ 0.147196  │ 0.413481  │ 0.384668  │ 0.289411 │ 0.671321  │ 0.0849257 │ 0.822076  │ 0.691735 │ 0.00201329 │ 0.986001 │ 0.255116  │ 0.62795  │ 0.439429  │ 0.855033 │ 0.0392876 │ 0.533968  │ 0.954528   │ 0.621568 │ 0.554224  │ 0.245084  │ 0.430127  │ 0.0393655 │ 0.861053 │ 0.79146   │ 0.19431  │ 0.130647  │ 0.320469  │\n",
       "⋮\n",
       "│ 93  │ 0.643518  │ 0.423669  │ 0.987373 │ 0.902996  │ 0.264184 │ 0.0687632 │ 0.246364 │ 0.936528  │ 0.0626176 │ 0.119095  │ 0.261827 │ 0.543948  │ 0.142993  │ 0.877995   │ 0.951343  │ 0.394104  │ 0.861538 │ 0.491522 │ 0.592395  │ 0.952958  │ 0.905107  │ 0.170457   │ 0.691412  │ 0.305499  │ 0.179366   │ 0.662212  │ 0.933041  │ 0.230239 │ 0.32764  │ 0.767    │ 0.709468 │ 0.841898  │ 0.0214527 │ 0.253015   │ 0.526092 │ 0.414261  │ 0.0857839 │ 0.323197  │ 0.989589  │ 0.580757  │ 0.332117  │ 0.743741  │ 0.572841  │ 0.133382  │ 0.445565  │ 0.921668  │ 0.0830206 │ 0.572769 │ 0.320461  │ 0.166777 │ 0.243892   │ 0.132612  │ 0.765052  │ 0.307305   │ 0.683863  │ 0.275755  │ 0.271901  │ 0.883787  │ 0.862931  │ 0.750414 │ 0.88543   │ 0.388676  │ 0.0279482 │ 0.862581 │ 0.81636    │ 0.293966 │ 0.30188   │ 0.662253 │ 0.549602  │ 0.405031 │ 0.967761  │ 0.868514  │ 0.475268   │ 0.644624 │ 0.0152846 │ 0.153742  │ 0.855043  │ 0.535195  │ 0.122718 │ 0.120852  │ 0.447783 │ 0.157549  │ 0.246831  │\n",
       "│ 94  │ 0.286892  │ 0.860191  │ 0.234009 │ 0.654314  │ 0.03576  │ 0.327378  │ 0.858997 │ 0.966634  │ 0.287739  │ 0.664859  │ 0.668162 │ 0.999837  │ 0.251666  │ 0.481451   │ 0.911759  │ 0.984338  │ 0.800379 │ 0.621215 │ 0.0309279 │ 0.0435778 │ 0.784397  │ 0.725739   │ 0.697913  │ 0.903341  │ 0.677785   │ 0.0550472 │ 0.184176  │ 0.659656 │ 0.375984 │ 0.115483 │ 0.780654 │ 0.499065  │ 0.497268  │ 0.608305   │ 0.789557 │ 0.634451  │ 0.654711  │ 0.064393  │ 0.690274  │ 0.376052  │ 0.33517   │ 0.125751  │ 0.89956   │ 0.736922  │ 0.122134  │ 0.232993  │ 0.542237  │ 0.983583 │ 0.19017   │ 0.22769  │ 0.446814   │ 0.880462  │ 0.283374  │ 0.74851    │ 0.35832   │ 0.435148  │ 0.977156  │ 0.911051  │ 0.232685  │ 0.693866 │ 0.405745  │ 0.110243  │ 0.594669  │ 0.815154 │ 0.569185   │ 0.827309 │ 0.367762  │ 0.374001 │ 0.794016  │ 0.367475 │ 0.183657  │ 0.64263   │ 0.800634   │ 0.809971 │ 0.232202  │ 0.726017  │ 0.550618  │ 0.689757  │ 0.066237 │ 0.218705  │ 0.49543  │ 0.0532699 │ 0.232517  │\n",
       "│ 95  │ 0.762523  │ 0.0542611 │ 0.108823 │ 0.127457  │ 0.649579 │ 0.777691  │ 0.0945   │ 0.592004  │ 0.687948  │ 0.611934  │ 0.926688 │ 0.0223771 │ 0.792158  │ 0.319545   │ 0.239427  │ 0.136574  │ 0.279412 │ 0.5293   │ 0.198804  │ 0.951605  │ 0.332071  │ 0.052404   │ 0.761082  │ 0.941384  │ 0.360823   │ 0.727022  │ 0.694236  │ 0.217221 │ 0.517302 │ 0.137989 │ 0.382683 │ 0.516682  │ 0.0273436 │ 0.358914   │ 0.325977 │ 0.0547373 │ 0.609597  │ 0.980888  │ 0.273456  │ 0.0532361 │ 0.542837  │ 0.0837315 │ 0.431383  │ 0.820543  │ 0.969667  │ 0.930366  │ 0.81633   │ 0.549184 │ 0.288896  │ 0.421891 │ 0.429255   │ 0.212976  │ 0.774767  │ 0.68849    │ 0.897244  │ 0.130483  │ 0.927341  │ 0.220485  │ 0.544031  │ 0.810184 │ 0.0448566 │ 0.306898  │ 0.30188   │ 0.660923 │ 0.721688   │ 0.148359 │ 0.92096   │ 0.910263 │ 0.0856758 │ 0.184058 │ 0.879899  │ 0.797819  │ 0.630675   │ 0.482465 │ 0.736122  │ 0.826809  │ 0.215441  │ 0.372103  │ 0.253004 │ 0.794828  │ 0.412552 │ 0.108983  │ 0.0225282 │\n",
       "│ 96  │ 0.12173   │ 0.215425  │ 0.96121  │ 0.486031  │ 0.455957 │ 0.842317  │ 0.605808 │ 0.380054  │ 0.0163276 │ 0.530926  │ 0.102426 │ 0.415345  │ 0.901303  │ 0.141939   │ 0.283323  │ 0.326317  │ 0.384437 │ 0.667797 │ 0.271977  │ 0.0610576 │ 0.72723   │ 0.0149813  │ 0.565326  │ 0.512474  │ 0.0700556  │ 0.482017  │ 0.0311834 │ 0.129381 │ 0.808303 │ 0.275073 │ 0.167881 │ 0.81439   │ 0.347019  │ 0.51895    │ 0.570866 │ 0.434214  │ 0.557136  │ 0.0355696 │ 0.0426792 │ 0.956796  │ 0.0610626 │ 0.604949  │ 0.108962  │ 0.0951331 │ 0.644703  │ 0.250493  │ 0.442453  │ 0.188148 │ 0.694041  │ 0.246715 │ 0.560341   │ 0.915796  │ 0.812703  │ 0.748743   │ 0.0905025 │ 0.355802  │ 0.523357  │ 0.558633  │ 0.192035  │ 0.606845 │ 0.139853  │ 0.948259  │ 0.470579  │ 0.494305 │ 0.684164   │ 0.971938 │ 0.285274  │ 0.703147 │ 0.960012  │ 0.406314 │ 0.646186  │ 0.0628213 │ 0.449112   │ 0.168545 │ 0.562227  │ 0.113115  │ 0.649923  │ 0.315862  │ 0.729933 │ 0.118675  │ 0.605344 │ 0.583898  │ 0.0048144 │\n",
       "│ 97  │ 0.42203   │ 0.393003  │ 0.153029 │ 0.452593  │ 0.986399 │ 0.671772  │ 0.457919 │ 0.926908  │ 0.803482  │ 0.939011  │ 0.518598 │ 0.359615  │ 0.548051  │ 0.212636   │ 0.0731782 │ 0.68167   │ 0.864692 │ 0.873098 │ 0.261773  │ 0.63234   │ 0.860118  │ 0.212664   │ 0.490204  │ 0.594588  │ 0.362564   │ 0.0569334 │ 0.371773  │ 0.665372 │ 0.633885 │ 0.869438 │ 0.782921 │ 0.568278  │ 0.613711  │ 0.0646781  │ 0.568709 │ 0.0943753 │ 0.782212  │ 0.432347  │ 0.0244455 │ 0.95384   │ 0.797635  │ 0.140884  │ 0.879326  │ 0.37472   │ 0.747514  │ 0.180237  │ 0.695716  │ 0.619207 │ 0.531734  │ 0.33093  │ 0.196062   │ 0.687112  │ 0.633876  │ 0.354159   │ 0.481302  │ 0.811022  │ 0.578211  │ 0.336943  │ 0.0940363 │ 0.724985 │ 0.962264  │ 0.250931  │ 0.496936  │ 0.181407 │ 0.689202   │ 0.889266 │ 0.251657  │ 0.180193 │ 0.18819   │ 0.869222 │ 0.546458  │ 0.174806  │ 0.636397   │ 0.471196 │ 0.0329431 │ 0.767817  │ 0.737197  │ 0.626441  │ 0.996913 │ 0.17115   │ 0.57334  │ 0.895716  │ 0.431745  │\n",
       "│ 98  │ 0.248061  │ 0.122138  │ 0.734757 │ 0.0606331 │ 0.468839 │ 0.519787  │ 0.520335 │ 0.82474   │ 0.117171  │ 0.0850115 │ 0.692088 │ 0.712345  │ 0.803026  │ 0.00596116 │ 0.822665  │ 0.49652   │ 0.595358 │ 0.696547 │ 0.565099  │ 0.166821  │ 0.986648  │ 0.548808   │ 0.113521  │ 0.240256  │ 0.796755   │ 0.143709  │ 0.64338   │ 0.517787 │ 0.88353  │ 0.340531 │ 0.42308  │ 0.451594  │ 0.721952  │ 0.266143   │ 0.291048 │ 0.28503   │ 0.451818  │ 0.123756  │ 0.671964  │ 0.313437  │ 0.92333   │ 0.786745  │ 0.871443  │ 0.893781  │ 0.465217  │ 0.354208  │ 0.544057  │ 0.968364 │ 0.988405  │ 0.135705 │ 0.501713   │ 0.328346  │ 0.0509031 │ 0.65112    │ 0.774361  │ 0.593005  │ 0.0993552 │ 0.553572  │ 0.909204  │ 0.190663 │ 0.902283  │ 0.203895  │ 0.36173   │ 0.539731 │ 0.0138681  │ 0.344721 │ 0.585383  │ 0.980568 │ 0.6058    │ 0.492842 │ 0.571414  │ 0.192626  │ 0.310981   │ 0.183664 │ 0.292063  │ 0.675411  │ 0.315551  │ 0.235098  │ 0.84903  │ 0.536033  │ 0.238773 │ 0.678753  │ 0.231479  │\n",
       "│ 99  │ 0.954902  │ 0.781351  │ 0.960357 │ 0.879493  │ 0.039775 │ 0.212359  │ 0.554541 │ 0.25347   │ 0.991295  │ 0.972408  │ 0.414771 │ 0.916212  │ 0.101781  │ 0.899393   │ 0.946388  │ 0.134736  │ 0.844741 │ 0.177013 │ 0.346461  │ 0.448448  │ 0.206165  │ 0.418927   │ 0.186918  │ 0.954326  │ 0.977229   │ 0.0905327 │ 0.800384  │ 0.668382 │ 0.603604 │ 0.527407 │ 0.748646 │ 0.766678  │ 0.0758325 │ 0.396821   │ 0.433751 │ 0.357954  │ 0.214486  │ 0.846937  │ 0.596584  │ 0.0956016 │ 0.457306  │ 0.160344  │ 0.377366  │ 0.987179  │ 0.521804  │ 0.213785  │ 0.488711  │ 0.83219  │ 0.551184  │ 0.331853 │ 0.892448   │ 0.144073  │ 0.101325  │ 0.909182   │ 0.975881  │ 0.0280106 │ 0.882932  │ 0.972972  │ 0.431094  │ 0.224809 │ 0.495968  │ 0.693719  │ 0.563527  │ 0.226192 │ 0.113672   │ 0.22338  │ 0.0767187 │ 0.199073 │ 0.70545   │ 0.43567  │ 0.244866  │ 0.294578  │ 0.465644   │ 0.174379 │ 0.728899  │ 0.354953  │ 0.347611  │ 0.327741  │ 0.465346 │ 0.958826  │ 0.67066  │ 0.25833   │ 0.122299  │\n",
       "│ 100 │ 0.560985  │ 0.836088  │ 0.636395 │ 0.646751  │ 0.777467 │ 0.380337  │ 0.161077 │ 0.211871  │ 0.939554  │ 0.161152  │ 0.26445  │ 0.352985  │ 0.0261203 │ 0.171109   │ 0.372271  │ 0.347078  │ 0.632896 │ 0.19739  │ 0.302938  │ 0.47801   │ 0.058978  │ 0.707095   │ 0.215833  │ 0.0338118 │ 0.429517   │ 0.292027  │ 0.263542  │ 0.579394 │ 0.837929 │ 0.337819 │ 0.998979 │ 0.834723  │ 0.324117  │ 0.191956   │ 0.691444 │ 0.197143  │ 0.5869    │ 0.764146  │ 0.883351  │ 0.732318  │ 0.126743  │ 0.15607   │ 0.191125  │ 0.87733   │ 0.0115159 │ 0.0588984 │ 0.0114437 │ 0.975808 │ 0.451482  │ 0.153821 │ 0.00852908 │ 0.852663  │ 0.785265  │ 0.00229688 │ 0.520861  │ 0.290748  │ 0.270761  │ 0.531064  │ 0.375883  │ 0.825527 │ 0.421109  │ 0.71135   │ 0.952632  │ 0.267159 │ 0.270503   │ 0.645644 │ 0.0915219 │ 0.739943 │ 0.328618  │ 0.92223  │ 0.589661  │ 0.535565  │ 0.205743   │ 0.852661 │ 0.656383  │ 0.0462211 │ 0.677539  │ 0.0066637 │ 0.297644 │ 0.853792  │ 0.37339  │ 0.878396  │ 0.131792  │"
      ]
     },
     "execution_count": 17,
     "metadata": {},
     "output_type": "execute_result"
    }
   ],
   "source": [
    "x = DataFrame(rand(100, 1000))"
   ]
  },
  {
   "cell_type": "code",
   "execution_count": 18,
   "metadata": {},
   "outputs": [
    {
     "name": "stdout",
     "output_type": "stream",
     "text": [
      "  135.301 μs (1511 allocations: 194.41 KiB)\n"
     ]
    },
    {
     "data": {
      "text/html": [
       "<table class=\"data-frame\"><thead><tr><th></th><th>x1</th><th>x2</th><th>x3</th><th>x4</th><th>x5</th><th>x6</th><th>x7</th><th>x8</th><th>x9</th><th>x10</th><th>x11</th><th>x12</th><th>x13</th><th>x14</th><th>x15</th><th>x16</th><th>x17</th><th>x18</th><th>x19</th><th>x20</th><th>x21</th><th>x22</th><th>x23</th><th>x24</th><th>x25</th><th>x26</th><th>x27</th><th>x28</th><th>x29</th><th>x30</th><th>x31</th><th>x32</th><th>x33</th><th>x34</th><th>x35</th><th>x36</th><th>x37</th><th>x38</th><th>x39</th><th>x40</th><th>x41</th><th>x42</th><th>x43</th><th>x44</th><th>x45</th><th>x46</th><th>x47</th><th>x48</th><th>x49</th><th>x50</th><th>x51</th><th>x52</th><th>x53</th><th>x54</th><th>x55</th><th>x56</th><th>x57</th><th>x58</th><th>x59</th><th>x60</th><th>x61</th><th>x62</th><th>x63</th><th>x64</th><th>x65</th><th>x66</th><th>x67</th><th>x68</th><th>x69</th><th>x70</th><th>x71</th><th>x72</th><th>x73</th><th>x74</th><th>x75</th><th>x76</th><th>x77</th><th>x78</th><th>x79</th><th>x80</th><th>x81</th><th>x82</th><th>x83</th><th>x84</th><th>x85</th><th>x86</th><th>x87</th><th>x88</th><th>x89</th><th>x90</th><th>x91</th><th>x92</th><th>x93</th><th>x94</th><th>x95</th><th>x96</th><th>x97</th><th>x98</th><th>x99</th><th>x100</th></tr><tr><th></th><th>Float64</th><th>Float64</th><th>Float64</th><th>Float64</th><th>Float64</th><th>Float64</th><th>Float64</th><th>Float64</th><th>Float64</th><th>Float64</th><th>Float64</th><th>Float64</th><th>Float64</th><th>Float64</th><th>Float64</th><th>Float64</th><th>Float64</th><th>Float64</th><th>Float64</th><th>Float64</th><th>Float64</th><th>Float64</th><th>Float64</th><th>Float64</th><th>Float64</th><th>Float64</th><th>Float64</th><th>Float64</th><th>Float64</th><th>Float64</th><th>Float64</th><th>Float64</th><th>Float64</th><th>Float64</th><th>Float64</th><th>Float64</th><th>Float64</th><th>Float64</th><th>Float64</th><th>Float64</th><th>Float64</th><th>Float64</th><th>Float64</th><th>Float64</th><th>Float64</th><th>Float64</th><th>Float64</th><th>Float64</th><th>Float64</th><th>Float64</th><th>Float64</th><th>Float64</th><th>Float64</th><th>Float64</th><th>Float64</th><th>Float64</th><th>Float64</th><th>Float64</th><th>Float64</th><th>Float64</th><th>Float64</th><th>Float64</th><th>Float64</th><th>Float64</th><th>Float64</th><th>Float64</th><th>Float64</th><th>Float64</th><th>Float64</th><th>Float64</th><th>Float64</th><th>Float64</th><th>Float64</th><th>Float64</th><th>Float64</th><th>Float64</th><th>Float64</th><th>Float64</th><th>Float64</th><th>Float64</th><th>Float64</th><th>Float64</th><th>Float64</th><th>Float64</th><th>Float64</th><th>Float64</th><th>Float64</th><th>Float64</th><th>Float64</th><th>Float64</th><th>Float64</th><th>Float64</th><th>Float64</th><th>Float64</th><th>Float64</th><th>Float64</th><th>Float64</th><th>Float64</th><th>Float64</th><th>Float64</th></tr></thead><tbody><p>1 rows × 1,000 columns (omitted printing of 900 columns)</p><tr><th>1</th><td>0.691238</td><td>0.502941</td><td>0.113297</td><td>0.328738</td><td>0.13378</td><td>0.441278</td><td>0.685002</td><td>0.0538219</td><td>0.0761798</td><td>0.769235</td><td>0.284291</td><td>0.171352</td><td>0.754563</td><td>0.648736</td><td>0.0953225</td><td>0.775889</td><td>0.841043</td><td>0.311933</td><td>0.56814</td><td>0.577725</td><td>0.192599</td><td>0.00604097</td><td>0.581288</td><td>0.746245</td><td>0.385509</td><td>0.355455</td><td>0.929221</td><td>0.729291</td><td>0.778783</td><td>0.598102</td><td>0.498373</td><td>0.0278266</td><td>0.0462616</td><td>0.0804585</td><td>0.486005</td><td>0.829665</td><td>0.605489</td><td>0.922619</td><td>0.615983</td><td>0.975146</td><td>0.218467</td><td>0.214458</td><td>0.201525</td><td>0.388645</td><td>0.558404</td><td>0.163782</td><td>0.437683</td><td>0.897702</td><td>0.0696074</td><td>0.656873</td><td>0.096646</td><td>0.604482</td><td>0.826148</td><td>0.90222</td><td>0.213158</td><td>0.145633</td><td>0.715524</td><td>0.821202</td><td>0.851274</td><td>0.809465</td><td>0.938894</td><td>0.833493</td><td>0.0128205</td><td>0.911447</td><td>0.572925</td><td>0.492402</td><td>0.70685</td><td>0.391735</td><td>0.379956</td><td>0.894197</td><td>0.319608</td><td>0.282724</td><td>0.662529</td><td>0.751371</td><td>0.0515758</td><td>0.0554555</td><td>0.407253</td><td>0.714758</td><td>0.930454</td><td>0.34133</td><td>0.409226</td><td>0.0593862</td><td>0.943453</td><td>0.396289</td><td>0.611359</td><td>0.630375</td><td>0.0122984</td><td>0.948587</td><td>0.395367</td><td>0.912241</td><td>0.192444</td><td>0.69041</td><td>0.498202</td><td>0.157421</td><td>0.0875531</td><td>0.907202</td><td>0.671311</td><td>0.84797</td><td>0.990317</td><td>0.722969</td></tr></tbody></table>"
      ],
      "text/latex": [
       "\\begin{tabular}{r|ccccccccccccccccccccccccccccccccccccccccccccccccccccccccccccccccccccccccccccccccccccccccccccccccccccc}\n",
       "\t& x1 & x2 & x3 & x4 & x5 & x6 & x7 & x8 & x9 & x10 & x11 & x12 & x13 & x14 & x15 & x16 & x17 & x18 & x19 & x20 & x21 & x22 & x23 & x24 & x25 & x26 & x27 & x28 & x29 & x30 & x31 & x32 & x33 & x34 & x35 & x36 & x37 & x38 & x39 & x40 & x41 & x42 & x43 & x44 & x45 & x46 & x47 & x48 & x49 & x50 & x51 & x52 & x53 & x54 & x55 & x56 & x57 & x58 & x59 & x60 & x61 & x62 & x63 & x64 & x65 & x66 & x67 & x68 & x69 & x70 & x71 & x72 & x73 & x74 & x75 & x76 & x77 & x78 & x79 & x80 & x81 & x82 & x83 & x84 & x85 & x86 & x87 & x88 & x89 & x90 & x91 & x92 & x93 & x94 & x95 & x96 & x97 & x98 & x99 & x100 & \\\\\n",
       "\t\\hline\n",
       "\t& Float64 & Float64 & Float64 & Float64 & Float64 & Float64 & Float64 & Float64 & Float64 & Float64 & Float64 & Float64 & Float64 & Float64 & Float64 & Float64 & Float64 & Float64 & Float64 & Float64 & Float64 & Float64 & Float64 & Float64 & Float64 & Float64 & Float64 & Float64 & Float64 & Float64 & Float64 & Float64 & Float64 & Float64 & Float64 & Float64 & Float64 & Float64 & Float64 & Float64 & Float64 & Float64 & Float64 & Float64 & Float64 & Float64 & Float64 & Float64 & Float64 & Float64 & Float64 & Float64 & Float64 & Float64 & Float64 & Float64 & Float64 & Float64 & Float64 & Float64 & Float64 & Float64 & Float64 & Float64 & Float64 & Float64 & Float64 & Float64 & Float64 & Float64 & Float64 & Float64 & Float64 & Float64 & Float64 & Float64 & Float64 & Float64 & Float64 & Float64 & Float64 & Float64 & Float64 & Float64 & Float64 & Float64 & Float64 & Float64 & Float64 & Float64 & Float64 & Float64 & Float64 & Float64 & Float64 & Float64 & Float64 & Float64 & Float64 & Float64 & \\\\\n",
       "\t\\hline\n",
       "\t1 & 0.691238 & 0.502941 & 0.113297 & 0.328738 & 0.13378 & 0.441278 & 0.685002 & 0.0538219 & 0.0761798 & 0.769235 & 0.284291 & 0.171352 & 0.754563 & 0.648736 & 0.0953225 & 0.775889 & 0.841043 & 0.311933 & 0.56814 & 0.577725 & 0.192599 & 0.00604097 & 0.581288 & 0.746245 & 0.385509 & 0.355455 & 0.929221 & 0.729291 & 0.778783 & 0.598102 & 0.498373 & 0.0278266 & 0.0462616 & 0.0804585 & 0.486005 & 0.829665 & 0.605489 & 0.922619 & 0.615983 & 0.975146 & 0.218467 & 0.214458 & 0.201525 & 0.388645 & 0.558404 & 0.163782 & 0.437683 & 0.897702 & 0.0696074 & 0.656873 & 0.096646 & 0.604482 & 0.826148 & 0.90222 & 0.213158 & 0.145633 & 0.715524 & 0.821202 & 0.851274 & 0.809465 & 0.938894 & 0.833493 & 0.0128205 & 0.911447 & 0.572925 & 0.492402 & 0.70685 & 0.391735 & 0.379956 & 0.894197 & 0.319608 & 0.282724 & 0.662529 & 0.751371 & 0.0515758 & 0.0554555 & 0.407253 & 0.714758 & 0.930454 & 0.34133 & 0.409226 & 0.0593862 & 0.943453 & 0.396289 & 0.611359 & 0.630375 & 0.0122984 & 0.948587 & 0.395367 & 0.912241 & 0.192444 & 0.69041 & 0.498202 & 0.157421 & 0.0875531 & 0.907202 & 0.671311 & 0.84797 & 0.990317 & 0.722969 & $\\dots$ \\\\\n",
       "\\end{tabular}\n"
      ],
      "text/plain": [
       "1×1000 DataFrame. Omitted printing of 911 columns\n",
       "│ Row │ x1       │ x2       │ x3       │ x4       │ x5      │ x6       │ x7       │ x8        │ x9        │ x10      │ x11      │ x12      │ x13      │ x14      │ x15       │ x16      │ x17      │ x18      │ x19     │ x20      │ x21      │ x22        │ x23      │ x24      │ x25      │ x26      │ x27      │ x28      │ x29      │ x30      │ x31      │ x32       │ x33       │ x34       │ x35      │ x36      │ x37      │ x38      │ x39      │ x40      │ x41      │ x42      │ x43      │ x44      │ x45      │ x46      │ x47      │ x48      │ x49       │ x50      │ x51      │ x52      │ x53      │ x54     │ x55      │ x56      │ x57      │ x58      │ x59      │ x60      │ x61      │ x62      │ x63       │ x64      │ x65      │ x66      │ x67     │ x68      │ x69      │ x70      │ x71      │ x72      │ x73      │ x74      │ x75       │ x76       │ x77      │ x78      │ x79      │ x80     │ x81      │ x82       │ x83      │ x84      │ x85      │ x86      │ x87       │ x88      │ x89      │\n",
       "│     │ \u001b[90mFloat64\u001b[39m  │ \u001b[90mFloat64\u001b[39m  │ \u001b[90mFloat64\u001b[39m  │ \u001b[90mFloat64\u001b[39m  │ \u001b[90mFloat64\u001b[39m │ \u001b[90mFloat64\u001b[39m  │ \u001b[90mFloat64\u001b[39m  │ \u001b[90mFloat64\u001b[39m   │ \u001b[90mFloat64\u001b[39m   │ \u001b[90mFloat64\u001b[39m  │ \u001b[90mFloat64\u001b[39m  │ \u001b[90mFloat64\u001b[39m  │ \u001b[90mFloat64\u001b[39m  │ \u001b[90mFloat64\u001b[39m  │ \u001b[90mFloat64\u001b[39m   │ \u001b[90mFloat64\u001b[39m  │ \u001b[90mFloat64\u001b[39m  │ \u001b[90mFloat64\u001b[39m  │ \u001b[90mFloat64\u001b[39m │ \u001b[90mFloat64\u001b[39m  │ \u001b[90mFloat64\u001b[39m  │ \u001b[90mFloat64\u001b[39m    │ \u001b[90mFloat64\u001b[39m  │ \u001b[90mFloat64\u001b[39m  │ \u001b[90mFloat64\u001b[39m  │ \u001b[90mFloat64\u001b[39m  │ \u001b[90mFloat64\u001b[39m  │ \u001b[90mFloat64\u001b[39m  │ \u001b[90mFloat64\u001b[39m  │ \u001b[90mFloat64\u001b[39m  │ \u001b[90mFloat64\u001b[39m  │ \u001b[90mFloat64\u001b[39m   │ \u001b[90mFloat64\u001b[39m   │ \u001b[90mFloat64\u001b[39m   │ \u001b[90mFloat64\u001b[39m  │ \u001b[90mFloat64\u001b[39m  │ \u001b[90mFloat64\u001b[39m  │ \u001b[90mFloat64\u001b[39m  │ \u001b[90mFloat64\u001b[39m  │ \u001b[90mFloat64\u001b[39m  │ \u001b[90mFloat64\u001b[39m  │ \u001b[90mFloat64\u001b[39m  │ \u001b[90mFloat64\u001b[39m  │ \u001b[90mFloat64\u001b[39m  │ \u001b[90mFloat64\u001b[39m  │ \u001b[90mFloat64\u001b[39m  │ \u001b[90mFloat64\u001b[39m  │ \u001b[90mFloat64\u001b[39m  │ \u001b[90mFloat64\u001b[39m   │ \u001b[90mFloat64\u001b[39m  │ \u001b[90mFloat64\u001b[39m  │ \u001b[90mFloat64\u001b[39m  │ \u001b[90mFloat64\u001b[39m  │ \u001b[90mFloat64\u001b[39m │ \u001b[90mFloat64\u001b[39m  │ \u001b[90mFloat64\u001b[39m  │ \u001b[90mFloat64\u001b[39m  │ \u001b[90mFloat64\u001b[39m  │ \u001b[90mFloat64\u001b[39m  │ \u001b[90mFloat64\u001b[39m  │ \u001b[90mFloat64\u001b[39m  │ \u001b[90mFloat64\u001b[39m  │ \u001b[90mFloat64\u001b[39m   │ \u001b[90mFloat64\u001b[39m  │ \u001b[90mFloat64\u001b[39m  │ \u001b[90mFloat64\u001b[39m  │ \u001b[90mFloat64\u001b[39m │ \u001b[90mFloat64\u001b[39m  │ \u001b[90mFloat64\u001b[39m  │ \u001b[90mFloat64\u001b[39m  │ \u001b[90mFloat64\u001b[39m  │ \u001b[90mFloat64\u001b[39m  │ \u001b[90mFloat64\u001b[39m  │ \u001b[90mFloat64\u001b[39m  │ \u001b[90mFloat64\u001b[39m   │ \u001b[90mFloat64\u001b[39m   │ \u001b[90mFloat64\u001b[39m  │ \u001b[90mFloat64\u001b[39m  │ \u001b[90mFloat64\u001b[39m  │ \u001b[90mFloat64\u001b[39m │ \u001b[90mFloat64\u001b[39m  │ \u001b[90mFloat64\u001b[39m   │ \u001b[90mFloat64\u001b[39m  │ \u001b[90mFloat64\u001b[39m  │ \u001b[90mFloat64\u001b[39m  │ \u001b[90mFloat64\u001b[39m  │ \u001b[90mFloat64\u001b[39m   │ \u001b[90mFloat64\u001b[39m  │ \u001b[90mFloat64\u001b[39m  │\n",
       "├─────┼──────────┼──────────┼──────────┼──────────┼─────────┼──────────┼──────────┼───────────┼───────────┼──────────┼──────────┼──────────┼──────────┼──────────┼───────────┼──────────┼──────────┼──────────┼─────────┼──────────┼──────────┼────────────┼──────────┼──────────┼──────────┼──────────┼──────────┼──────────┼──────────┼──────────┼──────────┼───────────┼───────────┼───────────┼──────────┼──────────┼──────────┼──────────┼──────────┼──────────┼──────────┼──────────┼──────────┼──────────┼──────────┼──────────┼──────────┼──────────┼───────────┼──────────┼──────────┼──────────┼──────────┼─────────┼──────────┼──────────┼──────────┼──────────┼──────────┼──────────┼──────────┼──────────┼───────────┼──────────┼──────────┼──────────┼─────────┼──────────┼──────────┼──────────┼──────────┼──────────┼──────────┼──────────┼───────────┼───────────┼──────────┼──────────┼──────────┼─────────┼──────────┼───────────┼──────────┼──────────┼──────────┼──────────┼───────────┼──────────┼──────────┤\n",
       "│ 1   │ 0.691238 │ 0.502941 │ 0.113297 │ 0.328738 │ 0.13378 │ 0.441278 │ 0.685002 │ 0.0538219 │ 0.0761798 │ 0.769235 │ 0.284291 │ 0.171352 │ 0.754563 │ 0.648736 │ 0.0953225 │ 0.775889 │ 0.841043 │ 0.311933 │ 0.56814 │ 0.577725 │ 0.192599 │ 0.00604097 │ 0.581288 │ 0.746245 │ 0.385509 │ 0.355455 │ 0.929221 │ 0.729291 │ 0.778783 │ 0.598102 │ 0.498373 │ 0.0278266 │ 0.0462616 │ 0.0804585 │ 0.486005 │ 0.829665 │ 0.605489 │ 0.922619 │ 0.615983 │ 0.975146 │ 0.218467 │ 0.214458 │ 0.201525 │ 0.388645 │ 0.558404 │ 0.163782 │ 0.437683 │ 0.897702 │ 0.0696074 │ 0.656873 │ 0.096646 │ 0.604482 │ 0.826148 │ 0.90222 │ 0.213158 │ 0.145633 │ 0.715524 │ 0.821202 │ 0.851274 │ 0.809465 │ 0.938894 │ 0.833493 │ 0.0128205 │ 0.911447 │ 0.572925 │ 0.492402 │ 0.70685 │ 0.391735 │ 0.379956 │ 0.894197 │ 0.319608 │ 0.282724 │ 0.662529 │ 0.751371 │ 0.0515758 │ 0.0554555 │ 0.407253 │ 0.714758 │ 0.930454 │ 0.34133 │ 0.409226 │ 0.0593862 │ 0.943453 │ 0.396289 │ 0.611359 │ 0.630375 │ 0.0122984 │ 0.948587 │ 0.395367 │"
      ]
     },
     "execution_count": 18,
     "metadata": {},
     "output_type": "execute_result"
    }
   ],
   "source": [
    "@btime $x[1:1, :]"
   ]
  },
  {
   "cell_type": "code",
   "execution_count": 19,
   "metadata": {},
   "outputs": [
    {
     "name": "stdout",
     "output_type": "stream",
     "text": [
      "  24.698 ns (1 allocation: 32 bytes)\n"
     ]
    },
    {
     "data": {
      "text/html": [
       "<p>DataFrameRow</p><table class=\"data-frame\"><thead><tr><th></th><th>x1</th><th>x2</th><th>x3</th><th>x4</th><th>x5</th><th>x6</th><th>x7</th><th>x8</th><th>x9</th><th>x10</th><th>x11</th><th>x12</th><th>x13</th><th>x14</th><th>x15</th><th>x16</th><th>x17</th><th>x18</th><th>x19</th><th>x20</th><th>x21</th><th>x22</th><th>x23</th><th>x24</th><th>x25</th><th>x26</th><th>x27</th><th>x28</th><th>x29</th><th>x30</th><th>x31</th><th>x32</th><th>x33</th><th>x34</th><th>x35</th><th>x36</th><th>x37</th><th>x38</th><th>x39</th><th>x40</th><th>x41</th><th>x42</th><th>x43</th><th>x44</th><th>x45</th><th>x46</th><th>x47</th><th>x48</th><th>x49</th><th>x50</th><th>x51</th><th>x52</th><th>x53</th><th>x54</th><th>x55</th><th>x56</th><th>x57</th><th>x58</th><th>x59</th><th>x60</th><th>x61</th><th>x62</th><th>x63</th><th>x64</th><th>x65</th><th>x66</th><th>x67</th><th>x68</th><th>x69</th><th>x70</th><th>x71</th><th>x72</th><th>x73</th><th>x74</th><th>x75</th><th>x76</th><th>x77</th><th>x78</th><th>x79</th><th>x80</th><th>x81</th><th>x82</th><th>x83</th><th>x84</th><th>x85</th><th>x86</th><th>x87</th><th>x88</th><th>x89</th><th>x90</th><th>x91</th><th>x92</th><th>x93</th><th>x94</th><th>x95</th><th>x96</th><th>x97</th><th>x98</th><th>x99</th><th>x100</th></tr><tr><th></th><th>Float64</th><th>Float64</th><th>Float64</th><th>Float64</th><th>Float64</th><th>Float64</th><th>Float64</th><th>Float64</th><th>Float64</th><th>Float64</th><th>Float64</th><th>Float64</th><th>Float64</th><th>Float64</th><th>Float64</th><th>Float64</th><th>Float64</th><th>Float64</th><th>Float64</th><th>Float64</th><th>Float64</th><th>Float64</th><th>Float64</th><th>Float64</th><th>Float64</th><th>Float64</th><th>Float64</th><th>Float64</th><th>Float64</th><th>Float64</th><th>Float64</th><th>Float64</th><th>Float64</th><th>Float64</th><th>Float64</th><th>Float64</th><th>Float64</th><th>Float64</th><th>Float64</th><th>Float64</th><th>Float64</th><th>Float64</th><th>Float64</th><th>Float64</th><th>Float64</th><th>Float64</th><th>Float64</th><th>Float64</th><th>Float64</th><th>Float64</th><th>Float64</th><th>Float64</th><th>Float64</th><th>Float64</th><th>Float64</th><th>Float64</th><th>Float64</th><th>Float64</th><th>Float64</th><th>Float64</th><th>Float64</th><th>Float64</th><th>Float64</th><th>Float64</th><th>Float64</th><th>Float64</th><th>Float64</th><th>Float64</th><th>Float64</th><th>Float64</th><th>Float64</th><th>Float64</th><th>Float64</th><th>Float64</th><th>Float64</th><th>Float64</th><th>Float64</th><th>Float64</th><th>Float64</th><th>Float64</th><th>Float64</th><th>Float64</th><th>Float64</th><th>Float64</th><th>Float64</th><th>Float64</th><th>Float64</th><th>Float64</th><th>Float64</th><th>Float64</th><th>Float64</th><th>Float64</th><th>Float64</th><th>Float64</th><th>Float64</th><th>Float64</th><th>Float64</th><th>Float64</th><th>Float64</th><th>Float64</th></tr></thead><tbody><p>1 rows × 1,000 columns (omitted printing of 900 columns)</p><tr><th>1</th><td>0.691238</td><td>0.502941</td><td>0.113297</td><td>0.328738</td><td>0.13378</td><td>0.441278</td><td>0.685002</td><td>0.0538219</td><td>0.0761798</td><td>0.769235</td><td>0.284291</td><td>0.171352</td><td>0.754563</td><td>0.648736</td><td>0.0953225</td><td>0.775889</td><td>0.841043</td><td>0.311933</td><td>0.56814</td><td>0.577725</td><td>0.192599</td><td>0.00604097</td><td>0.581288</td><td>0.746245</td><td>0.385509</td><td>0.355455</td><td>0.929221</td><td>0.729291</td><td>0.778783</td><td>0.598102</td><td>0.498373</td><td>0.0278266</td><td>0.0462616</td><td>0.0804585</td><td>0.486005</td><td>0.829665</td><td>0.605489</td><td>0.922619</td><td>0.615983</td><td>0.975146</td><td>0.218467</td><td>0.214458</td><td>0.201525</td><td>0.388645</td><td>0.558404</td><td>0.163782</td><td>0.437683</td><td>0.897702</td><td>0.0696074</td><td>0.656873</td><td>0.096646</td><td>0.604482</td><td>0.826148</td><td>0.90222</td><td>0.213158</td><td>0.145633</td><td>0.715524</td><td>0.821202</td><td>0.851274</td><td>0.809465</td><td>0.938894</td><td>0.833493</td><td>0.0128205</td><td>0.911447</td><td>0.572925</td><td>0.492402</td><td>0.70685</td><td>0.391735</td><td>0.379956</td><td>0.894197</td><td>0.319608</td><td>0.282724</td><td>0.662529</td><td>0.751371</td><td>0.0515758</td><td>0.0554555</td><td>0.407253</td><td>0.714758</td><td>0.930454</td><td>0.34133</td><td>0.409226</td><td>0.0593862</td><td>0.943453</td><td>0.396289</td><td>0.611359</td><td>0.630375</td><td>0.0122984</td><td>0.948587</td><td>0.395367</td><td>0.912241</td><td>0.192444</td><td>0.69041</td><td>0.498202</td><td>0.157421</td><td>0.0875531</td><td>0.907202</td><td>0.671311</td><td>0.84797</td><td>0.990317</td><td>0.722969</td></tr></tbody></table>"
      ],
      "text/latex": [
       "\\begin{tabular}{r|ccccccccccccccccccccccccccccccccccccccccccccccccccccccccccccccccccccccccccccccccccccccccccccccccccccc}\n",
       "\t& x1 & x2 & x3 & x4 & x5 & x6 & x7 & x8 & x9 & x10 & x11 & x12 & x13 & x14 & x15 & x16 & x17 & x18 & x19 & x20 & x21 & x22 & x23 & x24 & x25 & x26 & x27 & x28 & x29 & x30 & x31 & x32 & x33 & x34 & x35 & x36 & x37 & x38 & x39 & x40 & x41 & x42 & x43 & x44 & x45 & x46 & x47 & x48 & x49 & x50 & x51 & x52 & x53 & x54 & x55 & x56 & x57 & x58 & x59 & x60 & x61 & x62 & x63 & x64 & x65 & x66 & x67 & x68 & x69 & x70 & x71 & x72 & x73 & x74 & x75 & x76 & x77 & x78 & x79 & x80 & x81 & x82 & x83 & x84 & x85 & x86 & x87 & x88 & x89 & x90 & x91 & x92 & x93 & x94 & x95 & x96 & x97 & x98 & x99 & x100 & \\\\\n",
       "\t\\hline\n",
       "\t& Float64 & Float64 & Float64 & Float64 & Float64 & Float64 & Float64 & Float64 & Float64 & Float64 & Float64 & Float64 & Float64 & Float64 & Float64 & Float64 & Float64 & Float64 & Float64 & Float64 & Float64 & Float64 & Float64 & Float64 & Float64 & Float64 & Float64 & Float64 & Float64 & Float64 & Float64 & Float64 & Float64 & Float64 & Float64 & Float64 & Float64 & Float64 & Float64 & Float64 & Float64 & Float64 & Float64 & Float64 & Float64 & Float64 & Float64 & Float64 & Float64 & Float64 & Float64 & Float64 & Float64 & Float64 & Float64 & Float64 & Float64 & Float64 & Float64 & Float64 & Float64 & Float64 & Float64 & Float64 & Float64 & Float64 & Float64 & Float64 & Float64 & Float64 & Float64 & Float64 & Float64 & Float64 & Float64 & Float64 & Float64 & Float64 & Float64 & Float64 & Float64 & Float64 & Float64 & Float64 & Float64 & Float64 & Float64 & Float64 & Float64 & Float64 & Float64 & Float64 & Float64 & Float64 & Float64 & Float64 & Float64 & Float64 & Float64 & Float64 & \\\\\n",
       "\t\\hline\n",
       "\t1 & 0.691238 & 0.502941 & 0.113297 & 0.328738 & 0.13378 & 0.441278 & 0.685002 & 0.0538219 & 0.0761798 & 0.769235 & 0.284291 & 0.171352 & 0.754563 & 0.648736 & 0.0953225 & 0.775889 & 0.841043 & 0.311933 & 0.56814 & 0.577725 & 0.192599 & 0.00604097 & 0.581288 & 0.746245 & 0.385509 & 0.355455 & 0.929221 & 0.729291 & 0.778783 & 0.598102 & 0.498373 & 0.0278266 & 0.0462616 & 0.0804585 & 0.486005 & 0.829665 & 0.605489 & 0.922619 & 0.615983 & 0.975146 & 0.218467 & 0.214458 & 0.201525 & 0.388645 & 0.558404 & 0.163782 & 0.437683 & 0.897702 & 0.0696074 & 0.656873 & 0.096646 & 0.604482 & 0.826148 & 0.90222 & 0.213158 & 0.145633 & 0.715524 & 0.821202 & 0.851274 & 0.809465 & 0.938894 & 0.833493 & 0.0128205 & 0.911447 & 0.572925 & 0.492402 & 0.70685 & 0.391735 & 0.379956 & 0.894197 & 0.319608 & 0.282724 & 0.662529 & 0.751371 & 0.0515758 & 0.0554555 & 0.407253 & 0.714758 & 0.930454 & 0.34133 & 0.409226 & 0.0593862 & 0.943453 & 0.396289 & 0.611359 & 0.630375 & 0.0122984 & 0.948587 & 0.395367 & 0.912241 & 0.192444 & 0.69041 & 0.498202 & 0.157421 & 0.0875531 & 0.907202 & 0.671311 & 0.84797 & 0.990317 & 0.722969 & $\\dots$ \\\\\n",
       "\\end{tabular}\n"
      ],
      "text/plain": [
       "DataFrameRow. Omitted printing of 911 columns\n",
       "│ Row │ x1       │ x2       │ x3       │ x4       │ x5      │ x6       │ x7       │ x8        │ x9        │ x10      │ x11      │ x12      │ x13      │ x14      │ x15       │ x16      │ x17      │ x18      │ x19     │ x20      │ x21      │ x22        │ x23      │ x24      │ x25      │ x26      │ x27      │ x28      │ x29      │ x30      │ x31      │ x32       │ x33       │ x34       │ x35      │ x36      │ x37      │ x38      │ x39      │ x40      │ x41      │ x42      │ x43      │ x44      │ x45      │ x46      │ x47      │ x48      │ x49       │ x50      │ x51      │ x52      │ x53      │ x54     │ x55      │ x56      │ x57      │ x58      │ x59      │ x60      │ x61      │ x62      │ x63       │ x64      │ x65      │ x66      │ x67     │ x68      │ x69      │ x70      │ x71      │ x72      │ x73      │ x74      │ x75       │ x76       │ x77      │ x78      │ x79      │ x80     │ x81      │ x82       │ x83      │ x84      │ x85      │ x86      │ x87       │ x88      │ x89      │\n",
       "│     │ \u001b[90mFloat64\u001b[39m  │ \u001b[90mFloat64\u001b[39m  │ \u001b[90mFloat64\u001b[39m  │ \u001b[90mFloat64\u001b[39m  │ \u001b[90mFloat64\u001b[39m │ \u001b[90mFloat64\u001b[39m  │ \u001b[90mFloat64\u001b[39m  │ \u001b[90mFloat64\u001b[39m   │ \u001b[90mFloat64\u001b[39m   │ \u001b[90mFloat64\u001b[39m  │ \u001b[90mFloat64\u001b[39m  │ \u001b[90mFloat64\u001b[39m  │ \u001b[90mFloat64\u001b[39m  │ \u001b[90mFloat64\u001b[39m  │ \u001b[90mFloat64\u001b[39m   │ \u001b[90mFloat64\u001b[39m  │ \u001b[90mFloat64\u001b[39m  │ \u001b[90mFloat64\u001b[39m  │ \u001b[90mFloat64\u001b[39m │ \u001b[90mFloat64\u001b[39m  │ \u001b[90mFloat64\u001b[39m  │ \u001b[90mFloat64\u001b[39m    │ \u001b[90mFloat64\u001b[39m  │ \u001b[90mFloat64\u001b[39m  │ \u001b[90mFloat64\u001b[39m  │ \u001b[90mFloat64\u001b[39m  │ \u001b[90mFloat64\u001b[39m  │ \u001b[90mFloat64\u001b[39m  │ \u001b[90mFloat64\u001b[39m  │ \u001b[90mFloat64\u001b[39m  │ \u001b[90mFloat64\u001b[39m  │ \u001b[90mFloat64\u001b[39m   │ \u001b[90mFloat64\u001b[39m   │ \u001b[90mFloat64\u001b[39m   │ \u001b[90mFloat64\u001b[39m  │ \u001b[90mFloat64\u001b[39m  │ \u001b[90mFloat64\u001b[39m  │ \u001b[90mFloat64\u001b[39m  │ \u001b[90mFloat64\u001b[39m  │ \u001b[90mFloat64\u001b[39m  │ \u001b[90mFloat64\u001b[39m  │ \u001b[90mFloat64\u001b[39m  │ \u001b[90mFloat64\u001b[39m  │ \u001b[90mFloat64\u001b[39m  │ \u001b[90mFloat64\u001b[39m  │ \u001b[90mFloat64\u001b[39m  │ \u001b[90mFloat64\u001b[39m  │ \u001b[90mFloat64\u001b[39m  │ \u001b[90mFloat64\u001b[39m   │ \u001b[90mFloat64\u001b[39m  │ \u001b[90mFloat64\u001b[39m  │ \u001b[90mFloat64\u001b[39m  │ \u001b[90mFloat64\u001b[39m  │ \u001b[90mFloat64\u001b[39m │ \u001b[90mFloat64\u001b[39m  │ \u001b[90mFloat64\u001b[39m  │ \u001b[90mFloat64\u001b[39m  │ \u001b[90mFloat64\u001b[39m  │ \u001b[90mFloat64\u001b[39m  │ \u001b[90mFloat64\u001b[39m  │ \u001b[90mFloat64\u001b[39m  │ \u001b[90mFloat64\u001b[39m  │ \u001b[90mFloat64\u001b[39m   │ \u001b[90mFloat64\u001b[39m  │ \u001b[90mFloat64\u001b[39m  │ \u001b[90mFloat64\u001b[39m  │ \u001b[90mFloat64\u001b[39m │ \u001b[90mFloat64\u001b[39m  │ \u001b[90mFloat64\u001b[39m  │ \u001b[90mFloat64\u001b[39m  │ \u001b[90mFloat64\u001b[39m  │ \u001b[90mFloat64\u001b[39m  │ \u001b[90mFloat64\u001b[39m  │ \u001b[90mFloat64\u001b[39m  │ \u001b[90mFloat64\u001b[39m   │ \u001b[90mFloat64\u001b[39m   │ \u001b[90mFloat64\u001b[39m  │ \u001b[90mFloat64\u001b[39m  │ \u001b[90mFloat64\u001b[39m  │ \u001b[90mFloat64\u001b[39m │ \u001b[90mFloat64\u001b[39m  │ \u001b[90mFloat64\u001b[39m   │ \u001b[90mFloat64\u001b[39m  │ \u001b[90mFloat64\u001b[39m  │ \u001b[90mFloat64\u001b[39m  │ \u001b[90mFloat64\u001b[39m  │ \u001b[90mFloat64\u001b[39m   │ \u001b[90mFloat64\u001b[39m  │ \u001b[90mFloat64\u001b[39m  │\n",
       "├─────┼──────────┼──────────┼──────────┼──────────┼─────────┼──────────┼──────────┼───────────┼───────────┼──────────┼──────────┼──────────┼──────────┼──────────┼───────────┼──────────┼──────────┼──────────┼─────────┼──────────┼──────────┼────────────┼──────────┼──────────┼──────────┼──────────┼──────────┼──────────┼──────────┼──────────┼──────────┼───────────┼───────────┼───────────┼──────────┼──────────┼──────────┼──────────┼──────────┼──────────┼──────────┼──────────┼──────────┼──────────┼──────────┼──────────┼──────────┼──────────┼───────────┼──────────┼──────────┼──────────┼──────────┼─────────┼──────────┼──────────┼──────────┼──────────┼──────────┼──────────┼──────────┼──────────┼───────────┼──────────┼──────────┼──────────┼─────────┼──────────┼──────────┼──────────┼──────────┼──────────┼──────────┼──────────┼───────────┼───────────┼──────────┼──────────┼──────────┼─────────┼──────────┼───────────┼──────────┼──────────┼──────────┼──────────┼───────────┼──────────┼──────────┤\n",
       "│ 1   │ 0.691238 │ 0.502941 │ 0.113297 │ 0.328738 │ 0.13378 │ 0.441278 │ 0.685002 │ 0.0538219 │ 0.0761798 │ 0.769235 │ 0.284291 │ 0.171352 │ 0.754563 │ 0.648736 │ 0.0953225 │ 0.775889 │ 0.841043 │ 0.311933 │ 0.56814 │ 0.577725 │ 0.192599 │ 0.00604097 │ 0.581288 │ 0.746245 │ 0.385509 │ 0.355455 │ 0.929221 │ 0.729291 │ 0.778783 │ 0.598102 │ 0.498373 │ 0.0278266 │ 0.0462616 │ 0.0804585 │ 0.486005 │ 0.829665 │ 0.605489 │ 0.922619 │ 0.615983 │ 0.975146 │ 0.218467 │ 0.214458 │ 0.201525 │ 0.388645 │ 0.558404 │ 0.163782 │ 0.437683 │ 0.897702 │ 0.0696074 │ 0.656873 │ 0.096646 │ 0.604482 │ 0.826148 │ 0.90222 │ 0.213158 │ 0.145633 │ 0.715524 │ 0.821202 │ 0.851274 │ 0.809465 │ 0.938894 │ 0.833493 │ 0.0128205 │ 0.911447 │ 0.572925 │ 0.492402 │ 0.70685 │ 0.391735 │ 0.379956 │ 0.894197 │ 0.319608 │ 0.282724 │ 0.662529 │ 0.751371 │ 0.0515758 │ 0.0554555 │ 0.407253 │ 0.714758 │ 0.930454 │ 0.34133 │ 0.409226 │ 0.0593862 │ 0.943453 │ 0.396289 │ 0.611359 │ 0.630375 │ 0.0122984 │ 0.948587 │ 0.395367 │"
      ]
     },
     "execution_count": 19,
     "metadata": {},
     "output_type": "execute_result"
    }
   ],
   "source": [
    "@btime $x[1, :]"
   ]
  },
  {
   "cell_type": "code",
   "execution_count": 20,
   "metadata": {},
   "outputs": [
    {
     "name": "stdout",
     "output_type": "stream",
     "text": [
      "  25.026 ns (1 allocation: 48 bytes)\n"
     ]
    },
    {
     "data": {
      "text/html": [
       "<table class=\"data-frame\"><thead><tr><th></th><th>x1</th><th>x2</th><th>x3</th><th>x4</th><th>x5</th><th>x6</th><th>x7</th><th>x8</th><th>x9</th><th>x10</th><th>x11</th><th>x12</th><th>x13</th><th>x14</th><th>x15</th><th>x16</th><th>x17</th><th>x18</th><th>x19</th><th>x20</th><th>x21</th><th>x22</th><th>x23</th><th>x24</th><th>x25</th><th>x26</th><th>x27</th><th>x28</th><th>x29</th><th>x30</th><th>x31</th><th>x32</th><th>x33</th><th>x34</th><th>x35</th><th>x36</th><th>x37</th><th>x38</th><th>x39</th><th>x40</th><th>x41</th><th>x42</th><th>x43</th><th>x44</th><th>x45</th><th>x46</th><th>x47</th><th>x48</th><th>x49</th><th>x50</th><th>x51</th><th>x52</th><th>x53</th><th>x54</th><th>x55</th><th>x56</th><th>x57</th><th>x58</th><th>x59</th><th>x60</th><th>x61</th><th>x62</th><th>x63</th><th>x64</th><th>x65</th><th>x66</th><th>x67</th><th>x68</th><th>x69</th><th>x70</th><th>x71</th><th>x72</th><th>x73</th><th>x74</th><th>x75</th><th>x76</th><th>x77</th><th>x78</th><th>x79</th><th>x80</th><th>x81</th><th>x82</th><th>x83</th><th>x84</th><th>x85</th><th>x86</th><th>x87</th><th>x88</th><th>x89</th><th>x90</th><th>x91</th><th>x92</th><th>x93</th><th>x94</th><th>x95</th><th>x96</th><th>x97</th><th>x98</th><th>x99</th><th>x100</th></tr><tr><th></th><th>Float64</th><th>Float64</th><th>Float64</th><th>Float64</th><th>Float64</th><th>Float64</th><th>Float64</th><th>Float64</th><th>Float64</th><th>Float64</th><th>Float64</th><th>Float64</th><th>Float64</th><th>Float64</th><th>Float64</th><th>Float64</th><th>Float64</th><th>Float64</th><th>Float64</th><th>Float64</th><th>Float64</th><th>Float64</th><th>Float64</th><th>Float64</th><th>Float64</th><th>Float64</th><th>Float64</th><th>Float64</th><th>Float64</th><th>Float64</th><th>Float64</th><th>Float64</th><th>Float64</th><th>Float64</th><th>Float64</th><th>Float64</th><th>Float64</th><th>Float64</th><th>Float64</th><th>Float64</th><th>Float64</th><th>Float64</th><th>Float64</th><th>Float64</th><th>Float64</th><th>Float64</th><th>Float64</th><th>Float64</th><th>Float64</th><th>Float64</th><th>Float64</th><th>Float64</th><th>Float64</th><th>Float64</th><th>Float64</th><th>Float64</th><th>Float64</th><th>Float64</th><th>Float64</th><th>Float64</th><th>Float64</th><th>Float64</th><th>Float64</th><th>Float64</th><th>Float64</th><th>Float64</th><th>Float64</th><th>Float64</th><th>Float64</th><th>Float64</th><th>Float64</th><th>Float64</th><th>Float64</th><th>Float64</th><th>Float64</th><th>Float64</th><th>Float64</th><th>Float64</th><th>Float64</th><th>Float64</th><th>Float64</th><th>Float64</th><th>Float64</th><th>Float64</th><th>Float64</th><th>Float64</th><th>Float64</th><th>Float64</th><th>Float64</th><th>Float64</th><th>Float64</th><th>Float64</th><th>Float64</th><th>Float64</th><th>Float64</th><th>Float64</th><th>Float64</th><th>Float64</th><th>Float64</th><th>Float64</th></tr></thead><tbody><p>1 rows × 1,000 columns (omitted printing of 900 columns)</p><tr><th>1</th><td>0.691238</td><td>0.502941</td><td>0.113297</td><td>0.328738</td><td>0.13378</td><td>0.441278</td><td>0.685002</td><td>0.0538219</td><td>0.0761798</td><td>0.769235</td><td>0.284291</td><td>0.171352</td><td>0.754563</td><td>0.648736</td><td>0.0953225</td><td>0.775889</td><td>0.841043</td><td>0.311933</td><td>0.56814</td><td>0.577725</td><td>0.192599</td><td>0.00604097</td><td>0.581288</td><td>0.746245</td><td>0.385509</td><td>0.355455</td><td>0.929221</td><td>0.729291</td><td>0.778783</td><td>0.598102</td><td>0.498373</td><td>0.0278266</td><td>0.0462616</td><td>0.0804585</td><td>0.486005</td><td>0.829665</td><td>0.605489</td><td>0.922619</td><td>0.615983</td><td>0.975146</td><td>0.218467</td><td>0.214458</td><td>0.201525</td><td>0.388645</td><td>0.558404</td><td>0.163782</td><td>0.437683</td><td>0.897702</td><td>0.0696074</td><td>0.656873</td><td>0.096646</td><td>0.604482</td><td>0.826148</td><td>0.90222</td><td>0.213158</td><td>0.145633</td><td>0.715524</td><td>0.821202</td><td>0.851274</td><td>0.809465</td><td>0.938894</td><td>0.833493</td><td>0.0128205</td><td>0.911447</td><td>0.572925</td><td>0.492402</td><td>0.70685</td><td>0.391735</td><td>0.379956</td><td>0.894197</td><td>0.319608</td><td>0.282724</td><td>0.662529</td><td>0.751371</td><td>0.0515758</td><td>0.0554555</td><td>0.407253</td><td>0.714758</td><td>0.930454</td><td>0.34133</td><td>0.409226</td><td>0.0593862</td><td>0.943453</td><td>0.396289</td><td>0.611359</td><td>0.630375</td><td>0.0122984</td><td>0.948587</td><td>0.395367</td><td>0.912241</td><td>0.192444</td><td>0.69041</td><td>0.498202</td><td>0.157421</td><td>0.0875531</td><td>0.907202</td><td>0.671311</td><td>0.84797</td><td>0.990317</td><td>0.722969</td></tr></tbody></table>"
      ],
      "text/latex": [
       "\\begin{tabular}{r|ccccccccccccccccccccccccccccccccccccccccccccccccccccccccccccccccccccccccccccccccccccccccccccccccccccc}\n",
       "\t& x1 & x2 & x3 & x4 & x5 & x6 & x7 & x8 & x9 & x10 & x11 & x12 & x13 & x14 & x15 & x16 & x17 & x18 & x19 & x20 & x21 & x22 & x23 & x24 & x25 & x26 & x27 & x28 & x29 & x30 & x31 & x32 & x33 & x34 & x35 & x36 & x37 & x38 & x39 & x40 & x41 & x42 & x43 & x44 & x45 & x46 & x47 & x48 & x49 & x50 & x51 & x52 & x53 & x54 & x55 & x56 & x57 & x58 & x59 & x60 & x61 & x62 & x63 & x64 & x65 & x66 & x67 & x68 & x69 & x70 & x71 & x72 & x73 & x74 & x75 & x76 & x77 & x78 & x79 & x80 & x81 & x82 & x83 & x84 & x85 & x86 & x87 & x88 & x89 & x90 & x91 & x92 & x93 & x94 & x95 & x96 & x97 & x98 & x99 & x100 & \\\\\n",
       "\t\\hline\n",
       "\t& Float64 & Float64 & Float64 & Float64 & Float64 & Float64 & Float64 & Float64 & Float64 & Float64 & Float64 & Float64 & Float64 & Float64 & Float64 & Float64 & Float64 & Float64 & Float64 & Float64 & Float64 & Float64 & Float64 & Float64 & Float64 & Float64 & Float64 & Float64 & Float64 & Float64 & Float64 & Float64 & Float64 & Float64 & Float64 & Float64 & Float64 & Float64 & Float64 & Float64 & Float64 & Float64 & Float64 & Float64 & Float64 & Float64 & Float64 & Float64 & Float64 & Float64 & Float64 & Float64 & Float64 & Float64 & Float64 & Float64 & Float64 & Float64 & Float64 & Float64 & Float64 & Float64 & Float64 & Float64 & Float64 & Float64 & Float64 & Float64 & Float64 & Float64 & Float64 & Float64 & Float64 & Float64 & Float64 & Float64 & Float64 & Float64 & Float64 & Float64 & Float64 & Float64 & Float64 & Float64 & Float64 & Float64 & Float64 & Float64 & Float64 & Float64 & Float64 & Float64 & Float64 & Float64 & Float64 & Float64 & Float64 & Float64 & Float64 & Float64 & \\\\\n",
       "\t\\hline\n",
       "\t1 & 0.691238 & 0.502941 & 0.113297 & 0.328738 & 0.13378 & 0.441278 & 0.685002 & 0.0538219 & 0.0761798 & 0.769235 & 0.284291 & 0.171352 & 0.754563 & 0.648736 & 0.0953225 & 0.775889 & 0.841043 & 0.311933 & 0.56814 & 0.577725 & 0.192599 & 0.00604097 & 0.581288 & 0.746245 & 0.385509 & 0.355455 & 0.929221 & 0.729291 & 0.778783 & 0.598102 & 0.498373 & 0.0278266 & 0.0462616 & 0.0804585 & 0.486005 & 0.829665 & 0.605489 & 0.922619 & 0.615983 & 0.975146 & 0.218467 & 0.214458 & 0.201525 & 0.388645 & 0.558404 & 0.163782 & 0.437683 & 0.897702 & 0.0696074 & 0.656873 & 0.096646 & 0.604482 & 0.826148 & 0.90222 & 0.213158 & 0.145633 & 0.715524 & 0.821202 & 0.851274 & 0.809465 & 0.938894 & 0.833493 & 0.0128205 & 0.911447 & 0.572925 & 0.492402 & 0.70685 & 0.391735 & 0.379956 & 0.894197 & 0.319608 & 0.282724 & 0.662529 & 0.751371 & 0.0515758 & 0.0554555 & 0.407253 & 0.714758 & 0.930454 & 0.34133 & 0.409226 & 0.0593862 & 0.943453 & 0.396289 & 0.611359 & 0.630375 & 0.0122984 & 0.948587 & 0.395367 & 0.912241 & 0.192444 & 0.69041 & 0.498202 & 0.157421 & 0.0875531 & 0.907202 & 0.671311 & 0.84797 & 0.990317 & 0.722969 & $\\dots$ \\\\\n",
       "\\end{tabular}\n"
      ],
      "text/plain": [
       "1×1000 SubDataFrame. Omitted printing of 911 columns\n",
       "│ Row │ x1       │ x2       │ x3       │ x4       │ x5      │ x6       │ x7       │ x8        │ x9        │ x10      │ x11      │ x12      │ x13      │ x14      │ x15       │ x16      │ x17      │ x18      │ x19     │ x20      │ x21      │ x22        │ x23      │ x24      │ x25      │ x26      │ x27      │ x28      │ x29      │ x30      │ x31      │ x32       │ x33       │ x34       │ x35      │ x36      │ x37      │ x38      │ x39      │ x40      │ x41      │ x42      │ x43      │ x44      │ x45      │ x46      │ x47      │ x48      │ x49       │ x50      │ x51      │ x52      │ x53      │ x54     │ x55      │ x56      │ x57      │ x58      │ x59      │ x60      │ x61      │ x62      │ x63       │ x64      │ x65      │ x66      │ x67     │ x68      │ x69      │ x70      │ x71      │ x72      │ x73      │ x74      │ x75       │ x76       │ x77      │ x78      │ x79      │ x80     │ x81      │ x82       │ x83      │ x84      │ x85      │ x86      │ x87       │ x88      │ x89      │\n",
       "│     │ \u001b[90mFloat64\u001b[39m  │ \u001b[90mFloat64\u001b[39m  │ \u001b[90mFloat64\u001b[39m  │ \u001b[90mFloat64\u001b[39m  │ \u001b[90mFloat64\u001b[39m │ \u001b[90mFloat64\u001b[39m  │ \u001b[90mFloat64\u001b[39m  │ \u001b[90mFloat64\u001b[39m   │ \u001b[90mFloat64\u001b[39m   │ \u001b[90mFloat64\u001b[39m  │ \u001b[90mFloat64\u001b[39m  │ \u001b[90mFloat64\u001b[39m  │ \u001b[90mFloat64\u001b[39m  │ \u001b[90mFloat64\u001b[39m  │ \u001b[90mFloat64\u001b[39m   │ \u001b[90mFloat64\u001b[39m  │ \u001b[90mFloat64\u001b[39m  │ \u001b[90mFloat64\u001b[39m  │ \u001b[90mFloat64\u001b[39m │ \u001b[90mFloat64\u001b[39m  │ \u001b[90mFloat64\u001b[39m  │ \u001b[90mFloat64\u001b[39m    │ \u001b[90mFloat64\u001b[39m  │ \u001b[90mFloat64\u001b[39m  │ \u001b[90mFloat64\u001b[39m  │ \u001b[90mFloat64\u001b[39m  │ \u001b[90mFloat64\u001b[39m  │ \u001b[90mFloat64\u001b[39m  │ \u001b[90mFloat64\u001b[39m  │ \u001b[90mFloat64\u001b[39m  │ \u001b[90mFloat64\u001b[39m  │ \u001b[90mFloat64\u001b[39m   │ \u001b[90mFloat64\u001b[39m   │ \u001b[90mFloat64\u001b[39m   │ \u001b[90mFloat64\u001b[39m  │ \u001b[90mFloat64\u001b[39m  │ \u001b[90mFloat64\u001b[39m  │ \u001b[90mFloat64\u001b[39m  │ \u001b[90mFloat64\u001b[39m  │ \u001b[90mFloat64\u001b[39m  │ \u001b[90mFloat64\u001b[39m  │ \u001b[90mFloat64\u001b[39m  │ \u001b[90mFloat64\u001b[39m  │ \u001b[90mFloat64\u001b[39m  │ \u001b[90mFloat64\u001b[39m  │ \u001b[90mFloat64\u001b[39m  │ \u001b[90mFloat64\u001b[39m  │ \u001b[90mFloat64\u001b[39m  │ \u001b[90mFloat64\u001b[39m   │ \u001b[90mFloat64\u001b[39m  │ \u001b[90mFloat64\u001b[39m  │ \u001b[90mFloat64\u001b[39m  │ \u001b[90mFloat64\u001b[39m  │ \u001b[90mFloat64\u001b[39m │ \u001b[90mFloat64\u001b[39m  │ \u001b[90mFloat64\u001b[39m  │ \u001b[90mFloat64\u001b[39m  │ \u001b[90mFloat64\u001b[39m  │ \u001b[90mFloat64\u001b[39m  │ \u001b[90mFloat64\u001b[39m  │ \u001b[90mFloat64\u001b[39m  │ \u001b[90mFloat64\u001b[39m  │ \u001b[90mFloat64\u001b[39m   │ \u001b[90mFloat64\u001b[39m  │ \u001b[90mFloat64\u001b[39m  │ \u001b[90mFloat64\u001b[39m  │ \u001b[90mFloat64\u001b[39m │ \u001b[90mFloat64\u001b[39m  │ \u001b[90mFloat64\u001b[39m  │ \u001b[90mFloat64\u001b[39m  │ \u001b[90mFloat64\u001b[39m  │ \u001b[90mFloat64\u001b[39m  │ \u001b[90mFloat64\u001b[39m  │ \u001b[90mFloat64\u001b[39m  │ \u001b[90mFloat64\u001b[39m   │ \u001b[90mFloat64\u001b[39m   │ \u001b[90mFloat64\u001b[39m  │ \u001b[90mFloat64\u001b[39m  │ \u001b[90mFloat64\u001b[39m  │ \u001b[90mFloat64\u001b[39m │ \u001b[90mFloat64\u001b[39m  │ \u001b[90mFloat64\u001b[39m   │ \u001b[90mFloat64\u001b[39m  │ \u001b[90mFloat64\u001b[39m  │ \u001b[90mFloat64\u001b[39m  │ \u001b[90mFloat64\u001b[39m  │ \u001b[90mFloat64\u001b[39m   │ \u001b[90mFloat64\u001b[39m  │ \u001b[90mFloat64\u001b[39m  │\n",
       "├─────┼──────────┼──────────┼──────────┼──────────┼─────────┼──────────┼──────────┼───────────┼───────────┼──────────┼──────────┼──────────┼──────────┼──────────┼───────────┼──────────┼──────────┼──────────┼─────────┼──────────┼──────────┼────────────┼──────────┼──────────┼──────────┼──────────┼──────────┼──────────┼──────────┼──────────┼──────────┼───────────┼───────────┼───────────┼──────────┼──────────┼──────────┼──────────┼──────────┼──────────┼──────────┼──────────┼──────────┼──────────┼──────────┼──────────┼──────────┼──────────┼───────────┼──────────┼──────────┼──────────┼──────────┼─────────┼──────────┼──────────┼──────────┼──────────┼──────────┼──────────┼──────────┼──────────┼───────────┼──────────┼──────────┼──────────┼─────────┼──────────┼──────────┼──────────┼──────────┼──────────┼──────────┼──────────┼───────────┼───────────┼──────────┼──────────┼──────────┼─────────┼──────────┼───────────┼──────────┼──────────┼──────────┼──────────┼───────────┼──────────┼──────────┤\n",
       "│ 1   │ 0.691238 │ 0.502941 │ 0.113297 │ 0.328738 │ 0.13378 │ 0.441278 │ 0.685002 │ 0.0538219 │ 0.0761798 │ 0.769235 │ 0.284291 │ 0.171352 │ 0.754563 │ 0.648736 │ 0.0953225 │ 0.775889 │ 0.841043 │ 0.311933 │ 0.56814 │ 0.577725 │ 0.192599 │ 0.00604097 │ 0.581288 │ 0.746245 │ 0.385509 │ 0.355455 │ 0.929221 │ 0.729291 │ 0.778783 │ 0.598102 │ 0.498373 │ 0.0278266 │ 0.0462616 │ 0.0804585 │ 0.486005 │ 0.829665 │ 0.605489 │ 0.922619 │ 0.615983 │ 0.975146 │ 0.218467 │ 0.214458 │ 0.201525 │ 0.388645 │ 0.558404 │ 0.163782 │ 0.437683 │ 0.897702 │ 0.0696074 │ 0.656873 │ 0.096646 │ 0.604482 │ 0.826148 │ 0.90222 │ 0.213158 │ 0.145633 │ 0.715524 │ 0.821202 │ 0.851274 │ 0.809465 │ 0.938894 │ 0.833493 │ 0.0128205 │ 0.911447 │ 0.572925 │ 0.492402 │ 0.70685 │ 0.391735 │ 0.379956 │ 0.894197 │ 0.319608 │ 0.282724 │ 0.662529 │ 0.751371 │ 0.0515758 │ 0.0554555 │ 0.407253 │ 0.714758 │ 0.930454 │ 0.34133 │ 0.409226 │ 0.0593862 │ 0.943453 │ 0.396289 │ 0.611359 │ 0.630375 │ 0.0122984 │ 0.948587 │ 0.395367 │"
      ]
     },
     "execution_count": 20,
     "metadata": {},
     "output_type": "execute_result"
    }
   ],
   "source": [
    "@btime view($x, 1:1, :)"
   ]
  },
  {
   "cell_type": "code",
   "execution_count": 21,
   "metadata": {},
   "outputs": [
    {
     "name": "stdout",
     "output_type": "stream",
     "text": [
      "  4.486 μs (55 allocations: 7.23 KiB)\n"
     ]
    },
    {
     "data": {
      "text/html": [
       "<table class=\"data-frame\"><thead><tr><th></th><th>x1</th><th>x2</th><th>x3</th><th>x4</th><th>x5</th><th>x6</th><th>x7</th><th>x8</th><th>x9</th><th>x10</th><th>x11</th><th>x12</th><th>x13</th><th>x14</th><th>x15</th><th>x16</th><th>x17</th><th>x18</th><th>x19</th><th>x20</th></tr><tr><th></th><th>Float64</th><th>Float64</th><th>Float64</th><th>Float64</th><th>Float64</th><th>Float64</th><th>Float64</th><th>Float64</th><th>Float64</th><th>Float64</th><th>Float64</th><th>Float64</th><th>Float64</th><th>Float64</th><th>Float64</th><th>Float64</th><th>Float64</th><th>Float64</th><th>Float64</th><th>Float64</th></tr></thead><tbody><p>1 rows × 20 columns</p><tr><th>1</th><td>0.691238</td><td>0.502941</td><td>0.113297</td><td>0.328738</td><td>0.13378</td><td>0.441278</td><td>0.685002</td><td>0.0538219</td><td>0.0761798</td><td>0.769235</td><td>0.284291</td><td>0.171352</td><td>0.754563</td><td>0.648736</td><td>0.0953225</td><td>0.775889</td><td>0.841043</td><td>0.311933</td><td>0.56814</td><td>0.577725</td></tr></tbody></table>"
      ],
      "text/latex": [
       "\\begin{tabular}{r|cccccccccccccccccccc}\n",
       "\t& x1 & x2 & x3 & x4 & x5 & x6 & x7 & x8 & x9 & x10 & x11 & x12 & x13 & x14 & x15 & x16 & x17 & x18 & x19 & x20\\\\\n",
       "\t\\hline\n",
       "\t& Float64 & Float64 & Float64 & Float64 & Float64 & Float64 & Float64 & Float64 & Float64 & Float64 & Float64 & Float64 & Float64 & Float64 & Float64 & Float64 & Float64 & Float64 & Float64 & Float64\\\\\n",
       "\t\\hline\n",
       "\t1 & 0.691238 & 0.502941 & 0.113297 & 0.328738 & 0.13378 & 0.441278 & 0.685002 & 0.0538219 & 0.0761798 & 0.769235 & 0.284291 & 0.171352 & 0.754563 & 0.648736 & 0.0953225 & 0.775889 & 0.841043 & 0.311933 & 0.56814 & 0.577725 \\\\\n",
       "\\end{tabular}\n"
      ],
      "text/plain": [
       "1×20 DataFrame\n",
       "│ Row │ x1       │ x2       │ x3       │ x4       │ x5      │ x6       │ x7       │ x8        │ x9        │ x10      │ x11      │ x12      │ x13      │ x14      │ x15       │ x16      │ x17      │ x18      │ x19     │ x20      │\n",
       "│     │ \u001b[90mFloat64\u001b[39m  │ \u001b[90mFloat64\u001b[39m  │ \u001b[90mFloat64\u001b[39m  │ \u001b[90mFloat64\u001b[39m  │ \u001b[90mFloat64\u001b[39m │ \u001b[90mFloat64\u001b[39m  │ \u001b[90mFloat64\u001b[39m  │ \u001b[90mFloat64\u001b[39m   │ \u001b[90mFloat64\u001b[39m   │ \u001b[90mFloat64\u001b[39m  │ \u001b[90mFloat64\u001b[39m  │ \u001b[90mFloat64\u001b[39m  │ \u001b[90mFloat64\u001b[39m  │ \u001b[90mFloat64\u001b[39m  │ \u001b[90mFloat64\u001b[39m   │ \u001b[90mFloat64\u001b[39m  │ \u001b[90mFloat64\u001b[39m  │ \u001b[90mFloat64\u001b[39m  │ \u001b[90mFloat64\u001b[39m │ \u001b[90mFloat64\u001b[39m  │\n",
       "├─────┼──────────┼──────────┼──────────┼──────────┼─────────┼──────────┼──────────┼───────────┼───────────┼──────────┼──────────┼──────────┼──────────┼──────────┼───────────┼──────────┼──────────┼──────────┼─────────┼──────────┤\n",
       "│ 1   │ 0.691238 │ 0.502941 │ 0.113297 │ 0.328738 │ 0.13378 │ 0.441278 │ 0.685002 │ 0.0538219 │ 0.0761798 │ 0.769235 │ 0.284291 │ 0.171352 │ 0.754563 │ 0.648736 │ 0.0953225 │ 0.775889 │ 0.841043 │ 0.311933 │ 0.56814 │ 0.577725 │"
      ]
     },
     "execution_count": 21,
     "metadata": {},
     "output_type": "execute_result"
    }
   ],
   "source": [
    "@btime $x[1:1, 1:20]"
   ]
  },
  {
   "cell_type": "code",
   "execution_count": 22,
   "metadata": {},
   "outputs": [
    {
     "name": "stdout",
     "output_type": "stream",
     "text": [
      "  27.766 ns (2 allocations: 80 bytes)\n"
     ]
    },
    {
     "data": {
      "text/html": [
       "<p>DataFrameRow</p><table class=\"data-frame\"><thead><tr><th></th><th>x1</th><th>x2</th><th>x3</th><th>x4</th><th>x5</th><th>x6</th><th>x7</th><th>x8</th><th>x9</th><th>x10</th><th>x11</th><th>x12</th><th>x13</th><th>x14</th><th>x15</th><th>x16</th><th>x17</th><th>x18</th><th>x19</th><th>x20</th></tr><tr><th></th><th>Float64</th><th>Float64</th><th>Float64</th><th>Float64</th><th>Float64</th><th>Float64</th><th>Float64</th><th>Float64</th><th>Float64</th><th>Float64</th><th>Float64</th><th>Float64</th><th>Float64</th><th>Float64</th><th>Float64</th><th>Float64</th><th>Float64</th><th>Float64</th><th>Float64</th><th>Float64</th></tr></thead><tbody><p>1 rows × 20 columns</p><tr><th>1</th><td>0.691238</td><td>0.502941</td><td>0.113297</td><td>0.328738</td><td>0.13378</td><td>0.441278</td><td>0.685002</td><td>0.0538219</td><td>0.0761798</td><td>0.769235</td><td>0.284291</td><td>0.171352</td><td>0.754563</td><td>0.648736</td><td>0.0953225</td><td>0.775889</td><td>0.841043</td><td>0.311933</td><td>0.56814</td><td>0.577725</td></tr></tbody></table>"
      ],
      "text/latex": [
       "\\begin{tabular}{r|cccccccccccccccccccc}\n",
       "\t& x1 & x2 & x3 & x4 & x5 & x6 & x7 & x8 & x9 & x10 & x11 & x12 & x13 & x14 & x15 & x16 & x17 & x18 & x19 & x20\\\\\n",
       "\t\\hline\n",
       "\t& Float64 & Float64 & Float64 & Float64 & Float64 & Float64 & Float64 & Float64 & Float64 & Float64 & Float64 & Float64 & Float64 & Float64 & Float64 & Float64 & Float64 & Float64 & Float64 & Float64\\\\\n",
       "\t\\hline\n",
       "\t1 & 0.691238 & 0.502941 & 0.113297 & 0.328738 & 0.13378 & 0.441278 & 0.685002 & 0.0538219 & 0.0761798 & 0.769235 & 0.284291 & 0.171352 & 0.754563 & 0.648736 & 0.0953225 & 0.775889 & 0.841043 & 0.311933 & 0.56814 & 0.577725 \\\\\n",
       "\\end{tabular}\n"
      ],
      "text/plain": [
       "DataFrameRow\n",
       "│ Row │ x1       │ x2       │ x3       │ x4       │ x5      │ x6       │ x7       │ x8        │ x9        │ x10      │ x11      │ x12      │ x13      │ x14      │ x15       │ x16      │ x17      │ x18      │ x19     │ x20      │\n",
       "│     │ \u001b[90mFloat64\u001b[39m  │ \u001b[90mFloat64\u001b[39m  │ \u001b[90mFloat64\u001b[39m  │ \u001b[90mFloat64\u001b[39m  │ \u001b[90mFloat64\u001b[39m │ \u001b[90mFloat64\u001b[39m  │ \u001b[90mFloat64\u001b[39m  │ \u001b[90mFloat64\u001b[39m   │ \u001b[90mFloat64\u001b[39m   │ \u001b[90mFloat64\u001b[39m  │ \u001b[90mFloat64\u001b[39m  │ \u001b[90mFloat64\u001b[39m  │ \u001b[90mFloat64\u001b[39m  │ \u001b[90mFloat64\u001b[39m  │ \u001b[90mFloat64\u001b[39m   │ \u001b[90mFloat64\u001b[39m  │ \u001b[90mFloat64\u001b[39m  │ \u001b[90mFloat64\u001b[39m  │ \u001b[90mFloat64\u001b[39m │ \u001b[90mFloat64\u001b[39m  │\n",
       "├─────┼──────────┼──────────┼──────────┼──────────┼─────────┼──────────┼──────────┼───────────┼───────────┼──────────┼──────────┼──────────┼──────────┼──────────┼───────────┼──────────┼──────────┼──────────┼─────────┼──────────┤\n",
       "│ 1   │ 0.691238 │ 0.502941 │ 0.113297 │ 0.328738 │ 0.13378 │ 0.441278 │ 0.685002 │ 0.0538219 │ 0.0761798 │ 0.769235 │ 0.284291 │ 0.171352 │ 0.754563 │ 0.648736 │ 0.0953225 │ 0.775889 │ 0.841043 │ 0.311933 │ 0.56814 │ 0.577725 │"
      ]
     },
     "execution_count": 22,
     "metadata": {},
     "output_type": "execute_result"
    }
   ],
   "source": [
    "@btime $x[1, 1:20]"
   ]
  },
  {
   "cell_type": "code",
   "execution_count": 23,
   "metadata": {},
   "outputs": [
    {
     "name": "stdout",
     "output_type": "stream",
     "text": [
      "  30.614 ns (2 allocations: 96 bytes)\n"
     ]
    },
    {
     "data": {
      "text/html": [
       "<table class=\"data-frame\"><thead><tr><th></th><th>x1</th><th>x2</th><th>x3</th><th>x4</th><th>x5</th><th>x6</th><th>x7</th><th>x8</th><th>x9</th><th>x10</th><th>x11</th><th>x12</th><th>x13</th><th>x14</th><th>x15</th><th>x16</th><th>x17</th><th>x18</th><th>x19</th><th>x20</th></tr><tr><th></th><th>Float64</th><th>Float64</th><th>Float64</th><th>Float64</th><th>Float64</th><th>Float64</th><th>Float64</th><th>Float64</th><th>Float64</th><th>Float64</th><th>Float64</th><th>Float64</th><th>Float64</th><th>Float64</th><th>Float64</th><th>Float64</th><th>Float64</th><th>Float64</th><th>Float64</th><th>Float64</th></tr></thead><tbody><p>1 rows × 20 columns</p><tr><th>1</th><td>0.691238</td><td>0.502941</td><td>0.113297</td><td>0.328738</td><td>0.13378</td><td>0.441278</td><td>0.685002</td><td>0.0538219</td><td>0.0761798</td><td>0.769235</td><td>0.284291</td><td>0.171352</td><td>0.754563</td><td>0.648736</td><td>0.0953225</td><td>0.775889</td><td>0.841043</td><td>0.311933</td><td>0.56814</td><td>0.577725</td></tr></tbody></table>"
      ],
      "text/latex": [
       "\\begin{tabular}{r|cccccccccccccccccccc}\n",
       "\t& x1 & x2 & x3 & x4 & x5 & x6 & x7 & x8 & x9 & x10 & x11 & x12 & x13 & x14 & x15 & x16 & x17 & x18 & x19 & x20\\\\\n",
       "\t\\hline\n",
       "\t& Float64 & Float64 & Float64 & Float64 & Float64 & Float64 & Float64 & Float64 & Float64 & Float64 & Float64 & Float64 & Float64 & Float64 & Float64 & Float64 & Float64 & Float64 & Float64 & Float64\\\\\n",
       "\t\\hline\n",
       "\t1 & 0.691238 & 0.502941 & 0.113297 & 0.328738 & 0.13378 & 0.441278 & 0.685002 & 0.0538219 & 0.0761798 & 0.769235 & 0.284291 & 0.171352 & 0.754563 & 0.648736 & 0.0953225 & 0.775889 & 0.841043 & 0.311933 & 0.56814 & 0.577725 \\\\\n",
       "\\end{tabular}\n"
      ],
      "text/plain": [
       "1×20 SubDataFrame\n",
       "│ Row │ x1       │ x2       │ x3       │ x4       │ x5      │ x6       │ x7       │ x8        │ x9        │ x10      │ x11      │ x12      │ x13      │ x14      │ x15       │ x16      │ x17      │ x18      │ x19     │ x20      │\n",
       "│     │ \u001b[90mFloat64\u001b[39m  │ \u001b[90mFloat64\u001b[39m  │ \u001b[90mFloat64\u001b[39m  │ \u001b[90mFloat64\u001b[39m  │ \u001b[90mFloat64\u001b[39m │ \u001b[90mFloat64\u001b[39m  │ \u001b[90mFloat64\u001b[39m  │ \u001b[90mFloat64\u001b[39m   │ \u001b[90mFloat64\u001b[39m   │ \u001b[90mFloat64\u001b[39m  │ \u001b[90mFloat64\u001b[39m  │ \u001b[90mFloat64\u001b[39m  │ \u001b[90mFloat64\u001b[39m  │ \u001b[90mFloat64\u001b[39m  │ \u001b[90mFloat64\u001b[39m   │ \u001b[90mFloat64\u001b[39m  │ \u001b[90mFloat64\u001b[39m  │ \u001b[90mFloat64\u001b[39m  │ \u001b[90mFloat64\u001b[39m │ \u001b[90mFloat64\u001b[39m  │\n",
       "├─────┼──────────┼──────────┼──────────┼──────────┼─────────┼──────────┼──────────┼───────────┼───────────┼──────────┼──────────┼──────────┼──────────┼──────────┼───────────┼──────────┼──────────┼──────────┼─────────┼──────────┤\n",
       "│ 1   │ 0.691238 │ 0.502941 │ 0.113297 │ 0.328738 │ 0.13378 │ 0.441278 │ 0.685002 │ 0.0538219 │ 0.0761798 │ 0.769235 │ 0.284291 │ 0.171352 │ 0.754563 │ 0.648736 │ 0.0953225 │ 0.775889 │ 0.841043 │ 0.311933 │ 0.56814 │ 0.577725 │"
      ]
     },
     "execution_count": 23,
     "metadata": {},
     "output_type": "execute_result"
    }
   ],
   "source": [
    "@btime view($x, 1:1, 1:20)"
   ]
  }
 ],
 "metadata": {
  "@webio": {
   "lastCommId": null,
   "lastKernelId": null
  },
  "kernelspec": {
   "display_name": "Julia 1.1.0",
   "language": "julia",
   "name": "julia-1.1"
  },
  "language_info": {
   "file_extension": ".jl",
   "mimetype": "application/julia",
   "name": "julia",
   "version": "1.1.0"
  }
 },
 "nbformat": 4,
 "nbformat_minor": 1
}
