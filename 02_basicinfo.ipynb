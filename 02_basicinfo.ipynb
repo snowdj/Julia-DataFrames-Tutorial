{
 "cells": [
  {
   "cell_type": "markdown",
   "metadata": {},
   "source": [
    "# Introduction to DataFrames\n",
    "**[Bogumił Kamiński](http://bogumilkaminski.pl/about/), July 16, 2019**"
   ]
  },
  {
   "cell_type": "code",
   "execution_count": 1,
   "metadata": {},
   "outputs": [],
   "source": [
    "using DataFrames"
   ]
  },
  {
   "cell_type": "markdown",
   "metadata": {},
   "source": [
    "## Getting basic information about a data frame\n",
    "\n",
    "Let's start by creating a `DataFrame` object, `x`, so that we can learn how to get information on that data frame."
   ]
  },
  {
   "cell_type": "code",
   "execution_count": 2,
   "metadata": {},
   "outputs": [
    {
     "data": {
      "text/html": [
       "<table class=\"data-frame\"><thead><tr><th></th><th>A</th><th>B</th><th>C</th></tr><tr><th></th><th>Int64</th><th>Float64⍰</th><th>String</th></tr></thead><tbody><p>2 rows × 3 columns</p><tr><th>1</th><td>1</td><td>1.0</td><td>a</td></tr><tr><th>2</th><td>2</td><td>missing</td><td>b</td></tr></tbody></table>"
      ],
      "text/latex": [
       "\\begin{tabular}{r|ccc}\n",
       "\t& A & B & C\\\\\n",
       "\t\\hline\n",
       "\t& Int64 & Float64⍰ & String\\\\\n",
       "\t\\hline\n",
       "\t1 & 1 & 1.0 & a \\\\\n",
       "\t2 & 2 &  & b \\\\\n",
       "\\end{tabular}\n"
      ],
      "text/plain": [
       "2×3 DataFrame\n",
       "│ Row │ A     │ B        │ C      │\n",
       "│     │ \u001b[90mInt64\u001b[39m │ \u001b[90mFloat64⍰\u001b[39m │ \u001b[90mString\u001b[39m │\n",
       "├─────┼───────┼──────────┼────────┤\n",
       "│ 1   │ 1     │ 1.0      │ a      │\n",
       "│ 2   │ 2     │ \u001b[90mmissing\u001b[39m  │ b      │"
      ]
     },
     "execution_count": 2,
     "metadata": {},
     "output_type": "execute_result"
    }
   ],
   "source": [
    "x = DataFrame(A = [1, 2], B = [1.0, missing], C = [\"a\", \"b\"])"
   ]
  },
  {
   "cell_type": "markdown",
   "metadata": {},
   "source": [
    "The standard `size` function works to get dimensions of the `DataFrame`,"
   ]
  },
  {
   "cell_type": "code",
   "execution_count": 3,
   "metadata": {},
   "outputs": [
    {
     "data": {
      "text/plain": [
       "((2, 3), 2, 3)"
      ]
     },
     "execution_count": 3,
     "metadata": {},
     "output_type": "execute_result"
    }
   ],
   "source": [
    "size(x), size(x, 1), size(x, 2)"
   ]
  },
  {
   "cell_type": "markdown",
   "metadata": {},
   "source": [
    "as well as `nrow` and `ncol` from R (`length` in the past gave the number of columns but now is deprecated)."
   ]
  },
  {
   "cell_type": "code",
   "execution_count": 4,
   "metadata": {},
   "outputs": [
    {
     "data": {
      "text/plain": [
       "(2, 3)"
      ]
     },
     "execution_count": 4,
     "metadata": {},
     "output_type": "execute_result"
    }
   ],
   "source": [
    "nrow(x), ncol(x)"
   ]
  },
  {
   "cell_type": "markdown",
   "metadata": {},
   "source": [
    "`describe` gives basic summary statistics of data in your `DataFrame` (check out the help of `describe` for information how to customize shown statistics)."
   ]
  },
  {
   "cell_type": "code",
   "execution_count": 5,
   "metadata": {},
   "outputs": [
    {
     "data": {
      "text/html": [
       "<table class=\"data-frame\"><thead><tr><th></th><th>variable</th><th>mean</th><th>min</th><th>median</th><th>max</th><th>nunique</th><th>nmissing</th><th>eltype</th></tr><tr><th></th><th>Symbol</th><th>Union…</th><th>Any</th><th>Union…</th><th>Any</th><th>Union…</th><th>Union…</th><th>DataType</th></tr></thead><tbody><p>3 rows × 8 columns</p><tr><th>1</th><td>A</td><td>1.5</td><td>1</td><td>1.5</td><td>2</td><td></td><td></td><td>Int64</td></tr><tr><th>2</th><td>B</td><td>1.0</td><td>1.0</td><td>1.0</td><td>1.0</td><td></td><td>1</td><td>Float64</td></tr><tr><th>3</th><td>C</td><td></td><td>a</td><td></td><td>b</td><td>2</td><td></td><td>String</td></tr></tbody></table>"
      ],
      "text/latex": [
       "\\begin{tabular}{r|cccccccc}\n",
       "\t& variable & mean & min & median & max & nunique & nmissing & eltype\\\\\n",
       "\t\\hline\n",
       "\t& Symbol & Union… & Any & Union… & Any & Union… & Union… & DataType\\\\\n",
       "\t\\hline\n",
       "\t1 & A & 1.5 & 1 & 1.5 & 2 &  &  & Int64 \\\\\n",
       "\t2 & B & 1.0 & 1.0 & 1.0 & 1.0 &  & 1 & Float64 \\\\\n",
       "\t3 & C &  & a &  & b & 2 &  & String \\\\\n",
       "\\end{tabular}\n"
      ],
      "text/plain": [
       "3×8 DataFrame\n",
       "│ Row │ variable │ mean   │ min │ median │ max │ nunique │ nmissing │ eltype   │\n",
       "│     │ \u001b[90mSymbol\u001b[39m   │ \u001b[90mUnion…\u001b[39m │ \u001b[90mAny\u001b[39m │ \u001b[90mUnion…\u001b[39m │ \u001b[90mAny\u001b[39m │ \u001b[90mUnion…\u001b[39m  │ \u001b[90mUnion…\u001b[39m   │ \u001b[90mDataType\u001b[39m │\n",
       "├─────┼──────────┼────────┼─────┼────────┼─────┼─────────┼──────────┼──────────┤\n",
       "│ 1   │ A        │ 1.5    │ 1   │ 1.5    │ 2   │         │          │ Int64    │\n",
       "│ 2   │ B        │ 1.0    │ 1.0 │ 1.0    │ 1.0 │         │ 1        │ Float64  │\n",
       "│ 3   │ C        │        │ a   │        │ b   │ 2       │          │ String   │"
      ]
     },
     "execution_count": 5,
     "metadata": {},
     "output_type": "execute_result"
    }
   ],
   "source": [
    "describe(x)"
   ]
  },
  {
   "cell_type": "markdown",
   "metadata": {},
   "source": [
    "`names` will return the names of all columns,"
   ]
  },
  {
   "cell_type": "code",
   "execution_count": 6,
   "metadata": {},
   "outputs": [
    {
     "data": {
      "text/plain": [
       "3-element Array{Symbol,1}:\n",
       " :A\n",
       " :B\n",
       " :C"
      ]
     },
     "execution_count": 6,
     "metadata": {},
     "output_type": "execute_result"
    }
   ],
   "source": [
    "names(x)"
   ]
  },
  {
   "cell_type": "markdown",
   "metadata": {},
   "source": [
    "and `eltypes` returns their types."
   ]
  },
  {
   "cell_type": "code",
   "execution_count": 7,
   "metadata": {},
   "outputs": [
    {
     "data": {
      "text/plain": [
       "3-element Array{Type,1}:\n",
       " Int64                  \n",
       " Union{Missing, Float64}\n",
       " String                 "
      ]
     },
     "execution_count": 7,
     "metadata": {},
     "output_type": "execute_result"
    }
   ],
   "source": [
    "eltypes(x)"
   ]
  },
  {
   "cell_type": "markdown",
   "metadata": {},
   "source": [
    "Here we create some large `DataFrame`"
   ]
  },
  {
   "cell_type": "code",
   "execution_count": 8,
   "metadata": {},
   "outputs": [
    {
     "data": {
      "text/html": [
       "<table class=\"data-frame\"><thead><tr><th></th><th>x1</th><th>x2</th><th>x3</th><th>x4</th><th>x5</th><th>x6</th><th>x7</th><th>x8</th><th>x9</th><th>x10</th></tr><tr><th></th><th>Int64</th><th>Int64</th><th>Int64</th><th>Int64</th><th>Int64</th><th>Int64</th><th>Int64</th><th>Int64</th><th>Int64</th><th>Int64</th></tr></thead><tbody><p>1,000 rows × 10 columns</p><tr><th>1</th><td>5</td><td>8</td><td>6</td><td>5</td><td>5</td><td>4</td><td>7</td><td>1</td><td>2</td><td>4</td></tr><tr><th>2</th><td>6</td><td>4</td><td>10</td><td>8</td><td>1</td><td>1</td><td>2</td><td>9</td><td>2</td><td>6</td></tr><tr><th>3</th><td>3</td><td>9</td><td>7</td><td>6</td><td>6</td><td>9</td><td>9</td><td>6</td><td>3</td><td>6</td></tr><tr><th>4</th><td>6</td><td>5</td><td>1</td><td>8</td><td>7</td><td>9</td><td>5</td><td>10</td><td>5</td><td>2</td></tr><tr><th>5</th><td>4</td><td>2</td><td>7</td><td>4</td><td>9</td><td>7</td><td>5</td><td>7</td><td>7</td><td>6</td></tr><tr><th>6</th><td>7</td><td>2</td><td>10</td><td>5</td><td>6</td><td>8</td><td>5</td><td>3</td><td>4</td><td>5</td></tr><tr><th>7</th><td>8</td><td>9</td><td>1</td><td>1</td><td>6</td><td>7</td><td>8</td><td>2</td><td>7</td><td>10</td></tr><tr><th>8</th><td>2</td><td>5</td><td>7</td><td>9</td><td>6</td><td>5</td><td>6</td><td>4</td><td>3</td><td>7</td></tr><tr><th>9</th><td>7</td><td>7</td><td>6</td><td>10</td><td>3</td><td>5</td><td>1</td><td>5</td><td>7</td><td>10</td></tr><tr><th>10</th><td>1</td><td>2</td><td>9</td><td>1</td><td>6</td><td>3</td><td>6</td><td>5</td><td>5</td><td>10</td></tr><tr><th>11</th><td>2</td><td>7</td><td>5</td><td>8</td><td>3</td><td>10</td><td>5</td><td>2</td><td>4</td><td>10</td></tr><tr><th>12</th><td>9</td><td>6</td><td>4</td><td>6</td><td>5</td><td>5</td><td>5</td><td>6</td><td>7</td><td>2</td></tr><tr><th>13</th><td>4</td><td>1</td><td>6</td><td>8</td><td>6</td><td>6</td><td>4</td><td>3</td><td>2</td><td>10</td></tr><tr><th>14</th><td>8</td><td>10</td><td>2</td><td>4</td><td>6</td><td>3</td><td>4</td><td>9</td><td>7</td><td>5</td></tr><tr><th>15</th><td>2</td><td>6</td><td>8</td><td>10</td><td>2</td><td>6</td><td>10</td><td>4</td><td>5</td><td>10</td></tr><tr><th>16</th><td>7</td><td>7</td><td>10</td><td>1</td><td>6</td><td>4</td><td>1</td><td>9</td><td>4</td><td>4</td></tr><tr><th>17</th><td>10</td><td>5</td><td>10</td><td>8</td><td>7</td><td>4</td><td>2</td><td>2</td><td>5</td><td>9</td></tr><tr><th>18</th><td>6</td><td>9</td><td>10</td><td>4</td><td>4</td><td>2</td><td>10</td><td>1</td><td>4</td><td>4</td></tr><tr><th>19</th><td>3</td><td>3</td><td>10</td><td>4</td><td>3</td><td>8</td><td>4</td><td>5</td><td>4</td><td>3</td></tr><tr><th>20</th><td>5</td><td>5</td><td>9</td><td>3</td><td>8</td><td>3</td><td>5</td><td>1</td><td>4</td><td>9</td></tr><tr><th>21</th><td>10</td><td>10</td><td>3</td><td>8</td><td>9</td><td>1</td><td>5</td><td>9</td><td>3</td><td>3</td></tr><tr><th>22</th><td>3</td><td>9</td><td>1</td><td>10</td><td>2</td><td>10</td><td>7</td><td>9</td><td>3</td><td>7</td></tr><tr><th>23</th><td>4</td><td>10</td><td>9</td><td>1</td><td>10</td><td>5</td><td>2</td><td>4</td><td>8</td><td>3</td></tr><tr><th>24</th><td>1</td><td>2</td><td>3</td><td>10</td><td>5</td><td>5</td><td>10</td><td>1</td><td>10</td><td>4</td></tr><tr><th>&vellip;</th><td>&vellip;</td><td>&vellip;</td><td>&vellip;</td><td>&vellip;</td><td>&vellip;</td><td>&vellip;</td><td>&vellip;</td><td>&vellip;</td><td>&vellip;</td><td>&vellip;</td></tr></tbody></table>"
      ],
      "text/latex": [
       "\\begin{tabular}{r|cccccccccc}\n",
       "\t& x1 & x2 & x3 & x4 & x5 & x6 & x7 & x8 & x9 & x10\\\\\n",
       "\t\\hline\n",
       "\t& Int64 & Int64 & Int64 & Int64 & Int64 & Int64 & Int64 & Int64 & Int64 & Int64\\\\\n",
       "\t\\hline\n",
       "\t1 & 5 & 8 & 6 & 5 & 5 & 4 & 7 & 1 & 2 & 4 \\\\\n",
       "\t2 & 6 & 4 & 10 & 8 & 1 & 1 & 2 & 9 & 2 & 6 \\\\\n",
       "\t3 & 3 & 9 & 7 & 6 & 6 & 9 & 9 & 6 & 3 & 6 \\\\\n",
       "\t4 & 6 & 5 & 1 & 8 & 7 & 9 & 5 & 10 & 5 & 2 \\\\\n",
       "\t5 & 4 & 2 & 7 & 4 & 9 & 7 & 5 & 7 & 7 & 6 \\\\\n",
       "\t6 & 7 & 2 & 10 & 5 & 6 & 8 & 5 & 3 & 4 & 5 \\\\\n",
       "\t7 & 8 & 9 & 1 & 1 & 6 & 7 & 8 & 2 & 7 & 10 \\\\\n",
       "\t8 & 2 & 5 & 7 & 9 & 6 & 5 & 6 & 4 & 3 & 7 \\\\\n",
       "\t9 & 7 & 7 & 6 & 10 & 3 & 5 & 1 & 5 & 7 & 10 \\\\\n",
       "\t10 & 1 & 2 & 9 & 1 & 6 & 3 & 6 & 5 & 5 & 10 \\\\\n",
       "\t11 & 2 & 7 & 5 & 8 & 3 & 10 & 5 & 2 & 4 & 10 \\\\\n",
       "\t12 & 9 & 6 & 4 & 6 & 5 & 5 & 5 & 6 & 7 & 2 \\\\\n",
       "\t13 & 4 & 1 & 6 & 8 & 6 & 6 & 4 & 3 & 2 & 10 \\\\\n",
       "\t14 & 8 & 10 & 2 & 4 & 6 & 3 & 4 & 9 & 7 & 5 \\\\\n",
       "\t15 & 2 & 6 & 8 & 10 & 2 & 6 & 10 & 4 & 5 & 10 \\\\\n",
       "\t16 & 7 & 7 & 10 & 1 & 6 & 4 & 1 & 9 & 4 & 4 \\\\\n",
       "\t17 & 10 & 5 & 10 & 8 & 7 & 4 & 2 & 2 & 5 & 9 \\\\\n",
       "\t18 & 6 & 9 & 10 & 4 & 4 & 2 & 10 & 1 & 4 & 4 \\\\\n",
       "\t19 & 3 & 3 & 10 & 4 & 3 & 8 & 4 & 5 & 4 & 3 \\\\\n",
       "\t20 & 5 & 5 & 9 & 3 & 8 & 3 & 5 & 1 & 4 & 9 \\\\\n",
       "\t21 & 10 & 10 & 3 & 8 & 9 & 1 & 5 & 9 & 3 & 3 \\\\\n",
       "\t22 & 3 & 9 & 1 & 10 & 2 & 10 & 7 & 9 & 3 & 7 \\\\\n",
       "\t23 & 4 & 10 & 9 & 1 & 10 & 5 & 2 & 4 & 8 & 3 \\\\\n",
       "\t24 & 1 & 2 & 3 & 10 & 5 & 5 & 10 & 1 & 10 & 4 \\\\\n",
       "\t$\\dots$ & $\\dots$ & $\\dots$ & $\\dots$ & $\\dots$ & $\\dots$ & $\\dots$ & $\\dots$ & $\\dots$ & $\\dots$ & $\\dots$ \\\\\n",
       "\\end{tabular}\n"
      ],
      "text/plain": [
       "1000×10 DataFrame\n",
       "│ Row  │ x1    │ x2    │ x3    │ x4    │ x5    │ x6    │ x7    │ x8    │ x9    │ x10   │\n",
       "│      │ \u001b[90mInt64\u001b[39m │ \u001b[90mInt64\u001b[39m │ \u001b[90mInt64\u001b[39m │ \u001b[90mInt64\u001b[39m │ \u001b[90mInt64\u001b[39m │ \u001b[90mInt64\u001b[39m │ \u001b[90mInt64\u001b[39m │ \u001b[90mInt64\u001b[39m │ \u001b[90mInt64\u001b[39m │ \u001b[90mInt64\u001b[39m │\n",
       "├──────┼───────┼───────┼───────┼───────┼───────┼───────┼───────┼───────┼───────┼───────┤\n",
       "│ 1    │ 5     │ 8     │ 6     │ 5     │ 5     │ 4     │ 7     │ 1     │ 2     │ 4     │\n",
       "│ 2    │ 6     │ 4     │ 10    │ 8     │ 1     │ 1     │ 2     │ 9     │ 2     │ 6     │\n",
       "│ 3    │ 3     │ 9     │ 7     │ 6     │ 6     │ 9     │ 9     │ 6     │ 3     │ 6     │\n",
       "│ 4    │ 6     │ 5     │ 1     │ 8     │ 7     │ 9     │ 5     │ 10    │ 5     │ 2     │\n",
       "│ 5    │ 4     │ 2     │ 7     │ 4     │ 9     │ 7     │ 5     │ 7     │ 7     │ 6     │\n",
       "│ 6    │ 7     │ 2     │ 10    │ 5     │ 6     │ 8     │ 5     │ 3     │ 4     │ 5     │\n",
       "│ 7    │ 8     │ 9     │ 1     │ 1     │ 6     │ 7     │ 8     │ 2     │ 7     │ 10    │\n",
       "⋮\n",
       "│ 993  │ 5     │ 7     │ 7     │ 1     │ 6     │ 4     │ 2     │ 5     │ 2     │ 10    │\n",
       "│ 994  │ 9     │ 2     │ 5     │ 4     │ 6     │ 7     │ 9     │ 7     │ 6     │ 2     │\n",
       "│ 995  │ 2     │ 3     │ 8     │ 8     │ 3     │ 3     │ 1     │ 2     │ 9     │ 8     │\n",
       "│ 996  │ 3     │ 7     │ 9     │ 4     │ 10    │ 10    │ 1     │ 3     │ 9     │ 2     │\n",
       "│ 997  │ 7     │ 6     │ 8     │ 4     │ 2     │ 6     │ 4     │ 4     │ 3     │ 8     │\n",
       "│ 998  │ 6     │ 1     │ 7     │ 9     │ 7     │ 2     │ 6     │ 4     │ 6     │ 2     │\n",
       "│ 999  │ 1     │ 10    │ 10    │ 1     │ 2     │ 10    │ 4     │ 8     │ 10    │ 4     │\n",
       "│ 1000 │ 5     │ 3     │ 10    │ 2     │ 10    │ 2     │ 10    │ 3     │ 7     │ 5     │"
      ]
     },
     "execution_count": 8,
     "metadata": {},
     "output_type": "execute_result"
    }
   ],
   "source": [
    "y = DataFrame(rand(1:10, 1000, 10))"
   ]
  },
  {
   "cell_type": "markdown",
   "metadata": {},
   "source": [
    "and then we can use `first` to peek into its first few rows"
   ]
  },
  {
   "cell_type": "code",
   "execution_count": 9,
   "metadata": {},
   "outputs": [
    {
     "data": {
      "text/html": [
       "<table class=\"data-frame\"><thead><tr><th></th><th>x1</th><th>x2</th><th>x3</th><th>x4</th><th>x5</th><th>x6</th><th>x7</th><th>x8</th><th>x9</th><th>x10</th></tr><tr><th></th><th>Int64</th><th>Int64</th><th>Int64</th><th>Int64</th><th>Int64</th><th>Int64</th><th>Int64</th><th>Int64</th><th>Int64</th><th>Int64</th></tr></thead><tbody><p>5 rows × 10 columns</p><tr><th>1</th><td>5</td><td>8</td><td>6</td><td>5</td><td>5</td><td>4</td><td>7</td><td>1</td><td>2</td><td>4</td></tr><tr><th>2</th><td>6</td><td>4</td><td>10</td><td>8</td><td>1</td><td>1</td><td>2</td><td>9</td><td>2</td><td>6</td></tr><tr><th>3</th><td>3</td><td>9</td><td>7</td><td>6</td><td>6</td><td>9</td><td>9</td><td>6</td><td>3</td><td>6</td></tr><tr><th>4</th><td>6</td><td>5</td><td>1</td><td>8</td><td>7</td><td>9</td><td>5</td><td>10</td><td>5</td><td>2</td></tr><tr><th>5</th><td>4</td><td>2</td><td>7</td><td>4</td><td>9</td><td>7</td><td>5</td><td>7</td><td>7</td><td>6</td></tr></tbody></table>"
      ],
      "text/latex": [
       "\\begin{tabular}{r|cccccccccc}\n",
       "\t& x1 & x2 & x3 & x4 & x5 & x6 & x7 & x8 & x9 & x10\\\\\n",
       "\t\\hline\n",
       "\t& Int64 & Int64 & Int64 & Int64 & Int64 & Int64 & Int64 & Int64 & Int64 & Int64\\\\\n",
       "\t\\hline\n",
       "\t1 & 5 & 8 & 6 & 5 & 5 & 4 & 7 & 1 & 2 & 4 \\\\\n",
       "\t2 & 6 & 4 & 10 & 8 & 1 & 1 & 2 & 9 & 2 & 6 \\\\\n",
       "\t3 & 3 & 9 & 7 & 6 & 6 & 9 & 9 & 6 & 3 & 6 \\\\\n",
       "\t4 & 6 & 5 & 1 & 8 & 7 & 9 & 5 & 10 & 5 & 2 \\\\\n",
       "\t5 & 4 & 2 & 7 & 4 & 9 & 7 & 5 & 7 & 7 & 6 \\\\\n",
       "\\end{tabular}\n"
      ],
      "text/plain": [
       "5×10 DataFrame\n",
       "│ Row │ x1    │ x2    │ x3    │ x4    │ x5    │ x6    │ x7    │ x8    │ x9    │ x10   │\n",
       "│     │ \u001b[90mInt64\u001b[39m │ \u001b[90mInt64\u001b[39m │ \u001b[90mInt64\u001b[39m │ \u001b[90mInt64\u001b[39m │ \u001b[90mInt64\u001b[39m │ \u001b[90mInt64\u001b[39m │ \u001b[90mInt64\u001b[39m │ \u001b[90mInt64\u001b[39m │ \u001b[90mInt64\u001b[39m │ \u001b[90mInt64\u001b[39m │\n",
       "├─────┼───────┼───────┼───────┼───────┼───────┼───────┼───────┼───────┼───────┼───────┤\n",
       "│ 1   │ 5     │ 8     │ 6     │ 5     │ 5     │ 4     │ 7     │ 1     │ 2     │ 4     │\n",
       "│ 2   │ 6     │ 4     │ 10    │ 8     │ 1     │ 1     │ 2     │ 9     │ 2     │ 6     │\n",
       "│ 3   │ 3     │ 9     │ 7     │ 6     │ 6     │ 9     │ 9     │ 6     │ 3     │ 6     │\n",
       "│ 4   │ 6     │ 5     │ 1     │ 8     │ 7     │ 9     │ 5     │ 10    │ 5     │ 2     │\n",
       "│ 5   │ 4     │ 2     │ 7     │ 4     │ 9     │ 7     │ 5     │ 7     │ 7     │ 6     │"
      ]
     },
     "execution_count": 9,
     "metadata": {},
     "output_type": "execute_result"
    }
   ],
   "source": [
    "first(y, 5)"
   ]
  },
  {
   "cell_type": "markdown",
   "metadata": {},
   "source": [
    "and `last` to see its bottom rows."
   ]
  },
  {
   "cell_type": "code",
   "execution_count": 10,
   "metadata": {},
   "outputs": [
    {
     "data": {
      "text/html": [
       "<table class=\"data-frame\"><thead><tr><th></th><th>x1</th><th>x2</th><th>x3</th><th>x4</th><th>x5</th><th>x6</th><th>x7</th><th>x8</th><th>x9</th><th>x10</th></tr><tr><th></th><th>Int64</th><th>Int64</th><th>Int64</th><th>Int64</th><th>Int64</th><th>Int64</th><th>Int64</th><th>Int64</th><th>Int64</th><th>Int64</th></tr></thead><tbody><p>3 rows × 10 columns</p><tr><th>1</th><td>6</td><td>1</td><td>7</td><td>9</td><td>7</td><td>2</td><td>6</td><td>4</td><td>6</td><td>2</td></tr><tr><th>2</th><td>1</td><td>10</td><td>10</td><td>1</td><td>2</td><td>10</td><td>4</td><td>8</td><td>10</td><td>4</td></tr><tr><th>3</th><td>5</td><td>3</td><td>10</td><td>2</td><td>10</td><td>2</td><td>10</td><td>3</td><td>7</td><td>5</td></tr></tbody></table>"
      ],
      "text/latex": [
       "\\begin{tabular}{r|cccccccccc}\n",
       "\t& x1 & x2 & x3 & x4 & x5 & x6 & x7 & x8 & x9 & x10\\\\\n",
       "\t\\hline\n",
       "\t& Int64 & Int64 & Int64 & Int64 & Int64 & Int64 & Int64 & Int64 & Int64 & Int64\\\\\n",
       "\t\\hline\n",
       "\t1 & 6 & 1 & 7 & 9 & 7 & 2 & 6 & 4 & 6 & 2 \\\\\n",
       "\t2 & 1 & 10 & 10 & 1 & 2 & 10 & 4 & 8 & 10 & 4 \\\\\n",
       "\t3 & 5 & 3 & 10 & 2 & 10 & 2 & 10 & 3 & 7 & 5 \\\\\n",
       "\\end{tabular}\n"
      ],
      "text/plain": [
       "3×10 DataFrame\n",
       "│ Row │ x1    │ x2    │ x3    │ x4    │ x5    │ x6    │ x7    │ x8    │ x9    │ x10   │\n",
       "│     │ \u001b[90mInt64\u001b[39m │ \u001b[90mInt64\u001b[39m │ \u001b[90mInt64\u001b[39m │ \u001b[90mInt64\u001b[39m │ \u001b[90mInt64\u001b[39m │ \u001b[90mInt64\u001b[39m │ \u001b[90mInt64\u001b[39m │ \u001b[90mInt64\u001b[39m │ \u001b[90mInt64\u001b[39m │ \u001b[90mInt64\u001b[39m │\n",
       "├─────┼───────┼───────┼───────┼───────┼───────┼───────┼───────┼───────┼───────┼───────┤\n",
       "│ 1   │ 6     │ 1     │ 7     │ 9     │ 7     │ 2     │ 6     │ 4     │ 6     │ 2     │\n",
       "│ 2   │ 1     │ 10    │ 10    │ 1     │ 2     │ 10    │ 4     │ 8     │ 10    │ 4     │\n",
       "│ 3   │ 5     │ 3     │ 10    │ 2     │ 10    │ 2     │ 10    │ 3     │ 7     │ 5     │"
      ]
     },
     "execution_count": 10,
     "metadata": {},
     "output_type": "execute_result"
    }
   ],
   "source": [
    "last(y, 3)"
   ]
  },
  {
   "cell_type": "markdown",
   "metadata": {},
   "source": [
    "Using `first` and `last` without number of rows will return a first/last `DataFrameRow` in the `DataFrame`"
   ]
  },
  {
   "cell_type": "code",
   "execution_count": 11,
   "metadata": {},
   "outputs": [
    {
     "data": {
      "text/html": [
       "<p>DataFrameRow</p><table class=\"data-frame\"><thead><tr><th></th><th>x1</th><th>x2</th><th>x3</th><th>x4</th><th>x5</th><th>x6</th><th>x7</th><th>x8</th><th>x9</th><th>x10</th></tr><tr><th></th><th>Int64</th><th>Int64</th><th>Int64</th><th>Int64</th><th>Int64</th><th>Int64</th><th>Int64</th><th>Int64</th><th>Int64</th><th>Int64</th></tr></thead><tbody><p>1 rows × 10 columns</p><tr><th>1</th><td>5</td><td>8</td><td>6</td><td>5</td><td>5</td><td>4</td><td>7</td><td>1</td><td>2</td><td>4</td></tr></tbody></table>"
      ],
      "text/latex": [
       "\\begin{tabular}{r|cccccccccc}\n",
       "\t& x1 & x2 & x3 & x4 & x5 & x6 & x7 & x8 & x9 & x10\\\\\n",
       "\t\\hline\n",
       "\t& Int64 & Int64 & Int64 & Int64 & Int64 & Int64 & Int64 & Int64 & Int64 & Int64\\\\\n",
       "\t\\hline\n",
       "\t1 & 5 & 8 & 6 & 5 & 5 & 4 & 7 & 1 & 2 & 4 \\\\\n",
       "\\end{tabular}\n"
      ],
      "text/plain": [
       "DataFrameRow\n",
       "│ Row │ x1    │ x2    │ x3    │ x4    │ x5    │ x6    │ x7    │ x8    │ x9    │ x10   │\n",
       "│     │ \u001b[90mInt64\u001b[39m │ \u001b[90mInt64\u001b[39m │ \u001b[90mInt64\u001b[39m │ \u001b[90mInt64\u001b[39m │ \u001b[90mInt64\u001b[39m │ \u001b[90mInt64\u001b[39m │ \u001b[90mInt64\u001b[39m │ \u001b[90mInt64\u001b[39m │ \u001b[90mInt64\u001b[39m │ \u001b[90mInt64\u001b[39m │\n",
       "├─────┼───────┼───────┼───────┼───────┼───────┼───────┼───────┼───────┼───────┼───────┤\n",
       "│ 1   │ 5     │ 8     │ 6     │ 5     │ 5     │ 4     │ 7     │ 1     │ 2     │ 4     │"
      ]
     },
     "execution_count": 11,
     "metadata": {},
     "output_type": "execute_result"
    }
   ],
   "source": [
    "first(y)"
   ]
  },
  {
   "cell_type": "code",
   "execution_count": 12,
   "metadata": {},
   "outputs": [
    {
     "data": {
      "text/html": [
       "<p>DataFrameRow</p><table class=\"data-frame\"><thead><tr><th></th><th>x1</th><th>x2</th><th>x3</th><th>x4</th><th>x5</th><th>x6</th><th>x7</th><th>x8</th><th>x9</th><th>x10</th></tr><tr><th></th><th>Int64</th><th>Int64</th><th>Int64</th><th>Int64</th><th>Int64</th><th>Int64</th><th>Int64</th><th>Int64</th><th>Int64</th><th>Int64</th></tr></thead><tbody><p>1 rows × 10 columns</p><tr><th>1000</th><td>5</td><td>3</td><td>10</td><td>2</td><td>10</td><td>2</td><td>10</td><td>3</td><td>7</td><td>5</td></tr></tbody></table>"
      ],
      "text/latex": [
       "\\begin{tabular}{r|cccccccccc}\n",
       "\t& x1 & x2 & x3 & x4 & x5 & x6 & x7 & x8 & x9 & x10\\\\\n",
       "\t\\hline\n",
       "\t& Int64 & Int64 & Int64 & Int64 & Int64 & Int64 & Int64 & Int64 & Int64 & Int64\\\\\n",
       "\t\\hline\n",
       "\t1000 & 5 & 3 & 10 & 2 & 10 & 2 & 10 & 3 & 7 & 5 \\\\\n",
       "\\end{tabular}\n"
      ],
      "text/plain": [
       "DataFrameRow\n",
       "│ Row  │ x1    │ x2    │ x3    │ x4    │ x5    │ x6    │ x7    │ x8    │ x9    │ x10   │\n",
       "│      │ \u001b[90mInt64\u001b[39m │ \u001b[90mInt64\u001b[39m │ \u001b[90mInt64\u001b[39m │ \u001b[90mInt64\u001b[39m │ \u001b[90mInt64\u001b[39m │ \u001b[90mInt64\u001b[39m │ \u001b[90mInt64\u001b[39m │ \u001b[90mInt64\u001b[39m │ \u001b[90mInt64\u001b[39m │ \u001b[90mInt64\u001b[39m │\n",
       "├──────┼───────┼───────┼───────┼───────┼───────┼───────┼───────┼───────┼───────┼───────┤\n",
       "│ 1000 │ 5     │ 3     │ 10    │ 2     │ 10    │ 2     │ 10    │ 3     │ 7     │ 5     │"
      ]
     },
     "execution_count": 12,
     "metadata": {},
     "output_type": "execute_result"
    }
   ],
   "source": [
    "last(y)"
   ]
  },
  {
   "cell_type": "markdown",
   "metadata": {},
   "source": [
    "### Most elementary get and set operations\n",
    "\n",
    "Given the `DataFrame`, `x`, here are four ways to grab one of its columns as a `Vector`."
   ]
  },
  {
   "cell_type": "code",
   "execution_count": 13,
   "metadata": {},
   "outputs": [
    {
     "data": {
      "text/html": [
       "<table class=\"data-frame\"><thead><tr><th></th><th>A</th><th>B</th><th>C</th></tr><tr><th></th><th>Int64</th><th>Float64⍰</th><th>String</th></tr></thead><tbody><p>2 rows × 3 columns</p><tr><th>1</th><td>1</td><td>1.0</td><td>a</td></tr><tr><th>2</th><td>2</td><td>missing</td><td>b</td></tr></tbody></table>"
      ],
      "text/latex": [
       "\\begin{tabular}{r|ccc}\n",
       "\t& A & B & C\\\\\n",
       "\t\\hline\n",
       "\t& Int64 & Float64⍰ & String\\\\\n",
       "\t\\hline\n",
       "\t1 & 1 & 1.0 & a \\\\\n",
       "\t2 & 2 &  & b \\\\\n",
       "\\end{tabular}\n"
      ],
      "text/plain": [
       "2×3 DataFrame\n",
       "│ Row │ A     │ B        │ C      │\n",
       "│     │ \u001b[90mInt64\u001b[39m │ \u001b[90mFloat64⍰\u001b[39m │ \u001b[90mString\u001b[39m │\n",
       "├─────┼───────┼──────────┼────────┤\n",
       "│ 1   │ 1     │ 1.0      │ a      │\n",
       "│ 2   │ 2     │ \u001b[90mmissing\u001b[39m  │ b      │"
      ]
     },
     "execution_count": 13,
     "metadata": {},
     "output_type": "execute_result"
    }
   ],
   "source": [
    "x"
   ]
  },
  {
   "cell_type": "code",
   "execution_count": 14,
   "metadata": {},
   "outputs": [
    {
     "data": {
      "text/plain": [
       "([1, 2], [1, 2], [1, 2])"
      ]
     },
     "execution_count": 14,
     "metadata": {},
     "output_type": "execute_result"
    }
   ],
   "source": [
    "x.A, x[!, 1], x[!, :A] # all get the vector stored in our DataFrame without copying it"
   ]
  },
  {
   "cell_type": "code",
   "execution_count": 15,
   "metadata": {},
   "outputs": [
    {
     "data": {
      "text/plain": [
       "2-element Array{Int64,1}:\n",
       " 1\n",
       " 2"
      ]
     },
     "execution_count": 15,
     "metadata": {},
     "output_type": "execute_result"
    }
   ],
   "source": [
    "x[:, 1] # note that this creates a copy"
   ]
  },
  {
   "cell_type": "code",
   "execution_count": 16,
   "metadata": {},
   "outputs": [
    {
     "data": {
      "text/plain": [
       "false"
      ]
     },
     "execution_count": 16,
     "metadata": {},
     "output_type": "execute_result"
    }
   ],
   "source": [
    "x[:, 1] === x[:, 1]"
   ]
  },
  {
   "cell_type": "markdown",
   "metadata": {},
   "source": [
    "To grab one row as a `DataFrame`, we can index as follows."
   ]
  },
  {
   "cell_type": "code",
   "execution_count": 17,
   "metadata": {},
   "outputs": [
    {
     "data": {
      "text/html": [
       "<table class=\"data-frame\"><thead><tr><th></th><th>A</th><th>B</th><th>C</th></tr><tr><th></th><th>Int64</th><th>Float64⍰</th><th>String</th></tr></thead><tbody><p>1 rows × 3 columns</p><tr><th>1</th><td>1</td><td>1.0</td><td>a</td></tr></tbody></table>"
      ],
      "text/latex": [
       "\\begin{tabular}{r|ccc}\n",
       "\t& A & B & C\\\\\n",
       "\t\\hline\n",
       "\t& Int64 & Float64⍰ & String\\\\\n",
       "\t\\hline\n",
       "\t1 & 1 & 1.0 & a \\\\\n",
       "\\end{tabular}\n"
      ],
      "text/plain": [
       "1×3 DataFrame\n",
       "│ Row │ A     │ B        │ C      │\n",
       "│     │ \u001b[90mInt64\u001b[39m │ \u001b[90mFloat64⍰\u001b[39m │ \u001b[90mString\u001b[39m │\n",
       "├─────┼───────┼──────────┼────────┤\n",
       "│ 1   │ 1     │ 1.0      │ a      │"
      ]
     },
     "execution_count": 17,
     "metadata": {},
     "output_type": "execute_result"
    }
   ],
   "source": [
    "x[1:1, :]"
   ]
  },
  {
   "cell_type": "code",
   "execution_count": 18,
   "metadata": {},
   "outputs": [
    {
     "data": {
      "text/html": [
       "<p>DataFrameRow</p><table class=\"data-frame\"><thead><tr><th></th><th>A</th><th>B</th><th>C</th></tr><tr><th></th><th>Int64</th><th>Float64⍰</th><th>String</th></tr></thead><tbody><p>1 rows × 3 columns</p><tr><th>1</th><td>1</td><td>1.0</td><td>a</td></tr></tbody></table>"
      ],
      "text/latex": [
       "\\begin{tabular}{r|ccc}\n",
       "\t& A & B & C\\\\\n",
       "\t\\hline\n",
       "\t& Int64 & Float64⍰ & String\\\\\n",
       "\t\\hline\n",
       "\t1 & 1 & 1.0 & a \\\\\n",
       "\\end{tabular}\n"
      ],
      "text/plain": [
       "DataFrameRow\n",
       "│ Row │ A     │ B        │ C      │\n",
       "│     │ \u001b[90mInt64\u001b[39m │ \u001b[90mFloat64⍰\u001b[39m │ \u001b[90mString\u001b[39m │\n",
       "├─────┼───────┼──────────┼────────┤\n",
       "│ 1   │ 1     │ 1.0      │ a      │"
      ]
     },
     "execution_count": 18,
     "metadata": {},
     "output_type": "execute_result"
    }
   ],
   "source": [
    "x[1, :] # this produces a DataFrameRow"
   ]
  },
  {
   "cell_type": "markdown",
   "metadata": {},
   "source": [
    "We can grab a single cell or element with the same syntax to grab an element of an array."
   ]
  },
  {
   "cell_type": "code",
   "execution_count": 19,
   "metadata": {},
   "outputs": [
    {
     "data": {
      "text/plain": [
       "1"
      ]
     },
     "execution_count": 19,
     "metadata": {},
     "output_type": "execute_result"
    }
   ],
   "source": [
    "x[1, 1]"
   ]
  },
  {
   "cell_type": "markdown",
   "metadata": {},
   "source": [
    "or a new `DataFrame` that is a subset of rows and columns"
   ]
  },
  {
   "cell_type": "code",
   "execution_count": 20,
   "metadata": {},
   "outputs": [
    {
     "data": {
      "text/html": [
       "<table class=\"data-frame\"><thead><tr><th></th><th>A</th><th>B</th></tr><tr><th></th><th>Int64</th><th>Float64⍰</th></tr></thead><tbody><p>2 rows × 2 columns</p><tr><th>1</th><td>1</td><td>1.0</td></tr><tr><th>2</th><td>2</td><td>missing</td></tr></tbody></table>"
      ],
      "text/latex": [
       "\\begin{tabular}{r|cc}\n",
       "\t& A & B\\\\\n",
       "\t\\hline\n",
       "\t& Int64 & Float64⍰\\\\\n",
       "\t\\hline\n",
       "\t1 & 1 & 1.0 \\\\\n",
       "\t2 & 2 &  \\\\\n",
       "\\end{tabular}\n"
      ],
      "text/plain": [
       "2×2 DataFrame\n",
       "│ Row │ A     │ B        │\n",
       "│     │ \u001b[90mInt64\u001b[39m │ \u001b[90mFloat64⍰\u001b[39m │\n",
       "├─────┼───────┼──────────┤\n",
       "│ 1   │ 1     │ 1.0      │\n",
       "│ 2   │ 2     │ \u001b[90mmissing\u001b[39m  │"
      ]
     },
     "execution_count": 20,
     "metadata": {},
     "output_type": "execute_result"
    }
   ],
   "source": [
    "x[1:2, 1:2]"
   ]
  },
  {
   "cell_type": "markdown",
   "metadata": {},
   "source": [
    "You can also use `Regex` to select columns and `Not` from InvertedIndices.jl both to select rows and columns"
   ]
  },
  {
   "cell_type": "code",
   "execution_count": 21,
   "metadata": {},
   "outputs": [
    {
     "data": {
      "text/html": [
       "<table class=\"data-frame\"><thead><tr><th></th><th>A</th></tr><tr><th></th><th>Int64</th></tr></thead><tbody><p>1 rows × 1 columns</p><tr><th>1</th><td>2</td></tr></tbody></table>"
      ],
      "text/latex": [
       "\\begin{tabular}{r|c}\n",
       "\t& A\\\\\n",
       "\t\\hline\n",
       "\t& Int64\\\\\n",
       "\t\\hline\n",
       "\t1 & 2 \\\\\n",
       "\\end{tabular}\n"
      ],
      "text/plain": [
       "1×1 DataFrame\n",
       "│ Row │ A     │\n",
       "│     │ \u001b[90mInt64\u001b[39m │\n",
       "├─────┼───────┤\n",
       "│ 1   │ 2     │"
      ]
     },
     "execution_count": 21,
     "metadata": {},
     "output_type": "execute_result"
    }
   ],
   "source": [
    "x[Not(1), r\"A\"]"
   ]
  },
  {
   "cell_type": "code",
   "execution_count": 22,
   "metadata": {},
   "outputs": [
    {
     "data": {
      "text/html": [
       "<table class=\"data-frame\"><thead><tr><th></th><th>B</th><th>C</th></tr><tr><th></th><th>Float64⍰</th><th>String</th></tr></thead><tbody><p>2 rows × 2 columns</p><tr><th>1</th><td>1.0</td><td>a</td></tr><tr><th>2</th><td>missing</td><td>b</td></tr></tbody></table>"
      ],
      "text/latex": [
       "\\begin{tabular}{r|cc}\n",
       "\t& B & C\\\\\n",
       "\t\\hline\n",
       "\t& Float64⍰ & String\\\\\n",
       "\t\\hline\n",
       "\t1 & 1.0 & a \\\\\n",
       "\t2 &  & b \\\\\n",
       "\\end{tabular}\n"
      ],
      "text/plain": [
       "2×2 DataFrame\n",
       "│ Row │ B        │ C      │\n",
       "│     │ \u001b[90mFloat64⍰\u001b[39m │ \u001b[90mString\u001b[39m │\n",
       "├─────┼──────────┼────────┤\n",
       "│ 1   │ 1.0      │ a      │\n",
       "│ 2   │ \u001b[90mmissing\u001b[39m  │ b      │"
      ]
     },
     "execution_count": 22,
     "metadata": {},
     "output_type": "execute_result"
    }
   ],
   "source": [
    "x[!, Not(1)] # ! indicates that underlying columns are not copied"
   ]
  },
  {
   "cell_type": "code",
   "execution_count": 23,
   "metadata": {},
   "outputs": [
    {
     "data": {
      "text/html": [
       "<table class=\"data-frame\"><thead><tr><th></th><th>B</th><th>C</th></tr><tr><th></th><th>Float64⍰</th><th>String</th></tr></thead><tbody><p>2 rows × 2 columns</p><tr><th>1</th><td>1.0</td><td>a</td></tr><tr><th>2</th><td>missing</td><td>b</td></tr></tbody></table>"
      ],
      "text/latex": [
       "\\begin{tabular}{r|cc}\n",
       "\t& B & C\\\\\n",
       "\t\\hline\n",
       "\t& Float64⍰ & String\\\\\n",
       "\t\\hline\n",
       "\t1 & 1.0 & a \\\\\n",
       "\t2 &  & b \\\\\n",
       "\\end{tabular}\n"
      ],
      "text/plain": [
       "2×2 DataFrame\n",
       "│ Row │ B        │ C      │\n",
       "│     │ \u001b[90mFloat64⍰\u001b[39m │ \u001b[90mString\u001b[39m │\n",
       "├─────┼──────────┼────────┤\n",
       "│ 1   │ 1.0      │ a      │\n",
       "│ 2   │ \u001b[90mmissing\u001b[39m  │ b      │"
      ]
     },
     "execution_count": 23,
     "metadata": {},
     "output_type": "execute_result"
    }
   ],
   "source": [
    "x[:, Not(1)] # : means that the columns will get copied"
   ]
  },
  {
   "cell_type": "markdown",
   "metadata": {},
   "source": [
    "Assignment can be done in ranges to a scalar using broadcasting:"
   ]
  },
  {
   "cell_type": "code",
   "execution_count": 24,
   "metadata": {},
   "outputs": [
    {
     "data": {
      "text/html": [
       "<table class=\"data-frame\"><thead><tr><th></th><th>A</th><th>B</th><th>C</th></tr><tr><th></th><th>Int64</th><th>Float64⍰</th><th>String</th></tr></thead><tbody><p>2 rows × 3 columns</p><tr><th>1</th><td>1</td><td>1.0</td><td>a</td></tr><tr><th>2</th><td>1</td><td>1.0</td><td>b</td></tr></tbody></table>"
      ],
      "text/latex": [
       "\\begin{tabular}{r|ccc}\n",
       "\t& A & B & C\\\\\n",
       "\t\\hline\n",
       "\t& Int64 & Float64⍰ & String\\\\\n",
       "\t\\hline\n",
       "\t1 & 1 & 1.0 & a \\\\\n",
       "\t2 & 1 & 1.0 & b \\\\\n",
       "\\end{tabular}\n"
      ],
      "text/plain": [
       "2×3 DataFrame\n",
       "│ Row │ A     │ B        │ C      │\n",
       "│     │ \u001b[90mInt64\u001b[39m │ \u001b[90mFloat64⍰\u001b[39m │ \u001b[90mString\u001b[39m │\n",
       "├─────┼───────┼──────────┼────────┤\n",
       "│ 1   │ 1     │ 1.0      │ a      │\n",
       "│ 2   │ 1     │ 1.0      │ b      │"
      ]
     },
     "execution_count": 24,
     "metadata": {},
     "output_type": "execute_result"
    }
   ],
   "source": [
    "x[1:2, 1:2] .= 1\n",
    "x"
   ]
  },
  {
   "cell_type": "markdown",
   "metadata": {},
   "source": [
    "to a vector of length equal to the number of assigned rows using broadcasting"
   ]
  },
  {
   "cell_type": "code",
   "execution_count": 25,
   "metadata": {},
   "outputs": [
    {
     "data": {
      "text/html": [
       "<table class=\"data-frame\"><thead><tr><th></th><th>A</th><th>B</th><th>C</th></tr><tr><th></th><th>Int64</th><th>Float64⍰</th><th>String</th></tr></thead><tbody><p>2 rows × 3 columns</p><tr><th>1</th><td>1</td><td>1.0</td><td>a</td></tr><tr><th>2</th><td>2</td><td>2.0</td><td>b</td></tr></tbody></table>"
      ],
      "text/latex": [
       "\\begin{tabular}{r|ccc}\n",
       "\t& A & B & C\\\\\n",
       "\t\\hline\n",
       "\t& Int64 & Float64⍰ & String\\\\\n",
       "\t\\hline\n",
       "\t1 & 1 & 1.0 & a \\\\\n",
       "\t2 & 2 & 2.0 & b \\\\\n",
       "\\end{tabular}\n"
      ],
      "text/plain": [
       "2×3 DataFrame\n",
       "│ Row │ A     │ B        │ C      │\n",
       "│     │ \u001b[90mInt64\u001b[39m │ \u001b[90mFloat64⍰\u001b[39m │ \u001b[90mString\u001b[39m │\n",
       "├─────┼───────┼──────────┼────────┤\n",
       "│ 1   │ 1     │ 1.0      │ a      │\n",
       "│ 2   │ 2     │ 2.0      │ b      │"
      ]
     },
     "execution_count": 25,
     "metadata": {},
     "output_type": "execute_result"
    }
   ],
   "source": [
    "x[1:2, 1:2] .= [1,2]\n",
    "x"
   ]
  },
  {
   "cell_type": "markdown",
   "metadata": {},
   "source": [
    "or to another data frame of matching size and column names, again using broadcasting:"
   ]
  },
  {
   "cell_type": "code",
   "execution_count": 26,
   "metadata": {},
   "outputs": [
    {
     "data": {
      "text/html": [
       "<table class=\"data-frame\"><thead><tr><th></th><th>A</th><th>B</th><th>C</th></tr><tr><th></th><th>Int64</th><th>Float64⍰</th><th>String</th></tr></thead><tbody><p>2 rows × 3 columns</p><tr><th>1</th><td>5</td><td>6.0</td><td>a</td></tr><tr><th>2</th><td>7</td><td>8.0</td><td>b</td></tr></tbody></table>"
      ],
      "text/latex": [
       "\\begin{tabular}{r|ccc}\n",
       "\t& A & B & C\\\\\n",
       "\t\\hline\n",
       "\t& Int64 & Float64⍰ & String\\\\\n",
       "\t\\hline\n",
       "\t1 & 5 & 6.0 & a \\\\\n",
       "\t2 & 7 & 8.0 & b \\\\\n",
       "\\end{tabular}\n"
      ],
      "text/plain": [
       "2×3 DataFrame\n",
       "│ Row │ A     │ B        │ C      │\n",
       "│     │ \u001b[90mInt64\u001b[39m │ \u001b[90mFloat64⍰\u001b[39m │ \u001b[90mString\u001b[39m │\n",
       "├─────┼───────┼──────────┼────────┤\n",
       "│ 1   │ 5     │ 6.0      │ a      │\n",
       "│ 2   │ 7     │ 8.0      │ b      │"
      ]
     },
     "execution_count": 26,
     "metadata": {},
     "output_type": "execute_result"
    }
   ],
   "source": [
    "x[1:2, 1:2] .= DataFrame([5 6; 7 8], [:A, :B])\n",
    "x"
   ]
  },
  {
   "cell_type": "markdown",
   "metadata": {},
   "source": [
    "**Caution**\n",
    "\n",
    "With `df[!, :col]` and `df.col` syntax you get a direct (non copying) access to a column of a data frame.\n",
    "This is potentially unsafe as you can easily corrupt data in the `df` data frame if you resize, sort, etc. the column obtained in this way.\n",
    "Therefore such access should be used with caution.\n",
    "\n",
    "Similarly `df[!, cols]` when `cols` is a collection of columns produces a new data frame that holds the same (not copied) columns as the source `df` data frame. Similarly, modifying the data frame obtained via `df[!, cols]` might cause problems with the consistency of `df`.\n",
    "\n",
    "The `df[:, :col]` and `df[:, cols]` syntaxes always copy columns so they are safe to use (and should generally be preferred except for performance or memory critical use cases)."
   ]
  },
  {
   "cell_type": "markdown",
   "metadata": {},
   "source": [
    "### Views"
   ]
  },
  {
   "cell_type": "markdown",
   "metadata": {},
   "source": [
    "You can simply create a view of a `DataFrame` (it is more efficient than creating a materialized selection). Here are the possible return value options."
   ]
  },
  {
   "cell_type": "code",
   "execution_count": 27,
   "metadata": {},
   "outputs": [
    {
     "data": {
      "text/plain": [
       "2-element view(::Array{Int64,1}, 1:2) with eltype Int64:\n",
       " 5\n",
       " 7"
      ]
     },
     "execution_count": 27,
     "metadata": {},
     "output_type": "execute_result"
    }
   ],
   "source": [
    "@view x[1:2, 1]"
   ]
  },
  {
   "cell_type": "code",
   "execution_count": 28,
   "metadata": {},
   "outputs": [
    {
     "data": {
      "text/plain": [
       "0-dimensional view(::Array{Int64,1}, 1) with eltype Int64:\n",
       "5"
      ]
     },
     "execution_count": 28,
     "metadata": {},
     "output_type": "execute_result"
    }
   ],
   "source": [
    "@view x[1,1]"
   ]
  },
  {
   "cell_type": "code",
   "execution_count": 29,
   "metadata": {},
   "outputs": [
    {
     "data": {
      "text/html": [
       "<p>DataFrameRow</p><table class=\"data-frame\"><thead><tr><th></th><th>A</th><th>B</th></tr><tr><th></th><th>Int64</th><th>Float64⍰</th></tr></thead><tbody><p>1 rows × 2 columns</p><tr><th>1</th><td>5</td><td>6.0</td></tr></tbody></table>"
      ],
      "text/latex": [
       "\\begin{tabular}{r|cc}\n",
       "\t& A & B\\\\\n",
       "\t\\hline\n",
       "\t& Int64 & Float64⍰\\\\\n",
       "\t\\hline\n",
       "\t1 & 5 & 6.0 \\\\\n",
       "\\end{tabular}\n"
      ],
      "text/plain": [
       "DataFrameRow\n",
       "│ Row │ A     │ B        │\n",
       "│     │ \u001b[90mInt64\u001b[39m │ \u001b[90mFloat64⍰\u001b[39m │\n",
       "├─────┼───────┼──────────┤\n",
       "│ 1   │ 5     │ 6.0      │"
      ]
     },
     "execution_count": 29,
     "metadata": {},
     "output_type": "execute_result"
    }
   ],
   "source": [
    "@view x[1, 1:2] # a DataFrameRow, the same as for x[1, 1:2] without a view"
   ]
  },
  {
   "cell_type": "code",
   "execution_count": 30,
   "metadata": {},
   "outputs": [
    {
     "data": {
      "text/html": [
       "<table class=\"data-frame\"><thead><tr><th></th><th>A</th><th>B</th></tr><tr><th></th><th>Int64</th><th>Float64⍰</th></tr></thead><tbody><p>2 rows × 2 columns</p><tr><th>1</th><td>5</td><td>6.0</td></tr><tr><th>2</th><td>7</td><td>8.0</td></tr></tbody></table>"
      ],
      "text/latex": [
       "\\begin{tabular}{r|cc}\n",
       "\t& A & B\\\\\n",
       "\t\\hline\n",
       "\t& Int64 & Float64⍰\\\\\n",
       "\t\\hline\n",
       "\t1 & 5 & 6.0 \\\\\n",
       "\t2 & 7 & 8.0 \\\\\n",
       "\\end{tabular}\n"
      ],
      "text/plain": [
       "2×2 SubDataFrame\n",
       "│ Row │ A     │ B        │\n",
       "│     │ \u001b[90mInt64\u001b[39m │ \u001b[90mFloat64⍰\u001b[39m │\n",
       "├─────┼───────┼──────────┤\n",
       "│ 1   │ 5     │ 6.0      │\n",
       "│ 2   │ 7     │ 8.0      │"
      ]
     },
     "execution_count": 30,
     "metadata": {},
     "output_type": "execute_result"
    }
   ],
   "source": [
    "@view x[1:2, 1:2] # a SubDataFrame"
   ]
  }
 ],
 "metadata": {
  "@webio": {
   "lastCommId": null,
   "lastKernelId": null
  },
  "kernelspec": {
   "display_name": "Julia 1.1.0",
   "language": "julia",
   "name": "julia-1.1"
  },
  "language_info": {
   "file_extension": ".jl",
   "mimetype": "application/julia",
   "name": "julia",
   "version": "1.1.0"
  }
 },
 "nbformat": 4,
 "nbformat_minor": 1
}
