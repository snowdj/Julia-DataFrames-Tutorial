{
 "cells": [
  {
   "cell_type": "markdown",
   "metadata": {},
   "source": [
    "# Introduction to DataFrames\n",
    "**[Bogumił Kamiński](http://bogumilkaminski.pl/about/), December 8, 2019**"
   ]
  },
  {
   "cell_type": "code",
   "execution_count": 1,
   "metadata": {},
   "outputs": [],
   "source": [
    "using DataFrames"
   ]
  },
  {
   "cell_type": "markdown",
   "metadata": {},
   "source": [
    "## Getting basic information about a data frame\n",
    "\n",
    "Let's start by creating a `DataFrame` object, `x`, so that we can learn how to get information on that data frame."
   ]
  },
  {
   "cell_type": "code",
   "execution_count": 2,
   "metadata": {},
   "outputs": [
    {
     "data": {
      "text/html": [
       "<table class=\"data-frame\"><thead><tr><th></th><th>A</th><th>B</th><th>C</th></tr><tr><th></th><th>Int64</th><th>Float64⍰</th><th>String</th></tr></thead><tbody><p>2 rows × 3 columns</p><tr><th>1</th><td>1</td><td>1.0</td><td>a</td></tr><tr><th>2</th><td>2</td><td>missing</td><td>b</td></tr></tbody></table>"
      ],
      "text/latex": [
       "\\begin{tabular}{r|ccc}\n",
       "\t& A & B & C\\\\\n",
       "\t\\hline\n",
       "\t& Int64 & Float64⍰ & String\\\\\n",
       "\t\\hline\n",
       "\t1 & 1 & 1.0 & a \\\\\n",
       "\t2 & 2 &  & b \\\\\n",
       "\\end{tabular}\n"
      ],
      "text/plain": [
       "2×3 DataFrame\n",
       "│ Row │ A     │ B        │ C      │\n",
       "│     │ \u001b[90mInt64\u001b[39m │ \u001b[90mFloat64⍰\u001b[39m │ \u001b[90mString\u001b[39m │\n",
       "├─────┼───────┼──────────┼────────┤\n",
       "│ 1   │ 1     │ 1.0      │ a      │\n",
       "│ 2   │ 2     │ \u001b[90mmissing\u001b[39m  │ b      │"
      ]
     },
     "execution_count": 2,
     "metadata": {},
     "output_type": "execute_result"
    }
   ],
   "source": [
    "x = DataFrame(A = [1, 2], B = [1.0, missing], C = [\"a\", \"b\"])"
   ]
  },
  {
   "cell_type": "markdown",
   "metadata": {},
   "source": [
    "The standard `size` function works to get dimensions of the `DataFrame`,"
   ]
  },
  {
   "cell_type": "code",
   "execution_count": 3,
   "metadata": {},
   "outputs": [
    {
     "data": {
      "text/plain": [
       "((2, 3), 2, 3)"
      ]
     },
     "execution_count": 3,
     "metadata": {},
     "output_type": "execute_result"
    }
   ],
   "source": [
    "size(x), size(x, 1), size(x, 2)"
   ]
  },
  {
   "cell_type": "markdown",
   "metadata": {},
   "source": [
    "as well as `nrow` and `ncol` from R (`length` in the past gave the number of columns but now is deprecated)."
   ]
  },
  {
   "cell_type": "code",
   "execution_count": 4,
   "metadata": {},
   "outputs": [
    {
     "data": {
      "text/plain": [
       "(2, 3)"
      ]
     },
     "execution_count": 4,
     "metadata": {},
     "output_type": "execute_result"
    }
   ],
   "source": [
    "nrow(x), ncol(x)"
   ]
  },
  {
   "cell_type": "markdown",
   "metadata": {},
   "source": [
    "`describe` gives basic summary statistics of data in your `DataFrame` (check out the help of `describe` for information how to customize shown statistics)."
   ]
  },
  {
   "cell_type": "code",
   "execution_count": 5,
   "metadata": {},
   "outputs": [
    {
     "data": {
      "text/html": [
       "<table class=\"data-frame\"><thead><tr><th></th><th>variable</th><th>mean</th><th>min</th><th>median</th><th>max</th><th>nunique</th><th>nmissing</th><th>eltype</th></tr><tr><th></th><th>Symbol</th><th>Union…</th><th>Any</th><th>Union…</th><th>Any</th><th>Union…</th><th>Union…</th><th>Type</th></tr></thead><tbody><p>3 rows × 8 columns</p><tr><th>1</th><td>A</td><td>1.5</td><td>1</td><td>1.5</td><td>2</td><td></td><td></td><td>Int64</td></tr><tr><th>2</th><td>B</td><td>1.0</td><td>1.0</td><td>1.0</td><td>1.0</td><td></td><td>1</td><td>Union{Missing, Float64}</td></tr><tr><th>3</th><td>C</td><td></td><td>a</td><td></td><td>b</td><td>2</td><td></td><td>String</td></tr></tbody></table>"
      ],
      "text/latex": [
       "\\begin{tabular}{r|cccccccc}\n",
       "\t& variable & mean & min & median & max & nunique & nmissing & eltype\\\\\n",
       "\t\\hline\n",
       "\t& Symbol & Union… & Any & Union… & Any & Union… & Union… & Type\\\\\n",
       "\t\\hline\n",
       "\t1 & A & 1.5 & 1 & 1.5 & 2 &  &  & Int64 \\\\\n",
       "\t2 & B & 1.0 & 1.0 & 1.0 & 1.0 &  & 1 & Union\\{Missing, Float64\\} \\\\\n",
       "\t3 & C &  & a &  & b & 2 &  & String \\\\\n",
       "\\end{tabular}\n"
      ],
      "text/plain": [
       "3×8 DataFrame. Omitted printing of 1 columns\n",
       "│ Row │ variable │ mean   │ min │ median │ max │ nunique │ nmissing │\n",
       "│     │ \u001b[90mSymbol\u001b[39m   │ \u001b[90mUnion…\u001b[39m │ \u001b[90mAny\u001b[39m │ \u001b[90mUnion…\u001b[39m │ \u001b[90mAny\u001b[39m │ \u001b[90mUnion…\u001b[39m  │ \u001b[90mUnion…\u001b[39m   │\n",
       "├─────┼──────────┼────────┼─────┼────────┼─────┼─────────┼──────────┤\n",
       "│ 1   │ A        │ 1.5    │ 1   │ 1.5    │ 2   │         │          │\n",
       "│ 2   │ B        │ 1.0    │ 1.0 │ 1.0    │ 1.0 │         │ 1        │\n",
       "│ 3   │ C        │        │ a   │        │ b   │ 2       │          │"
      ]
     },
     "execution_count": 5,
     "metadata": {},
     "output_type": "execute_result"
    }
   ],
   "source": [
    "describe(x)"
   ]
  },
  {
   "cell_type": "markdown",
   "metadata": {},
   "source": [
    "you can limit the columns shown by `describe` using `cols` keyword argument"
   ]
  },
  {
   "cell_type": "code",
   "execution_count": 6,
   "metadata": {},
   "outputs": [
    {
     "data": {
      "text/html": [
       "<table class=\"data-frame\"><thead><tr><th></th><th>variable</th><th>mean</th><th>min</th><th>median</th><th>max</th><th>nunique</th><th>nmissing</th><th>eltype</th></tr><tr><th></th><th>Symbol</th><th>Float64</th><th>Real</th><th>Float64</th><th>Real</th><th>Nothing</th><th>Union…</th><th>Type</th></tr></thead><tbody><p>2 rows × 8 columns</p><tr><th>1</th><td>A</td><td>1.5</td><td>1</td><td>1.5</td><td>2</td><td></td><td></td><td>Int64</td></tr><tr><th>2</th><td>B</td><td>1.0</td><td>1.0</td><td>1.0</td><td>1.0</td><td></td><td>1</td><td>Union{Missing, Float64}</td></tr></tbody></table>"
      ],
      "text/latex": [
       "\\begin{tabular}{r|cccccccc}\n",
       "\t& variable & mean & min & median & max & nunique & nmissing & eltype\\\\\n",
       "\t\\hline\n",
       "\t& Symbol & Float64 & Real & Float64 & Real & Nothing & Union… & Type\\\\\n",
       "\t\\hline\n",
       "\t1 & A & 1.5 & 1 & 1.5 & 2 &  &  & Int64 \\\\\n",
       "\t2 & B & 1.0 & 1.0 & 1.0 & 1.0 &  & 1 & Union\\{Missing, Float64\\} \\\\\n",
       "\\end{tabular}\n"
      ],
      "text/plain": [
       "2×8 DataFrame. Omitted printing of 1 columns\n",
       "│ Row │ variable │ mean    │ min  │ median  │ max  │ nunique │ nmissing │\n",
       "│     │ \u001b[90mSymbol\u001b[39m   │ \u001b[90mFloat64\u001b[39m │ \u001b[90mReal\u001b[39m │ \u001b[90mFloat64\u001b[39m │ \u001b[90mReal\u001b[39m │ \u001b[90mNothing\u001b[39m │ \u001b[90mUnion…\u001b[39m   │\n",
       "├─────┼──────────┼─────────┼──────┼─────────┼──────┼─────────┼──────────┤\n",
       "│ 1   │ A        │ 1.5     │ 1    │ 1.5     │ 2    │         │          │\n",
       "│ 2   │ B        │ 1.0     │ 1.0  │ 1.0     │ 1.0  │         │ 1        │"
      ]
     },
     "execution_count": 6,
     "metadata": {},
     "output_type": "execute_result"
    }
   ],
   "source": [
    "describe(x, cols=1:2)"
   ]
  },
  {
   "cell_type": "markdown",
   "metadata": {},
   "source": [
    "`names` will return the names of all columns,"
   ]
  },
  {
   "cell_type": "code",
   "execution_count": 7,
   "metadata": {},
   "outputs": [
    {
     "data": {
      "text/plain": [
       "3-element Array{Symbol,1}:\n",
       " :A\n",
       " :B\n",
       " :C"
      ]
     },
     "execution_count": 7,
     "metadata": {},
     "output_type": "execute_result"
    }
   ],
   "source": [
    "names(x)"
   ]
  },
  {
   "cell_type": "markdown",
   "metadata": {},
   "source": [
    "and using `eltype` returns their types like this"
   ]
  },
  {
   "cell_type": "code",
   "execution_count": 8,
   "metadata": {},
   "outputs": [
    {
     "data": {
      "text/plain": [
       "3-element Array{Type,1}:\n",
       " Int64                  \n",
       " Union{Missing, Float64}\n",
       " String                 "
      ]
     },
     "execution_count": 8,
     "metadata": {},
     "output_type": "execute_result"
    }
   ],
   "source": [
    "eltype.(eachcol(x))"
   ]
  },
  {
   "cell_type": "markdown",
   "metadata": {},
   "source": [
    "Here we create some large `DataFrame`"
   ]
  },
  {
   "cell_type": "code",
   "execution_count": 9,
   "metadata": {},
   "outputs": [
    {
     "data": {
      "text/html": [
       "<table class=\"data-frame\"><thead><tr><th></th><th>x1</th><th>x2</th><th>x3</th><th>x4</th><th>x5</th><th>x6</th><th>x7</th><th>x8</th><th>x9</th><th>x10</th></tr><tr><th></th><th>Int64</th><th>Int64</th><th>Int64</th><th>Int64</th><th>Int64</th><th>Int64</th><th>Int64</th><th>Int64</th><th>Int64</th><th>Int64</th></tr></thead><tbody><p>1,000 rows × 10 columns</p><tr><th>1</th><td>9</td><td>9</td><td>7</td><td>2</td><td>6</td><td>8</td><td>4</td><td>7</td><td>6</td><td>4</td></tr><tr><th>2</th><td>2</td><td>2</td><td>6</td><td>10</td><td>5</td><td>7</td><td>10</td><td>6</td><td>6</td><td>2</td></tr><tr><th>3</th><td>10</td><td>3</td><td>9</td><td>7</td><td>3</td><td>10</td><td>10</td><td>4</td><td>6</td><td>2</td></tr><tr><th>4</th><td>5</td><td>10</td><td>5</td><td>9</td><td>5</td><td>6</td><td>2</td><td>9</td><td>8</td><td>2</td></tr><tr><th>5</th><td>1</td><td>6</td><td>6</td><td>10</td><td>7</td><td>5</td><td>8</td><td>2</td><td>6</td><td>4</td></tr><tr><th>6</th><td>3</td><td>7</td><td>1</td><td>7</td><td>8</td><td>10</td><td>4</td><td>9</td><td>7</td><td>4</td></tr><tr><th>7</th><td>2</td><td>8</td><td>10</td><td>2</td><td>3</td><td>10</td><td>8</td><td>9</td><td>9</td><td>8</td></tr><tr><th>8</th><td>9</td><td>5</td><td>9</td><td>7</td><td>4</td><td>5</td><td>7</td><td>10</td><td>6</td><td>1</td></tr><tr><th>9</th><td>2</td><td>5</td><td>9</td><td>4</td><td>6</td><td>4</td><td>9</td><td>10</td><td>9</td><td>3</td></tr><tr><th>10</th><td>2</td><td>10</td><td>4</td><td>4</td><td>4</td><td>9</td><td>3</td><td>6</td><td>7</td><td>8</td></tr><tr><th>11</th><td>1</td><td>3</td><td>7</td><td>10</td><td>3</td><td>5</td><td>10</td><td>7</td><td>6</td><td>7</td></tr><tr><th>12</th><td>7</td><td>10</td><td>3</td><td>4</td><td>9</td><td>8</td><td>8</td><td>7</td><td>4</td><td>5</td></tr><tr><th>13</th><td>5</td><td>3</td><td>8</td><td>4</td><td>9</td><td>1</td><td>10</td><td>4</td><td>6</td><td>1</td></tr><tr><th>14</th><td>4</td><td>4</td><td>3</td><td>2</td><td>1</td><td>3</td><td>1</td><td>6</td><td>2</td><td>10</td></tr><tr><th>15</th><td>1</td><td>10</td><td>1</td><td>3</td><td>2</td><td>7</td><td>7</td><td>5</td><td>1</td><td>3</td></tr><tr><th>16</th><td>10</td><td>7</td><td>1</td><td>3</td><td>1</td><td>8</td><td>4</td><td>2</td><td>2</td><td>10</td></tr><tr><th>17</th><td>7</td><td>5</td><td>1</td><td>1</td><td>8</td><td>4</td><td>1</td><td>6</td><td>9</td><td>9</td></tr><tr><th>18</th><td>6</td><td>3</td><td>9</td><td>8</td><td>1</td><td>5</td><td>3</td><td>7</td><td>8</td><td>5</td></tr><tr><th>19</th><td>9</td><td>5</td><td>10</td><td>8</td><td>5</td><td>3</td><td>8</td><td>4</td><td>8</td><td>2</td></tr><tr><th>20</th><td>6</td><td>7</td><td>5</td><td>1</td><td>10</td><td>10</td><td>4</td><td>6</td><td>8</td><td>10</td></tr><tr><th>21</th><td>4</td><td>5</td><td>5</td><td>9</td><td>6</td><td>6</td><td>8</td><td>10</td><td>5</td><td>9</td></tr><tr><th>22</th><td>2</td><td>10</td><td>1</td><td>2</td><td>6</td><td>10</td><td>6</td><td>4</td><td>5</td><td>9</td></tr><tr><th>23</th><td>6</td><td>5</td><td>3</td><td>6</td><td>3</td><td>3</td><td>3</td><td>8</td><td>7</td><td>1</td></tr><tr><th>24</th><td>5</td><td>1</td><td>6</td><td>10</td><td>7</td><td>10</td><td>3</td><td>5</td><td>7</td><td>7</td></tr><tr><th>25</th><td>1</td><td>1</td><td>7</td><td>7</td><td>4</td><td>3</td><td>10</td><td>6</td><td>9</td><td>4</td></tr><tr><th>26</th><td>5</td><td>2</td><td>1</td><td>4</td><td>5</td><td>6</td><td>5</td><td>8</td><td>5</td><td>2</td></tr><tr><th>27</th><td>7</td><td>8</td><td>6</td><td>7</td><td>8</td><td>8</td><td>3</td><td>2</td><td>1</td><td>7</td></tr><tr><th>28</th><td>5</td><td>10</td><td>8</td><td>5</td><td>10</td><td>9</td><td>6</td><td>7</td><td>2</td><td>5</td></tr><tr><th>29</th><td>9</td><td>10</td><td>9</td><td>4</td><td>3</td><td>6</td><td>3</td><td>9</td><td>6</td><td>10</td></tr><tr><th>30</th><td>7</td><td>3</td><td>6</td><td>7</td><td>5</td><td>4</td><td>3</td><td>9</td><td>3</td><td>6</td></tr><tr><th>&vellip;</th><td>&vellip;</td><td>&vellip;</td><td>&vellip;</td><td>&vellip;</td><td>&vellip;</td><td>&vellip;</td><td>&vellip;</td><td>&vellip;</td><td>&vellip;</td><td>&vellip;</td></tr></tbody></table>"
      ],
      "text/latex": [
       "\\begin{tabular}{r|cccccccccc}\n",
       "\t& x1 & x2 & x3 & x4 & x5 & x6 & x7 & x8 & x9 & x10\\\\\n",
       "\t\\hline\n",
       "\t& Int64 & Int64 & Int64 & Int64 & Int64 & Int64 & Int64 & Int64 & Int64 & Int64\\\\\n",
       "\t\\hline\n",
       "\t1 & 9 & 9 & 7 & 2 & 6 & 8 & 4 & 7 & 6 & 4 \\\\\n",
       "\t2 & 2 & 2 & 6 & 10 & 5 & 7 & 10 & 6 & 6 & 2 \\\\\n",
       "\t3 & 10 & 3 & 9 & 7 & 3 & 10 & 10 & 4 & 6 & 2 \\\\\n",
       "\t4 & 5 & 10 & 5 & 9 & 5 & 6 & 2 & 9 & 8 & 2 \\\\\n",
       "\t5 & 1 & 6 & 6 & 10 & 7 & 5 & 8 & 2 & 6 & 4 \\\\\n",
       "\t6 & 3 & 7 & 1 & 7 & 8 & 10 & 4 & 9 & 7 & 4 \\\\\n",
       "\t7 & 2 & 8 & 10 & 2 & 3 & 10 & 8 & 9 & 9 & 8 \\\\\n",
       "\t8 & 9 & 5 & 9 & 7 & 4 & 5 & 7 & 10 & 6 & 1 \\\\\n",
       "\t9 & 2 & 5 & 9 & 4 & 6 & 4 & 9 & 10 & 9 & 3 \\\\\n",
       "\t10 & 2 & 10 & 4 & 4 & 4 & 9 & 3 & 6 & 7 & 8 \\\\\n",
       "\t11 & 1 & 3 & 7 & 10 & 3 & 5 & 10 & 7 & 6 & 7 \\\\\n",
       "\t12 & 7 & 10 & 3 & 4 & 9 & 8 & 8 & 7 & 4 & 5 \\\\\n",
       "\t13 & 5 & 3 & 8 & 4 & 9 & 1 & 10 & 4 & 6 & 1 \\\\\n",
       "\t14 & 4 & 4 & 3 & 2 & 1 & 3 & 1 & 6 & 2 & 10 \\\\\n",
       "\t15 & 1 & 10 & 1 & 3 & 2 & 7 & 7 & 5 & 1 & 3 \\\\\n",
       "\t16 & 10 & 7 & 1 & 3 & 1 & 8 & 4 & 2 & 2 & 10 \\\\\n",
       "\t17 & 7 & 5 & 1 & 1 & 8 & 4 & 1 & 6 & 9 & 9 \\\\\n",
       "\t18 & 6 & 3 & 9 & 8 & 1 & 5 & 3 & 7 & 8 & 5 \\\\\n",
       "\t19 & 9 & 5 & 10 & 8 & 5 & 3 & 8 & 4 & 8 & 2 \\\\\n",
       "\t20 & 6 & 7 & 5 & 1 & 10 & 10 & 4 & 6 & 8 & 10 \\\\\n",
       "\t21 & 4 & 5 & 5 & 9 & 6 & 6 & 8 & 10 & 5 & 9 \\\\\n",
       "\t22 & 2 & 10 & 1 & 2 & 6 & 10 & 6 & 4 & 5 & 9 \\\\\n",
       "\t23 & 6 & 5 & 3 & 6 & 3 & 3 & 3 & 8 & 7 & 1 \\\\\n",
       "\t24 & 5 & 1 & 6 & 10 & 7 & 10 & 3 & 5 & 7 & 7 \\\\\n",
       "\t25 & 1 & 1 & 7 & 7 & 4 & 3 & 10 & 6 & 9 & 4 \\\\\n",
       "\t26 & 5 & 2 & 1 & 4 & 5 & 6 & 5 & 8 & 5 & 2 \\\\\n",
       "\t27 & 7 & 8 & 6 & 7 & 8 & 8 & 3 & 2 & 1 & 7 \\\\\n",
       "\t28 & 5 & 10 & 8 & 5 & 10 & 9 & 6 & 7 & 2 & 5 \\\\\n",
       "\t29 & 9 & 10 & 9 & 4 & 3 & 6 & 3 & 9 & 6 & 10 \\\\\n",
       "\t30 & 7 & 3 & 6 & 7 & 5 & 4 & 3 & 9 & 3 & 6 \\\\\n",
       "\t$\\dots$ & $\\dots$ & $\\dots$ & $\\dots$ & $\\dots$ & $\\dots$ & $\\dots$ & $\\dots$ & $\\dots$ & $\\dots$ & $\\dots$ \\\\\n",
       "\\end{tabular}\n"
      ],
      "text/plain": [
       "1000×10 DataFrame. Omitted printing of 1 columns\n",
       "│ Row  │ x1    │ x2    │ x3    │ x4    │ x5    │ x6    │ x7    │ x8    │ x9    │\n",
       "│      │ \u001b[90mInt64\u001b[39m │ \u001b[90mInt64\u001b[39m │ \u001b[90mInt64\u001b[39m │ \u001b[90mInt64\u001b[39m │ \u001b[90mInt64\u001b[39m │ \u001b[90mInt64\u001b[39m │ \u001b[90mInt64\u001b[39m │ \u001b[90mInt64\u001b[39m │ \u001b[90mInt64\u001b[39m │\n",
       "├──────┼───────┼───────┼───────┼───────┼───────┼───────┼───────┼───────┼───────┤\n",
       "│ 1    │ 9     │ 9     │ 7     │ 2     │ 6     │ 8     │ 4     │ 7     │ 6     │\n",
       "│ 2    │ 2     │ 2     │ 6     │ 10    │ 5     │ 7     │ 10    │ 6     │ 6     │\n",
       "│ 3    │ 10    │ 3     │ 9     │ 7     │ 3     │ 10    │ 10    │ 4     │ 6     │\n",
       "│ 4    │ 5     │ 10    │ 5     │ 9     │ 5     │ 6     │ 2     │ 9     │ 8     │\n",
       "│ 5    │ 1     │ 6     │ 6     │ 10    │ 7     │ 5     │ 8     │ 2     │ 6     │\n",
       "│ 6    │ 3     │ 7     │ 1     │ 7     │ 8     │ 10    │ 4     │ 9     │ 7     │\n",
       "│ 7    │ 2     │ 8     │ 10    │ 2     │ 3     │ 10    │ 8     │ 9     │ 9     │\n",
       "│ 8    │ 9     │ 5     │ 9     │ 7     │ 4     │ 5     │ 7     │ 10    │ 6     │\n",
       "│ 9    │ 2     │ 5     │ 9     │ 4     │ 6     │ 4     │ 9     │ 10    │ 9     │\n",
       "│ 10   │ 2     │ 10    │ 4     │ 4     │ 4     │ 9     │ 3     │ 6     │ 7     │\n",
       "⋮\n",
       "│ 990  │ 9     │ 4     │ 7     │ 8     │ 8     │ 3     │ 8     │ 6     │ 8     │\n",
       "│ 991  │ 3     │ 6     │ 10    │ 5     │ 5     │ 7     │ 4     │ 2     │ 9     │\n",
       "│ 992  │ 4     │ 10    │ 8     │ 4     │ 9     │ 9     │ 1     │ 8     │ 2     │\n",
       "│ 993  │ 9     │ 2     │ 10    │ 1     │ 1     │ 9     │ 2     │ 6     │ 9     │\n",
       "│ 994  │ 10    │ 8     │ 9     │ 6     │ 2     │ 7     │ 10    │ 3     │ 5     │\n",
       "│ 995  │ 6     │ 10    │ 7     │ 7     │ 3     │ 8     │ 4     │ 1     │ 6     │\n",
       "│ 996  │ 9     │ 4     │ 10    │ 9     │ 10    │ 9     │ 5     │ 4     │ 2     │\n",
       "│ 997  │ 4     │ 7     │ 9     │ 4     │ 3     │ 10    │ 4     │ 7     │ 10    │\n",
       "│ 998  │ 1     │ 10    │ 8     │ 4     │ 8     │ 5     │ 2     │ 1     │ 8     │\n",
       "│ 999  │ 6     │ 9     │ 5     │ 9     │ 6     │ 7     │ 2     │ 9     │ 2     │\n",
       "│ 1000 │ 4     │ 9     │ 5     │ 2     │ 7     │ 9     │ 1     │ 3     │ 8     │"
      ]
     },
     "execution_count": 9,
     "metadata": {},
     "output_type": "execute_result"
    }
   ],
   "source": [
    "y = DataFrame(rand(1:10, 1000, 10))"
   ]
  },
  {
   "cell_type": "markdown",
   "metadata": {},
   "source": [
    "and then we can use `first` to peek into its first few rows"
   ]
  },
  {
   "cell_type": "code",
   "execution_count": 10,
   "metadata": {},
   "outputs": [
    {
     "data": {
      "text/html": [
       "<table class=\"data-frame\"><thead><tr><th></th><th>x1</th><th>x2</th><th>x3</th><th>x4</th><th>x5</th><th>x6</th><th>x7</th><th>x8</th><th>x9</th><th>x10</th></tr><tr><th></th><th>Int64</th><th>Int64</th><th>Int64</th><th>Int64</th><th>Int64</th><th>Int64</th><th>Int64</th><th>Int64</th><th>Int64</th><th>Int64</th></tr></thead><tbody><p>5 rows × 10 columns</p><tr><th>1</th><td>9</td><td>9</td><td>7</td><td>2</td><td>6</td><td>8</td><td>4</td><td>7</td><td>6</td><td>4</td></tr><tr><th>2</th><td>2</td><td>2</td><td>6</td><td>10</td><td>5</td><td>7</td><td>10</td><td>6</td><td>6</td><td>2</td></tr><tr><th>3</th><td>10</td><td>3</td><td>9</td><td>7</td><td>3</td><td>10</td><td>10</td><td>4</td><td>6</td><td>2</td></tr><tr><th>4</th><td>5</td><td>10</td><td>5</td><td>9</td><td>5</td><td>6</td><td>2</td><td>9</td><td>8</td><td>2</td></tr><tr><th>5</th><td>1</td><td>6</td><td>6</td><td>10</td><td>7</td><td>5</td><td>8</td><td>2</td><td>6</td><td>4</td></tr></tbody></table>"
      ],
      "text/latex": [
       "\\begin{tabular}{r|cccccccccc}\n",
       "\t& x1 & x2 & x3 & x4 & x5 & x6 & x7 & x8 & x9 & x10\\\\\n",
       "\t\\hline\n",
       "\t& Int64 & Int64 & Int64 & Int64 & Int64 & Int64 & Int64 & Int64 & Int64 & Int64\\\\\n",
       "\t\\hline\n",
       "\t1 & 9 & 9 & 7 & 2 & 6 & 8 & 4 & 7 & 6 & 4 \\\\\n",
       "\t2 & 2 & 2 & 6 & 10 & 5 & 7 & 10 & 6 & 6 & 2 \\\\\n",
       "\t3 & 10 & 3 & 9 & 7 & 3 & 10 & 10 & 4 & 6 & 2 \\\\\n",
       "\t4 & 5 & 10 & 5 & 9 & 5 & 6 & 2 & 9 & 8 & 2 \\\\\n",
       "\t5 & 1 & 6 & 6 & 10 & 7 & 5 & 8 & 2 & 6 & 4 \\\\\n",
       "\\end{tabular}\n"
      ],
      "text/plain": [
       "5×10 DataFrame. Omitted printing of 1 columns\n",
       "│ Row │ x1    │ x2    │ x3    │ x4    │ x5    │ x6    │ x7    │ x8    │ x9    │\n",
       "│     │ \u001b[90mInt64\u001b[39m │ \u001b[90mInt64\u001b[39m │ \u001b[90mInt64\u001b[39m │ \u001b[90mInt64\u001b[39m │ \u001b[90mInt64\u001b[39m │ \u001b[90mInt64\u001b[39m │ \u001b[90mInt64\u001b[39m │ \u001b[90mInt64\u001b[39m │ \u001b[90mInt64\u001b[39m │\n",
       "├─────┼───────┼───────┼───────┼───────┼───────┼───────┼───────┼───────┼───────┤\n",
       "│ 1   │ 9     │ 9     │ 7     │ 2     │ 6     │ 8     │ 4     │ 7     │ 6     │\n",
       "│ 2   │ 2     │ 2     │ 6     │ 10    │ 5     │ 7     │ 10    │ 6     │ 6     │\n",
       "│ 3   │ 10    │ 3     │ 9     │ 7     │ 3     │ 10    │ 10    │ 4     │ 6     │\n",
       "│ 4   │ 5     │ 10    │ 5     │ 9     │ 5     │ 6     │ 2     │ 9     │ 8     │\n",
       "│ 5   │ 1     │ 6     │ 6     │ 10    │ 7     │ 5     │ 8     │ 2     │ 6     │"
      ]
     },
     "execution_count": 10,
     "metadata": {},
     "output_type": "execute_result"
    }
   ],
   "source": [
    "first(y, 5)"
   ]
  },
  {
   "cell_type": "markdown",
   "metadata": {},
   "source": [
    "and `last` to see its bottom rows."
   ]
  },
  {
   "cell_type": "code",
   "execution_count": 11,
   "metadata": {},
   "outputs": [
    {
     "data": {
      "text/html": [
       "<table class=\"data-frame\"><thead><tr><th></th><th>x1</th><th>x2</th><th>x3</th><th>x4</th><th>x5</th><th>x6</th><th>x7</th><th>x8</th><th>x9</th><th>x10</th></tr><tr><th></th><th>Int64</th><th>Int64</th><th>Int64</th><th>Int64</th><th>Int64</th><th>Int64</th><th>Int64</th><th>Int64</th><th>Int64</th><th>Int64</th></tr></thead><tbody><p>3 rows × 10 columns</p><tr><th>1</th><td>1</td><td>10</td><td>8</td><td>4</td><td>8</td><td>5</td><td>2</td><td>1</td><td>8</td><td>7</td></tr><tr><th>2</th><td>6</td><td>9</td><td>5</td><td>9</td><td>6</td><td>7</td><td>2</td><td>9</td><td>2</td><td>1</td></tr><tr><th>3</th><td>4</td><td>9</td><td>5</td><td>2</td><td>7</td><td>9</td><td>1</td><td>3</td><td>8</td><td>1</td></tr></tbody></table>"
      ],
      "text/latex": [
       "\\begin{tabular}{r|cccccccccc}\n",
       "\t& x1 & x2 & x3 & x4 & x5 & x6 & x7 & x8 & x9 & x10\\\\\n",
       "\t\\hline\n",
       "\t& Int64 & Int64 & Int64 & Int64 & Int64 & Int64 & Int64 & Int64 & Int64 & Int64\\\\\n",
       "\t\\hline\n",
       "\t1 & 1 & 10 & 8 & 4 & 8 & 5 & 2 & 1 & 8 & 7 \\\\\n",
       "\t2 & 6 & 9 & 5 & 9 & 6 & 7 & 2 & 9 & 2 & 1 \\\\\n",
       "\t3 & 4 & 9 & 5 & 2 & 7 & 9 & 1 & 3 & 8 & 1 \\\\\n",
       "\\end{tabular}\n"
      ],
      "text/plain": [
       "3×10 DataFrame. Omitted printing of 1 columns\n",
       "│ Row │ x1    │ x2    │ x3    │ x4    │ x5    │ x6    │ x7    │ x8    │ x9    │\n",
       "│     │ \u001b[90mInt64\u001b[39m │ \u001b[90mInt64\u001b[39m │ \u001b[90mInt64\u001b[39m │ \u001b[90mInt64\u001b[39m │ \u001b[90mInt64\u001b[39m │ \u001b[90mInt64\u001b[39m │ \u001b[90mInt64\u001b[39m │ \u001b[90mInt64\u001b[39m │ \u001b[90mInt64\u001b[39m │\n",
       "├─────┼───────┼───────┼───────┼───────┼───────┼───────┼───────┼───────┼───────┤\n",
       "│ 1   │ 1     │ 10    │ 8     │ 4     │ 8     │ 5     │ 2     │ 1     │ 8     │\n",
       "│ 2   │ 6     │ 9     │ 5     │ 9     │ 6     │ 7     │ 2     │ 9     │ 2     │\n",
       "│ 3   │ 4     │ 9     │ 5     │ 2     │ 7     │ 9     │ 1     │ 3     │ 8     │"
      ]
     },
     "execution_count": 11,
     "metadata": {},
     "output_type": "execute_result"
    }
   ],
   "source": [
    "last(y, 3)"
   ]
  },
  {
   "cell_type": "markdown",
   "metadata": {},
   "source": [
    "Using `first` and `last` without number of rows will return a first/last `DataFrameRow` in the `DataFrame`"
   ]
  },
  {
   "cell_type": "code",
   "execution_count": 12,
   "metadata": {},
   "outputs": [
    {
     "data": {
      "text/html": [
       "<p>DataFrameRow (10 columns)</p><table class=\"data-frame\"><thead><tr><th></th><th>x1</th><th>x2</th><th>x3</th><th>x4</th><th>x5</th><th>x6</th><th>x7</th><th>x8</th><th>x9</th><th>x10</th></tr><tr><th></th><th>Int64</th><th>Int64</th><th>Int64</th><th>Int64</th><th>Int64</th><th>Int64</th><th>Int64</th><th>Int64</th><th>Int64</th><th>Int64</th></tr></thead><tbody><tr><th>1</th><td>9</td><td>9</td><td>7</td><td>2</td><td>6</td><td>8</td><td>4</td><td>7</td><td>6</td><td>4</td></tr></tbody></table>"
      ],
      "text/latex": [
       "\\begin{tabular}{r|cccccccccc}\n",
       "\t& x1 & x2 & x3 & x4 & x5 & x6 & x7 & x8 & x9 & x10\\\\\n",
       "\t\\hline\n",
       "\t& Int64 & Int64 & Int64 & Int64 & Int64 & Int64 & Int64 & Int64 & Int64 & Int64\\\\\n",
       "\t\\hline\n",
       "\t1 & 9 & 9 & 7 & 2 & 6 & 8 & 4 & 7 & 6 & 4 \\\\\n",
       "\\end{tabular}\n"
      ],
      "text/plain": [
       "DataFrameRow. Omitted printing of 1 columns\n",
       "│ Row │ x1    │ x2    │ x3    │ x4    │ x5    │ x6    │ x7    │ x8    │ x9    │\n",
       "│     │ \u001b[90mInt64\u001b[39m │ \u001b[90mInt64\u001b[39m │ \u001b[90mInt64\u001b[39m │ \u001b[90mInt64\u001b[39m │ \u001b[90mInt64\u001b[39m │ \u001b[90mInt64\u001b[39m │ \u001b[90mInt64\u001b[39m │ \u001b[90mInt64\u001b[39m │ \u001b[90mInt64\u001b[39m │\n",
       "├─────┼───────┼───────┼───────┼───────┼───────┼───────┼───────┼───────┼───────┤\n",
       "│ 1   │ 9     │ 9     │ 7     │ 2     │ 6     │ 8     │ 4     │ 7     │ 6     │"
      ]
     },
     "execution_count": 12,
     "metadata": {},
     "output_type": "execute_result"
    }
   ],
   "source": [
    "first(y)"
   ]
  },
  {
   "cell_type": "code",
   "execution_count": 13,
   "metadata": {},
   "outputs": [
    {
     "data": {
      "text/html": [
       "<p>DataFrameRow (10 columns)</p><table class=\"data-frame\"><thead><tr><th></th><th>x1</th><th>x2</th><th>x3</th><th>x4</th><th>x5</th><th>x6</th><th>x7</th><th>x8</th><th>x9</th><th>x10</th></tr><tr><th></th><th>Int64</th><th>Int64</th><th>Int64</th><th>Int64</th><th>Int64</th><th>Int64</th><th>Int64</th><th>Int64</th><th>Int64</th><th>Int64</th></tr></thead><tbody><tr><th>1000</th><td>4</td><td>9</td><td>5</td><td>2</td><td>7</td><td>9</td><td>1</td><td>3</td><td>8</td><td>1</td></tr></tbody></table>"
      ],
      "text/latex": [
       "\\begin{tabular}{r|cccccccccc}\n",
       "\t& x1 & x2 & x3 & x4 & x5 & x6 & x7 & x8 & x9 & x10\\\\\n",
       "\t\\hline\n",
       "\t& Int64 & Int64 & Int64 & Int64 & Int64 & Int64 & Int64 & Int64 & Int64 & Int64\\\\\n",
       "\t\\hline\n",
       "\t1000 & 4 & 9 & 5 & 2 & 7 & 9 & 1 & 3 & 8 & 1 \\\\\n",
       "\\end{tabular}\n"
      ],
      "text/plain": [
       "DataFrameRow. Omitted printing of 1 columns\n",
       "│ Row  │ x1    │ x2    │ x3    │ x4    │ x5    │ x6    │ x7    │ x8    │ x9    │\n",
       "│      │ \u001b[90mInt64\u001b[39m │ \u001b[90mInt64\u001b[39m │ \u001b[90mInt64\u001b[39m │ \u001b[90mInt64\u001b[39m │ \u001b[90mInt64\u001b[39m │ \u001b[90mInt64\u001b[39m │ \u001b[90mInt64\u001b[39m │ \u001b[90mInt64\u001b[39m │ \u001b[90mInt64\u001b[39m │\n",
       "├──────┼───────┼───────┼───────┼───────┼───────┼───────┼───────┼───────┼───────┤\n",
       "│ 1000 │ 4     │ 9     │ 5     │ 2     │ 7     │ 9     │ 1     │ 3     │ 8     │"
      ]
     },
     "execution_count": 13,
     "metadata": {},
     "output_type": "execute_result"
    }
   ],
   "source": [
    "last(y)"
   ]
  },
  {
   "cell_type": "markdown",
   "metadata": {},
   "source": [
    "### Most elementary get and set operations\n",
    "\n",
    "Given the `DataFrame`, `x`, here are four ways to grab one of its columns as a `Vector`."
   ]
  },
  {
   "cell_type": "code",
   "execution_count": 14,
   "metadata": {},
   "outputs": [
    {
     "data": {
      "text/html": [
       "<table class=\"data-frame\"><thead><tr><th></th><th>A</th><th>B</th><th>C</th></tr><tr><th></th><th>Int64</th><th>Float64⍰</th><th>String</th></tr></thead><tbody><p>2 rows × 3 columns</p><tr><th>1</th><td>1</td><td>1.0</td><td>a</td></tr><tr><th>2</th><td>2</td><td>missing</td><td>b</td></tr></tbody></table>"
      ],
      "text/latex": [
       "\\begin{tabular}{r|ccc}\n",
       "\t& A & B & C\\\\\n",
       "\t\\hline\n",
       "\t& Int64 & Float64⍰ & String\\\\\n",
       "\t\\hline\n",
       "\t1 & 1 & 1.0 & a \\\\\n",
       "\t2 & 2 &  & b \\\\\n",
       "\\end{tabular}\n"
      ],
      "text/plain": [
       "2×3 DataFrame\n",
       "│ Row │ A     │ B        │ C      │\n",
       "│     │ \u001b[90mInt64\u001b[39m │ \u001b[90mFloat64⍰\u001b[39m │ \u001b[90mString\u001b[39m │\n",
       "├─────┼───────┼──────────┼────────┤\n",
       "│ 1   │ 1     │ 1.0      │ a      │\n",
       "│ 2   │ 2     │ \u001b[90mmissing\u001b[39m  │ b      │"
      ]
     },
     "execution_count": 14,
     "metadata": {},
     "output_type": "execute_result"
    }
   ],
   "source": [
    "x"
   ]
  },
  {
   "cell_type": "code",
   "execution_count": 15,
   "metadata": {},
   "outputs": [
    {
     "data": {
      "text/plain": [
       "([1, 2], [1, 2], [1, 2])"
      ]
     },
     "execution_count": 15,
     "metadata": {},
     "output_type": "execute_result"
    }
   ],
   "source": [
    "x.A, x[!, 1], x[!, :A] # all get the vector stored in our DataFrame without copying it"
   ]
  },
  {
   "cell_type": "code",
   "execution_count": 16,
   "metadata": {},
   "outputs": [
    {
     "data": {
      "text/plain": [
       "2-element Array{Int64,1}:\n",
       " 1\n",
       " 2"
      ]
     },
     "execution_count": 16,
     "metadata": {},
     "output_type": "execute_result"
    }
   ],
   "source": [
    "x[:, 1] # note that this creates a copy"
   ]
  },
  {
   "cell_type": "code",
   "execution_count": 17,
   "metadata": {},
   "outputs": [
    {
     "data": {
      "text/plain": [
       "false"
      ]
     },
     "execution_count": 17,
     "metadata": {},
     "output_type": "execute_result"
    }
   ],
   "source": [
    "x[:, 1] === x[:, 1]"
   ]
  },
  {
   "cell_type": "markdown",
   "metadata": {},
   "source": [
    "To grab one row as a `DataFrame`, we can index as follows."
   ]
  },
  {
   "cell_type": "code",
   "execution_count": 18,
   "metadata": {},
   "outputs": [
    {
     "data": {
      "text/html": [
       "<table class=\"data-frame\"><thead><tr><th></th><th>A</th><th>B</th><th>C</th></tr><tr><th></th><th>Int64</th><th>Float64⍰</th><th>String</th></tr></thead><tbody><p>1 rows × 3 columns</p><tr><th>1</th><td>1</td><td>1.0</td><td>a</td></tr></tbody></table>"
      ],
      "text/latex": [
       "\\begin{tabular}{r|ccc}\n",
       "\t& A & B & C\\\\\n",
       "\t\\hline\n",
       "\t& Int64 & Float64⍰ & String\\\\\n",
       "\t\\hline\n",
       "\t1 & 1 & 1.0 & a \\\\\n",
       "\\end{tabular}\n"
      ],
      "text/plain": [
       "1×3 DataFrame\n",
       "│ Row │ A     │ B        │ C      │\n",
       "│     │ \u001b[90mInt64\u001b[39m │ \u001b[90mFloat64⍰\u001b[39m │ \u001b[90mString\u001b[39m │\n",
       "├─────┼───────┼──────────┼────────┤\n",
       "│ 1   │ 1     │ 1.0      │ a      │"
      ]
     },
     "execution_count": 18,
     "metadata": {},
     "output_type": "execute_result"
    }
   ],
   "source": [
    "x[1:1, :]"
   ]
  },
  {
   "cell_type": "code",
   "execution_count": 19,
   "metadata": {},
   "outputs": [
    {
     "data": {
      "text/html": [
       "<p>DataFrameRow (3 columns)</p><table class=\"data-frame\"><thead><tr><th></th><th>A</th><th>B</th><th>C</th></tr><tr><th></th><th>Int64</th><th>Float64⍰</th><th>String</th></tr></thead><tbody><tr><th>1</th><td>1</td><td>1.0</td><td>a</td></tr></tbody></table>"
      ],
      "text/latex": [
       "\\begin{tabular}{r|ccc}\n",
       "\t& A & B & C\\\\\n",
       "\t\\hline\n",
       "\t& Int64 & Float64⍰ & String\\\\\n",
       "\t\\hline\n",
       "\t1 & 1 & 1.0 & a \\\\\n",
       "\\end{tabular}\n"
      ],
      "text/plain": [
       "DataFrameRow\n",
       "│ Row │ A     │ B        │ C      │\n",
       "│     │ \u001b[90mInt64\u001b[39m │ \u001b[90mFloat64⍰\u001b[39m │ \u001b[90mString\u001b[39m │\n",
       "├─────┼───────┼──────────┼────────┤\n",
       "│ 1   │ 1     │ 1.0      │ a      │"
      ]
     },
     "execution_count": 19,
     "metadata": {},
     "output_type": "execute_result"
    }
   ],
   "source": [
    "x[1, :] # this produces a DataFrameRow which is treated as 1-dimensional object"
   ]
  },
  {
   "cell_type": "markdown",
   "metadata": {},
   "source": [
    "We can grab a single cell or element with the same syntax to grab an element of an array."
   ]
  },
  {
   "cell_type": "code",
   "execution_count": 20,
   "metadata": {},
   "outputs": [
    {
     "data": {
      "text/plain": [
       "1"
      ]
     },
     "execution_count": 20,
     "metadata": {},
     "output_type": "execute_result"
    }
   ],
   "source": [
    "x[1, 1]"
   ]
  },
  {
   "cell_type": "markdown",
   "metadata": {},
   "source": [
    "or a new `DataFrame` that is a subset of rows and columns"
   ]
  },
  {
   "cell_type": "code",
   "execution_count": 21,
   "metadata": {},
   "outputs": [
    {
     "data": {
      "text/html": [
       "<table class=\"data-frame\"><thead><tr><th></th><th>A</th><th>B</th></tr><tr><th></th><th>Int64</th><th>Float64⍰</th></tr></thead><tbody><p>2 rows × 2 columns</p><tr><th>1</th><td>1</td><td>1.0</td></tr><tr><th>2</th><td>2</td><td>missing</td></tr></tbody></table>"
      ],
      "text/latex": [
       "\\begin{tabular}{r|cc}\n",
       "\t& A & B\\\\\n",
       "\t\\hline\n",
       "\t& Int64 & Float64⍰\\\\\n",
       "\t\\hline\n",
       "\t1 & 1 & 1.0 \\\\\n",
       "\t2 & 2 &  \\\\\n",
       "\\end{tabular}\n"
      ],
      "text/plain": [
       "2×2 DataFrame\n",
       "│ Row │ A     │ B        │\n",
       "│     │ \u001b[90mInt64\u001b[39m │ \u001b[90mFloat64⍰\u001b[39m │\n",
       "├─────┼───────┼──────────┤\n",
       "│ 1   │ 1     │ 1.0      │\n",
       "│ 2   │ 2     │ \u001b[90mmissing\u001b[39m  │"
      ]
     },
     "execution_count": 21,
     "metadata": {},
     "output_type": "execute_result"
    }
   ],
   "source": [
    "x[1:2, 1:2]"
   ]
  },
  {
   "cell_type": "markdown",
   "metadata": {},
   "source": [
    "You can also use `Regex` to select columns and `Not` from InvertedIndices.jl both to select rows and columns"
   ]
  },
  {
   "cell_type": "code",
   "execution_count": 22,
   "metadata": {},
   "outputs": [
    {
     "data": {
      "text/html": [
       "<table class=\"data-frame\"><thead><tr><th></th><th>A</th></tr><tr><th></th><th>Int64</th></tr></thead><tbody><p>1 rows × 1 columns</p><tr><th>1</th><td>2</td></tr></tbody></table>"
      ],
      "text/latex": [
       "\\begin{tabular}{r|c}\n",
       "\t& A\\\\\n",
       "\t\\hline\n",
       "\t& Int64\\\\\n",
       "\t\\hline\n",
       "\t1 & 2 \\\\\n",
       "\\end{tabular}\n"
      ],
      "text/plain": [
       "1×1 DataFrame\n",
       "│ Row │ A     │\n",
       "│     │ \u001b[90mInt64\u001b[39m │\n",
       "├─────┼───────┤\n",
       "│ 1   │ 2     │"
      ]
     },
     "execution_count": 22,
     "metadata": {},
     "output_type": "execute_result"
    }
   ],
   "source": [
    "x[Not(1), r\"A\"]"
   ]
  },
  {
   "cell_type": "code",
   "execution_count": 23,
   "metadata": {},
   "outputs": [
    {
     "data": {
      "text/html": [
       "<table class=\"data-frame\"><thead><tr><th></th><th>B</th><th>C</th></tr><tr><th></th><th>Float64⍰</th><th>String</th></tr></thead><tbody><p>2 rows × 2 columns</p><tr><th>1</th><td>1.0</td><td>a</td></tr><tr><th>2</th><td>missing</td><td>b</td></tr></tbody></table>"
      ],
      "text/latex": [
       "\\begin{tabular}{r|cc}\n",
       "\t& B & C\\\\\n",
       "\t\\hline\n",
       "\t& Float64⍰ & String\\\\\n",
       "\t\\hline\n",
       "\t1 & 1.0 & a \\\\\n",
       "\t2 &  & b \\\\\n",
       "\\end{tabular}\n"
      ],
      "text/plain": [
       "2×2 DataFrame\n",
       "│ Row │ B        │ C      │\n",
       "│     │ \u001b[90mFloat64⍰\u001b[39m │ \u001b[90mString\u001b[39m │\n",
       "├─────┼──────────┼────────┤\n",
       "│ 1   │ 1.0      │ a      │\n",
       "│ 2   │ \u001b[90mmissing\u001b[39m  │ b      │"
      ]
     },
     "execution_count": 23,
     "metadata": {},
     "output_type": "execute_result"
    }
   ],
   "source": [
    "x[!, Not(1)] # ! indicates that underlying columns are not copied"
   ]
  },
  {
   "cell_type": "code",
   "execution_count": 24,
   "metadata": {},
   "outputs": [
    {
     "data": {
      "text/html": [
       "<table class=\"data-frame\"><thead><tr><th></th><th>B</th><th>C</th></tr><tr><th></th><th>Float64⍰</th><th>String</th></tr></thead><tbody><p>2 rows × 2 columns</p><tr><th>1</th><td>1.0</td><td>a</td></tr><tr><th>2</th><td>missing</td><td>b</td></tr></tbody></table>"
      ],
      "text/latex": [
       "\\begin{tabular}{r|cc}\n",
       "\t& B & C\\\\\n",
       "\t\\hline\n",
       "\t& Float64⍰ & String\\\\\n",
       "\t\\hline\n",
       "\t1 & 1.0 & a \\\\\n",
       "\t2 &  & b \\\\\n",
       "\\end{tabular}\n"
      ],
      "text/plain": [
       "2×2 DataFrame\n",
       "│ Row │ B        │ C      │\n",
       "│     │ \u001b[90mFloat64⍰\u001b[39m │ \u001b[90mString\u001b[39m │\n",
       "├─────┼──────────┼────────┤\n",
       "│ 1   │ 1.0      │ a      │\n",
       "│ 2   │ \u001b[90mmissing\u001b[39m  │ b      │"
      ]
     },
     "execution_count": 24,
     "metadata": {},
     "output_type": "execute_result"
    }
   ],
   "source": [
    "x[:, Not(1)] # : means that the columns will get copied"
   ]
  },
  {
   "cell_type": "markdown",
   "metadata": {},
   "source": [
    "Assignment of a scalar to a data frame can be done in ranges using broadcasting:"
   ]
  },
  {
   "cell_type": "code",
   "execution_count": 25,
   "metadata": {},
   "outputs": [
    {
     "data": {
      "text/html": [
       "<table class=\"data-frame\"><thead><tr><th></th><th>A</th><th>B</th><th>C</th></tr><tr><th></th><th>Int64</th><th>Float64⍰</th><th>String</th></tr></thead><tbody><p>2 rows × 3 columns</p><tr><th>1</th><td>1</td><td>1.0</td><td>a</td></tr><tr><th>2</th><td>1</td><td>1.0</td><td>b</td></tr></tbody></table>"
      ],
      "text/latex": [
       "\\begin{tabular}{r|ccc}\n",
       "\t& A & B & C\\\\\n",
       "\t\\hline\n",
       "\t& Int64 & Float64⍰ & String\\\\\n",
       "\t\\hline\n",
       "\t1 & 1 & 1.0 & a \\\\\n",
       "\t2 & 1 & 1.0 & b \\\\\n",
       "\\end{tabular}\n"
      ],
      "text/plain": [
       "2×3 DataFrame\n",
       "│ Row │ A     │ B        │ C      │\n",
       "│     │ \u001b[90mInt64\u001b[39m │ \u001b[90mFloat64⍰\u001b[39m │ \u001b[90mString\u001b[39m │\n",
       "├─────┼───────┼──────────┼────────┤\n",
       "│ 1   │ 1     │ 1.0      │ a      │\n",
       "│ 2   │ 1     │ 1.0      │ b      │"
      ]
     },
     "execution_count": 25,
     "metadata": {},
     "output_type": "execute_result"
    }
   ],
   "source": [
    "x[1:2, 1:2] .= 1\n",
    "x"
   ]
  },
  {
   "cell_type": "markdown",
   "metadata": {},
   "source": [
    "of a vector of length equal to the number of assigned rows using broadcasting"
   ]
  },
  {
   "cell_type": "code",
   "execution_count": 26,
   "metadata": {},
   "outputs": [
    {
     "data": {
      "text/html": [
       "<table class=\"data-frame\"><thead><tr><th></th><th>A</th><th>B</th><th>C</th></tr><tr><th></th><th>Int64</th><th>Float64⍰</th><th>String</th></tr></thead><tbody><p>2 rows × 3 columns</p><tr><th>1</th><td>1</td><td>1.0</td><td>a</td></tr><tr><th>2</th><td>2</td><td>2.0</td><td>b</td></tr></tbody></table>"
      ],
      "text/latex": [
       "\\begin{tabular}{r|ccc}\n",
       "\t& A & B & C\\\\\n",
       "\t\\hline\n",
       "\t& Int64 & Float64⍰ & String\\\\\n",
       "\t\\hline\n",
       "\t1 & 1 & 1.0 & a \\\\\n",
       "\t2 & 2 & 2.0 & b \\\\\n",
       "\\end{tabular}\n"
      ],
      "text/plain": [
       "2×3 DataFrame\n",
       "│ Row │ A     │ B        │ C      │\n",
       "│     │ \u001b[90mInt64\u001b[39m │ \u001b[90mFloat64⍰\u001b[39m │ \u001b[90mString\u001b[39m │\n",
       "├─────┼───────┼──────────┼────────┤\n",
       "│ 1   │ 1     │ 1.0      │ a      │\n",
       "│ 2   │ 2     │ 2.0      │ b      │"
      ]
     },
     "execution_count": 26,
     "metadata": {},
     "output_type": "execute_result"
    }
   ],
   "source": [
    "x[1:2, 1:2] .= [1,2]\n",
    "x"
   ]
  },
  {
   "cell_type": "markdown",
   "metadata": {},
   "source": [
    "or of another data frame of matching size and column names, again using broadcasting:"
   ]
  },
  {
   "cell_type": "code",
   "execution_count": 27,
   "metadata": {},
   "outputs": [
    {
     "data": {
      "text/html": [
       "<table class=\"data-frame\"><thead><tr><th></th><th>A</th><th>B</th><th>C</th></tr><tr><th></th><th>Int64</th><th>Float64⍰</th><th>String</th></tr></thead><tbody><p>2 rows × 3 columns</p><tr><th>1</th><td>5</td><td>6.0</td><td>a</td></tr><tr><th>2</th><td>7</td><td>8.0</td><td>b</td></tr></tbody></table>"
      ],
      "text/latex": [
       "\\begin{tabular}{r|ccc}\n",
       "\t& A & B & C\\\\\n",
       "\t\\hline\n",
       "\t& Int64 & Float64⍰ & String\\\\\n",
       "\t\\hline\n",
       "\t1 & 5 & 6.0 & a \\\\\n",
       "\t2 & 7 & 8.0 & b \\\\\n",
       "\\end{tabular}\n"
      ],
      "text/plain": [
       "2×3 DataFrame\n",
       "│ Row │ A     │ B        │ C      │\n",
       "│     │ \u001b[90mInt64\u001b[39m │ \u001b[90mFloat64⍰\u001b[39m │ \u001b[90mString\u001b[39m │\n",
       "├─────┼───────┼──────────┼────────┤\n",
       "│ 1   │ 5     │ 6.0      │ a      │\n",
       "│ 2   │ 7     │ 8.0      │ b      │"
      ]
     },
     "execution_count": 27,
     "metadata": {},
     "output_type": "execute_result"
    }
   ],
   "source": [
    "x[1:2, 1:2] .= DataFrame([5 6; 7 8], [:A, :B])\n",
    "x"
   ]
  },
  {
   "cell_type": "markdown",
   "metadata": {},
   "source": [
    "**Caution**\n",
    "\n",
    "With `df[!, :col]` and `df.col` syntax you get a direct (non copying) access to a column of a data frame.\n",
    "This is potentially unsafe as you can easily corrupt data in the `df` data frame if you resize, sort, etc. the column obtained in this way.\n",
    "Therefore such access should be used with caution.\n",
    "\n",
    "Similarly `df[!, cols]` when `cols` is a collection of columns produces a new data frame that holds the same (not copied) columns as the source `df` data frame. Similarly, modifying the data frame obtained via `df[!, cols]` might cause problems with the consistency of `df`.\n",
    "\n",
    "The `df[:, :col]` and `df[:, cols]` syntaxes always copy columns so they are safe to use (and should generally be preferred except for performance or memory critical use cases)."
   ]
  },
  {
   "cell_type": "markdown",
   "metadata": {},
   "source": [
    "Here are examples how `All` and `Between` can be used to select columns of a data frame."
   ]
  },
  {
   "cell_type": "code",
   "execution_count": 28,
   "metadata": {},
   "outputs": [
    {
     "data": {
      "text/html": [
       "<table class=\"data-frame\"><thead><tr><th></th><th>x1</th><th>x2</th><th>x3</th><th>x4</th><th>x5</th></tr><tr><th></th><th>Float64</th><th>Float64</th><th>Float64</th><th>Float64</th><th>Float64</th></tr></thead><tbody><p>4 rows × 5 columns</p><tr><th>1</th><td>0.426871</td><td>0.10897</td><td>0.710206</td><td>0.747045</td><td>0.152879</td></tr><tr><th>2</th><td>0.249029</td><td>0.585346</td><td>0.505378</td><td>0.169015</td><td>0.659107</td></tr><tr><th>3</th><td>0.440217</td><td>0.839767</td><td>0.25593</td><td>0.320813</td><td>0.814509</td></tr><tr><th>4</th><td>0.545513</td><td>0.543456</td><td>0.853746</td><td>0.70251</td><td>0.274569</td></tr></tbody></table>"
      ],
      "text/latex": [
       "\\begin{tabular}{r|ccccc}\n",
       "\t& x1 & x2 & x3 & x4 & x5\\\\\n",
       "\t\\hline\n",
       "\t& Float64 & Float64 & Float64 & Float64 & Float64\\\\\n",
       "\t\\hline\n",
       "\t1 & 0.426871 & 0.10897 & 0.710206 & 0.747045 & 0.152879 \\\\\n",
       "\t2 & 0.249029 & 0.585346 & 0.505378 & 0.169015 & 0.659107 \\\\\n",
       "\t3 & 0.440217 & 0.839767 & 0.25593 & 0.320813 & 0.814509 \\\\\n",
       "\t4 & 0.545513 & 0.543456 & 0.853746 & 0.70251 & 0.274569 \\\\\n",
       "\\end{tabular}\n"
      ],
      "text/plain": [
       "4×5 DataFrame\n",
       "│ Row │ x1       │ x2       │ x3       │ x4       │ x5       │\n",
       "│     │ \u001b[90mFloat64\u001b[39m  │ \u001b[90mFloat64\u001b[39m  │ \u001b[90mFloat64\u001b[39m  │ \u001b[90mFloat64\u001b[39m  │ \u001b[90mFloat64\u001b[39m  │\n",
       "├─────┼──────────┼──────────┼──────────┼──────────┼──────────┤\n",
       "│ 1   │ 0.426871 │ 0.10897  │ 0.710206 │ 0.747045 │ 0.152879 │\n",
       "│ 2   │ 0.249029 │ 0.585346 │ 0.505378 │ 0.169015 │ 0.659107 │\n",
       "│ 3   │ 0.440217 │ 0.839767 │ 0.25593  │ 0.320813 │ 0.814509 │\n",
       "│ 4   │ 0.545513 │ 0.543456 │ 0.853746 │ 0.70251  │ 0.274569 │"
      ]
     },
     "execution_count": 28,
     "metadata": {},
     "output_type": "execute_result"
    }
   ],
   "source": [
    "x = DataFrame(rand(4, 5))"
   ]
  },
  {
   "cell_type": "code",
   "execution_count": 29,
   "metadata": {},
   "outputs": [
    {
     "data": {
      "text/html": [
       "<table class=\"data-frame\"><thead><tr><th></th><th>x2</th><th>x3</th><th>x4</th></tr><tr><th></th><th>Float64</th><th>Float64</th><th>Float64</th></tr></thead><tbody><p>4 rows × 3 columns</p><tr><th>1</th><td>0.10897</td><td>0.710206</td><td>0.747045</td></tr><tr><th>2</th><td>0.585346</td><td>0.505378</td><td>0.169015</td></tr><tr><th>3</th><td>0.839767</td><td>0.25593</td><td>0.320813</td></tr><tr><th>4</th><td>0.543456</td><td>0.853746</td><td>0.70251</td></tr></tbody></table>"
      ],
      "text/latex": [
       "\\begin{tabular}{r|ccc}\n",
       "\t& x2 & x3 & x4\\\\\n",
       "\t\\hline\n",
       "\t& Float64 & Float64 & Float64\\\\\n",
       "\t\\hline\n",
       "\t1 & 0.10897 & 0.710206 & 0.747045 \\\\\n",
       "\t2 & 0.585346 & 0.505378 & 0.169015 \\\\\n",
       "\t3 & 0.839767 & 0.25593 & 0.320813 \\\\\n",
       "\t4 & 0.543456 & 0.853746 & 0.70251 \\\\\n",
       "\\end{tabular}\n"
      ],
      "text/plain": [
       "4×3 DataFrame\n",
       "│ Row │ x2       │ x3       │ x4       │\n",
       "│     │ \u001b[90mFloat64\u001b[39m  │ \u001b[90mFloat64\u001b[39m  │ \u001b[90mFloat64\u001b[39m  │\n",
       "├─────┼──────────┼──────────┼──────────┤\n",
       "│ 1   │ 0.10897  │ 0.710206 │ 0.747045 │\n",
       "│ 2   │ 0.585346 │ 0.505378 │ 0.169015 │\n",
       "│ 3   │ 0.839767 │ 0.25593  │ 0.320813 │\n",
       "│ 4   │ 0.543456 │ 0.853746 │ 0.70251  │"
      ]
     },
     "execution_count": 29,
     "metadata": {},
     "output_type": "execute_result"
    }
   ],
   "source": [
    "x[:, Between(:x2, :x4)]"
   ]
  },
  {
   "cell_type": "code",
   "execution_count": 30,
   "metadata": {},
   "outputs": [
    {
     "data": {
      "text/html": [
       "<table class=\"data-frame\"><thead><tr><th></th><th>x1</th><th>x2</th><th>x3</th><th>x4</th></tr><tr><th></th><th>Float64</th><th>Float64</th><th>Float64</th><th>Float64</th></tr></thead><tbody><p>4 rows × 4 columns</p><tr><th>1</th><td>0.426871</td><td>0.10897</td><td>0.710206</td><td>0.747045</td></tr><tr><th>2</th><td>0.249029</td><td>0.585346</td><td>0.505378</td><td>0.169015</td></tr><tr><th>3</th><td>0.440217</td><td>0.839767</td><td>0.25593</td><td>0.320813</td></tr><tr><th>4</th><td>0.545513</td><td>0.543456</td><td>0.853746</td><td>0.70251</td></tr></tbody></table>"
      ],
      "text/latex": [
       "\\begin{tabular}{r|cccc}\n",
       "\t& x1 & x2 & x3 & x4\\\\\n",
       "\t\\hline\n",
       "\t& Float64 & Float64 & Float64 & Float64\\\\\n",
       "\t\\hline\n",
       "\t1 & 0.426871 & 0.10897 & 0.710206 & 0.747045 \\\\\n",
       "\t2 & 0.249029 & 0.585346 & 0.505378 & 0.169015 \\\\\n",
       "\t3 & 0.440217 & 0.839767 & 0.25593 & 0.320813 \\\\\n",
       "\t4 & 0.545513 & 0.543456 & 0.853746 & 0.70251 \\\\\n",
       "\\end{tabular}\n"
      ],
      "text/plain": [
       "4×4 DataFrame\n",
       "│ Row │ x1       │ x2       │ x3       │ x4       │\n",
       "│     │ \u001b[90mFloat64\u001b[39m  │ \u001b[90mFloat64\u001b[39m  │ \u001b[90mFloat64\u001b[39m  │ \u001b[90mFloat64\u001b[39m  │\n",
       "├─────┼──────────┼──────────┼──────────┼──────────┤\n",
       "│ 1   │ 0.426871 │ 0.10897  │ 0.710206 │ 0.747045 │\n",
       "│ 2   │ 0.249029 │ 0.585346 │ 0.505378 │ 0.169015 │\n",
       "│ 3   │ 0.440217 │ 0.839767 │ 0.25593  │ 0.320813 │\n",
       "│ 4   │ 0.545513 │ 0.543456 │ 0.853746 │ 0.70251  │"
      ]
     },
     "execution_count": 30,
     "metadata": {},
     "output_type": "execute_result"
    }
   ],
   "source": [
    "x[:, All(:x1, Between(:x2, :x4))]"
   ]
  },
  {
   "cell_type": "markdown",
   "metadata": {},
   "source": [
    "### Views"
   ]
  },
  {
   "cell_type": "markdown",
   "metadata": {},
   "source": [
    "You can simply create a view of a `DataFrame` (it is more efficient than creating a materialized selection). Here are the possible return value options."
   ]
  },
  {
   "cell_type": "code",
   "execution_count": 31,
   "metadata": {},
   "outputs": [
    {
     "data": {
      "text/plain": [
       "2-element view(::Array{Float64,1}, 1:2) with eltype Float64:\n",
       " 0.4268714219181624 \n",
       " 0.24902935025645445"
      ]
     },
     "execution_count": 31,
     "metadata": {},
     "output_type": "execute_result"
    }
   ],
   "source": [
    "@view x[1:2, 1]"
   ]
  },
  {
   "cell_type": "code",
   "execution_count": 32,
   "metadata": {},
   "outputs": [
    {
     "data": {
      "text/plain": [
       "0-dimensional view(::Array{Float64,1}, 1) with eltype Float64:\n",
       "0.4268714219181624"
      ]
     },
     "execution_count": 32,
     "metadata": {},
     "output_type": "execute_result"
    }
   ],
   "source": [
    "@view x[1,1]"
   ]
  },
  {
   "cell_type": "code",
   "execution_count": 33,
   "metadata": {},
   "outputs": [
    {
     "data": {
      "text/html": [
       "<p>DataFrameRow (2 columns)</p><table class=\"data-frame\"><thead><tr><th></th><th>x1</th><th>x2</th></tr><tr><th></th><th>Float64</th><th>Float64</th></tr></thead><tbody><tr><th>1</th><td>0.426871</td><td>0.10897</td></tr></tbody></table>"
      ],
      "text/latex": [
       "\\begin{tabular}{r|cc}\n",
       "\t& x1 & x2\\\\\n",
       "\t\\hline\n",
       "\t& Float64 & Float64\\\\\n",
       "\t\\hline\n",
       "\t1 & 0.426871 & 0.10897 \\\\\n",
       "\\end{tabular}\n"
      ],
      "text/plain": [
       "DataFrameRow\n",
       "│ Row │ x1       │ x2      │\n",
       "│     │ \u001b[90mFloat64\u001b[39m  │ \u001b[90mFloat64\u001b[39m │\n",
       "├─────┼──────────┼─────────┤\n",
       "│ 1   │ 0.426871 │ 0.10897 │"
      ]
     },
     "execution_count": 33,
     "metadata": {},
     "output_type": "execute_result"
    }
   ],
   "source": [
    "@view x[1, 1:2] # a DataFrameRow, the same as for x[1, 1:2] without a view"
   ]
  },
  {
   "cell_type": "code",
   "execution_count": 34,
   "metadata": {},
   "outputs": [
    {
     "data": {
      "text/html": [
       "<table class=\"data-frame\"><thead><tr><th></th><th>x1</th><th>x2</th></tr><tr><th></th><th>Float64</th><th>Float64</th></tr></thead><tbody><p>2 rows × 2 columns</p><tr><th>1</th><td>0.426871</td><td>0.10897</td></tr><tr><th>2</th><td>0.249029</td><td>0.585346</td></tr></tbody></table>"
      ],
      "text/latex": [
       "\\begin{tabular}{r|cc}\n",
       "\t& x1 & x2\\\\\n",
       "\t\\hline\n",
       "\t& Float64 & Float64\\\\\n",
       "\t\\hline\n",
       "\t1 & 0.426871 & 0.10897 \\\\\n",
       "\t2 & 0.249029 & 0.585346 \\\\\n",
       "\\end{tabular}\n"
      ],
      "text/plain": [
       "2×2 SubDataFrame\n",
       "│ Row │ x1       │ x2       │\n",
       "│     │ \u001b[90mFloat64\u001b[39m  │ \u001b[90mFloat64\u001b[39m  │\n",
       "├─────┼──────────┼──────────┤\n",
       "│ 1   │ 0.426871 │ 0.10897  │\n",
       "│ 2   │ 0.249029 │ 0.585346 │"
      ]
     },
     "execution_count": 34,
     "metadata": {},
     "output_type": "execute_result"
    }
   ],
   "source": [
    "@view x[1:2, 1:2] # a SubDataFrame"
   ]
  },
  {
   "cell_type": "markdown",
   "metadata": {},
   "source": [
    "### Adding new columns to a data frame"
   ]
  },
  {
   "cell_type": "code",
   "execution_count": 35,
   "metadata": {},
   "outputs": [
    {
     "data": {
      "text/html": [
       "<table class=\"data-frame\"><thead><tr><th></th></tr><tr><th></th></tr></thead><tbody><p>0 rows × 0 columns</p></tbody></table>"
      ],
      "text/latex": [
       "\\begin{tabular}{r|}\n",
       "\t& \\\\\n",
       "\t\\hline\n",
       "\t& \\\\\n",
       "\t\\hline\n",
       "\\end{tabular}\n"
      ],
      "text/plain": [
       "0×0 DataFrame\n"
      ]
     },
     "execution_count": 35,
     "metadata": {},
     "output_type": "execute_result"
    }
   ],
   "source": [
    "df = DataFrame()"
   ]
  },
  {
   "cell_type": "markdown",
   "metadata": {},
   "source": [
    "using `setproperty!`"
   ]
  },
  {
   "cell_type": "code",
   "execution_count": 36,
   "metadata": {},
   "outputs": [
    {
     "data": {
      "text/html": [
       "<table class=\"data-frame\"><thead><tr><th></th><th>a</th></tr><tr><th></th><th>Int64</th></tr></thead><tbody><p>3 rows × 1 columns</p><tr><th>1</th><td>1</td></tr><tr><th>2</th><td>2</td></tr><tr><th>3</th><td>3</td></tr></tbody></table>"
      ],
      "text/latex": [
       "\\begin{tabular}{r|c}\n",
       "\t& a\\\\\n",
       "\t\\hline\n",
       "\t& Int64\\\\\n",
       "\t\\hline\n",
       "\t1 & 1 \\\\\n",
       "\t2 & 2 \\\\\n",
       "\t3 & 3 \\\\\n",
       "\\end{tabular}\n"
      ],
      "text/plain": [
       "3×1 DataFrame\n",
       "│ Row │ a     │\n",
       "│     │ \u001b[90mInt64\u001b[39m │\n",
       "├─────┼───────┤\n",
       "│ 1   │ 1     │\n",
       "│ 2   │ 2     │\n",
       "│ 3   │ 3     │"
      ]
     },
     "execution_count": 36,
     "metadata": {},
     "output_type": "execute_result"
    }
   ],
   "source": [
    "x = [1, 2, 3]\n",
    "df.a = x\n",
    "df"
   ]
  },
  {
   "cell_type": "code",
   "execution_count": 37,
   "metadata": {},
   "outputs": [
    {
     "data": {
      "text/plain": [
       "true"
      ]
     },
     "execution_count": 37,
     "metadata": {},
     "output_type": "execute_result"
    }
   ],
   "source": [
    "df.a === x # no copy is performed"
   ]
  },
  {
   "cell_type": "markdown",
   "metadata": {},
   "source": [
    "using `setindex!`"
   ]
  },
  {
   "cell_type": "code",
   "execution_count": 38,
   "metadata": {},
   "outputs": [
    {
     "data": {
      "text/html": [
       "<table class=\"data-frame\"><thead><tr><th></th><th>a</th><th>b</th><th>c</th></tr><tr><th></th><th>Int64</th><th>Int64</th><th>Int64</th></tr></thead><tbody><p>3 rows × 3 columns</p><tr><th>1</th><td>1</td><td>1</td><td>1</td></tr><tr><th>2</th><td>2</td><td>2</td><td>2</td></tr><tr><th>3</th><td>3</td><td>3</td><td>3</td></tr></tbody></table>"
      ],
      "text/latex": [
       "\\begin{tabular}{r|ccc}\n",
       "\t& a & b & c\\\\\n",
       "\t\\hline\n",
       "\t& Int64 & Int64 & Int64\\\\\n",
       "\t\\hline\n",
       "\t1 & 1 & 1 & 1 \\\\\n",
       "\t2 & 2 & 2 & 2 \\\\\n",
       "\t3 & 3 & 3 & 3 \\\\\n",
       "\\end{tabular}\n"
      ],
      "text/plain": [
       "3×3 DataFrame\n",
       "│ Row │ a     │ b     │ c     │\n",
       "│     │ \u001b[90mInt64\u001b[39m │ \u001b[90mInt64\u001b[39m │ \u001b[90mInt64\u001b[39m │\n",
       "├─────┼───────┼───────┼───────┤\n",
       "│ 1   │ 1     │ 1     │ 1     │\n",
       "│ 2   │ 2     │ 2     │ 2     │\n",
       "│ 3   │ 3     │ 3     │ 3     │"
      ]
     },
     "execution_count": 38,
     "metadata": {},
     "output_type": "execute_result"
    }
   ],
   "source": [
    "df[!, :b] = x\n",
    "df[:, :c] = x\n",
    "df"
   ]
  },
  {
   "cell_type": "code",
   "execution_count": 39,
   "metadata": {},
   "outputs": [
    {
     "data": {
      "text/plain": [
       "true"
      ]
     },
     "execution_count": 39,
     "metadata": {},
     "output_type": "execute_result"
    }
   ],
   "source": [
    "df.b === x # no copy"
   ]
  },
  {
   "cell_type": "code",
   "execution_count": 40,
   "metadata": {},
   "outputs": [
    {
     "data": {
      "text/plain": [
       "false"
      ]
     },
     "execution_count": 40,
     "metadata": {},
     "output_type": "execute_result"
    }
   ],
   "source": [
    "df.c === x # copy"
   ]
  },
  {
   "cell_type": "code",
   "execution_count": 41,
   "metadata": {},
   "outputs": [
    {
     "data": {
      "text/html": [
       "<table class=\"data-frame\"><thead><tr><th></th><th>a</th><th>b</th><th>c</th><th>d</th><th>e</th></tr><tr><th></th><th>Int64</th><th>Int64</th><th>Int64</th><th>Int64</th><th>Int64</th></tr></thead><tbody><p>3 rows × 5 columns</p><tr><th>1</th><td>1</td><td>1</td><td>1</td><td>1</td><td>1</td></tr><tr><th>2</th><td>2</td><td>2</td><td>2</td><td>2</td><td>2</td></tr><tr><th>3</th><td>3</td><td>3</td><td>3</td><td>3</td><td>3</td></tr></tbody></table>"
      ],
      "text/latex": [
       "\\begin{tabular}{r|ccccc}\n",
       "\t& a & b & c & d & e\\\\\n",
       "\t\\hline\n",
       "\t& Int64 & Int64 & Int64 & Int64 & Int64\\\\\n",
       "\t\\hline\n",
       "\t1 & 1 & 1 & 1 & 1 & 1 \\\\\n",
       "\t2 & 2 & 2 & 2 & 2 & 2 \\\\\n",
       "\t3 & 3 & 3 & 3 & 3 & 3 \\\\\n",
       "\\end{tabular}\n"
      ],
      "text/plain": [
       "3×5 DataFrame\n",
       "│ Row │ a     │ b     │ c     │ d     │ e     │\n",
       "│     │ \u001b[90mInt64\u001b[39m │ \u001b[90mInt64\u001b[39m │ \u001b[90mInt64\u001b[39m │ \u001b[90mInt64\u001b[39m │ \u001b[90mInt64\u001b[39m │\n",
       "├─────┼───────┼───────┼───────┼───────┼───────┤\n",
       "│ 1   │ 1     │ 1     │ 1     │ 1     │ 1     │\n",
       "│ 2   │ 2     │ 2     │ 2     │ 2     │ 2     │\n",
       "│ 3   │ 3     │ 3     │ 3     │ 3     │ 3     │"
      ]
     },
     "execution_count": 41,
     "metadata": {},
     "output_type": "execute_result"
    }
   ],
   "source": [
    "df[!, :d] .= x\n",
    "df[:, :e] .= x\n",
    "df"
   ]
  },
  {
   "cell_type": "code",
   "execution_count": 42,
   "metadata": {},
   "outputs": [
    {
     "data": {
      "text/plain": [
       "(false, false)"
      ]
     },
     "execution_count": 42,
     "metadata": {},
     "output_type": "execute_result"
    }
   ],
   "source": [
    "df.d === x, df.e === x # both copy, so in this case `!` and `:` has the same effect"
   ]
  },
  {
   "cell_type": "markdown",
   "metadata": {},
   "source": [
    "note that in our data frame columns `:a` and `:b` store the vector `x` (not a copy)"
   ]
  },
  {
   "cell_type": "code",
   "execution_count": 43,
   "metadata": {},
   "outputs": [
    {
     "data": {
      "text/plain": [
       "true"
      ]
     },
     "execution_count": 43,
     "metadata": {},
     "output_type": "execute_result"
    }
   ],
   "source": [
    "df.a === df.b === x"
   ]
  },
  {
   "cell_type": "markdown",
   "metadata": {},
   "source": [
    "This can lead to silent errors. For example this code leads to a bug:"
   ]
  },
  {
   "cell_type": "code",
   "execution_count": 44,
   "metadata": {},
   "outputs": [
    {
     "name": "stdout",
     "output_type": "stream",
     "text": [
      "a: 3\n",
      "b: 2\n",
      "c: 3\n",
      "d: 3\n",
      "e: 3\n"
     ]
    }
   ],
   "source": [
    "for (n, c) in eachcol(df, true)\n",
    "    println(\"$n: \", pop!(c))\n",
    "end"
   ]
  },
  {
   "cell_type": "markdown",
   "metadata": {},
   "source": [
    "note that for column `:b` we printed `2` as `3` was removed from it when we used `pop!` on column `:a`."
   ]
  },
  {
   "cell_type": "markdown",
   "metadata": {},
   "source": [
    "Such mistakes sometimes happen. Because of this DataFrames.jl performs consistency checks before doing an expensive operation (most notably before showing a data frame)."
   ]
  },
  {
   "cell_type": "code",
   "execution_count": 45,
   "metadata": {},
   "outputs": [
    {
     "ename": "AssertionError",
     "evalue": "AssertionError: Data frame is corrupt: length of column :c (2) does not match length of column 1 (1). The column vector has likely been resized unintentionally (either directly or because it is shared with another data frame).",
     "output_type": "error",
     "traceback": [
      "AssertionError: Data frame is corrupt: length of column :c (2) does not match length of column 1 (1). The column vector has likely been resized unintentionally (either directly or because it is shared with another data frame).",
      "",
      "Stacktrace:",
      " [1] _check_consistency(::DataFrame) at D:\\AppData\\.julia\\packages\\DataFrames\\uPgZV\\src\\dataframe\\dataframe.jl:288",
      " [2] #_show#348(::Bool, ::Bool, ::Bool, ::Symbol, ::Bool, ::Nothing, ::typeof(DataFrames._show), ::IOContext{Base.GenericIOBuffer{Array{UInt8,1}}}, ::DataFrame) at D:\\AppData\\.julia\\packages\\DataFrames\\uPgZV\\src\\abstractdataframe\\show.jl:517",
      " [3] #_show at .\\none:0 [inlined]",
      " [4] #show#349 at D:\\AppData\\.julia\\packages\\DataFrames\\uPgZV\\src\\abstractdataframe\\show.jl:609 [inlined]",
      " [5] #show at .\\none:0 [inlined]",
      " [6] #show#362(::Bool, ::Bool, ::Bool, ::Symbol, ::Bool, ::typeof(show), ::IOContext{Base.GenericIOBuffer{Array{UInt8,1}}}, ::MIME{Symbol(\"text/plain\")}, ::DataFrame) at D:\\AppData\\.julia\\packages\\DataFrames\\uPgZV\\src\\abstractdataframe\\io.jl:53",
      " [7] show(::IOContext{Base.GenericIOBuffer{Array{UInt8,1}}}, ::MIME{Symbol(\"text/plain\")}, ::DataFrame) at D:\\AppData\\.julia\\packages\\DataFrames\\uPgZV\\src\\abstractdataframe\\io.jl:53",
      " [8] limitstringmime(::MIME{Symbol(\"text/plain\")}, ::DataFrame) at D:\\AppData\\.julia\\packages\\IJulia\\F1GUo\\src\\inline.jl:43",
      " [9] display_mimestring(::MIME{Symbol(\"text/plain\")}, ::DataFrame) at D:\\AppData\\.julia\\packages\\IJulia\\F1GUo\\src\\display.jl:67",
      " [10] display_dict(::DataFrame) at D:\\AppData\\.julia\\packages\\IJulia\\F1GUo\\src\\display.jl:96",
      " [11] #invokelatest#1 at .\\essentials.jl:709 [inlined]",
      " [12] invokelatest at .\\essentials.jl:708 [inlined]",
      " [13] execute_request(::ZMQ.Socket, ::IJulia.Msg) at D:\\AppData\\.julia\\packages\\IJulia\\F1GUo\\src\\execute_request.jl:112",
      " [14] #invokelatest#1 at .\\essentials.jl:709 [inlined]",
      " [15] invokelatest at .\\essentials.jl:708 [inlined]",
      " [16] eventloop(::ZMQ.Socket) at D:\\AppData\\.julia\\packages\\IJulia\\F1GUo\\src\\eventloop.jl:8",
      " [17] (::IJulia.var\"#15#18\")() at .\\task.jl:333"
     ]
    }
   ],
   "source": [
    "df"
   ]
  },
  {
   "cell_type": "markdown",
   "metadata": {},
   "source": [
    "We can investigate the columns to find out what happend:"
   ]
  },
  {
   "cell_type": "code",
   "execution_count": 46,
   "metadata": {},
   "outputs": [
    {
     "data": {
      "text/plain": [
       "5-element Array{Pair{Symbol,AbstractArray{T,1} where T},1}:\n",
       " :a => [1]   \n",
       " :b => [1]   \n",
       " :c => [1, 2]\n",
       " :d => [1, 2]\n",
       " :e => [1, 2]"
      ]
     },
     "execution_count": 46,
     "metadata": {},
     "output_type": "execute_result"
    }
   ],
   "source": [
    "collect(eachcol(df, true))"
   ]
  },
  {
   "cell_type": "markdown",
   "metadata": {},
   "source": [
    "The output confirms that the data frame `df` got corrupted."
   ]
  },
  {
   "cell_type": "markdown",
   "metadata": {},
   "source": [
    "DataFrames.jl supports a complete set of `getindex`, `getproperty`, `setindex!`, `setproperty!`, `view`, broadcasting, and broadcasting assignment operations. The details are explained here: http://juliadata.github.io/DataFrames.jl/latest/lib/indexing/."
   ]
  }
 ],
 "metadata": {
  "@webio": {
   "lastCommId": null,
   "lastKernelId": null
  },
  "kernelspec": {
   "display_name": "Julia 1.3.0",
   "language": "julia",
   "name": "julia-1.3"
  },
  "language_info": {
   "file_extension": ".jl",
   "mimetype": "application/julia",
   "name": "julia",
   "version": "1.3.0"
  }
 },
 "nbformat": 4,
 "nbformat_minor": 1
}
