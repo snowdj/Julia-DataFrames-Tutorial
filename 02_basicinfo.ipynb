{
 "cells": [
  {
   "cell_type": "markdown",
   "metadata": {},
   "source": [
    "# Introduction to DataFrames\n",
    "**[Bogumił Kamiński](http://bogumilkaminski.pl/about/), August 26, 2019**"
   ]
  },
  {
   "cell_type": "code",
   "execution_count": 1,
   "metadata": {},
   "outputs": [
    {
     "name": "stdout",
     "output_type": "stream",
     "text": [
      "\u001b[32m\u001b[1mActivating\u001b[22m\u001b[39m environment at `d:\\Dev\\Julia\\DataFrames_Tutorial\\Project.toml`\n"
     ]
    }
   ],
   "source": [
    "using Pkg\n",
    "Pkg.activate(\".\");"
   ]
  },
  {
   "cell_type": "code",
   "execution_count": 2,
   "metadata": {},
   "outputs": [],
   "source": [
    "using DataFrames"
   ]
  },
  {
   "cell_type": "markdown",
   "metadata": {},
   "source": [
    "## Getting basic information about a data frame\n",
    "\n",
    "Let's start by creating a `DataFrame` object, `x`, so that we can learn how to get information on that data frame."
   ]
  },
  {
   "cell_type": "code",
   "execution_count": 3,
   "metadata": {},
   "outputs": [
    {
     "data": {
      "text/html": [
       "<table class=\"data-frame\"><thead><tr><th></th><th>A</th><th>B</th><th>C</th></tr><tr><th></th><th>Int64</th><th>Float64⍰</th><th>String</th></tr></thead><tbody><p>2 rows × 3 columns</p><tr><th>1</th><td>1</td><td>1.0</td><td>a</td></tr><tr><th>2</th><td>2</td><td>missing</td><td>b</td></tr></tbody></table>"
      ],
      "text/latex": [
       "\\begin{tabular}{r|ccc}\n",
       "\t& A & B & C\\\\\n",
       "\t\\hline\n",
       "\t& Int64 & Float64⍰ & String\\\\\n",
       "\t\\hline\n",
       "\t1 & 1 & 1.0 & a \\\\\n",
       "\t2 & 2 &  & b \\\\\n",
       "\\end{tabular}\n"
      ],
      "text/plain": [
       "2×3 DataFrame\n",
       "│ Row │ A     │ B        │ C      │\n",
       "│     │ \u001b[90mInt64\u001b[39m │ \u001b[90mFloat64⍰\u001b[39m │ \u001b[90mString\u001b[39m │\n",
       "├─────┼───────┼──────────┼────────┤\n",
       "│ 1   │ 1     │ 1.0      │ a      │\n",
       "│ 2   │ 2     │ \u001b[90mmissing\u001b[39m  │ b      │"
      ]
     },
     "execution_count": 3,
     "metadata": {},
     "output_type": "execute_result"
    }
   ],
   "source": [
    "x = DataFrame(A = [1, 2], B = [1.0, missing], C = [\"a\", \"b\"])"
   ]
  },
  {
   "cell_type": "markdown",
   "metadata": {},
   "source": [
    "The standard `size` function works to get dimensions of the `DataFrame`,"
   ]
  },
  {
   "cell_type": "code",
   "execution_count": 4,
   "metadata": {},
   "outputs": [
    {
     "data": {
      "text/plain": [
       "((2, 3), 2, 3)"
      ]
     },
     "execution_count": 4,
     "metadata": {},
     "output_type": "execute_result"
    }
   ],
   "source": [
    "size(x), size(x, 1), size(x, 2)"
   ]
  },
  {
   "cell_type": "markdown",
   "metadata": {},
   "source": [
    "as well as `nrow` and `ncol` from R (`length` in the past gave the number of columns but now is deprecated)."
   ]
  },
  {
   "cell_type": "code",
   "execution_count": 5,
   "metadata": {},
   "outputs": [
    {
     "data": {
      "text/plain": [
       "(2, 3)"
      ]
     },
     "execution_count": 5,
     "metadata": {},
     "output_type": "execute_result"
    }
   ],
   "source": [
    "nrow(x), ncol(x)"
   ]
  },
  {
   "cell_type": "markdown",
   "metadata": {},
   "source": [
    "`describe` gives basic summary statistics of data in your `DataFrame` (check out the help of `describe` for information how to customize shown statistics)."
   ]
  },
  {
   "cell_type": "code",
   "execution_count": 6,
   "metadata": {},
   "outputs": [
    {
     "data": {
      "text/html": [
       "<table class=\"data-frame\"><thead><tr><th></th><th>variable</th><th>mean</th><th>min</th><th>median</th><th>max</th><th>nunique</th><th>nmissing</th><th>eltype</th></tr><tr><th></th><th>Symbol</th><th>Union…</th><th>Any</th><th>Union…</th><th>Any</th><th>Union…</th><th>Union…</th><th>Type</th></tr></thead><tbody><p>3 rows × 8 columns</p><tr><th>1</th><td>A</td><td>1.5</td><td>1</td><td>1.5</td><td>2</td><td></td><td></td><td>Int64</td></tr><tr><th>2</th><td>B</td><td>1.0</td><td>1.0</td><td>1.0</td><td>1.0</td><td></td><td>1</td><td>Union{Missing, Float64}</td></tr><tr><th>3</th><td>C</td><td></td><td>a</td><td></td><td>b</td><td>2</td><td></td><td>String</td></tr></tbody></table>"
      ],
      "text/latex": [
       "\\begin{tabular}{r|cccccccc}\n",
       "\t& variable & mean & min & median & max & nunique & nmissing & eltype\\\\\n",
       "\t\\hline\n",
       "\t& Symbol & Union… & Any & Union… & Any & Union… & Union… & Type\\\\\n",
       "\t\\hline\n",
       "\t1 & A & 1.5 & 1 & 1.5 & 2 &  &  & Int64 \\\\\n",
       "\t2 & B & 1.0 & 1.0 & 1.0 & 1.0 &  & 1 & Union\\{Missing, Float64\\} \\\\\n",
       "\t3 & C &  & a &  & b & 2 &  & String \\\\\n",
       "\\end{tabular}\n"
      ],
      "text/plain": [
       "3×8 DataFrame. Omitted printing of 1 columns\n",
       "│ Row │ variable │ mean   │ min │ median │ max │ nunique │ nmissing │\n",
       "│     │ \u001b[90mSymbol\u001b[39m   │ \u001b[90mUnion…\u001b[39m │ \u001b[90mAny\u001b[39m │ \u001b[90mUnion…\u001b[39m │ \u001b[90mAny\u001b[39m │ \u001b[90mUnion…\u001b[39m  │ \u001b[90mUnion…\u001b[39m   │\n",
       "├─────┼──────────┼────────┼─────┼────────┼─────┼─────────┼──────────┤\n",
       "│ 1   │ A        │ 1.5    │ 1   │ 1.5    │ 2   │         │          │\n",
       "│ 2   │ B        │ 1.0    │ 1.0 │ 1.0    │ 1.0 │         │ 1        │\n",
       "│ 3   │ C        │        │ a   │        │ b   │ 2       │          │"
      ]
     },
     "execution_count": 6,
     "metadata": {},
     "output_type": "execute_result"
    }
   ],
   "source": [
    "describe(x)"
   ]
  },
  {
   "cell_type": "markdown",
   "metadata": {},
   "source": [
    "`names` will return the names of all columns,"
   ]
  },
  {
   "cell_type": "code",
   "execution_count": 7,
   "metadata": {},
   "outputs": [
    {
     "data": {
      "text/plain": [
       "3-element Array{Symbol,1}:\n",
       " :A\n",
       " :B\n",
       " :C"
      ]
     },
     "execution_count": 7,
     "metadata": {},
     "output_type": "execute_result"
    }
   ],
   "source": [
    "names(x)"
   ]
  },
  {
   "cell_type": "markdown",
   "metadata": {},
   "source": [
    "and `eltypes` returns their types."
   ]
  },
  {
   "cell_type": "code",
   "execution_count": 8,
   "metadata": {},
   "outputs": [
    {
     "data": {
      "text/plain": [
       "3-element Array{Type,1}:\n",
       " Int64                  \n",
       " Union{Missing, Float64}\n",
       " String                 "
      ]
     },
     "execution_count": 8,
     "metadata": {},
     "output_type": "execute_result"
    }
   ],
   "source": [
    "eltypes(x)"
   ]
  },
  {
   "cell_type": "markdown",
   "metadata": {},
   "source": [
    "Here we create some large `DataFrame`"
   ]
  },
  {
   "cell_type": "code",
   "execution_count": 9,
   "metadata": {},
   "outputs": [
    {
     "data": {
      "text/html": [
       "<table class=\"data-frame\"><thead><tr><th></th><th>x1</th><th>x2</th><th>x3</th><th>x4</th><th>x5</th><th>x6</th><th>x7</th><th>x8</th><th>x9</th><th>x10</th></tr><tr><th></th><th>Int64</th><th>Int64</th><th>Int64</th><th>Int64</th><th>Int64</th><th>Int64</th><th>Int64</th><th>Int64</th><th>Int64</th><th>Int64</th></tr></thead><tbody><p>1,000 rows × 10 columns</p><tr><th>1</th><td>5</td><td>8</td><td>9</td><td>9</td><td>7</td><td>1</td><td>3</td><td>9</td><td>1</td><td>3</td></tr><tr><th>2</th><td>2</td><td>3</td><td>2</td><td>8</td><td>6</td><td>1</td><td>3</td><td>5</td><td>3</td><td>7</td></tr><tr><th>3</th><td>2</td><td>5</td><td>9</td><td>10</td><td>9</td><td>4</td><td>5</td><td>8</td><td>5</td><td>9</td></tr><tr><th>4</th><td>4</td><td>2</td><td>7</td><td>8</td><td>2</td><td>6</td><td>9</td><td>9</td><td>4</td><td>3</td></tr><tr><th>5</th><td>3</td><td>6</td><td>9</td><td>2</td><td>7</td><td>4</td><td>2</td><td>7</td><td>7</td><td>8</td></tr><tr><th>6</th><td>2</td><td>8</td><td>8</td><td>2</td><td>2</td><td>5</td><td>2</td><td>8</td><td>6</td><td>5</td></tr><tr><th>7</th><td>7</td><td>4</td><td>9</td><td>5</td><td>8</td><td>2</td><td>7</td><td>6</td><td>7</td><td>1</td></tr><tr><th>8</th><td>6</td><td>2</td><td>4</td><td>3</td><td>10</td><td>4</td><td>10</td><td>9</td><td>3</td><td>6</td></tr><tr><th>9</th><td>1</td><td>1</td><td>4</td><td>5</td><td>9</td><td>10</td><td>1</td><td>3</td><td>10</td><td>3</td></tr><tr><th>10</th><td>2</td><td>3</td><td>1</td><td>8</td><td>2</td><td>10</td><td>1</td><td>10</td><td>9</td><td>1</td></tr><tr><th>11</th><td>10</td><td>1</td><td>2</td><td>3</td><td>6</td><td>7</td><td>9</td><td>3</td><td>2</td><td>10</td></tr><tr><th>12</th><td>5</td><td>10</td><td>10</td><td>9</td><td>6</td><td>9</td><td>6</td><td>5</td><td>4</td><td>1</td></tr><tr><th>13</th><td>6</td><td>10</td><td>1</td><td>5</td><td>6</td><td>6</td><td>2</td><td>10</td><td>3</td><td>9</td></tr><tr><th>14</th><td>3</td><td>4</td><td>10</td><td>7</td><td>2</td><td>2</td><td>7</td><td>3</td><td>9</td><td>10</td></tr><tr><th>15</th><td>6</td><td>6</td><td>3</td><td>1</td><td>7</td><td>1</td><td>2</td><td>9</td><td>5</td><td>7</td></tr><tr><th>16</th><td>4</td><td>8</td><td>10</td><td>7</td><td>7</td><td>1</td><td>9</td><td>3</td><td>4</td><td>4</td></tr><tr><th>17</th><td>4</td><td>1</td><td>9</td><td>7</td><td>3</td><td>5</td><td>4</td><td>1</td><td>9</td><td>6</td></tr><tr><th>18</th><td>6</td><td>3</td><td>8</td><td>8</td><td>7</td><td>10</td><td>6</td><td>4</td><td>7</td><td>9</td></tr><tr><th>19</th><td>9</td><td>5</td><td>2</td><td>7</td><td>8</td><td>8</td><td>3</td><td>5</td><td>1</td><td>1</td></tr><tr><th>20</th><td>8</td><td>8</td><td>2</td><td>6</td><td>10</td><td>5</td><td>5</td><td>10</td><td>5</td><td>9</td></tr><tr><th>21</th><td>10</td><td>9</td><td>6</td><td>2</td><td>6</td><td>1</td><td>6</td><td>4</td><td>10</td><td>8</td></tr><tr><th>22</th><td>3</td><td>9</td><td>9</td><td>9</td><td>4</td><td>10</td><td>3</td><td>6</td><td>5</td><td>3</td></tr><tr><th>23</th><td>7</td><td>7</td><td>10</td><td>2</td><td>9</td><td>1</td><td>6</td><td>7</td><td>7</td><td>9</td></tr><tr><th>24</th><td>4</td><td>9</td><td>4</td><td>7</td><td>2</td><td>4</td><td>4</td><td>5</td><td>6</td><td>8</td></tr><tr><th>25</th><td>5</td><td>2</td><td>4</td><td>4</td><td>7</td><td>5</td><td>4</td><td>4</td><td>4</td><td>8</td></tr><tr><th>26</th><td>9</td><td>4</td><td>9</td><td>10</td><td>2</td><td>6</td><td>4</td><td>9</td><td>3</td><td>8</td></tr><tr><th>27</th><td>2</td><td>2</td><td>10</td><td>8</td><td>6</td><td>3</td><td>4</td><td>9</td><td>8</td><td>1</td></tr><tr><th>28</th><td>6</td><td>4</td><td>6</td><td>7</td><td>8</td><td>3</td><td>5</td><td>1</td><td>7</td><td>6</td></tr><tr><th>29</th><td>6</td><td>10</td><td>8</td><td>8</td><td>1</td><td>6</td><td>4</td><td>6</td><td>3</td><td>7</td></tr><tr><th>30</th><td>4</td><td>4</td><td>6</td><td>5</td><td>5</td><td>10</td><td>1</td><td>1</td><td>9</td><td>10</td></tr><tr><th>&vellip;</th><td>&vellip;</td><td>&vellip;</td><td>&vellip;</td><td>&vellip;</td><td>&vellip;</td><td>&vellip;</td><td>&vellip;</td><td>&vellip;</td><td>&vellip;</td><td>&vellip;</td></tr></tbody></table>"
      ],
      "text/latex": [
       "\\begin{tabular}{r|cccccccccc}\n",
       "\t& x1 & x2 & x3 & x4 & x5 & x6 & x7 & x8 & x9 & x10\\\\\n",
       "\t\\hline\n",
       "\t& Int64 & Int64 & Int64 & Int64 & Int64 & Int64 & Int64 & Int64 & Int64 & Int64\\\\\n",
       "\t\\hline\n",
       "\t1 & 5 & 8 & 9 & 9 & 7 & 1 & 3 & 9 & 1 & 3 \\\\\n",
       "\t2 & 2 & 3 & 2 & 8 & 6 & 1 & 3 & 5 & 3 & 7 \\\\\n",
       "\t3 & 2 & 5 & 9 & 10 & 9 & 4 & 5 & 8 & 5 & 9 \\\\\n",
       "\t4 & 4 & 2 & 7 & 8 & 2 & 6 & 9 & 9 & 4 & 3 \\\\\n",
       "\t5 & 3 & 6 & 9 & 2 & 7 & 4 & 2 & 7 & 7 & 8 \\\\\n",
       "\t6 & 2 & 8 & 8 & 2 & 2 & 5 & 2 & 8 & 6 & 5 \\\\\n",
       "\t7 & 7 & 4 & 9 & 5 & 8 & 2 & 7 & 6 & 7 & 1 \\\\\n",
       "\t8 & 6 & 2 & 4 & 3 & 10 & 4 & 10 & 9 & 3 & 6 \\\\\n",
       "\t9 & 1 & 1 & 4 & 5 & 9 & 10 & 1 & 3 & 10 & 3 \\\\\n",
       "\t10 & 2 & 3 & 1 & 8 & 2 & 10 & 1 & 10 & 9 & 1 \\\\\n",
       "\t11 & 10 & 1 & 2 & 3 & 6 & 7 & 9 & 3 & 2 & 10 \\\\\n",
       "\t12 & 5 & 10 & 10 & 9 & 6 & 9 & 6 & 5 & 4 & 1 \\\\\n",
       "\t13 & 6 & 10 & 1 & 5 & 6 & 6 & 2 & 10 & 3 & 9 \\\\\n",
       "\t14 & 3 & 4 & 10 & 7 & 2 & 2 & 7 & 3 & 9 & 10 \\\\\n",
       "\t15 & 6 & 6 & 3 & 1 & 7 & 1 & 2 & 9 & 5 & 7 \\\\\n",
       "\t16 & 4 & 8 & 10 & 7 & 7 & 1 & 9 & 3 & 4 & 4 \\\\\n",
       "\t17 & 4 & 1 & 9 & 7 & 3 & 5 & 4 & 1 & 9 & 6 \\\\\n",
       "\t18 & 6 & 3 & 8 & 8 & 7 & 10 & 6 & 4 & 7 & 9 \\\\\n",
       "\t19 & 9 & 5 & 2 & 7 & 8 & 8 & 3 & 5 & 1 & 1 \\\\\n",
       "\t20 & 8 & 8 & 2 & 6 & 10 & 5 & 5 & 10 & 5 & 9 \\\\\n",
       "\t21 & 10 & 9 & 6 & 2 & 6 & 1 & 6 & 4 & 10 & 8 \\\\\n",
       "\t22 & 3 & 9 & 9 & 9 & 4 & 10 & 3 & 6 & 5 & 3 \\\\\n",
       "\t23 & 7 & 7 & 10 & 2 & 9 & 1 & 6 & 7 & 7 & 9 \\\\\n",
       "\t24 & 4 & 9 & 4 & 7 & 2 & 4 & 4 & 5 & 6 & 8 \\\\\n",
       "\t25 & 5 & 2 & 4 & 4 & 7 & 5 & 4 & 4 & 4 & 8 \\\\\n",
       "\t26 & 9 & 4 & 9 & 10 & 2 & 6 & 4 & 9 & 3 & 8 \\\\\n",
       "\t27 & 2 & 2 & 10 & 8 & 6 & 3 & 4 & 9 & 8 & 1 \\\\\n",
       "\t28 & 6 & 4 & 6 & 7 & 8 & 3 & 5 & 1 & 7 & 6 \\\\\n",
       "\t29 & 6 & 10 & 8 & 8 & 1 & 6 & 4 & 6 & 3 & 7 \\\\\n",
       "\t30 & 4 & 4 & 6 & 5 & 5 & 10 & 1 & 1 & 9 & 10 \\\\\n",
       "\t$\\dots$ & $\\dots$ & $\\dots$ & $\\dots$ & $\\dots$ & $\\dots$ & $\\dots$ & $\\dots$ & $\\dots$ & $\\dots$ & $\\dots$ \\\\\n",
       "\\end{tabular}\n"
      ],
      "text/plain": [
       "1000×10 DataFrame. Omitted printing of 1 columns\n",
       "│ Row  │ x1    │ x2    │ x3    │ x4    │ x5    │ x6    │ x7    │ x8    │ x9    │\n",
       "│      │ \u001b[90mInt64\u001b[39m │ \u001b[90mInt64\u001b[39m │ \u001b[90mInt64\u001b[39m │ \u001b[90mInt64\u001b[39m │ \u001b[90mInt64\u001b[39m │ \u001b[90mInt64\u001b[39m │ \u001b[90mInt64\u001b[39m │ \u001b[90mInt64\u001b[39m │ \u001b[90mInt64\u001b[39m │\n",
       "├──────┼───────┼───────┼───────┼───────┼───────┼───────┼───────┼───────┼───────┤\n",
       "│ 1    │ 5     │ 8     │ 9     │ 9     │ 7     │ 1     │ 3     │ 9     │ 1     │\n",
       "│ 2    │ 2     │ 3     │ 2     │ 8     │ 6     │ 1     │ 3     │ 5     │ 3     │\n",
       "│ 3    │ 2     │ 5     │ 9     │ 10    │ 9     │ 4     │ 5     │ 8     │ 5     │\n",
       "│ 4    │ 4     │ 2     │ 7     │ 8     │ 2     │ 6     │ 9     │ 9     │ 4     │\n",
       "│ 5    │ 3     │ 6     │ 9     │ 2     │ 7     │ 4     │ 2     │ 7     │ 7     │\n",
       "│ 6    │ 2     │ 8     │ 8     │ 2     │ 2     │ 5     │ 2     │ 8     │ 6     │\n",
       "│ 7    │ 7     │ 4     │ 9     │ 5     │ 8     │ 2     │ 7     │ 6     │ 7     │\n",
       "│ 8    │ 6     │ 2     │ 4     │ 3     │ 10    │ 4     │ 10    │ 9     │ 3     │\n",
       "│ 9    │ 1     │ 1     │ 4     │ 5     │ 9     │ 10    │ 1     │ 3     │ 10    │\n",
       "│ 10   │ 2     │ 3     │ 1     │ 8     │ 2     │ 10    │ 1     │ 10    │ 9     │\n",
       "⋮\n",
       "│ 990  │ 7     │ 4     │ 10    │ 7     │ 7     │ 7     │ 4     │ 9     │ 2     │\n",
       "│ 991  │ 1     │ 6     │ 3     │ 1     │ 1     │ 9     │ 3     │ 10    │ 8     │\n",
       "│ 992  │ 10    │ 10    │ 8     │ 9     │ 3     │ 4     │ 8     │ 5     │ 8     │\n",
       "│ 993  │ 2     │ 10    │ 5     │ 7     │ 4     │ 10    │ 2     │ 8     │ 6     │\n",
       "│ 994  │ 9     │ 2     │ 5     │ 6     │ 8     │ 1     │ 8     │ 10    │ 9     │\n",
       "│ 995  │ 3     │ 10    │ 1     │ 5     │ 1     │ 6     │ 1     │ 3     │ 7     │\n",
       "│ 996  │ 2     │ 3     │ 6     │ 10    │ 3     │ 10    │ 5     │ 1     │ 5     │\n",
       "│ 997  │ 8     │ 7     │ 10    │ 10    │ 8     │ 2     │ 1     │ 10    │ 5     │\n",
       "│ 998  │ 9     │ 7     │ 6     │ 7     │ 3     │ 9     │ 5     │ 1     │ 4     │\n",
       "│ 999  │ 7     │ 5     │ 5     │ 7     │ 4     │ 3     │ 9     │ 9     │ 10    │\n",
       "│ 1000 │ 1     │ 6     │ 3     │ 8     │ 9     │ 1     │ 8     │ 10    │ 7     │"
      ]
     },
     "execution_count": 9,
     "metadata": {},
     "output_type": "execute_result"
    }
   ],
   "source": [
    "y = DataFrame(rand(1:10, 1000, 10))"
   ]
  },
  {
   "cell_type": "markdown",
   "metadata": {},
   "source": [
    "and then we can use `first` to peek into its first few rows"
   ]
  },
  {
   "cell_type": "code",
   "execution_count": 10,
   "metadata": {},
   "outputs": [
    {
     "data": {
      "text/html": [
       "<table class=\"data-frame\"><thead><tr><th></th><th>x1</th><th>x2</th><th>x3</th><th>x4</th><th>x5</th><th>x6</th><th>x7</th><th>x8</th><th>x9</th><th>x10</th></tr><tr><th></th><th>Int64</th><th>Int64</th><th>Int64</th><th>Int64</th><th>Int64</th><th>Int64</th><th>Int64</th><th>Int64</th><th>Int64</th><th>Int64</th></tr></thead><tbody><p>5 rows × 10 columns</p><tr><th>1</th><td>5</td><td>8</td><td>9</td><td>9</td><td>7</td><td>1</td><td>3</td><td>9</td><td>1</td><td>3</td></tr><tr><th>2</th><td>2</td><td>3</td><td>2</td><td>8</td><td>6</td><td>1</td><td>3</td><td>5</td><td>3</td><td>7</td></tr><tr><th>3</th><td>2</td><td>5</td><td>9</td><td>10</td><td>9</td><td>4</td><td>5</td><td>8</td><td>5</td><td>9</td></tr><tr><th>4</th><td>4</td><td>2</td><td>7</td><td>8</td><td>2</td><td>6</td><td>9</td><td>9</td><td>4</td><td>3</td></tr><tr><th>5</th><td>3</td><td>6</td><td>9</td><td>2</td><td>7</td><td>4</td><td>2</td><td>7</td><td>7</td><td>8</td></tr></tbody></table>"
      ],
      "text/latex": [
       "\\begin{tabular}{r|cccccccccc}\n",
       "\t& x1 & x2 & x3 & x4 & x5 & x6 & x7 & x8 & x9 & x10\\\\\n",
       "\t\\hline\n",
       "\t& Int64 & Int64 & Int64 & Int64 & Int64 & Int64 & Int64 & Int64 & Int64 & Int64\\\\\n",
       "\t\\hline\n",
       "\t1 & 5 & 8 & 9 & 9 & 7 & 1 & 3 & 9 & 1 & 3 \\\\\n",
       "\t2 & 2 & 3 & 2 & 8 & 6 & 1 & 3 & 5 & 3 & 7 \\\\\n",
       "\t3 & 2 & 5 & 9 & 10 & 9 & 4 & 5 & 8 & 5 & 9 \\\\\n",
       "\t4 & 4 & 2 & 7 & 8 & 2 & 6 & 9 & 9 & 4 & 3 \\\\\n",
       "\t5 & 3 & 6 & 9 & 2 & 7 & 4 & 2 & 7 & 7 & 8 \\\\\n",
       "\\end{tabular}\n"
      ],
      "text/plain": [
       "5×10 DataFrame. Omitted printing of 1 columns\n",
       "│ Row │ x1    │ x2    │ x3    │ x4    │ x5    │ x6    │ x7    │ x8    │ x9    │\n",
       "│     │ \u001b[90mInt64\u001b[39m │ \u001b[90mInt64\u001b[39m │ \u001b[90mInt64\u001b[39m │ \u001b[90mInt64\u001b[39m │ \u001b[90mInt64\u001b[39m │ \u001b[90mInt64\u001b[39m │ \u001b[90mInt64\u001b[39m │ \u001b[90mInt64\u001b[39m │ \u001b[90mInt64\u001b[39m │\n",
       "├─────┼───────┼───────┼───────┼───────┼───────┼───────┼───────┼───────┼───────┤\n",
       "│ 1   │ 5     │ 8     │ 9     │ 9     │ 7     │ 1     │ 3     │ 9     │ 1     │\n",
       "│ 2   │ 2     │ 3     │ 2     │ 8     │ 6     │ 1     │ 3     │ 5     │ 3     │\n",
       "│ 3   │ 2     │ 5     │ 9     │ 10    │ 9     │ 4     │ 5     │ 8     │ 5     │\n",
       "│ 4   │ 4     │ 2     │ 7     │ 8     │ 2     │ 6     │ 9     │ 9     │ 4     │\n",
       "│ 5   │ 3     │ 6     │ 9     │ 2     │ 7     │ 4     │ 2     │ 7     │ 7     │"
      ]
     },
     "execution_count": 10,
     "metadata": {},
     "output_type": "execute_result"
    }
   ],
   "source": [
    "first(y, 5)"
   ]
  },
  {
   "cell_type": "markdown",
   "metadata": {},
   "source": [
    "and `last` to see its bottom rows."
   ]
  },
  {
   "cell_type": "code",
   "execution_count": 11,
   "metadata": {},
   "outputs": [
    {
     "data": {
      "text/html": [
       "<table class=\"data-frame\"><thead><tr><th></th><th>x1</th><th>x2</th><th>x3</th><th>x4</th><th>x5</th><th>x6</th><th>x7</th><th>x8</th><th>x9</th><th>x10</th></tr><tr><th></th><th>Int64</th><th>Int64</th><th>Int64</th><th>Int64</th><th>Int64</th><th>Int64</th><th>Int64</th><th>Int64</th><th>Int64</th><th>Int64</th></tr></thead><tbody><p>3 rows × 10 columns</p><tr><th>1</th><td>9</td><td>7</td><td>6</td><td>7</td><td>3</td><td>9</td><td>5</td><td>1</td><td>4</td><td>4</td></tr><tr><th>2</th><td>7</td><td>5</td><td>5</td><td>7</td><td>4</td><td>3</td><td>9</td><td>9</td><td>10</td><td>6</td></tr><tr><th>3</th><td>1</td><td>6</td><td>3</td><td>8</td><td>9</td><td>1</td><td>8</td><td>10</td><td>7</td><td>10</td></tr></tbody></table>"
      ],
      "text/latex": [
       "\\begin{tabular}{r|cccccccccc}\n",
       "\t& x1 & x2 & x3 & x4 & x5 & x6 & x7 & x8 & x9 & x10\\\\\n",
       "\t\\hline\n",
       "\t& Int64 & Int64 & Int64 & Int64 & Int64 & Int64 & Int64 & Int64 & Int64 & Int64\\\\\n",
       "\t\\hline\n",
       "\t1 & 9 & 7 & 6 & 7 & 3 & 9 & 5 & 1 & 4 & 4 \\\\\n",
       "\t2 & 7 & 5 & 5 & 7 & 4 & 3 & 9 & 9 & 10 & 6 \\\\\n",
       "\t3 & 1 & 6 & 3 & 8 & 9 & 1 & 8 & 10 & 7 & 10 \\\\\n",
       "\\end{tabular}\n"
      ],
      "text/plain": [
       "3×10 DataFrame. Omitted printing of 1 columns\n",
       "│ Row │ x1    │ x2    │ x3    │ x4    │ x5    │ x6    │ x7    │ x8    │ x9    │\n",
       "│     │ \u001b[90mInt64\u001b[39m │ \u001b[90mInt64\u001b[39m │ \u001b[90mInt64\u001b[39m │ \u001b[90mInt64\u001b[39m │ \u001b[90mInt64\u001b[39m │ \u001b[90mInt64\u001b[39m │ \u001b[90mInt64\u001b[39m │ \u001b[90mInt64\u001b[39m │ \u001b[90mInt64\u001b[39m │\n",
       "├─────┼───────┼───────┼───────┼───────┼───────┼───────┼───────┼───────┼───────┤\n",
       "│ 1   │ 9     │ 7     │ 6     │ 7     │ 3     │ 9     │ 5     │ 1     │ 4     │\n",
       "│ 2   │ 7     │ 5     │ 5     │ 7     │ 4     │ 3     │ 9     │ 9     │ 10    │\n",
       "│ 3   │ 1     │ 6     │ 3     │ 8     │ 9     │ 1     │ 8     │ 10    │ 7     │"
      ]
     },
     "execution_count": 11,
     "metadata": {},
     "output_type": "execute_result"
    }
   ],
   "source": [
    "last(y, 3)"
   ]
  },
  {
   "cell_type": "markdown",
   "metadata": {},
   "source": [
    "Using `first` and `last` without number of rows will return a first/last `DataFrameRow` in the `DataFrame`"
   ]
  },
  {
   "cell_type": "code",
   "execution_count": 12,
   "metadata": {},
   "outputs": [
    {
     "data": {
      "text/html": [
       "<p>DataFrameRow (10 columns)</p><table class=\"data-frame\"><thead><tr><th></th><th>x1</th><th>x2</th><th>x3</th><th>x4</th><th>x5</th><th>x6</th><th>x7</th><th>x8</th><th>x9</th><th>x10</th></tr><tr><th></th><th>Int64</th><th>Int64</th><th>Int64</th><th>Int64</th><th>Int64</th><th>Int64</th><th>Int64</th><th>Int64</th><th>Int64</th><th>Int64</th></tr></thead><tbody><tr><th>1</th><td>5</td><td>8</td><td>9</td><td>9</td><td>7</td><td>1</td><td>3</td><td>9</td><td>1</td><td>3</td></tr></tbody></table>"
      ],
      "text/latex": [
       "\\begin{tabular}{r|cccccccccc}\n",
       "\t& x1 & x2 & x3 & x4 & x5 & x6 & x7 & x8 & x9 & x10\\\\\n",
       "\t\\hline\n",
       "\t& Int64 & Int64 & Int64 & Int64 & Int64 & Int64 & Int64 & Int64 & Int64 & Int64\\\\\n",
       "\t\\hline\n",
       "\t1 & 5 & 8 & 9 & 9 & 7 & 1 & 3 & 9 & 1 & 3 \\\\\n",
       "\\end{tabular}\n"
      ],
      "text/plain": [
       "DataFrameRow. Omitted printing of 1 columns\n",
       "│ Row │ x1    │ x2    │ x3    │ x4    │ x5    │ x6    │ x7    │ x8    │ x9    │\n",
       "│     │ \u001b[90mInt64\u001b[39m │ \u001b[90mInt64\u001b[39m │ \u001b[90mInt64\u001b[39m │ \u001b[90mInt64\u001b[39m │ \u001b[90mInt64\u001b[39m │ \u001b[90mInt64\u001b[39m │ \u001b[90mInt64\u001b[39m │ \u001b[90mInt64\u001b[39m │ \u001b[90mInt64\u001b[39m │\n",
       "├─────┼───────┼───────┼───────┼───────┼───────┼───────┼───────┼───────┼───────┤\n",
       "│ 1   │ 5     │ 8     │ 9     │ 9     │ 7     │ 1     │ 3     │ 9     │ 1     │"
      ]
     },
     "execution_count": 12,
     "metadata": {},
     "output_type": "execute_result"
    }
   ],
   "source": [
    "first(y)"
   ]
  },
  {
   "cell_type": "code",
   "execution_count": 13,
   "metadata": {},
   "outputs": [
    {
     "data": {
      "text/html": [
       "<p>DataFrameRow (10 columns)</p><table class=\"data-frame\"><thead><tr><th></th><th>x1</th><th>x2</th><th>x3</th><th>x4</th><th>x5</th><th>x6</th><th>x7</th><th>x8</th><th>x9</th><th>x10</th></tr><tr><th></th><th>Int64</th><th>Int64</th><th>Int64</th><th>Int64</th><th>Int64</th><th>Int64</th><th>Int64</th><th>Int64</th><th>Int64</th><th>Int64</th></tr></thead><tbody><tr><th>1000</th><td>1</td><td>6</td><td>3</td><td>8</td><td>9</td><td>1</td><td>8</td><td>10</td><td>7</td><td>10</td></tr></tbody></table>"
      ],
      "text/latex": [
       "\\begin{tabular}{r|cccccccccc}\n",
       "\t& x1 & x2 & x3 & x4 & x5 & x6 & x7 & x8 & x9 & x10\\\\\n",
       "\t\\hline\n",
       "\t& Int64 & Int64 & Int64 & Int64 & Int64 & Int64 & Int64 & Int64 & Int64 & Int64\\\\\n",
       "\t\\hline\n",
       "\t1000 & 1 & 6 & 3 & 8 & 9 & 1 & 8 & 10 & 7 & 10 \\\\\n",
       "\\end{tabular}\n"
      ],
      "text/plain": [
       "DataFrameRow. Omitted printing of 1 columns\n",
       "│ Row  │ x1    │ x2    │ x3    │ x4    │ x5    │ x6    │ x7    │ x8    │ x9    │\n",
       "│      │ \u001b[90mInt64\u001b[39m │ \u001b[90mInt64\u001b[39m │ \u001b[90mInt64\u001b[39m │ \u001b[90mInt64\u001b[39m │ \u001b[90mInt64\u001b[39m │ \u001b[90mInt64\u001b[39m │ \u001b[90mInt64\u001b[39m │ \u001b[90mInt64\u001b[39m │ \u001b[90mInt64\u001b[39m │\n",
       "├──────┼───────┼───────┼───────┼───────┼───────┼───────┼───────┼───────┼───────┤\n",
       "│ 1000 │ 1     │ 6     │ 3     │ 8     │ 9     │ 1     │ 8     │ 10    │ 7     │"
      ]
     },
     "execution_count": 13,
     "metadata": {},
     "output_type": "execute_result"
    }
   ],
   "source": [
    "last(y)"
   ]
  },
  {
   "cell_type": "markdown",
   "metadata": {},
   "source": [
    "### Most elementary get and set operations\n",
    "\n",
    "Given the `DataFrame`, `x`, here are four ways to grab one of its columns as a `Vector`."
   ]
  },
  {
   "cell_type": "code",
   "execution_count": 14,
   "metadata": {},
   "outputs": [
    {
     "data": {
      "text/html": [
       "<table class=\"data-frame\"><thead><tr><th></th><th>A</th><th>B</th><th>C</th></tr><tr><th></th><th>Int64</th><th>Float64⍰</th><th>String</th></tr></thead><tbody><p>2 rows × 3 columns</p><tr><th>1</th><td>1</td><td>1.0</td><td>a</td></tr><tr><th>2</th><td>2</td><td>missing</td><td>b</td></tr></tbody></table>"
      ],
      "text/latex": [
       "\\begin{tabular}{r|ccc}\n",
       "\t& A & B & C\\\\\n",
       "\t\\hline\n",
       "\t& Int64 & Float64⍰ & String\\\\\n",
       "\t\\hline\n",
       "\t1 & 1 & 1.0 & a \\\\\n",
       "\t2 & 2 &  & b \\\\\n",
       "\\end{tabular}\n"
      ],
      "text/plain": [
       "2×3 DataFrame\n",
       "│ Row │ A     │ B        │ C      │\n",
       "│     │ \u001b[90mInt64\u001b[39m │ \u001b[90mFloat64⍰\u001b[39m │ \u001b[90mString\u001b[39m │\n",
       "├─────┼───────┼──────────┼────────┤\n",
       "│ 1   │ 1     │ 1.0      │ a      │\n",
       "│ 2   │ 2     │ \u001b[90mmissing\u001b[39m  │ b      │"
      ]
     },
     "execution_count": 14,
     "metadata": {},
     "output_type": "execute_result"
    }
   ],
   "source": [
    "x"
   ]
  },
  {
   "cell_type": "code",
   "execution_count": 15,
   "metadata": {},
   "outputs": [
    {
     "data": {
      "text/plain": [
       "([1, 2], [1, 2], [1, 2])"
      ]
     },
     "execution_count": 15,
     "metadata": {},
     "output_type": "execute_result"
    }
   ],
   "source": [
    "x.A, x[!, 1], x[!, :A] # all get the vector stored in our DataFrame without copying it"
   ]
  },
  {
   "cell_type": "code",
   "execution_count": 16,
   "metadata": {},
   "outputs": [
    {
     "data": {
      "text/plain": [
       "2-element Array{Int64,1}:\n",
       " 1\n",
       " 2"
      ]
     },
     "execution_count": 16,
     "metadata": {},
     "output_type": "execute_result"
    }
   ],
   "source": [
    "x[:, 1] # note that this creates a copy"
   ]
  },
  {
   "cell_type": "code",
   "execution_count": 17,
   "metadata": {},
   "outputs": [
    {
     "data": {
      "text/plain": [
       "false"
      ]
     },
     "execution_count": 17,
     "metadata": {},
     "output_type": "execute_result"
    }
   ],
   "source": [
    "x[:, 1] === x[:, 1]"
   ]
  },
  {
   "cell_type": "markdown",
   "metadata": {},
   "source": [
    "To grab one row as a `DataFrame`, we can index as follows."
   ]
  },
  {
   "cell_type": "code",
   "execution_count": 18,
   "metadata": {},
   "outputs": [
    {
     "data": {
      "text/html": [
       "<table class=\"data-frame\"><thead><tr><th></th><th>A</th><th>B</th><th>C</th></tr><tr><th></th><th>Int64</th><th>Float64⍰</th><th>String</th></tr></thead><tbody><p>1 rows × 3 columns</p><tr><th>1</th><td>1</td><td>1.0</td><td>a</td></tr></tbody></table>"
      ],
      "text/latex": [
       "\\begin{tabular}{r|ccc}\n",
       "\t& A & B & C\\\\\n",
       "\t\\hline\n",
       "\t& Int64 & Float64⍰ & String\\\\\n",
       "\t\\hline\n",
       "\t1 & 1 & 1.0 & a \\\\\n",
       "\\end{tabular}\n"
      ],
      "text/plain": [
       "1×3 DataFrame\n",
       "│ Row │ A     │ B        │ C      │\n",
       "│     │ \u001b[90mInt64\u001b[39m │ \u001b[90mFloat64⍰\u001b[39m │ \u001b[90mString\u001b[39m │\n",
       "├─────┼───────┼──────────┼────────┤\n",
       "│ 1   │ 1     │ 1.0      │ a      │"
      ]
     },
     "execution_count": 18,
     "metadata": {},
     "output_type": "execute_result"
    }
   ],
   "source": [
    "x[1:1, :]"
   ]
  },
  {
   "cell_type": "code",
   "execution_count": 19,
   "metadata": {},
   "outputs": [
    {
     "data": {
      "text/html": [
       "<p>DataFrameRow (3 columns)</p><table class=\"data-frame\"><thead><tr><th></th><th>A</th><th>B</th><th>C</th></tr><tr><th></th><th>Int64</th><th>Float64⍰</th><th>String</th></tr></thead><tbody><tr><th>1</th><td>1</td><td>1.0</td><td>a</td></tr></tbody></table>"
      ],
      "text/latex": [
       "\\begin{tabular}{r|ccc}\n",
       "\t& A & B & C\\\\\n",
       "\t\\hline\n",
       "\t& Int64 & Float64⍰ & String\\\\\n",
       "\t\\hline\n",
       "\t1 & 1 & 1.0 & a \\\\\n",
       "\\end{tabular}\n"
      ],
      "text/plain": [
       "DataFrameRow\n",
       "│ Row │ A     │ B        │ C      │\n",
       "│     │ \u001b[90mInt64\u001b[39m │ \u001b[90mFloat64⍰\u001b[39m │ \u001b[90mString\u001b[39m │\n",
       "├─────┼───────┼──────────┼────────┤\n",
       "│ 1   │ 1     │ 1.0      │ a      │"
      ]
     },
     "execution_count": 19,
     "metadata": {},
     "output_type": "execute_result"
    }
   ],
   "source": [
    "x[1, :] # this produces a DataFrameRow"
   ]
  },
  {
   "cell_type": "markdown",
   "metadata": {},
   "source": [
    "We can grab a single cell or element with the same syntax to grab an element of an array."
   ]
  },
  {
   "cell_type": "code",
   "execution_count": 20,
   "metadata": {},
   "outputs": [
    {
     "data": {
      "text/plain": [
       "1"
      ]
     },
     "execution_count": 20,
     "metadata": {},
     "output_type": "execute_result"
    }
   ],
   "source": [
    "x[1, 1]"
   ]
  },
  {
   "cell_type": "markdown",
   "metadata": {},
   "source": [
    "or a new `DataFrame` that is a subset of rows and columns"
   ]
  },
  {
   "cell_type": "code",
   "execution_count": 21,
   "metadata": {},
   "outputs": [
    {
     "data": {
      "text/html": [
       "<table class=\"data-frame\"><thead><tr><th></th><th>A</th><th>B</th></tr><tr><th></th><th>Int64</th><th>Float64⍰</th></tr></thead><tbody><p>2 rows × 2 columns</p><tr><th>1</th><td>1</td><td>1.0</td></tr><tr><th>2</th><td>2</td><td>missing</td></tr></tbody></table>"
      ],
      "text/latex": [
       "\\begin{tabular}{r|cc}\n",
       "\t& A & B\\\\\n",
       "\t\\hline\n",
       "\t& Int64 & Float64⍰\\\\\n",
       "\t\\hline\n",
       "\t1 & 1 & 1.0 \\\\\n",
       "\t2 & 2 &  \\\\\n",
       "\\end{tabular}\n"
      ],
      "text/plain": [
       "2×2 DataFrame\n",
       "│ Row │ A     │ B        │\n",
       "│     │ \u001b[90mInt64\u001b[39m │ \u001b[90mFloat64⍰\u001b[39m │\n",
       "├─────┼───────┼──────────┤\n",
       "│ 1   │ 1     │ 1.0      │\n",
       "│ 2   │ 2     │ \u001b[90mmissing\u001b[39m  │"
      ]
     },
     "execution_count": 21,
     "metadata": {},
     "output_type": "execute_result"
    }
   ],
   "source": [
    "x[1:2, 1:2]"
   ]
  },
  {
   "cell_type": "markdown",
   "metadata": {},
   "source": [
    "You can also use `Regex` to select columns and `Not` from InvertedIndices.jl both to select rows and columns"
   ]
  },
  {
   "cell_type": "code",
   "execution_count": 22,
   "metadata": {},
   "outputs": [
    {
     "data": {
      "text/html": [
       "<table class=\"data-frame\"><thead><tr><th></th><th>A</th></tr><tr><th></th><th>Int64</th></tr></thead><tbody><p>1 rows × 1 columns</p><tr><th>1</th><td>2</td></tr></tbody></table>"
      ],
      "text/latex": [
       "\\begin{tabular}{r|c}\n",
       "\t& A\\\\\n",
       "\t\\hline\n",
       "\t& Int64\\\\\n",
       "\t\\hline\n",
       "\t1 & 2 \\\\\n",
       "\\end{tabular}\n"
      ],
      "text/plain": [
       "1×1 DataFrame\n",
       "│ Row │ A     │\n",
       "│     │ \u001b[90mInt64\u001b[39m │\n",
       "├─────┼───────┤\n",
       "│ 1   │ 2     │"
      ]
     },
     "execution_count": 22,
     "metadata": {},
     "output_type": "execute_result"
    }
   ],
   "source": [
    "x[Not(1), r\"A\"]"
   ]
  },
  {
   "cell_type": "code",
   "execution_count": 23,
   "metadata": {},
   "outputs": [
    {
     "data": {
      "text/html": [
       "<table class=\"data-frame\"><thead><tr><th></th><th>B</th><th>C</th></tr><tr><th></th><th>Float64⍰</th><th>String</th></tr></thead><tbody><p>2 rows × 2 columns</p><tr><th>1</th><td>1.0</td><td>a</td></tr><tr><th>2</th><td>missing</td><td>b</td></tr></tbody></table>"
      ],
      "text/latex": [
       "\\begin{tabular}{r|cc}\n",
       "\t& B & C\\\\\n",
       "\t\\hline\n",
       "\t& Float64⍰ & String\\\\\n",
       "\t\\hline\n",
       "\t1 & 1.0 & a \\\\\n",
       "\t2 &  & b \\\\\n",
       "\\end{tabular}\n"
      ],
      "text/plain": [
       "2×2 DataFrame\n",
       "│ Row │ B        │ C      │\n",
       "│     │ \u001b[90mFloat64⍰\u001b[39m │ \u001b[90mString\u001b[39m │\n",
       "├─────┼──────────┼────────┤\n",
       "│ 1   │ 1.0      │ a      │\n",
       "│ 2   │ \u001b[90mmissing\u001b[39m  │ b      │"
      ]
     },
     "execution_count": 23,
     "metadata": {},
     "output_type": "execute_result"
    }
   ],
   "source": [
    "x[!, Not(1)] # ! indicates that underlying columns are not copied"
   ]
  },
  {
   "cell_type": "code",
   "execution_count": 24,
   "metadata": {},
   "outputs": [
    {
     "data": {
      "text/html": [
       "<table class=\"data-frame\"><thead><tr><th></th><th>B</th><th>C</th></tr><tr><th></th><th>Float64⍰</th><th>String</th></tr></thead><tbody><p>2 rows × 2 columns</p><tr><th>1</th><td>1.0</td><td>a</td></tr><tr><th>2</th><td>missing</td><td>b</td></tr></tbody></table>"
      ],
      "text/latex": [
       "\\begin{tabular}{r|cc}\n",
       "\t& B & C\\\\\n",
       "\t\\hline\n",
       "\t& Float64⍰ & String\\\\\n",
       "\t\\hline\n",
       "\t1 & 1.0 & a \\\\\n",
       "\t2 &  & b \\\\\n",
       "\\end{tabular}\n"
      ],
      "text/plain": [
       "2×2 DataFrame\n",
       "│ Row │ B        │ C      │\n",
       "│     │ \u001b[90mFloat64⍰\u001b[39m │ \u001b[90mString\u001b[39m │\n",
       "├─────┼──────────┼────────┤\n",
       "│ 1   │ 1.0      │ a      │\n",
       "│ 2   │ \u001b[90mmissing\u001b[39m  │ b      │"
      ]
     },
     "execution_count": 24,
     "metadata": {},
     "output_type": "execute_result"
    }
   ],
   "source": [
    "x[:, Not(1)] # : means that the columns will get copied"
   ]
  },
  {
   "cell_type": "markdown",
   "metadata": {},
   "source": [
    "Assignment can be done in ranges to a scalar using broadcasting:"
   ]
  },
  {
   "cell_type": "code",
   "execution_count": 25,
   "metadata": {},
   "outputs": [
    {
     "data": {
      "text/html": [
       "<table class=\"data-frame\"><thead><tr><th></th><th>A</th><th>B</th><th>C</th></tr><tr><th></th><th>Int64</th><th>Float64⍰</th><th>String</th></tr></thead><tbody><p>2 rows × 3 columns</p><tr><th>1</th><td>1</td><td>1.0</td><td>a</td></tr><tr><th>2</th><td>1</td><td>1.0</td><td>b</td></tr></tbody></table>"
      ],
      "text/latex": [
       "\\begin{tabular}{r|ccc}\n",
       "\t& A & B & C\\\\\n",
       "\t\\hline\n",
       "\t& Int64 & Float64⍰ & String\\\\\n",
       "\t\\hline\n",
       "\t1 & 1 & 1.0 & a \\\\\n",
       "\t2 & 1 & 1.0 & b \\\\\n",
       "\\end{tabular}\n"
      ],
      "text/plain": [
       "2×3 DataFrame\n",
       "│ Row │ A     │ B        │ C      │\n",
       "│     │ \u001b[90mInt64\u001b[39m │ \u001b[90mFloat64⍰\u001b[39m │ \u001b[90mString\u001b[39m │\n",
       "├─────┼───────┼──────────┼────────┤\n",
       "│ 1   │ 1     │ 1.0      │ a      │\n",
       "│ 2   │ 1     │ 1.0      │ b      │"
      ]
     },
     "execution_count": 25,
     "metadata": {},
     "output_type": "execute_result"
    }
   ],
   "source": [
    "x[1:2, 1:2] .= 1\n",
    "x"
   ]
  },
  {
   "cell_type": "markdown",
   "metadata": {},
   "source": [
    "to a vector of length equal to the number of assigned rows using broadcasting"
   ]
  },
  {
   "cell_type": "code",
   "execution_count": 26,
   "metadata": {},
   "outputs": [
    {
     "data": {
      "text/html": [
       "<table class=\"data-frame\"><thead><tr><th></th><th>A</th><th>B</th><th>C</th></tr><tr><th></th><th>Int64</th><th>Float64⍰</th><th>String</th></tr></thead><tbody><p>2 rows × 3 columns</p><tr><th>1</th><td>1</td><td>1.0</td><td>a</td></tr><tr><th>2</th><td>2</td><td>2.0</td><td>b</td></tr></tbody></table>"
      ],
      "text/latex": [
       "\\begin{tabular}{r|ccc}\n",
       "\t& A & B & C\\\\\n",
       "\t\\hline\n",
       "\t& Int64 & Float64⍰ & String\\\\\n",
       "\t\\hline\n",
       "\t1 & 1 & 1.0 & a \\\\\n",
       "\t2 & 2 & 2.0 & b \\\\\n",
       "\\end{tabular}\n"
      ],
      "text/plain": [
       "2×3 DataFrame\n",
       "│ Row │ A     │ B        │ C      │\n",
       "│     │ \u001b[90mInt64\u001b[39m │ \u001b[90mFloat64⍰\u001b[39m │ \u001b[90mString\u001b[39m │\n",
       "├─────┼───────┼──────────┼────────┤\n",
       "│ 1   │ 1     │ 1.0      │ a      │\n",
       "│ 2   │ 2     │ 2.0      │ b      │"
      ]
     },
     "execution_count": 26,
     "metadata": {},
     "output_type": "execute_result"
    }
   ],
   "source": [
    "x[1:2, 1:2] .= [1,2]\n",
    "x"
   ]
  },
  {
   "cell_type": "markdown",
   "metadata": {},
   "source": [
    "or to another data frame of matching size and column names, again using broadcasting:"
   ]
  },
  {
   "cell_type": "code",
   "execution_count": 27,
   "metadata": {},
   "outputs": [
    {
     "data": {
      "text/html": [
       "<table class=\"data-frame\"><thead><tr><th></th><th>A</th><th>B</th><th>C</th></tr><tr><th></th><th>Int64</th><th>Float64⍰</th><th>String</th></tr></thead><tbody><p>2 rows × 3 columns</p><tr><th>1</th><td>5</td><td>6.0</td><td>a</td></tr><tr><th>2</th><td>7</td><td>8.0</td><td>b</td></tr></tbody></table>"
      ],
      "text/latex": [
       "\\begin{tabular}{r|ccc}\n",
       "\t& A & B & C\\\\\n",
       "\t\\hline\n",
       "\t& Int64 & Float64⍰ & String\\\\\n",
       "\t\\hline\n",
       "\t1 & 5 & 6.0 & a \\\\\n",
       "\t2 & 7 & 8.0 & b \\\\\n",
       "\\end{tabular}\n"
      ],
      "text/plain": [
       "2×3 DataFrame\n",
       "│ Row │ A     │ B        │ C      │\n",
       "│     │ \u001b[90mInt64\u001b[39m │ \u001b[90mFloat64⍰\u001b[39m │ \u001b[90mString\u001b[39m │\n",
       "├─────┼───────┼──────────┼────────┤\n",
       "│ 1   │ 5     │ 6.0      │ a      │\n",
       "│ 2   │ 7     │ 8.0      │ b      │"
      ]
     },
     "execution_count": 27,
     "metadata": {},
     "output_type": "execute_result"
    }
   ],
   "source": [
    "x[1:2, 1:2] .= DataFrame([5 6; 7 8], [:A, :B])\n",
    "x"
   ]
  },
  {
   "cell_type": "markdown",
   "metadata": {},
   "source": [
    "**Caution**\n",
    "\n",
    "With `df[!, :col]` and `df.col` syntax you get a direct (non copying) access to a column of a data frame.\n",
    "This is potentially unsafe as you can easily corrupt data in the `df` data frame if you resize, sort, etc. the column obtained in this way.\n",
    "Therefore such access should be used with caution.\n",
    "\n",
    "Similarly `df[!, cols]` when `cols` is a collection of columns produces a new data frame that holds the same (not copied) columns as the source `df` data frame. Similarly, modifying the data frame obtained via `df[!, cols]` might cause problems with the consistency of `df`.\n",
    "\n",
    "The `df[:, :col]` and `df[:, cols]` syntaxes always copy columns so they are safe to use (and should generally be preferred except for performance or memory critical use cases)."
   ]
  },
  {
   "cell_type": "markdown",
   "metadata": {},
   "source": [
    "Here are examples how `All` and `Between` can be used to select columns of a data frame."
   ]
  },
  {
   "cell_type": "code",
   "execution_count": 28,
   "metadata": {},
   "outputs": [
    {
     "data": {
      "text/html": [
       "<table class=\"data-frame\"><thead><tr><th></th><th>x1</th><th>x2</th><th>x3</th><th>x4</th><th>x5</th></tr><tr><th></th><th>Float64</th><th>Float64</th><th>Float64</th><th>Float64</th><th>Float64</th></tr></thead><tbody><p>4 rows × 5 columns</p><tr><th>1</th><td>0.549554</td><td>0.262778</td><td>0.279193</td><td>0.256622</td><td>0.278516</td></tr><tr><th>2</th><td>0.340675</td><td>0.433378</td><td>0.729121</td><td>0.607762</td><td>0.412879</td></tr><tr><th>3</th><td>0.594728</td><td>0.114828</td><td>0.628797</td><td>0.904247</td><td>0.868032</td></tr><tr><th>4</th><td>0.130788</td><td>0.219316</td><td>0.620918</td><td>0.291334</td><td>0.0503846</td></tr></tbody></table>"
      ],
      "text/latex": [
       "\\begin{tabular}{r|ccccc}\n",
       "\t& x1 & x2 & x3 & x4 & x5\\\\\n",
       "\t\\hline\n",
       "\t& Float64 & Float64 & Float64 & Float64 & Float64\\\\\n",
       "\t\\hline\n",
       "\t1 & 0.549554 & 0.262778 & 0.279193 & 0.256622 & 0.278516 \\\\\n",
       "\t2 & 0.340675 & 0.433378 & 0.729121 & 0.607762 & 0.412879 \\\\\n",
       "\t3 & 0.594728 & 0.114828 & 0.628797 & 0.904247 & 0.868032 \\\\\n",
       "\t4 & 0.130788 & 0.219316 & 0.620918 & 0.291334 & 0.0503846 \\\\\n",
       "\\end{tabular}\n"
      ],
      "text/plain": [
       "4×5 DataFrame\n",
       "│ Row │ x1       │ x2       │ x3       │ x4       │ x5        │\n",
       "│     │ \u001b[90mFloat64\u001b[39m  │ \u001b[90mFloat64\u001b[39m  │ \u001b[90mFloat64\u001b[39m  │ \u001b[90mFloat64\u001b[39m  │ \u001b[90mFloat64\u001b[39m   │\n",
       "├─────┼──────────┼──────────┼──────────┼──────────┼───────────┤\n",
       "│ 1   │ 0.549554 │ 0.262778 │ 0.279193 │ 0.256622 │ 0.278516  │\n",
       "│ 2   │ 0.340675 │ 0.433378 │ 0.729121 │ 0.607762 │ 0.412879  │\n",
       "│ 3   │ 0.594728 │ 0.114828 │ 0.628797 │ 0.904247 │ 0.868032  │\n",
       "│ 4   │ 0.130788 │ 0.219316 │ 0.620918 │ 0.291334 │ 0.0503846 │"
      ]
     },
     "execution_count": 28,
     "metadata": {},
     "output_type": "execute_result"
    }
   ],
   "source": [
    "x = DataFrame(rand(4, 5))"
   ]
  },
  {
   "cell_type": "code",
   "execution_count": 29,
   "metadata": {},
   "outputs": [
    {
     "data": {
      "text/html": [
       "<table class=\"data-frame\"><thead><tr><th></th><th>x2</th><th>x3</th><th>x4</th></tr><tr><th></th><th>Float64</th><th>Float64</th><th>Float64</th></tr></thead><tbody><p>4 rows × 3 columns</p><tr><th>1</th><td>0.262778</td><td>0.279193</td><td>0.256622</td></tr><tr><th>2</th><td>0.433378</td><td>0.729121</td><td>0.607762</td></tr><tr><th>3</th><td>0.114828</td><td>0.628797</td><td>0.904247</td></tr><tr><th>4</th><td>0.219316</td><td>0.620918</td><td>0.291334</td></tr></tbody></table>"
      ],
      "text/latex": [
       "\\begin{tabular}{r|ccc}\n",
       "\t& x2 & x3 & x4\\\\\n",
       "\t\\hline\n",
       "\t& Float64 & Float64 & Float64\\\\\n",
       "\t\\hline\n",
       "\t1 & 0.262778 & 0.279193 & 0.256622 \\\\\n",
       "\t2 & 0.433378 & 0.729121 & 0.607762 \\\\\n",
       "\t3 & 0.114828 & 0.628797 & 0.904247 \\\\\n",
       "\t4 & 0.219316 & 0.620918 & 0.291334 \\\\\n",
       "\\end{tabular}\n"
      ],
      "text/plain": [
       "4×3 DataFrame\n",
       "│ Row │ x2       │ x3       │ x4       │\n",
       "│     │ \u001b[90mFloat64\u001b[39m  │ \u001b[90mFloat64\u001b[39m  │ \u001b[90mFloat64\u001b[39m  │\n",
       "├─────┼──────────┼──────────┼──────────┤\n",
       "│ 1   │ 0.262778 │ 0.279193 │ 0.256622 │\n",
       "│ 2   │ 0.433378 │ 0.729121 │ 0.607762 │\n",
       "│ 3   │ 0.114828 │ 0.628797 │ 0.904247 │\n",
       "│ 4   │ 0.219316 │ 0.620918 │ 0.291334 │"
      ]
     },
     "execution_count": 29,
     "metadata": {},
     "output_type": "execute_result"
    }
   ],
   "source": [
    "x[:, Between(:x2, :x4)]"
   ]
  },
  {
   "cell_type": "code",
   "execution_count": 30,
   "metadata": {},
   "outputs": [
    {
     "data": {
      "text/html": [
       "<table class=\"data-frame\"><thead><tr><th></th><th>x1</th><th>x2</th><th>x3</th><th>x4</th></tr><tr><th></th><th>Float64</th><th>Float64</th><th>Float64</th><th>Float64</th></tr></thead><tbody><p>4 rows × 4 columns</p><tr><th>1</th><td>0.549554</td><td>0.262778</td><td>0.279193</td><td>0.256622</td></tr><tr><th>2</th><td>0.340675</td><td>0.433378</td><td>0.729121</td><td>0.607762</td></tr><tr><th>3</th><td>0.594728</td><td>0.114828</td><td>0.628797</td><td>0.904247</td></tr><tr><th>4</th><td>0.130788</td><td>0.219316</td><td>0.620918</td><td>0.291334</td></tr></tbody></table>"
      ],
      "text/latex": [
       "\\begin{tabular}{r|cccc}\n",
       "\t& x1 & x2 & x3 & x4\\\\\n",
       "\t\\hline\n",
       "\t& Float64 & Float64 & Float64 & Float64\\\\\n",
       "\t\\hline\n",
       "\t1 & 0.549554 & 0.262778 & 0.279193 & 0.256622 \\\\\n",
       "\t2 & 0.340675 & 0.433378 & 0.729121 & 0.607762 \\\\\n",
       "\t3 & 0.594728 & 0.114828 & 0.628797 & 0.904247 \\\\\n",
       "\t4 & 0.130788 & 0.219316 & 0.620918 & 0.291334 \\\\\n",
       "\\end{tabular}\n"
      ],
      "text/plain": [
       "4×4 DataFrame\n",
       "│ Row │ x1       │ x2       │ x3       │ x4       │\n",
       "│     │ \u001b[90mFloat64\u001b[39m  │ \u001b[90mFloat64\u001b[39m  │ \u001b[90mFloat64\u001b[39m  │ \u001b[90mFloat64\u001b[39m  │\n",
       "├─────┼──────────┼──────────┼──────────┼──────────┤\n",
       "│ 1   │ 0.549554 │ 0.262778 │ 0.279193 │ 0.256622 │\n",
       "│ 2   │ 0.340675 │ 0.433378 │ 0.729121 │ 0.607762 │\n",
       "│ 3   │ 0.594728 │ 0.114828 │ 0.628797 │ 0.904247 │\n",
       "│ 4   │ 0.130788 │ 0.219316 │ 0.620918 │ 0.291334 │"
      ]
     },
     "execution_count": 30,
     "metadata": {},
     "output_type": "execute_result"
    }
   ],
   "source": [
    "x[:, All(:x1, Between(:x2, :x4))]"
   ]
  },
  {
   "cell_type": "markdown",
   "metadata": {},
   "source": [
    "### Views"
   ]
  },
  {
   "cell_type": "markdown",
   "metadata": {},
   "source": [
    "You can simply create a view of a `DataFrame` (it is more efficient than creating a materialized selection). Here are the possible return value options."
   ]
  },
  {
   "cell_type": "code",
   "execution_count": 31,
   "metadata": {},
   "outputs": [
    {
     "data": {
      "text/plain": [
       "2-element view(::Array{Float64,1}, 1:2) with eltype Float64:\n",
       " 0.549554006434269  \n",
       " 0.34067516965756894"
      ]
     },
     "execution_count": 31,
     "metadata": {},
     "output_type": "execute_result"
    }
   ],
   "source": [
    "@view x[1:2, 1]"
   ]
  },
  {
   "cell_type": "code",
   "execution_count": 32,
   "metadata": {},
   "outputs": [
    {
     "data": {
      "text/plain": [
       "0-dimensional view(::Array{Float64,1}, 1) with eltype Float64:\n",
       "0.549554006434269"
      ]
     },
     "execution_count": 32,
     "metadata": {},
     "output_type": "execute_result"
    }
   ],
   "source": [
    "@view x[1,1]"
   ]
  },
  {
   "cell_type": "code",
   "execution_count": 33,
   "metadata": {},
   "outputs": [
    {
     "data": {
      "text/html": [
       "<p>DataFrameRow (2 columns)</p><table class=\"data-frame\"><thead><tr><th></th><th>x1</th><th>x2</th></tr><tr><th></th><th>Float64</th><th>Float64</th></tr></thead><tbody><tr><th>1</th><td>0.549554</td><td>0.262778</td></tr></tbody></table>"
      ],
      "text/latex": [
       "\\begin{tabular}{r|cc}\n",
       "\t& x1 & x2\\\\\n",
       "\t\\hline\n",
       "\t& Float64 & Float64\\\\\n",
       "\t\\hline\n",
       "\t1 & 0.549554 & 0.262778 \\\\\n",
       "\\end{tabular}\n"
      ],
      "text/plain": [
       "DataFrameRow\n",
       "│ Row │ x1       │ x2       │\n",
       "│     │ \u001b[90mFloat64\u001b[39m  │ \u001b[90mFloat64\u001b[39m  │\n",
       "├─────┼──────────┼──────────┤\n",
       "│ 1   │ 0.549554 │ 0.262778 │"
      ]
     },
     "execution_count": 33,
     "metadata": {},
     "output_type": "execute_result"
    }
   ],
   "source": [
    "@view x[1, 1:2] # a DataFrameRow, the same as for x[1, 1:2] without a view"
   ]
  },
  {
   "cell_type": "code",
   "execution_count": 34,
   "metadata": {},
   "outputs": [
    {
     "data": {
      "text/html": [
       "<table class=\"data-frame\"><thead><tr><th></th><th>x1</th><th>x2</th></tr><tr><th></th><th>Float64</th><th>Float64</th></tr></thead><tbody><p>2 rows × 2 columns</p><tr><th>1</th><td>0.549554</td><td>0.262778</td></tr><tr><th>2</th><td>0.340675</td><td>0.433378</td></tr></tbody></table>"
      ],
      "text/latex": [
       "\\begin{tabular}{r|cc}\n",
       "\t& x1 & x2\\\\\n",
       "\t\\hline\n",
       "\t& Float64 & Float64\\\\\n",
       "\t\\hline\n",
       "\t1 & 0.549554 & 0.262778 \\\\\n",
       "\t2 & 0.340675 & 0.433378 \\\\\n",
       "\\end{tabular}\n"
      ],
      "text/plain": [
       "2×2 SubDataFrame\n",
       "│ Row │ x1       │ x2       │\n",
       "│     │ \u001b[90mFloat64\u001b[39m  │ \u001b[90mFloat64\u001b[39m  │\n",
       "├─────┼──────────┼──────────┤\n",
       "│ 1   │ 0.549554 │ 0.262778 │\n",
       "│ 2   │ 0.340675 │ 0.433378 │"
      ]
     },
     "execution_count": 34,
     "metadata": {},
     "output_type": "execute_result"
    }
   ],
   "source": [
    "@view x[1:2, 1:2] # a SubDataFrame"
   ]
  }
 ],
 "metadata": {
  "@webio": {
   "lastCommId": null,
   "lastKernelId": null
  },
  "kernelspec": {
   "display_name": "Julia 1.2.0",
   "language": "julia",
   "name": "julia-1.2"
  },
  "language_info": {
   "file_extension": ".jl",
   "mimetype": "application/julia",
   "name": "julia",
   "version": "1.2.0"
  }
 },
 "nbformat": 4,
 "nbformat_minor": 1
}
