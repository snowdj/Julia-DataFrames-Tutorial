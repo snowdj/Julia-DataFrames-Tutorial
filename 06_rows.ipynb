{
 "cells": [
  {
   "cell_type": "markdown",
   "metadata": {},
   "source": [
    "# Introduction to DataFrames\n",
    "**[Bogumił Kamiński](http://bogumilkaminski.pl/about/), July 16, 2019**"
   ]
  },
  {
   "cell_type": "code",
   "execution_count": 1,
   "metadata": {},
   "outputs": [],
   "source": [
    "using DataFrames, Random\n",
    "Random.seed!(1);"
   ]
  },
  {
   "cell_type": "markdown",
   "metadata": {},
   "source": [
    "## Manipulating rows of DataFrame"
   ]
  },
  {
   "cell_type": "markdown",
   "metadata": {},
   "source": [
    "### Selecting rows"
   ]
  },
  {
   "cell_type": "code",
   "execution_count": 2,
   "metadata": {},
   "outputs": [
    {
     "data": {
      "text/html": [
       "<table class=\"data-frame\"><thead><tr><th></th><th>x1</th><th>x2</th><th>x3</th><th>x4</th><th>x5</th></tr><tr><th></th><th>Float64</th><th>Float64</th><th>Float64</th><th>Float64</th><th>Float64</th></tr></thead><tbody><p>4 rows × 5 columns</p><tr><th>1</th><td>0.236033</td><td>0.488613</td><td>0.251662</td><td>0.424718</td><td>0.251379</td></tr><tr><th>2</th><td>0.346517</td><td>0.210968</td><td>0.986666</td><td>0.773223</td><td>0.0203749</td></tr><tr><th>3</th><td>0.312707</td><td>0.951916</td><td>0.555751</td><td>0.28119</td><td>0.287702</td></tr><tr><th>4</th><td>0.00790928</td><td>0.999905</td><td>0.437108</td><td>0.209472</td><td>0.859512</td></tr></tbody></table>"
      ],
      "text/latex": [
       "\\begin{tabular}{r|ccccc}\n",
       "\t& x1 & x2 & x3 & x4 & x5\\\\\n",
       "\t\\hline\n",
       "\t& Float64 & Float64 & Float64 & Float64 & Float64\\\\\n",
       "\t\\hline\n",
       "\t1 & 0.236033 & 0.488613 & 0.251662 & 0.424718 & 0.251379 \\\\\n",
       "\t2 & 0.346517 & 0.210968 & 0.986666 & 0.773223 & 0.0203749 \\\\\n",
       "\t3 & 0.312707 & 0.951916 & 0.555751 & 0.28119 & 0.287702 \\\\\n",
       "\t4 & 0.00790928 & 0.999905 & 0.437108 & 0.209472 & 0.859512 \\\\\n",
       "\\end{tabular}\n"
      ],
      "text/plain": [
       "4×5 DataFrame\n",
       "│ Row │ x1         │ x2       │ x3       │ x4       │ x5        │\n",
       "│     │ \u001b[90mFloat64\u001b[39m    │ \u001b[90mFloat64\u001b[39m  │ \u001b[90mFloat64\u001b[39m  │ \u001b[90mFloat64\u001b[39m  │ \u001b[90mFloat64\u001b[39m   │\n",
       "├─────┼────────────┼──────────┼──────────┼──────────┼───────────┤\n",
       "│ 1   │ 0.236033   │ 0.488613 │ 0.251662 │ 0.424718 │ 0.251379  │\n",
       "│ 2   │ 0.346517   │ 0.210968 │ 0.986666 │ 0.773223 │ 0.0203749 │\n",
       "│ 3   │ 0.312707   │ 0.951916 │ 0.555751 │ 0.28119  │ 0.287702  │\n",
       "│ 4   │ 0.00790928 │ 0.999905 │ 0.437108 │ 0.209472 │ 0.859512  │"
      ]
     },
     "execution_count": 2,
     "metadata": {},
     "output_type": "execute_result"
    }
   ],
   "source": [
    "df = DataFrame(rand(4, 5))"
   ]
  },
  {
   "cell_type": "markdown",
   "metadata": {},
   "source": [
    "using `:` as row selector will copy columns"
   ]
  },
  {
   "cell_type": "code",
   "execution_count": 3,
   "metadata": {},
   "outputs": [
    {
     "data": {
      "text/html": [
       "<table class=\"data-frame\"><thead><tr><th></th><th>x1</th><th>x2</th><th>x3</th><th>x4</th><th>x5</th></tr><tr><th></th><th>Float64</th><th>Float64</th><th>Float64</th><th>Float64</th><th>Float64</th></tr></thead><tbody><p>4 rows × 5 columns</p><tr><th>1</th><td>0.236033</td><td>0.488613</td><td>0.251662</td><td>0.424718</td><td>0.251379</td></tr><tr><th>2</th><td>0.346517</td><td>0.210968</td><td>0.986666</td><td>0.773223</td><td>0.0203749</td></tr><tr><th>3</th><td>0.312707</td><td>0.951916</td><td>0.555751</td><td>0.28119</td><td>0.287702</td></tr><tr><th>4</th><td>0.00790928</td><td>0.999905</td><td>0.437108</td><td>0.209472</td><td>0.859512</td></tr></tbody></table>"
      ],
      "text/latex": [
       "\\begin{tabular}{r|ccccc}\n",
       "\t& x1 & x2 & x3 & x4 & x5\\\\\n",
       "\t\\hline\n",
       "\t& Float64 & Float64 & Float64 & Float64 & Float64\\\\\n",
       "\t\\hline\n",
       "\t1 & 0.236033 & 0.488613 & 0.251662 & 0.424718 & 0.251379 \\\\\n",
       "\t2 & 0.346517 & 0.210968 & 0.986666 & 0.773223 & 0.0203749 \\\\\n",
       "\t3 & 0.312707 & 0.951916 & 0.555751 & 0.28119 & 0.287702 \\\\\n",
       "\t4 & 0.00790928 & 0.999905 & 0.437108 & 0.209472 & 0.859512 \\\\\n",
       "\\end{tabular}\n"
      ],
      "text/plain": [
       "4×5 DataFrame\n",
       "│ Row │ x1         │ x2       │ x3       │ x4       │ x5        │\n",
       "│     │ \u001b[90mFloat64\u001b[39m    │ \u001b[90mFloat64\u001b[39m  │ \u001b[90mFloat64\u001b[39m  │ \u001b[90mFloat64\u001b[39m  │ \u001b[90mFloat64\u001b[39m   │\n",
       "├─────┼────────────┼──────────┼──────────┼──────────┼───────────┤\n",
       "│ 1   │ 0.236033   │ 0.488613 │ 0.251662 │ 0.424718 │ 0.251379  │\n",
       "│ 2   │ 0.346517   │ 0.210968 │ 0.986666 │ 0.773223 │ 0.0203749 │\n",
       "│ 3   │ 0.312707   │ 0.951916 │ 0.555751 │ 0.28119  │ 0.287702  │\n",
       "│ 4   │ 0.00790928 │ 0.999905 │ 0.437108 │ 0.209472 │ 0.859512  │"
      ]
     },
     "execution_count": 3,
     "metadata": {},
     "output_type": "execute_result"
    }
   ],
   "source": [
    "df[:, :]"
   ]
  },
  {
   "cell_type": "markdown",
   "metadata": {},
   "source": [
    "this is the same as"
   ]
  },
  {
   "cell_type": "code",
   "execution_count": 4,
   "metadata": {},
   "outputs": [
    {
     "data": {
      "text/html": [
       "<table class=\"data-frame\"><thead><tr><th></th><th>x1</th><th>x2</th><th>x3</th><th>x4</th><th>x5</th></tr><tr><th></th><th>Float64</th><th>Float64</th><th>Float64</th><th>Float64</th><th>Float64</th></tr></thead><tbody><p>4 rows × 5 columns</p><tr><th>1</th><td>0.236033</td><td>0.488613</td><td>0.251662</td><td>0.424718</td><td>0.251379</td></tr><tr><th>2</th><td>0.346517</td><td>0.210968</td><td>0.986666</td><td>0.773223</td><td>0.0203749</td></tr><tr><th>3</th><td>0.312707</td><td>0.951916</td><td>0.555751</td><td>0.28119</td><td>0.287702</td></tr><tr><th>4</th><td>0.00790928</td><td>0.999905</td><td>0.437108</td><td>0.209472</td><td>0.859512</td></tr></tbody></table>"
      ],
      "text/latex": [
       "\\begin{tabular}{r|ccccc}\n",
       "\t& x1 & x2 & x3 & x4 & x5\\\\\n",
       "\t\\hline\n",
       "\t& Float64 & Float64 & Float64 & Float64 & Float64\\\\\n",
       "\t\\hline\n",
       "\t1 & 0.236033 & 0.488613 & 0.251662 & 0.424718 & 0.251379 \\\\\n",
       "\t2 & 0.346517 & 0.210968 & 0.986666 & 0.773223 & 0.0203749 \\\\\n",
       "\t3 & 0.312707 & 0.951916 & 0.555751 & 0.28119 & 0.287702 \\\\\n",
       "\t4 & 0.00790928 & 0.999905 & 0.437108 & 0.209472 & 0.859512 \\\\\n",
       "\\end{tabular}\n"
      ],
      "text/plain": [
       "4×5 DataFrame\n",
       "│ Row │ x1         │ x2       │ x3       │ x4       │ x5        │\n",
       "│     │ \u001b[90mFloat64\u001b[39m    │ \u001b[90mFloat64\u001b[39m  │ \u001b[90mFloat64\u001b[39m  │ \u001b[90mFloat64\u001b[39m  │ \u001b[90mFloat64\u001b[39m   │\n",
       "├─────┼────────────┼──────────┼──────────┼──────────┼───────────┤\n",
       "│ 1   │ 0.236033   │ 0.488613 │ 0.251662 │ 0.424718 │ 0.251379  │\n",
       "│ 2   │ 0.346517   │ 0.210968 │ 0.986666 │ 0.773223 │ 0.0203749 │\n",
       "│ 3   │ 0.312707   │ 0.951916 │ 0.555751 │ 0.28119  │ 0.287702  │\n",
       "│ 4   │ 0.00790928 │ 0.999905 │ 0.437108 │ 0.209472 │ 0.859512  │"
      ]
     },
     "execution_count": 4,
     "metadata": {},
     "output_type": "execute_result"
    }
   ],
   "source": [
    "copy(df)"
   ]
  },
  {
   "cell_type": "markdown",
   "metadata": {},
   "source": [
    "you can get a subset of rows of a data frame without copying using `view` to get a `SubDataFrame` "
   ]
  },
  {
   "cell_type": "code",
   "execution_count": 5,
   "metadata": {},
   "outputs": [
    {
     "data": {
      "text/html": [
       "<table class=\"data-frame\"><thead><tr><th></th><th>x1</th><th>x2</th><th>x3</th></tr><tr><th></th><th>Float64</th><th>Float64</th><th>Float64</th></tr></thead><tbody><p>3 rows × 3 columns</p><tr><th>1</th><td>0.236033</td><td>0.488613</td><td>0.251662</td></tr><tr><th>2</th><td>0.346517</td><td>0.210968</td><td>0.986666</td></tr><tr><th>3</th><td>0.312707</td><td>0.951916</td><td>0.555751</td></tr></tbody></table>"
      ],
      "text/latex": [
       "\\begin{tabular}{r|ccc}\n",
       "\t& x1 & x2 & x3\\\\\n",
       "\t\\hline\n",
       "\t& Float64 & Float64 & Float64\\\\\n",
       "\t\\hline\n",
       "\t1 & 0.236033 & 0.488613 & 0.251662 \\\\\n",
       "\t2 & 0.346517 & 0.210968 & 0.986666 \\\\\n",
       "\t3 & 0.312707 & 0.951916 & 0.555751 \\\\\n",
       "\\end{tabular}\n"
      ],
      "text/plain": [
       "3×3 SubDataFrame\n",
       "│ Row │ x1       │ x2       │ x3       │\n",
       "│     │ \u001b[90mFloat64\u001b[39m  │ \u001b[90mFloat64\u001b[39m  │ \u001b[90mFloat64\u001b[39m  │\n",
       "├─────┼──────────┼──────────┼──────────┤\n",
       "│ 1   │ 0.236033 │ 0.488613 │ 0.251662 │\n",
       "│ 2   │ 0.346517 │ 0.210968 │ 0.986666 │\n",
       "│ 3   │ 0.312707 │ 0.951916 │ 0.555751 │"
      ]
     },
     "execution_count": 5,
     "metadata": {},
     "output_type": "execute_result"
    }
   ],
   "source": [
    "sdf = view(df, 1:3, 1:3)"
   ]
  },
  {
   "cell_type": "markdown",
   "metadata": {},
   "source": [
    "you still have a detailed reference to the parent"
   ]
  },
  {
   "cell_type": "code",
   "execution_count": 6,
   "metadata": {},
   "outputs": [
    {
     "data": {
      "text/plain": [
       "(4×5 DataFrame\n",
       "│ Row │ x1         │ x2       │ x3       │ x4       │ x5        │\n",
       "│     │ \u001b[90mFloat64\u001b[39m    │ \u001b[90mFloat64\u001b[39m  │ \u001b[90mFloat64\u001b[39m  │ \u001b[90mFloat64\u001b[39m  │ \u001b[90mFloat64\u001b[39m   │\n",
       "├─────┼────────────┼──────────┼──────────┼──────────┼───────────┤\n",
       "│ 1   │ 0.236033   │ 0.488613 │ 0.251662 │ 0.424718 │ 0.251379  │\n",
       "│ 2   │ 0.346517   │ 0.210968 │ 0.986666 │ 0.773223 │ 0.0203749 │\n",
       "│ 3   │ 0.312707   │ 0.951916 │ 0.555751 │ 0.28119  │ 0.287702  │\n",
       "│ 4   │ 0.00790928 │ 0.999905 │ 0.437108 │ 0.209472 │ 0.859512  │, (1:3, 1:3))"
      ]
     },
     "execution_count": 6,
     "metadata": {},
     "output_type": "execute_result"
    }
   ],
   "source": [
    "parent(sdf), parentindices(sdf)"
   ]
  },
  {
   "cell_type": "markdown",
   "metadata": {},
   "source": [
    "selecting a single row returns a `DataFrameRow` object which is also a view"
   ]
  },
  {
   "cell_type": "code",
   "execution_count": 7,
   "metadata": {},
   "outputs": [
    {
     "data": {
      "text/html": [
       "<p>DataFrameRow</p><table class=\"data-frame\"><thead><tr><th></th><th>x1</th><th>x2</th><th>x3</th><th>x4</th><th>x5</th></tr><tr><th></th><th>Float64</th><th>Float64</th><th>Float64</th><th>Float64</th><th>Float64</th></tr></thead><tbody><p>1 rows × 5 columns</p><tr><th>3</th><td>0.312707</td><td>0.951916</td><td>0.555751</td><td>0.28119</td><td>0.287702</td></tr></tbody></table>"
      ],
      "text/latex": [
       "\\begin{tabular}{r|ccccc}\n",
       "\t& x1 & x2 & x3 & x4 & x5\\\\\n",
       "\t\\hline\n",
       "\t& Float64 & Float64 & Float64 & Float64 & Float64\\\\\n",
       "\t\\hline\n",
       "\t3 & 0.312707 & 0.951916 & 0.555751 & 0.28119 & 0.287702 \\\\\n",
       "\\end{tabular}\n"
      ],
      "text/plain": [
       "DataFrameRow\n",
       "│ Row │ x1       │ x2       │ x3       │ x4      │ x5       │\n",
       "│     │ \u001b[90mFloat64\u001b[39m  │ \u001b[90mFloat64\u001b[39m  │ \u001b[90mFloat64\u001b[39m  │ \u001b[90mFloat64\u001b[39m │ \u001b[90mFloat64\u001b[39m  │\n",
       "├─────┼──────────┼──────────┼──────────┼─────────┼──────────┤\n",
       "│ 3   │ 0.312707 │ 0.951916 │ 0.555751 │ 0.28119 │ 0.287702 │"
      ]
     },
     "execution_count": 7,
     "metadata": {},
     "output_type": "execute_result"
    }
   ],
   "source": [
    "dfr = df[3, :]"
   ]
  },
  {
   "cell_type": "code",
   "execution_count": 8,
   "metadata": {},
   "outputs": [
    {
     "data": {
      "text/plain": [
       "(4×5 DataFrame\n",
       "│ Row │ x1         │ x2       │ x3       │ x4       │ x5        │\n",
       "│     │ \u001b[90mFloat64\u001b[39m    │ \u001b[90mFloat64\u001b[39m  │ \u001b[90mFloat64\u001b[39m  │ \u001b[90mFloat64\u001b[39m  │ \u001b[90mFloat64\u001b[39m   │\n",
       "├─────┼────────────┼──────────┼──────────┼──────────┼───────────┤\n",
       "│ 1   │ 0.236033   │ 0.488613 │ 0.251662 │ 0.424718 │ 0.251379  │\n",
       "│ 2   │ 0.346517   │ 0.210968 │ 0.986666 │ 0.773223 │ 0.0203749 │\n",
       "│ 3   │ 0.312707   │ 0.951916 │ 0.555751 │ 0.28119  │ 0.287702  │\n",
       "│ 4   │ 0.00790928 │ 0.999905 │ 0.437108 │ 0.209472 │ 0.859512  │, (3, Base.OneTo(5)))"
      ]
     },
     "execution_count": 8,
     "metadata": {},
     "output_type": "execute_result"
    }
   ],
   "source": [
    "parent(dfr), parentindices(dfr)"
   ]
  },
  {
   "cell_type": "markdown",
   "metadata": {},
   "source": [
    "let us add a column to a data frame by assigning a scalar broadcasting"
   ]
  },
  {
   "cell_type": "code",
   "execution_count": 9,
   "metadata": {},
   "outputs": [
    {
     "data": {
      "text/plain": [
       "4-element Array{Int64,1}:\n",
       " 1\n",
       " 1\n",
       " 1\n",
       " 1"
      ]
     },
     "execution_count": 9,
     "metadata": {},
     "output_type": "execute_result"
    }
   ],
   "source": [
    "df[!, :Z] .= 1"
   ]
  },
  {
   "cell_type": "code",
   "execution_count": 10,
   "metadata": {},
   "outputs": [
    {
     "data": {
      "text/html": [
       "<table class=\"data-frame\"><thead><tr><th></th><th>x1</th><th>x2</th><th>x3</th><th>x4</th><th>x5</th><th>Z</th></tr><tr><th></th><th>Float64</th><th>Float64</th><th>Float64</th><th>Float64</th><th>Float64</th><th>Int64</th></tr></thead><tbody><p>4 rows × 6 columns</p><tr><th>1</th><td>0.236033</td><td>0.488613</td><td>0.251662</td><td>0.424718</td><td>0.251379</td><td>1</td></tr><tr><th>2</th><td>0.346517</td><td>0.210968</td><td>0.986666</td><td>0.773223</td><td>0.0203749</td><td>1</td></tr><tr><th>3</th><td>0.312707</td><td>0.951916</td><td>0.555751</td><td>0.28119</td><td>0.287702</td><td>1</td></tr><tr><th>4</th><td>0.00790928</td><td>0.999905</td><td>0.437108</td><td>0.209472</td><td>0.859512</td><td>1</td></tr></tbody></table>"
      ],
      "text/latex": [
       "\\begin{tabular}{r|cccccc}\n",
       "\t& x1 & x2 & x3 & x4 & x5 & Z\\\\\n",
       "\t\\hline\n",
       "\t& Float64 & Float64 & Float64 & Float64 & Float64 & Int64\\\\\n",
       "\t\\hline\n",
       "\t1 & 0.236033 & 0.488613 & 0.251662 & 0.424718 & 0.251379 & 1 \\\\\n",
       "\t2 & 0.346517 & 0.210968 & 0.986666 & 0.773223 & 0.0203749 & 1 \\\\\n",
       "\t3 & 0.312707 & 0.951916 & 0.555751 & 0.28119 & 0.287702 & 1 \\\\\n",
       "\t4 & 0.00790928 & 0.999905 & 0.437108 & 0.209472 & 0.859512 & 1 \\\\\n",
       "\\end{tabular}\n"
      ],
      "text/plain": [
       "4×6 DataFrame\n",
       "│ Row │ x1         │ x2       │ x3       │ x4       │ x5        │ Z     │\n",
       "│     │ \u001b[90mFloat64\u001b[39m    │ \u001b[90mFloat64\u001b[39m  │ \u001b[90mFloat64\u001b[39m  │ \u001b[90mFloat64\u001b[39m  │ \u001b[90mFloat64\u001b[39m   │ \u001b[90mInt64\u001b[39m │\n",
       "├─────┼────────────┼──────────┼──────────┼──────────┼───────────┼───────┤\n",
       "│ 1   │ 0.236033   │ 0.488613 │ 0.251662 │ 0.424718 │ 0.251379  │ 1     │\n",
       "│ 2   │ 0.346517   │ 0.210968 │ 0.986666 │ 0.773223 │ 0.0203749 │ 1     │\n",
       "│ 3   │ 0.312707   │ 0.951916 │ 0.555751 │ 0.28119  │ 0.287702  │ 1     │\n",
       "│ 4   │ 0.00790928 │ 0.999905 │ 0.437108 │ 0.209472 │ 0.859512  │ 1     │"
      ]
     },
     "execution_count": 10,
     "metadata": {},
     "output_type": "execute_result"
    }
   ],
   "source": [
    "df"
   ]
  },
  {
   "cell_type": "markdown",
   "metadata": {},
   "source": [
    "Earlier we used `:` for column selection in a view (`SubDataFrame` and `DataFrameRow`).\n",
    "In this case a view will have all columns of the parent after the parent is mutated."
   ]
  },
  {
   "cell_type": "code",
   "execution_count": 11,
   "metadata": {},
   "outputs": [
    {
     "data": {
      "text/html": [
       "<p>DataFrameRow</p><table class=\"data-frame\"><thead><tr><th></th><th>x1</th><th>x2</th><th>x3</th><th>x4</th><th>x5</th><th>Z</th></tr><tr><th></th><th>Float64</th><th>Float64</th><th>Float64</th><th>Float64</th><th>Float64</th><th>Int64</th></tr></thead><tbody><p>1 rows × 6 columns</p><tr><th>3</th><td>0.312707</td><td>0.951916</td><td>0.555751</td><td>0.28119</td><td>0.287702</td><td>1</td></tr></tbody></table>"
      ],
      "text/latex": [
       "\\begin{tabular}{r|cccccc}\n",
       "\t& x1 & x2 & x3 & x4 & x5 & Z\\\\\n",
       "\t\\hline\n",
       "\t& Float64 & Float64 & Float64 & Float64 & Float64 & Int64\\\\\n",
       "\t\\hline\n",
       "\t3 & 0.312707 & 0.951916 & 0.555751 & 0.28119 & 0.287702 & 1 \\\\\n",
       "\\end{tabular}\n"
      ],
      "text/plain": [
       "DataFrameRow\n",
       "│ Row │ x1       │ x2       │ x3       │ x4      │ x5       │ Z     │\n",
       "│     │ \u001b[90mFloat64\u001b[39m  │ \u001b[90mFloat64\u001b[39m  │ \u001b[90mFloat64\u001b[39m  │ \u001b[90mFloat64\u001b[39m │ \u001b[90mFloat64\u001b[39m  │ \u001b[90mInt64\u001b[39m │\n",
       "├─────┼──────────┼──────────┼──────────┼─────────┼──────────┼───────┤\n",
       "│ 3   │ 0.312707 │ 0.951916 │ 0.555751 │ 0.28119 │ 0.287702 │ 1     │"
      ]
     },
     "execution_count": 11,
     "metadata": {},
     "output_type": "execute_result"
    }
   ],
   "source": [
    "dfr"
   ]
  },
  {
   "cell_type": "code",
   "execution_count": 12,
   "metadata": {},
   "outputs": [
    {
     "data": {
      "text/plain": [
       "(4×6 DataFrame\n",
       "│ Row │ x1         │ x2       │ x3       │ x4       │ x5        │ Z     │\n",
       "│     │ \u001b[90mFloat64\u001b[39m    │ \u001b[90mFloat64\u001b[39m  │ \u001b[90mFloat64\u001b[39m  │ \u001b[90mFloat64\u001b[39m  │ \u001b[90mFloat64\u001b[39m   │ \u001b[90mInt64\u001b[39m │\n",
       "├─────┼────────────┼──────────┼──────────┼──────────┼───────────┼───────┤\n",
       "│ 1   │ 0.236033   │ 0.488613 │ 0.251662 │ 0.424718 │ 0.251379  │ 1     │\n",
       "│ 2   │ 0.346517   │ 0.210968 │ 0.986666 │ 0.773223 │ 0.0203749 │ 1     │\n",
       "│ 3   │ 0.312707   │ 0.951916 │ 0.555751 │ 0.28119  │ 0.287702  │ 1     │\n",
       "│ 4   │ 0.00790928 │ 0.999905 │ 0.437108 │ 0.209472 │ 0.859512  │ 1     │, (3, Base.OneTo(6)))"
      ]
     },
     "execution_count": 12,
     "metadata": {},
     "output_type": "execute_result"
    }
   ],
   "source": [
    "parent(dfr), parentindices(dfr)"
   ]
  },
  {
   "cell_type": "markdown",
   "metadata": {},
   "source": [
    "### Reordering rows"
   ]
  },
  {
   "cell_type": "markdown",
   "metadata": {},
   "source": [
    "We create some random data frame (and hope that `x[:x]` is not sorted :), which is quite likely with 12 rows)"
   ]
  },
  {
   "cell_type": "code",
   "execution_count": 13,
   "metadata": {},
   "outputs": [
    {
     "data": {
      "text/html": [
       "<table class=\"data-frame\"><thead><tr><th></th><th>id</th><th>x</th><th>y</th></tr><tr><th></th><th>Int64</th><th>Float64</th><th>Float64</th></tr></thead><tbody><p>12 rows × 3 columns</p><tr><th>1</th><td>1</td><td>0.0769509</td><td>0.0</td></tr><tr><th>2</th><td>2</td><td>0.640396</td><td>0.0</td></tr><tr><th>3</th><td>3</td><td>0.873544</td><td>0.0</td></tr><tr><th>4</th><td>4</td><td>0.278582</td><td>0.0</td></tr><tr><th>5</th><td>5</td><td>0.751313</td><td>0.0</td></tr><tr><th>6</th><td>6</td><td>0.644883</td><td>0.0</td></tr><tr><th>7</th><td>7</td><td>0.0778264</td><td>1.0</td></tr><tr><th>8</th><td>8</td><td>0.848185</td><td>1.0</td></tr><tr><th>9</th><td>9</td><td>0.0856352</td><td>1.0</td></tr><tr><th>10</th><td>10</td><td>0.553206</td><td>1.0</td></tr><tr><th>11</th><td>11</td><td>0.46335</td><td>1.0</td></tr><tr><th>12</th><td>12</td><td>0.185821</td><td>1.0</td></tr></tbody></table>"
      ],
      "text/latex": [
       "\\begin{tabular}{r|ccc}\n",
       "\t& id & x & y\\\\\n",
       "\t\\hline\n",
       "\t& Int64 & Float64 & Float64\\\\\n",
       "\t\\hline\n",
       "\t1 & 1 & 0.0769509 & 0.0 \\\\\n",
       "\t2 & 2 & 0.640396 & 0.0 \\\\\n",
       "\t3 & 3 & 0.873544 & 0.0 \\\\\n",
       "\t4 & 4 & 0.278582 & 0.0 \\\\\n",
       "\t5 & 5 & 0.751313 & 0.0 \\\\\n",
       "\t6 & 6 & 0.644883 & 0.0 \\\\\n",
       "\t7 & 7 & 0.0778264 & 1.0 \\\\\n",
       "\t8 & 8 & 0.848185 & 1.0 \\\\\n",
       "\t9 & 9 & 0.0856352 & 1.0 \\\\\n",
       "\t10 & 10 & 0.553206 & 1.0 \\\\\n",
       "\t11 & 11 & 0.46335 & 1.0 \\\\\n",
       "\t12 & 12 & 0.185821 & 1.0 \\\\\n",
       "\\end{tabular}\n"
      ],
      "text/plain": [
       "12×3 DataFrame\n",
       "│ Row │ id    │ x         │ y       │\n",
       "│     │ \u001b[90mInt64\u001b[39m │ \u001b[90mFloat64\u001b[39m   │ \u001b[90mFloat64\u001b[39m │\n",
       "├─────┼───────┼───────────┼─────────┤\n",
       "│ 1   │ 1     │ 0.0769509 │ 0.0     │\n",
       "│ 2   │ 2     │ 0.640396  │ 0.0     │\n",
       "│ 3   │ 3     │ 0.873544  │ 0.0     │\n",
       "│ 4   │ 4     │ 0.278582  │ 0.0     │\n",
       "│ 5   │ 5     │ 0.751313  │ 0.0     │\n",
       "│ 6   │ 6     │ 0.644883  │ 0.0     │\n",
       "│ 7   │ 7     │ 0.0778264 │ 1.0     │\n",
       "│ 8   │ 8     │ 0.848185  │ 1.0     │\n",
       "│ 9   │ 9     │ 0.0856352 │ 1.0     │\n",
       "│ 10  │ 10    │ 0.553206  │ 1.0     │\n",
       "│ 11  │ 11    │ 0.46335   │ 1.0     │\n",
       "│ 12  │ 12    │ 0.185821  │ 1.0     │"
      ]
     },
     "execution_count": 13,
     "metadata": {},
     "output_type": "execute_result"
    }
   ],
   "source": [
    "x = DataFrame(id=1:12, x = rand(12), y = [zeros(6); ones(6)])"
   ]
  },
  {
   "cell_type": "markdown",
   "metadata": {},
   "source": [
    "check if a DataFrame or a subset of its columns is sorted"
   ]
  },
  {
   "cell_type": "code",
   "execution_count": 14,
   "metadata": {},
   "outputs": [
    {
     "data": {
      "text/plain": [
       "(true, false)"
      ]
     },
     "execution_count": 14,
     "metadata": {},
     "output_type": "execute_result"
    }
   ],
   "source": [
    "issorted(x), issorted(x, :x)"
   ]
  },
  {
   "cell_type": "markdown",
   "metadata": {},
   "source": [
    "we sort x in place"
   ]
  },
  {
   "cell_type": "code",
   "execution_count": 15,
   "metadata": {},
   "outputs": [
    {
     "data": {
      "text/html": [
       "<table class=\"data-frame\"><thead><tr><th></th><th>id</th><th>x</th><th>y</th></tr><tr><th></th><th>Int64</th><th>Float64</th><th>Float64</th></tr></thead><tbody><p>12 rows × 3 columns</p><tr><th>1</th><td>1</td><td>0.0769509</td><td>0.0</td></tr><tr><th>2</th><td>7</td><td>0.0778264</td><td>1.0</td></tr><tr><th>3</th><td>9</td><td>0.0856352</td><td>1.0</td></tr><tr><th>4</th><td>12</td><td>0.185821</td><td>1.0</td></tr><tr><th>5</th><td>4</td><td>0.278582</td><td>0.0</td></tr><tr><th>6</th><td>11</td><td>0.46335</td><td>1.0</td></tr><tr><th>7</th><td>10</td><td>0.553206</td><td>1.0</td></tr><tr><th>8</th><td>2</td><td>0.640396</td><td>0.0</td></tr><tr><th>9</th><td>6</td><td>0.644883</td><td>0.0</td></tr><tr><th>10</th><td>5</td><td>0.751313</td><td>0.0</td></tr><tr><th>11</th><td>8</td><td>0.848185</td><td>1.0</td></tr><tr><th>12</th><td>3</td><td>0.873544</td><td>0.0</td></tr></tbody></table>"
      ],
      "text/latex": [
       "\\begin{tabular}{r|ccc}\n",
       "\t& id & x & y\\\\\n",
       "\t\\hline\n",
       "\t& Int64 & Float64 & Float64\\\\\n",
       "\t\\hline\n",
       "\t1 & 1 & 0.0769509 & 0.0 \\\\\n",
       "\t2 & 7 & 0.0778264 & 1.0 \\\\\n",
       "\t3 & 9 & 0.0856352 & 1.0 \\\\\n",
       "\t4 & 12 & 0.185821 & 1.0 \\\\\n",
       "\t5 & 4 & 0.278582 & 0.0 \\\\\n",
       "\t6 & 11 & 0.46335 & 1.0 \\\\\n",
       "\t7 & 10 & 0.553206 & 1.0 \\\\\n",
       "\t8 & 2 & 0.640396 & 0.0 \\\\\n",
       "\t9 & 6 & 0.644883 & 0.0 \\\\\n",
       "\t10 & 5 & 0.751313 & 0.0 \\\\\n",
       "\t11 & 8 & 0.848185 & 1.0 \\\\\n",
       "\t12 & 3 & 0.873544 & 0.0 \\\\\n",
       "\\end{tabular}\n"
      ],
      "text/plain": [
       "12×3 DataFrame\n",
       "│ Row │ id    │ x         │ y       │\n",
       "│     │ \u001b[90mInt64\u001b[39m │ \u001b[90mFloat64\u001b[39m   │ \u001b[90mFloat64\u001b[39m │\n",
       "├─────┼───────┼───────────┼─────────┤\n",
       "│ 1   │ 1     │ 0.0769509 │ 0.0     │\n",
       "│ 2   │ 7     │ 0.0778264 │ 1.0     │\n",
       "│ 3   │ 9     │ 0.0856352 │ 1.0     │\n",
       "│ 4   │ 12    │ 0.185821  │ 1.0     │\n",
       "│ 5   │ 4     │ 0.278582  │ 0.0     │\n",
       "│ 6   │ 11    │ 0.46335   │ 1.0     │\n",
       "│ 7   │ 10    │ 0.553206  │ 1.0     │\n",
       "│ 8   │ 2     │ 0.640396  │ 0.0     │\n",
       "│ 9   │ 6     │ 0.644883  │ 0.0     │\n",
       "│ 10  │ 5     │ 0.751313  │ 0.0     │\n",
       "│ 11  │ 8     │ 0.848185  │ 1.0     │\n",
       "│ 12  │ 3     │ 0.873544  │ 0.0     │"
      ]
     },
     "execution_count": 15,
     "metadata": {},
     "output_type": "execute_result"
    }
   ],
   "source": [
    "sort!(x, :x)"
   ]
  },
  {
   "cell_type": "markdown",
   "metadata": {},
   "source": [
    "now we create a new DataFrame"
   ]
  },
  {
   "cell_type": "code",
   "execution_count": 16,
   "metadata": {},
   "outputs": [
    {
     "data": {
      "text/html": [
       "<table class=\"data-frame\"><thead><tr><th></th><th>id</th><th>x</th><th>y</th></tr><tr><th></th><th>Int64</th><th>Float64</th><th>Float64</th></tr></thead><tbody><p>12 rows × 3 columns</p><tr><th>1</th><td>1</td><td>0.0769509</td><td>0.0</td></tr><tr><th>2</th><td>2</td><td>0.640396</td><td>0.0</td></tr><tr><th>3</th><td>3</td><td>0.873544</td><td>0.0</td></tr><tr><th>4</th><td>4</td><td>0.278582</td><td>0.0</td></tr><tr><th>5</th><td>5</td><td>0.751313</td><td>0.0</td></tr><tr><th>6</th><td>6</td><td>0.644883</td><td>0.0</td></tr><tr><th>7</th><td>7</td><td>0.0778264</td><td>1.0</td></tr><tr><th>8</th><td>8</td><td>0.848185</td><td>1.0</td></tr><tr><th>9</th><td>9</td><td>0.0856352</td><td>1.0</td></tr><tr><th>10</th><td>10</td><td>0.553206</td><td>1.0</td></tr><tr><th>11</th><td>11</td><td>0.46335</td><td>1.0</td></tr><tr><th>12</th><td>12</td><td>0.185821</td><td>1.0</td></tr></tbody></table>"
      ],
      "text/latex": [
       "\\begin{tabular}{r|ccc}\n",
       "\t& id & x & y\\\\\n",
       "\t\\hline\n",
       "\t& Int64 & Float64 & Float64\\\\\n",
       "\t\\hline\n",
       "\t1 & 1 & 0.0769509 & 0.0 \\\\\n",
       "\t2 & 2 & 0.640396 & 0.0 \\\\\n",
       "\t3 & 3 & 0.873544 & 0.0 \\\\\n",
       "\t4 & 4 & 0.278582 & 0.0 \\\\\n",
       "\t5 & 5 & 0.751313 & 0.0 \\\\\n",
       "\t6 & 6 & 0.644883 & 0.0 \\\\\n",
       "\t7 & 7 & 0.0778264 & 1.0 \\\\\n",
       "\t8 & 8 & 0.848185 & 1.0 \\\\\n",
       "\t9 & 9 & 0.0856352 & 1.0 \\\\\n",
       "\t10 & 10 & 0.553206 & 1.0 \\\\\n",
       "\t11 & 11 & 0.46335 & 1.0 \\\\\n",
       "\t12 & 12 & 0.185821 & 1.0 \\\\\n",
       "\\end{tabular}\n"
      ],
      "text/plain": [
       "12×3 DataFrame\n",
       "│ Row │ id    │ x         │ y       │\n",
       "│     │ \u001b[90mInt64\u001b[39m │ \u001b[90mFloat64\u001b[39m   │ \u001b[90mFloat64\u001b[39m │\n",
       "├─────┼───────┼───────────┼─────────┤\n",
       "│ 1   │ 1     │ 0.0769509 │ 0.0     │\n",
       "│ 2   │ 2     │ 0.640396  │ 0.0     │\n",
       "│ 3   │ 3     │ 0.873544  │ 0.0     │\n",
       "│ 4   │ 4     │ 0.278582  │ 0.0     │\n",
       "│ 5   │ 5     │ 0.751313  │ 0.0     │\n",
       "│ 6   │ 6     │ 0.644883  │ 0.0     │\n",
       "│ 7   │ 7     │ 0.0778264 │ 1.0     │\n",
       "│ 8   │ 8     │ 0.848185  │ 1.0     │\n",
       "│ 9   │ 9     │ 0.0856352 │ 1.0     │\n",
       "│ 10  │ 10    │ 0.553206  │ 1.0     │\n",
       "│ 11  │ 11    │ 0.46335   │ 1.0     │\n",
       "│ 12  │ 12    │ 0.185821  │ 1.0     │"
      ]
     },
     "execution_count": 16,
     "metadata": {},
     "output_type": "execute_result"
    }
   ],
   "source": [
    "y = sort(x, :id)"
   ]
  },
  {
   "cell_type": "markdown",
   "metadata": {},
   "source": [
    "here we sort by two columns, first is decreasing, second is increasing"
   ]
  },
  {
   "cell_type": "code",
   "execution_count": 17,
   "metadata": {},
   "outputs": [
    {
     "data": {
      "text/html": [
       "<table class=\"data-frame\"><thead><tr><th></th><th>id</th><th>x</th><th>y</th></tr><tr><th></th><th>Int64</th><th>Float64</th><th>Float64</th></tr></thead><tbody><p>12 rows × 3 columns</p><tr><th>1</th><td>7</td><td>0.0778264</td><td>1.0</td></tr><tr><th>2</th><td>9</td><td>0.0856352</td><td>1.0</td></tr><tr><th>3</th><td>12</td><td>0.185821</td><td>1.0</td></tr><tr><th>4</th><td>11</td><td>0.46335</td><td>1.0</td></tr><tr><th>5</th><td>10</td><td>0.553206</td><td>1.0</td></tr><tr><th>6</th><td>8</td><td>0.848185</td><td>1.0</td></tr><tr><th>7</th><td>1</td><td>0.0769509</td><td>0.0</td></tr><tr><th>8</th><td>4</td><td>0.278582</td><td>0.0</td></tr><tr><th>9</th><td>2</td><td>0.640396</td><td>0.0</td></tr><tr><th>10</th><td>6</td><td>0.644883</td><td>0.0</td></tr><tr><th>11</th><td>5</td><td>0.751313</td><td>0.0</td></tr><tr><th>12</th><td>3</td><td>0.873544</td><td>0.0</td></tr></tbody></table>"
      ],
      "text/latex": [
       "\\begin{tabular}{r|ccc}\n",
       "\t& id & x & y\\\\\n",
       "\t\\hline\n",
       "\t& Int64 & Float64 & Float64\\\\\n",
       "\t\\hline\n",
       "\t1 & 7 & 0.0778264 & 1.0 \\\\\n",
       "\t2 & 9 & 0.0856352 & 1.0 \\\\\n",
       "\t3 & 12 & 0.185821 & 1.0 \\\\\n",
       "\t4 & 11 & 0.46335 & 1.0 \\\\\n",
       "\t5 & 10 & 0.553206 & 1.0 \\\\\n",
       "\t6 & 8 & 0.848185 & 1.0 \\\\\n",
       "\t7 & 1 & 0.0769509 & 0.0 \\\\\n",
       "\t8 & 4 & 0.278582 & 0.0 \\\\\n",
       "\t9 & 2 & 0.640396 & 0.0 \\\\\n",
       "\t10 & 6 & 0.644883 & 0.0 \\\\\n",
       "\t11 & 5 & 0.751313 & 0.0 \\\\\n",
       "\t12 & 3 & 0.873544 & 0.0 \\\\\n",
       "\\end{tabular}\n"
      ],
      "text/plain": [
       "12×3 DataFrame\n",
       "│ Row │ id    │ x         │ y       │\n",
       "│     │ \u001b[90mInt64\u001b[39m │ \u001b[90mFloat64\u001b[39m   │ \u001b[90mFloat64\u001b[39m │\n",
       "├─────┼───────┼───────────┼─────────┤\n",
       "│ 1   │ 7     │ 0.0778264 │ 1.0     │\n",
       "│ 2   │ 9     │ 0.0856352 │ 1.0     │\n",
       "│ 3   │ 12    │ 0.185821  │ 1.0     │\n",
       "│ 4   │ 11    │ 0.46335   │ 1.0     │\n",
       "│ 5   │ 10    │ 0.553206  │ 1.0     │\n",
       "│ 6   │ 8     │ 0.848185  │ 1.0     │\n",
       "│ 7   │ 1     │ 0.0769509 │ 0.0     │\n",
       "│ 8   │ 4     │ 0.278582  │ 0.0     │\n",
       "│ 9   │ 2     │ 0.640396  │ 0.0     │\n",
       "│ 10  │ 6     │ 0.644883  │ 0.0     │\n",
       "│ 11  │ 5     │ 0.751313  │ 0.0     │\n",
       "│ 12  │ 3     │ 0.873544  │ 0.0     │"
      ]
     },
     "execution_count": 17,
     "metadata": {},
     "output_type": "execute_result"
    }
   ],
   "source": [
    "sort(x, (:y, :x), rev=(true, false))"
   ]
  },
  {
   "cell_type": "code",
   "execution_count": 18,
   "metadata": {},
   "outputs": [
    {
     "data": {
      "text/html": [
       "<table class=\"data-frame\"><thead><tr><th></th><th>id</th><th>x</th><th>y</th></tr><tr><th></th><th>Int64</th><th>Float64</th><th>Float64</th></tr></thead><tbody><p>12 rows × 3 columns</p><tr><th>1</th><td>7</td><td>0.0778264</td><td>1.0</td></tr><tr><th>2</th><td>9</td><td>0.0856352</td><td>1.0</td></tr><tr><th>3</th><td>12</td><td>0.185821</td><td>1.0</td></tr><tr><th>4</th><td>11</td><td>0.46335</td><td>1.0</td></tr><tr><th>5</th><td>10</td><td>0.553206</td><td>1.0</td></tr><tr><th>6</th><td>8</td><td>0.848185</td><td>1.0</td></tr><tr><th>7</th><td>1</td><td>0.0769509</td><td>0.0</td></tr><tr><th>8</th><td>4</td><td>0.278582</td><td>0.0</td></tr><tr><th>9</th><td>2</td><td>0.640396</td><td>0.0</td></tr><tr><th>10</th><td>6</td><td>0.644883</td><td>0.0</td></tr><tr><th>11</th><td>5</td><td>0.751313</td><td>0.0</td></tr><tr><th>12</th><td>3</td><td>0.873544</td><td>0.0</td></tr></tbody></table>"
      ],
      "text/latex": [
       "\\begin{tabular}{r|ccc}\n",
       "\t& id & x & y\\\\\n",
       "\t\\hline\n",
       "\t& Int64 & Float64 & Float64\\\\\n",
       "\t\\hline\n",
       "\t1 & 7 & 0.0778264 & 1.0 \\\\\n",
       "\t2 & 9 & 0.0856352 & 1.0 \\\\\n",
       "\t3 & 12 & 0.185821 & 1.0 \\\\\n",
       "\t4 & 11 & 0.46335 & 1.0 \\\\\n",
       "\t5 & 10 & 0.553206 & 1.0 \\\\\n",
       "\t6 & 8 & 0.848185 & 1.0 \\\\\n",
       "\t7 & 1 & 0.0769509 & 0.0 \\\\\n",
       "\t8 & 4 & 0.278582 & 0.0 \\\\\n",
       "\t9 & 2 & 0.640396 & 0.0 \\\\\n",
       "\t10 & 6 & 0.644883 & 0.0 \\\\\n",
       "\t11 & 5 & 0.751313 & 0.0 \\\\\n",
       "\t12 & 3 & 0.873544 & 0.0 \\\\\n",
       "\\end{tabular}\n"
      ],
      "text/plain": [
       "12×3 DataFrame\n",
       "│ Row │ id    │ x         │ y       │\n",
       "│     │ \u001b[90mInt64\u001b[39m │ \u001b[90mFloat64\u001b[39m   │ \u001b[90mFloat64\u001b[39m │\n",
       "├─────┼───────┼───────────┼─────────┤\n",
       "│ 1   │ 7     │ 0.0778264 │ 1.0     │\n",
       "│ 2   │ 9     │ 0.0856352 │ 1.0     │\n",
       "│ 3   │ 12    │ 0.185821  │ 1.0     │\n",
       "│ 4   │ 11    │ 0.46335   │ 1.0     │\n",
       "│ 5   │ 10    │ 0.553206  │ 1.0     │\n",
       "│ 6   │ 8     │ 0.848185  │ 1.0     │\n",
       "│ 7   │ 1     │ 0.0769509 │ 0.0     │\n",
       "│ 8   │ 4     │ 0.278582  │ 0.0     │\n",
       "│ 9   │ 2     │ 0.640396  │ 0.0     │\n",
       "│ 10  │ 6     │ 0.644883  │ 0.0     │\n",
       "│ 11  │ 5     │ 0.751313  │ 0.0     │\n",
       "│ 12  │ 3     │ 0.873544  │ 0.0     │"
      ]
     },
     "execution_count": 18,
     "metadata": {},
     "output_type": "execute_result"
    }
   ],
   "source": [
    "sort(x, (order(:y, rev=true), :x)) # the same as above"
   ]
  },
  {
   "cell_type": "markdown",
   "metadata": {},
   "source": [
    "now we try some more fancy sorting stuff"
   ]
  },
  {
   "cell_type": "code",
   "execution_count": 19,
   "metadata": {},
   "outputs": [
    {
     "data": {
      "text/html": [
       "<table class=\"data-frame\"><thead><tr><th></th><th>id</th><th>x</th><th>y</th></tr><tr><th></th><th>Int64</th><th>Float64</th><th>Float64</th></tr></thead><tbody><p>12 rows × 3 columns</p><tr><th>1</th><td>8</td><td>0.848185</td><td>1.0</td></tr><tr><th>2</th><td>10</td><td>0.553206</td><td>1.0</td></tr><tr><th>3</th><td>11</td><td>0.46335</td><td>1.0</td></tr><tr><th>4</th><td>12</td><td>0.185821</td><td>1.0</td></tr><tr><th>5</th><td>9</td><td>0.0856352</td><td>1.0</td></tr><tr><th>6</th><td>7</td><td>0.0778264</td><td>1.0</td></tr><tr><th>7</th><td>3</td><td>0.873544</td><td>0.0</td></tr><tr><th>8</th><td>5</td><td>0.751313</td><td>0.0</td></tr><tr><th>9</th><td>6</td><td>0.644883</td><td>0.0</td></tr><tr><th>10</th><td>2</td><td>0.640396</td><td>0.0</td></tr><tr><th>11</th><td>4</td><td>0.278582</td><td>0.0</td></tr><tr><th>12</th><td>1</td><td>0.0769509</td><td>0.0</td></tr></tbody></table>"
      ],
      "text/latex": [
       "\\begin{tabular}{r|ccc}\n",
       "\t& id & x & y\\\\\n",
       "\t\\hline\n",
       "\t& Int64 & Float64 & Float64\\\\\n",
       "\t\\hline\n",
       "\t1 & 8 & 0.848185 & 1.0 \\\\\n",
       "\t2 & 10 & 0.553206 & 1.0 \\\\\n",
       "\t3 & 11 & 0.46335 & 1.0 \\\\\n",
       "\t4 & 12 & 0.185821 & 1.0 \\\\\n",
       "\t5 & 9 & 0.0856352 & 1.0 \\\\\n",
       "\t6 & 7 & 0.0778264 & 1.0 \\\\\n",
       "\t7 & 3 & 0.873544 & 0.0 \\\\\n",
       "\t8 & 5 & 0.751313 & 0.0 \\\\\n",
       "\t9 & 6 & 0.644883 & 0.0 \\\\\n",
       "\t10 & 2 & 0.640396 & 0.0 \\\\\n",
       "\t11 & 4 & 0.278582 & 0.0 \\\\\n",
       "\t12 & 1 & 0.0769509 & 0.0 \\\\\n",
       "\\end{tabular}\n"
      ],
      "text/plain": [
       "12×3 DataFrame\n",
       "│ Row │ id    │ x         │ y       │\n",
       "│     │ \u001b[90mInt64\u001b[39m │ \u001b[90mFloat64\u001b[39m   │ \u001b[90mFloat64\u001b[39m │\n",
       "├─────┼───────┼───────────┼─────────┤\n",
       "│ 1   │ 8     │ 0.848185  │ 1.0     │\n",
       "│ 2   │ 10    │ 0.553206  │ 1.0     │\n",
       "│ 3   │ 11    │ 0.46335   │ 1.0     │\n",
       "│ 4   │ 12    │ 0.185821  │ 1.0     │\n",
       "│ 5   │ 9     │ 0.0856352 │ 1.0     │\n",
       "│ 6   │ 7     │ 0.0778264 │ 1.0     │\n",
       "│ 7   │ 3     │ 0.873544  │ 0.0     │\n",
       "│ 8   │ 5     │ 0.751313  │ 0.0     │\n",
       "│ 9   │ 6     │ 0.644883  │ 0.0     │\n",
       "│ 10  │ 2     │ 0.640396  │ 0.0     │\n",
       "│ 11  │ 4     │ 0.278582  │ 0.0     │\n",
       "│ 12  │ 1     │ 0.0769509 │ 0.0     │"
      ]
     },
     "execution_count": 19,
     "metadata": {},
     "output_type": "execute_result"
    }
   ],
   "source": [
    "sort(x, (order(:y, rev=true), order(:x, by=v->-v)))"
   ]
  },
  {
   "cell_type": "markdown",
   "metadata": {},
   "source": [
    "this is how you can reorder rows (here randomly)"
   ]
  },
  {
   "cell_type": "code",
   "execution_count": 20,
   "metadata": {},
   "outputs": [
    {
     "data": {
      "text/html": [
       "<table class=\"data-frame\"><thead><tr><th></th><th>id</th><th>x</th><th>y</th></tr><tr><th></th><th>Int64</th><th>Float64</th><th>Float64</th></tr></thead><tbody><p>10 rows × 3 columns</p><tr><th>1</th><td>12</td><td>0.185821</td><td>1.0</td></tr><tr><th>2</th><td>11</td><td>0.46335</td><td>1.0</td></tr><tr><th>3</th><td>6</td><td>0.644883</td><td>0.0</td></tr><tr><th>4</th><td>2</td><td>0.640396</td><td>0.0</td></tr><tr><th>5</th><td>1</td><td>0.0769509</td><td>0.0</td></tr><tr><th>6</th><td>10</td><td>0.553206</td><td>1.0</td></tr><tr><th>7</th><td>7</td><td>0.0778264</td><td>1.0</td></tr><tr><th>8</th><td>4</td><td>0.278582</td><td>0.0</td></tr><tr><th>9</th><td>9</td><td>0.0856352</td><td>1.0</td></tr><tr><th>10</th><td>5</td><td>0.751313</td><td>0.0</td></tr></tbody></table>"
      ],
      "text/latex": [
       "\\begin{tabular}{r|ccc}\n",
       "\t& id & x & y\\\\\n",
       "\t\\hline\n",
       "\t& Int64 & Float64 & Float64\\\\\n",
       "\t\\hline\n",
       "\t1 & 12 & 0.185821 & 1.0 \\\\\n",
       "\t2 & 11 & 0.46335 & 1.0 \\\\\n",
       "\t3 & 6 & 0.644883 & 0.0 \\\\\n",
       "\t4 & 2 & 0.640396 & 0.0 \\\\\n",
       "\t5 & 1 & 0.0769509 & 0.0 \\\\\n",
       "\t6 & 10 & 0.553206 & 1.0 \\\\\n",
       "\t7 & 7 & 0.0778264 & 1.0 \\\\\n",
       "\t8 & 4 & 0.278582 & 0.0 \\\\\n",
       "\t9 & 9 & 0.0856352 & 1.0 \\\\\n",
       "\t10 & 5 & 0.751313 & 0.0 \\\\\n",
       "\\end{tabular}\n"
      ],
      "text/plain": [
       "10×3 DataFrame\n",
       "│ Row │ id    │ x         │ y       │\n",
       "│     │ \u001b[90mInt64\u001b[39m │ \u001b[90mFloat64\u001b[39m   │ \u001b[90mFloat64\u001b[39m │\n",
       "├─────┼───────┼───────────┼─────────┤\n",
       "│ 1   │ 12    │ 0.185821  │ 1.0     │\n",
       "│ 2   │ 11    │ 0.46335   │ 1.0     │\n",
       "│ 3   │ 6     │ 0.644883  │ 0.0     │\n",
       "│ 4   │ 2     │ 0.640396  │ 0.0     │\n",
       "│ 5   │ 1     │ 0.0769509 │ 0.0     │\n",
       "│ 6   │ 10    │ 0.553206  │ 1.0     │\n",
       "│ 7   │ 7     │ 0.0778264 │ 1.0     │\n",
       "│ 8   │ 4     │ 0.278582  │ 0.0     │\n",
       "│ 9   │ 9     │ 0.0856352 │ 1.0     │\n",
       "│ 10  │ 5     │ 0.751313  │ 0.0     │"
      ]
     },
     "execution_count": 20,
     "metadata": {},
     "output_type": "execute_result"
    }
   ],
   "source": [
    "x[shuffle(1:10), :]"
   ]
  },
  {
   "cell_type": "markdown",
   "metadata": {},
   "source": [
    " it is also easy to swap rows using broadcasted assignment"
   ]
  },
  {
   "cell_type": "code",
   "execution_count": 21,
   "metadata": {
    "scrolled": true
   },
   "outputs": [
    {
     "data": {
      "text/html": [
       "<table class=\"data-frame\"><thead><tr><th></th><th>id</th><th>x</th><th>y</th></tr><tr><th></th><th>Int64</th><th>Float64</th><th>Float64</th></tr></thead><tbody><p>12 rows × 3 columns</p><tr><th>1</th><td>10</td><td>0.553206</td><td>1.0</td></tr><tr><th>2</th><td>2</td><td>0.640396</td><td>0.0</td></tr><tr><th>3</th><td>3</td><td>0.873544</td><td>0.0</td></tr><tr><th>4</th><td>4</td><td>0.278582</td><td>0.0</td></tr><tr><th>5</th><td>5</td><td>0.751313</td><td>0.0</td></tr><tr><th>6</th><td>6</td><td>0.644883</td><td>0.0</td></tr><tr><th>7</th><td>7</td><td>0.0778264</td><td>1.0</td></tr><tr><th>8</th><td>8</td><td>0.848185</td><td>1.0</td></tr><tr><th>9</th><td>9</td><td>0.0856352</td><td>1.0</td></tr><tr><th>10</th><td>1</td><td>0.0769509</td><td>0.0</td></tr><tr><th>11</th><td>11</td><td>0.46335</td><td>1.0</td></tr><tr><th>12</th><td>12</td><td>0.185821</td><td>1.0</td></tr></tbody></table>"
      ],
      "text/latex": [
       "\\begin{tabular}{r|ccc}\n",
       "\t& id & x & y\\\\\n",
       "\t\\hline\n",
       "\t& Int64 & Float64 & Float64\\\\\n",
       "\t\\hline\n",
       "\t1 & 10 & 0.553206 & 1.0 \\\\\n",
       "\t2 & 2 & 0.640396 & 0.0 \\\\\n",
       "\t3 & 3 & 0.873544 & 0.0 \\\\\n",
       "\t4 & 4 & 0.278582 & 0.0 \\\\\n",
       "\t5 & 5 & 0.751313 & 0.0 \\\\\n",
       "\t6 & 6 & 0.644883 & 0.0 \\\\\n",
       "\t7 & 7 & 0.0778264 & 1.0 \\\\\n",
       "\t8 & 8 & 0.848185 & 1.0 \\\\\n",
       "\t9 & 9 & 0.0856352 & 1.0 \\\\\n",
       "\t10 & 1 & 0.0769509 & 0.0 \\\\\n",
       "\t11 & 11 & 0.46335 & 1.0 \\\\\n",
       "\t12 & 12 & 0.185821 & 1.0 \\\\\n",
       "\\end{tabular}\n"
      ],
      "text/plain": [
       "12×3 DataFrame\n",
       "│ Row │ id    │ x         │ y       │\n",
       "│     │ \u001b[90mInt64\u001b[39m │ \u001b[90mFloat64\u001b[39m   │ \u001b[90mFloat64\u001b[39m │\n",
       "├─────┼───────┼───────────┼─────────┤\n",
       "│ 1   │ 10    │ 0.553206  │ 1.0     │\n",
       "│ 2   │ 2     │ 0.640396  │ 0.0     │\n",
       "│ 3   │ 3     │ 0.873544  │ 0.0     │\n",
       "│ 4   │ 4     │ 0.278582  │ 0.0     │\n",
       "│ 5   │ 5     │ 0.751313  │ 0.0     │\n",
       "│ 6   │ 6     │ 0.644883  │ 0.0     │\n",
       "│ 7   │ 7     │ 0.0778264 │ 1.0     │\n",
       "│ 8   │ 8     │ 0.848185  │ 1.0     │\n",
       "│ 9   │ 9     │ 0.0856352 │ 1.0     │\n",
       "│ 10  │ 1     │ 0.0769509 │ 0.0     │\n",
       "│ 11  │ 11    │ 0.46335   │ 1.0     │\n",
       "│ 12  │ 12    │ 0.185821  │ 1.0     │"
      ]
     },
     "execution_count": 21,
     "metadata": {},
     "output_type": "execute_result"
    }
   ],
   "source": [
    "sort!(x, :id)\n",
    "x[[1,10],:] .= x[[10,1],:]\n",
    "x"
   ]
  },
  {
   "cell_type": "code",
   "execution_count": 22,
   "metadata": {},
   "outputs": [],
   "source": [
    "# x[1,:], x[10,:] = x[10,:], x[1,:] # this is currently impossible, but will be allowed in the future\n",
    "# x"
   ]
  },
  {
   "cell_type": "markdown",
   "metadata": {},
   "source": [
    "### Merging/adding rows"
   ]
  },
  {
   "cell_type": "code",
   "execution_count": 23,
   "metadata": {},
   "outputs": [
    {
     "data": {
      "text/html": [
       "<table class=\"data-frame\"><thead><tr><th></th><th>x1</th><th>x2</th><th>x3</th><th>x4</th><th>x5</th></tr><tr><th></th><th>Float64</th><th>Float64</th><th>Float64</th><th>Float64</th><th>Float64</th></tr></thead><tbody><p>3 rows × 5 columns</p><tr><th>1</th><td>0.440897</td><td>0.953803</td><td>0.0135403</td><td>0.596537</td><td>0.548635</td></tr><tr><th>2</th><td>0.404673</td><td>0.0951856</td><td>0.303399</td><td>0.638935</td><td>0.262992</td></tr><tr><th>3</th><td>0.736787</td><td>0.519675</td><td>0.702557</td><td>0.872347</td><td>0.526443</td></tr></tbody></table>"
      ],
      "text/latex": [
       "\\begin{tabular}{r|ccccc}\n",
       "\t& x1 & x2 & x3 & x4 & x5\\\\\n",
       "\t\\hline\n",
       "\t& Float64 & Float64 & Float64 & Float64 & Float64\\\\\n",
       "\t\\hline\n",
       "\t1 & 0.440897 & 0.953803 & 0.0135403 & 0.596537 & 0.548635 \\\\\n",
       "\t2 & 0.404673 & 0.0951856 & 0.303399 & 0.638935 & 0.262992 \\\\\n",
       "\t3 & 0.736787 & 0.519675 & 0.702557 & 0.872347 & 0.526443 \\\\\n",
       "\\end{tabular}\n"
      ],
      "text/plain": [
       "3×5 DataFrame\n",
       "│ Row │ x1       │ x2        │ x3        │ x4       │ x5       │\n",
       "│     │ \u001b[90mFloat64\u001b[39m  │ \u001b[90mFloat64\u001b[39m   │ \u001b[90mFloat64\u001b[39m   │ \u001b[90mFloat64\u001b[39m  │ \u001b[90mFloat64\u001b[39m  │\n",
       "├─────┼──────────┼───────────┼───────────┼──────────┼──────────┤\n",
       "│ 1   │ 0.440897 │ 0.953803  │ 0.0135403 │ 0.596537 │ 0.548635 │\n",
       "│ 2   │ 0.404673 │ 0.0951856 │ 0.303399  │ 0.638935 │ 0.262992 │\n",
       "│ 3   │ 0.736787 │ 0.519675  │ 0.702557  │ 0.872347 │ 0.526443 │"
      ]
     },
     "execution_count": 23,
     "metadata": {},
     "output_type": "execute_result"
    }
   ],
   "source": [
    "x = DataFrame(rand(3, 5))"
   ]
  },
  {
   "cell_type": "markdown",
   "metadata": {},
   "source": [
    "merge by rows - data frames must have the same column names; the same is `vcat`"
   ]
  },
  {
   "cell_type": "code",
   "execution_count": 24,
   "metadata": {},
   "outputs": [
    {
     "data": {
      "text/html": [
       "<table class=\"data-frame\"><thead><tr><th></th><th>x1</th><th>x2</th><th>x3</th><th>x4</th><th>x5</th></tr><tr><th></th><th>Float64</th><th>Float64</th><th>Float64</th><th>Float64</th><th>Float64</th></tr></thead><tbody><p>6 rows × 5 columns</p><tr><th>1</th><td>0.440897</td><td>0.953803</td><td>0.0135403</td><td>0.596537</td><td>0.548635</td></tr><tr><th>2</th><td>0.404673</td><td>0.0951856</td><td>0.303399</td><td>0.638935</td><td>0.262992</td></tr><tr><th>3</th><td>0.736787</td><td>0.519675</td><td>0.702557</td><td>0.872347</td><td>0.526443</td></tr><tr><th>4</th><td>0.440897</td><td>0.953803</td><td>0.0135403</td><td>0.596537</td><td>0.548635</td></tr><tr><th>5</th><td>0.404673</td><td>0.0951856</td><td>0.303399</td><td>0.638935</td><td>0.262992</td></tr><tr><th>6</th><td>0.736787</td><td>0.519675</td><td>0.702557</td><td>0.872347</td><td>0.526443</td></tr></tbody></table>"
      ],
      "text/latex": [
       "\\begin{tabular}{r|ccccc}\n",
       "\t& x1 & x2 & x3 & x4 & x5\\\\\n",
       "\t\\hline\n",
       "\t& Float64 & Float64 & Float64 & Float64 & Float64\\\\\n",
       "\t\\hline\n",
       "\t1 & 0.440897 & 0.953803 & 0.0135403 & 0.596537 & 0.548635 \\\\\n",
       "\t2 & 0.404673 & 0.0951856 & 0.303399 & 0.638935 & 0.262992 \\\\\n",
       "\t3 & 0.736787 & 0.519675 & 0.702557 & 0.872347 & 0.526443 \\\\\n",
       "\t4 & 0.440897 & 0.953803 & 0.0135403 & 0.596537 & 0.548635 \\\\\n",
       "\t5 & 0.404673 & 0.0951856 & 0.303399 & 0.638935 & 0.262992 \\\\\n",
       "\t6 & 0.736787 & 0.519675 & 0.702557 & 0.872347 & 0.526443 \\\\\n",
       "\\end{tabular}\n"
      ],
      "text/plain": [
       "6×5 DataFrame\n",
       "│ Row │ x1       │ x2        │ x3        │ x4       │ x5       │\n",
       "│     │ \u001b[90mFloat64\u001b[39m  │ \u001b[90mFloat64\u001b[39m   │ \u001b[90mFloat64\u001b[39m   │ \u001b[90mFloat64\u001b[39m  │ \u001b[90mFloat64\u001b[39m  │\n",
       "├─────┼──────────┼───────────┼───────────┼──────────┼──────────┤\n",
       "│ 1   │ 0.440897 │ 0.953803  │ 0.0135403 │ 0.596537 │ 0.548635 │\n",
       "│ 2   │ 0.404673 │ 0.0951856 │ 0.303399  │ 0.638935 │ 0.262992 │\n",
       "│ 3   │ 0.736787 │ 0.519675  │ 0.702557  │ 0.872347 │ 0.526443 │\n",
       "│ 4   │ 0.440897 │ 0.953803  │ 0.0135403 │ 0.596537 │ 0.548635 │\n",
       "│ 5   │ 0.404673 │ 0.0951856 │ 0.303399  │ 0.638935 │ 0.262992 │\n",
       "│ 6   │ 0.736787 │ 0.519675  │ 0.702557  │ 0.872347 │ 0.526443 │"
      ]
     },
     "execution_count": 24,
     "metadata": {},
     "output_type": "execute_result"
    }
   ],
   "source": [
    "[x; x]"
   ]
  },
  {
   "cell_type": "markdown",
   "metadata": {},
   "source": [
    "you can efficiently `vcat` a vector of `DataFrames` using `reduce`"
   ]
  },
  {
   "cell_type": "code",
   "execution_count": 25,
   "metadata": {},
   "outputs": [
    {
     "data": {
      "text/html": [
       "<table class=\"data-frame\"><thead><tr><th></th><th>x1</th><th>x2</th><th>x3</th><th>x4</th><th>x5</th></tr><tr><th></th><th>Float64</th><th>Float64</th><th>Float64</th><th>Float64</th><th>Float64</th></tr></thead><tbody><p>9 rows × 5 columns</p><tr><th>1</th><td>0.440897</td><td>0.953803</td><td>0.0135403</td><td>0.596537</td><td>0.548635</td></tr><tr><th>2</th><td>0.404673</td><td>0.0951856</td><td>0.303399</td><td>0.638935</td><td>0.262992</td></tr><tr><th>3</th><td>0.736787</td><td>0.519675</td><td>0.702557</td><td>0.872347</td><td>0.526443</td></tr><tr><th>4</th><td>0.440897</td><td>0.953803</td><td>0.0135403</td><td>0.596537</td><td>0.548635</td></tr><tr><th>5</th><td>0.404673</td><td>0.0951856</td><td>0.303399</td><td>0.638935</td><td>0.262992</td></tr><tr><th>6</th><td>0.736787</td><td>0.519675</td><td>0.702557</td><td>0.872347</td><td>0.526443</td></tr><tr><th>7</th><td>0.440897</td><td>0.953803</td><td>0.0135403</td><td>0.596537</td><td>0.548635</td></tr><tr><th>8</th><td>0.404673</td><td>0.0951856</td><td>0.303399</td><td>0.638935</td><td>0.262992</td></tr><tr><th>9</th><td>0.736787</td><td>0.519675</td><td>0.702557</td><td>0.872347</td><td>0.526443</td></tr></tbody></table>"
      ],
      "text/latex": [
       "\\begin{tabular}{r|ccccc}\n",
       "\t& x1 & x2 & x3 & x4 & x5\\\\\n",
       "\t\\hline\n",
       "\t& Float64 & Float64 & Float64 & Float64 & Float64\\\\\n",
       "\t\\hline\n",
       "\t1 & 0.440897 & 0.953803 & 0.0135403 & 0.596537 & 0.548635 \\\\\n",
       "\t2 & 0.404673 & 0.0951856 & 0.303399 & 0.638935 & 0.262992 \\\\\n",
       "\t3 & 0.736787 & 0.519675 & 0.702557 & 0.872347 & 0.526443 \\\\\n",
       "\t4 & 0.440897 & 0.953803 & 0.0135403 & 0.596537 & 0.548635 \\\\\n",
       "\t5 & 0.404673 & 0.0951856 & 0.303399 & 0.638935 & 0.262992 \\\\\n",
       "\t6 & 0.736787 & 0.519675 & 0.702557 & 0.872347 & 0.526443 \\\\\n",
       "\t7 & 0.440897 & 0.953803 & 0.0135403 & 0.596537 & 0.548635 \\\\\n",
       "\t8 & 0.404673 & 0.0951856 & 0.303399 & 0.638935 & 0.262992 \\\\\n",
       "\t9 & 0.736787 & 0.519675 & 0.702557 & 0.872347 & 0.526443 \\\\\n",
       "\\end{tabular}\n"
      ],
      "text/plain": [
       "9×5 DataFrame\n",
       "│ Row │ x1       │ x2        │ x3        │ x4       │ x5       │\n",
       "│     │ \u001b[90mFloat64\u001b[39m  │ \u001b[90mFloat64\u001b[39m   │ \u001b[90mFloat64\u001b[39m   │ \u001b[90mFloat64\u001b[39m  │ \u001b[90mFloat64\u001b[39m  │\n",
       "├─────┼──────────┼───────────┼───────────┼──────────┼──────────┤\n",
       "│ 1   │ 0.440897 │ 0.953803  │ 0.0135403 │ 0.596537 │ 0.548635 │\n",
       "│ 2   │ 0.404673 │ 0.0951856 │ 0.303399  │ 0.638935 │ 0.262992 │\n",
       "│ 3   │ 0.736787 │ 0.519675  │ 0.702557  │ 0.872347 │ 0.526443 │\n",
       "│ 4   │ 0.440897 │ 0.953803  │ 0.0135403 │ 0.596537 │ 0.548635 │\n",
       "│ 5   │ 0.404673 │ 0.0951856 │ 0.303399  │ 0.638935 │ 0.262992 │\n",
       "│ 6   │ 0.736787 │ 0.519675  │ 0.702557  │ 0.872347 │ 0.526443 │\n",
       "│ 7   │ 0.440897 │ 0.953803  │ 0.0135403 │ 0.596537 │ 0.548635 │\n",
       "│ 8   │ 0.404673 │ 0.0951856 │ 0.303399  │ 0.638935 │ 0.262992 │\n",
       "│ 9   │ 0.736787 │ 0.519675  │ 0.702557  │ 0.872347 │ 0.526443 │"
      ]
     },
     "execution_count": 25,
     "metadata": {},
     "output_type": "execute_result"
    }
   ],
   "source": [
    "reduce(vcat, [x, x, x])"
   ]
  },
  {
   "cell_type": "markdown",
   "metadata": {},
   "source": [
    "get `y` with other order of names"
   ]
  },
  {
   "cell_type": "code",
   "execution_count": 26,
   "metadata": {},
   "outputs": [
    {
     "data": {
      "text/html": [
       "<table class=\"data-frame\"><thead><tr><th></th><th>x5</th><th>x4</th><th>x3</th><th>x2</th><th>x1</th></tr><tr><th></th><th>Float64</th><th>Float64</th><th>Float64</th><th>Float64</th><th>Float64</th></tr></thead><tbody><p>3 rows × 5 columns</p><tr><th>1</th><td>0.548635</td><td>0.596537</td><td>0.0135403</td><td>0.953803</td><td>0.440897</td></tr><tr><th>2</th><td>0.262992</td><td>0.638935</td><td>0.303399</td><td>0.0951856</td><td>0.404673</td></tr><tr><th>3</th><td>0.526443</td><td>0.872347</td><td>0.702557</td><td>0.519675</td><td>0.736787</td></tr></tbody></table>"
      ],
      "text/latex": [
       "\\begin{tabular}{r|ccccc}\n",
       "\t& x5 & x4 & x3 & x2 & x1\\\\\n",
       "\t\\hline\n",
       "\t& Float64 & Float64 & Float64 & Float64 & Float64\\\\\n",
       "\t\\hline\n",
       "\t1 & 0.548635 & 0.596537 & 0.0135403 & 0.953803 & 0.440897 \\\\\n",
       "\t2 & 0.262992 & 0.638935 & 0.303399 & 0.0951856 & 0.404673 \\\\\n",
       "\t3 & 0.526443 & 0.872347 & 0.702557 & 0.519675 & 0.736787 \\\\\n",
       "\\end{tabular}\n"
      ],
      "text/plain": [
       "3×5 DataFrame\n",
       "│ Row │ x5       │ x4       │ x3        │ x2        │ x1       │\n",
       "│     │ \u001b[90mFloat64\u001b[39m  │ \u001b[90mFloat64\u001b[39m  │ \u001b[90mFloat64\u001b[39m   │ \u001b[90mFloat64\u001b[39m   │ \u001b[90mFloat64\u001b[39m  │\n",
       "├─────┼──────────┼──────────┼───────────┼───────────┼──────────┤\n",
       "│ 1   │ 0.548635 │ 0.596537 │ 0.0135403 │ 0.953803  │ 0.440897 │\n",
       "│ 2   │ 0.262992 │ 0.638935 │ 0.303399  │ 0.0951856 │ 0.404673 │\n",
       "│ 3   │ 0.526443 │ 0.872347 │ 0.702557  │ 0.519675  │ 0.736787 │"
      ]
     },
     "execution_count": 26,
     "metadata": {},
     "output_type": "execute_result"
    }
   ],
   "source": [
    "y = x[:, reverse(names(x))]"
   ]
  },
  {
   "cell_type": "markdown",
   "metadata": {},
   "source": [
    "`vcat` is still possible as it does column name matching"
   ]
  },
  {
   "cell_type": "code",
   "execution_count": 27,
   "metadata": {},
   "outputs": [
    {
     "data": {
      "text/html": [
       "<table class=\"data-frame\"><thead><tr><th></th><th>x1</th><th>x2</th><th>x3</th><th>x4</th><th>x5</th></tr><tr><th></th><th>Float64</th><th>Float64</th><th>Float64</th><th>Float64</th><th>Float64</th></tr></thead><tbody><p>6 rows × 5 columns</p><tr><th>1</th><td>0.440897</td><td>0.953803</td><td>0.0135403</td><td>0.596537</td><td>0.548635</td></tr><tr><th>2</th><td>0.404673</td><td>0.0951856</td><td>0.303399</td><td>0.638935</td><td>0.262992</td></tr><tr><th>3</th><td>0.736787</td><td>0.519675</td><td>0.702557</td><td>0.872347</td><td>0.526443</td></tr><tr><th>4</th><td>0.440897</td><td>0.953803</td><td>0.0135403</td><td>0.596537</td><td>0.548635</td></tr><tr><th>5</th><td>0.404673</td><td>0.0951856</td><td>0.303399</td><td>0.638935</td><td>0.262992</td></tr><tr><th>6</th><td>0.736787</td><td>0.519675</td><td>0.702557</td><td>0.872347</td><td>0.526443</td></tr></tbody></table>"
      ],
      "text/latex": [
       "\\begin{tabular}{r|ccccc}\n",
       "\t& x1 & x2 & x3 & x4 & x5\\\\\n",
       "\t\\hline\n",
       "\t& Float64 & Float64 & Float64 & Float64 & Float64\\\\\n",
       "\t\\hline\n",
       "\t1 & 0.440897 & 0.953803 & 0.0135403 & 0.596537 & 0.548635 \\\\\n",
       "\t2 & 0.404673 & 0.0951856 & 0.303399 & 0.638935 & 0.262992 \\\\\n",
       "\t3 & 0.736787 & 0.519675 & 0.702557 & 0.872347 & 0.526443 \\\\\n",
       "\t4 & 0.440897 & 0.953803 & 0.0135403 & 0.596537 & 0.548635 \\\\\n",
       "\t5 & 0.404673 & 0.0951856 & 0.303399 & 0.638935 & 0.262992 \\\\\n",
       "\t6 & 0.736787 & 0.519675 & 0.702557 & 0.872347 & 0.526443 \\\\\n",
       "\\end{tabular}\n"
      ],
      "text/plain": [
       "6×5 DataFrame\n",
       "│ Row │ x1       │ x2        │ x3        │ x4       │ x5       │\n",
       "│     │ \u001b[90mFloat64\u001b[39m  │ \u001b[90mFloat64\u001b[39m   │ \u001b[90mFloat64\u001b[39m   │ \u001b[90mFloat64\u001b[39m  │ \u001b[90mFloat64\u001b[39m  │\n",
       "├─────┼──────────┼───────────┼───────────┼──────────┼──────────┤\n",
       "│ 1   │ 0.440897 │ 0.953803  │ 0.0135403 │ 0.596537 │ 0.548635 │\n",
       "│ 2   │ 0.404673 │ 0.0951856 │ 0.303399  │ 0.638935 │ 0.262992 │\n",
       "│ 3   │ 0.736787 │ 0.519675  │ 0.702557  │ 0.872347 │ 0.526443 │\n",
       "│ 4   │ 0.440897 │ 0.953803  │ 0.0135403 │ 0.596537 │ 0.548635 │\n",
       "│ 5   │ 0.404673 │ 0.0951856 │ 0.303399  │ 0.638935 │ 0.262992 │\n",
       "│ 6   │ 0.736787 │ 0.519675  │ 0.702557  │ 0.872347 │ 0.526443 │"
      ]
     },
     "execution_count": 27,
     "metadata": {},
     "output_type": "execute_result"
    }
   ],
   "source": [
    "vcat(x, y)"
   ]
  },
  {
   "cell_type": "markdown",
   "metadata": {},
   "source": [
    "but column names must still match"
   ]
  },
  {
   "cell_type": "code",
   "execution_count": 28,
   "metadata": {},
   "outputs": [
    {
     "ename": "ArgumentError",
     "evalue": "ArgumentError: column(s) x1 and x2 are missing from argument(s) 2",
     "output_type": "error",
     "traceback": [
      "ArgumentError: column(s) x1 and x2 are missing from argument(s) 2",
      "",
      "Stacktrace:",
      " [1] #_vcat#75(::Symbol, ::Function, ::Array{DataFrame,1}) at C:\\Users\\bogum\\.julia\\packages\\DataFrames\\GoFnP\\src\\abstractdataframe\\abstractdataframe.jl:1129",
      " [2] #reduce#70 at .\\none:0 [inlined]",
      " [3] #reduce at .\\none:0 [inlined]",
      " [4] #vcat#69 at C:\\Users\\bogum\\.julia\\packages\\DataFrames\\GoFnP\\src\\abstractdataframe\\abstractdataframe.jl:1094 [inlined]",
      " [5] vcat(::DataFrame, ::DataFrame) at C:\\Users\\bogum\\.julia\\packages\\DataFrames\\GoFnP\\src\\abstractdataframe\\abstractdataframe.jl:1094",
      " [6] top-level scope at In[28]:1"
     ]
    }
   ],
   "source": [
    "vcat(x, y[:, 1:3])"
   ]
  },
  {
   "cell_type": "markdown",
   "metadata": {},
   "source": [
    "unless you pass `:intersect`, `:union` or specific column names as keyword argument `cols`"
   ]
  },
  {
   "cell_type": "code",
   "execution_count": 29,
   "metadata": {},
   "outputs": [
    {
     "data": {
      "text/html": [
       "<table class=\"data-frame\"><thead><tr><th></th><th>x3</th><th>x4</th><th>x5</th></tr><tr><th></th><th>Float64</th><th>Float64</th><th>Float64</th></tr></thead><tbody><p>6 rows × 3 columns</p><tr><th>1</th><td>0.0135403</td><td>0.596537</td><td>0.548635</td></tr><tr><th>2</th><td>0.303399</td><td>0.638935</td><td>0.262992</td></tr><tr><th>3</th><td>0.702557</td><td>0.872347</td><td>0.526443</td></tr><tr><th>4</th><td>0.0135403</td><td>0.596537</td><td>0.548635</td></tr><tr><th>5</th><td>0.303399</td><td>0.638935</td><td>0.262992</td></tr><tr><th>6</th><td>0.702557</td><td>0.872347</td><td>0.526443</td></tr></tbody></table>"
      ],
      "text/latex": [
       "\\begin{tabular}{r|ccc}\n",
       "\t& x3 & x4 & x5\\\\\n",
       "\t\\hline\n",
       "\t& Float64 & Float64 & Float64\\\\\n",
       "\t\\hline\n",
       "\t1 & 0.0135403 & 0.596537 & 0.548635 \\\\\n",
       "\t2 & 0.303399 & 0.638935 & 0.262992 \\\\\n",
       "\t3 & 0.702557 & 0.872347 & 0.526443 \\\\\n",
       "\t4 & 0.0135403 & 0.596537 & 0.548635 \\\\\n",
       "\t5 & 0.303399 & 0.638935 & 0.262992 \\\\\n",
       "\t6 & 0.702557 & 0.872347 & 0.526443 \\\\\n",
       "\\end{tabular}\n"
      ],
      "text/plain": [
       "6×3 DataFrame\n",
       "│ Row │ x3        │ x4       │ x5       │\n",
       "│     │ \u001b[90mFloat64\u001b[39m   │ \u001b[90mFloat64\u001b[39m  │ \u001b[90mFloat64\u001b[39m  │\n",
       "├─────┼───────────┼──────────┼──────────┤\n",
       "│ 1   │ 0.0135403 │ 0.596537 │ 0.548635 │\n",
       "│ 2   │ 0.303399  │ 0.638935 │ 0.262992 │\n",
       "│ 3   │ 0.702557  │ 0.872347 │ 0.526443 │\n",
       "│ 4   │ 0.0135403 │ 0.596537 │ 0.548635 │\n",
       "│ 5   │ 0.303399  │ 0.638935 │ 0.262992 │\n",
       "│ 6   │ 0.702557  │ 0.872347 │ 0.526443 │"
      ]
     },
     "execution_count": 29,
     "metadata": {},
     "output_type": "execute_result"
    }
   ],
   "source": [
    "vcat(x, y[:, 1:3], cols=:intersect)"
   ]
  },
  {
   "cell_type": "code",
   "execution_count": 30,
   "metadata": {},
   "outputs": [
    {
     "data": {
      "text/html": [
       "<table class=\"data-frame\"><thead><tr><th></th><th>x1</th><th>x2</th><th>x3</th><th>x4</th><th>x5</th></tr><tr><th></th><th>Float64⍰</th><th>Float64⍰</th><th>Float64</th><th>Float64</th><th>Float64</th></tr></thead><tbody><p>6 rows × 5 columns</p><tr><th>1</th><td>0.440897</td><td>0.953803</td><td>0.0135403</td><td>0.596537</td><td>0.548635</td></tr><tr><th>2</th><td>0.404673</td><td>0.0951856</td><td>0.303399</td><td>0.638935</td><td>0.262992</td></tr><tr><th>3</th><td>0.736787</td><td>0.519675</td><td>0.702557</td><td>0.872347</td><td>0.526443</td></tr><tr><th>4</th><td>missing</td><td>missing</td><td>0.0135403</td><td>0.596537</td><td>0.548635</td></tr><tr><th>5</th><td>missing</td><td>missing</td><td>0.303399</td><td>0.638935</td><td>0.262992</td></tr><tr><th>6</th><td>missing</td><td>missing</td><td>0.702557</td><td>0.872347</td><td>0.526443</td></tr></tbody></table>"
      ],
      "text/latex": [
       "\\begin{tabular}{r|ccccc}\n",
       "\t& x1 & x2 & x3 & x4 & x5\\\\\n",
       "\t\\hline\n",
       "\t& Float64⍰ & Float64⍰ & Float64 & Float64 & Float64\\\\\n",
       "\t\\hline\n",
       "\t1 & 0.440897 & 0.953803 & 0.0135403 & 0.596537 & 0.548635 \\\\\n",
       "\t2 & 0.404673 & 0.0951856 & 0.303399 & 0.638935 & 0.262992 \\\\\n",
       "\t3 & 0.736787 & 0.519675 & 0.702557 & 0.872347 & 0.526443 \\\\\n",
       "\t4 &  &  & 0.0135403 & 0.596537 & 0.548635 \\\\\n",
       "\t5 &  &  & 0.303399 & 0.638935 & 0.262992 \\\\\n",
       "\t6 &  &  & 0.702557 & 0.872347 & 0.526443 \\\\\n",
       "\\end{tabular}\n"
      ],
      "text/plain": [
       "6×5 DataFrame\n",
       "│ Row │ x1       │ x2        │ x3        │ x4       │ x5       │\n",
       "│     │ \u001b[90mFloat64⍰\u001b[39m │ \u001b[90mFloat64⍰\u001b[39m  │ \u001b[90mFloat64\u001b[39m   │ \u001b[90mFloat64\u001b[39m  │ \u001b[90mFloat64\u001b[39m  │\n",
       "├─────┼──────────┼───────────┼───────────┼──────────┼──────────┤\n",
       "│ 1   │ 0.440897 │ 0.953803  │ 0.0135403 │ 0.596537 │ 0.548635 │\n",
       "│ 2   │ 0.404673 │ 0.0951856 │ 0.303399  │ 0.638935 │ 0.262992 │\n",
       "│ 3   │ 0.736787 │ 0.519675  │ 0.702557  │ 0.872347 │ 0.526443 │\n",
       "│ 4   │ \u001b[90mmissing\u001b[39m  │ \u001b[90mmissing\u001b[39m   │ 0.0135403 │ 0.596537 │ 0.548635 │\n",
       "│ 5   │ \u001b[90mmissing\u001b[39m  │ \u001b[90mmissing\u001b[39m   │ 0.303399  │ 0.638935 │ 0.262992 │\n",
       "│ 6   │ \u001b[90mmissing\u001b[39m  │ \u001b[90mmissing\u001b[39m   │ 0.702557  │ 0.872347 │ 0.526443 │"
      ]
     },
     "execution_count": 30,
     "metadata": {},
     "output_type": "execute_result"
    }
   ],
   "source": [
    "vcat(x, y[:, 1:3], cols=:union)"
   ]
  },
  {
   "cell_type": "code",
   "execution_count": 31,
   "metadata": {},
   "outputs": [
    {
     "data": {
      "text/html": [
       "<table class=\"data-frame\"><thead><tr><th></th><th>x1</th><th>x5</th></tr><tr><th></th><th>Float64⍰</th><th>Float64</th></tr></thead><tbody><p>6 rows × 2 columns</p><tr><th>1</th><td>0.440897</td><td>0.548635</td></tr><tr><th>2</th><td>0.404673</td><td>0.262992</td></tr><tr><th>3</th><td>0.736787</td><td>0.526443</td></tr><tr><th>4</th><td>missing</td><td>0.548635</td></tr><tr><th>5</th><td>missing</td><td>0.262992</td></tr><tr><th>6</th><td>missing</td><td>0.526443</td></tr></tbody></table>"
      ],
      "text/latex": [
       "\\begin{tabular}{r|cc}\n",
       "\t& x1 & x5\\\\\n",
       "\t\\hline\n",
       "\t& Float64⍰ & Float64\\\\\n",
       "\t\\hline\n",
       "\t1 & 0.440897 & 0.548635 \\\\\n",
       "\t2 & 0.404673 & 0.262992 \\\\\n",
       "\t3 & 0.736787 & 0.526443 \\\\\n",
       "\t4 &  & 0.548635 \\\\\n",
       "\t5 &  & 0.262992 \\\\\n",
       "\t6 &  & 0.526443 \\\\\n",
       "\\end{tabular}\n"
      ],
      "text/plain": [
       "6×2 DataFrame\n",
       "│ Row │ x1       │ x5       │\n",
       "│     │ \u001b[90mFloat64⍰\u001b[39m │ \u001b[90mFloat64\u001b[39m  │\n",
       "├─────┼──────────┼──────────┤\n",
       "│ 1   │ 0.440897 │ 0.548635 │\n",
       "│ 2   │ 0.404673 │ 0.262992 │\n",
       "│ 3   │ 0.736787 │ 0.526443 │\n",
       "│ 4   │ \u001b[90mmissing\u001b[39m  │ 0.548635 │\n",
       "│ 5   │ \u001b[90mmissing\u001b[39m  │ 0.262992 │\n",
       "│ 6   │ \u001b[90mmissing\u001b[39m  │ 0.526443 │"
      ]
     },
     "execution_count": 31,
     "metadata": {},
     "output_type": "execute_result"
    }
   ],
   "source": [
    "vcat(x, y[:, 1:3], cols=[:x1, :x5])"
   ]
  },
  {
   "cell_type": "markdown",
   "metadata": {},
   "source": [
    "`append!` modifies `x` in place"
   ]
  },
  {
   "cell_type": "code",
   "execution_count": 32,
   "metadata": {},
   "outputs": [
    {
     "data": {
      "text/html": [
       "<table class=\"data-frame\"><thead><tr><th></th><th>x1</th><th>x2</th><th>x3</th><th>x4</th><th>x5</th></tr><tr><th></th><th>Float64</th><th>Float64</th><th>Float64</th><th>Float64</th><th>Float64</th></tr></thead><tbody><p>6 rows × 5 columns</p><tr><th>1</th><td>0.440897</td><td>0.953803</td><td>0.0135403</td><td>0.596537</td><td>0.548635</td></tr><tr><th>2</th><td>0.404673</td><td>0.0951856</td><td>0.303399</td><td>0.638935</td><td>0.262992</td></tr><tr><th>3</th><td>0.736787</td><td>0.519675</td><td>0.702557</td><td>0.872347</td><td>0.526443</td></tr><tr><th>4</th><td>0.440897</td><td>0.953803</td><td>0.0135403</td><td>0.596537</td><td>0.548635</td></tr><tr><th>5</th><td>0.404673</td><td>0.0951856</td><td>0.303399</td><td>0.638935</td><td>0.262992</td></tr><tr><th>6</th><td>0.736787</td><td>0.519675</td><td>0.702557</td><td>0.872347</td><td>0.526443</td></tr></tbody></table>"
      ],
      "text/latex": [
       "\\begin{tabular}{r|ccccc}\n",
       "\t& x1 & x2 & x3 & x4 & x5\\\\\n",
       "\t\\hline\n",
       "\t& Float64 & Float64 & Float64 & Float64 & Float64\\\\\n",
       "\t\\hline\n",
       "\t1 & 0.440897 & 0.953803 & 0.0135403 & 0.596537 & 0.548635 \\\\\n",
       "\t2 & 0.404673 & 0.0951856 & 0.303399 & 0.638935 & 0.262992 \\\\\n",
       "\t3 & 0.736787 & 0.519675 & 0.702557 & 0.872347 & 0.526443 \\\\\n",
       "\t4 & 0.440897 & 0.953803 & 0.0135403 & 0.596537 & 0.548635 \\\\\n",
       "\t5 & 0.404673 & 0.0951856 & 0.303399 & 0.638935 & 0.262992 \\\\\n",
       "\t6 & 0.736787 & 0.519675 & 0.702557 & 0.872347 & 0.526443 \\\\\n",
       "\\end{tabular}\n"
      ],
      "text/plain": [
       "6×5 DataFrame\n",
       "│ Row │ x1       │ x2        │ x3        │ x4       │ x5       │\n",
       "│     │ \u001b[90mFloat64\u001b[39m  │ \u001b[90mFloat64\u001b[39m   │ \u001b[90mFloat64\u001b[39m   │ \u001b[90mFloat64\u001b[39m  │ \u001b[90mFloat64\u001b[39m  │\n",
       "├─────┼──────────┼───────────┼───────────┼──────────┼──────────┤\n",
       "│ 1   │ 0.440897 │ 0.953803  │ 0.0135403 │ 0.596537 │ 0.548635 │\n",
       "│ 2   │ 0.404673 │ 0.0951856 │ 0.303399  │ 0.638935 │ 0.262992 │\n",
       "│ 3   │ 0.736787 │ 0.519675  │ 0.702557  │ 0.872347 │ 0.526443 │\n",
       "│ 4   │ 0.440897 │ 0.953803  │ 0.0135403 │ 0.596537 │ 0.548635 │\n",
       "│ 5   │ 0.404673 │ 0.0951856 │ 0.303399  │ 0.638935 │ 0.262992 │\n",
       "│ 6   │ 0.736787 │ 0.519675  │ 0.702557  │ 0.872347 │ 0.526443 │"
      ]
     },
     "execution_count": 32,
     "metadata": {},
     "output_type": "execute_result"
    }
   ],
   "source": [
    "append!(x, x)"
   ]
  },
  {
   "cell_type": "markdown",
   "metadata": {},
   "source": [
    "here column names must match exactly"
   ]
  },
  {
   "cell_type": "code",
   "execution_count": 33,
   "metadata": {},
   "outputs": [
    {
     "ename": "ErrorException",
     "evalue": "Column names do not match",
     "output_type": "error",
     "traceback": [
      "Column names do not match",
      "",
      "Stacktrace:",
      " [1] error(::String) at .\\error.jl:33",
      " [2] append!(::DataFrame, ::DataFrame) at C:\\Users\\bogum\\.julia\\packages\\DataFrames\\GoFnP\\src\\dataframe\\dataframe.jl:1097",
      " [3] top-level scope at In[33]:1"
     ]
    }
   ],
   "source": [
    "append!(x, y)"
   ]
  },
  {
   "cell_type": "markdown",
   "metadata": {},
   "source": [
    "standard `repeat` function works on rows; also `inner` and `outer` keyword arguments are accepted"
   ]
  },
  {
   "cell_type": "code",
   "execution_count": 34,
   "metadata": {},
   "outputs": [
    {
     "data": {
      "text/html": [
       "<table class=\"data-frame\"><thead><tr><th></th><th>x1</th><th>x2</th><th>x3</th><th>x4</th><th>x5</th></tr><tr><th></th><th>Float64</th><th>Float64</th><th>Float64</th><th>Float64</th><th>Float64</th></tr></thead><tbody><p>12 rows × 5 columns</p><tr><th>1</th><td>0.440897</td><td>0.953803</td><td>0.0135403</td><td>0.596537</td><td>0.548635</td></tr><tr><th>2</th><td>0.404673</td><td>0.0951856</td><td>0.303399</td><td>0.638935</td><td>0.262992</td></tr><tr><th>3</th><td>0.736787</td><td>0.519675</td><td>0.702557</td><td>0.872347</td><td>0.526443</td></tr><tr><th>4</th><td>0.440897</td><td>0.953803</td><td>0.0135403</td><td>0.596537</td><td>0.548635</td></tr><tr><th>5</th><td>0.404673</td><td>0.0951856</td><td>0.303399</td><td>0.638935</td><td>0.262992</td></tr><tr><th>6</th><td>0.736787</td><td>0.519675</td><td>0.702557</td><td>0.872347</td><td>0.526443</td></tr><tr><th>7</th><td>0.440897</td><td>0.953803</td><td>0.0135403</td><td>0.596537</td><td>0.548635</td></tr><tr><th>8</th><td>0.404673</td><td>0.0951856</td><td>0.303399</td><td>0.638935</td><td>0.262992</td></tr><tr><th>9</th><td>0.736787</td><td>0.519675</td><td>0.702557</td><td>0.872347</td><td>0.526443</td></tr><tr><th>10</th><td>0.440897</td><td>0.953803</td><td>0.0135403</td><td>0.596537</td><td>0.548635</td></tr><tr><th>11</th><td>0.404673</td><td>0.0951856</td><td>0.303399</td><td>0.638935</td><td>0.262992</td></tr><tr><th>12</th><td>0.736787</td><td>0.519675</td><td>0.702557</td><td>0.872347</td><td>0.526443</td></tr></tbody></table>"
      ],
      "text/latex": [
       "\\begin{tabular}{r|ccccc}\n",
       "\t& x1 & x2 & x3 & x4 & x5\\\\\n",
       "\t\\hline\n",
       "\t& Float64 & Float64 & Float64 & Float64 & Float64\\\\\n",
       "\t\\hline\n",
       "\t1 & 0.440897 & 0.953803 & 0.0135403 & 0.596537 & 0.548635 \\\\\n",
       "\t2 & 0.404673 & 0.0951856 & 0.303399 & 0.638935 & 0.262992 \\\\\n",
       "\t3 & 0.736787 & 0.519675 & 0.702557 & 0.872347 & 0.526443 \\\\\n",
       "\t4 & 0.440897 & 0.953803 & 0.0135403 & 0.596537 & 0.548635 \\\\\n",
       "\t5 & 0.404673 & 0.0951856 & 0.303399 & 0.638935 & 0.262992 \\\\\n",
       "\t6 & 0.736787 & 0.519675 & 0.702557 & 0.872347 & 0.526443 \\\\\n",
       "\t7 & 0.440897 & 0.953803 & 0.0135403 & 0.596537 & 0.548635 \\\\\n",
       "\t8 & 0.404673 & 0.0951856 & 0.303399 & 0.638935 & 0.262992 \\\\\n",
       "\t9 & 0.736787 & 0.519675 & 0.702557 & 0.872347 & 0.526443 \\\\\n",
       "\t10 & 0.440897 & 0.953803 & 0.0135403 & 0.596537 & 0.548635 \\\\\n",
       "\t11 & 0.404673 & 0.0951856 & 0.303399 & 0.638935 & 0.262992 \\\\\n",
       "\t12 & 0.736787 & 0.519675 & 0.702557 & 0.872347 & 0.526443 \\\\\n",
       "\\end{tabular}\n"
      ],
      "text/plain": [
       "12×5 DataFrame\n",
       "│ Row │ x1       │ x2        │ x3        │ x4       │ x5       │\n",
       "│     │ \u001b[90mFloat64\u001b[39m  │ \u001b[90mFloat64\u001b[39m   │ \u001b[90mFloat64\u001b[39m   │ \u001b[90mFloat64\u001b[39m  │ \u001b[90mFloat64\u001b[39m  │\n",
       "├─────┼──────────┼───────────┼───────────┼──────────┼──────────┤\n",
       "│ 1   │ 0.440897 │ 0.953803  │ 0.0135403 │ 0.596537 │ 0.548635 │\n",
       "│ 2   │ 0.404673 │ 0.0951856 │ 0.303399  │ 0.638935 │ 0.262992 │\n",
       "│ 3   │ 0.736787 │ 0.519675  │ 0.702557  │ 0.872347 │ 0.526443 │\n",
       "│ 4   │ 0.440897 │ 0.953803  │ 0.0135403 │ 0.596537 │ 0.548635 │\n",
       "│ 5   │ 0.404673 │ 0.0951856 │ 0.303399  │ 0.638935 │ 0.262992 │\n",
       "│ 6   │ 0.736787 │ 0.519675  │ 0.702557  │ 0.872347 │ 0.526443 │\n",
       "│ 7   │ 0.440897 │ 0.953803  │ 0.0135403 │ 0.596537 │ 0.548635 │\n",
       "│ 8   │ 0.404673 │ 0.0951856 │ 0.303399  │ 0.638935 │ 0.262992 │\n",
       "│ 9   │ 0.736787 │ 0.519675  │ 0.702557  │ 0.872347 │ 0.526443 │\n",
       "│ 10  │ 0.440897 │ 0.953803  │ 0.0135403 │ 0.596537 │ 0.548635 │\n",
       "│ 11  │ 0.404673 │ 0.0951856 │ 0.303399  │ 0.638935 │ 0.262992 │\n",
       "│ 12  │ 0.736787 │ 0.519675  │ 0.702557  │ 0.872347 │ 0.526443 │"
      ]
     },
     "execution_count": 34,
     "metadata": {},
     "output_type": "execute_result"
    }
   ],
   "source": [
    "repeat(x, 2)"
   ]
  },
  {
   "cell_type": "markdown",
   "metadata": {},
   "source": [
    "`push!` adds one row to `x` at the end; one must pass a correct number of values"
   ]
  },
  {
   "cell_type": "code",
   "execution_count": 35,
   "metadata": {},
   "outputs": [
    {
     "data": {
      "text/html": [
       "<table class=\"data-frame\"><thead><tr><th></th><th>x1</th><th>x2</th><th>x3</th><th>x4</th><th>x5</th></tr><tr><th></th><th>Float64</th><th>Float64</th><th>Float64</th><th>Float64</th><th>Float64</th></tr></thead><tbody><p>7 rows × 5 columns</p><tr><th>1</th><td>0.440897</td><td>0.953803</td><td>0.0135403</td><td>0.596537</td><td>0.548635</td></tr><tr><th>2</th><td>0.404673</td><td>0.0951856</td><td>0.303399</td><td>0.638935</td><td>0.262992</td></tr><tr><th>3</th><td>0.736787</td><td>0.519675</td><td>0.702557</td><td>0.872347</td><td>0.526443</td></tr><tr><th>4</th><td>0.440897</td><td>0.953803</td><td>0.0135403</td><td>0.596537</td><td>0.548635</td></tr><tr><th>5</th><td>0.404673</td><td>0.0951856</td><td>0.303399</td><td>0.638935</td><td>0.262992</td></tr><tr><th>6</th><td>0.736787</td><td>0.519675</td><td>0.702557</td><td>0.872347</td><td>0.526443</td></tr><tr><th>7</th><td>1.0</td><td>2.0</td><td>3.0</td><td>4.0</td><td>5.0</td></tr></tbody></table>"
      ],
      "text/latex": [
       "\\begin{tabular}{r|ccccc}\n",
       "\t& x1 & x2 & x3 & x4 & x5\\\\\n",
       "\t\\hline\n",
       "\t& Float64 & Float64 & Float64 & Float64 & Float64\\\\\n",
       "\t\\hline\n",
       "\t1 & 0.440897 & 0.953803 & 0.0135403 & 0.596537 & 0.548635 \\\\\n",
       "\t2 & 0.404673 & 0.0951856 & 0.303399 & 0.638935 & 0.262992 \\\\\n",
       "\t3 & 0.736787 & 0.519675 & 0.702557 & 0.872347 & 0.526443 \\\\\n",
       "\t4 & 0.440897 & 0.953803 & 0.0135403 & 0.596537 & 0.548635 \\\\\n",
       "\t5 & 0.404673 & 0.0951856 & 0.303399 & 0.638935 & 0.262992 \\\\\n",
       "\t6 & 0.736787 & 0.519675 & 0.702557 & 0.872347 & 0.526443 \\\\\n",
       "\t7 & 1.0 & 2.0 & 3.0 & 4.0 & 5.0 \\\\\n",
       "\\end{tabular}\n"
      ],
      "text/plain": [
       "7×5 DataFrame\n",
       "│ Row │ x1       │ x2        │ x3        │ x4       │ x5       │\n",
       "│     │ \u001b[90mFloat64\u001b[39m  │ \u001b[90mFloat64\u001b[39m   │ \u001b[90mFloat64\u001b[39m   │ \u001b[90mFloat64\u001b[39m  │ \u001b[90mFloat64\u001b[39m  │\n",
       "├─────┼──────────┼───────────┼───────────┼──────────┼──────────┤\n",
       "│ 1   │ 0.440897 │ 0.953803  │ 0.0135403 │ 0.596537 │ 0.548635 │\n",
       "│ 2   │ 0.404673 │ 0.0951856 │ 0.303399  │ 0.638935 │ 0.262992 │\n",
       "│ 3   │ 0.736787 │ 0.519675  │ 0.702557  │ 0.872347 │ 0.526443 │\n",
       "│ 4   │ 0.440897 │ 0.953803  │ 0.0135403 │ 0.596537 │ 0.548635 │\n",
       "│ 5   │ 0.404673 │ 0.0951856 │ 0.303399  │ 0.638935 │ 0.262992 │\n",
       "│ 6   │ 0.736787 │ 0.519675  │ 0.702557  │ 0.872347 │ 0.526443 │\n",
       "│ 7   │ 1.0      │ 2.0       │ 3.0       │ 4.0      │ 5.0      │"
      ]
     },
     "execution_count": 35,
     "metadata": {},
     "output_type": "execute_result"
    }
   ],
   "source": [
    "push!(x, 1:5)\n",
    "x"
   ]
  },
  {
   "cell_type": "markdown",
   "metadata": {},
   "source": [
    "also works with dictionaries"
   ]
  },
  {
   "cell_type": "code",
   "execution_count": 36,
   "metadata": {},
   "outputs": [
    {
     "data": {
      "text/html": [
       "<table class=\"data-frame\"><thead><tr><th></th><th>x1</th><th>x2</th><th>x3</th><th>x4</th><th>x5</th></tr><tr><th></th><th>Float64</th><th>Float64</th><th>Float64</th><th>Float64</th><th>Float64</th></tr></thead><tbody><p>8 rows × 5 columns</p><tr><th>1</th><td>0.440897</td><td>0.953803</td><td>0.0135403</td><td>0.596537</td><td>0.548635</td></tr><tr><th>2</th><td>0.404673</td><td>0.0951856</td><td>0.303399</td><td>0.638935</td><td>0.262992</td></tr><tr><th>3</th><td>0.736787</td><td>0.519675</td><td>0.702557</td><td>0.872347</td><td>0.526443</td></tr><tr><th>4</th><td>0.440897</td><td>0.953803</td><td>0.0135403</td><td>0.596537</td><td>0.548635</td></tr><tr><th>5</th><td>0.404673</td><td>0.0951856</td><td>0.303399</td><td>0.638935</td><td>0.262992</td></tr><tr><th>6</th><td>0.736787</td><td>0.519675</td><td>0.702557</td><td>0.872347</td><td>0.526443</td></tr><tr><th>7</th><td>1.0</td><td>2.0</td><td>3.0</td><td>4.0</td><td>5.0</td></tr><tr><th>8</th><td>11.0</td><td>12.0</td><td>13.0</td><td>14.0</td><td>15.0</td></tr></tbody></table>"
      ],
      "text/latex": [
       "\\begin{tabular}{r|ccccc}\n",
       "\t& x1 & x2 & x3 & x4 & x5\\\\\n",
       "\t\\hline\n",
       "\t& Float64 & Float64 & Float64 & Float64 & Float64\\\\\n",
       "\t\\hline\n",
       "\t1 & 0.440897 & 0.953803 & 0.0135403 & 0.596537 & 0.548635 \\\\\n",
       "\t2 & 0.404673 & 0.0951856 & 0.303399 & 0.638935 & 0.262992 \\\\\n",
       "\t3 & 0.736787 & 0.519675 & 0.702557 & 0.872347 & 0.526443 \\\\\n",
       "\t4 & 0.440897 & 0.953803 & 0.0135403 & 0.596537 & 0.548635 \\\\\n",
       "\t5 & 0.404673 & 0.0951856 & 0.303399 & 0.638935 & 0.262992 \\\\\n",
       "\t6 & 0.736787 & 0.519675 & 0.702557 & 0.872347 & 0.526443 \\\\\n",
       "\t7 & 1.0 & 2.0 & 3.0 & 4.0 & 5.0 \\\\\n",
       "\t8 & 11.0 & 12.0 & 13.0 & 14.0 & 15.0 \\\\\n",
       "\\end{tabular}\n"
      ],
      "text/plain": [
       "8×5 DataFrame\n",
       "│ Row │ x1       │ x2        │ x3        │ x4       │ x5       │\n",
       "│     │ \u001b[90mFloat64\u001b[39m  │ \u001b[90mFloat64\u001b[39m   │ \u001b[90mFloat64\u001b[39m   │ \u001b[90mFloat64\u001b[39m  │ \u001b[90mFloat64\u001b[39m  │\n",
       "├─────┼──────────┼───────────┼───────────┼──────────┼──────────┤\n",
       "│ 1   │ 0.440897 │ 0.953803  │ 0.0135403 │ 0.596537 │ 0.548635 │\n",
       "│ 2   │ 0.404673 │ 0.0951856 │ 0.303399  │ 0.638935 │ 0.262992 │\n",
       "│ 3   │ 0.736787 │ 0.519675  │ 0.702557  │ 0.872347 │ 0.526443 │\n",
       "│ 4   │ 0.440897 │ 0.953803  │ 0.0135403 │ 0.596537 │ 0.548635 │\n",
       "│ 5   │ 0.404673 │ 0.0951856 │ 0.303399  │ 0.638935 │ 0.262992 │\n",
       "│ 6   │ 0.736787 │ 0.519675  │ 0.702557  │ 0.872347 │ 0.526443 │\n",
       "│ 7   │ 1.0      │ 2.0       │ 3.0       │ 4.0      │ 5.0      │\n",
       "│ 8   │ 11.0     │ 12.0      │ 13.0      │ 14.0     │ 15.0     │"
      ]
     },
     "execution_count": 36,
     "metadata": {},
     "output_type": "execute_result"
    }
   ],
   "source": [
    "push!(x, Dict(:x1=> 11, :x2=> 12, :x3=> 13, :x4=> 14, :x5=> 15))\n",
    "x"
   ]
  },
  {
   "cell_type": "markdown",
   "metadata": {},
   "source": [
    "and `NamedTuples` via name matching"
   ]
  },
  {
   "cell_type": "code",
   "execution_count": 37,
   "metadata": {},
   "outputs": [
    {
     "data": {
      "text/html": [
       "<table class=\"data-frame\"><thead><tr><th></th><th>x1</th><th>x2</th><th>x3</th><th>x4</th><th>x5</th></tr><tr><th></th><th>Float64</th><th>Float64</th><th>Float64</th><th>Float64</th><th>Float64</th></tr></thead><tbody><p>9 rows × 5 columns</p><tr><th>1</th><td>0.440897</td><td>0.953803</td><td>0.0135403</td><td>0.596537</td><td>0.548635</td></tr><tr><th>2</th><td>0.404673</td><td>0.0951856</td><td>0.303399</td><td>0.638935</td><td>0.262992</td></tr><tr><th>3</th><td>0.736787</td><td>0.519675</td><td>0.702557</td><td>0.872347</td><td>0.526443</td></tr><tr><th>4</th><td>0.440897</td><td>0.953803</td><td>0.0135403</td><td>0.596537</td><td>0.548635</td></tr><tr><th>5</th><td>0.404673</td><td>0.0951856</td><td>0.303399</td><td>0.638935</td><td>0.262992</td></tr><tr><th>6</th><td>0.736787</td><td>0.519675</td><td>0.702557</td><td>0.872347</td><td>0.526443</td></tr><tr><th>7</th><td>1.0</td><td>2.0</td><td>3.0</td><td>4.0</td><td>5.0</td></tr><tr><th>8</th><td>11.0</td><td>12.0</td><td>13.0</td><td>14.0</td><td>15.0</td></tr><tr><th>9</th><td>1.0</td><td>2.0</td><td>3.0</td><td>4.0</td><td>5.0</td></tr></tbody></table>"
      ],
      "text/latex": [
       "\\begin{tabular}{r|ccccc}\n",
       "\t& x1 & x2 & x3 & x4 & x5\\\\\n",
       "\t\\hline\n",
       "\t& Float64 & Float64 & Float64 & Float64 & Float64\\\\\n",
       "\t\\hline\n",
       "\t1 & 0.440897 & 0.953803 & 0.0135403 & 0.596537 & 0.548635 \\\\\n",
       "\t2 & 0.404673 & 0.0951856 & 0.303399 & 0.638935 & 0.262992 \\\\\n",
       "\t3 & 0.736787 & 0.519675 & 0.702557 & 0.872347 & 0.526443 \\\\\n",
       "\t4 & 0.440897 & 0.953803 & 0.0135403 & 0.596537 & 0.548635 \\\\\n",
       "\t5 & 0.404673 & 0.0951856 & 0.303399 & 0.638935 & 0.262992 \\\\\n",
       "\t6 & 0.736787 & 0.519675 & 0.702557 & 0.872347 & 0.526443 \\\\\n",
       "\t7 & 1.0 & 2.0 & 3.0 & 4.0 & 5.0 \\\\\n",
       "\t8 & 11.0 & 12.0 & 13.0 & 14.0 & 15.0 \\\\\n",
       "\t9 & 1.0 & 2.0 & 3.0 & 4.0 & 5.0 \\\\\n",
       "\\end{tabular}\n"
      ],
      "text/plain": [
       "9×5 DataFrame\n",
       "│ Row │ x1       │ x2        │ x3        │ x4       │ x5       │\n",
       "│     │ \u001b[90mFloat64\u001b[39m  │ \u001b[90mFloat64\u001b[39m   │ \u001b[90mFloat64\u001b[39m   │ \u001b[90mFloat64\u001b[39m  │ \u001b[90mFloat64\u001b[39m  │\n",
       "├─────┼──────────┼───────────┼───────────┼──────────┼──────────┤\n",
       "│ 1   │ 0.440897 │ 0.953803  │ 0.0135403 │ 0.596537 │ 0.548635 │\n",
       "│ 2   │ 0.404673 │ 0.0951856 │ 0.303399  │ 0.638935 │ 0.262992 │\n",
       "│ 3   │ 0.736787 │ 0.519675  │ 0.702557  │ 0.872347 │ 0.526443 │\n",
       "│ 4   │ 0.440897 │ 0.953803  │ 0.0135403 │ 0.596537 │ 0.548635 │\n",
       "│ 5   │ 0.404673 │ 0.0951856 │ 0.303399  │ 0.638935 │ 0.262992 │\n",
       "│ 6   │ 0.736787 │ 0.519675  │ 0.702557  │ 0.872347 │ 0.526443 │\n",
       "│ 7   │ 1.0      │ 2.0       │ 3.0       │ 4.0      │ 5.0      │\n",
       "│ 8   │ 11.0     │ 12.0      │ 13.0      │ 14.0     │ 15.0     │\n",
       "│ 9   │ 1.0      │ 2.0       │ 3.0       │ 4.0      │ 5.0      │"
      ]
     },
     "execution_count": 37,
     "metadata": {},
     "output_type": "execute_result"
    }
   ],
   "source": [
    "push!(x, (x2=2, x1=1, x4=4, x3=3, x5=5))"
   ]
  },
  {
   "cell_type": "markdown",
   "metadata": {},
   "source": [
    "and `DataFrameRow` also via name matching"
   ]
  },
  {
   "cell_type": "code",
   "execution_count": 38,
   "metadata": {},
   "outputs": [
    {
     "data": {
      "text/html": [
       "<table class=\"data-frame\"><thead><tr><th></th><th>x1</th><th>x2</th><th>x3</th><th>x4</th><th>x5</th></tr><tr><th></th><th>Float64</th><th>Float64</th><th>Float64</th><th>Float64</th><th>Float64</th></tr></thead><tbody><p>10 rows × 5 columns</p><tr><th>1</th><td>0.440897</td><td>0.953803</td><td>0.0135403</td><td>0.596537</td><td>0.548635</td></tr><tr><th>2</th><td>0.404673</td><td>0.0951856</td><td>0.303399</td><td>0.638935</td><td>0.262992</td></tr><tr><th>3</th><td>0.736787</td><td>0.519675</td><td>0.702557</td><td>0.872347</td><td>0.526443</td></tr><tr><th>4</th><td>0.440897</td><td>0.953803</td><td>0.0135403</td><td>0.596537</td><td>0.548635</td></tr><tr><th>5</th><td>0.404673</td><td>0.0951856</td><td>0.303399</td><td>0.638935</td><td>0.262992</td></tr><tr><th>6</th><td>0.736787</td><td>0.519675</td><td>0.702557</td><td>0.872347</td><td>0.526443</td></tr><tr><th>7</th><td>1.0</td><td>2.0</td><td>3.0</td><td>4.0</td><td>5.0</td></tr><tr><th>8</th><td>11.0</td><td>12.0</td><td>13.0</td><td>14.0</td><td>15.0</td></tr><tr><th>9</th><td>1.0</td><td>2.0</td><td>3.0</td><td>4.0</td><td>5.0</td></tr><tr><th>10</th><td>0.440897</td><td>0.953803</td><td>0.0135403</td><td>0.596537</td><td>0.548635</td></tr></tbody></table>"
      ],
      "text/latex": [
       "\\begin{tabular}{r|ccccc}\n",
       "\t& x1 & x2 & x3 & x4 & x5\\\\\n",
       "\t\\hline\n",
       "\t& Float64 & Float64 & Float64 & Float64 & Float64\\\\\n",
       "\t\\hline\n",
       "\t1 & 0.440897 & 0.953803 & 0.0135403 & 0.596537 & 0.548635 \\\\\n",
       "\t2 & 0.404673 & 0.0951856 & 0.303399 & 0.638935 & 0.262992 \\\\\n",
       "\t3 & 0.736787 & 0.519675 & 0.702557 & 0.872347 & 0.526443 \\\\\n",
       "\t4 & 0.440897 & 0.953803 & 0.0135403 & 0.596537 & 0.548635 \\\\\n",
       "\t5 & 0.404673 & 0.0951856 & 0.303399 & 0.638935 & 0.262992 \\\\\n",
       "\t6 & 0.736787 & 0.519675 & 0.702557 & 0.872347 & 0.526443 \\\\\n",
       "\t7 & 1.0 & 2.0 & 3.0 & 4.0 & 5.0 \\\\\n",
       "\t8 & 11.0 & 12.0 & 13.0 & 14.0 & 15.0 \\\\\n",
       "\t9 & 1.0 & 2.0 & 3.0 & 4.0 & 5.0 \\\\\n",
       "\t10 & 0.440897 & 0.953803 & 0.0135403 & 0.596537 & 0.548635 \\\\\n",
       "\\end{tabular}\n"
      ],
      "text/plain": [
       "10×5 DataFrame\n",
       "│ Row │ x1       │ x2        │ x3        │ x4       │ x5       │\n",
       "│     │ \u001b[90mFloat64\u001b[39m  │ \u001b[90mFloat64\u001b[39m   │ \u001b[90mFloat64\u001b[39m   │ \u001b[90mFloat64\u001b[39m  │ \u001b[90mFloat64\u001b[39m  │\n",
       "├─────┼──────────┼───────────┼───────────┼──────────┼──────────┤\n",
       "│ 1   │ 0.440897 │ 0.953803  │ 0.0135403 │ 0.596537 │ 0.548635 │\n",
       "│ 2   │ 0.404673 │ 0.0951856 │ 0.303399  │ 0.638935 │ 0.262992 │\n",
       "│ 3   │ 0.736787 │ 0.519675  │ 0.702557  │ 0.872347 │ 0.526443 │\n",
       "│ 4   │ 0.440897 │ 0.953803  │ 0.0135403 │ 0.596537 │ 0.548635 │\n",
       "│ 5   │ 0.404673 │ 0.0951856 │ 0.303399  │ 0.638935 │ 0.262992 │\n",
       "│ 6   │ 0.736787 │ 0.519675  │ 0.702557  │ 0.872347 │ 0.526443 │\n",
       "│ 7   │ 1.0      │ 2.0       │ 3.0       │ 4.0      │ 5.0      │\n",
       "│ 8   │ 11.0     │ 12.0      │ 13.0      │ 14.0     │ 15.0     │\n",
       "│ 9   │ 1.0      │ 2.0       │ 3.0       │ 4.0      │ 5.0      │\n",
       "│ 10  │ 0.440897 │ 0.953803  │ 0.0135403 │ 0.596537 │ 0.548635 │"
      ]
     },
     "execution_count": 38,
     "metadata": {},
     "output_type": "execute_result"
    }
   ],
   "source": [
    "push!(x, x[1, :])"
   ]
  },
  {
   "cell_type": "markdown",
   "metadata": {},
   "source": [
    "### Subsetting/removing rows"
   ]
  },
  {
   "cell_type": "code",
   "execution_count": 39,
   "metadata": {},
   "outputs": [
    {
     "data": {
      "text/html": [
       "<table class=\"data-frame\"><thead><tr><th></th><th>id</th><th>val</th></tr><tr><th></th><th>Int64</th><th>Char</th></tr></thead><tbody><p>10 rows × 2 columns</p><tr><th>1</th><td>1</td><td>'a'</td></tr><tr><th>2</th><td>2</td><td>'b'</td></tr><tr><th>3</th><td>3</td><td>'c'</td></tr><tr><th>4</th><td>4</td><td>'d'</td></tr><tr><th>5</th><td>5</td><td>'e'</td></tr><tr><th>6</th><td>6</td><td>'f'</td></tr><tr><th>7</th><td>7</td><td>'g'</td></tr><tr><th>8</th><td>8</td><td>'h'</td></tr><tr><th>9</th><td>9</td><td>'i'</td></tr><tr><th>10</th><td>10</td><td>'j'</td></tr></tbody></table>"
      ],
      "text/latex": [
       "\\begin{tabular}{r|cc}\n",
       "\t& id & val\\\\\n",
       "\t\\hline\n",
       "\t& Int64 & Char\\\\\n",
       "\t\\hline\n",
       "\t1 & 1 & 'a' \\\\\n",
       "\t2 & 2 & 'b' \\\\\n",
       "\t3 & 3 & 'c' \\\\\n",
       "\t4 & 4 & 'd' \\\\\n",
       "\t5 & 5 & 'e' \\\\\n",
       "\t6 & 6 & 'f' \\\\\n",
       "\t7 & 7 & 'g' \\\\\n",
       "\t8 & 8 & 'h' \\\\\n",
       "\t9 & 9 & 'i' \\\\\n",
       "\t10 & 10 & 'j' \\\\\n",
       "\\end{tabular}\n"
      ],
      "text/plain": [
       "10×2 DataFrame\n",
       "│ Row │ id    │ val  │\n",
       "│     │ \u001b[90mInt64\u001b[39m │ \u001b[90mChar\u001b[39m │\n",
       "├─────┼───────┼──────┤\n",
       "│ 1   │ 1     │ 'a'  │\n",
       "│ 2   │ 2     │ 'b'  │\n",
       "│ 3   │ 3     │ 'c'  │\n",
       "│ 4   │ 4     │ 'd'  │\n",
       "│ 5   │ 5     │ 'e'  │\n",
       "│ 6   │ 6     │ 'f'  │\n",
       "│ 7   │ 7     │ 'g'  │\n",
       "│ 8   │ 8     │ 'h'  │\n",
       "│ 9   │ 9     │ 'i'  │\n",
       "│ 10  │ 10    │ 'j'  │"
      ]
     },
     "execution_count": 39,
     "metadata": {},
     "output_type": "execute_result"
    }
   ],
   "source": [
    "x = DataFrame(id=1:10, val='a':'j')"
   ]
  },
  {
   "cell_type": "markdown",
   "metadata": {},
   "source": [
    "by using indexing"
   ]
  },
  {
   "cell_type": "code",
   "execution_count": 40,
   "metadata": {},
   "outputs": [
    {
     "data": {
      "text/html": [
       "<table class=\"data-frame\"><thead><tr><th></th><th>id</th><th>val</th></tr><tr><th></th><th>Int64</th><th>Char</th></tr></thead><tbody><p>2 rows × 2 columns</p><tr><th>1</th><td>1</td><td>'a'</td></tr><tr><th>2</th><td>2</td><td>'b'</td></tr></tbody></table>"
      ],
      "text/latex": [
       "\\begin{tabular}{r|cc}\n",
       "\t& id & val\\\\\n",
       "\t\\hline\n",
       "\t& Int64 & Char\\\\\n",
       "\t\\hline\n",
       "\t1 & 1 & 'a' \\\\\n",
       "\t2 & 2 & 'b' \\\\\n",
       "\\end{tabular}\n"
      ],
      "text/plain": [
       "2×2 DataFrame\n",
       "│ Row │ id    │ val  │\n",
       "│     │ \u001b[90mInt64\u001b[39m │ \u001b[90mChar\u001b[39m │\n",
       "├─────┼───────┼──────┤\n",
       "│ 1   │ 1     │ 'a'  │\n",
       "│ 2   │ 2     │ 'b'  │"
      ]
     },
     "execution_count": 40,
     "metadata": {},
     "output_type": "execute_result"
    }
   ],
   "source": [
    "x[1:2, :]"
   ]
  },
  {
   "cell_type": "markdown",
   "metadata": {},
   "source": [
    "a single row selection creates a `DataFrameRow`"
   ]
  },
  {
   "cell_type": "code",
   "execution_count": 41,
   "metadata": {},
   "outputs": [
    {
     "data": {
      "text/html": [
       "<p>DataFrameRow</p><table class=\"data-frame\"><thead><tr><th></th><th>id</th><th>val</th></tr><tr><th></th><th>Int64</th><th>Char</th></tr></thead><tbody><p>1 rows × 2 columns</p><tr><th>1</th><td>1</td><td>'a'</td></tr></tbody></table>"
      ],
      "text/latex": [
       "\\begin{tabular}{r|cc}\n",
       "\t& id & val\\\\\n",
       "\t\\hline\n",
       "\t& Int64 & Char\\\\\n",
       "\t\\hline\n",
       "\t1 & 1 & 'a' \\\\\n",
       "\\end{tabular}\n"
      ],
      "text/plain": [
       "DataFrameRow\n",
       "│ Row │ id    │ val  │\n",
       "│     │ \u001b[90mInt64\u001b[39m │ \u001b[90mChar\u001b[39m │\n",
       "├─────┼───────┼──────┤\n",
       "│ 1   │ 1     │ 'a'  │"
      ]
     },
     "execution_count": 41,
     "metadata": {},
     "output_type": "execute_result"
    }
   ],
   "source": [
    "x[1, :]"
   ]
  },
  {
   "cell_type": "markdown",
   "metadata": {},
   "source": [
    "but this is a `DataFrame`"
   ]
  },
  {
   "cell_type": "code",
   "execution_count": 42,
   "metadata": {},
   "outputs": [
    {
     "data": {
      "text/html": [
       "<table class=\"data-frame\"><thead><tr><th></th><th>id</th><th>val</th></tr><tr><th></th><th>Int64</th><th>Char</th></tr></thead><tbody><p>1 rows × 2 columns</p><tr><th>1</th><td>1</td><td>'a'</td></tr></tbody></table>"
      ],
      "text/latex": [
       "\\begin{tabular}{r|cc}\n",
       "\t& id & val\\\\\n",
       "\t\\hline\n",
       "\t& Int64 & Char\\\\\n",
       "\t\\hline\n",
       "\t1 & 1 & 'a' \\\\\n",
       "\\end{tabular}\n"
      ],
      "text/plain": [
       "1×2 DataFrame\n",
       "│ Row │ id    │ val  │\n",
       "│     │ \u001b[90mInt64\u001b[39m │ \u001b[90mChar\u001b[39m │\n",
       "├─────┼───────┼──────┤\n",
       "│ 1   │ 1     │ 'a'  │"
      ]
     },
     "execution_count": 42,
     "metadata": {},
     "output_type": "execute_result"
    }
   ],
   "source": [
    "x[1:1, :]"
   ]
  },
  {
   "cell_type": "markdown",
   "metadata": {},
   "source": [
    "the same but a view"
   ]
  },
  {
   "cell_type": "code",
   "execution_count": 43,
   "metadata": {},
   "outputs": [
    {
     "data": {
      "text/html": [
       "<table class=\"data-frame\"><thead><tr><th></th><th>id</th><th>val</th></tr><tr><th></th><th>Int64</th><th>Char</th></tr></thead><tbody><p>2 rows × 2 columns</p><tr><th>1</th><td>1</td><td>'a'</td></tr><tr><th>2</th><td>2</td><td>'b'</td></tr></tbody></table>"
      ],
      "text/latex": [
       "\\begin{tabular}{r|cc}\n",
       "\t& id & val\\\\\n",
       "\t\\hline\n",
       "\t& Int64 & Char\\\\\n",
       "\t\\hline\n",
       "\t1 & 1 & 'a' \\\\\n",
       "\t2 & 2 & 'b' \\\\\n",
       "\\end{tabular}\n"
      ],
      "text/plain": [
       "2×2 SubDataFrame\n",
       "│ Row │ id    │ val  │\n",
       "│     │ \u001b[90mInt64\u001b[39m │ \u001b[90mChar\u001b[39m │\n",
       "├─────┼───────┼──────┤\n",
       "│ 1   │ 1     │ 'a'  │\n",
       "│ 2   │ 2     │ 'b'  │"
      ]
     },
     "execution_count": 43,
     "metadata": {},
     "output_type": "execute_result"
    }
   ],
   "source": [
    "view(x, 1:2, :)"
   ]
  },
  {
   "cell_type": "markdown",
   "metadata": {},
   "source": [
    "selects columns 1 and 2"
   ]
  },
  {
   "cell_type": "code",
   "execution_count": 44,
   "metadata": {},
   "outputs": [
    {
     "data": {
      "text/html": [
       "<table class=\"data-frame\"><thead><tr><th></th><th>id</th><th>val</th></tr><tr><th></th><th>Int64</th><th>Char</th></tr></thead><tbody><p>10 rows × 2 columns</p><tr><th>1</th><td>1</td><td>'a'</td></tr><tr><th>2</th><td>2</td><td>'b'</td></tr><tr><th>3</th><td>3</td><td>'c'</td></tr><tr><th>4</th><td>4</td><td>'d'</td></tr><tr><th>5</th><td>5</td><td>'e'</td></tr><tr><th>6</th><td>6</td><td>'f'</td></tr><tr><th>7</th><td>7</td><td>'g'</td></tr><tr><th>8</th><td>8</td><td>'h'</td></tr><tr><th>9</th><td>9</td><td>'i'</td></tr><tr><th>10</th><td>10</td><td>'j'</td></tr></tbody></table>"
      ],
      "text/latex": [
       "\\begin{tabular}{r|cc}\n",
       "\t& id & val\\\\\n",
       "\t\\hline\n",
       "\t& Int64 & Char\\\\\n",
       "\t\\hline\n",
       "\t1 & 1 & 'a' \\\\\n",
       "\t2 & 2 & 'b' \\\\\n",
       "\t3 & 3 & 'c' \\\\\n",
       "\t4 & 4 & 'd' \\\\\n",
       "\t5 & 5 & 'e' \\\\\n",
       "\t6 & 6 & 'f' \\\\\n",
       "\t7 & 7 & 'g' \\\\\n",
       "\t8 & 8 & 'h' \\\\\n",
       "\t9 & 9 & 'i' \\\\\n",
       "\t10 & 10 & 'j' \\\\\n",
       "\\end{tabular}\n"
      ],
      "text/plain": [
       "10×2 SubDataFrame\n",
       "│ Row │ id    │ val  │\n",
       "│     │ \u001b[90mInt64\u001b[39m │ \u001b[90mChar\u001b[39m │\n",
       "├─────┼───────┼──────┤\n",
       "│ 1   │ 1     │ 'a'  │\n",
       "│ 2   │ 2     │ 'b'  │\n",
       "│ 3   │ 3     │ 'c'  │\n",
       "│ 4   │ 4     │ 'd'  │\n",
       "│ 5   │ 5     │ 'e'  │\n",
       "│ 6   │ 6     │ 'f'  │\n",
       "│ 7   │ 7     │ 'g'  │\n",
       "│ 8   │ 8     │ 'h'  │\n",
       "│ 9   │ 9     │ 'i'  │\n",
       "│ 10  │ 10    │ 'j'  │"
      ]
     },
     "execution_count": 44,
     "metadata": {},
     "output_type": "execute_result"
    }
   ],
   "source": [
    "view(x, :, 1:2)"
   ]
  },
  {
   "cell_type": "markdown",
   "metadata": {},
   "source": [
    "indexing by `Bool`, exact length math is required"
   ]
  },
  {
   "cell_type": "code",
   "execution_count": 45,
   "metadata": {},
   "outputs": [
    {
     "data": {
      "text/html": [
       "<table class=\"data-frame\"><thead><tr><th></th><th>id</th><th>val</th></tr><tr><th></th><th>Int64</th><th>Char</th></tr></thead><tbody><p>5 rows × 2 columns</p><tr><th>1</th><td>1</td><td>'a'</td></tr><tr><th>2</th><td>3</td><td>'c'</td></tr><tr><th>3</th><td>5</td><td>'e'</td></tr><tr><th>4</th><td>7</td><td>'g'</td></tr><tr><th>5</th><td>9</td><td>'i'</td></tr></tbody></table>"
      ],
      "text/latex": [
       "\\begin{tabular}{r|cc}\n",
       "\t& id & val\\\\\n",
       "\t\\hline\n",
       "\t& Int64 & Char\\\\\n",
       "\t\\hline\n",
       "\t1 & 1 & 'a' \\\\\n",
       "\t2 & 3 & 'c' \\\\\n",
       "\t3 & 5 & 'e' \\\\\n",
       "\t4 & 7 & 'g' \\\\\n",
       "\t5 & 9 & 'i' \\\\\n",
       "\\end{tabular}\n"
      ],
      "text/plain": [
       "5×2 DataFrame\n",
       "│ Row │ id    │ val  │\n",
       "│     │ \u001b[90mInt64\u001b[39m │ \u001b[90mChar\u001b[39m │\n",
       "├─────┼───────┼──────┤\n",
       "│ 1   │ 1     │ 'a'  │\n",
       "│ 2   │ 3     │ 'c'  │\n",
       "│ 3   │ 5     │ 'e'  │\n",
       "│ 4   │ 7     │ 'g'  │\n",
       "│ 5   │ 9     │ 'i'  │"
      ]
     },
     "execution_count": 45,
     "metadata": {},
     "output_type": "execute_result"
    }
   ],
   "source": [
    "x[repeat([true, false], 5), :]"
   ]
  },
  {
   "cell_type": "markdown",
   "metadata": {},
   "source": [
    "alternatively we can also create a view"
   ]
  },
  {
   "cell_type": "code",
   "execution_count": 46,
   "metadata": {},
   "outputs": [
    {
     "data": {
      "text/html": [
       "<table class=\"data-frame\"><thead><tr><th></th><th>id</th><th>val</th></tr><tr><th></th><th>Int64</th><th>Char</th></tr></thead><tbody><p>5 rows × 2 columns</p><tr><th>1</th><td>1</td><td>'a'</td></tr><tr><th>2</th><td>3</td><td>'c'</td></tr><tr><th>3</th><td>5</td><td>'e'</td></tr><tr><th>4</th><td>7</td><td>'g'</td></tr><tr><th>5</th><td>9</td><td>'i'</td></tr></tbody></table>"
      ],
      "text/latex": [
       "\\begin{tabular}{r|cc}\n",
       "\t& id & val\\\\\n",
       "\t\\hline\n",
       "\t& Int64 & Char\\\\\n",
       "\t\\hline\n",
       "\t1 & 1 & 'a' \\\\\n",
       "\t2 & 3 & 'c' \\\\\n",
       "\t3 & 5 & 'e' \\\\\n",
       "\t4 & 7 & 'g' \\\\\n",
       "\t5 & 9 & 'i' \\\\\n",
       "\\end{tabular}\n"
      ],
      "text/plain": [
       "5×2 SubDataFrame\n",
       "│ Row │ id    │ val  │\n",
       "│     │ \u001b[90mInt64\u001b[39m │ \u001b[90mChar\u001b[39m │\n",
       "├─────┼───────┼──────┤\n",
       "│ 1   │ 1     │ 'a'  │\n",
       "│ 2   │ 3     │ 'c'  │\n",
       "│ 3   │ 5     │ 'e'  │\n",
       "│ 4   │ 7     │ 'g'  │\n",
       "│ 5   │ 9     │ 'i'  │"
      ]
     },
     "execution_count": 46,
     "metadata": {},
     "output_type": "execute_result"
    }
   ],
   "source": [
    "view(x, repeat([true, false], 5), :)"
   ]
  },
  {
   "cell_type": "markdown",
   "metadata": {},
   "source": [
    "we can delete one row in place"
   ]
  },
  {
   "cell_type": "code",
   "execution_count": 47,
   "metadata": {},
   "outputs": [
    {
     "data": {
      "text/html": [
       "<table class=\"data-frame\"><thead><tr><th></th><th>id</th><th>val</th></tr><tr><th></th><th>Int64</th><th>Char</th></tr></thead><tbody><p>9 rows × 2 columns</p><tr><th>1</th><td>1</td><td>'a'</td></tr><tr><th>2</th><td>2</td><td>'b'</td></tr><tr><th>3</th><td>3</td><td>'c'</td></tr><tr><th>4</th><td>4</td><td>'d'</td></tr><tr><th>5</th><td>5</td><td>'e'</td></tr><tr><th>6</th><td>6</td><td>'f'</td></tr><tr><th>7</th><td>8</td><td>'h'</td></tr><tr><th>8</th><td>9</td><td>'i'</td></tr><tr><th>9</th><td>10</td><td>'j'</td></tr></tbody></table>"
      ],
      "text/latex": [
       "\\begin{tabular}{r|cc}\n",
       "\t& id & val\\\\\n",
       "\t\\hline\n",
       "\t& Int64 & Char\\\\\n",
       "\t\\hline\n",
       "\t1 & 1 & 'a' \\\\\n",
       "\t2 & 2 & 'b' \\\\\n",
       "\t3 & 3 & 'c' \\\\\n",
       "\t4 & 4 & 'd' \\\\\n",
       "\t5 & 5 & 'e' \\\\\n",
       "\t6 & 6 & 'f' \\\\\n",
       "\t7 & 8 & 'h' \\\\\n",
       "\t8 & 9 & 'i' \\\\\n",
       "\t9 & 10 & 'j' \\\\\n",
       "\\end{tabular}\n"
      ],
      "text/plain": [
       "9×2 DataFrame\n",
       "│ Row │ id    │ val  │\n",
       "│     │ \u001b[90mInt64\u001b[39m │ \u001b[90mChar\u001b[39m │\n",
       "├─────┼───────┼──────┤\n",
       "│ 1   │ 1     │ 'a'  │\n",
       "│ 2   │ 2     │ 'b'  │\n",
       "│ 3   │ 3     │ 'c'  │\n",
       "│ 4   │ 4     │ 'd'  │\n",
       "│ 5   │ 5     │ 'e'  │\n",
       "│ 6   │ 6     │ 'f'  │\n",
       "│ 7   │ 8     │ 'h'  │\n",
       "│ 8   │ 9     │ 'i'  │\n",
       "│ 9   │ 10    │ 'j'  │"
      ]
     },
     "execution_count": 47,
     "metadata": {},
     "output_type": "execute_result"
    }
   ],
   "source": [
    "deleterows!(x, 7)"
   ]
  },
  {
   "cell_type": "markdown",
   "metadata": {},
   "source": [
    "or a collection of rows, also in place"
   ]
  },
  {
   "cell_type": "code",
   "execution_count": 48,
   "metadata": {},
   "outputs": [
    {
     "data": {
      "text/html": [
       "<table class=\"data-frame\"><thead><tr><th></th><th>id</th><th>val</th></tr><tr><th></th><th>Int64</th><th>Char</th></tr></thead><tbody><p>7 rows × 2 columns</p><tr><th>1</th><td>1</td><td>'a'</td></tr><tr><th>2</th><td>2</td><td>'b'</td></tr><tr><th>3</th><td>3</td><td>'c'</td></tr><tr><th>4</th><td>4</td><td>'d'</td></tr><tr><th>5</th><td>5</td><td>'e'</td></tr><tr><th>6</th><td>9</td><td>'i'</td></tr><tr><th>7</th><td>10</td><td>'j'</td></tr></tbody></table>"
      ],
      "text/latex": [
       "\\begin{tabular}{r|cc}\n",
       "\t& id & val\\\\\n",
       "\t\\hline\n",
       "\t& Int64 & Char\\\\\n",
       "\t\\hline\n",
       "\t1 & 1 & 'a' \\\\\n",
       "\t2 & 2 & 'b' \\\\\n",
       "\t3 & 3 & 'c' \\\\\n",
       "\t4 & 4 & 'd' \\\\\n",
       "\t5 & 5 & 'e' \\\\\n",
       "\t6 & 9 & 'i' \\\\\n",
       "\t7 & 10 & 'j' \\\\\n",
       "\\end{tabular}\n"
      ],
      "text/plain": [
       "7×2 DataFrame\n",
       "│ Row │ id    │ val  │\n",
       "│     │ \u001b[90mInt64\u001b[39m │ \u001b[90mChar\u001b[39m │\n",
       "├─────┼───────┼──────┤\n",
       "│ 1   │ 1     │ 'a'  │\n",
       "│ 2   │ 2     │ 'b'  │\n",
       "│ 3   │ 3     │ 'c'  │\n",
       "│ 4   │ 4     │ 'd'  │\n",
       "│ 5   │ 5     │ 'e'  │\n",
       "│ 6   │ 9     │ 'i'  │\n",
       "│ 7   │ 10    │ 'j'  │"
      ]
     },
     "execution_count": 48,
     "metadata": {},
     "output_type": "execute_result"
    }
   ],
   "source": [
    "deleterows!(x, 6:7)"
   ]
  },
  {
   "cell_type": "markdown",
   "metadata": {},
   "source": [
    "you can also create a new `DataFrame` when deleting rows using `Not` indexing"
   ]
  },
  {
   "cell_type": "code",
   "execution_count": 49,
   "metadata": {},
   "outputs": [
    {
     "data": {
      "text/html": [
       "<table class=\"data-frame\"><thead><tr><th></th><th>id</th><th>val</th></tr><tr><th></th><th>Int64</th><th>Char</th></tr></thead><tbody><p>5 rows × 2 columns</p><tr><th>1</th><td>3</td><td>'c'</td></tr><tr><th>2</th><td>4</td><td>'d'</td></tr><tr><th>3</th><td>5</td><td>'e'</td></tr><tr><th>4</th><td>9</td><td>'i'</td></tr><tr><th>5</th><td>10</td><td>'j'</td></tr></tbody></table>"
      ],
      "text/latex": [
       "\\begin{tabular}{r|cc}\n",
       "\t& id & val\\\\\n",
       "\t\\hline\n",
       "\t& Int64 & Char\\\\\n",
       "\t\\hline\n",
       "\t1 & 3 & 'c' \\\\\n",
       "\t2 & 4 & 'd' \\\\\n",
       "\t3 & 5 & 'e' \\\\\n",
       "\t4 & 9 & 'i' \\\\\n",
       "\t5 & 10 & 'j' \\\\\n",
       "\\end{tabular}\n"
      ],
      "text/plain": [
       "5×2 DataFrame\n",
       "│ Row │ id    │ val  │\n",
       "│     │ \u001b[90mInt64\u001b[39m │ \u001b[90mChar\u001b[39m │\n",
       "├─────┼───────┼──────┤\n",
       "│ 1   │ 3     │ 'c'  │\n",
       "│ 2   │ 4     │ 'd'  │\n",
       "│ 3   │ 5     │ 'e'  │\n",
       "│ 4   │ 9     │ 'i'  │\n",
       "│ 5   │ 10    │ 'j'  │"
      ]
     },
     "execution_count": 49,
     "metadata": {},
     "output_type": "execute_result"
    }
   ],
   "source": [
    "x[Not(1:2), :]"
   ]
  },
  {
   "cell_type": "code",
   "execution_count": 50,
   "metadata": {},
   "outputs": [
    {
     "data": {
      "text/html": [
       "<table class=\"data-frame\"><thead><tr><th></th><th>id</th><th>val</th></tr><tr><th></th><th>Int64</th><th>Char</th></tr></thead><tbody><p>7 rows × 2 columns</p><tr><th>1</th><td>1</td><td>'a'</td></tr><tr><th>2</th><td>2</td><td>'b'</td></tr><tr><th>3</th><td>3</td><td>'c'</td></tr><tr><th>4</th><td>4</td><td>'d'</td></tr><tr><th>5</th><td>5</td><td>'e'</td></tr><tr><th>6</th><td>9</td><td>'i'</td></tr><tr><th>7</th><td>10</td><td>'j'</td></tr></tbody></table>"
      ],
      "text/latex": [
       "\\begin{tabular}{r|cc}\n",
       "\t& id & val\\\\\n",
       "\t\\hline\n",
       "\t& Int64 & Char\\\\\n",
       "\t\\hline\n",
       "\t1 & 1 & 'a' \\\\\n",
       "\t2 & 2 & 'b' \\\\\n",
       "\t3 & 3 & 'c' \\\\\n",
       "\t4 & 4 & 'd' \\\\\n",
       "\t5 & 5 & 'e' \\\\\n",
       "\t6 & 9 & 'i' \\\\\n",
       "\t7 & 10 & 'j' \\\\\n",
       "\\end{tabular}\n"
      ],
      "text/plain": [
       "7×2 DataFrame\n",
       "│ Row │ id    │ val  │\n",
       "│     │ \u001b[90mInt64\u001b[39m │ \u001b[90mChar\u001b[39m │\n",
       "├─────┼───────┼──────┤\n",
       "│ 1   │ 1     │ 'a'  │\n",
       "│ 2   │ 2     │ 'b'  │\n",
       "│ 3   │ 3     │ 'c'  │\n",
       "│ 4   │ 4     │ 'd'  │\n",
       "│ 5   │ 5     │ 'e'  │\n",
       "│ 6   │ 9     │ 'i'  │\n",
       "│ 7   │ 10    │ 'j'  │"
      ]
     },
     "execution_count": 50,
     "metadata": {},
     "output_type": "execute_result"
    }
   ],
   "source": [
    "x"
   ]
  },
  {
   "cell_type": "markdown",
   "metadata": {},
   "source": [
    "now we move to row filtering"
   ]
  },
  {
   "cell_type": "code",
   "execution_count": 51,
   "metadata": {},
   "outputs": [
    {
     "data": {
      "text/html": [
       "<table class=\"data-frame\"><thead><tr><th></th><th>x1</th><th>x2</th><th>x3</th></tr><tr><th></th><th>Int64</th><th>Int64</th><th>Int64</th></tr></thead><tbody><p>4 rows × 3 columns</p><tr><th>1</th><td>1</td><td>2</td><td>3</td></tr><tr><th>2</th><td>2</td><td>3</td><td>4</td></tr><tr><th>3</th><td>3</td><td>4</td><td>5</td></tr><tr><th>4</th><td>4</td><td>5</td><td>6</td></tr></tbody></table>"
      ],
      "text/latex": [
       "\\begin{tabular}{r|ccc}\n",
       "\t& x1 & x2 & x3\\\\\n",
       "\t\\hline\n",
       "\t& Int64 & Int64 & Int64\\\\\n",
       "\t\\hline\n",
       "\t1 & 1 & 2 & 3 \\\\\n",
       "\t2 & 2 & 3 & 4 \\\\\n",
       "\t3 & 3 & 4 & 5 \\\\\n",
       "\t4 & 4 & 5 & 6 \\\\\n",
       "\\end{tabular}\n"
      ],
      "text/plain": [
       "4×3 DataFrame\n",
       "│ Row │ x1    │ x2    │ x3    │\n",
       "│     │ \u001b[90mInt64\u001b[39m │ \u001b[90mInt64\u001b[39m │ \u001b[90mInt64\u001b[39m │\n",
       "├─────┼───────┼───────┼───────┤\n",
       "│ 1   │ 1     │ 2     │ 3     │\n",
       "│ 2   │ 2     │ 3     │ 4     │\n",
       "│ 3   │ 3     │ 4     │ 5     │\n",
       "│ 4   │ 4     │ 5     │ 6     │"
      ]
     },
     "execution_count": 51,
     "metadata": {},
     "output_type": "execute_result"
    }
   ],
   "source": [
    "x = DataFrame([1:4, 2:5, 3:6])"
   ]
  },
  {
   "cell_type": "markdown",
   "metadata": {},
   "source": [
    "create a new `DataFrame` where filtering function operates on `DataFrameRow`"
   ]
  },
  {
   "cell_type": "code",
   "execution_count": 52,
   "metadata": {},
   "outputs": [
    {
     "data": {
      "text/html": [
       "<table class=\"data-frame\"><thead><tr><th></th><th>x1</th><th>x2</th><th>x3</th></tr><tr><th></th><th>Int64</th><th>Int64</th><th>Int64</th></tr></thead><tbody><p>2 rows × 3 columns</p><tr><th>1</th><td>3</td><td>4</td><td>5</td></tr><tr><th>2</th><td>4</td><td>5</td><td>6</td></tr></tbody></table>"
      ],
      "text/latex": [
       "\\begin{tabular}{r|ccc}\n",
       "\t& x1 & x2 & x3\\\\\n",
       "\t\\hline\n",
       "\t& Int64 & Int64 & Int64\\\\\n",
       "\t\\hline\n",
       "\t1 & 3 & 4 & 5 \\\\\n",
       "\t2 & 4 & 5 & 6 \\\\\n",
       "\\end{tabular}\n"
      ],
      "text/plain": [
       "2×3 DataFrame\n",
       "│ Row │ x1    │ x2    │ x3    │\n",
       "│     │ \u001b[90mInt64\u001b[39m │ \u001b[90mInt64\u001b[39m │ \u001b[90mInt64\u001b[39m │\n",
       "├─────┼───────┼───────┼───────┤\n",
       "│ 1   │ 3     │ 4     │ 5     │\n",
       "│ 2   │ 4     │ 5     │ 6     │"
      ]
     },
     "execution_count": 52,
     "metadata": {},
     "output_type": "execute_result"
    }
   ],
   "source": [
    "filter(r -> r.x1 > 2.5, x)"
   ]
  },
  {
   "cell_type": "markdown",
   "metadata": {},
   "source": [
    "in place modification of `x`, an example with `do`-block syntax"
   ]
  },
  {
   "cell_type": "code",
   "execution_count": 53,
   "metadata": {},
   "outputs": [
    {
     "data": {
      "text/html": [
       "<table class=\"data-frame\"><thead><tr><th></th><th>x1</th><th>x2</th><th>x3</th></tr><tr><th></th><th>Int64</th><th>Int64</th><th>Int64</th></tr></thead><tbody><p>2 rows × 3 columns</p><tr><th>1</th><td>1</td><td>2</td><td>3</td></tr><tr><th>2</th><td>3</td><td>4</td><td>5</td></tr></tbody></table>"
      ],
      "text/latex": [
       "\\begin{tabular}{r|ccc}\n",
       "\t& x1 & x2 & x3\\\\\n",
       "\t\\hline\n",
       "\t& Int64 & Int64 & Int64\\\\\n",
       "\t\\hline\n",
       "\t1 & 1 & 2 & 3 \\\\\n",
       "\t2 & 3 & 4 & 5 \\\\\n",
       "\\end{tabular}\n"
      ],
      "text/plain": [
       "2×3 DataFrame\n",
       "│ Row │ x1    │ x2    │ x3    │\n",
       "│     │ \u001b[90mInt64\u001b[39m │ \u001b[90mInt64\u001b[39m │ \u001b[90mInt64\u001b[39m │\n",
       "├─────┼───────┼───────┼───────┤\n",
       "│ 1   │ 1     │ 2     │ 3     │\n",
       "│ 2   │ 3     │ 4     │ 5     │"
      ]
     },
     "execution_count": 53,
     "metadata": {},
     "output_type": "execute_result"
    }
   ],
   "source": [
    "filter!(x) do r\n",
    "    if r.x1 > 2.5\n",
    "        return r.x2 < 4.5\n",
    "    end\n",
    "    r.x3 < 3.5\n",
    "end"
   ]
  },
  {
   "cell_type": "markdown",
   "metadata": {},
   "source": [
    "### Deduplicating"
   ]
  },
  {
   "cell_type": "code",
   "execution_count": 54,
   "metadata": {},
   "outputs": [
    {
     "data": {
      "text/html": [
       "<table class=\"data-frame\"><thead><tr><th></th><th>A</th><th>B</th><th>C</th></tr><tr><th></th><th>Int64</th><th>String</th><th>Int64</th></tr></thead><tbody><p>4 rows × 3 columns</p><tr><th>1</th><td>1</td><td>x</td><td>1</td></tr><tr><th>2</th><td>2</td><td>y</td><td>2</td></tr><tr><th>3</th><td>1</td><td>x</td><td>3</td></tr><tr><th>4</th><td>2</td><td>y</td><td>4</td></tr></tbody></table>"
      ],
      "text/latex": [
       "\\begin{tabular}{r|ccc}\n",
       "\t& A & B & C\\\\\n",
       "\t\\hline\n",
       "\t& Int64 & String & Int64\\\\\n",
       "\t\\hline\n",
       "\t1 & 1 & x & 1 \\\\\n",
       "\t2 & 2 & y & 2 \\\\\n",
       "\t3 & 1 & x & 3 \\\\\n",
       "\t4 & 2 & y & 4 \\\\\n",
       "\\end{tabular}\n"
      ],
      "text/plain": [
       "4×3 DataFrame\n",
       "│ Row │ A     │ B      │ C     │\n",
       "│     │ \u001b[90mInt64\u001b[39m │ \u001b[90mString\u001b[39m │ \u001b[90mInt64\u001b[39m │\n",
       "├─────┼───────┼────────┼───────┤\n",
       "│ 1   │ 1     │ x      │ 1     │\n",
       "│ 2   │ 2     │ y      │ 2     │\n",
       "│ 3   │ 1     │ x      │ 3     │\n",
       "│ 4   │ 2     │ y      │ 4     │"
      ]
     },
     "execution_count": 54,
     "metadata": {},
     "output_type": "execute_result"
    }
   ],
   "source": [
    "x = DataFrame(A=[1,2], B=[\"x\",\"y\"])\n",
    "append!(x, x)\n",
    "x.C = 1:4\n",
    "x"
   ]
  },
  {
   "cell_type": "markdown",
   "metadata": {},
   "source": [
    "get first unique rows for given index"
   ]
  },
  {
   "cell_type": "code",
   "execution_count": 55,
   "metadata": {},
   "outputs": [
    {
     "data": {
      "text/html": [
       "<table class=\"data-frame\"><thead><tr><th></th><th>A</th><th>B</th><th>C</th></tr><tr><th></th><th>Int64</th><th>String</th><th>Int64</th></tr></thead><tbody><p>2 rows × 3 columns</p><tr><th>1</th><td>1</td><td>x</td><td>1</td></tr><tr><th>2</th><td>2</td><td>y</td><td>2</td></tr></tbody></table>"
      ],
      "text/latex": [
       "\\begin{tabular}{r|ccc}\n",
       "\t& A & B & C\\\\\n",
       "\t\\hline\n",
       "\t& Int64 & String & Int64\\\\\n",
       "\t\\hline\n",
       "\t1 & 1 & x & 1 \\\\\n",
       "\t2 & 2 & y & 2 \\\\\n",
       "\\end{tabular}\n"
      ],
      "text/plain": [
       "2×3 DataFrame\n",
       "│ Row │ A     │ B      │ C     │\n",
       "│     │ \u001b[90mInt64\u001b[39m │ \u001b[90mString\u001b[39m │ \u001b[90mInt64\u001b[39m │\n",
       "├─────┼───────┼────────┼───────┤\n",
       "│ 1   │ 1     │ x      │ 1     │\n",
       "│ 2   │ 2     │ y      │ 2     │"
      ]
     },
     "execution_count": 55,
     "metadata": {},
     "output_type": "execute_result"
    }
   ],
   "source": [
    "unique(x, [1,2])"
   ]
  },
  {
   "cell_type": "markdown",
   "metadata": {},
   "source": [
    "now we look at whole rows"
   ]
  },
  {
   "cell_type": "code",
   "execution_count": 56,
   "metadata": {},
   "outputs": [
    {
     "data": {
      "text/html": [
       "<table class=\"data-frame\"><thead><tr><th></th><th>A</th><th>B</th><th>C</th></tr><tr><th></th><th>Int64</th><th>String</th><th>Int64</th></tr></thead><tbody><p>4 rows × 3 columns</p><tr><th>1</th><td>1</td><td>x</td><td>1</td></tr><tr><th>2</th><td>2</td><td>y</td><td>2</td></tr><tr><th>3</th><td>1</td><td>x</td><td>3</td></tr><tr><th>4</th><td>2</td><td>y</td><td>4</td></tr></tbody></table>"
      ],
      "text/latex": [
       "\\begin{tabular}{r|ccc}\n",
       "\t& A & B & C\\\\\n",
       "\t\\hline\n",
       "\t& Int64 & String & Int64\\\\\n",
       "\t\\hline\n",
       "\t1 & 1 & x & 1 \\\\\n",
       "\t2 & 2 & y & 2 \\\\\n",
       "\t3 & 1 & x & 3 \\\\\n",
       "\t4 & 2 & y & 4 \\\\\n",
       "\\end{tabular}\n"
      ],
      "text/plain": [
       "4×3 DataFrame\n",
       "│ Row │ A     │ B      │ C     │\n",
       "│     │ \u001b[90mInt64\u001b[39m │ \u001b[90mString\u001b[39m │ \u001b[90mInt64\u001b[39m │\n",
       "├─────┼───────┼────────┼───────┤\n",
       "│ 1   │ 1     │ x      │ 1     │\n",
       "│ 2   │ 2     │ y      │ 2     │\n",
       "│ 3   │ 1     │ x      │ 3     │\n",
       "│ 4   │ 2     │ y      │ 4     │"
      ]
     },
     "execution_count": 56,
     "metadata": {},
     "output_type": "execute_result"
    }
   ],
   "source": [
    "unique(x)"
   ]
  },
  {
   "cell_type": "markdown",
   "metadata": {},
   "source": [
    "get indicators of non-unique rows"
   ]
  },
  {
   "cell_type": "code",
   "execution_count": 57,
   "metadata": {},
   "outputs": [
    {
     "data": {
      "text/plain": [
       "4-element Array{Bool,1}:\n",
       " false\n",
       " false\n",
       "  true\n",
       "  true"
      ]
     },
     "execution_count": 57,
     "metadata": {},
     "output_type": "execute_result"
    }
   ],
   "source": [
    "nonunique(x, :A)"
   ]
  },
  {
   "cell_type": "markdown",
   "metadata": {},
   "source": [
    "modify `x` in place"
   ]
  },
  {
   "cell_type": "code",
   "execution_count": 58,
   "metadata": {},
   "outputs": [
    {
     "data": {
      "text/html": [
       "<table class=\"data-frame\"><thead><tr><th></th><th>A</th><th>B</th><th>C</th></tr><tr><th></th><th>Int64</th><th>String</th><th>Int64</th></tr></thead><tbody><p>2 rows × 3 columns</p><tr><th>1</th><td>1</td><td>x</td><td>1</td></tr><tr><th>2</th><td>2</td><td>y</td><td>2</td></tr></tbody></table>"
      ],
      "text/latex": [
       "\\begin{tabular}{r|ccc}\n",
       "\t& A & B & C\\\\\n",
       "\t\\hline\n",
       "\t& Int64 & String & Int64\\\\\n",
       "\t\\hline\n",
       "\t1 & 1 & x & 1 \\\\\n",
       "\t2 & 2 & y & 2 \\\\\n",
       "\\end{tabular}\n"
      ],
      "text/plain": [
       "2×3 DataFrame\n",
       "│ Row │ A     │ B      │ C     │\n",
       "│     │ \u001b[90mInt64\u001b[39m │ \u001b[90mString\u001b[39m │ \u001b[90mInt64\u001b[39m │\n",
       "├─────┼───────┼────────┼───────┤\n",
       "│ 1   │ 1     │ x      │ 1     │\n",
       "│ 2   │ 2     │ y      │ 2     │"
      ]
     },
     "execution_count": 58,
     "metadata": {},
     "output_type": "execute_result"
    }
   ],
   "source": [
    "unique!(x, :B)"
   ]
  },
  {
   "cell_type": "markdown",
   "metadata": {},
   "source": [
    "### Extracting one row from a `DataFrame` into standard collections"
   ]
  },
  {
   "cell_type": "code",
   "execution_count": 59,
   "metadata": {},
   "outputs": [
    {
     "data": {
      "text/html": [
       "<table class=\"data-frame\"><thead><tr><th></th><th>x</th><th>y</th><th>z</th></tr><tr><th></th><th>Int64⍰</th><th>String⍰</th><th>Bool</th></tr></thead><tbody><p>3 rows × 3 columns</p><tr><th>1</th><td>1</td><td>a</td><td>true</td></tr><tr><th>2</th><td>missing</td><td>b</td><td>false</td></tr><tr><th>3</th><td>2</td><td>missing</td><td>true</td></tr></tbody></table>"
      ],
      "text/latex": [
       "\\begin{tabular}{r|ccc}\n",
       "\t& x & y & z\\\\\n",
       "\t\\hline\n",
       "\t& Int64⍰ & String⍰ & Bool\\\\\n",
       "\t\\hline\n",
       "\t1 & 1 & a & true \\\\\n",
       "\t2 &  & b & false \\\\\n",
       "\t3 & 2 &  & true \\\\\n",
       "\\end{tabular}\n"
      ],
      "text/plain": [
       "3×3 DataFrame\n",
       "│ Row │ x       │ y       │ z     │\n",
       "│     │ \u001b[90mInt64⍰\u001b[39m  │ \u001b[90mString⍰\u001b[39m │ \u001b[90mBool\u001b[39m  │\n",
       "├─────┼─────────┼─────────┼───────┤\n",
       "│ 1   │ 1       │ a       │ true  │\n",
       "│ 2   │ \u001b[90mmissing\u001b[39m │ b       │ false │\n",
       "│ 3   │ 2       │ \u001b[90mmissing\u001b[39m │ true  │"
      ]
     },
     "execution_count": 59,
     "metadata": {},
     "output_type": "execute_result"
    }
   ],
   "source": [
    "x = DataFrame(x=[1,missing,2], y=[\"a\", \"b\", missing], z=[true,false,true])"
   ]
  },
  {
   "cell_type": "code",
   "execution_count": 60,
   "metadata": {},
   "outputs": [
    {
     "data": {
      "text/plain": [
       "2-element Array{Symbol,1}:\n",
       " :y\n",
       " :z"
      ]
     },
     "execution_count": 60,
     "metadata": {},
     "output_type": "execute_result"
    }
   ],
   "source": [
    "cols = [:y, :z]"
   ]
  },
  {
   "cell_type": "markdown",
   "metadata": {},
   "source": [
    "you can use a conversion to a `Vector`"
   ]
  },
  {
   "cell_type": "code",
   "execution_count": 61,
   "metadata": {},
   "outputs": [
    {
     "data": {
      "text/plain": [
       "2-element Array{Any,1}:\n",
       "     \"a\"\n",
       " true   "
      ]
     },
     "execution_count": 61,
     "metadata": {},
     "output_type": "execute_result"
    }
   ],
   "source": [
    "Vector(x[1, cols])"
   ]
  },
  {
   "cell_type": "markdown",
   "metadata": {},
   "source": [
    "now you will get a vector of vectors"
   ]
  },
  {
   "cell_type": "code",
   "execution_count": 62,
   "metadata": {},
   "outputs": [
    {
     "data": {
      "text/plain": [
       "3-element Array{Array{Any,1},1}:\n",
       " [\"a\", true]    \n",
       " [\"b\", false]   \n",
       " [missing, true]"
      ]
     },
     "execution_count": 62,
     "metadata": {},
     "output_type": "execute_result"
    }
   ],
   "source": [
    "[Vector(x[i, cols]) for i in axes(x, 1)]"
   ]
  },
  {
   "cell_type": "markdown",
   "metadata": {},
   "source": [
    "it is easy to convert a `DataFrameRow` into a `NamedTuple`"
   ]
  },
  {
   "cell_type": "code",
   "execution_count": 63,
   "metadata": {},
   "outputs": [
    {
     "data": {
      "text/plain": [
       "(y = \"a\", z = true)"
      ]
     },
     "execution_count": 63,
     "metadata": {},
     "output_type": "execute_result"
    }
   ],
   "source": [
    "copy(x[1, cols])"
   ]
  },
  {
   "cell_type": "markdown",
   "metadata": {},
   "source": [
    "or a `Tuple`"
   ]
  },
  {
   "cell_type": "code",
   "execution_count": 64,
   "metadata": {},
   "outputs": [
    {
     "data": {
      "text/plain": [
       "(\"a\", true)"
      ]
     },
     "execution_count": 64,
     "metadata": {},
     "output_type": "execute_result"
    }
   ],
   "source": [
    "Tuple(x[1, cols])"
   ]
  }
 ],
 "metadata": {
  "@webio": {
   "lastCommId": null,
   "lastKernelId": null
  },
  "kernelspec": {
   "display_name": "Julia 1.1.0",
   "language": "julia",
   "name": "julia-1.1"
  },
  "language_info": {
   "file_extension": ".jl",
   "mimetype": "application/julia",
   "name": "julia",
   "version": "1.1.0"
  }
 },
 "nbformat": 4,
 "nbformat_minor": 1
}
