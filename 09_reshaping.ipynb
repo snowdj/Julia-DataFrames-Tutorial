{
 "cells": [
  {
   "cell_type": "markdown",
   "metadata": {},
   "source": [
    "# Introduction to DataFrames\n",
    "**[Bogumił Kamiński](http://bogumilkaminski.pl/about/), August 26, 2019**"
   ]
  },
  {
   "cell_type": "code",
   "execution_count": 1,
   "metadata": {},
   "outputs": [
    {
     "name": "stdout",
     "output_type": "stream",
     "text": [
      "\u001b[32m\u001b[1mActivating\u001b[22m\u001b[39m environment at `d:\\Dev\\Julia\\DataFrames_Tutorial\\Project.toml`\n"
     ]
    }
   ],
   "source": [
    "using Pkg\n",
    "Pkg.activate(\".\")"
   ]
  },
  {
   "cell_type": "code",
   "execution_count": 2,
   "metadata": {},
   "outputs": [],
   "source": [
    "using DataFrames # load package"
   ]
  },
  {
   "cell_type": "markdown",
   "metadata": {},
   "source": [
    "## Reshaping DataFrames"
   ]
  },
  {
   "cell_type": "markdown",
   "metadata": {},
   "source": [
    "### Wide to long"
   ]
  },
  {
   "cell_type": "code",
   "execution_count": 3,
   "metadata": {},
   "outputs": [
    {
     "data": {
      "text/html": [
       "<table class=\"data-frame\"><thead><tr><th></th><th>id</th><th>id2</th><th>M1</th><th>M2</th></tr><tr><th></th><th>Int64</th><th>Int64</th><th>Int64</th><th>Int64</th></tr></thead><tbody><p>4 rows × 4 columns</p><tr><th>1</th><td>1</td><td>1</td><td>11</td><td>111</td></tr><tr><th>2</th><td>2</td><td>1</td><td>12</td><td>112</td></tr><tr><th>3</th><td>3</td><td>2</td><td>13</td><td>113</td></tr><tr><th>4</th><td>4</td><td>2</td><td>14</td><td>114</td></tr></tbody></table>"
      ],
      "text/latex": [
       "\\begin{tabular}{r|cccc}\n",
       "\t& id & id2 & M1 & M2\\\\\n",
       "\t\\hline\n",
       "\t& Int64 & Int64 & Int64 & Int64\\\\\n",
       "\t\\hline\n",
       "\t1 & 1 & 1 & 11 & 111 \\\\\n",
       "\t2 & 2 & 1 & 12 & 112 \\\\\n",
       "\t3 & 3 & 2 & 13 & 113 \\\\\n",
       "\t4 & 4 & 2 & 14 & 114 \\\\\n",
       "\\end{tabular}\n"
      ],
      "text/plain": [
       "4×4 DataFrame\n",
       "│ Row │ id    │ id2   │ M1    │ M2    │\n",
       "│     │ \u001b[90mInt64\u001b[39m │ \u001b[90mInt64\u001b[39m │ \u001b[90mInt64\u001b[39m │ \u001b[90mInt64\u001b[39m │\n",
       "├─────┼───────┼───────┼───────┼───────┤\n",
       "│ 1   │ 1     │ 1     │ 11    │ 111   │\n",
       "│ 2   │ 2     │ 1     │ 12    │ 112   │\n",
       "│ 3   │ 3     │ 2     │ 13    │ 113   │\n",
       "│ 4   │ 4     │ 2     │ 14    │ 114   │"
      ]
     },
     "execution_count": 3,
     "metadata": {},
     "output_type": "execute_result"
    }
   ],
   "source": [
    "x = DataFrame(id=[1,2,3,4], id2=[1,1,2,2], M1=[11,12,13,14], M2=[111,112,113,114])"
   ]
  },
  {
   "cell_type": "code",
   "execution_count": 4,
   "metadata": {},
   "outputs": [
    {
     "data": {
      "text/html": [
       "<table class=\"data-frame\"><thead><tr><th></th><th>variable</th><th>value</th><th>id</th></tr><tr><th></th><th>Symbol</th><th>Int64</th><th>Int64</th></tr></thead><tbody><p>8 rows × 3 columns</p><tr><th>1</th><td>M1</td><td>11</td><td>1</td></tr><tr><th>2</th><td>M1</td><td>12</td><td>2</td></tr><tr><th>3</th><td>M1</td><td>13</td><td>3</td></tr><tr><th>4</th><td>M1</td><td>14</td><td>4</td></tr><tr><th>5</th><td>M2</td><td>111</td><td>1</td></tr><tr><th>6</th><td>M2</td><td>112</td><td>2</td></tr><tr><th>7</th><td>M2</td><td>113</td><td>3</td></tr><tr><th>8</th><td>M2</td><td>114</td><td>4</td></tr></tbody></table>"
      ],
      "text/latex": [
       "\\begin{tabular}{r|ccc}\n",
       "\t& variable & value & id\\\\\n",
       "\t\\hline\n",
       "\t& Symbol & Int64 & Int64\\\\\n",
       "\t\\hline\n",
       "\t1 & M1 & 11 & 1 \\\\\n",
       "\t2 & M1 & 12 & 2 \\\\\n",
       "\t3 & M1 & 13 & 3 \\\\\n",
       "\t4 & M1 & 14 & 4 \\\\\n",
       "\t5 & M2 & 111 & 1 \\\\\n",
       "\t6 & M2 & 112 & 2 \\\\\n",
       "\t7 & M2 & 113 & 3 \\\\\n",
       "\t8 & M2 & 114 & 4 \\\\\n",
       "\\end{tabular}\n"
      ],
      "text/plain": [
       "8×3 DataFrame\n",
       "│ Row │ variable │ value │ id    │\n",
       "│     │ \u001b[90mSymbol\u001b[39m   │ \u001b[90mInt64\u001b[39m │ \u001b[90mInt64\u001b[39m │\n",
       "├─────┼──────────┼───────┼───────┤\n",
       "│ 1   │ M1       │ 11    │ 1     │\n",
       "│ 2   │ M1       │ 12    │ 2     │\n",
       "│ 3   │ M1       │ 13    │ 3     │\n",
       "│ 4   │ M1       │ 14    │ 4     │\n",
       "│ 5   │ M2       │ 111   │ 1     │\n",
       "│ 6   │ M2       │ 112   │ 2     │\n",
       "│ 7   │ M2       │ 113   │ 3     │\n",
       "│ 8   │ M2       │ 114   │ 4     │"
      ]
     },
     "execution_count": 4,
     "metadata": {},
     "output_type": "execute_result"
    }
   ],
   "source": [
    "melt(x, :id, [:M1, :M2]) # first pass id-variables and then measure variables; meltdf makes a view"
   ]
  },
  {
   "cell_type": "code",
   "execution_count": 5,
   "metadata": {},
   "outputs": [
    {
     "data": {
      "text/html": [
       "<table class=\"data-frame\"><thead><tr><th></th><th>key</th><th>observed</th><th>id</th></tr><tr><th></th><th>Symbol</th><th>Int64</th><th>Int64</th></tr></thead><tbody><p>8 rows × 3 columns</p><tr><th>1</th><td>M1</td><td>11</td><td>1</td></tr><tr><th>2</th><td>M1</td><td>12</td><td>2</td></tr><tr><th>3</th><td>M1</td><td>13</td><td>3</td></tr><tr><th>4</th><td>M1</td><td>14</td><td>4</td></tr><tr><th>5</th><td>M2</td><td>111</td><td>1</td></tr><tr><th>6</th><td>M2</td><td>112</td><td>2</td></tr><tr><th>7</th><td>M2</td><td>113</td><td>3</td></tr><tr><th>8</th><td>M2</td><td>114</td><td>4</td></tr></tbody></table>"
      ],
      "text/latex": [
       "\\begin{tabular}{r|ccc}\n",
       "\t& key & observed & id\\\\\n",
       "\t\\hline\n",
       "\t& Symbol & Int64 & Int64\\\\\n",
       "\t\\hline\n",
       "\t1 & M1 & 11 & 1 \\\\\n",
       "\t2 & M1 & 12 & 2 \\\\\n",
       "\t3 & M1 & 13 & 3 \\\\\n",
       "\t4 & M1 & 14 & 4 \\\\\n",
       "\t5 & M2 & 111 & 1 \\\\\n",
       "\t6 & M2 & 112 & 2 \\\\\n",
       "\t7 & M2 & 113 & 3 \\\\\n",
       "\t8 & M2 & 114 & 4 \\\\\n",
       "\\end{tabular}\n"
      ],
      "text/plain": [
       "8×3 DataFrame\n",
       "│ Row │ key    │ observed │ id    │\n",
       "│     │ \u001b[90mSymbol\u001b[39m │ \u001b[90mInt64\u001b[39m    │ \u001b[90mInt64\u001b[39m │\n",
       "├─────┼────────┼──────────┼───────┤\n",
       "│ 1   │ M1     │ 11       │ 1     │\n",
       "│ 2   │ M1     │ 12       │ 2     │\n",
       "│ 3   │ M1     │ 13       │ 3     │\n",
       "│ 4   │ M1     │ 14       │ 4     │\n",
       "│ 5   │ M2     │ 111      │ 1     │\n",
       "│ 6   │ M2     │ 112      │ 2     │\n",
       "│ 7   │ M2     │ 113      │ 3     │\n",
       "│ 8   │ M2     │ 114      │ 4     │"
      ]
     },
     "execution_count": 5,
     "metadata": {},
     "output_type": "execute_result"
    }
   ],
   "source": [
    "# optionally you can rename columns; melt and stack are identical but order of arguments is reversed\n",
    "stack(x, [:M1, :M2], :id, variable_name=:key, value_name=:observed) # first measures and then id-s; stackdf creates view"
   ]
  },
  {
   "cell_type": "code",
   "execution_count": 6,
   "metadata": {},
   "outputs": [
    {
     "data": {
      "text/html": [
       "<table class=\"data-frame\"><thead><tr><th></th><th>variable</th><th>value</th><th>id</th><th>id2</th></tr><tr><th></th><th>Symbol</th><th>Int64</th><th>Int64</th><th>Int64</th></tr></thead><tbody><p>8 rows × 4 columns</p><tr><th>1</th><td>M1</td><td>11</td><td>1</td><td>1</td></tr><tr><th>2</th><td>M1</td><td>12</td><td>2</td><td>1</td></tr><tr><th>3</th><td>M1</td><td>13</td><td>3</td><td>2</td></tr><tr><th>4</th><td>M1</td><td>14</td><td>4</td><td>2</td></tr><tr><th>5</th><td>M2</td><td>111</td><td>1</td><td>1</td></tr><tr><th>6</th><td>M2</td><td>112</td><td>2</td><td>1</td></tr><tr><th>7</th><td>M2</td><td>113</td><td>3</td><td>2</td></tr><tr><th>8</th><td>M2</td><td>114</td><td>4</td><td>2</td></tr></tbody></table>"
      ],
      "text/latex": [
       "\\begin{tabular}{r|cccc}\n",
       "\t& variable & value & id & id2\\\\\n",
       "\t\\hline\n",
       "\t& Symbol & Int64 & Int64 & Int64\\\\\n",
       "\t\\hline\n",
       "\t1 & M1 & 11 & 1 & 1 \\\\\n",
       "\t2 & M1 & 12 & 2 & 1 \\\\\n",
       "\t3 & M1 & 13 & 3 & 2 \\\\\n",
       "\t4 & M1 & 14 & 4 & 2 \\\\\n",
       "\t5 & M2 & 111 & 1 & 1 \\\\\n",
       "\t6 & M2 & 112 & 2 & 1 \\\\\n",
       "\t7 & M2 & 113 & 3 & 2 \\\\\n",
       "\t8 & M2 & 114 & 4 & 2 \\\\\n",
       "\\end{tabular}\n"
      ],
      "text/plain": [
       "8×4 DataFrame\n",
       "│ Row │ variable │ value │ id    │ id2   │\n",
       "│     │ \u001b[90mSymbol\u001b[39m   │ \u001b[90mInt64\u001b[39m │ \u001b[90mInt64\u001b[39m │ \u001b[90mInt64\u001b[39m │\n",
       "├─────┼──────────┼───────┼───────┼───────┤\n",
       "│ 1   │ M1       │ 11    │ 1     │ 1     │\n",
       "│ 2   │ M1       │ 12    │ 2     │ 1     │\n",
       "│ 3   │ M1       │ 13    │ 3     │ 2     │\n",
       "│ 4   │ M1       │ 14    │ 4     │ 2     │\n",
       "│ 5   │ M2       │ 111   │ 1     │ 1     │\n",
       "│ 6   │ M2       │ 112   │ 2     │ 1     │\n",
       "│ 7   │ M2       │ 113   │ 3     │ 2     │\n",
       "│ 8   │ M2       │ 114   │ 4     │ 2     │"
      ]
     },
     "execution_count": 6,
     "metadata": {},
     "output_type": "execute_result"
    }
   ],
   "source": [
    "# if second argument is omitted in melt or stack , all other columns are assumed to be the second argument\n",
    "# but measure variables are selected only if they are <: AbstractFloat\n",
    "melt(x, [:id, :id2])"
   ]
  },
  {
   "cell_type": "code",
   "execution_count": 7,
   "metadata": {},
   "outputs": [
    {
     "data": {
      "text/html": [
       "<table class=\"data-frame\"><thead><tr><th></th><th>variable</th><th>value</th><th>id</th><th>id2</th></tr><tr><th></th><th>Symbol</th><th>Int64</th><th>Int64</th><th>Int64</th></tr></thead><tbody><p>8 rows × 4 columns</p><tr><th>1</th><td>M1</td><td>11</td><td>1</td><td>1</td></tr><tr><th>2</th><td>M1</td><td>12</td><td>2</td><td>1</td></tr><tr><th>3</th><td>M1</td><td>13</td><td>3</td><td>2</td></tr><tr><th>4</th><td>M1</td><td>14</td><td>4</td><td>2</td></tr><tr><th>5</th><td>M2</td><td>111</td><td>1</td><td>1</td></tr><tr><th>6</th><td>M2</td><td>112</td><td>2</td><td>1</td></tr><tr><th>7</th><td>M2</td><td>113</td><td>3</td><td>2</td></tr><tr><th>8</th><td>M2</td><td>114</td><td>4</td><td>2</td></tr></tbody></table>"
      ],
      "text/latex": [
       "\\begin{tabular}{r|cccc}\n",
       "\t& variable & value & id & id2\\\\\n",
       "\t\\hline\n",
       "\t& Symbol & Int64 & Int64 & Int64\\\\\n",
       "\t\\hline\n",
       "\t1 & M1 & 11 & 1 & 1 \\\\\n",
       "\t2 & M1 & 12 & 2 & 1 \\\\\n",
       "\t3 & M1 & 13 & 3 & 2 \\\\\n",
       "\t4 & M1 & 14 & 4 & 2 \\\\\n",
       "\t5 & M2 & 111 & 1 & 1 \\\\\n",
       "\t6 & M2 & 112 & 2 & 1 \\\\\n",
       "\t7 & M2 & 113 & 3 & 2 \\\\\n",
       "\t8 & M2 & 114 & 4 & 2 \\\\\n",
       "\\end{tabular}\n"
      ],
      "text/plain": [
       "8×4 DataFrame\n",
       "│ Row │ variable │ value │ id    │ id2   │\n",
       "│     │ \u001b[90mSymbol\u001b[39m   │ \u001b[90mInt64\u001b[39m │ \u001b[90mInt64\u001b[39m │ \u001b[90mInt64\u001b[39m │\n",
       "├─────┼──────────┼───────┼───────┼───────┤\n",
       "│ 1   │ M1       │ 11    │ 1     │ 1     │\n",
       "│ 2   │ M1       │ 12    │ 2     │ 1     │\n",
       "│ 3   │ M1       │ 13    │ 3     │ 2     │\n",
       "│ 4   │ M1       │ 14    │ 4     │ 2     │\n",
       "│ 5   │ M2       │ 111   │ 1     │ 1     │\n",
       "│ 6   │ M2       │ 112   │ 2     │ 1     │\n",
       "│ 7   │ M2       │ 113   │ 3     │ 2     │\n",
       "│ 8   │ M2       │ 114   │ 4     │ 2     │"
      ]
     },
     "execution_count": 7,
     "metadata": {},
     "output_type": "execute_result"
    }
   ],
   "source": [
    "melt(x, [1, 2]) # you can use index instead of symbol"
   ]
  },
  {
   "cell_type": "code",
   "execution_count": 8,
   "metadata": {},
   "outputs": [
    {
     "data": {
      "text/html": [
       "<table class=\"data-frame\"><thead><tr><th></th><th>id</th><th>id2</th><th>a1</th><th>a2</th></tr><tr><th></th><th>Int64</th><th>Char</th><th>Float64</th><th>Float64</th></tr></thead><tbody><p>3 rows × 4 columns</p><tr><th>1</th><td>1</td><td>'a'</td><td>0.0181146</td><td>0.376278</td></tr><tr><th>2</th><td>1</td><td>'b'</td><td>0.451502</td><td>0.842526</td></tr><tr><th>3</th><td>1</td><td>'c'</td><td>0.411881</td><td>0.254315</td></tr></tbody></table>"
      ],
      "text/latex": [
       "\\begin{tabular}{r|cccc}\n",
       "\t& id & id2 & a1 & a2\\\\\n",
       "\t\\hline\n",
       "\t& Int64 & Char & Float64 & Float64\\\\\n",
       "\t\\hline\n",
       "\t1 & 1 & 'a' & 0.0181146 & 0.376278 \\\\\n",
       "\t2 & 1 & 'b' & 0.451502 & 0.842526 \\\\\n",
       "\t3 & 1 & 'c' & 0.411881 & 0.254315 \\\\\n",
       "\\end{tabular}\n"
      ],
      "text/plain": [
       "3×4 DataFrame\n",
       "│ Row │ id    │ id2  │ a1        │ a2       │\n",
       "│     │ \u001b[90mInt64\u001b[39m │ \u001b[90mChar\u001b[39m │ \u001b[90mFloat64\u001b[39m   │ \u001b[90mFloat64\u001b[39m  │\n",
       "├─────┼───────┼──────┼───────────┼──────────┤\n",
       "│ 1   │ 1     │ 'a'  │ 0.0181146 │ 0.376278 │\n",
       "│ 2   │ 1     │ 'b'  │ 0.451502  │ 0.842526 │\n",
       "│ 3   │ 1     │ 'c'  │ 0.411881  │ 0.254315 │"
      ]
     },
     "execution_count": 8,
     "metadata": {},
     "output_type": "execute_result"
    }
   ],
   "source": [
    "x = DataFrame(id = [1,1,1], id2=['a','b','c'], a1 = rand(3), a2 = rand(3))"
   ]
  },
  {
   "cell_type": "code",
   "execution_count": 9,
   "metadata": {},
   "outputs": [
    {
     "data": {
      "text/html": [
       "<table class=\"data-frame\"><thead><tr><th></th><th>variable</th><th>value</th><th>id</th><th>id2</th></tr><tr><th></th><th>Symbol</th><th>Float64</th><th>Int64</th><th>Char</th></tr></thead><tbody><p>6 rows × 4 columns</p><tr><th>1</th><td>a1</td><td>0.0181146</td><td>1</td><td>'a'</td></tr><tr><th>2</th><td>a1</td><td>0.451502</td><td>1</td><td>'b'</td></tr><tr><th>3</th><td>a1</td><td>0.411881</td><td>1</td><td>'c'</td></tr><tr><th>4</th><td>a2</td><td>0.376278</td><td>1</td><td>'a'</td></tr><tr><th>5</th><td>a2</td><td>0.842526</td><td>1</td><td>'b'</td></tr><tr><th>6</th><td>a2</td><td>0.254315</td><td>1</td><td>'c'</td></tr></tbody></table>"
      ],
      "text/latex": [
       "\\begin{tabular}{r|cccc}\n",
       "\t& variable & value & id & id2\\\\\n",
       "\t\\hline\n",
       "\t& Symbol & Float64 & Int64 & Char\\\\\n",
       "\t\\hline\n",
       "\t1 & a1 & 0.0181146 & 1 & 'a' \\\\\n",
       "\t2 & a1 & 0.451502 & 1 & 'b' \\\\\n",
       "\t3 & a1 & 0.411881 & 1 & 'c' \\\\\n",
       "\t4 & a2 & 0.376278 & 1 & 'a' \\\\\n",
       "\t5 & a2 & 0.842526 & 1 & 'b' \\\\\n",
       "\t6 & a2 & 0.254315 & 1 & 'c' \\\\\n",
       "\\end{tabular}\n"
      ],
      "text/plain": [
       "6×4 DataFrame\n",
       "│ Row │ variable │ value     │ id    │ id2  │\n",
       "│     │ \u001b[90mSymbol\u001b[39m   │ \u001b[90mFloat64\u001b[39m   │ \u001b[90mInt64\u001b[39m │ \u001b[90mChar\u001b[39m │\n",
       "├─────┼──────────┼───────────┼───────┼──────┤\n",
       "│ 1   │ a1       │ 0.0181146 │ 1     │ 'a'  │\n",
       "│ 2   │ a1       │ 0.451502  │ 1     │ 'b'  │\n",
       "│ 3   │ a1       │ 0.411881  │ 1     │ 'c'  │\n",
       "│ 4   │ a2       │ 0.376278  │ 1     │ 'a'  │\n",
       "│ 5   │ a2       │ 0.842526  │ 1     │ 'b'  │\n",
       "│ 6   │ a2       │ 0.254315  │ 1     │ 'c'  │"
      ]
     },
     "execution_count": 9,
     "metadata": {},
     "output_type": "execute_result"
    }
   ],
   "source": [
    "melt(x)"
   ]
  },
  {
   "cell_type": "code",
   "execution_count": 10,
   "metadata": {},
   "outputs": [
    {
     "data": {
      "text/html": [
       "<table class=\"data-frame\"><thead><tr><th></th><th>variable</th><th>value</th></tr><tr><th></th><th>Symbol</th><th>Float64</th></tr></thead><tbody><p>6 rows × 2 columns</p><tr><th>1</th><td>x1</td><td>0.671799</td></tr><tr><th>2</th><td>x1</td><td>0.622066</td></tr><tr><th>3</th><td>x1</td><td>0.683776</td></tr><tr><th>4</th><td>x2</td><td>0.0809069</td></tr><tr><th>5</th><td>x2</td><td>0.0952156</td></tr><tr><th>6</th><td>x2</td><td>0.215403</td></tr></tbody></table>"
      ],
      "text/latex": [
       "\\begin{tabular}{r|cc}\n",
       "\t& variable & value\\\\\n",
       "\t\\hline\n",
       "\t& Symbol & Float64\\\\\n",
       "\t\\hline\n",
       "\t1 & x1 & 0.671799 \\\\\n",
       "\t2 & x1 & 0.622066 \\\\\n",
       "\t3 & x1 & 0.683776 \\\\\n",
       "\t4 & x2 & 0.0809069 \\\\\n",
       "\t5 & x2 & 0.0952156 \\\\\n",
       "\t6 & x2 & 0.215403 \\\\\n",
       "\\end{tabular}\n"
      ],
      "text/plain": [
       "6×2 DataFrame\n",
       "│ Row │ variable │ value     │\n",
       "│     │ \u001b[90mSymbol\u001b[39m   │ \u001b[90mFloat64\u001b[39m   │\n",
       "├─────┼──────────┼───────────┤\n",
       "│ 1   │ x1       │ 0.671799  │\n",
       "│ 2   │ x1       │ 0.622066  │\n",
       "│ 3   │ x1       │ 0.683776  │\n",
       "│ 4   │ x2       │ 0.0809069 │\n",
       "│ 5   │ x2       │ 0.0952156 │\n",
       "│ 6   │ x2       │ 0.215403  │"
      ]
     },
     "execution_count": 10,
     "metadata": {},
     "output_type": "execute_result"
    }
   ],
   "source": [
    "melt(DataFrame(rand(3,2))) # by default stack and melt treats floats as value columns"
   ]
  },
  {
   "cell_type": "code",
   "execution_count": 11,
   "metadata": {},
   "outputs": [
    {
     "data": {
      "text/html": [
       "<table class=\"data-frame\"><thead><tr><th></th><th>variable</th><th>value</th><th>key</th></tr><tr><th></th><th>Symbol</th><th>Float64</th><th>Int64</th></tr></thead><tbody><p>6 rows × 3 columns</p><tr><th>1</th><td>x1</td><td>0.700443</td><td>1</td></tr><tr><th>2</th><td>x1</td><td>0.44088</td><td>1</td></tr><tr><th>3</th><td>x1</td><td>0.185557</td><td>1</td></tr><tr><th>4</th><td>x2</td><td>0.955603</td><td>1</td></tr><tr><th>5</th><td>x2</td><td>0.603226</td><td>1</td></tr><tr><th>6</th><td>x2</td><td>0.94004</td><td>1</td></tr></tbody></table>"
      ],
      "text/latex": [
       "\\begin{tabular}{r|ccc}\n",
       "\t& variable & value & key\\\\\n",
       "\t\\hline\n",
       "\t& Symbol & Float64 & Int64\\\\\n",
       "\t\\hline\n",
       "\t1 & x1 & 0.700443 & 1 \\\\\n",
       "\t2 & x1 & 0.44088 & 1 \\\\\n",
       "\t3 & x1 & 0.185557 & 1 \\\\\n",
       "\t4 & x2 & 0.955603 & 1 \\\\\n",
       "\t5 & x2 & 0.603226 & 1 \\\\\n",
       "\t6 & x2 & 0.94004 & 1 \\\\\n",
       "\\end{tabular}\n"
      ],
      "text/plain": [
       "6×3 DataFrame\n",
       "│ Row │ variable │ value    │ key   │\n",
       "│     │ \u001b[90mSymbol\u001b[39m   │ \u001b[90mFloat64\u001b[39m  │ \u001b[90mInt64\u001b[39m │\n",
       "├─────┼──────────┼──────────┼───────┤\n",
       "│ 1   │ x1       │ 0.700443 │ 1     │\n",
       "│ 2   │ x1       │ 0.44088  │ 1     │\n",
       "│ 3   │ x1       │ 0.185557 │ 1     │\n",
       "│ 4   │ x2       │ 0.955603 │ 1     │\n",
       "│ 5   │ x2       │ 0.603226 │ 1     │\n",
       "│ 6   │ x2       │ 0.94004  │ 1     │"
      ]
     },
     "execution_count": 11,
     "metadata": {},
     "output_type": "execute_result"
    }
   ],
   "source": [
    "df = DataFrame(rand(3,2))\n",
    "df.key = [1,1,1]\n",
    "mdf = melt(df) # duplicates in key are silently accepted"
   ]
  },
  {
   "cell_type": "markdown",
   "metadata": {},
   "source": [
    "### Long to wide"
   ]
  },
  {
   "cell_type": "code",
   "execution_count": 12,
   "metadata": {},
   "outputs": [
    {
     "data": {
      "text/html": [
       "<table class=\"data-frame\"><thead><tr><th></th><th>id</th><th>id2</th><th>a1</th><th>a2</th></tr><tr><th></th><th>Int64</th><th>Char</th><th>Float64</th><th>Float64</th></tr></thead><tbody><p>3 rows × 4 columns</p><tr><th>1</th><td>1</td><td>'a'</td><td>0.0429796</td><td>0.479508</td></tr><tr><th>2</th><td>1</td><td>'b'</td><td>0.314273</td><td>0.826146</td></tr><tr><th>3</th><td>1</td><td>'c'</td><td>0.961707</td><td>0.730073</td></tr></tbody></table>"
      ],
      "text/latex": [
       "\\begin{tabular}{r|cccc}\n",
       "\t& id & id2 & a1 & a2\\\\\n",
       "\t\\hline\n",
       "\t& Int64 & Char & Float64 & Float64\\\\\n",
       "\t\\hline\n",
       "\t1 & 1 & 'a' & 0.0429796 & 0.479508 \\\\\n",
       "\t2 & 1 & 'b' & 0.314273 & 0.826146 \\\\\n",
       "\t3 & 1 & 'c' & 0.961707 & 0.730073 \\\\\n",
       "\\end{tabular}\n"
      ],
      "text/plain": [
       "3×4 DataFrame\n",
       "│ Row │ id    │ id2  │ a1        │ a2       │\n",
       "│     │ \u001b[90mInt64\u001b[39m │ \u001b[90mChar\u001b[39m │ \u001b[90mFloat64\u001b[39m   │ \u001b[90mFloat64\u001b[39m  │\n",
       "├─────┼───────┼──────┼───────────┼──────────┤\n",
       "│ 1   │ 1     │ 'a'  │ 0.0429796 │ 0.479508 │\n",
       "│ 2   │ 1     │ 'b'  │ 0.314273  │ 0.826146 │\n",
       "│ 3   │ 1     │ 'c'  │ 0.961707  │ 0.730073 │"
      ]
     },
     "execution_count": 12,
     "metadata": {},
     "output_type": "execute_result"
    }
   ],
   "source": [
    "x = DataFrame(id = [1,1,1], id2=['a','b','c'], a1 = rand(3), a2 = rand(3))"
   ]
  },
  {
   "cell_type": "code",
   "execution_count": 13,
   "metadata": {},
   "outputs": [
    {
     "data": {
      "text/html": [
       "<table class=\"data-frame\"><thead><tr><th></th><th>id</th><th>id2</th><th>a1</th><th>a2</th></tr><tr><th></th><th>Int64</th><th>Char</th><th>Float64</th><th>Float64</th></tr></thead><tbody><p>3 rows × 4 columns</p><tr><th>1</th><td>1</td><td>'a'</td><td>0.0429796</td><td>0.479508</td></tr><tr><th>2</th><td>1</td><td>'b'</td><td>0.314273</td><td>0.826146</td></tr><tr><th>3</th><td>1</td><td>'c'</td><td>0.961707</td><td>0.730073</td></tr></tbody></table>"
      ],
      "text/latex": [
       "\\begin{tabular}{r|cccc}\n",
       "\t& id & id2 & a1 & a2\\\\\n",
       "\t\\hline\n",
       "\t& Int64 & Char & Float64 & Float64\\\\\n",
       "\t\\hline\n",
       "\t1 & 1 & 'a' & 0.0429796 & 0.479508 \\\\\n",
       "\t2 & 1 & 'b' & 0.314273 & 0.826146 \\\\\n",
       "\t3 & 1 & 'c' & 0.961707 & 0.730073 \\\\\n",
       "\\end{tabular}\n"
      ],
      "text/plain": [
       "3×4 DataFrame\n",
       "│ Row │ id    │ id2  │ a1        │ a2       │\n",
       "│     │ \u001b[90mInt64\u001b[39m │ \u001b[90mChar\u001b[39m │ \u001b[90mFloat64\u001b[39m   │ \u001b[90mFloat64\u001b[39m  │\n",
       "├─────┼───────┼──────┼───────────┼──────────┤\n",
       "│ 1   │ 1     │ 'a'  │ 0.0429796 │ 0.479508 │\n",
       "│ 2   │ 1     │ 'b'  │ 0.314273  │ 0.826146 │\n",
       "│ 3   │ 1     │ 'c'  │ 0.961707  │ 0.730073 │"
      ]
     },
     "metadata": {},
     "output_type": "display_data"
    },
    {
     "data": {
      "text/html": [
       "<table class=\"data-frame\"><thead><tr><th></th><th>variable</th><th>value</th><th>id</th><th>id2</th></tr><tr><th></th><th>Symbol</th><th>Float64</th><th>Int64</th><th>Char</th></tr></thead><tbody><p>6 rows × 4 columns</p><tr><th>1</th><td>a1</td><td>0.0429796</td><td>1</td><td>'a'</td></tr><tr><th>2</th><td>a1</td><td>0.314273</td><td>1</td><td>'b'</td></tr><tr><th>3</th><td>a1</td><td>0.961707</td><td>1</td><td>'c'</td></tr><tr><th>4</th><td>a2</td><td>0.479508</td><td>1</td><td>'a'</td></tr><tr><th>5</th><td>a2</td><td>0.826146</td><td>1</td><td>'b'</td></tr><tr><th>6</th><td>a2</td><td>0.730073</td><td>1</td><td>'c'</td></tr></tbody></table>"
      ],
      "text/latex": [
       "\\begin{tabular}{r|cccc}\n",
       "\t& variable & value & id & id2\\\\\n",
       "\t\\hline\n",
       "\t& Symbol & Float64 & Int64 & Char\\\\\n",
       "\t\\hline\n",
       "\t1 & a1 & 0.0429796 & 1 & 'a' \\\\\n",
       "\t2 & a1 & 0.314273 & 1 & 'b' \\\\\n",
       "\t3 & a1 & 0.961707 & 1 & 'c' \\\\\n",
       "\t4 & a2 & 0.479508 & 1 & 'a' \\\\\n",
       "\t5 & a2 & 0.826146 & 1 & 'b' \\\\\n",
       "\t6 & a2 & 0.730073 & 1 & 'c' \\\\\n",
       "\\end{tabular}\n"
      ],
      "text/plain": [
       "6×4 DataFrame\n",
       "│ Row │ variable │ value     │ id    │ id2  │\n",
       "│     │ \u001b[90mSymbol\u001b[39m   │ \u001b[90mFloat64\u001b[39m   │ \u001b[90mInt64\u001b[39m │ \u001b[90mChar\u001b[39m │\n",
       "├─────┼──────────┼───────────┼───────┼──────┤\n",
       "│ 1   │ a1       │ 0.0429796 │ 1     │ 'a'  │\n",
       "│ 2   │ a1       │ 0.314273  │ 1     │ 'b'  │\n",
       "│ 3   │ a1       │ 0.961707  │ 1     │ 'c'  │\n",
       "│ 4   │ a2       │ 0.479508  │ 1     │ 'a'  │\n",
       "│ 5   │ a2       │ 0.826146  │ 1     │ 'b'  │\n",
       "│ 6   │ a2       │ 0.730073  │ 1     │ 'c'  │"
      ]
     },
     "metadata": {},
     "output_type": "display_data"
    }
   ],
   "source": [
    "y = melt(x, [1,2])\n",
    "display(x)\n",
    "display(y)"
   ]
  },
  {
   "cell_type": "code",
   "execution_count": 14,
   "metadata": {},
   "outputs": [
    {
     "data": {
      "text/html": [
       "<table class=\"data-frame\"><thead><tr><th></th><th>id2</th><th>a1</th><th>a2</th></tr><tr><th></th><th>Char</th><th>Float64⍰</th><th>Float64⍰</th></tr></thead><tbody><p>3 rows × 3 columns</p><tr><th>1</th><td>'a'</td><td>0.0429796</td><td>0.479508</td></tr><tr><th>2</th><td>'b'</td><td>0.314273</td><td>0.826146</td></tr><tr><th>3</th><td>'c'</td><td>0.961707</td><td>0.730073</td></tr></tbody></table>"
      ],
      "text/latex": [
       "\\begin{tabular}{r|ccc}\n",
       "\t& id2 & a1 & a2\\\\\n",
       "\t\\hline\n",
       "\t& Char & Float64⍰ & Float64⍰\\\\\n",
       "\t\\hline\n",
       "\t1 & 'a' & 0.0429796 & 0.479508 \\\\\n",
       "\t2 & 'b' & 0.314273 & 0.826146 \\\\\n",
       "\t3 & 'c' & 0.961707 & 0.730073 \\\\\n",
       "\\end{tabular}\n"
      ],
      "text/plain": [
       "3×3 DataFrame\n",
       "│ Row │ id2  │ a1        │ a2       │\n",
       "│     │ \u001b[90mChar\u001b[39m │ \u001b[90mFloat64⍰\u001b[39m  │ \u001b[90mFloat64⍰\u001b[39m │\n",
       "├─────┼──────┼───────────┼──────────┤\n",
       "│ 1   │ 'a'  │ 0.0429796 │ 0.479508 │\n",
       "│ 2   │ 'b'  │ 0.314273  │ 0.826146 │\n",
       "│ 3   │ 'c'  │ 0.961707  │ 0.730073 │"
      ]
     },
     "execution_count": 14,
     "metadata": {},
     "output_type": "execute_result"
    }
   ],
   "source": [
    "unstack(y, :id2, :variable, :value) # stndard unstack with a unique key"
   ]
  },
  {
   "cell_type": "code",
   "execution_count": 15,
   "metadata": {},
   "outputs": [
    {
     "data": {
      "text/html": [
       "<table class=\"data-frame\"><thead><tr><th></th><th>id</th><th>id2</th><th>a1</th><th>a2</th></tr><tr><th></th><th>Int64</th><th>Char</th><th>Float64⍰</th><th>Float64⍰</th></tr></thead><tbody><p>3 rows × 4 columns</p><tr><th>1</th><td>1</td><td>'a'</td><td>0.0429796</td><td>0.479508</td></tr><tr><th>2</th><td>1</td><td>'b'</td><td>0.314273</td><td>0.826146</td></tr><tr><th>3</th><td>1</td><td>'c'</td><td>0.961707</td><td>0.730073</td></tr></tbody></table>"
      ],
      "text/latex": [
       "\\begin{tabular}{r|cccc}\n",
       "\t& id & id2 & a1 & a2\\\\\n",
       "\t\\hline\n",
       "\t& Int64 & Char & Float64⍰ & Float64⍰\\\\\n",
       "\t\\hline\n",
       "\t1 & 1 & 'a' & 0.0429796 & 0.479508 \\\\\n",
       "\t2 & 1 & 'b' & 0.314273 & 0.826146 \\\\\n",
       "\t3 & 1 & 'c' & 0.961707 & 0.730073 \\\\\n",
       "\\end{tabular}\n"
      ],
      "text/plain": [
       "3×4 DataFrame\n",
       "│ Row │ id    │ id2  │ a1        │ a2       │\n",
       "│     │ \u001b[90mInt64\u001b[39m │ \u001b[90mChar\u001b[39m │ \u001b[90mFloat64⍰\u001b[39m  │ \u001b[90mFloat64⍰\u001b[39m │\n",
       "├─────┼───────┼──────┼───────────┼──────────┤\n",
       "│ 1   │ 1     │ 'a'  │ 0.0429796 │ 0.479508 │\n",
       "│ 2   │ 1     │ 'b'  │ 0.314273  │ 0.826146 │\n",
       "│ 3   │ 1     │ 'c'  │ 0.961707  │ 0.730073 │"
      ]
     },
     "execution_count": 15,
     "metadata": {},
     "output_type": "execute_result"
    }
   ],
   "source": [
    "unstack(y, :variable, :value) # all other columns are treated as keys"
   ]
  },
  {
   "cell_type": "code",
   "execution_count": 16,
   "metadata": {},
   "outputs": [
    {
     "data": {
      "text/html": [
       "<table class=\"data-frame\"><thead><tr><th></th><th>id</th><th>id2</th><th>a1</th><th>a2</th></tr><tr><th></th><th>Int64</th><th>Char</th><th>Float64⍰</th><th>Float64⍰</th></tr></thead><tbody><p>3 rows × 4 columns</p><tr><th>1</th><td>1</td><td>'a'</td><td>0.0429796</td><td>0.479508</td></tr><tr><th>2</th><td>1</td><td>'b'</td><td>0.314273</td><td>0.826146</td></tr><tr><th>3</th><td>1</td><td>'c'</td><td>0.961707</td><td>0.730073</td></tr></tbody></table>"
      ],
      "text/latex": [
       "\\begin{tabular}{r|cccc}\n",
       "\t& id & id2 & a1 & a2\\\\\n",
       "\t\\hline\n",
       "\t& Int64 & Char & Float64⍰ & Float64⍰\\\\\n",
       "\t\\hline\n",
       "\t1 & 1 & 'a' & 0.0429796 & 0.479508 \\\\\n",
       "\t2 & 1 & 'b' & 0.314273 & 0.826146 \\\\\n",
       "\t3 & 1 & 'c' & 0.961707 & 0.730073 \\\\\n",
       "\\end{tabular}\n"
      ],
      "text/plain": [
       "3×4 DataFrame\n",
       "│ Row │ id    │ id2  │ a1        │ a2       │\n",
       "│     │ \u001b[90mInt64\u001b[39m │ \u001b[90mChar\u001b[39m │ \u001b[90mFloat64⍰\u001b[39m  │ \u001b[90mFloat64⍰\u001b[39m │\n",
       "├─────┼───────┼──────┼───────────┼──────────┤\n",
       "│ 1   │ 1     │ 'a'  │ 0.0429796 │ 0.479508 │\n",
       "│ 2   │ 1     │ 'b'  │ 0.314273  │ 0.826146 │\n",
       "│ 3   │ 1     │ 'c'  │ 0.961707  │ 0.730073 │"
      ]
     },
     "execution_count": 16,
     "metadata": {},
     "output_type": "execute_result"
    }
   ],
   "source": [
    "# all columns other than :variable and :value are treated as keys\n",
    "unstack(y)"
   ]
  },
  {
   "cell_type": "code",
   "execution_count": 17,
   "metadata": {},
   "outputs": [
    {
     "data": {
      "text/html": [
       "<table class=\"data-frame\"><thead><tr><th></th><th>id</th><th>id2</th><th>unstacked_a1</th><th>unstacked_a2</th></tr><tr><th></th><th>Int64</th><th>Char</th><th>Float64⍰</th><th>Float64⍰</th></tr></thead><tbody><p>3 rows × 4 columns</p><tr><th>1</th><td>1</td><td>'a'</td><td>0.0429796</td><td>0.479508</td></tr><tr><th>2</th><td>1</td><td>'b'</td><td>0.314273</td><td>0.826146</td></tr><tr><th>3</th><td>1</td><td>'c'</td><td>0.961707</td><td>0.730073</td></tr></tbody></table>"
      ],
      "text/latex": [
       "\\begin{tabular}{r|cccc}\n",
       "\t& id & id2 & unstacked\\_a1 & unstacked\\_a2\\\\\n",
       "\t\\hline\n",
       "\t& Int64 & Char & Float64⍰ & Float64⍰\\\\\n",
       "\t\\hline\n",
       "\t1 & 1 & 'a' & 0.0429796 & 0.479508 \\\\\n",
       "\t2 & 1 & 'b' & 0.314273 & 0.826146 \\\\\n",
       "\t3 & 1 & 'c' & 0.961707 & 0.730073 \\\\\n",
       "\\end{tabular}\n"
      ],
      "text/plain": [
       "3×4 DataFrame\n",
       "│ Row │ id    │ id2  │ unstacked_a1 │ unstacked_a2 │\n",
       "│     │ \u001b[90mInt64\u001b[39m │ \u001b[90mChar\u001b[39m │ \u001b[90mFloat64⍰\u001b[39m     │ \u001b[90mFloat64⍰\u001b[39m     │\n",
       "├─────┼───────┼──────┼──────────────┼──────────────┤\n",
       "│ 1   │ 1     │ 'a'  │ 0.0429796    │ 0.479508     │\n",
       "│ 2   │ 1     │ 'b'  │ 0.314273     │ 0.826146     │\n",
       "│ 3   │ 1     │ 'c'  │ 0.961707     │ 0.730073     │"
      ]
     },
     "execution_count": 17,
     "metadata": {},
     "output_type": "execute_result"
    }
   ],
   "source": [
    "# you can rename the unstacked columns\n",
    "unstack(y, renamecols=n->Symbol(:unstacked_, n))"
   ]
  },
  {
   "cell_type": "code",
   "execution_count": 18,
   "metadata": {},
   "outputs": [
    {
     "data": {
      "text/html": [
       "<table class=\"data-frame\"><thead><tr><th></th><th>variable</th><th>value</th></tr><tr><th></th><th>Symbol</th><th>Float64</th></tr></thead><tbody><p>6 rows × 2 columns</p><tr><th>1</th><td>x1</td><td>0.732812</td></tr><tr><th>2</th><td>x1</td><td>0.0655716</td></tr><tr><th>3</th><td>x1</td><td>0.144978</td></tr><tr><th>4</th><td>x2</td><td>0.693699</td></tr><tr><th>5</th><td>x2</td><td>0.340769</td></tr><tr><th>6</th><td>x2</td><td>0.66972</td></tr></tbody></table>"
      ],
      "text/latex": [
       "\\begin{tabular}{r|cc}\n",
       "\t& variable & value\\\\\n",
       "\t\\hline\n",
       "\t& Symbol & Float64\\\\\n",
       "\t\\hline\n",
       "\t1 & x1 & 0.732812 \\\\\n",
       "\t2 & x1 & 0.0655716 \\\\\n",
       "\t3 & x1 & 0.144978 \\\\\n",
       "\t4 & x2 & 0.693699 \\\\\n",
       "\t5 & x2 & 0.340769 \\\\\n",
       "\t6 & x2 & 0.66972 \\\\\n",
       "\\end{tabular}\n"
      ],
      "text/plain": [
       "6×2 DataFrame\n",
       "│ Row │ variable │ value     │\n",
       "│     │ \u001b[90mSymbol\u001b[39m   │ \u001b[90mFloat64\u001b[39m   │\n",
       "├─────┼──────────┼───────────┤\n",
       "│ 1   │ x1       │ 0.732812  │\n",
       "│ 2   │ x1       │ 0.0655716 │\n",
       "│ 3   │ x1       │ 0.144978  │\n",
       "│ 4   │ x2       │ 0.693699  │\n",
       "│ 5   │ x2       │ 0.340769  │\n",
       "│ 6   │ x2       │ 0.66972   │"
      ]
     },
     "execution_count": 18,
     "metadata": {},
     "output_type": "execute_result"
    }
   ],
   "source": [
    "df = stack(DataFrame(rand(3,2)))"
   ]
  },
  {
   "cell_type": "code",
   "execution_count": 19,
   "metadata": {},
   "outputs": [
    {
     "ename": "ArgumentError",
     "evalue": "ArgumentError: No key column found",
     "output_type": "error",
     "traceback": [
      "ArgumentError: No key column found",
      "",
      "Stacktrace:",
      " [1] #unstack#298(::Function, ::typeof(unstack), ::DataFrame, ::Array{Symbol,1}, ::Int64, ::Int64) at C:\\Users\\bogum\\.julia\\packages\\DataFrames\\XuYBH\\src\\abstractdataframe\\reshape.jl:296",
      " [2] (::getfield(DataFrames, Symbol(\"#kw##unstack\")))(::NamedTuple{(:renamecols,),Tuple{typeof(identity)}}, ::typeof(unstack), ::DataFrame, ::Array{Symbol,1}, ::Int64, ::Int64) at .\\none:0",
      " [3] #unstack#294(::Function, ::typeof(unstack), ::DataFrame, ::Int64, ::Int64) at C:\\Users\\bogum\\.julia\\packages\\DataFrames\\XuYBH\\src\\abstractdataframe\\reshape.jl:278",
      " [4] (::getfield(DataFrames, Symbol(\"#kw##unstack\")))(::NamedTuple{(:renamecols,),Tuple{typeof(identity)}}, ::typeof(unstack), ::DataFrame, ::Int64, ::Int64) at .\\none:0",
      " [5] #unstack#293(::Function, ::typeof(unstack), ::DataFrame, ::Symbol, ::Symbol) at C:\\Users\\bogum\\.julia\\packages\\DataFrames\\XuYBH\\src\\abstractdataframe\\reshape.jl:274",
      " [6] unstack(::DataFrame, ::Symbol, ::Symbol) at C:\\Users\\bogum\\.julia\\packages\\DataFrames\\XuYBH\\src\\abstractdataframe\\reshape.jl:274",
      " [7] top-level scope at In[19]:1"
     ]
    }
   ],
   "source": [
    "unstack(df, :variable, :value) # unable to unstack when no key column is present"
   ]
  }
 ],
 "metadata": {
  "@webio": {
   "lastCommId": null,
   "lastKernelId": null
  },
  "kernelspec": {
   "display_name": "Julia 1.2.0",
   "language": "julia",
   "name": "julia-1.2"
  },
  "language_info": {
   "file_extension": ".jl",
   "mimetype": "application/julia",
   "name": "julia",
   "version": "1.2.0"
  }
 },
 "nbformat": 4,
 "nbformat_minor": 1
}
