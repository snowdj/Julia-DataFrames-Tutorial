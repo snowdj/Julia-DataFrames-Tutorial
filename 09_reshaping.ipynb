{
 "cells": [
  {
   "cell_type": "markdown",
   "metadata": {},
   "source": [
    "# Introduction to DataFrames\n",
    "**[Bogumił Kamiński](http://bogumilkaminski.pl/about/), Apr 21, 2018**"
   ]
  },
  {
   "cell_type": "code",
   "execution_count": 1,
   "metadata": {},
   "outputs": [],
   "source": [
    "using DataFrames # load package"
   ]
  },
  {
   "cell_type": "markdown",
   "metadata": {},
   "source": [
    "## Reshaping DataFrames"
   ]
  },
  {
   "cell_type": "markdown",
   "metadata": {},
   "source": [
    "### Wide to long"
   ]
  },
  {
   "cell_type": "code",
   "execution_count": 2,
   "metadata": {},
   "outputs": [
    {
     "data": {
      "text/html": [
       "<table class=\"data-frame\"><thead><tr><th></th><th>id</th><th>id2</th><th>M1</th><th>M2</th></tr></thead><tbody><tr><th>1</th><td>1</td><td>1</td><td>11</td><td>111</td></tr><tr><th>2</th><td>2</td><td>1</td><td>12</td><td>112</td></tr><tr><th>3</th><td>3</td><td>2</td><td>13</td><td>113</td></tr><tr><th>4</th><td>4</td><td>2</td><td>14</td><td>114</td></tr></tbody></table>"
      ],
      "text/plain": [
       "4×4 DataFrames.DataFrame\n",
       "│ Row │ id │ id2 │ M1 │ M2  │\n",
       "├─────┼────┼─────┼────┼─────┤\n",
       "│ 1   │ 1  │ 1   │ 11 │ 111 │\n",
       "│ 2   │ 2  │ 1   │ 12 │ 112 │\n",
       "│ 3   │ 3  │ 2   │ 13 │ 113 │\n",
       "│ 4   │ 4  │ 2   │ 14 │ 114 │"
      ]
     },
     "execution_count": 2,
     "metadata": {},
     "output_type": "execute_result"
    }
   ],
   "source": [
    "x = DataFrame(id=[1,2,3,4], id2=[1,1,2,2], M1=[11,12,13,14], M2=[111,112,113,114])"
   ]
  },
  {
   "cell_type": "code",
   "execution_count": 3,
   "metadata": {},
   "outputs": [
    {
     "data": {
      "text/html": [
       "<table class=\"data-frame\"><thead><tr><th></th><th>variable</th><th>value</th><th>id</th></tr></thead><tbody><tr><th>1</th><td>M1</td><td>11</td><td>1</td></tr><tr><th>2</th><td>M1</td><td>12</td><td>2</td></tr><tr><th>3</th><td>M1</td><td>13</td><td>3</td></tr><tr><th>4</th><td>M1</td><td>14</td><td>4</td></tr><tr><th>5</th><td>M2</td><td>111</td><td>1</td></tr><tr><th>6</th><td>M2</td><td>112</td><td>2</td></tr><tr><th>7</th><td>M2</td><td>113</td><td>3</td></tr><tr><th>8</th><td>M2</td><td>114</td><td>4</td></tr></tbody></table>"
      ],
      "text/plain": [
       "8×3 DataFrames.DataFrame\n",
       "│ Row │ variable │ value │ id │\n",
       "├─────┼──────────┼───────┼────┤\n",
       "│ 1   │ M1       │ 11    │ 1  │\n",
       "│ 2   │ M1       │ 12    │ 2  │\n",
       "│ 3   │ M1       │ 13    │ 3  │\n",
       "│ 4   │ M1       │ 14    │ 4  │\n",
       "│ 5   │ M2       │ 111   │ 1  │\n",
       "│ 6   │ M2       │ 112   │ 2  │\n",
       "│ 7   │ M2       │ 113   │ 3  │\n",
       "│ 8   │ M2       │ 114   │ 4  │"
      ]
     },
     "execution_count": 3,
     "metadata": {},
     "output_type": "execute_result"
    }
   ],
   "source": [
    "melt(x, :id, [:M1, :M2]) # first pass id-variables and then measure variables; meltdf makes a view"
   ]
  },
  {
   "cell_type": "code",
   "execution_count": 4,
   "metadata": {},
   "outputs": [
    {
     "data": {
      "text/html": [
       "<table class=\"data-frame\"><thead><tr><th></th><th>key</th><th>observed</th><th>id</th></tr></thead><tbody><tr><th>1</th><td>M1</td><td>11</td><td>1</td></tr><tr><th>2</th><td>M1</td><td>12</td><td>2</td></tr><tr><th>3</th><td>M1</td><td>13</td><td>3</td></tr><tr><th>4</th><td>M1</td><td>14</td><td>4</td></tr><tr><th>5</th><td>M2</td><td>111</td><td>1</td></tr><tr><th>6</th><td>M2</td><td>112</td><td>2</td></tr><tr><th>7</th><td>M2</td><td>113</td><td>3</td></tr><tr><th>8</th><td>M2</td><td>114</td><td>4</td></tr></tbody></table>"
      ],
      "text/plain": [
       "8×3 DataFrames.DataFrame\n",
       "│ Row │ key │ observed │ id │\n",
       "├─────┼─────┼──────────┼────┤\n",
       "│ 1   │ M1  │ 11       │ 1  │\n",
       "│ 2   │ M1  │ 12       │ 2  │\n",
       "│ 3   │ M1  │ 13       │ 3  │\n",
       "│ 4   │ M1  │ 14       │ 4  │\n",
       "│ 5   │ M2  │ 111      │ 1  │\n",
       "│ 6   │ M2  │ 112      │ 2  │\n",
       "│ 7   │ M2  │ 113      │ 3  │\n",
       "│ 8   │ M2  │ 114      │ 4  │"
      ]
     },
     "execution_count": 4,
     "metadata": {},
     "output_type": "execute_result"
    }
   ],
   "source": [
    "# optionally you can rename columns; melt and stack are identical but order of arguments is reversed\n",
    "stack(x, [:M1, :M2], :id, variable_name=:key, value_name=:observed) # first measures and then id-s; stackdf creates view"
   ]
  },
  {
   "cell_type": "code",
   "execution_count": 5,
   "metadata": {},
   "outputs": [
    {
     "data": {
      "text/html": [
       "<table class=\"data-frame\"><thead><tr><th></th><th>variable</th><th>value</th><th>id</th><th>id2</th></tr></thead><tbody><tr><th>1</th><td>M1</td><td>11</td><td>1</td><td>1</td></tr><tr><th>2</th><td>M1</td><td>12</td><td>2</td><td>1</td></tr><tr><th>3</th><td>M1</td><td>13</td><td>3</td><td>2</td></tr><tr><th>4</th><td>M1</td><td>14</td><td>4</td><td>2</td></tr><tr><th>5</th><td>M2</td><td>111</td><td>1</td><td>1</td></tr><tr><th>6</th><td>M2</td><td>112</td><td>2</td><td>1</td></tr><tr><th>7</th><td>M2</td><td>113</td><td>3</td><td>2</td></tr><tr><th>8</th><td>M2</td><td>114</td><td>4</td><td>2</td></tr></tbody></table>"
      ],
      "text/plain": [
       "8×4 DataFrames.DataFrame\n",
       "│ Row │ variable │ value │ id │ id2 │\n",
       "├─────┼──────────┼───────┼────┼─────┤\n",
       "│ 1   │ M1       │ 11    │ 1  │ 1   │\n",
       "│ 2   │ M1       │ 12    │ 2  │ 1   │\n",
       "│ 3   │ M1       │ 13    │ 3  │ 2   │\n",
       "│ 4   │ M1       │ 14    │ 4  │ 2   │\n",
       "│ 5   │ M2       │ 111   │ 1  │ 1   │\n",
       "│ 6   │ M2       │ 112   │ 2  │ 1   │\n",
       "│ 7   │ M2       │ 113   │ 3  │ 2   │\n",
       "│ 8   │ M2       │ 114   │ 4  │ 2   │"
      ]
     },
     "execution_count": 5,
     "metadata": {},
     "output_type": "execute_result"
    }
   ],
   "source": [
    "# if second argument is omitted in melt or stack , all other columns are assumed to be the second argument\n",
    "# but measure variables are selected only if they are <: AbstractFloat\n",
    "melt(x, [:id, :id2])"
   ]
  },
  {
   "cell_type": "code",
   "execution_count": 6,
   "metadata": {},
   "outputs": [
    {
     "data": {
      "text/html": [
       "<table class=\"data-frame\"><thead><tr><th></th><th>variable</th><th>value</th><th>id</th><th>id2</th></tr></thead><tbody><tr><th>1</th><td>M1</td><td>11</td><td>1</td><td>1</td></tr><tr><th>2</th><td>M1</td><td>12</td><td>2</td><td>1</td></tr><tr><th>3</th><td>M1</td><td>13</td><td>3</td><td>2</td></tr><tr><th>4</th><td>M1</td><td>14</td><td>4</td><td>2</td></tr><tr><th>5</th><td>M2</td><td>111</td><td>1</td><td>1</td></tr><tr><th>6</th><td>M2</td><td>112</td><td>2</td><td>1</td></tr><tr><th>7</th><td>M2</td><td>113</td><td>3</td><td>2</td></tr><tr><th>8</th><td>M2</td><td>114</td><td>4</td><td>2</td></tr></tbody></table>"
      ],
      "text/plain": [
       "8×4 DataFrames.DataFrame\n",
       "│ Row │ variable │ value │ id │ id2 │\n",
       "├─────┼──────────┼───────┼────┼─────┤\n",
       "│ 1   │ M1       │ 11    │ 1  │ 1   │\n",
       "│ 2   │ M1       │ 12    │ 2  │ 1   │\n",
       "│ 3   │ M1       │ 13    │ 3  │ 2   │\n",
       "│ 4   │ M1       │ 14    │ 4  │ 2   │\n",
       "│ 5   │ M2       │ 111   │ 1  │ 1   │\n",
       "│ 6   │ M2       │ 112   │ 2  │ 1   │\n",
       "│ 7   │ M2       │ 113   │ 3  │ 2   │\n",
       "│ 8   │ M2       │ 114   │ 4  │ 2   │"
      ]
     },
     "execution_count": 6,
     "metadata": {},
     "output_type": "execute_result"
    }
   ],
   "source": [
    "melt(x, [1, 2]) # you can use index instead of symbol"
   ]
  },
  {
   "cell_type": "code",
   "execution_count": 7,
   "metadata": {},
   "outputs": [
    {
     "name": "stdout",
     "output_type": "stream",
     "text": [
      "  0.280078 seconds (25.93 k allocations: 230.290 MiB, 32.04% gc time)\n",
      "  0.232177 seconds (102.85 k allocations: 5.576 MiB)\n"
     ]
    }
   ],
   "source": [
    "bigx = DataFrame(rand(10^6, 10)) # a test comparing creation of new DataFrame and a view\n",
    "bigx[:id] = 1:10^6\n",
    "@time melt(bigx, :id)\n",
    "@time meltdf(bigx, :id);"
   ]
  },
  {
   "cell_type": "code",
   "execution_count": 8,
   "metadata": {},
   "outputs": [
    {
     "data": {
      "text/html": [
       "<table class=\"data-frame\"><thead><tr><th></th><th>id</th><th>id2</th><th>a1</th><th>a2</th></tr></thead><tbody><tr><th>1</th><td>1</td><td>'a'</td><td>0.834752</td><td>0.593618</td></tr><tr><th>2</th><td>1</td><td>'b'</td><td>0.25992</td><td>0.937631</td></tr><tr><th>3</th><td>1</td><td>'c'</td><td>0.220984</td><td>0.279682</td></tr></tbody></table>"
      ],
      "text/plain": [
       "3×4 DataFrames.DataFrame\n",
       "│ Row │ id │ id2 │ a1       │ a2       │\n",
       "├─────┼────┼─────┼──────────┼──────────┤\n",
       "│ 1   │ 1  │ 'a' │ 0.834752 │ 0.593618 │\n",
       "│ 2   │ 1  │ 'b' │ 0.25992  │ 0.937631 │\n",
       "│ 3   │ 1  │ 'c' │ 0.220984 │ 0.279682 │"
      ]
     },
     "execution_count": 8,
     "metadata": {},
     "output_type": "execute_result"
    }
   ],
   "source": [
    "x = DataFrame(id = [1,1,1], id2=['a','b','c'], a1 = rand(3), a2 = rand(3))"
   ]
  },
  {
   "cell_type": "code",
   "execution_count": 9,
   "metadata": {},
   "outputs": [
    {
     "data": {
      "text/html": [
       "<table class=\"data-frame\"><thead><tr><th></th><th>variable</th><th>value</th><th>id</th><th>id2</th></tr></thead><tbody><tr><th>1</th><td>a1</td><td>0.834752</td><td>1</td><td>'a'</td></tr><tr><th>2</th><td>a1</td><td>0.25992</td><td>1</td><td>'b'</td></tr><tr><th>3</th><td>a1</td><td>0.220984</td><td>1</td><td>'c'</td></tr><tr><th>4</th><td>a2</td><td>0.593618</td><td>1</td><td>'a'</td></tr><tr><th>5</th><td>a2</td><td>0.937631</td><td>1</td><td>'b'</td></tr><tr><th>6</th><td>a2</td><td>0.279682</td><td>1</td><td>'c'</td></tr></tbody></table>"
      ],
      "text/plain": [
       "6×4 DataFrames.DataFrame\n",
       "│ Row │ variable │ value    │ id │ id2 │\n",
       "├─────┼──────────┼──────────┼────┼─────┤\n",
       "│ 1   │ a1       │ 0.834752 │ 1  │ 'a' │\n",
       "│ 2   │ a1       │ 0.25992  │ 1  │ 'b' │\n",
       "│ 3   │ a1       │ 0.220984 │ 1  │ 'c' │\n",
       "│ 4   │ a2       │ 0.593618 │ 1  │ 'a' │\n",
       "│ 5   │ a2       │ 0.937631 │ 1  │ 'b' │\n",
       "│ 6   │ a2       │ 0.279682 │ 1  │ 'c' │"
      ]
     },
     "execution_count": 9,
     "metadata": {},
     "output_type": "execute_result"
    }
   ],
   "source": [
    "melt(x)"
   ]
  },
  {
   "cell_type": "code",
   "execution_count": 10,
   "metadata": {},
   "outputs": [
    {
     "data": {
      "text/html": [
       "<table class=\"data-frame\"><thead><tr><th></th><th>variable</th><th>value</th></tr></thead><tbody><tr><th>1</th><td>x1</td><td>0.707032</td></tr><tr><th>2</th><td>x1</td><td>0.751828</td></tr><tr><th>3</th><td>x1</td><td>0.497165</td></tr><tr><th>4</th><td>x2</td><td>0.124856</td></tr><tr><th>5</th><td>x2</td><td>0.814676</td></tr><tr><th>6</th><td>x2</td><td>0.549471</td></tr></tbody></table>"
      ],
      "text/plain": [
       "6×2 DataFrames.DataFrame\n",
       "│ Row │ variable │ value    │\n",
       "├─────┼──────────┼──────────┤\n",
       "│ 1   │ x1       │ 0.707032 │\n",
       "│ 2   │ x1       │ 0.751828 │\n",
       "│ 3   │ x1       │ 0.497165 │\n",
       "│ 4   │ x2       │ 0.124856 │\n",
       "│ 5   │ x2       │ 0.814676 │\n",
       "│ 6   │ x2       │ 0.549471 │"
      ]
     },
     "execution_count": 10,
     "metadata": {},
     "output_type": "execute_result"
    }
   ],
   "source": [
    "melt(DataFrame(rand(3,2))) # by default stack and melt treats floats as value columns"
   ]
  },
  {
   "cell_type": "code",
   "execution_count": 11,
   "metadata": {},
   "outputs": [
    {
     "data": {
      "text/html": [
       "<table class=\"data-frame\"><thead><tr><th></th><th>variable</th><th>value</th><th>key</th></tr></thead><tbody><tr><th>1</th><td>x1</td><td>0.97703</td><td>1</td></tr><tr><th>2</th><td>x1</td><td>0.222009</td><td>1</td></tr><tr><th>3</th><td>x1</td><td>0.64424</td><td>1</td></tr><tr><th>4</th><td>x2</td><td>0.438191</td><td>1</td></tr><tr><th>5</th><td>x2</td><td>0.187739</td><td>1</td></tr><tr><th>6</th><td>x2</td><td>0.826264</td><td>1</td></tr></tbody></table>"
      ],
      "text/plain": [
       "6×3 DataFrames.DataFrame\n",
       "│ Row │ variable │ value    │ key │\n",
       "├─────┼──────────┼──────────┼─────┤\n",
       "│ 1   │ x1       │ 0.97703  │ 1   │\n",
       "│ 2   │ x1       │ 0.222009 │ 1   │\n",
       "│ 3   │ x1       │ 0.64424  │ 1   │\n",
       "│ 4   │ x2       │ 0.438191 │ 1   │\n",
       "│ 5   │ x2       │ 0.187739 │ 1   │\n",
       "│ 6   │ x2       │ 0.826264 │ 1   │"
      ]
     },
     "execution_count": 11,
     "metadata": {},
     "output_type": "execute_result"
    }
   ],
   "source": [
    "df = DataFrame(rand(3,2))\n",
    "df[:key] = [1,1,1]\n",
    "mdf = melt(df) # duplicates in key are silently accepted"
   ]
  },
  {
   "cell_type": "markdown",
   "metadata": {},
   "source": [
    "### Long to wide"
   ]
  },
  {
   "cell_type": "code",
   "execution_count": 12,
   "metadata": {},
   "outputs": [
    {
     "data": {
      "text/html": [
       "<table class=\"data-frame\"><thead><tr><th></th><th>id</th><th>id2</th><th>a1</th><th>a2</th></tr></thead><tbody><tr><th>1</th><td>1</td><td>'a'</td><td>0.088819</td><td>0.31133</td></tr><tr><th>2</th><td>1</td><td>'b'</td><td>0.437016</td><td>0.0314807</td></tr><tr><th>3</th><td>1</td><td>'c'</td><td>0.556724</td><td>0.842527</td></tr></tbody></table>"
      ],
      "text/plain": [
       "3×4 DataFrames.DataFrame\n",
       "│ Row │ id │ id2 │ a1       │ a2        │\n",
       "├─────┼────┼─────┼──────────┼───────────┤\n",
       "│ 1   │ 1  │ 'a' │ 0.088819 │ 0.31133   │\n",
       "│ 2   │ 1  │ 'b' │ 0.437016 │ 0.0314807 │\n",
       "│ 3   │ 1  │ 'c' │ 0.556724 │ 0.842527  │"
      ]
     },
     "execution_count": 12,
     "metadata": {},
     "output_type": "execute_result"
    }
   ],
   "source": [
    "x = DataFrame(id = [1,1,1], id2=['a','b','c'], a1 = rand(3), a2 = rand(3))"
   ]
  },
  {
   "cell_type": "code",
   "execution_count": 13,
   "metadata": {},
   "outputs": [
    {
     "data": {
      "text/html": [
       "<table class=\"data-frame\"><thead><tr><th></th><th>id</th><th>id2</th><th>a1</th><th>a2</th></tr></thead><tbody><tr><th>1</th><td>1</td><td>'a'</td><td>0.088819</td><td>0.31133</td></tr><tr><th>2</th><td>1</td><td>'b'</td><td>0.437016</td><td>0.0314807</td></tr><tr><th>3</th><td>1</td><td>'c'</td><td>0.556724</td><td>0.842527</td></tr></tbody></table>"
      ],
      "text/plain": [
       "3×4 DataFrames.DataFrame\n",
       "│ Row │ id │ id2 │ a1       │ a2        │\n",
       "├─────┼────┼─────┼──────────┼───────────┤\n",
       "│ 1   │ 1  │ 'a' │ 0.088819 │ 0.31133   │\n",
       "│ 2   │ 1  │ 'b' │ 0.437016 │ 0.0314807 │\n",
       "│ 3   │ 1  │ 'c' │ 0.556724 │ 0.842527  │"
      ]
     },
     "metadata": {},
     "output_type": "display_data"
    },
    {
     "data": {
      "text/html": [
       "<table class=\"data-frame\"><thead><tr><th></th><th>variable</th><th>value</th><th>id</th><th>id2</th></tr></thead><tbody><tr><th>1</th><td>a1</td><td>0.088819</td><td>1</td><td>'a'</td></tr><tr><th>2</th><td>a1</td><td>0.437016</td><td>1</td><td>'b'</td></tr><tr><th>3</th><td>a1</td><td>0.556724</td><td>1</td><td>'c'</td></tr><tr><th>4</th><td>a2</td><td>0.31133</td><td>1</td><td>'a'</td></tr><tr><th>5</th><td>a2</td><td>0.0314807</td><td>1</td><td>'b'</td></tr><tr><th>6</th><td>a2</td><td>0.842527</td><td>1</td><td>'c'</td></tr></tbody></table>"
      ],
      "text/plain": [
       "6×4 DataFrames.DataFrame\n",
       "│ Row │ variable │ value     │ id │ id2 │\n",
       "├─────┼──────────┼───────────┼────┼─────┤\n",
       "│ 1   │ a1       │ 0.088819  │ 1  │ 'a' │\n",
       "│ 2   │ a1       │ 0.437016  │ 1  │ 'b' │\n",
       "│ 3   │ a1       │ 0.556724  │ 1  │ 'c' │\n",
       "│ 4   │ a2       │ 0.31133   │ 1  │ 'a' │\n",
       "│ 5   │ a2       │ 0.0314807 │ 1  │ 'b' │\n",
       "│ 6   │ a2       │ 0.842527  │ 1  │ 'c' │"
      ]
     },
     "metadata": {},
     "output_type": "display_data"
    }
   ],
   "source": [
    "y = melt(x, [1,2])\n",
    "display(x)\n",
    "display(y)"
   ]
  },
  {
   "cell_type": "code",
   "execution_count": 14,
   "metadata": {},
   "outputs": [
    {
     "data": {
      "text/html": [
       "<table class=\"data-frame\"><thead><tr><th></th><th>id2</th><th>a1</th><th>a2</th></tr></thead><tbody><tr><th>1</th><td>'a'</td><td>0.088819</td><td>0.31133</td></tr><tr><th>2</th><td>'b'</td><td>0.437016</td><td>0.0314807</td></tr><tr><th>3</th><td>'c'</td><td>0.556724</td><td>0.842527</td></tr></tbody></table>"
      ],
      "text/plain": [
       "3×3 DataFrames.DataFrame\n",
       "│ Row │ id2 │ a1       │ a2        │\n",
       "├─────┼─────┼──────────┼───────────┤\n",
       "│ 1   │ 'a' │ 0.088819 │ 0.31133   │\n",
       "│ 2   │ 'b' │ 0.437016 │ 0.0314807 │\n",
       "│ 3   │ 'c' │ 0.556724 │ 0.842527  │"
      ]
     },
     "execution_count": 14,
     "metadata": {},
     "output_type": "execute_result"
    }
   ],
   "source": [
    "unstack(y, :id2, :variable, :value) # stndard unstack with a unique key"
   ]
  },
  {
   "cell_type": "code",
   "execution_count": 15,
   "metadata": {},
   "outputs": [
    {
     "data": {
      "text/html": [
       "<table class=\"data-frame\"><thead><tr><th></th><th>id</th><th>id2</th><th>a1</th><th>a2</th></tr></thead><tbody><tr><th>1</th><td>1</td><td>'a'</td><td>0.088819</td><td>0.31133</td></tr><tr><th>2</th><td>1</td><td>'b'</td><td>0.437016</td><td>0.0314807</td></tr><tr><th>3</th><td>1</td><td>'c'</td><td>0.556724</td><td>0.842527</td></tr></tbody></table>"
      ],
      "text/plain": [
       "3×4 DataFrames.DataFrame\n",
       "│ Row │ id │ id2 │ a1       │ a2        │\n",
       "├─────┼────┼─────┼──────────┼───────────┤\n",
       "│ 1   │ 1  │ 'a' │ 0.088819 │ 0.31133   │\n",
       "│ 2   │ 1  │ 'b' │ 0.437016 │ 0.0314807 │\n",
       "│ 3   │ 1  │ 'c' │ 0.556724 │ 0.842527  │"
      ]
     },
     "execution_count": 15,
     "metadata": {},
     "output_type": "execute_result"
    }
   ],
   "source": [
    "unstack(y, :variable, :value) # all other columns are treated as keys"
   ]
  },
  {
   "cell_type": "code",
   "execution_count": 16,
   "metadata": {},
   "outputs": [
    {
     "name": "stderr",
     "output_type": "stream",
     "text": [
      "\u001b[1m\u001b[33mWarning: \u001b[39m\u001b[22m\u001b[33mDuplicate entries in unstack at row 2 for key 1 and variable a1.\u001b[39m\n"
     ]
    },
    {
     "data": {
      "text/html": [
       "<table class=\"data-frame\"><thead><tr><th></th><th>id</th><th>a1</th><th>a2</th></tr></thead><tbody><tr><th>1</th><td>1</td><td>0.556724</td><td>0.842527</td></tr></tbody></table>"
      ],
      "text/plain": [
       "1×3 DataFrames.DataFrame\n",
       "│ Row │ id │ a1       │ a2       │\n",
       "├─────┼────┼──────────┼──────────┤\n",
       "│ 1   │ 1  │ 0.556724 │ 0.842527 │"
      ]
     },
     "execution_count": 16,
     "metadata": {},
     "output_type": "execute_result"
    }
   ],
   "source": [
    "# by default :id, :variable and :value names are assumed; in this case it produces duplicate keys\n",
    "unstack(y)"
   ]
  },
  {
   "cell_type": "code",
   "execution_count": 17,
   "metadata": {},
   "outputs": [
    {
     "data": {
      "text/html": [
       "<table class=\"data-frame\"><thead><tr><th></th><th>variable</th><th>value</th></tr></thead><tbody><tr><th>1</th><td>x1</td><td>0.220844</td></tr><tr><th>2</th><td>x1</td><td>0.784599</td></tr><tr><th>3</th><td>x1</td><td>0.338827</td></tr><tr><th>4</th><td>x2</td><td>0.390671</td></tr><tr><th>5</th><td>x2</td><td>0.150449</td></tr><tr><th>6</th><td>x2</td><td>0.605126</td></tr></tbody></table>"
      ],
      "text/plain": [
       "6×2 DataFrames.DataFrame\n",
       "│ Row │ variable │ value    │\n",
       "├─────┼──────────┼──────────┤\n",
       "│ 1   │ x1       │ 0.220844 │\n",
       "│ 2   │ x1       │ 0.784599 │\n",
       "│ 3   │ x1       │ 0.338827 │\n",
       "│ 4   │ x2       │ 0.390671 │\n",
       "│ 5   │ x2       │ 0.150449 │\n",
       "│ 6   │ x2       │ 0.605126 │"
      ]
     },
     "execution_count": 17,
     "metadata": {},
     "output_type": "execute_result"
    }
   ],
   "source": [
    "df = stack(DataFrame(rand(3,2)))"
   ]
  },
  {
   "cell_type": "code",
   "execution_count": 18,
   "metadata": {},
   "outputs": [
    {
     "ename": "LoadError",
     "evalue": "\u001b[91mArgumentError: No key column found\u001b[39m",
     "output_type": "error",
     "traceback": [
      "\u001b[91mArgumentError: No key column found\u001b[39m",
      "",
      "Stacktrace:",
      " [1] \u001b[1munstack\u001b[22m\u001b[22m\u001b[1m(\u001b[22m\u001b[22m::DataFrames.DataFrame, ::Array{Symbol,1}, ::Int64, ::Int64\u001b[1m)\u001b[22m\u001b[22m at \u001b[1mD:\\Software\\JULIA_PKG\\v0.6\\DataFrames\\src\\abstractdataframe\\reshape.jl:279\u001b[22m\u001b[22m",
      " [2] \u001b[1munstack\u001b[22m\u001b[22m\u001b[1m(\u001b[22m\u001b[22m::DataFrames.DataFrame, ::Int64, ::Int64\u001b[1m)\u001b[22m\u001b[22m at \u001b[1mD:\\Software\\JULIA_PKG\\v0.6\\DataFrames\\src\\abstractdataframe\\reshape.jl:269\u001b[22m\u001b[22m",
      " [3] \u001b[1munstack\u001b[22m\u001b[22m\u001b[1m(\u001b[22m\u001b[22m::DataFrames.DataFrame, ::Symbol, ::Symbol\u001b[1m)\u001b[22m\u001b[22m at \u001b[1mD:\\Software\\JULIA_PKG\\v0.6\\DataFrames\\src\\abstractdataframe\\reshape.jl:265\u001b[22m\u001b[22m"
     ]
    }
   ],
   "source": [
    "unstack(df, :variable, :value) # unable to unstack when no key column is present"
   ]
  }
 ],
 "metadata": {
  "kernelspec": {
   "display_name": "Julia 0.6.2",
   "language": "julia",
   "name": "julia-0.6"
  },
  "language_info": {
   "file_extension": ".jl",
   "mimetype": "application/julia",
   "name": "julia",
   "version": "0.6.2"
  }
 },
 "nbformat": 4,
 "nbformat_minor": 1
}
