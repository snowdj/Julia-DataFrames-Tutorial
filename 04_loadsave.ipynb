{
 "cells": [
  {
   "cell_type": "markdown",
   "metadata": {},
   "source": [
    "# Introduction to DataFrames\n",
    "**[Bogumił Kamiński](http://bogumilkaminski.pl/about/), December 8, 2019**"
   ]
  },
  {
   "cell_type": "code",
   "execution_count": 1,
   "metadata": {},
   "outputs": [],
   "source": [
    "using DataFrames"
   ]
  },
  {
   "cell_type": "markdown",
   "metadata": {},
   "source": [
    "## Load and save DataFrames\n",
    "We do not cover all features of the packages. Please refer to their documentation to learn them.\n",
    "\n",
    "Here we'll load `CSV` and `CSVFiles` to read and write CSV files and `Feather`, `JLSO`, and serialization, which allow us to work with a binary format and `JSONTables` for JSON interaction."
   ]
  },
  {
   "cell_type": "code",
   "execution_count": 2,
   "metadata": {},
   "outputs": [],
   "source": [
    "using CSV\n",
    "using CSVFiles\n",
    "using Serialization\n",
    "using JLSO\n",
    "using Feather\n",
    "using JSONTables\n",
    "using CodecZlib\n",
    "using ZipFile\n",
    "using JDF\n",
    "using StatsPlots # for charts"
   ]
  },
  {
   "cell_type": "markdown",
   "metadata": {},
   "source": [
    "Let's create a simple `DataFrame` for testing purposes,"
   ]
  },
  {
   "cell_type": "code",
   "execution_count": 3,
   "metadata": {},
   "outputs": [
    {
     "data": {
      "text/html": [
       "<table class=\"data-frame\"><thead><tr><th></th><th>A</th><th>B</th><th>C</th><th>D</th></tr><tr><th></th><th>Bool</th><th>Int64⍰</th><th>String⍰</th><th>Char⍰</th></tr></thead><tbody><p>3 rows × 4 columns</p><tr><th>1</th><td>1</td><td>1</td><td>missing</td><td>'a'</td></tr><tr><th>2</th><td>0</td><td>2</td><td>b</td><td>missing</td></tr><tr><th>3</th><td>1</td><td>missing</td><td>c</td><td>'c'</td></tr></tbody></table>"
      ],
      "text/latex": [
       "\\begin{tabular}{r|cccc}\n",
       "\t& A & B & C & D\\\\\n",
       "\t\\hline\n",
       "\t& Bool & Int64⍰ & String⍰ & Char⍰\\\\\n",
       "\t\\hline\n",
       "\t1 & 1 & 1 &  & 'a' \\\\\n",
       "\t2 & 0 & 2 & b &  \\\\\n",
       "\t3 & 1 &  & c & 'c' \\\\\n",
       "\\end{tabular}\n"
      ],
      "text/plain": [
       "3×4 DataFrame\n",
       "│ Row │ A    │ B       │ C       │ D       │\n",
       "│     │ \u001b[90mBool\u001b[39m │ \u001b[90mInt64⍰\u001b[39m  │ \u001b[90mString⍰\u001b[39m │ \u001b[90mChar⍰\u001b[39m   │\n",
       "├─────┼──────┼─────────┼─────────┼─────────┤\n",
       "│ 1   │ 1    │ 1       │ \u001b[90mmissing\u001b[39m │ 'a'     │\n",
       "│ 2   │ 0    │ 2       │ b       │ \u001b[90mmissing\u001b[39m │\n",
       "│ 3   │ 1    │ \u001b[90mmissing\u001b[39m │ c       │ 'c'     │"
      ]
     },
     "execution_count": 3,
     "metadata": {},
     "output_type": "execute_result"
    }
   ],
   "source": [
    "x = DataFrame(A=[true, false, true], B=[1, 2, missing],\n",
    "              C=[missing, \"b\", \"c\"], D=['a', missing, 'c'])\n"
   ]
  },
  {
   "cell_type": "markdown",
   "metadata": {},
   "source": [
    "and use `eltypes` to look at the columnwise types."
   ]
  },
  {
   "cell_type": "code",
   "execution_count": 4,
   "metadata": {},
   "outputs": [
    {
     "data": {
      "text/plain": [
       "4-element Array{Type,1}:\n",
       " Bool                  \n",
       " Union{Missing, Int64} \n",
       " Union{Missing, String}\n",
       " Union{Missing, Char}  "
      ]
     },
     "execution_count": 4,
     "metadata": {},
     "output_type": "execute_result"
    }
   ],
   "source": [
    "eltype.(eachcol(x))"
   ]
  },
  {
   "cell_type": "markdown",
   "metadata": {},
   "source": [
    "### CSV.jl"
   ]
  },
  {
   "cell_type": "markdown",
   "metadata": {},
   "source": [
    "Let's use `CSV` to save `x` to disk; make sure `x1.csv` does not conflict with some file in your working directory."
   ]
  },
  {
   "cell_type": "code",
   "execution_count": 5,
   "metadata": {},
   "outputs": [
    {
     "data": {
      "text/plain": [
       "\"x1.csv\""
      ]
     },
     "execution_count": 5,
     "metadata": {},
     "output_type": "execute_result"
    }
   ],
   "source": [
    "CSV.write(\"x1.csv\", x)"
   ]
  },
  {
   "cell_type": "markdown",
   "metadata": {},
   "source": [
    "Now we can see how it was saved by reading `x.csv`."
   ]
  },
  {
   "cell_type": "code",
   "execution_count": 6,
   "metadata": {},
   "outputs": [
    {
     "name": "stdout",
     "output_type": "stream",
     "text": [
      "A,B,C,D\n",
      "true,1,,a\n",
      "false,2,b,\n",
      "true,,c,c\n"
     ]
    }
   ],
   "source": [
    "print(read(\"x1.csv\", String))"
   ]
  },
  {
   "cell_type": "markdown",
   "metadata": {},
   "source": [
    "We can also load it back (`use_mmap=false` disables memory mapping so that on Windows the file can be deleted in the same session, on other OSs it is not needed)."
   ]
  },
  {
   "cell_type": "code",
   "execution_count": 7,
   "metadata": {},
   "outputs": [
    {
     "data": {
      "text/html": [
       "<table class=\"data-frame\"><thead><tr><th></th><th>A</th><th>B</th><th>C</th><th>D</th></tr><tr><th></th><th>Bool</th><th>Int64⍰</th><th>String⍰</th><th>String⍰</th></tr></thead><tbody><p>3 rows × 4 columns</p><tr><th>1</th><td>1</td><td>1</td><td>missing</td><td>a</td></tr><tr><th>2</th><td>0</td><td>2</td><td>b</td><td>missing</td></tr><tr><th>3</th><td>1</td><td>missing</td><td>c</td><td>c</td></tr></tbody></table>"
      ],
      "text/latex": [
       "\\begin{tabular}{r|cccc}\n",
       "\t& A & B & C & D\\\\\n",
       "\t\\hline\n",
       "\t& Bool & Int64⍰ & String⍰ & String⍰\\\\\n",
       "\t\\hline\n",
       "\t1 & 1 & 1 &  & a \\\\\n",
       "\t2 & 0 & 2 & b &  \\\\\n",
       "\t3 & 1 &  & c & c \\\\\n",
       "\\end{tabular}\n"
      ],
      "text/plain": [
       "3×4 DataFrame\n",
       "│ Row │ A    │ B       │ C       │ D       │\n",
       "│     │ \u001b[90mBool\u001b[39m │ \u001b[90mInt64⍰\u001b[39m  │ \u001b[90mString⍰\u001b[39m │ \u001b[90mString⍰\u001b[39m │\n",
       "├─────┼──────┼─────────┼─────────┼─────────┤\n",
       "│ 1   │ 1    │ 1       │ \u001b[90mmissing\u001b[39m │ a       │\n",
       "│ 2   │ 0    │ 2       │ b       │ \u001b[90mmissing\u001b[39m │\n",
       "│ 3   │ 1    │ \u001b[90mmissing\u001b[39m │ c       │ c       │"
      ]
     },
     "execution_count": 7,
     "metadata": {},
     "output_type": "execute_result"
    }
   ],
   "source": [
    "y = CSV.read(\"x1.csv\", use_mmap=false)"
   ]
  },
  {
   "cell_type": "markdown",
   "metadata": {},
   "source": [
    "When loading in a `DataFrame` from a `CSV`, all columns allow `Missing` by default. Note that the column types have changed!"
   ]
  },
  {
   "cell_type": "code",
   "execution_count": 8,
   "metadata": {},
   "outputs": [
    {
     "data": {
      "text/plain": [
       "4-element Array{Type,1}:\n",
       " Bool                  \n",
       " Union{Missing, Int64} \n",
       " Union{Missing, String}\n",
       " Union{Missing, String}"
      ]
     },
     "execution_count": 8,
     "metadata": {},
     "output_type": "execute_result"
    }
   ],
   "source": [
    "eltype.(eachcol(y))"
   ]
  },
  {
   "cell_type": "markdown",
   "metadata": {},
   "source": [
    "### CSVFiles.jl"
   ]
  },
  {
   "cell_type": "markdown",
   "metadata": {},
   "source": [
    "Now we will use `CSVFiles` to achieve the same. First we save the file. Notice that we override default `nastring` that is `\"NA\"` because we have missings in non-numeric columns."
   ]
  },
  {
   "cell_type": "code",
   "execution_count": 9,
   "metadata": {},
   "outputs": [],
   "source": [
    "x |> save(\"x2.csv\", nastring=\"\")"
   ]
  },
  {
   "cell_type": "markdown",
   "metadata": {},
   "source": [
    "and peek the saved file:"
   ]
  },
  {
   "cell_type": "code",
   "execution_count": 10,
   "metadata": {},
   "outputs": [
    {
     "name": "stdout",
     "output_type": "stream",
     "text": [
      "\"A\",\"B\",\"C\",\"D\"\n",
      "true,1,,a\n",
      "false,2,\"b\",\n",
      "true,,\"c\",c\n"
     ]
    }
   ],
   "source": [
    "print(read(\"x2.csv\", String))"
   ]
  },
  {
   "cell_type": "markdown",
   "metadata": {},
   "source": [
    "We can load it back using `load`:"
   ]
  },
  {
   "cell_type": "code",
   "execution_count": 11,
   "metadata": {},
   "outputs": [
    {
     "data": {
      "text/html": [
       "<table class=\"data-frame\"><thead><tr><th></th><th>A</th><th>B</th><th>C</th><th>D</th></tr><tr><th></th><th>String</th><th>Int64⍰</th><th>String</th><th>String</th></tr></thead><tbody><p>3 rows × 4 columns</p><tr><th>1</th><td>true</td><td>1</td><td></td><td>a</td></tr><tr><th>2</th><td>false</td><td>2</td><td>b</td><td></td></tr><tr><th>3</th><td>true</td><td>missing</td><td>c</td><td>c</td></tr></tbody></table>"
      ],
      "text/latex": [
       "\\begin{tabular}{r|cccc}\n",
       "\t& A & B & C & D\\\\\n",
       "\t\\hline\n",
       "\t& String & Int64⍰ & String & String\\\\\n",
       "\t\\hline\n",
       "\t1 & true & 1 &  & a \\\\\n",
       "\t2 & false & 2 & b &  \\\\\n",
       "\t3 & true &  & c & c \\\\\n",
       "\\end{tabular}\n"
      ],
      "text/plain": [
       "3×4 DataFrame\n",
       "│ Row │ A      │ B       │ C      │ D      │\n",
       "│     │ \u001b[90mString\u001b[39m │ \u001b[90mInt64⍰\u001b[39m  │ \u001b[90mString\u001b[39m │ \u001b[90mString\u001b[39m │\n",
       "├─────┼────────┼─────────┼────────┼────────┤\n",
       "│ 1   │ true   │ 1       │        │ a      │\n",
       "│ 2   │ false  │ 2       │ b      │        │\n",
       "│ 3   │ true   │ \u001b[90mmissing\u001b[39m │ c      │ c      │"
      ]
     },
     "execution_count": 11,
     "metadata": {},
     "output_type": "execute_result"
    }
   ],
   "source": [
    "y = load(\"x2.csv\") |> DataFrame"
   ]
  },
  {
   "cell_type": "markdown",
   "metadata": {},
   "source": [
    "Let us check element types again:"
   ]
  },
  {
   "cell_type": "code",
   "execution_count": 12,
   "metadata": {},
   "outputs": [
    {
     "data": {
      "text/plain": [
       "4-element Array{Type,1}:\n",
       " String               \n",
       " Union{Missing, Int64}\n",
       " String               \n",
       " String               "
      ]
     },
     "execution_count": 12,
     "metadata": {},
     "output_type": "execute_result"
    }
   ],
   "source": [
    "eltype.(eachcol(y))"
   ]
  },
  {
   "cell_type": "markdown",
   "metadata": {},
   "source": [
    "Observe that in columns `:C` and `:D` missings were read back as empty strings"
   ]
  },
  {
   "cell_type": "markdown",
   "metadata": {},
   "source": [
    "### Serialization, JDF.jl, and JLSO.jl\n",
    "\n",
    "#### Serialization"
   ]
  },
  {
   "cell_type": "markdown",
   "metadata": {},
   "source": [
    "Now we use serialization to save `x`.\n",
    "\n",
    "There are two ways to perform serialization. The first way is to use the `Serialization.serialize` as below:"
   ]
  },
  {
   "cell_type": "markdown",
   "metadata": {},
   "source": [
    "Note that in general, this process will not work if the reading and writing are done by different versions of Julia, or an instance of Julia with a different system image."
   ]
  },
  {
   "cell_type": "code",
   "execution_count": 13,
   "metadata": {},
   "outputs": [],
   "source": [
    "open(\"x.bin\", \"w\") do io\n",
    "    serialize(io, x)\n",
    "end"
   ]
  },
  {
   "cell_type": "markdown",
   "metadata": {},
   "source": [
    "Now we load back the saved file to `y` variable. Again `y` is identical to `x`. However, please beware that if you session does not have DataFrames.jl loaded, then it may not recognise the content as DataFrames.jl"
   ]
  },
  {
   "cell_type": "code",
   "execution_count": 14,
   "metadata": {},
   "outputs": [
    {
     "data": {
      "text/html": [
       "<table class=\"data-frame\"><thead><tr><th></th><th>A</th><th>B</th><th>C</th><th>D</th></tr><tr><th></th><th>Bool</th><th>Int64⍰</th><th>String⍰</th><th>Char⍰</th></tr></thead><tbody><p>3 rows × 4 columns</p><tr><th>1</th><td>1</td><td>1</td><td>missing</td><td>'a'</td></tr><tr><th>2</th><td>0</td><td>2</td><td>b</td><td>missing</td></tr><tr><th>3</th><td>1</td><td>missing</td><td>c</td><td>'c'</td></tr></tbody></table>"
      ],
      "text/latex": [
       "\\begin{tabular}{r|cccc}\n",
       "\t& A & B & C & D\\\\\n",
       "\t\\hline\n",
       "\t& Bool & Int64⍰ & String⍰ & Char⍰\\\\\n",
       "\t\\hline\n",
       "\t1 & 1 & 1 &  & 'a' \\\\\n",
       "\t2 & 0 & 2 & b &  \\\\\n",
       "\t3 & 1 &  & c & 'c' \\\\\n",
       "\\end{tabular}\n"
      ],
      "text/plain": [
       "3×4 DataFrame\n",
       "│ Row │ A    │ B       │ C       │ D       │\n",
       "│     │ \u001b[90mBool\u001b[39m │ \u001b[90mInt64⍰\u001b[39m  │ \u001b[90mString⍰\u001b[39m │ \u001b[90mChar⍰\u001b[39m   │\n",
       "├─────┼──────┼─────────┼─────────┼─────────┤\n",
       "│ 1   │ 1    │ 1       │ \u001b[90mmissing\u001b[39m │ 'a'     │\n",
       "│ 2   │ 0    │ 2       │ b       │ \u001b[90mmissing\u001b[39m │\n",
       "│ 3   │ 1    │ \u001b[90mmissing\u001b[39m │ c       │ 'c'     │"
      ]
     },
     "execution_count": 14,
     "metadata": {},
     "output_type": "execute_result"
    }
   ],
   "source": [
    "y = open(deserialize, \"x.bin\")"
   ]
  },
  {
   "cell_type": "code",
   "execution_count": 15,
   "metadata": {},
   "outputs": [
    {
     "data": {
      "text/plain": [
       "4-element Array{Type,1}:\n",
       " Bool                  \n",
       " Union{Missing, Int64} \n",
       " Union{Missing, String}\n",
       " Union{Missing, Char}  "
      ]
     },
     "execution_count": 15,
     "metadata": {},
     "output_type": "execute_result"
    }
   ],
   "source": [
    "eltype.(eachcol(y))"
   ]
  },
  {
   "cell_type": "markdown",
   "metadata": {},
   "source": [
    "#### JDF.jl\n",
    "\n",
    "[JDF.jl](https://github.com/xiaodaigh/JDF) is a relatively new package designed to serialize DataFrames. You can save a DataFrame with the `savejdf` function."
   ]
  },
  {
   "cell_type": "code",
   "execution_count": 16,
   "metadata": {},
   "outputs": [],
   "source": [
    "savejdf(\"x.jdf\", x);"
   ]
  },
  {
   "cell_type": "markdown",
   "metadata": {},
   "source": [
    "To load the saved JDF file, one can use the `loadjdf` function"
   ]
  },
  {
   "cell_type": "code",
   "execution_count": 17,
   "metadata": {},
   "outputs": [
    {
     "data": {
      "text/html": [
       "<table class=\"data-frame\"><thead><tr><th></th><th>A</th><th>B</th><th>C</th><th>D</th></tr><tr><th></th><th>Bool</th><th>Int64⍰</th><th>String⍰</th><th>Char⍰</th></tr></thead><tbody><p>3 rows × 4 columns</p><tr><th>1</th><td>1</td><td>1</td><td>missing</td><td>'a'</td></tr><tr><th>2</th><td>0</td><td>2</td><td>b</td><td>missing</td></tr><tr><th>3</th><td>1</td><td>missing</td><td>c</td><td>'c'</td></tr></tbody></table>"
      ],
      "text/latex": [
       "\\begin{tabular}{r|cccc}\n",
       "\t& A & B & C & D\\\\\n",
       "\t\\hline\n",
       "\t& Bool & Int64⍰ & String⍰ & Char⍰\\\\\n",
       "\t\\hline\n",
       "\t1 & 1 & 1 &  & 'a' \\\\\n",
       "\t2 & 0 & 2 & b &  \\\\\n",
       "\t3 & 1 &  & c & 'c' \\\\\n",
       "\\end{tabular}\n"
      ],
      "text/plain": [
       "3×4 DataFrame\n",
       "│ Row │ A    │ B       │ C       │ D       │\n",
       "│     │ \u001b[90mBool\u001b[39m │ \u001b[90mInt64⍰\u001b[39m  │ \u001b[90mString⍰\u001b[39m │ \u001b[90mChar⍰\u001b[39m   │\n",
       "├─────┼──────┼─────────┼─────────┼─────────┤\n",
       "│ 1   │ 1    │ 1       │ \u001b[90mmissing\u001b[39m │ 'a'     │\n",
       "│ 2   │ 0    │ 2       │ b       │ \u001b[90mmissing\u001b[39m │\n",
       "│ 3   │ 1    │ \u001b[90mmissing\u001b[39m │ c       │ 'c'     │"
      ]
     },
     "execution_count": 17,
     "metadata": {},
     "output_type": "execute_result"
    }
   ],
   "source": [
    "x_loaded = loadjdf(\"x.jdf\")"
   ]
  },
  {
   "cell_type": "markdown",
   "metadata": {},
   "source": [
    "You can see that they are the same"
   ]
  },
  {
   "cell_type": "code",
   "execution_count": 18,
   "metadata": {},
   "outputs": [
    {
     "data": {
      "text/plain": [
       "true"
      ]
     },
     "execution_count": 18,
     "metadata": {},
     "output_type": "execute_result"
    }
   ],
   "source": [
    "isequal(x_loaded, x)"
   ]
  },
  {
   "cell_type": "markdown",
   "metadata": {},
   "source": [
    "JDF.jl offers the ability to load only certain columns from disk to help with working with large files"
   ]
  },
  {
   "cell_type": "code",
   "execution_count": 19,
   "metadata": {},
   "outputs": [
    {
     "data": {
      "text/plain": [
       "JDFFile{String}(\"x.jdf\")"
      ]
     },
     "execution_count": 19,
     "metadata": {},
     "output_type": "execute_result"
    }
   ],
   "source": [
    "# set up a JDFFile which is a on disk representation of `x` backed by JDF.jl\n",
    "x_ondisk = jdf\"x.jdf\""
   ]
  },
  {
   "cell_type": "markdown",
   "metadata": {},
   "source": [
    "We can see all the names of `x` without loading it into memory"
   ]
  },
  {
   "cell_type": "code",
   "execution_count": 20,
   "metadata": {},
   "outputs": [
    {
     "data": {
      "text/plain": [
       "4-element Array{Symbol,1}:\n",
       " :A\n",
       " :B\n",
       " :C\n",
       " :D"
      ]
     },
     "execution_count": 20,
     "metadata": {},
     "output_type": "execute_result"
    }
   ],
   "source": [
    "names(x_ondisk)"
   ]
  },
  {
   "cell_type": "markdown",
   "metadata": {},
   "source": [
    "The below is an example of how to load only columns `:A` and `:D` "
   ]
  },
  {
   "cell_type": "code",
   "execution_count": 21,
   "metadata": {},
   "outputs": [
    {
     "data": {
      "text/html": [
       "<table class=\"data-frame\"><thead><tr><th></th><th>A</th><th>D</th></tr><tr><th></th><th>Bool</th><th>Char⍰</th></tr></thead><tbody><p>3 rows × 2 columns</p><tr><th>1</th><td>1</td><td>'a'</td></tr><tr><th>2</th><td>0</td><td>missing</td></tr><tr><th>3</th><td>1</td><td>'c'</td></tr></tbody></table>"
      ],
      "text/latex": [
       "\\begin{tabular}{r|cc}\n",
       "\t& A & D\\\\\n",
       "\t\\hline\n",
       "\t& Bool & Char⍰\\\\\n",
       "\t\\hline\n",
       "\t1 & 1 & 'a' \\\\\n",
       "\t2 & 0 &  \\\\\n",
       "\t3 & 1 & 'c' \\\\\n",
       "\\end{tabular}\n"
      ],
      "text/plain": [
       "3×2 DataFrame\n",
       "│ Row │ A    │ D       │\n",
       "│     │ \u001b[90mBool\u001b[39m │ \u001b[90mChar⍰\u001b[39m   │\n",
       "├─────┼──────┼─────────┤\n",
       "│ 1   │ 1    │ 'a'     │\n",
       "│ 2   │ 0    │ \u001b[90mmissing\u001b[39m │\n",
       "│ 3   │ 1    │ 'c'     │"
      ]
     },
     "execution_count": 21,
     "metadata": {},
     "output_type": "execute_result"
    }
   ],
   "source": [
    "xd = sloadjdf(x_ondisk; cols = [:A, :D])"
   ]
  },
  {
   "cell_type": "markdown",
   "metadata": {},
   "source": [
    "##### JDF.jl vs others\n",
    "\n",
    "JDF.jl is specialized to DataFrames and only supports a restricted list of columns, so it can not save DataFrames with arbitrary column types. However, this also means that JDF.jl has specialised algorithms to serailize the type it supports to optimize speed, minimize disk usage, and reduce the chance of errors\n",
    "\n",
    "The list support columns for JDF include\n",
    "\n",
    "```julia\n",
    "WeakRefStrings.StringVector\n",
    "Vector{T}, Vector{Union{Mising, T}}, Vector{Union{Nothing, T}}\n",
    "CategoricalArrays.CategoricalVetors{T}\n",
    "```\n",
    "\n",
    "where `T` can be `String`, `Bool`, `Symbol`, `Char`, `TimeZones.ZonedDateTime` (experimental) and `isbit`s types i.e. `UInt*`, `Int*`, `Float*`, and `Date*` types etc."
   ]
  },
  {
   "cell_type": "markdown",
   "metadata": {},
   "source": [
    "#### JLSO.jl\n",
    "\n",
    "Another way to perform serialization is by using the [JLSO.jl](https://github.com/invenia/JLSO.jl) library:"
   ]
  },
  {
   "cell_type": "code",
   "execution_count": 22,
   "metadata": {},
   "outputs": [],
   "source": [
    "JLSO.save(\"x.jlso\", :data => x)"
   ]
  },
  {
   "cell_type": "markdown",
   "metadata": {},
   "source": [
    "Now we can laod back the file to `y`"
   ]
  },
  {
   "cell_type": "code",
   "execution_count": 23,
   "metadata": {},
   "outputs": [
    {
     "data": {
      "text/html": [
       "<table class=\"data-frame\"><thead><tr><th></th><th>A</th><th>B</th><th>C</th><th>D</th></tr><tr><th></th><th>Bool</th><th>Int64⍰</th><th>String⍰</th><th>Char⍰</th></tr></thead><tbody><p>3 rows × 4 columns</p><tr><th>1</th><td>1</td><td>1</td><td>missing</td><td>'a'</td></tr><tr><th>2</th><td>0</td><td>2</td><td>b</td><td>missing</td></tr><tr><th>3</th><td>1</td><td>missing</td><td>c</td><td>'c'</td></tr></tbody></table>"
      ],
      "text/latex": [
       "\\begin{tabular}{r|cccc}\n",
       "\t& A & B & C & D\\\\\n",
       "\t\\hline\n",
       "\t& Bool & Int64⍰ & String⍰ & Char⍰\\\\\n",
       "\t\\hline\n",
       "\t1 & 1 & 1 &  & 'a' \\\\\n",
       "\t2 & 0 & 2 & b &  \\\\\n",
       "\t3 & 1 &  & c & 'c' \\\\\n",
       "\\end{tabular}\n"
      ],
      "text/plain": [
       "3×4 DataFrame\n",
       "│ Row │ A    │ B       │ C       │ D       │\n",
       "│     │ \u001b[90mBool\u001b[39m │ \u001b[90mInt64⍰\u001b[39m  │ \u001b[90mString⍰\u001b[39m │ \u001b[90mChar⍰\u001b[39m   │\n",
       "├─────┼──────┼─────────┼─────────┼─────────┤\n",
       "│ 1   │ 1    │ 1       │ \u001b[90mmissing\u001b[39m │ 'a'     │\n",
       "│ 2   │ 0    │ 2       │ b       │ \u001b[90mmissing\u001b[39m │\n",
       "│ 3   │ 1    │ \u001b[90mmissing\u001b[39m │ c       │ 'c'     │"
      ]
     },
     "execution_count": 23,
     "metadata": {},
     "output_type": "execute_result"
    }
   ],
   "source": [
    "y = JLSO.load(\"x.jlso\")[\"data\"]"
   ]
  },
  {
   "cell_type": "code",
   "execution_count": 24,
   "metadata": {},
   "outputs": [
    {
     "data": {
      "text/plain": [
       "4-element Array{Type,1}:\n",
       " Bool                  \n",
       " Union{Missing, Int64} \n",
       " Union{Missing, String}\n",
       " Union{Missing, Char}  "
      ]
     },
     "execution_count": 24,
     "metadata": {},
     "output_type": "execute_result"
    }
   ],
   "source": [
    "eltype.(eachcol(y))"
   ]
  },
  {
   "cell_type": "markdown",
   "metadata": {},
   "source": [
    "### JSONTables.jl"
   ]
  },
  {
   "cell_type": "markdown",
   "metadata": {},
   "source": [
    "Often you might need to read and write data stored in JSON format. JSONTables.jl provides a way to process them in row-oriented or column-oriented layout. We present both options below."
   ]
  },
  {
   "cell_type": "code",
   "execution_count": 25,
   "metadata": {},
   "outputs": [
    {
     "data": {
      "text/plain": [
       "106"
      ]
     },
     "execution_count": 25,
     "metadata": {},
     "output_type": "execute_result"
    }
   ],
   "source": [
    "open(io -> arraytable(io, x), \"x1.json\", \"w\")"
   ]
  },
  {
   "cell_type": "code",
   "execution_count": 26,
   "metadata": {},
   "outputs": [
    {
     "data": {
      "text/plain": [
       "76"
      ]
     },
     "execution_count": 26,
     "metadata": {},
     "output_type": "execute_result"
    }
   ],
   "source": [
    "open(io -> objecttable(io, x), \"x2.json\", \"w\")"
   ]
  },
  {
   "cell_type": "code",
   "execution_count": 27,
   "metadata": {},
   "outputs": [
    {
     "name": "stdout",
     "output_type": "stream",
     "text": [
      "[{\"A\":true,\"B\":1,\"C\":null,\"D\":\"a\"},{\"A\":false,\"B\":2,\"C\":\"b\",\"D\":null},{\"A\":true,\"B\":null,\"C\":\"c\",\"D\":\"c\"}]"
     ]
    }
   ],
   "source": [
    "print(read(\"x1.json\", String))"
   ]
  },
  {
   "cell_type": "code",
   "execution_count": 28,
   "metadata": {},
   "outputs": [
    {
     "name": "stdout",
     "output_type": "stream",
     "text": [
      "{\"A\":[true,false,true],\"B\":[1,2,null],\"C\":[null,\"b\",\"c\"],\"D\":[\"a\",null,\"c\"]}"
     ]
    }
   ],
   "source": [
    "print(read(\"x2.json\", String))"
   ]
  },
  {
   "cell_type": "code",
   "execution_count": 29,
   "metadata": {},
   "outputs": [
    {
     "data": {
      "text/html": [
       "<table class=\"data-frame\"><thead><tr><th></th><th>A</th><th>B</th><th>C</th><th>D</th></tr><tr><th></th><th>Bool</th><th>Int64⍰</th><th>String⍰</th><th>String⍰</th></tr></thead><tbody><p>3 rows × 4 columns</p><tr><th>1</th><td>1</td><td>1</td><td>missing</td><td>a</td></tr><tr><th>2</th><td>0</td><td>2</td><td>b</td><td>missing</td></tr><tr><th>3</th><td>1</td><td>missing</td><td>c</td><td>c</td></tr></tbody></table>"
      ],
      "text/latex": [
       "\\begin{tabular}{r|cccc}\n",
       "\t& A & B & C & D\\\\\n",
       "\t\\hline\n",
       "\t& Bool & Int64⍰ & String⍰ & String⍰\\\\\n",
       "\t\\hline\n",
       "\t1 & 1 & 1 &  & a \\\\\n",
       "\t2 & 0 & 2 & b &  \\\\\n",
       "\t3 & 1 &  & c & c \\\\\n",
       "\\end{tabular}\n"
      ],
      "text/plain": [
       "3×4 DataFrame\n",
       "│ Row │ A    │ B       │ C       │ D       │\n",
       "│     │ \u001b[90mBool\u001b[39m │ \u001b[90mInt64⍰\u001b[39m  │ \u001b[90mString⍰\u001b[39m │ \u001b[90mString⍰\u001b[39m │\n",
       "├─────┼──────┼─────────┼─────────┼─────────┤\n",
       "│ 1   │ 1    │ 1       │ \u001b[90mmissing\u001b[39m │ a       │\n",
       "│ 2   │ 0    │ 2       │ b       │ \u001b[90mmissing\u001b[39m │\n",
       "│ 3   │ 1    │ \u001b[90mmissing\u001b[39m │ c       │ c       │"
      ]
     },
     "execution_count": 29,
     "metadata": {},
     "output_type": "execute_result"
    }
   ],
   "source": [
    "y1 = open(jsontable, \"x1.json\") |> DataFrame"
   ]
  },
  {
   "cell_type": "code",
   "execution_count": 30,
   "metadata": {},
   "outputs": [
    {
     "data": {
      "text/plain": [
       "4-element Array{Type,1}:\n",
       " Bool                  \n",
       " Union{Missing, Int64} \n",
       " Union{Missing, String}\n",
       " Union{Missing, String}"
      ]
     },
     "execution_count": 30,
     "metadata": {},
     "output_type": "execute_result"
    }
   ],
   "source": [
    "eltype.(eachcol(y1))"
   ]
  },
  {
   "cell_type": "code",
   "execution_count": 31,
   "metadata": {},
   "outputs": [
    {
     "data": {
      "text/html": [
       "<table class=\"data-frame\"><thead><tr><th></th><th>A</th><th>B</th><th>C</th><th>D</th></tr><tr><th></th><th>Bool</th><th>Int64⍰</th><th>String⍰</th><th>String⍰</th></tr></thead><tbody><p>3 rows × 4 columns</p><tr><th>1</th><td>1</td><td>1</td><td>missing</td><td>a</td></tr><tr><th>2</th><td>0</td><td>2</td><td>b</td><td>missing</td></tr><tr><th>3</th><td>1</td><td>missing</td><td>c</td><td>c</td></tr></tbody></table>"
      ],
      "text/latex": [
       "\\begin{tabular}{r|cccc}\n",
       "\t& A & B & C & D\\\\\n",
       "\t\\hline\n",
       "\t& Bool & Int64⍰ & String⍰ & String⍰\\\\\n",
       "\t\\hline\n",
       "\t1 & 1 & 1 &  & a \\\\\n",
       "\t2 & 0 & 2 & b &  \\\\\n",
       "\t3 & 1 &  & c & c \\\\\n",
       "\\end{tabular}\n"
      ],
      "text/plain": [
       "3×4 DataFrame\n",
       "│ Row │ A    │ B       │ C       │ D       │\n",
       "│     │ \u001b[90mBool\u001b[39m │ \u001b[90mInt64⍰\u001b[39m  │ \u001b[90mString⍰\u001b[39m │ \u001b[90mString⍰\u001b[39m │\n",
       "├─────┼──────┼─────────┼─────────┼─────────┤\n",
       "│ 1   │ 1    │ 1       │ \u001b[90mmissing\u001b[39m │ a       │\n",
       "│ 2   │ 0    │ 2       │ b       │ \u001b[90mmissing\u001b[39m │\n",
       "│ 3   │ 1    │ \u001b[90mmissing\u001b[39m │ c       │ c       │"
      ]
     },
     "execution_count": 31,
     "metadata": {},
     "output_type": "execute_result"
    }
   ],
   "source": [
    "y2 = open(jsontable, \"x2.json\") |> DataFrame"
   ]
  },
  {
   "cell_type": "code",
   "execution_count": 32,
   "metadata": {},
   "outputs": [
    {
     "data": {
      "text/plain": [
       "4-element Array{Type,1}:\n",
       " Bool                  \n",
       " Union{Missing, Int64} \n",
       " Union{Missing, String}\n",
       " Union{Missing, String}"
      ]
     },
     "execution_count": 32,
     "metadata": {},
     "output_type": "execute_result"
    }
   ],
   "source": [
    "eltype.(eachcol(y2))"
   ]
  },
  {
   "cell_type": "markdown",
   "metadata": {},
   "source": [
    "### Feather.jl"
   ]
  },
  {
   "cell_type": "markdown",
   "metadata": {},
   "source": [
    "Finally we use Feather format that allows, in particular, for data interchange with R or Python."
   ]
  },
  {
   "cell_type": "code",
   "execution_count": 33,
   "metadata": {},
   "outputs": [
    {
     "data": {
      "text/plain": [
       "3-element Array{Union{Missing, String},1}:\n",
       " \"a\"    \n",
       " missing\n",
       " \"c\"    "
      ]
     },
     "execution_count": 33,
     "metadata": {},
     "output_type": "execute_result"
    }
   ],
   "source": [
    "x.D = passmissing(string).(x.D) # Feather format does not support Char type"
   ]
  },
  {
   "cell_type": "code",
   "execution_count": 34,
   "metadata": {},
   "outputs": [
    {
     "data": {
      "text/plain": [
       "\"x.feather\""
      ]
     },
     "execution_count": 34,
     "metadata": {},
     "output_type": "execute_result"
    }
   ],
   "source": [
    "Feather.write(\"x.feather\", x)"
   ]
  },
  {
   "cell_type": "code",
   "execution_count": 35,
   "metadata": {},
   "outputs": [
    {
     "data": {
      "text/html": [
       "<table class=\"data-frame\"><thead><tr><th></th><th>A</th><th>B</th><th>C</th><th>D</th></tr><tr><th></th><th>Bool</th><th>Int64⍰</th><th>String⍰</th><th>String⍰</th></tr></thead><tbody><p>3 rows × 4 columns</p><tr><th>1</th><td>1</td><td>1</td><td>missing</td><td>a</td></tr><tr><th>2</th><td>0</td><td>2</td><td>b</td><td>missing</td></tr><tr><th>3</th><td>1</td><td>missing</td><td>c</td><td>c</td></tr></tbody></table>"
      ],
      "text/latex": [
       "\\begin{tabular}{r|cccc}\n",
       "\t& A & B & C & D\\\\\n",
       "\t\\hline\n",
       "\t& Bool & Int64⍰ & String⍰ & String⍰\\\\\n",
       "\t\\hline\n",
       "\t1 & 1 & 1 &  & a \\\\\n",
       "\t2 & 0 & 2 & b &  \\\\\n",
       "\t3 & 1 &  & c & c \\\\\n",
       "\\end{tabular}\n"
      ],
      "text/plain": [
       "3×4 DataFrame\n",
       "│ Row │ A    │ B       │ C       │ D       │\n",
       "│     │ \u001b[90mBool\u001b[39m │ \u001b[90mInt64⍰\u001b[39m  │ \u001b[90mString⍰\u001b[39m │ \u001b[90mString⍰\u001b[39m │\n",
       "├─────┼──────┼─────────┼─────────┼─────────┤\n",
       "│ 1   │ 1    │ 1       │ \u001b[90mmissing\u001b[39m │ a       │\n",
       "│ 2   │ 0    │ 2       │ b       │ \u001b[90mmissing\u001b[39m │\n",
       "│ 3   │ 1    │ \u001b[90mmissing\u001b[39m │ c       │ c       │"
      ]
     },
     "execution_count": 35,
     "metadata": {},
     "output_type": "execute_result"
    }
   ],
   "source": [
    "y = Feather.materialize(\"x.feather\") # Feather.read is a lazy alternative"
   ]
  },
  {
   "cell_type": "code",
   "execution_count": 36,
   "metadata": {},
   "outputs": [
    {
     "data": {
      "text/plain": [
       "4-element Array{Type,1}:\n",
       " Bool                  \n",
       " Union{Missing, Int64} \n",
       " Union{Missing, String}\n",
       " Union{Missing, String}"
      ]
     },
     "execution_count": 36,
     "metadata": {},
     "output_type": "execute_result"
    }
   ],
   "source": [
    "eltype.(eachcol(y))"
   ]
  },
  {
   "cell_type": "markdown",
   "metadata": {},
   "source": [
    "### Basic bechmarking"
   ]
  },
  {
   "cell_type": "markdown",
   "metadata": {},
   "source": [
    "Next, we'll create some files, so be careful that you don't already have these files in your working directory!\n",
    "\n",
    "In particular, we'll time how long it takes us to write a `DataFrame` with 10^3 rows and 10^5 columns."
   ]
  },
  {
   "cell_type": "code",
   "execution_count": 37,
   "metadata": {},
   "outputs": [
    {
     "name": "stdout",
     "output_type": "stream",
     "text": [
      "First run\n",
      "CSV.jl\n",
      "  4.332757 seconds (101.80 M allocations: 1.612 GiB, 9.76% gc time)\n",
      "CSVFiles.jl\n",
      " 10.092355 seconds (4.35 M allocations: 246.990 MiB, 0.41% gc time)\n",
      "Serialization\n",
      "  1.231094 seconds (279.94 k allocations: 14.359 MiB)\n",
      "JDF.jl\n",
      "  0.544520 seconds (103.86 k allocations: 167.295 MiB, 6.67% gc time)\n",
      "JLSO.jl\n",
      "  7.436533 seconds (290.11 k allocations: 178.515 MiB, 0.26% gc time)\n",
      "Feather.jl\n",
      "  0.227114 seconds (495.22 k allocations: 49.392 MiB)\n",
      "JSONTables.jl arraytable\n",
      " 79.750448 seconds (1.10 G allocations: 29.293 GiB, 6.73% gc time)\n",
      "JSONTables.jl objecttable\n",
      "  1.404156 seconds (464.82 k allocations: 1.403 GiB, 8.01% gc time)\n",
      "Second run\n",
      "CSV.jl\n",
      "  3.717761 seconds (99.44 M allocations: 1.492 GiB, 6.67% gc time)\n",
      "CSVFiles.jl\n",
      "  6.178501 seconds (406.64 k allocations: 64.416 MiB, 1.09% gc time)\n",
      "Serialization\n",
      "  1.214636 seconds (5.59 k allocations: 768.626 KiB)\n",
      "JDF.jl\n"
     ]
    },
    {
     "ename": "MethodError",
     "evalue": "MethodError: no method matching savejdf(::String, ::Pair{Symbol,DataFrame})\nClosest candidates are:\n  savejdf(::Any, !Matched::AbstractDataFrame; verbose) at D:\\AppData\\.julia\\packages\\JDF\\fUcJf\\src\\savejdf.jl:47",
     "output_type": "error",
     "traceback": [
      "MethodError: no method matching savejdf(::String, ::Pair{Symbol,DataFrame})\nClosest candidates are:\n  savejdf(::Any, !Matched::AbstractDataFrame; verbose) at D:\\AppData\\.julia\\packages\\JDF\\fUcJf\\src\\savejdf.jl:47",
      "",
      "Stacktrace:",
      " [1] top-level scope at util.jl:155",
      " [2] top-level scope at In[37]:30"
     ]
    }
   ],
   "source": [
    "bigdf = DataFrame(rand(Bool, 10^5, 500))\n",
    "bigdf[!, 1] = Int.(bigdf[!, 1])\n",
    "bigdf[!, 2] = bigdf[!, 2] .+ 0.5\n",
    "bigdf[!, 3] = string.(bigdf[!, 3], \", as string\")\n",
    "println(\"First run\")\n",
    "println(\"CSV.jl\")\n",
    "csvwrite1 = @elapsed @time CSV.write(\"bigdf1.csv\", bigdf)\n",
    "println(\"CSVFiles.jl\")\n",
    "csvfileswrite1 = @elapsed @time bigdf |> save(\"bigdf2.csv\")\n",
    "println(\"Serialization\")\n",
    "serializewrite1 = @elapsed @time open(io -> serialize(io, bigdf), \"bigdf.bin\", \"w\")\n",
    "println(\"JDF.jl\")\n",
    "jdfwrite1 = @elapsed @time savejdf(\"bigdf.jdf\", bigdf)\n",
    "println(\"JLSO.jl\")\n",
    "jlsowrite1 = @elapsed @time JLSO.save(\"bigdf.jlso\", :data => bigdf)\n",
    "println(\"Feather.jl\")\n",
    "featherwrite1 = @elapsed @time Feather.write(\"bigdf.feather\", bigdf)\n",
    "println(\"JSONTables.jl arraytable\")\n",
    "jsontablesawrite1 = @elapsed @time open(io -> arraytable(io, bigdf), \"bigdf1.json\", \"w\")\n",
    "println(\"JSONTables.jl objecttable\")\n",
    "jsontablesowrite1 = @elapsed @time open(io -> objecttable(io, bigdf), \"bigdf2.json\", \"w\")\n",
    "println(\"Second run\")\n",
    "println(\"CSV.jl\")\n",
    "csvwrite2 = @elapsed @time CSV.write(\"bigdf1.csv\", bigdf)\n",
    "println(\"CSVFiles.jl\")\n",
    "csvfileswrite2 = @elapsed @time bigdf |> save(\"bigdf2.csv\")\n",
    "println(\"Serialization\")\n",
    "serializewrite2 = @elapsed @time open(io -> serialize(io, bigdf), \"bigdf.bin\", \"w\")\n",
    "println(\"JDF.jl\")\n",
    "jdfwrite2 = @elapsed @time savejdf(\"bigdf.jdf\", :data => bigdf)\n",
    "println(\"JLSO.jl\")\n",
    "jlsowrite2 = @elapsed @time JLSO.save(\"bigdf.jlso\", :data => bigdf)\n",
    "println(\"Feather.jl\")\n",
    "featherwrite2 = @elapsed @time Feather.write(\"bigdf.feather\", bigdf)\n",
    "println(\"JSONTables.jl arraytable\")\n",
    "jsontablesawrite2 = @elapsed @time open(io -> arraytable(io, bigdf), \"bigdf1.json\", \"w\")\n",
    "println(\"JSONTables.jl objecttable\")\n",
    "jsontablesowrite2 = @elapsed @time open(io -> objecttable(io, bigdf), \"bigdf2.json\", \"w\")"
   ]
  },
  {
   "cell_type": "code",
   "execution_count": 38,
   "metadata": {},
   "outputs": [
    {
     "ename": "UndefVarError",
     "evalue": "UndefVarError: jdfwrite2 not defined",
     "output_type": "error",
     "traceback": [
      "UndefVarError: jdfwrite2 not defined",
      "",
      "Stacktrace:",
      " [1] top-level scope at In[38]:1"
     ]
    }
   ],
   "source": [
    "groupedbar(\n",
    "    #repeat([\"CSV.jl\", \"CSVFiles.jl\", \"Serialization\", \"JDF.jl\", \"JLSO.jl\", \"Feather.jl\", \"JSONTables.jl\\narraytable\", \"JSONTables.jl\\nobjecttable\"], inner = 2),\n",
    "    #[csvwrite1, csvwrite2, csvfileswrite1, csvfileswrite2, serializewrite1, serializewrite1, jdfwrite1, jdfwrite2, jlsowrite1, jlsowrite2, featherwrite1, featherwrite2, jsontablesawrite1, jsontablesawrite2, jsontablesowrite2, jsontablesowrite2],\n",
    "    # Exclude JSONTables.jl arraytable due to timing\n",
    "    repeat([\"CSV.jl\", \"CSVFiles.jl\", \"Serialization\", \"JDF.jl\", \"JLSO.jl\", \"Feather.jl\", \"JSONTables.jl\\nobjecttable\"],\n",
    "            inner = 2),\n",
    "    [csvwrite1, csvwrite2, csvfileswrite1, csvfileswrite2, serializewrite1, serializewrite1, jdfwrite1, jdfwrite2,\n",
    "     jlsowrite1, jlsowrite2, featherwrite1, featherwrite2, jsontablesowrite2, jsontablesowrite2],\n",
    "    group = repeat([\"1st\", \"2nd\"], outer = 7),\n",
    "    ylab = \"Second\",\n",
    "    title = \"Write Performance\\nDataFrame: bigdf\\nSize: $(size(bigdf))\"\n",
    ")"
   ]
  },
  {
   "cell_type": "code",
   "execution_count": 39,
   "metadata": {},
   "outputs": [
    {
     "data": {
      "text/html": [
       "<table class=\"data-frame\"><thead><tr><th></th><th>file</th><th>size</th></tr><tr><th></th><th>String</th><th>Int64</th></tr></thead><tbody><p>7 rows × 2 columns</p><tr><th>1</th><td>bigdf1.csv</td><td>275802352</td></tr><tr><th>2</th><td>bigdf2.csv</td><td>275803352</td></tr><tr><th>3</th><td>bigdf.bin</td><td>28214872</td></tr><tr><th>4</th><td>bigdf.feather</td><td>9797968</td></tr><tr><th>5</th><td>bigdf1.json</td><td>615199961</td></tr><tr><th>6</th><td>bigdf2.json</td><td>275804353</td></tr><tr><th>7</th><td>bigdf.jdf</td><td>26017997</td></tr></tbody></table>"
      ],
      "text/latex": [
       "\\begin{tabular}{r|cc}\n",
       "\t& file & size\\\\\n",
       "\t\\hline\n",
       "\t& String & Int64\\\\\n",
       "\t\\hline\n",
       "\t1 & bigdf1.csv & 275802352 \\\\\n",
       "\t2 & bigdf2.csv & 275803352 \\\\\n",
       "\t3 & bigdf.bin & 28214872 \\\\\n",
       "\t4 & bigdf.feather & 9797968 \\\\\n",
       "\t5 & bigdf1.json & 615199961 \\\\\n",
       "\t6 & bigdf2.json & 275804353 \\\\\n",
       "\t7 & bigdf.jdf & 26017997 \\\\\n",
       "\\end{tabular}\n"
      ],
      "text/plain": [
       "7×2 DataFrame\n",
       "│ Row │ file          │ size      │\n",
       "│     │ \u001b[90mString\u001b[39m        │ \u001b[90mInt64\u001b[39m     │\n",
       "├─────┼───────────────┼───────────┤\n",
       "│ 1   │ bigdf1.csv    │ 275802352 │\n",
       "│ 2   │ bigdf2.csv    │ 275803352 │\n",
       "│ 3   │ bigdf.bin     │ 28214872  │\n",
       "│ 4   │ bigdf.feather │ 9797968   │\n",
       "│ 5   │ bigdf1.json   │ 615199961 │\n",
       "│ 6   │ bigdf2.json   │ 275804353 │\n",
       "│ 7   │ bigdf.jdf     │ 26017997  │"
      ]
     },
     "execution_count": 39,
     "metadata": {},
     "output_type": "execute_result"
    }
   ],
   "source": [
    "data_files = [\"bigdf1.csv\", \"bigdf2.csv\", \"bigdf.bin\", \"bigdf.feather\", \"bigdf1.json\", \"bigdf2.json\"]\n",
    "df = DataFrame(file = data_files, size = getfield.(stat.(data_files), :size))\n",
    "append!(df, DataFrame(file = \"bigdf.jdf\", size=reduce((x,y)->x+y.size,\n",
    "                                                      stat.(joinpath.(\"bigdf.jdf\", readdir(\"bigdf.jdf\"))),\n",
    "                                                      init=0)))"
   ]
  },
  {
   "cell_type": "code",
   "execution_count": 40,
   "metadata": {},
   "outputs": [
    {
     "data": {
      "image/svg+xml": [
       "<?xml version=\"1.0\" encoding=\"utf-8\"?>\n",
       "<svg xmlns=\"http://www.w3.org/2000/svg\" xmlns:xlink=\"http://www.w3.org/1999/xlink\" width=\"600\" height=\"400\" viewBox=\"0 0 2400 1600\">\n",
       "<defs>\n",
       "  <clipPath id=\"clip8900\">\n",
       "    <rect x=\"0\" y=\"0\" width=\"2400\" height=\"1600\"/>\n",
       "  </clipPath>\n",
       "</defs>\n",
       "<path clip-path=\"url(#clip8900)\" d=\"\n",
       "M0 1600 L2400 1600 L2400 0 L0 0  Z\n",
       "  \" fill=\"#ffffff\" fill-rule=\"evenodd\" fill-opacity=\"1\"/>\n",
       "<defs>\n",
       "  <clipPath id=\"clip8901\">\n",
       "    <rect x=\"480\" y=\"0\" width=\"1681\" height=\"1600\"/>\n",
       "  </clipPath>\n",
       "</defs>\n",
       "<path clip-path=\"url(#clip8900)\" d=\"\n",
       "M229.135 1487.47 L2352.76 1487.47 L2352.76 121.675 L229.135 121.675  Z\n",
       "  \" fill=\"#ffffff\" fill-rule=\"evenodd\" fill-opacity=\"1\"/>\n",
       "<defs>\n",
       "  <clipPath id=\"clip8902\">\n",
       "    <rect x=\"229\" y=\"121\" width=\"2125\" height=\"1367\"/>\n",
       "  </clipPath>\n",
       "</defs>\n",
       "<polyline clip-path=\"url(#clip8902)\" style=\"stroke:#000000; stroke-width:2; stroke-opacity:0.1; fill:none\" points=\"\n",
       "  457.116,1487.47 457.116,121.675 \n",
       "  \"/>\n",
       "<polyline clip-path=\"url(#clip8902)\" style=\"stroke:#000000; stroke-width:2; stroke-opacity:0.1; fill:none\" points=\"\n",
       "  735.059,1487.47 735.059,121.675 \n",
       "  \"/>\n",
       "<polyline clip-path=\"url(#clip8902)\" style=\"stroke:#000000; stroke-width:2; stroke-opacity:0.1; fill:none\" points=\"\n",
       "  1013,1487.47 1013,121.675 \n",
       "  \"/>\n",
       "<polyline clip-path=\"url(#clip8902)\" style=\"stroke:#000000; stroke-width:2; stroke-opacity:0.1; fill:none\" points=\"\n",
       "  1290.95,1487.47 1290.95,121.675 \n",
       "  \"/>\n",
       "<polyline clip-path=\"url(#clip8902)\" style=\"stroke:#000000; stroke-width:2; stroke-opacity:0.1; fill:none\" points=\"\n",
       "  1568.89,1487.47 1568.89,121.675 \n",
       "  \"/>\n",
       "<polyline clip-path=\"url(#clip8902)\" style=\"stroke:#000000; stroke-width:2; stroke-opacity:0.1; fill:none\" points=\"\n",
       "  1846.83,1487.47 1846.83,121.675 \n",
       "  \"/>\n",
       "<polyline clip-path=\"url(#clip8902)\" style=\"stroke:#000000; stroke-width:2; stroke-opacity:0.1; fill:none\" points=\"\n",
       "  2124.78,1487.47 2124.78,121.675 \n",
       "  \"/>\n",
       "<polyline clip-path=\"url(#clip8902)\" style=\"stroke:#000000; stroke-width:2; stroke-opacity:0.1; fill:none\" points=\"\n",
       "  229.135,1448.82 2352.76,1448.82 \n",
       "  \"/>\n",
       "<polyline clip-path=\"url(#clip8902)\" style=\"stroke:#000000; stroke-width:2; stroke-opacity:0.1; fill:none\" points=\"\n",
       "  229.135,1229.2 2352.76,1229.2 \n",
       "  \"/>\n",
       "<polyline clip-path=\"url(#clip8902)\" style=\"stroke:#000000; stroke-width:2; stroke-opacity:0.1; fill:none\" points=\"\n",
       "  229.135,1009.59 2352.76,1009.59 \n",
       "  \"/>\n",
       "<polyline clip-path=\"url(#clip8902)\" style=\"stroke:#000000; stroke-width:2; stroke-opacity:0.1; fill:none\" points=\"\n",
       "  229.135,789.971 2352.76,789.971 \n",
       "  \"/>\n",
       "<polyline clip-path=\"url(#clip8902)\" style=\"stroke:#000000; stroke-width:2; stroke-opacity:0.1; fill:none\" points=\"\n",
       "  229.135,570.355 2352.76,570.355 \n",
       "  \"/>\n",
       "<polyline clip-path=\"url(#clip8902)\" style=\"stroke:#000000; stroke-width:2; stroke-opacity:0.1; fill:none\" points=\"\n",
       "  229.135,350.738 2352.76,350.738 \n",
       "  \"/>\n",
       "<polyline clip-path=\"url(#clip8902)\" style=\"stroke:#000000; stroke-width:2; stroke-opacity:0.1; fill:none\" points=\"\n",
       "  229.135,131.122 2352.76,131.122 \n",
       "  \"/>\n",
       "<polyline clip-path=\"url(#clip8900)\" style=\"stroke:#000000; stroke-width:4; stroke-opacity:1; fill:none\" points=\"\n",
       "  229.135,1487.47 2352.76,1487.47 \n",
       "  \"/>\n",
       "<polyline clip-path=\"url(#clip8900)\" style=\"stroke:#000000; stroke-width:4; stroke-opacity:1; fill:none\" points=\"\n",
       "  229.135,1487.47 229.135,121.675 \n",
       "  \"/>\n",
       "<polyline clip-path=\"url(#clip8900)\" style=\"stroke:#000000; stroke-width:4; stroke-opacity:1; fill:none\" points=\"\n",
       "  457.116,1487.47 457.116,1466.99 \n",
       "  \"/>\n",
       "<polyline clip-path=\"url(#clip8900)\" style=\"stroke:#000000; stroke-width:4; stroke-opacity:1; fill:none\" points=\"\n",
       "  735.059,1487.47 735.059,1466.99 \n",
       "  \"/>\n",
       "<polyline clip-path=\"url(#clip8900)\" style=\"stroke:#000000; stroke-width:4; stroke-opacity:1; fill:none\" points=\"\n",
       "  1013,1487.47 1013,1466.99 \n",
       "  \"/>\n",
       "<polyline clip-path=\"url(#clip8900)\" style=\"stroke:#000000; stroke-width:4; stroke-opacity:1; fill:none\" points=\"\n",
       "  1290.95,1487.47 1290.95,1466.99 \n",
       "  \"/>\n",
       "<polyline clip-path=\"url(#clip8900)\" style=\"stroke:#000000; stroke-width:4; stroke-opacity:1; fill:none\" points=\"\n",
       "  1568.89,1487.47 1568.89,1466.99 \n",
       "  \"/>\n",
       "<polyline clip-path=\"url(#clip8900)\" style=\"stroke:#000000; stroke-width:4; stroke-opacity:1; fill:none\" points=\"\n",
       "  1846.83,1487.47 1846.83,1466.99 \n",
       "  \"/>\n",
       "<polyline clip-path=\"url(#clip8900)\" style=\"stroke:#000000; stroke-width:4; stroke-opacity:1; fill:none\" points=\"\n",
       "  2124.78,1487.47 2124.78,1466.99 \n",
       "  \"/>\n",
       "<polyline clip-path=\"url(#clip8900)\" style=\"stroke:#000000; stroke-width:4; stroke-opacity:1; fill:none\" points=\"\n",
       "  229.135,1448.82 260.99,1448.82 \n",
       "  \"/>\n",
       "<polyline clip-path=\"url(#clip8900)\" style=\"stroke:#000000; stroke-width:4; stroke-opacity:1; fill:none\" points=\"\n",
       "  229.135,1229.2 260.99,1229.2 \n",
       "  \"/>\n",
       "<polyline clip-path=\"url(#clip8900)\" style=\"stroke:#000000; stroke-width:4; stroke-opacity:1; fill:none\" points=\"\n",
       "  229.135,1009.59 260.99,1009.59 \n",
       "  \"/>\n",
       "<polyline clip-path=\"url(#clip8900)\" style=\"stroke:#000000; stroke-width:4; stroke-opacity:1; fill:none\" points=\"\n",
       "  229.135,789.971 260.99,789.971 \n",
       "  \"/>\n",
       "<polyline clip-path=\"url(#clip8900)\" style=\"stroke:#000000; stroke-width:4; stroke-opacity:1; fill:none\" points=\"\n",
       "  229.135,570.355 260.99,570.355 \n",
       "  \"/>\n",
       "<polyline clip-path=\"url(#clip8900)\" style=\"stroke:#000000; stroke-width:4; stroke-opacity:1; fill:none\" points=\"\n",
       "  229.135,350.738 260.99,350.738 \n",
       "  \"/>\n",
       "<polyline clip-path=\"url(#clip8900)\" style=\"stroke:#000000; stroke-width:4; stroke-opacity:1; fill:none\" points=\"\n",
       "  229.135,131.122 260.99,131.122 \n",
       "  \"/>\n",
       "<g clip-path=\"url(#clip8900)\">\n",
       "<text style=\"fill:#000000; fill-opacity:1; font-family:Arial,Helvetica Neue,Helvetica,sans-serif; font-size:48px; text-anchor:middle;\" transform=\"rotate(0, 457.116, 1541.47)\" x=\"457.116\" y=\"1541.47\">bigdf1.csv</text>\n",
       "</g>\n",
       "<g clip-path=\"url(#clip8900)\">\n",
       "<text style=\"fill:#000000; fill-opacity:1; font-family:Arial,Helvetica Neue,Helvetica,sans-serif; font-size:48px; text-anchor:middle;\" transform=\"rotate(0, 735.059, 1541.47)\" x=\"735.059\" y=\"1541.47\">bigdf2.csv</text>\n",
       "</g>\n",
       "<g clip-path=\"url(#clip8900)\">\n",
       "<text style=\"fill:#000000; fill-opacity:1; font-family:Arial,Helvetica Neue,Helvetica,sans-serif; font-size:48px; text-anchor:middle;\" transform=\"rotate(0, 1013, 1541.47)\" x=\"1013\" y=\"1541.47\">bigdf.bin</text>\n",
       "</g>\n",
       "<g clip-path=\"url(#clip8900)\">\n",
       "<text style=\"fill:#000000; fill-opacity:1; font-family:Arial,Helvetica Neue,Helvetica,sans-serif; font-size:48px; text-anchor:middle;\" transform=\"rotate(0, 1290.95, 1541.47)\" x=\"1290.95\" y=\"1541.47\">bigdf.feather</text>\n",
       "</g>\n",
       "<g clip-path=\"url(#clip8900)\">\n",
       "<text style=\"fill:#000000; fill-opacity:1; font-family:Arial,Helvetica Neue,Helvetica,sans-serif; font-size:48px; text-anchor:middle;\" transform=\"rotate(0, 1568.89, 1541.47)\" x=\"1568.89\" y=\"1541.47\">bigdf1.json</text>\n",
       "</g>\n",
       "<g clip-path=\"url(#clip8900)\">\n",
       "<text style=\"fill:#000000; fill-opacity:1; font-family:Arial,Helvetica Neue,Helvetica,sans-serif; font-size:48px; text-anchor:middle;\" transform=\"rotate(0, 1846.83, 1541.47)\" x=\"1846.83\" y=\"1541.47\">bigdf2.json</text>\n",
       "</g>\n",
       "<g clip-path=\"url(#clip8900)\">\n",
       "<text style=\"fill:#000000; fill-opacity:1; font-family:Arial,Helvetica Neue,Helvetica,sans-serif; font-size:48px; text-anchor:middle;\" transform=\"rotate(0, 2124.78, 1541.47)\" x=\"2124.78\" y=\"1541.47\">bigdf.jdf</text>\n",
       "</g>\n",
       "<g clip-path=\"url(#clip8900)\">\n",
       "<text style=\"fill:#000000; fill-opacity:1; font-family:Arial,Helvetica Neue,Helvetica,sans-serif; font-size:48px; text-anchor:end;\" transform=\"rotate(0, 205.135, 1466.32)\" x=\"205.135\" y=\"1466.32\">0</text>\n",
       "</g>\n",
       "<g clip-path=\"url(#clip8900)\">\n",
       "<text style=\"fill:#000000; fill-opacity:1; font-family:Arial,Helvetica Neue,Helvetica,sans-serif; font-size:48px; text-anchor:end;\" transform=\"rotate(0, 205.135, 1246.7)\" x=\"205.135\" y=\"1246.7\">100</text>\n",
       "</g>\n",
       "<g clip-path=\"url(#clip8900)\">\n",
       "<text style=\"fill:#000000; fill-opacity:1; font-family:Arial,Helvetica Neue,Helvetica,sans-serif; font-size:48px; text-anchor:end;\" transform=\"rotate(0, 205.135, 1027.09)\" x=\"205.135\" y=\"1027.09\">200</text>\n",
       "</g>\n",
       "<g clip-path=\"url(#clip8900)\">\n",
       "<text style=\"fill:#000000; fill-opacity:1; font-family:Arial,Helvetica Neue,Helvetica,sans-serif; font-size:48px; text-anchor:end;\" transform=\"rotate(0, 205.135, 807.471)\" x=\"205.135\" y=\"807.471\">300</text>\n",
       "</g>\n",
       "<g clip-path=\"url(#clip8900)\">\n",
       "<text style=\"fill:#000000; fill-opacity:1; font-family:Arial,Helvetica Neue,Helvetica,sans-serif; font-size:48px; text-anchor:end;\" transform=\"rotate(0, 205.135, 587.855)\" x=\"205.135\" y=\"587.855\">400</text>\n",
       "</g>\n",
       "<g clip-path=\"url(#clip8900)\">\n",
       "<text style=\"fill:#000000; fill-opacity:1; font-family:Arial,Helvetica Neue,Helvetica,sans-serif; font-size:48px; text-anchor:end;\" transform=\"rotate(0, 205.135, 368.238)\" x=\"205.135\" y=\"368.238\">500</text>\n",
       "</g>\n",
       "<g clip-path=\"url(#clip8900)\">\n",
       "<text style=\"fill:#000000; fill-opacity:1; font-family:Arial,Helvetica Neue,Helvetica,sans-serif; font-size:48px; text-anchor:end;\" transform=\"rotate(0, 205.135, 148.622)\" x=\"205.135\" y=\"148.622\">600</text>\n",
       "</g>\n",
       "<g clip-path=\"url(#clip8900)\">\n",
       "<text style=\"fill:#000000; fill-opacity:1; font-family:Arial,Helvetica Neue,Helvetica,sans-serif; font-size:84px; text-anchor:middle;\" transform=\"rotate(0, 1290.95, 73.2)\" x=\"1290.95\" y=\"73.2\">Format File Size (MB)</text>\n",
       "</g>\n",
       "<g clip-path=\"url(#clip8900)\">\n",
       "<text style=\"fill:#000000; fill-opacity:1; font-family:Arial,Helvetica Neue,Helvetica,sans-serif; font-size:66px; text-anchor:middle;\" transform=\"rotate(-90, 89.2861, 804.575)\" x=\"89.2861\" y=\"804.575\">MB</text>\n",
       "</g>\n",
       "<path clip-path=\"url(#clip8902)\" d=\"\n",
       "M345.938 871.173 L345.938 1448.82 L568.293 1448.82 L568.293 871.173 L345.938 871.173 L345.938 871.173  Z\n",
       "  \" fill=\"#009af9\" fill-rule=\"evenodd\" fill-opacity=\"1\"/>\n",
       "<polyline clip-path=\"url(#clip8902)\" style=\"stroke:#000000; stroke-width:4; stroke-opacity:1; fill:none\" points=\"\n",
       "  345.938,871.173 345.938,1448.82 568.293,1448.82 568.293,871.173 345.938,871.173 \n",
       "  \"/>\n",
       "<path clip-path=\"url(#clip8902)\" d=\"\n",
       "M623.882 871.171 L623.882 1448.82 L846.236 1448.82 L846.236 871.171 L623.882 871.171 L623.882 871.171  Z\n",
       "  \" fill=\"#009af9\" fill-rule=\"evenodd\" fill-opacity=\"1\"/>\n",
       "<polyline clip-path=\"url(#clip8902)\" style=\"stroke:#000000; stroke-width:4; stroke-opacity:1; fill:none\" points=\"\n",
       "  623.882,871.171 623.882,1448.82 846.236,1448.82 846.236,871.171 623.882,871.171 \n",
       "  \"/>\n",
       "<path clip-path=\"url(#clip8902)\" d=\"\n",
       "M901.825 1389.73 L901.825 1448.82 L1124.18 1448.82 L1124.18 1389.73 L901.825 1389.73 L901.825 1389.73  Z\n",
       "  \" fill=\"#009af9\" fill-rule=\"evenodd\" fill-opacity=\"1\"/>\n",
       "<polyline clip-path=\"url(#clip8902)\" style=\"stroke:#000000; stroke-width:4; stroke-opacity:1; fill:none\" points=\"\n",
       "  901.825,1389.73 901.825,1448.82 1124.18,1448.82 1124.18,1389.73 901.825,1389.73 \n",
       "  \"/>\n",
       "<path clip-path=\"url(#clip8902)\" d=\"\n",
       "M1179.77 1428.3 L1179.77 1448.82 L1402.12 1448.82 L1402.12 1428.3 L1179.77 1428.3 L1179.77 1428.3  Z\n",
       "  \" fill=\"#009af9\" fill-rule=\"evenodd\" fill-opacity=\"1\"/>\n",
       "<polyline clip-path=\"url(#clip8902)\" style=\"stroke:#000000; stroke-width:4; stroke-opacity:1; fill:none\" points=\"\n",
       "  1179.77,1428.3 1179.77,1448.82 1402.12,1448.82 1402.12,1428.3 1179.77,1428.3 \n",
       "  \"/>\n",
       "<path clip-path=\"url(#clip8902)\" d=\"\n",
       "M1457.71 160.33 L1457.71 1448.82 L1680.07 1448.82 L1680.07 160.33 L1457.71 160.33 L1457.71 160.33  Z\n",
       "  \" fill=\"#009af9\" fill-rule=\"evenodd\" fill-opacity=\"1\"/>\n",
       "<polyline clip-path=\"url(#clip8902)\" style=\"stroke:#000000; stroke-width:4; stroke-opacity:1; fill:none\" points=\"\n",
       "  1457.71,160.33 1457.71,1448.82 1680.07,1448.82 1680.07,160.33 1457.71,160.33 \n",
       "  \"/>\n",
       "<path clip-path=\"url(#clip8902)\" d=\"\n",
       "M1735.65 871.168 L1735.65 1448.82 L1958.01 1448.82 L1958.01 871.168 L1735.65 871.168 L1735.65 871.168  Z\n",
       "  \" fill=\"#009af9\" fill-rule=\"evenodd\" fill-opacity=\"1\"/>\n",
       "<polyline clip-path=\"url(#clip8902)\" style=\"stroke:#000000; stroke-width:4; stroke-opacity:1; fill:none\" points=\"\n",
       "  1735.65,871.168 1735.65,1448.82 1958.01,1448.82 1958.01,871.168 1735.65,871.168 \n",
       "  \"/>\n",
       "<path clip-path=\"url(#clip8902)\" d=\"\n",
       "M2013.6 1394.33 L2013.6 1448.82 L2235.95 1448.82 L2235.95 1394.33 L2013.6 1394.33 L2013.6 1394.33  Z\n",
       "  \" fill=\"#009af9\" fill-rule=\"evenodd\" fill-opacity=\"1\"/>\n",
       "<polyline clip-path=\"url(#clip8902)\" style=\"stroke:#000000; stroke-width:4; stroke-opacity:1; fill:none\" points=\"\n",
       "  2013.6,1394.33 2013.6,1448.82 2235.95,1448.82 2235.95,1394.33 2013.6,1394.33 \n",
       "  \"/>\n",
       "<path clip-path=\"url(#clip8900)\" d=\"\n",
       "M1947.14 326.155 L2280.76 326.155 L2280.76 205.195 L1947.14 205.195  Z\n",
       "  \" fill=\"#ffffff\" fill-rule=\"evenodd\" fill-opacity=\"1\"/>\n",
       "<polyline clip-path=\"url(#clip8900)\" style=\"stroke:#000000; stroke-width:4; stroke-opacity:1; fill:none\" points=\"\n",
       "  1947.14,326.155 2280.76,326.155 2280.76,205.195 1947.14,205.195 1947.14,326.155 \n",
       "  \"/>\n",
       "<path clip-path=\"url(#clip8900)\" d=\"\n",
       "M1971.14 289.867 L2115.14 289.867 L2115.14 241.483 L1971.14 241.483 L1971.14 289.867  Z\n",
       "  \" fill=\"#009af9\" fill-rule=\"evenodd\" fill-opacity=\"1\"/>\n",
       "<polyline clip-path=\"url(#clip8900)\" style=\"stroke:#000000; stroke-width:4; stroke-opacity:1; fill:none\" points=\"\n",
       "  1971.14,289.867 2115.14,289.867 2115.14,241.483 1971.14,241.483 1971.14,289.867 \n",
       "  \"/>\n",
       "<g clip-path=\"url(#clip8900)\">\n",
       "<text style=\"fill:#000000; fill-opacity:1; font-family:Arial,Helvetica Neue,Helvetica,sans-serif; font-size:48px; text-anchor:start;\" transform=\"rotate(0, 2139.14, 283.175)\" x=\"2139.14\" y=\"283.175\">Size</text>\n",
       "</g>\n",
       "</svg>\n"
      ]
     },
     "execution_count": 40,
     "metadata": {},
     "output_type": "execute_result"
    }
   ],
   "source": [
    "@df df plot(:file, :size/1024^2, seriestype=:bar, title = \"Format File Size (MB)\", label=\"Size\", ylab=\"MB\")"
   ]
  },
  {
   "cell_type": "code",
   "execution_count": 41,
   "metadata": {},
   "outputs": [
    {
     "name": "stdout",
     "output_type": "stream",
     "text": [
      "First run\n",
      "CSV.jl\n",
      "  2.025796 seconds (537.33 k allocations: 27.479 MiB)\n",
      "CSVFiles.jl\n",
      "  disabled due to time-out\n",
      "Serialization\n",
      "  2.490856 seconds (49.67 M allocations: 811.173 MiB, 5.40% gc time)\n",
      "JDF.jl\n",
      "  0.716007 seconds (187.94 k allocations: 156.149 MiB, 10.29% gc time)\n",
      "JLSO.jl\n",
      "  1.887250 seconds (49.68 M allocations: 820.099 MiB, 6.98% gc time)\n",
      "Feather.jl\n",
      "  0.470009 seconds (758.09 k allocations: 144.522 MiB)\n",
      "JSONTables.jl arraytable\n",
      "  2.744032 seconds (35 allocations: 586.702 MiB, 1.74% gc time)\n",
      "JSONTables.jl objecttable\n",
      "  1.629543 seconds (2.95 k allocations: 263.201 MiB)\n",
      "Second run\n",
      "  1.881853 seconds (9.69 k allocations: 527.898 KiB)\n",
      "CSVFiles.jl\n",
      "  disabled due to time-out\n",
      "Serialization\n",
      "  2.882009 seconds (49.65 M allocations: 810.173 MiB, 3.74% gc time)\n",
      "JDF.jl\n",
      "  0.664859 seconds (33.12 k allocations: 148.740 MiB, 18.36% gc time)\n",
      "JLSO.jl\n",
      "  1.865267 seconds (49.67 M allocations: 819.527 MiB, 7.05% gc time)\n",
      "Feather.jl\n",
      "  0.198884 seconds (228.86 k allocations: 116.945 MiB)\n",
      "JSONTables.jl arraytable\n",
      "  2.728584 seconds (35 allocations: 586.702 MiB, 1.22% gc time)\n",
      "JSONTables.jl objecttable\n",
      "  1.620237 seconds (48 allocations: 263.030 MiB)\n"
     ]
    }
   ],
   "source": [
    "println(\"First run\")\n",
    "println(\"CSV.jl\")\n",
    "csvread1 = @elapsed @time CSV.read(\"bigdf1.csv\")\n",
    "println(\"CSVFiles.jl\")\n",
    "println(\"  disabled due to time-out\")\n",
    "# @time load(\"bigdf2.csv\") |> DataFrame\n",
    "println(\"Serialization\")\n",
    "serializeread1 = @elapsed @time open(deserialize, \"bigdf.bin\")\n",
    "println(\"JDF.jl\")\n",
    "jdfread1 = @elapsed @time loadjdf(\"bigdf.jdf\")\n",
    "println(\"JLSO.jl\")\n",
    "jlsoread1 = @elapsed @time JLSO.load(\"bigdf.jlso\")\n",
    "println(\"Feather.jl\")\n",
    "featherread1 = @elapsed @time Feather.materialize(\"bigdf.feather\")\n",
    "println(\"JSONTables.jl arraytable\")\n",
    "jsontablesaread1 = @elapsed @time open(jsontable, \"bigdf1.json\")\n",
    "println(\"JSONTables.jl objecttable\")\n",
    "jsontablesoread1 = @elapsed @time open(jsontable, \"bigdf2.json\")\n",
    "println(\"Second run\")\n",
    "csvread2 = @elapsed @time CSV.read(\"bigdf1.csv\")\n",
    "println(\"CSVFiles.jl\")\n",
    "println(\"  disabled due to time-out\")\n",
    "# @time load(\"bigdf2.csv\") |> DataFrame\n",
    "println(\"Serialization\")\n",
    "serializeread2 = @elapsed @time open(deserialize, \"bigdf.bin\")\n",
    "println(\"JDF.jl\")\n",
    "jdfread2 = @elapsed @time loadjdf(\"bigdf.jdf\")\n",
    "println(\"JLSO.jl\")\n",
    "jlsoread2 = @elapsed @time JLSO.load(\"bigdf.jlso\")\n",
    "println(\"Feather.jl\")\n",
    "featherread2 = @elapsed @time Feather.materialize(\"bigdf.feather\")\n",
    "println(\"JSONTables.jl arraytable\")\n",
    "jsontablesaread2 = @elapsed @time open(jsontable, \"bigdf1.json\")\n",
    "println(\"JSONTables.jl objecttable\")\n",
    "jsontablesoread2 = @elapsed @time open(jsontable, \"bigdf2.json\");"
   ]
  },
  {
   "cell_type": "code",
   "execution_count": 42,
   "metadata": {},
   "outputs": [
    {
     "data": {
      "image/svg+xml": [
       "<?xml version=\"1.0\" encoding=\"utf-8\"?>\n",
       "<svg xmlns=\"http://www.w3.org/2000/svg\" xmlns:xlink=\"http://www.w3.org/1999/xlink\" width=\"600\" height=\"400\" viewBox=\"0 0 2400 1600\">\n",
       "<defs>\n",
       "  <clipPath id=\"clip9300\">\n",
       "    <rect x=\"0\" y=\"0\" width=\"2400\" height=\"1600\"/>\n",
       "  </clipPath>\n",
       "</defs>\n",
       "<path clip-path=\"url(#clip9300)\" d=\"\n",
       "M0 1600 L2400 1600 L2400 0 L0 0  Z\n",
       "  \" fill=\"#ffffff\" fill-rule=\"evenodd\" fill-opacity=\"1\"/>\n",
       "<defs>\n",
       "  <clipPath id=\"clip9301\">\n",
       "    <rect x=\"480\" y=\"0\" width=\"1681\" height=\"1600\"/>\n",
       "  </clipPath>\n",
       "</defs>\n",
       "<path clip-path=\"url(#clip9300)\" d=\"\n",
       "M215.754 1451.89 L2352.76 1451.89 L2352.76 244.432 L215.754 244.432  Z\n",
       "  \" fill=\"#ffffff\" fill-rule=\"evenodd\" fill-opacity=\"1\"/>\n",
       "<defs>\n",
       "  <clipPath id=\"clip9302\">\n",
       "    <rect x=\"215\" y=\"244\" width=\"2138\" height=\"1208\"/>\n",
       "  </clipPath>\n",
       "</defs>\n",
       "<polyline clip-path=\"url(#clip9302)\" style=\"stroke:#000000; stroke-width:2; stroke-opacity:0.1; fill:none\" points=\"\n",
       "  442.368,1451.89 442.368,244.432 \n",
       "  \"/>\n",
       "<polyline clip-path=\"url(#clip9302)\" style=\"stroke:#000000; stroke-width:2; stroke-opacity:0.1; fill:none\" points=\"\n",
       "  722.997,1451.89 722.997,244.432 \n",
       "  \"/>\n",
       "<polyline clip-path=\"url(#clip9302)\" style=\"stroke:#000000; stroke-width:2; stroke-opacity:0.1; fill:none\" points=\"\n",
       "  1003.63,1451.89 1003.63,244.432 \n",
       "  \"/>\n",
       "<polyline clip-path=\"url(#clip9302)\" style=\"stroke:#000000; stroke-width:2; stroke-opacity:0.1; fill:none\" points=\"\n",
       "  1284.25,1451.89 1284.25,244.432 \n",
       "  \"/>\n",
       "<polyline clip-path=\"url(#clip9302)\" style=\"stroke:#000000; stroke-width:2; stroke-opacity:0.1; fill:none\" points=\"\n",
       "  1564.88,1451.89 1564.88,244.432 \n",
       "  \"/>\n",
       "<polyline clip-path=\"url(#clip9302)\" style=\"stroke:#000000; stroke-width:2; stroke-opacity:0.1; fill:none\" points=\"\n",
       "  1845.51,1451.89 1845.51,244.432 \n",
       "  \"/>\n",
       "<polyline clip-path=\"url(#clip9302)\" style=\"stroke:#000000; stroke-width:2; stroke-opacity:0.1; fill:none\" points=\"\n",
       "  2126.14,1451.89 2126.14,244.432 \n",
       "  \"/>\n",
       "<polyline clip-path=\"url(#clip9302)\" style=\"stroke:#000000; stroke-width:2; stroke-opacity:0.1; fill:none\" points=\"\n",
       "  215.754,1417.71 2352.76,1417.71 \n",
       "  \"/>\n",
       "<polyline clip-path=\"url(#clip9302)\" style=\"stroke:#000000; stroke-width:2; stroke-opacity:0.1; fill:none\" points=\"\n",
       "  215.754,1211.57 2352.76,1211.57 \n",
       "  \"/>\n",
       "<polyline clip-path=\"url(#clip9302)\" style=\"stroke:#000000; stroke-width:2; stroke-opacity:0.1; fill:none\" points=\"\n",
       "  215.754,1005.42 2352.76,1005.42 \n",
       "  \"/>\n",
       "<polyline clip-path=\"url(#clip9302)\" style=\"stroke:#000000; stroke-width:2; stroke-opacity:0.1; fill:none\" points=\"\n",
       "  215.754,799.274 2352.76,799.274 \n",
       "  \"/>\n",
       "<polyline clip-path=\"url(#clip9302)\" style=\"stroke:#000000; stroke-width:2; stroke-opacity:0.1; fill:none\" points=\"\n",
       "  215.754,593.127 2352.76,593.127 \n",
       "  \"/>\n",
       "<polyline clip-path=\"url(#clip9302)\" style=\"stroke:#000000; stroke-width:2; stroke-opacity:0.1; fill:none\" points=\"\n",
       "  215.754,386.98 2352.76,386.98 \n",
       "  \"/>\n",
       "<polyline clip-path=\"url(#clip9300)\" style=\"stroke:#000000; stroke-width:4; stroke-opacity:1; fill:none\" points=\"\n",
       "  215.754,1451.89 2352.76,1451.89 \n",
       "  \"/>\n",
       "<polyline clip-path=\"url(#clip9300)\" style=\"stroke:#000000; stroke-width:4; stroke-opacity:1; fill:none\" points=\"\n",
       "  215.754,1451.89 215.754,244.432 \n",
       "  \"/>\n",
       "<polyline clip-path=\"url(#clip9300)\" style=\"stroke:#000000; stroke-width:4; stroke-opacity:1; fill:none\" points=\"\n",
       "  442.368,1451.89 442.368,1433.78 \n",
       "  \"/>\n",
       "<polyline clip-path=\"url(#clip9300)\" style=\"stroke:#000000; stroke-width:4; stroke-opacity:1; fill:none\" points=\"\n",
       "  722.997,1451.89 722.997,1433.78 \n",
       "  \"/>\n",
       "<polyline clip-path=\"url(#clip9300)\" style=\"stroke:#000000; stroke-width:4; stroke-opacity:1; fill:none\" points=\"\n",
       "  1003.63,1451.89 1003.63,1433.78 \n",
       "  \"/>\n",
       "<polyline clip-path=\"url(#clip9300)\" style=\"stroke:#000000; stroke-width:4; stroke-opacity:1; fill:none\" points=\"\n",
       "  1284.25,1451.89 1284.25,1433.78 \n",
       "  \"/>\n",
       "<polyline clip-path=\"url(#clip9300)\" style=\"stroke:#000000; stroke-width:4; stroke-opacity:1; fill:none\" points=\"\n",
       "  1564.88,1451.89 1564.88,1433.78 \n",
       "  \"/>\n",
       "<polyline clip-path=\"url(#clip9300)\" style=\"stroke:#000000; stroke-width:4; stroke-opacity:1; fill:none\" points=\"\n",
       "  1845.51,1451.89 1845.51,1433.78 \n",
       "  \"/>\n",
       "<polyline clip-path=\"url(#clip9300)\" style=\"stroke:#000000; stroke-width:4; stroke-opacity:1; fill:none\" points=\"\n",
       "  2126.14,1451.89 2126.14,1433.78 \n",
       "  \"/>\n",
       "<polyline clip-path=\"url(#clip9300)\" style=\"stroke:#000000; stroke-width:4; stroke-opacity:1; fill:none\" points=\"\n",
       "  215.754,1417.71 247.809,1417.71 \n",
       "  \"/>\n",
       "<polyline clip-path=\"url(#clip9300)\" style=\"stroke:#000000; stroke-width:4; stroke-opacity:1; fill:none\" points=\"\n",
       "  215.754,1211.57 247.809,1211.57 \n",
       "  \"/>\n",
       "<polyline clip-path=\"url(#clip9300)\" style=\"stroke:#000000; stroke-width:4; stroke-opacity:1; fill:none\" points=\"\n",
       "  215.754,1005.42 247.809,1005.42 \n",
       "  \"/>\n",
       "<polyline clip-path=\"url(#clip9300)\" style=\"stroke:#000000; stroke-width:4; stroke-opacity:1; fill:none\" points=\"\n",
       "  215.754,799.274 247.809,799.274 \n",
       "  \"/>\n",
       "<polyline clip-path=\"url(#clip9300)\" style=\"stroke:#000000; stroke-width:4; stroke-opacity:1; fill:none\" points=\"\n",
       "  215.754,593.127 247.809,593.127 \n",
       "  \"/>\n",
       "<polyline clip-path=\"url(#clip9300)\" style=\"stroke:#000000; stroke-width:4; stroke-opacity:1; fill:none\" points=\"\n",
       "  215.754,386.98 247.809,386.98 \n",
       "  \"/>\n",
       "<g clip-path=\"url(#clip9300)\">\n",
       "<text style=\"fill:#000000; fill-opacity:1; font-family:Arial,Helvetica Neue,Helvetica,sans-serif; font-size:48px; text-anchor:middle;\" transform=\"rotate(0, 442.368, 1505.89)\" x=\"442.368\" y=\"1505.89\">CSV.jl</text>\n",
       "</g>\n",
       "<g clip-path=\"url(#clip9300)\">\n",
       "<text style=\"fill:#000000; fill-opacity:1; font-family:Arial,Helvetica Neue,Helvetica,sans-serif; font-size:48px; text-anchor:middle;\" transform=\"rotate(0, 722.997, 1505.89)\" x=\"722.997\" y=\"1505.89\">Feather.jl</text>\n",
       "</g>\n",
       "<g clip-path=\"url(#clip9300)\">\n",
       "<text style=\"fill:#000000; fill-opacity:1; font-family:Arial,Helvetica Neue,Helvetica,sans-serif; font-size:48px; text-anchor:middle;\" transform=\"rotate(0, 1003.63, 1505.89)\" x=\"1003.63\" y=\"1505.89\">JDF.jl</text>\n",
       "</g>\n",
       "<g clip-path=\"url(#clip9300)\">\n",
       "<text style=\"fill:#000000; fill-opacity:1; font-family:Arial,Helvetica Neue,Helvetica,sans-serif; font-size:48px; text-anchor:middle;\" transform=\"rotate(0, 1284.25, 1505.89)\" x=\"1284.25\" y=\"1505.89\">JLSO.jl</text>\n",
       "</g>\n",
       "<g clip-path=\"url(#clip9300)\">\n",
       "<text style=\"fill:#000000; fill-opacity:1; font-family:Arial,Helvetica Neue,Helvetica,sans-serif; font-size:48px; text-anchor:middle;\" transform=\"rotate(0, 1564.88, 1505.89)\" x=\"1564.88\" y=\"1505.89\">JSONTables.jl</text>\n",
       "</g>\n",
       "<g clip-path=\"url(#clip9300)\">\n",
       "<text style=\"fill:#000000; fill-opacity:1; font-family:Arial,Helvetica Neue,Helvetica,sans-serif; font-size:48px; text-anchor:middle;\" transform=\"rotate(0, 1564.88, 1557.73)\" x=\"1564.88\" y=\"1557.73\">arraytable</text>\n",
       "</g>\n",
       "<g clip-path=\"url(#clip9300)\">\n",
       "<text style=\"fill:#000000; fill-opacity:1; font-family:Arial,Helvetica Neue,Helvetica,sans-serif; font-size:48px; text-anchor:middle;\" transform=\"rotate(0, 1845.51, 1505.89)\" x=\"1845.51\" y=\"1505.89\">JSONTables.jl</text>\n",
       "</g>\n",
       "<g clip-path=\"url(#clip9300)\">\n",
       "<text style=\"fill:#000000; fill-opacity:1; font-family:Arial,Helvetica Neue,Helvetica,sans-serif; font-size:48px; text-anchor:middle;\" transform=\"rotate(0, 1845.51, 1557.73)\" x=\"1845.51\" y=\"1557.73\">objecttable</text>\n",
       "</g>\n",
       "<g clip-path=\"url(#clip9300)\">\n",
       "<text style=\"fill:#000000; fill-opacity:1; font-family:Arial,Helvetica Neue,Helvetica,sans-serif; font-size:48px; text-anchor:middle;\" transform=\"rotate(0, 2126.14, 1505.89)\" x=\"2126.14\" y=\"1505.89\">Serialization</text>\n",
       "</g>\n",
       "<g clip-path=\"url(#clip9300)\">\n",
       "<text style=\"fill:#000000; fill-opacity:1; font-family:Arial,Helvetica Neue,Helvetica,sans-serif; font-size:48px; text-anchor:end;\" transform=\"rotate(0, 191.754, 1435.21)\" x=\"191.754\" y=\"1435.21\">0.0</text>\n",
       "</g>\n",
       "<g clip-path=\"url(#clip9300)\">\n",
       "<text style=\"fill:#000000; fill-opacity:1; font-family:Arial,Helvetica Neue,Helvetica,sans-serif; font-size:48px; text-anchor:end;\" transform=\"rotate(0, 191.754, 1229.07)\" x=\"191.754\" y=\"1229.07\">0.5</text>\n",
       "</g>\n",
       "<g clip-path=\"url(#clip9300)\">\n",
       "<text style=\"fill:#000000; fill-opacity:1; font-family:Arial,Helvetica Neue,Helvetica,sans-serif; font-size:48px; text-anchor:end;\" transform=\"rotate(0, 191.754, 1022.92)\" x=\"191.754\" y=\"1022.92\">1.0</text>\n",
       "</g>\n",
       "<g clip-path=\"url(#clip9300)\">\n",
       "<text style=\"fill:#000000; fill-opacity:1; font-family:Arial,Helvetica Neue,Helvetica,sans-serif; font-size:48px; text-anchor:end;\" transform=\"rotate(0, 191.754, 816.774)\" x=\"191.754\" y=\"816.774\">1.5</text>\n",
       "</g>\n",
       "<g clip-path=\"url(#clip9300)\">\n",
       "<text style=\"fill:#000000; fill-opacity:1; font-family:Arial,Helvetica Neue,Helvetica,sans-serif; font-size:48px; text-anchor:end;\" transform=\"rotate(0, 191.754, 610.627)\" x=\"191.754\" y=\"610.627\">2.0</text>\n",
       "</g>\n",
       "<g clip-path=\"url(#clip9300)\">\n",
       "<text style=\"fill:#000000; fill-opacity:1; font-family:Arial,Helvetica Neue,Helvetica,sans-serif; font-size:48px; text-anchor:end;\" transform=\"rotate(0, 191.754, 404.48)\" x=\"191.754\" y=\"404.48\">2.5</text>\n",
       "</g>\n",
       "<g clip-path=\"url(#clip9300)\">\n",
       "<text style=\"fill:#000000; fill-opacity:1; font-family:Arial,Helvetica Neue,Helvetica,sans-serif; font-size:84px; text-anchor:middle;\" transform=\"rotate(0, 1284.25, 73.2)\" x=\"1284.25\" y=\"73.2\">Read Performance</text>\n",
       "</g>\n",
       "<g clip-path=\"url(#clip9300)\">\n",
       "<text style=\"fill:#000000; fill-opacity:1; font-family:Arial,Helvetica Neue,Helvetica,sans-serif; font-size:84px; text-anchor:middle;\" transform=\"rotate(0, 1284.25, 163.92)\" x=\"1284.25\" y=\"163.92\">DataFrame: bigdf</text>\n",
       "</g>\n",
       "<g clip-path=\"url(#clip9300)\">\n",
       "<text style=\"fill:#000000; fill-opacity:1; font-family:Arial,Helvetica Neue,Helvetica,sans-serif; font-size:84px; text-anchor:middle;\" transform=\"rotate(0, 1284.25, 254.64)\" x=\"1284.25\" y=\"254.64\">Size: (100000, 500)</text>\n",
       "</g>\n",
       "<g clip-path=\"url(#clip9300)\">\n",
       "<text style=\"fill:#000000; fill-opacity:1; font-family:Arial,Helvetica Neue,Helvetica,sans-serif; font-size:66px; text-anchor:middle;\" transform=\"rotate(-90, 89.2861, 848.16)\" x=\"89.2861\" y=\"848.16\">Second</text>\n",
       "</g>\n",
       "<path clip-path=\"url(#clip9302)\" d=\"\n",
       "M330.116 581.775 L330.116 1417.71 L442.368 1417.71 L442.368 581.775 L330.116 581.775 L330.116 581.775  Z\n",
       "  \" fill=\"#009af9\" fill-rule=\"evenodd\" fill-opacity=\"1\"/>\n",
       "<polyline clip-path=\"url(#clip9302)\" style=\"stroke:#000000; stroke-width:4; stroke-opacity:1; fill:none\" points=\"\n",
       "  330.116,581.775 330.116,1417.71 442.368,1417.71 442.368,581.775 330.116,581.775 \n",
       "  \"/>\n",
       "<path clip-path=\"url(#clip9302)\" d=\"\n",
       "M610.745 1218.97 L610.745 1417.71 L722.997 1417.71 L722.997 1218.97 L610.745 1218.97 L610.745 1218.97  Z\n",
       "  \" fill=\"#009af9\" fill-rule=\"evenodd\" fill-opacity=\"1\"/>\n",
       "<polyline clip-path=\"url(#clip9302)\" style=\"stroke:#000000; stroke-width:4; stroke-opacity:1; fill:none\" points=\"\n",
       "  610.745,1218.97 610.745,1417.71 722.997,1417.71 722.997,1218.97 610.745,1218.97 \n",
       "  \"/>\n",
       "<path clip-path=\"url(#clip9302)\" d=\"\n",
       "M891.374 1121.85 L891.374 1417.71 L1003.63 1417.71 L1003.63 1121.85 L891.374 1121.85 L891.374 1121.85  Z\n",
       "  \" fill=\"#009af9\" fill-rule=\"evenodd\" fill-opacity=\"1\"/>\n",
       "<polyline clip-path=\"url(#clip9302)\" style=\"stroke:#000000; stroke-width:4; stroke-opacity:1; fill:none\" points=\"\n",
       "  891.374,1121.85 891.374,1417.71 1003.63,1417.71 1003.63,1121.85 891.374,1121.85 \n",
       "  \"/>\n",
       "<path clip-path=\"url(#clip9302)\" d=\"\n",
       "M1172 627.286 L1172 1417.71 L1284.25 1417.71 L1284.25 627.286 L1172 627.286 L1172 627.286  Z\n",
       "  \" fill=\"#009af9\" fill-rule=\"evenodd\" fill-opacity=\"1\"/>\n",
       "<polyline clip-path=\"url(#clip9302)\" style=\"stroke:#000000; stroke-width:4; stroke-opacity:1; fill:none\" points=\"\n",
       "  1172,627.286 1172,1417.71 1284.25,1417.71 1284.25,627.286 1172,627.286 \n",
       "  \"/>\n",
       "<path clip-path=\"url(#clip9302)\" d=\"\n",
       "M1452.63 278.605 L1452.63 1417.71 L1564.88 1417.71 L1564.88 278.605 L1452.63 278.605 L1452.63 278.605  Z\n",
       "  \" fill=\"#009af9\" fill-rule=\"evenodd\" fill-opacity=\"1\"/>\n",
       "<polyline clip-path=\"url(#clip9302)\" style=\"stroke:#000000; stroke-width:4; stroke-opacity:1; fill:none\" points=\"\n",
       "  1452.63,278.605 1452.63,1417.71 1564.88,1417.71 1564.88,278.605 1452.63,278.605 \n",
       "  \"/>\n",
       "<path clip-path=\"url(#clip9302)\" d=\"\n",
       "M1733.26 748.962 L1733.26 1417.71 L1845.51 1417.71 L1845.51 748.962 L1733.26 748.962 L1733.26 748.962  Z\n",
       "  \" fill=\"#009af9\" fill-rule=\"evenodd\" fill-opacity=\"1\"/>\n",
       "<polyline clip-path=\"url(#clip9302)\" style=\"stroke:#000000; stroke-width:4; stroke-opacity:1; fill:none\" points=\"\n",
       "  1733.26,748.962 1733.26,1417.71 1845.51,1417.71 1845.51,748.962 1733.26,748.962 \n",
       "  \"/>\n",
       "<path clip-path=\"url(#clip9302)\" d=\"\n",
       "M2013.89 389.902 L2013.89 1417.71 L2126.14 1417.71 L2126.14 389.902 L2013.89 389.902 L2013.89 389.902  Z\n",
       "  \" fill=\"#009af9\" fill-rule=\"evenodd\" fill-opacity=\"1\"/>\n",
       "<polyline clip-path=\"url(#clip9302)\" style=\"stroke:#000000; stroke-width:4; stroke-opacity:1; fill:none\" points=\"\n",
       "  2013.89,389.902 2013.89,1417.71 2126.14,1417.71 2126.14,389.902 2013.89,389.902 \n",
       "  \"/>\n",
       "<path clip-path=\"url(#clip9302)\" d=\"\n",
       "M442.368 632.522 L442.368 1417.71 L554.619 1417.71 L554.619 632.522 L442.368 632.522 L442.368 632.522  Z\n",
       "  \" fill=\"#e26f46\" fill-rule=\"evenodd\" fill-opacity=\"1\"/>\n",
       "<polyline clip-path=\"url(#clip9302)\" style=\"stroke:#000000; stroke-width:4; stroke-opacity:1; fill:none\" points=\"\n",
       "  442.368,632.522 442.368,1417.71 554.619,1417.71 554.619,632.522 442.368,632.522 \n",
       "  \"/>\n",
       "<path clip-path=\"url(#clip9302)\" d=\"\n",
       "M722.997 1330.84 L722.997 1417.71 L835.248 1417.71 L835.248 1330.84 L722.997 1330.84 L722.997 1330.84  Z\n",
       "  \" fill=\"#e26f46\" fill-rule=\"evenodd\" fill-opacity=\"1\"/>\n",
       "<polyline clip-path=\"url(#clip9302)\" style=\"stroke:#000000; stroke-width:4; stroke-opacity:1; fill:none\" points=\"\n",
       "  722.997,1330.84 722.997,1417.71 835.248,1417.71 835.248,1330.84 722.997,1330.84 \n",
       "  \"/>\n",
       "<path clip-path=\"url(#clip9302)\" d=\"\n",
       "M1003.63 1142.95 L1003.63 1417.71 L1115.88 1417.71 L1115.88 1142.95 L1003.63 1142.95 L1003.63 1142.95  Z\n",
       "  \" fill=\"#e26f46\" fill-rule=\"evenodd\" fill-opacity=\"1\"/>\n",
       "<polyline clip-path=\"url(#clip9302)\" style=\"stroke:#000000; stroke-width:4; stroke-opacity:1; fill:none\" points=\"\n",
       "  1003.63,1142.95 1003.63,1417.71 1115.88,1417.71 1115.88,1142.95 1003.63,1142.95 \n",
       "  \"/>\n",
       "<path clip-path=\"url(#clip9302)\" d=\"\n",
       "M1284.25 647.866 L1284.25 1417.71 L1396.51 1417.71 L1396.51 647.866 L1284.25 647.866 L1284.25 647.866  Z\n",
       "  \" fill=\"#e26f46\" fill-rule=\"evenodd\" fill-opacity=\"1\"/>\n",
       "<polyline clip-path=\"url(#clip9302)\" style=\"stroke:#000000; stroke-width:4; stroke-opacity:1; fill:none\" points=\"\n",
       "  1284.25,647.866 1284.25,1417.71 1396.51,1417.71 1396.51,647.866 1284.25,647.866 \n",
       "  \"/>\n",
       "<path clip-path=\"url(#clip9302)\" d=\"\n",
       "M1564.88 283.182 L1564.88 1417.71 L1677.14 1417.71 L1677.14 283.182 L1564.88 283.182 L1564.88 283.182  Z\n",
       "  \" fill=\"#e26f46\" fill-rule=\"evenodd\" fill-opacity=\"1\"/>\n",
       "<polyline clip-path=\"url(#clip9302)\" style=\"stroke:#000000; stroke-width:4; stroke-opacity:1; fill:none\" points=\"\n",
       "  1564.88,283.182 1564.88,1417.71 1677.14,1417.71 1677.14,283.182 1564.88,283.182 \n",
       "  \"/>\n",
       "<path clip-path=\"url(#clip9302)\" d=\"\n",
       "M1845.51 748.962 L1845.51 1417.71 L1957.76 1417.71 L1957.76 748.962 L1845.51 748.962 L1845.51 748.962  Z\n",
       "  \" fill=\"#e26f46\" fill-rule=\"evenodd\" fill-opacity=\"1\"/>\n",
       "<polyline clip-path=\"url(#clip9302)\" style=\"stroke:#000000; stroke-width:4; stroke-opacity:1; fill:none\" points=\"\n",
       "  1845.51,748.962 1845.51,1417.71 1957.76,1417.71 1957.76,748.962 1845.51,748.962 \n",
       "  \"/>\n",
       "<path clip-path=\"url(#clip9302)\" d=\"\n",
       "M2126.14 389.902 L2126.14 1417.71 L2238.39 1417.71 L2238.39 389.902 L2126.14 389.902 L2126.14 389.902  Z\n",
       "  \" fill=\"#e26f46\" fill-rule=\"evenodd\" fill-opacity=\"1\"/>\n",
       "<polyline clip-path=\"url(#clip9302)\" style=\"stroke:#000000; stroke-width:4; stroke-opacity:1; fill:none\" points=\"\n",
       "  2126.14,389.902 2126.14,1417.71 2238.39,1417.71 2238.39,389.902 2126.14,389.902 \n",
       "  \"/>\n",
       "<path clip-path=\"url(#clip9300)\" d=\"\n",
       "M1960.47 509.392 L2280.76 509.392 L2280.76 327.952 L1960.47 327.952  Z\n",
       "  \" fill=\"#ffffff\" fill-rule=\"evenodd\" fill-opacity=\"1\"/>\n",
       "<polyline clip-path=\"url(#clip9300)\" style=\"stroke:#000000; stroke-width:4; stroke-opacity:1; fill:none\" points=\"\n",
       "  1960.47,509.392 2280.76,509.392 2280.76,327.952 1960.47,327.952 1960.47,509.392 \n",
       "  \"/>\n",
       "<path clip-path=\"url(#clip9300)\" d=\"\n",
       "M1984.47 412.624 L2128.47 412.624 L2128.47 364.24 L1984.47 364.24 L1984.47 412.624  Z\n",
       "  \" fill=\"#009af9\" fill-rule=\"evenodd\" fill-opacity=\"1\"/>\n",
       "<polyline clip-path=\"url(#clip9300)\" style=\"stroke:#000000; stroke-width:4; stroke-opacity:1; fill:none\" points=\"\n",
       "  1984.47,412.624 2128.47,412.624 2128.47,364.24 1984.47,364.24 1984.47,412.624 \n",
       "  \"/>\n",
       "<g clip-path=\"url(#clip9300)\">\n",
       "<text style=\"fill:#000000; fill-opacity:1; font-family:Arial,Helvetica Neue,Helvetica,sans-serif; font-size:48px; text-anchor:start;\" transform=\"rotate(0, 2152.47, 405.932)\" x=\"2152.47\" y=\"405.932\">1st</text>\n",
       "</g>\n",
       "<path clip-path=\"url(#clip9300)\" d=\"\n",
       "M1984.47 473.104 L2128.47 473.104 L2128.47 424.72 L1984.47 424.72 L1984.47 473.104  Z\n",
       "  \" fill=\"#e26f46\" fill-rule=\"evenodd\" fill-opacity=\"1\"/>\n",
       "<polyline clip-path=\"url(#clip9300)\" style=\"stroke:#000000; stroke-width:4; stroke-opacity:1; fill:none\" points=\"\n",
       "  1984.47,473.104 2128.47,473.104 2128.47,424.72 1984.47,424.72 1984.47,473.104 \n",
       "  \"/>\n",
       "<g clip-path=\"url(#clip9300)\">\n",
       "<text style=\"fill:#000000; fill-opacity:1; font-family:Arial,Helvetica Neue,Helvetica,sans-serif; font-size:48px; text-anchor:start;\" transform=\"rotate(0, 2152.47, 466.412)\" x=\"2152.47\" y=\"466.412\">2nd</text>\n",
       "</g>\n",
       "</svg>\n"
      ]
     },
     "execution_count": 42,
     "metadata": {},
     "output_type": "execute_result"
    }
   ],
   "source": [
    "groupedbar(\n",
    "    repeat([\"CSV.jl\", \"Serialization\", \"JDF.jl\", \"JLSO.jl\", \"Feather.jl\", \"JSONTables.jl\\narraytable\",\n",
    "            \"JSONTables.jl\\nobjecttable\"], inner = 2),\n",
    "    [csvread1, csvread2, serializeread1, serializeread1, jdfread1, jdfread2, jlsoread1, jlsoread2,\n",
    "     featherread1, featherread2, jsontablesaread1, jsontablesaread2, jsontablesoread2, jsontablesoread2],    \n",
    "    group = repeat([\"1st\", \"2nd\"], outer = 7),\n",
    "    ylab = \"Second\",\n",
    "    title = \"Read Performance\\nDataFrame: bigdf\\nSize: $(size(bigdf))\"\n",
    ")"
   ]
  },
  {
   "cell_type": "markdown",
   "metadata": {},
   "source": [
    "### Using gzip compression"
   ]
  },
  {
   "cell_type": "markdown",
   "metadata": {},
   "source": [
    "A common user requirement is to be able to load and save CSV that are compressed using gzip.\n",
    "Below we show how this can be accomplished using CodecZlib.jl.\n",
    "The same pattern is applicable to JSONTables.jl compression/decompression.\n",
    "\n",
    "Again make sure that you do not have file named `df_compress_test.csv.gz` in your working directory"
   ]
  },
  {
   "cell_type": "markdown",
   "metadata": {},
   "source": [
    "We first generate a random data frame"
   ]
  },
  {
   "cell_type": "code",
   "execution_count": 43,
   "metadata": {},
   "outputs": [
    {
     "data": {
      "text/html": [
       "<table class=\"data-frame\"><thead><tr><th></th><th>x1</th><th>x2</th><th>x3</th><th>x4</th><th>x5</th><th>x6</th><th>x7</th><th>x8</th><th>x9</th><th>x10</th><th>x11</th><th>x12</th></tr><tr><th></th><th>Int64</th><th>Int64</th><th>Int64</th><th>Int64</th><th>Int64</th><th>Int64</th><th>Int64</th><th>Int64</th><th>Int64</th><th>Int64</th><th>Int64</th><th>Int64</th></tr></thead><tbody><p>10 rows × 1,000 columns (omitted printing of 988 columns)</p><tr><th>1</th><td>1</td><td>5</td><td>5</td><td>6</td><td>5</td><td>4</td><td>10</td><td>6</td><td>2</td><td>2</td><td>10</td><td>2</td></tr><tr><th>2</th><td>6</td><td>2</td><td>3</td><td>5</td><td>4</td><td>5</td><td>10</td><td>2</td><td>1</td><td>10</td><td>9</td><td>9</td></tr><tr><th>3</th><td>1</td><td>7</td><td>10</td><td>6</td><td>10</td><td>7</td><td>7</td><td>4</td><td>5</td><td>6</td><td>9</td><td>10</td></tr><tr><th>4</th><td>7</td><td>4</td><td>8</td><td>7</td><td>8</td><td>1</td><td>2</td><td>2</td><td>2</td><td>9</td><td>6</td><td>2</td></tr><tr><th>5</th><td>1</td><td>7</td><td>5</td><td>6</td><td>4</td><td>9</td><td>9</td><td>10</td><td>9</td><td>5</td><td>8</td><td>1</td></tr><tr><th>6</th><td>3</td><td>8</td><td>10</td><td>4</td><td>1</td><td>4</td><td>3</td><td>9</td><td>6</td><td>5</td><td>5</td><td>3</td></tr><tr><th>7</th><td>2</td><td>5</td><td>5</td><td>9</td><td>1</td><td>4</td><td>9</td><td>3</td><td>6</td><td>8</td><td>4</td><td>10</td></tr><tr><th>8</th><td>7</td><td>7</td><td>8</td><td>1</td><td>6</td><td>6</td><td>1</td><td>9</td><td>7</td><td>2</td><td>3</td><td>6</td></tr><tr><th>9</th><td>10</td><td>4</td><td>7</td><td>5</td><td>10</td><td>9</td><td>6</td><td>2</td><td>8</td><td>5</td><td>2</td><td>3</td></tr><tr><th>10</th><td>4</td><td>6</td><td>4</td><td>4</td><td>3</td><td>9</td><td>10</td><td>8</td><td>2</td><td>1</td><td>1</td><td>2</td></tr></tbody></table>"
      ],
      "text/latex": [
       "\\begin{tabular}{r|ccccccccccccc}\n",
       "\t& x1 & x2 & x3 & x4 & x5 & x6 & x7 & x8 & x9 & x10 & x11 & x12 & \\\\\n",
       "\t\\hline\n",
       "\t& Int64 & Int64 & Int64 & Int64 & Int64 & Int64 & Int64 & Int64 & Int64 & Int64 & Int64 & Int64 & \\\\\n",
       "\t\\hline\n",
       "\t1 & 1 & 5 & 5 & 6 & 5 & 4 & 10 & 6 & 2 & 2 & 10 & 2 & $\\dots$ \\\\\n",
       "\t2 & 6 & 2 & 3 & 5 & 4 & 5 & 10 & 2 & 1 & 10 & 9 & 9 & $\\dots$ \\\\\n",
       "\t3 & 1 & 7 & 10 & 6 & 10 & 7 & 7 & 4 & 5 & 6 & 9 & 10 & $\\dots$ \\\\\n",
       "\t4 & 7 & 4 & 8 & 7 & 8 & 1 & 2 & 2 & 2 & 9 & 6 & 2 & $\\dots$ \\\\\n",
       "\t5 & 1 & 7 & 5 & 6 & 4 & 9 & 9 & 10 & 9 & 5 & 8 & 1 & $\\dots$ \\\\\n",
       "\t6 & 3 & 8 & 10 & 4 & 1 & 4 & 3 & 9 & 6 & 5 & 5 & 3 & $\\dots$ \\\\\n",
       "\t7 & 2 & 5 & 5 & 9 & 1 & 4 & 9 & 3 & 6 & 8 & 4 & 10 & $\\dots$ \\\\\n",
       "\t8 & 7 & 7 & 8 & 1 & 6 & 6 & 1 & 9 & 7 & 2 & 3 & 6 & $\\dots$ \\\\\n",
       "\t9 & 10 & 4 & 7 & 5 & 10 & 9 & 6 & 2 & 8 & 5 & 2 & 3 & $\\dots$ \\\\\n",
       "\t10 & 4 & 6 & 4 & 4 & 3 & 9 & 10 & 8 & 2 & 1 & 1 & 2 & $\\dots$ \\\\\n",
       "\\end{tabular}\n"
      ],
      "text/plain": [
       "10×1000 DataFrame. Omitted printing of 991 columns\n",
       "│ Row │ x1    │ x2    │ x3    │ x4    │ x5    │ x6    │ x7    │ x8    │ x9    │\n",
       "│     │ \u001b[90mInt64\u001b[39m │ \u001b[90mInt64\u001b[39m │ \u001b[90mInt64\u001b[39m │ \u001b[90mInt64\u001b[39m │ \u001b[90mInt64\u001b[39m │ \u001b[90mInt64\u001b[39m │ \u001b[90mInt64\u001b[39m │ \u001b[90mInt64\u001b[39m │ \u001b[90mInt64\u001b[39m │\n",
       "├─────┼───────┼───────┼───────┼───────┼───────┼───────┼───────┼───────┼───────┤\n",
       "│ 1   │ 1     │ 5     │ 5     │ 6     │ 5     │ 4     │ 10    │ 6     │ 2     │\n",
       "│ 2   │ 6     │ 2     │ 3     │ 5     │ 4     │ 5     │ 10    │ 2     │ 1     │\n",
       "│ 3   │ 1     │ 7     │ 10    │ 6     │ 10    │ 7     │ 7     │ 4     │ 5     │\n",
       "│ 4   │ 7     │ 4     │ 8     │ 7     │ 8     │ 1     │ 2     │ 2     │ 2     │\n",
       "│ 5   │ 1     │ 7     │ 5     │ 6     │ 4     │ 9     │ 9     │ 10    │ 9     │\n",
       "│ 6   │ 3     │ 8     │ 10    │ 4     │ 1     │ 4     │ 3     │ 9     │ 6     │\n",
       "│ 7   │ 2     │ 5     │ 5     │ 9     │ 1     │ 4     │ 9     │ 3     │ 6     │\n",
       "│ 8   │ 7     │ 7     │ 8     │ 1     │ 6     │ 6     │ 1     │ 9     │ 7     │\n",
       "│ 9   │ 10    │ 4     │ 7     │ 5     │ 10    │ 9     │ 6     │ 2     │ 8     │\n",
       "│ 10  │ 4     │ 6     │ 4     │ 4     │ 3     │ 9     │ 10    │ 8     │ 2     │"
      ]
     },
     "execution_count": 43,
     "metadata": {},
     "output_type": "execute_result"
    }
   ],
   "source": [
    "df = DataFrame(rand(1:10, 10, 1000))"
   ]
  },
  {
   "cell_type": "code",
   "execution_count": 44,
   "metadata": {},
   "outputs": [],
   "source": [
    "# GzipCompressorStream comes from CodecZlib\n",
    "\n",
    "open(\"df_compress_test.csv.gz\", \"w\") do io\n",
    "    stream = GzipCompressorStream(io)\n",
    "    CSV.write(stream, df)\n",
    "    close(stream)\n",
    "end"
   ]
  },
  {
   "cell_type": "code",
   "execution_count": 45,
   "metadata": {},
   "outputs": [
    {
     "data": {
      "text/html": [
       "<table class=\"data-frame\"><thead><tr><th></th><th>x1</th><th>x2</th><th>x3</th><th>x4</th><th>x5</th><th>x6</th><th>x7</th><th>x8</th><th>x9</th><th>x10</th><th>x11</th><th>x12</th></tr><tr><th></th><th>Int64</th><th>Int64</th><th>Int64</th><th>Int64</th><th>Int64</th><th>Int64</th><th>Int64</th><th>Int64</th><th>Int64</th><th>Int64</th><th>Int64</th><th>Int64</th></tr></thead><tbody><p>10 rows × 1,000 columns (omitted printing of 988 columns)</p><tr><th>1</th><td>1</td><td>5</td><td>5</td><td>6</td><td>5</td><td>4</td><td>10</td><td>6</td><td>2</td><td>2</td><td>10</td><td>2</td></tr><tr><th>2</th><td>6</td><td>2</td><td>3</td><td>5</td><td>4</td><td>5</td><td>10</td><td>2</td><td>1</td><td>10</td><td>9</td><td>9</td></tr><tr><th>3</th><td>1</td><td>7</td><td>10</td><td>6</td><td>10</td><td>7</td><td>7</td><td>4</td><td>5</td><td>6</td><td>9</td><td>10</td></tr><tr><th>4</th><td>7</td><td>4</td><td>8</td><td>7</td><td>8</td><td>1</td><td>2</td><td>2</td><td>2</td><td>9</td><td>6</td><td>2</td></tr><tr><th>5</th><td>1</td><td>7</td><td>5</td><td>6</td><td>4</td><td>9</td><td>9</td><td>10</td><td>9</td><td>5</td><td>8</td><td>1</td></tr><tr><th>6</th><td>3</td><td>8</td><td>10</td><td>4</td><td>1</td><td>4</td><td>3</td><td>9</td><td>6</td><td>5</td><td>5</td><td>3</td></tr><tr><th>7</th><td>2</td><td>5</td><td>5</td><td>9</td><td>1</td><td>4</td><td>9</td><td>3</td><td>6</td><td>8</td><td>4</td><td>10</td></tr><tr><th>8</th><td>7</td><td>7</td><td>8</td><td>1</td><td>6</td><td>6</td><td>1</td><td>9</td><td>7</td><td>2</td><td>3</td><td>6</td></tr><tr><th>9</th><td>10</td><td>4</td><td>7</td><td>5</td><td>10</td><td>9</td><td>6</td><td>2</td><td>8</td><td>5</td><td>2</td><td>3</td></tr><tr><th>10</th><td>4</td><td>6</td><td>4</td><td>4</td><td>3</td><td>9</td><td>10</td><td>8</td><td>2</td><td>1</td><td>1</td><td>2</td></tr></tbody></table>"
      ],
      "text/latex": [
       "\\begin{tabular}{r|ccccccccccccc}\n",
       "\t& x1 & x2 & x3 & x4 & x5 & x6 & x7 & x8 & x9 & x10 & x11 & x12 & \\\\\n",
       "\t\\hline\n",
       "\t& Int64 & Int64 & Int64 & Int64 & Int64 & Int64 & Int64 & Int64 & Int64 & Int64 & Int64 & Int64 & \\\\\n",
       "\t\\hline\n",
       "\t1 & 1 & 5 & 5 & 6 & 5 & 4 & 10 & 6 & 2 & 2 & 10 & 2 & $\\dots$ \\\\\n",
       "\t2 & 6 & 2 & 3 & 5 & 4 & 5 & 10 & 2 & 1 & 10 & 9 & 9 & $\\dots$ \\\\\n",
       "\t3 & 1 & 7 & 10 & 6 & 10 & 7 & 7 & 4 & 5 & 6 & 9 & 10 & $\\dots$ \\\\\n",
       "\t4 & 7 & 4 & 8 & 7 & 8 & 1 & 2 & 2 & 2 & 9 & 6 & 2 & $\\dots$ \\\\\n",
       "\t5 & 1 & 7 & 5 & 6 & 4 & 9 & 9 & 10 & 9 & 5 & 8 & 1 & $\\dots$ \\\\\n",
       "\t6 & 3 & 8 & 10 & 4 & 1 & 4 & 3 & 9 & 6 & 5 & 5 & 3 & $\\dots$ \\\\\n",
       "\t7 & 2 & 5 & 5 & 9 & 1 & 4 & 9 & 3 & 6 & 8 & 4 & 10 & $\\dots$ \\\\\n",
       "\t8 & 7 & 7 & 8 & 1 & 6 & 6 & 1 & 9 & 7 & 2 & 3 & 6 & $\\dots$ \\\\\n",
       "\t9 & 10 & 4 & 7 & 5 & 10 & 9 & 6 & 2 & 8 & 5 & 2 & 3 & $\\dots$ \\\\\n",
       "\t10 & 4 & 6 & 4 & 4 & 3 & 9 & 10 & 8 & 2 & 1 & 1 & 2 & $\\dots$ \\\\\n",
       "\\end{tabular}\n"
      ],
      "text/plain": [
       "10×1000 DataFrame. Omitted printing of 991 columns\n",
       "│ Row │ x1    │ x2    │ x3    │ x4    │ x5    │ x6    │ x7    │ x8    │ x9    │\n",
       "│     │ \u001b[90mInt64\u001b[39m │ \u001b[90mInt64\u001b[39m │ \u001b[90mInt64\u001b[39m │ \u001b[90mInt64\u001b[39m │ \u001b[90mInt64\u001b[39m │ \u001b[90mInt64\u001b[39m │ \u001b[90mInt64\u001b[39m │ \u001b[90mInt64\u001b[39m │ \u001b[90mInt64\u001b[39m │\n",
       "├─────┼───────┼───────┼───────┼───────┼───────┼───────┼───────┼───────┼───────┤\n",
       "│ 1   │ 1     │ 5     │ 5     │ 6     │ 5     │ 4     │ 10    │ 6     │ 2     │\n",
       "│ 2   │ 6     │ 2     │ 3     │ 5     │ 4     │ 5     │ 10    │ 2     │ 1     │\n",
       "│ 3   │ 1     │ 7     │ 10    │ 6     │ 10    │ 7     │ 7     │ 4     │ 5     │\n",
       "│ 4   │ 7     │ 4     │ 8     │ 7     │ 8     │ 1     │ 2     │ 2     │ 2     │\n",
       "│ 5   │ 1     │ 7     │ 5     │ 6     │ 4     │ 9     │ 9     │ 10    │ 9     │\n",
       "│ 6   │ 3     │ 8     │ 10    │ 4     │ 1     │ 4     │ 3     │ 9     │ 6     │\n",
       "│ 7   │ 2     │ 5     │ 5     │ 9     │ 1     │ 4     │ 9     │ 3     │ 6     │\n",
       "│ 8   │ 7     │ 7     │ 8     │ 1     │ 6     │ 6     │ 1     │ 9     │ 7     │\n",
       "│ 9   │ 10    │ 4     │ 7     │ 5     │ 10    │ 9     │ 6     │ 2     │ 8     │\n",
       "│ 10  │ 4     │ 6     │ 4     │ 4     │ 3     │ 9     │ 10    │ 8     │ 2     │"
      ]
     },
     "execution_count": 45,
     "metadata": {},
     "output_type": "execute_result"
    }
   ],
   "source": [
    "df2 = open(\"df_compress_test.csv.gz\") do io\n",
    "    stream = GzipDecompressorStream(io)\n",
    "    res = CSV.read(stream)\n",
    "    close(stream)\n",
    "    res\n",
    "end"
   ]
  },
  {
   "cell_type": "code",
   "execution_count": 46,
   "metadata": {},
   "outputs": [
    {
     "data": {
      "text/plain": [
       "true"
      ]
     },
     "execution_count": 46,
     "metadata": {},
     "output_type": "execute_result"
    }
   ],
   "source": [
    "df == df2"
   ]
  },
  {
   "cell_type": "markdown",
   "metadata": {},
   "source": [
    "### Using zip files"
   ]
  },
  {
   "cell_type": "markdown",
   "metadata": {},
   "source": [
    "Sometimes you may have files compressed inside a zip file.\n",
    "\n",
    "In such a situation you may use [ZipFile.jl](https://github.com/fhs/ZipFile.jl) in conjunction an an appropriate reader to read the files."
   ]
  },
  {
   "cell_type": "markdown",
   "metadata": {},
   "source": [
    "Here we first create a ZIP file and then read back its contents into a `DataFrame`."
   ]
  },
  {
   "cell_type": "code",
   "execution_count": 47,
   "metadata": {},
   "outputs": [
    {
     "data": {
      "text/html": [
       "<table class=\"data-frame\"><thead><tr><th></th><th>x1</th><th>x2</th><th>x3</th><th>x4</th></tr><tr><th></th><th>Int64</th><th>Int64</th><th>Int64</th><th>Int64</th></tr></thead><tbody><p>3 rows × 4 columns</p><tr><th>1</th><td>7</td><td>1</td><td>9</td><td>9</td></tr><tr><th>2</th><td>2</td><td>5</td><td>10</td><td>5</td></tr><tr><th>3</th><td>10</td><td>4</td><td>4</td><td>6</td></tr></tbody></table>"
      ],
      "text/latex": [
       "\\begin{tabular}{r|cccc}\n",
       "\t& x1 & x2 & x3 & x4\\\\\n",
       "\t\\hline\n",
       "\t& Int64 & Int64 & Int64 & Int64\\\\\n",
       "\t\\hline\n",
       "\t1 & 7 & 1 & 9 & 9 \\\\\n",
       "\t2 & 2 & 5 & 10 & 5 \\\\\n",
       "\t3 & 10 & 4 & 4 & 6 \\\\\n",
       "\\end{tabular}\n"
      ],
      "text/plain": [
       "3×4 DataFrame\n",
       "│ Row │ x1    │ x2    │ x3    │ x4    │\n",
       "│     │ \u001b[90mInt64\u001b[39m │ \u001b[90mInt64\u001b[39m │ \u001b[90mInt64\u001b[39m │ \u001b[90mInt64\u001b[39m │\n",
       "├─────┼───────┼───────┼───────┼───────┤\n",
       "│ 1   │ 7     │ 1     │ 9     │ 9     │\n",
       "│ 2   │ 2     │ 5     │ 10    │ 5     │\n",
       "│ 3   │ 10    │ 4     │ 4     │ 6     │"
      ]
     },
     "execution_count": 47,
     "metadata": {},
     "output_type": "execute_result"
    }
   ],
   "source": [
    "df1 = DataFrame(rand(1:10, 3, 4))"
   ]
  },
  {
   "cell_type": "code",
   "execution_count": 48,
   "metadata": {},
   "outputs": [
    {
     "data": {
      "text/html": [
       "<table class=\"data-frame\"><thead><tr><th></th><th>x1</th><th>x2</th><th>x3</th><th>x4</th></tr><tr><th></th><th>Int64</th><th>Int64</th><th>Int64</th><th>Int64</th></tr></thead><tbody><p>3 rows × 4 columns</p><tr><th>1</th><td>8</td><td>4</td><td>10</td><td>7</td></tr><tr><th>2</th><td>4</td><td>8</td><td>7</td><td>7</td></tr><tr><th>3</th><td>1</td><td>10</td><td>2</td><td>8</td></tr></tbody></table>"
      ],
      "text/latex": [
       "\\begin{tabular}{r|cccc}\n",
       "\t& x1 & x2 & x3 & x4\\\\\n",
       "\t\\hline\n",
       "\t& Int64 & Int64 & Int64 & Int64\\\\\n",
       "\t\\hline\n",
       "\t1 & 8 & 4 & 10 & 7 \\\\\n",
       "\t2 & 4 & 8 & 7 & 7 \\\\\n",
       "\t3 & 1 & 10 & 2 & 8 \\\\\n",
       "\\end{tabular}\n"
      ],
      "text/plain": [
       "3×4 DataFrame\n",
       "│ Row │ x1    │ x2    │ x3    │ x4    │\n",
       "│     │ \u001b[90mInt64\u001b[39m │ \u001b[90mInt64\u001b[39m │ \u001b[90mInt64\u001b[39m │ \u001b[90mInt64\u001b[39m │\n",
       "├─────┼───────┼───────┼───────┼───────┤\n",
       "│ 1   │ 8     │ 4     │ 10    │ 7     │\n",
       "│ 2   │ 4     │ 8     │ 7     │ 7     │\n",
       "│ 3   │ 1     │ 10    │ 2     │ 8     │"
      ]
     },
     "execution_count": 48,
     "metadata": {},
     "output_type": "execute_result"
    }
   ],
   "source": [
    "df2 = DataFrame(rand(1:10, 3, 4))"
   ]
  },
  {
   "cell_type": "markdown",
   "metadata": {},
   "source": [
    "And we show yet another way to write a `DataFrame` into a CSV file"
   ]
  },
  {
   "cell_type": "code",
   "execution_count": 49,
   "metadata": {},
   "outputs": [],
   "source": [
    "# write a CSV file into the zip file\n",
    "w = ZipFile.Writer(\"x.zip\")\n",
    "\n",
    "f1 = ZipFile.addfile(w, \"x1.csv\")\n",
    "write(f1, sprint(show, \"text/csv\", df1))\n",
    "\n",
    "# write a second CSV file into zip file\n",
    "f2 = ZipFile.addfile(w, \"x2.csv\", method=ZipFile.Deflate)\n",
    "write(f2, sprint(show, \"text/csv\", df2))\n",
    "\n",
    "close(w)"
   ]
  },
  {
   "cell_type": "markdown",
   "metadata": {},
   "source": [
    "Now we read the CSV we have written:"
   ]
  },
  {
   "cell_type": "code",
   "execution_count": 50,
   "metadata": {},
   "outputs": [],
   "source": [
    "z = ZipFile.Reader(\"x.zip\");"
   ]
  },
  {
   "cell_type": "code",
   "execution_count": 51,
   "metadata": {},
   "outputs": [
    {
     "data": {
      "text/html": [
       "<table class=\"data-frame\"><thead><tr><th></th><th>x1</th><th>x2</th><th>x3</th><th>x4</th></tr><tr><th></th><th>Int64</th><th>Int64</th><th>Int64</th><th>Int64</th></tr></thead><tbody><p>3 rows × 4 columns</p><tr><th>1</th><td>7</td><td>1</td><td>9</td><td>9</td></tr><tr><th>2</th><td>2</td><td>5</td><td>10</td><td>5</td></tr><tr><th>3</th><td>10</td><td>4</td><td>4</td><td>6</td></tr></tbody></table>"
      ],
      "text/latex": [
       "\\begin{tabular}{r|cccc}\n",
       "\t& x1 & x2 & x3 & x4\\\\\n",
       "\t\\hline\n",
       "\t& Int64 & Int64 & Int64 & Int64\\\\\n",
       "\t\\hline\n",
       "\t1 & 7 & 1 & 9 & 9 \\\\\n",
       "\t2 & 2 & 5 & 10 & 5 \\\\\n",
       "\t3 & 10 & 4 & 4 & 6 \\\\\n",
       "\\end{tabular}\n"
      ],
      "text/plain": [
       "3×4 DataFrame\n",
       "│ Row │ x1    │ x2    │ x3    │ x4    │\n",
       "│     │ \u001b[90mInt64\u001b[39m │ \u001b[90mInt64\u001b[39m │ \u001b[90mInt64\u001b[39m │ \u001b[90mInt64\u001b[39m │\n",
       "├─────┼───────┼───────┼───────┼───────┤\n",
       "│ 1   │ 7     │ 1     │ 9     │ 9     │\n",
       "│ 2   │ 2     │ 5     │ 10    │ 5     │\n",
       "│ 3   │ 10    │ 4     │ 4     │ 6     │"
      ]
     },
     "execution_count": 51,
     "metadata": {},
     "output_type": "execute_result"
    }
   ],
   "source": [
    "# find the index index of file called x1.csv\n",
    "index_xcsv = findfirst(x->x.name == \"x1.csv\", z.files)\n",
    "# to read the x1.csv file in the zip file\n",
    "df1_2 = CSV.read(z.files[index_xcsv])"
   ]
  },
  {
   "cell_type": "code",
   "execution_count": 52,
   "metadata": {},
   "outputs": [
    {
     "data": {
      "text/plain": [
       "true"
      ]
     },
     "execution_count": 52,
     "metadata": {},
     "output_type": "execute_result"
    }
   ],
   "source": [
    "df1_2 == df1"
   ]
  },
  {
   "cell_type": "code",
   "execution_count": 53,
   "metadata": {},
   "outputs": [
    {
     "data": {
      "text/html": [
       "<table class=\"data-frame\"><thead><tr><th></th><th>x1</th><th>x2</th><th>x3</th><th>x4</th></tr><tr><th></th><th>Int64</th><th>Int64</th><th>Int64</th><th>Int64</th></tr></thead><tbody><p>3 rows × 4 columns</p><tr><th>1</th><td>8</td><td>4</td><td>10</td><td>7</td></tr><tr><th>2</th><td>4</td><td>8</td><td>7</td><td>7</td></tr><tr><th>3</th><td>1</td><td>10</td><td>2</td><td>8</td></tr></tbody></table>"
      ],
      "text/latex": [
       "\\begin{tabular}{r|cccc}\n",
       "\t& x1 & x2 & x3 & x4\\\\\n",
       "\t\\hline\n",
       "\t& Int64 & Int64 & Int64 & Int64\\\\\n",
       "\t\\hline\n",
       "\t1 & 8 & 4 & 10 & 7 \\\\\n",
       "\t2 & 4 & 8 & 7 & 7 \\\\\n",
       "\t3 & 1 & 10 & 2 & 8 \\\\\n",
       "\\end{tabular}\n"
      ],
      "text/plain": [
       "3×4 DataFrame\n",
       "│ Row │ x1    │ x2    │ x3    │ x4    │\n",
       "│     │ \u001b[90mInt64\u001b[39m │ \u001b[90mInt64\u001b[39m │ \u001b[90mInt64\u001b[39m │ \u001b[90mInt64\u001b[39m │\n",
       "├─────┼───────┼───────┼───────┼───────┤\n",
       "│ 1   │ 8     │ 4     │ 10    │ 7     │\n",
       "│ 2   │ 4     │ 8     │ 7     │ 7     │\n",
       "│ 3   │ 1     │ 10    │ 2     │ 8     │"
      ]
     },
     "execution_count": 53,
     "metadata": {},
     "output_type": "execute_result"
    }
   ],
   "source": [
    "# find the index index of file called x2.csv\n",
    "index_xcsv = findfirst(x->x.name == \"x2.csv\", z.files)\n",
    "# to read the x2.csv file in the zip file\n",
    "df2_2 = CSV.read(z.files[index_xcsv])"
   ]
  },
  {
   "cell_type": "code",
   "execution_count": 54,
   "metadata": {},
   "outputs": [
    {
     "data": {
      "text/plain": [
       "true"
      ]
     },
     "execution_count": 54,
     "metadata": {},
     "output_type": "execute_result"
    }
   ],
   "source": [
    "df2_2 == df2"
   ]
  },
  {
   "cell_type": "markdown",
   "metadata": {},
   "source": [
    "Note that once you read a given file from `z` object its stream is all used-up (it is at its end). Therefore to read it again you need to close `z` and open it again.\n",
    "\n",
    "Also do not forget to close the zip file once done."
   ]
  },
  {
   "cell_type": "code",
   "execution_count": 55,
   "metadata": {},
   "outputs": [],
   "source": [
    "close(z)"
   ]
  },
  {
   "cell_type": "markdown",
   "metadata": {},
   "source": [
    "Finally, let's clean up. Do not run the next cell unless you are sure that it will not erase your important files."
   ]
  },
  {
   "cell_type": "code",
   "execution_count": 56,
   "metadata": {},
   "outputs": [],
   "source": [
    "foreach(rm, [\"x1.csv\", \"x2.csv\", \"x.bin\", \"x.jlso\", \"x.feather\", \"x1.json\", \"x2.json\",\n",
    "             \"bigdf1.csv\", \"bigdf2.csv\", \"bigdf.bin\", \"bigdf.jlso\", \"bigdf.feather\", \"bigdf1.json\", \"bigdf2.json\", \n",
    "             \"df_compress_test.csv.gz\", \"x.zip\"])"
   ]
  },
  {
   "cell_type": "code",
   "execution_count": 57,
   "metadata": {},
   "outputs": [],
   "source": [
    "rm(\"bigdf.jdf\", recursive=true)\n",
    "rm(\"x.jdf\", recursive=true)"
   ]
  }
 ],
 "metadata": {
  "@webio": {
   "lastCommId": null,
   "lastKernelId": null
  },
  "kernelspec": {
   "display_name": "Julia 1.3.0",
   "language": "julia",
   "name": "julia-1.3"
  },
  "language_info": {
   "file_extension": ".jl",
   "mimetype": "application/julia",
   "name": "julia",
   "version": "1.3.0"
  }
 },
 "nbformat": 4,
 "nbformat_minor": 4
}
