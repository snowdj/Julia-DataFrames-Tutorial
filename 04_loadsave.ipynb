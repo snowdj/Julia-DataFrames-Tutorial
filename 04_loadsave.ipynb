{
 "cells": [
  {
   "cell_type": "markdown",
   "metadata": {},
   "source": [
    "# Introduction to DataFrames\n",
    "**[Bogumił Kamiński](http://bogumilkaminski.pl/about/), November 20, 2020**"
   ]
  },
  {
   "cell_type": "code",
   "execution_count": 1,
   "metadata": {},
   "outputs": [],
   "source": [
    "using DataFrames"
   ]
  },
  {
   "cell_type": "markdown",
   "metadata": {},
   "source": [
    "## Load and save DataFrames\n",
    "We do not cover all features of the packages. Please refer to their documentation to learn them.\n",
    "\n",
    "Here we'll load CSV.jl to read and write CSV files and Arrow.jl, JLSO.jl, and serialization, which allow us to work with a binary format and JSONTables.jl for JSON interaction. Finally we consider a custom JDF.jl format."
   ]
  },
  {
   "cell_type": "code",
   "execution_count": 2,
   "metadata": {},
   "outputs": [],
   "source": [
    "using Arrow\n",
    "using CSV\n",
    "using Serialization\n",
    "using JLSO\n",
    "using JSONTables\n",
    "using CodecZlib\n",
    "using ZipFile\n",
    "using JDF\n",
    "using StatsPlots # for charts\n",
    "using Mmap # for compression"
   ]
  },
  {
   "cell_type": "markdown",
   "metadata": {},
   "source": [
    "Let's create a simple `DataFrame` for testing purposes,"
   ]
  },
  {
   "cell_type": "code",
   "execution_count": 3,
   "metadata": {},
   "outputs": [
    {
     "data": {
      "text/html": [
       "<table class=\"data-frame\"><thead><tr><th></th><th>A</th><th>B</th><th>C</th><th>D</th></tr><tr><th></th><th>Bool</th><th>Int64?</th><th>String?</th><th>Char?</th></tr></thead><tbody><p>3 rows × 4 columns</p><tr><th>1</th><td>1</td><td>1</td><td><em>missing</em></td><td>a</td></tr><tr><th>2</th><td>0</td><td>2</td><td>b</td><td><em>missing</em></td></tr><tr><th>3</th><td>1</td><td><em>missing</em></td><td>c</td><td>c</td></tr></tbody></table>"
      ],
      "text/latex": [
       "\\begin{tabular}{r|cccc}\n",
       "\t& A & B & C & D\\\\\n",
       "\t\\hline\n",
       "\t& Bool & Int64? & String? & Char?\\\\\n",
       "\t\\hline\n",
       "\t1 & 1 & 1 & \\emph{missing} & a \\\\\n",
       "\t2 & 0 & 2 & b & \\emph{missing} \\\\\n",
       "\t3 & 1 & \\emph{missing} & c & c \\\\\n",
       "\\end{tabular}\n"
      ],
      "text/plain": [
       "\u001b[1m3×4 DataFrame\u001b[0m\n",
       "\u001b[1m Row \u001b[0m│\u001b[1m A     \u001b[0m\u001b[1m B       \u001b[0m\u001b[1m C       \u001b[0m\u001b[1m D       \u001b[0m\n",
       "\u001b[1m     \u001b[0m│\u001b[90m Bool  \u001b[0m\u001b[90m Int64?  \u001b[0m\u001b[90m String? \u001b[0m\u001b[90m Char?   \u001b[0m\n",
       "─────┼──────────────────────────────────\n",
       "   1 │  true        1 \u001b[90m missing \u001b[0m a\n",
       "   2 │ false        2  b       \u001b[90m missing \u001b[0m\n",
       "   3 │  true \u001b[90m missing \u001b[0m c        c"
      ]
     },
     "execution_count": 3,
     "metadata": {},
     "output_type": "execute_result"
    }
   ],
   "source": [
    "x = DataFrame(A=[true, false, true], B=[1, 2, missing],\n",
    "              C=[missing, \"b\", \"c\"], D=['a', missing, 'c'])"
   ]
  },
  {
   "cell_type": "markdown",
   "metadata": {},
   "source": [
    "and use `eltypes` to look at the columnwise types."
   ]
  },
  {
   "cell_type": "code",
   "execution_count": 4,
   "metadata": {},
   "outputs": [
    {
     "data": {
      "text/plain": [
       "4-element Array{Type,1}:\n",
       " Bool\n",
       " Union{Missing, Int64}\n",
       " Union{Missing, String}\n",
       " Union{Missing, Char}"
      ]
     },
     "execution_count": 4,
     "metadata": {},
     "output_type": "execute_result"
    }
   ],
   "source": [
    "eltype.(eachcol(x))"
   ]
  },
  {
   "cell_type": "markdown",
   "metadata": {},
   "source": [
    "### CSV.jl"
   ]
  },
  {
   "cell_type": "markdown",
   "metadata": {},
   "source": [
    "Let's use `CSV` to save `x` to disk; make sure `x1.csv` does not conflict with some file in your working directory."
   ]
  },
  {
   "cell_type": "code",
   "execution_count": 5,
   "metadata": {},
   "outputs": [
    {
     "data": {
      "text/plain": [
       "\"x1.csv\""
      ]
     },
     "execution_count": 5,
     "metadata": {},
     "output_type": "execute_result"
    }
   ],
   "source": [
    "CSV.write(\"x1.csv\", x)"
   ]
  },
  {
   "cell_type": "markdown",
   "metadata": {},
   "source": [
    "Now we can see how it was saved by reading `x.csv`."
   ]
  },
  {
   "cell_type": "code",
   "execution_count": 6,
   "metadata": {},
   "outputs": [
    {
     "name": "stdout",
     "output_type": "stream",
     "text": [
      "A,B,C,D\n",
      "true,1,,a\n",
      "false,2,b,\n",
      "true,,c,c\n"
     ]
    }
   ],
   "source": [
    "print(read(\"x1.csv\", String))"
   ]
  },
  {
   "cell_type": "markdown",
   "metadata": {},
   "source": [
    "We can also load it back (`use_mmap=false` disables memory mapping so that on Windows the file can be deleted in the same session, on other OSs it is not needed)."
   ]
  },
  {
   "cell_type": "code",
   "execution_count": 7,
   "metadata": {},
   "outputs": [
    {
     "data": {
      "text/html": [
       "<table class=\"data-frame\"><thead><tr><th></th><th>A</th><th>B</th><th>C</th><th>D</th></tr><tr><th></th><th>Bool</th><th>Int64?</th><th>String?</th><th>String?</th></tr></thead><tbody><p>3 rows × 4 columns</p><tr><th>1</th><td>1</td><td>1</td><td><em>missing</em></td><td>a</td></tr><tr><th>2</th><td>0</td><td>2</td><td>b</td><td><em>missing</em></td></tr><tr><th>3</th><td>1</td><td><em>missing</em></td><td>c</td><td>c</td></tr></tbody></table>"
      ],
      "text/latex": [
       "\\begin{tabular}{r|cccc}\n",
       "\t& A & B & C & D\\\\\n",
       "\t\\hline\n",
       "\t& Bool & Int64? & String? & String?\\\\\n",
       "\t\\hline\n",
       "\t1 & 1 & 1 & \\emph{missing} & a \\\\\n",
       "\t2 & 0 & 2 & b & \\emph{missing} \\\\\n",
       "\t3 & 1 & \\emph{missing} & c & c \\\\\n",
       "\\end{tabular}\n"
      ],
      "text/plain": [
       "\u001b[1m3×4 DataFrame\u001b[0m\n",
       "\u001b[1m Row \u001b[0m│\u001b[1m A     \u001b[0m\u001b[1m B       \u001b[0m\u001b[1m C       \u001b[0m\u001b[1m D       \u001b[0m\n",
       "\u001b[1m     \u001b[0m│\u001b[90m Bool  \u001b[0m\u001b[90m Int64?  \u001b[0m\u001b[90m String? \u001b[0m\u001b[90m String? \u001b[0m\n",
       "─────┼──────────────────────────────────\n",
       "   1 │  true        1 \u001b[90m missing \u001b[0m a\n",
       "   2 │ false        2  b       \u001b[90m missing \u001b[0m\n",
       "   3 │  true \u001b[90m missing \u001b[0m c        c"
      ]
     },
     "execution_count": 7,
     "metadata": {},
     "output_type": "execute_result"
    }
   ],
   "source": [
    "y = CSV.read(\"x1.csv\", DataFrame)"
   ]
  },
  {
   "cell_type": "markdown",
   "metadata": {},
   "source": [
    "Note that when loading in a `DataFrame` from a `CSV` the column type for column `:D` has changed!"
   ]
  },
  {
   "cell_type": "code",
   "execution_count": 8,
   "metadata": {},
   "outputs": [
    {
     "data": {
      "text/plain": [
       "4-element Array{Type,1}:\n",
       " Bool\n",
       " Union{Missing, Int64}\n",
       " Union{Missing, String}\n",
       " Union{Missing, String}"
      ]
     },
     "execution_count": 8,
     "metadata": {},
     "output_type": "execute_result"
    }
   ],
   "source": [
    "eltype.(eachcol(y))"
   ]
  },
  {
   "cell_type": "markdown",
   "metadata": {},
   "source": [
    "### Serialization, JDF.jl, and JLSO.jl\n",
    "\n",
    "#### Serialization"
   ]
  },
  {
   "cell_type": "markdown",
   "metadata": {},
   "source": [
    "Now we use serialization to save `x`.\n",
    "\n",
    "There are two ways to perform serialization. The first way is to use the `Serialization.serialize` as below:"
   ]
  },
  {
   "cell_type": "markdown",
   "metadata": {},
   "source": [
    "Note that in general, this process will not work if the reading and writing are done by different versions of Julia, or an instance of Julia with a different system image."
   ]
  },
  {
   "cell_type": "code",
   "execution_count": 9,
   "metadata": {},
   "outputs": [],
   "source": [
    "open(\"x.bin\", \"w\") do io\n",
    "    serialize(io, x)\n",
    "end"
   ]
  },
  {
   "cell_type": "markdown",
   "metadata": {},
   "source": [
    "Now we load back the saved file to `y` variable. Again `y` is identical to `x`. However, please beware that if you session does not have DataFrames.jl loaded, then it may not recognise the content as DataFrames.jl"
   ]
  },
  {
   "cell_type": "code",
   "execution_count": 10,
   "metadata": {},
   "outputs": [
    {
     "data": {
      "text/html": [
       "<table class=\"data-frame\"><thead><tr><th></th><th>A</th><th>B</th><th>C</th><th>D</th></tr><tr><th></th><th>Bool</th><th>Int64?</th><th>String?</th><th>Char?</th></tr></thead><tbody><p>3 rows × 4 columns</p><tr><th>1</th><td>1</td><td>1</td><td><em>missing</em></td><td>a</td></tr><tr><th>2</th><td>0</td><td>2</td><td>b</td><td><em>missing</em></td></tr><tr><th>3</th><td>1</td><td><em>missing</em></td><td>c</td><td>c</td></tr></tbody></table>"
      ],
      "text/latex": [
       "\\begin{tabular}{r|cccc}\n",
       "\t& A & B & C & D\\\\\n",
       "\t\\hline\n",
       "\t& Bool & Int64? & String? & Char?\\\\\n",
       "\t\\hline\n",
       "\t1 & 1 & 1 & \\emph{missing} & a \\\\\n",
       "\t2 & 0 & 2 & b & \\emph{missing} \\\\\n",
       "\t3 & 1 & \\emph{missing} & c & c \\\\\n",
       "\\end{tabular}\n"
      ],
      "text/plain": [
       "\u001b[1m3×4 DataFrame\u001b[0m\n",
       "\u001b[1m Row \u001b[0m│\u001b[1m A     \u001b[0m\u001b[1m B       \u001b[0m\u001b[1m C       \u001b[0m\u001b[1m D       \u001b[0m\n",
       "\u001b[1m     \u001b[0m│\u001b[90m Bool  \u001b[0m\u001b[90m Int64?  \u001b[0m\u001b[90m String? \u001b[0m\u001b[90m Char?   \u001b[0m\n",
       "─────┼──────────────────────────────────\n",
       "   1 │  true        1 \u001b[90m missing \u001b[0m a\n",
       "   2 │ false        2  b       \u001b[90m missing \u001b[0m\n",
       "   3 │  true \u001b[90m missing \u001b[0m c        c"
      ]
     },
     "execution_count": 10,
     "metadata": {},
     "output_type": "execute_result"
    }
   ],
   "source": [
    "y = open(deserialize, \"x.bin\")"
   ]
  },
  {
   "cell_type": "code",
   "execution_count": 11,
   "metadata": {},
   "outputs": [
    {
     "data": {
      "text/plain": [
       "4-element Array{Type,1}:\n",
       " Bool\n",
       " Union{Missing, Int64}\n",
       " Union{Missing, String}\n",
       " Union{Missing, Char}"
      ]
     },
     "execution_count": 11,
     "metadata": {},
     "output_type": "execute_result"
    }
   ],
   "source": [
    "eltype.(eachcol(y))"
   ]
  },
  {
   "cell_type": "markdown",
   "metadata": {},
   "source": [
    "#### JDF.jl\n",
    "\n",
    "[JDF.jl](https://github.com/xiaodaigh/JDF) is a relatively new package designed to serialize DataFrames. You can save a DataFrame with the `savejdf` function."
   ]
  },
  {
   "cell_type": "code",
   "execution_count": 12,
   "metadata": {},
   "outputs": [],
   "source": [
    "savejdf(\"x.jdf\", x);"
   ]
  },
  {
   "cell_type": "markdown",
   "metadata": {},
   "source": [
    "To load the saved JDF file, one can use the `loadjdf` function"
   ]
  },
  {
   "cell_type": "code",
   "execution_count": 13,
   "metadata": {},
   "outputs": [
    {
     "data": {
      "text/html": [
       "<table class=\"data-frame\"><thead><tr><th></th><th>A</th><th>B</th><th>C</th><th>D</th></tr><tr><th></th><th>Bool</th><th>Int64?</th><th>String?</th><th>Char?</th></tr></thead><tbody><p>3 rows × 4 columns</p><tr><th>1</th><td>1</td><td>1</td><td><em>missing</em></td><td>a</td></tr><tr><th>2</th><td>0</td><td>2</td><td>b</td><td><em>missing</em></td></tr><tr><th>3</th><td>1</td><td><em>missing</em></td><td>c</td><td>c</td></tr></tbody></table>"
      ],
      "text/latex": [
       "\\begin{tabular}{r|cccc}\n",
       "\t& A & B & C & D\\\\\n",
       "\t\\hline\n",
       "\t& Bool & Int64? & String? & Char?\\\\\n",
       "\t\\hline\n",
       "\t1 & 1 & 1 & \\emph{missing} & a \\\\\n",
       "\t2 & 0 & 2 & b & \\emph{missing} \\\\\n",
       "\t3 & 1 & \\emph{missing} & c & c \\\\\n",
       "\\end{tabular}\n"
      ],
      "text/plain": [
       "\u001b[1m3×4 DataFrame\u001b[0m\n",
       "\u001b[1m Row \u001b[0m│\u001b[1m A     \u001b[0m\u001b[1m B       \u001b[0m\u001b[1m C       \u001b[0m\u001b[1m D       \u001b[0m\n",
       "\u001b[1m     \u001b[0m│\u001b[90m Bool  \u001b[0m\u001b[90m Int64?  \u001b[0m\u001b[90m String? \u001b[0m\u001b[90m Char?   \u001b[0m\n",
       "─────┼──────────────────────────────────\n",
       "   1 │  true        1 \u001b[90m missing \u001b[0m a\n",
       "   2 │ false        2  b       \u001b[90m missing \u001b[0m\n",
       "   3 │  true \u001b[90m missing \u001b[0m c        c"
      ]
     },
     "execution_count": 13,
     "metadata": {},
     "output_type": "execute_result"
    }
   ],
   "source": [
    "x_loaded = loadjdf(\"x.jdf\")"
   ]
  },
  {
   "cell_type": "markdown",
   "metadata": {},
   "source": [
    "You can see that they are the same"
   ]
  },
  {
   "cell_type": "code",
   "execution_count": 14,
   "metadata": {},
   "outputs": [
    {
     "data": {
      "text/plain": [
       "true"
      ]
     },
     "execution_count": 14,
     "metadata": {},
     "output_type": "execute_result"
    }
   ],
   "source": [
    "isequal(x_loaded, x)"
   ]
  },
  {
   "cell_type": "markdown",
   "metadata": {},
   "source": [
    "JDF.jl offers the ability to load only certain columns from disk to help with working with large files"
   ]
  },
  {
   "cell_type": "code",
   "execution_count": 15,
   "metadata": {},
   "outputs": [
    {
     "data": {
      "text/plain": [
       "JDFFile{String}(\"x.jdf\")"
      ]
     },
     "execution_count": 15,
     "metadata": {},
     "output_type": "execute_result"
    }
   ],
   "source": [
    "# set up a JDFFile which is a on disk representation of `x` backed by JDF.jl\n",
    "x_ondisk = jdf\"x.jdf\""
   ]
  },
  {
   "cell_type": "markdown",
   "metadata": {},
   "source": [
    "We can see all the names of `x` without loading it into memory"
   ]
  },
  {
   "cell_type": "code",
   "execution_count": 16,
   "metadata": {},
   "outputs": [
    {
     "data": {
      "text/plain": [
       "4-element Array{String,1}:\n",
       " \"A\"\n",
       " \"B\"\n",
       " \"C\"\n",
       " \"D\""
      ]
     },
     "execution_count": 16,
     "metadata": {},
     "output_type": "execute_result"
    }
   ],
   "source": [
    "names(x_ondisk)"
   ]
  },
  {
   "cell_type": "markdown",
   "metadata": {},
   "source": [
    "The below is an example of how to load only columns `:A` and `:D` "
   ]
  },
  {
   "cell_type": "code",
   "execution_count": 17,
   "metadata": {},
   "outputs": [
    {
     "data": {
      "text/html": [
       "<table class=\"data-frame\"><thead><tr><th></th><th>A</th><th>D</th></tr><tr><th></th><th>Bool</th><th>Char?</th></tr></thead><tbody><p>3 rows × 2 columns</p><tr><th>1</th><td>1</td><td>a</td></tr><tr><th>2</th><td>0</td><td><em>missing</em></td></tr><tr><th>3</th><td>1</td><td>c</td></tr></tbody></table>"
      ],
      "text/latex": [
       "\\begin{tabular}{r|cc}\n",
       "\t& A & D\\\\\n",
       "\t\\hline\n",
       "\t& Bool & Char?\\\\\n",
       "\t\\hline\n",
       "\t1 & 1 & a \\\\\n",
       "\t2 & 0 & \\emph{missing} \\\\\n",
       "\t3 & 1 & c \\\\\n",
       "\\end{tabular}\n"
      ],
      "text/plain": [
       "\u001b[1m3×2 DataFrame\u001b[0m\n",
       "\u001b[1m Row \u001b[0m│\u001b[1m A     \u001b[0m\u001b[1m D       \u001b[0m\n",
       "\u001b[1m     \u001b[0m│\u001b[90m Bool  \u001b[0m\u001b[90m Char?   \u001b[0m\n",
       "─────┼────────────────\n",
       "   1 │  true  a\n",
       "   2 │ false \u001b[90m missing \u001b[0m\n",
       "   3 │  true  c"
      ]
     },
     "execution_count": 17,
     "metadata": {},
     "output_type": "execute_result"
    }
   ],
   "source": [
    "xd = sloadjdf(x_ondisk; cols = [\"A\", \"D\"])"
   ]
  },
  {
   "cell_type": "markdown",
   "metadata": {},
   "source": [
    "##### JDF.jl vs others\n",
    "\n",
    "JDF.jl is specialized to DataFrames.jl and only supports a restricted list of columns, so it can not save data frames with arbitrary column types. However, this also means that JDF.jl has specialised algorithms to serailize the type it supports to optimize speed, minimize disk usage, and reduce the chance of errors\n",
    "\n",
    "The list support columns for JDF include\n",
    "\n",
    "```julia\n",
    "WeakRefStrings.StringVector\n",
    "Vector{T}, Vector{Union{Mising, T}}, Vector{Union{Nothing, T}}\n",
    "CategoricalArrays.CategoricalVetors{T}\n",
    "```\n",
    "\n",
    "where `T` can be `String`, `Bool`, `Symbol`, `Char`, `TimeZones.ZonedDateTime` (experimental) and `isbit`s types i.e. `UInt*`, `Int*`, `Float*`, and `Date*` types etc."
   ]
  },
  {
   "cell_type": "markdown",
   "metadata": {},
   "source": [
    "#### JLSO.jl\n",
    "\n",
    "Another way to perform serialization is by using the [JLSO.jl](https://github.com/invenia/JLSO.jl) library:"
   ]
  },
  {
   "cell_type": "code",
   "execution_count": 18,
   "metadata": {},
   "outputs": [],
   "source": [
    "JLSO.save(\"x.jlso\", :data => x)"
   ]
  },
  {
   "cell_type": "markdown",
   "metadata": {},
   "source": [
    "Now we can laod back the file to `y`"
   ]
  },
  {
   "cell_type": "code",
   "execution_count": 19,
   "metadata": {},
   "outputs": [
    {
     "data": {
      "text/html": [
       "<table class=\"data-frame\"><thead><tr><th></th><th>A</th><th>B</th><th>C</th><th>D</th></tr><tr><th></th><th>Bool</th><th>Int64?</th><th>String?</th><th>Char?</th></tr></thead><tbody><p>3 rows × 4 columns</p><tr><th>1</th><td>1</td><td>1</td><td><em>missing</em></td><td>a</td></tr><tr><th>2</th><td>0</td><td>2</td><td>b</td><td><em>missing</em></td></tr><tr><th>3</th><td>1</td><td><em>missing</em></td><td>c</td><td>c</td></tr></tbody></table>"
      ],
      "text/latex": [
       "\\begin{tabular}{r|cccc}\n",
       "\t& A & B & C & D\\\\\n",
       "\t\\hline\n",
       "\t& Bool & Int64? & String? & Char?\\\\\n",
       "\t\\hline\n",
       "\t1 & 1 & 1 & \\emph{missing} & a \\\\\n",
       "\t2 & 0 & 2 & b & \\emph{missing} \\\\\n",
       "\t3 & 1 & \\emph{missing} & c & c \\\\\n",
       "\\end{tabular}\n"
      ],
      "text/plain": [
       "\u001b[1m3×4 DataFrame\u001b[0m\n",
       "\u001b[1m Row \u001b[0m│\u001b[1m A     \u001b[0m\u001b[1m B       \u001b[0m\u001b[1m C       \u001b[0m\u001b[1m D       \u001b[0m\n",
       "\u001b[1m     \u001b[0m│\u001b[90m Bool  \u001b[0m\u001b[90m Int64?  \u001b[0m\u001b[90m String? \u001b[0m\u001b[90m Char?   \u001b[0m\n",
       "─────┼──────────────────────────────────\n",
       "   1 │  true        1 \u001b[90m missing \u001b[0m a\n",
       "   2 │ false        2  b       \u001b[90m missing \u001b[0m\n",
       "   3 │  true \u001b[90m missing \u001b[0m c        c"
      ]
     },
     "execution_count": 19,
     "metadata": {},
     "output_type": "execute_result"
    }
   ],
   "source": [
    "y = JLSO.load(\"x.jlso\")[:data]"
   ]
  },
  {
   "cell_type": "code",
   "execution_count": 20,
   "metadata": {},
   "outputs": [
    {
     "data": {
      "text/plain": [
       "4-element Array{Type,1}:\n",
       " Bool\n",
       " Union{Missing, Int64}\n",
       " Union{Missing, String}\n",
       " Union{Missing, Char}"
      ]
     },
     "execution_count": 20,
     "metadata": {},
     "output_type": "execute_result"
    }
   ],
   "source": [
    "eltype.(eachcol(y))"
   ]
  },
  {
   "cell_type": "markdown",
   "metadata": {},
   "source": [
    "### JSONTables.jl"
   ]
  },
  {
   "cell_type": "markdown",
   "metadata": {},
   "source": [
    "Often you might need to read and write data stored in JSON format. JSONTables.jl provides a way to process them in row-oriented or column-oriented layout. We present both options below."
   ]
  },
  {
   "cell_type": "code",
   "execution_count": 21,
   "metadata": {},
   "outputs": [
    {
     "data": {
      "text/plain": [
       "106"
      ]
     },
     "execution_count": 21,
     "metadata": {},
     "output_type": "execute_result"
    }
   ],
   "source": [
    "open(io -> arraytable(io, x), \"x1.json\", \"w\")"
   ]
  },
  {
   "cell_type": "code",
   "execution_count": 22,
   "metadata": {},
   "outputs": [
    {
     "data": {
      "text/plain": [
       "76"
      ]
     },
     "execution_count": 22,
     "metadata": {},
     "output_type": "execute_result"
    }
   ],
   "source": [
    "open(io -> objecttable(io, x), \"x2.json\", \"w\")"
   ]
  },
  {
   "cell_type": "code",
   "execution_count": 23,
   "metadata": {},
   "outputs": [
    {
     "name": "stdout",
     "output_type": "stream",
     "text": [
      "[{\"A\":true,\"B\":1,\"C\":null,\"D\":\"a\"},{\"A\":false,\"B\":2,\"C\":\"b\",\"D\":null},{\"A\":true,\"B\":null,\"C\":\"c\",\"D\":\"c\"}]"
     ]
    }
   ],
   "source": [
    "print(read(\"x1.json\", String))"
   ]
  },
  {
   "cell_type": "code",
   "execution_count": 24,
   "metadata": {},
   "outputs": [
    {
     "name": "stdout",
     "output_type": "stream",
     "text": [
      "{\"A\":[true,false,true],\"B\":[1,2,null],\"C\":[null,\"b\",\"c\"],\"D\":[\"a\",null,\"c\"]}"
     ]
    }
   ],
   "source": [
    "print(read(\"x2.json\", String))"
   ]
  },
  {
   "cell_type": "code",
   "execution_count": 25,
   "metadata": {},
   "outputs": [
    {
     "data": {
      "text/html": [
       "<table class=\"data-frame\"><thead><tr><th></th><th>A</th><th>B</th><th>C</th><th>D</th></tr><tr><th></th><th>Bool</th><th>Int64?</th><th>String?</th><th>String?</th></tr></thead><tbody><p>3 rows × 4 columns</p><tr><th>1</th><td>1</td><td>1</td><td><em>missing</em></td><td>a</td></tr><tr><th>2</th><td>0</td><td>2</td><td>b</td><td><em>missing</em></td></tr><tr><th>3</th><td>1</td><td><em>missing</em></td><td>c</td><td>c</td></tr></tbody></table>"
      ],
      "text/latex": [
       "\\begin{tabular}{r|cccc}\n",
       "\t& A & B & C & D\\\\\n",
       "\t\\hline\n",
       "\t& Bool & Int64? & String? & String?\\\\\n",
       "\t\\hline\n",
       "\t1 & 1 & 1 & \\emph{missing} & a \\\\\n",
       "\t2 & 0 & 2 & b & \\emph{missing} \\\\\n",
       "\t3 & 1 & \\emph{missing} & c & c \\\\\n",
       "\\end{tabular}\n"
      ],
      "text/plain": [
       "\u001b[1m3×4 DataFrame\u001b[0m\n",
       "\u001b[1m Row \u001b[0m│\u001b[1m A     \u001b[0m\u001b[1m B       \u001b[0m\u001b[1m C       \u001b[0m\u001b[1m D       \u001b[0m\n",
       "\u001b[1m     \u001b[0m│\u001b[90m Bool  \u001b[0m\u001b[90m Int64?  \u001b[0m\u001b[90m String? \u001b[0m\u001b[90m String? \u001b[0m\n",
       "─────┼──────────────────────────────────\n",
       "   1 │  true        1 \u001b[90m missing \u001b[0m a\n",
       "   2 │ false        2  b       \u001b[90m missing \u001b[0m\n",
       "   3 │  true \u001b[90m missing \u001b[0m c        c"
      ]
     },
     "execution_count": 25,
     "metadata": {},
     "output_type": "execute_result"
    }
   ],
   "source": [
    "y1 = open(jsontable, \"x1.json\") |> DataFrame"
   ]
  },
  {
   "cell_type": "code",
   "execution_count": 26,
   "metadata": {},
   "outputs": [
    {
     "data": {
      "text/plain": [
       "4-element Array{Type,1}:\n",
       " Bool\n",
       " Union{Missing, Int64}\n",
       " Union{Missing, String}\n",
       " Union{Missing, String}"
      ]
     },
     "execution_count": 26,
     "metadata": {},
     "output_type": "execute_result"
    }
   ],
   "source": [
    "eltype.(eachcol(y1))"
   ]
  },
  {
   "cell_type": "code",
   "execution_count": 27,
   "metadata": {},
   "outputs": [
    {
     "data": {
      "text/html": [
       "<table class=\"data-frame\"><thead><tr><th></th><th>A</th><th>B</th><th>C</th><th>D</th></tr><tr><th></th><th>Bool</th><th>Int64?</th><th>String?</th><th>String?</th></tr></thead><tbody><p>3 rows × 4 columns</p><tr><th>1</th><td>1</td><td>1</td><td><em>missing</em></td><td>a</td></tr><tr><th>2</th><td>0</td><td>2</td><td>b</td><td><em>missing</em></td></tr><tr><th>3</th><td>1</td><td><em>missing</em></td><td>c</td><td>c</td></tr></tbody></table>"
      ],
      "text/latex": [
       "\\begin{tabular}{r|cccc}\n",
       "\t& A & B & C & D\\\\\n",
       "\t\\hline\n",
       "\t& Bool & Int64? & String? & String?\\\\\n",
       "\t\\hline\n",
       "\t1 & 1 & 1 & \\emph{missing} & a \\\\\n",
       "\t2 & 0 & 2 & b & \\emph{missing} \\\\\n",
       "\t3 & 1 & \\emph{missing} & c & c \\\\\n",
       "\\end{tabular}\n"
      ],
      "text/plain": [
       "\u001b[1m3×4 DataFrame\u001b[0m\n",
       "\u001b[1m Row \u001b[0m│\u001b[1m A     \u001b[0m\u001b[1m B       \u001b[0m\u001b[1m C       \u001b[0m\u001b[1m D       \u001b[0m\n",
       "\u001b[1m     \u001b[0m│\u001b[90m Bool  \u001b[0m\u001b[90m Int64?  \u001b[0m\u001b[90m String? \u001b[0m\u001b[90m String? \u001b[0m\n",
       "─────┼──────────────────────────────────\n",
       "   1 │  true        1 \u001b[90m missing \u001b[0m a\n",
       "   2 │ false        2  b       \u001b[90m missing \u001b[0m\n",
       "   3 │  true \u001b[90m missing \u001b[0m c        c"
      ]
     },
     "execution_count": 27,
     "metadata": {},
     "output_type": "execute_result"
    }
   ],
   "source": [
    "y2 = open(jsontable, \"x2.json\") |> DataFrame"
   ]
  },
  {
   "cell_type": "code",
   "execution_count": 28,
   "metadata": {},
   "outputs": [
    {
     "data": {
      "text/plain": [
       "4-element Array{Type,1}:\n",
       " Bool\n",
       " Union{Missing, Int64}\n",
       " Union{Missing, String}\n",
       " Union{Missing, String}"
      ]
     },
     "execution_count": 28,
     "metadata": {},
     "output_type": "execute_result"
    }
   ],
   "source": [
    "eltype.(eachcol(y2))"
   ]
  },
  {
   "cell_type": "markdown",
   "metadata": {},
   "source": [
    "### Arrow.jl"
   ]
  },
  {
   "cell_type": "markdown",
   "metadata": {},
   "source": [
    "Finally we use Apache Arrow format that allows, in particular, for data interchange with R or Python."
   ]
  },
  {
   "cell_type": "code",
   "execution_count": 29,
   "metadata": {},
   "outputs": [
    {
     "data": {
      "text/plain": [
       "\"x.arrow\""
      ]
     },
     "execution_count": 29,
     "metadata": {},
     "output_type": "execute_result"
    }
   ],
   "source": [
    "Arrow.write(\"x.arrow\", x)"
   ]
  },
  {
   "cell_type": "code",
   "execution_count": 30,
   "metadata": {},
   "outputs": [
    {
     "data": {
      "text/html": [
       "<table class=\"data-frame\"><thead><tr><th></th><th>A</th><th>B</th><th>C</th><th>D</th></tr><tr><th></th><th>Bool</th><th>Int64?</th><th>String?</th><th>Char?</th></tr></thead><tbody><p>3 rows × 4 columns</p><tr><th>1</th><td>1</td><td>1</td><td><em>missing</em></td><td>a</td></tr><tr><th>2</th><td>0</td><td>2</td><td>b</td><td><em>missing</em></td></tr><tr><th>3</th><td>1</td><td><em>missing</em></td><td>c</td><td>c</td></tr></tbody></table>"
      ],
      "text/latex": [
       "\\begin{tabular}{r|cccc}\n",
       "\t& A & B & C & D\\\\\n",
       "\t\\hline\n",
       "\t& Bool & Int64? & String? & Char?\\\\\n",
       "\t\\hline\n",
       "\t1 & 1 & 1 & \\emph{missing} & a \\\\\n",
       "\t2 & 0 & 2 & b & \\emph{missing} \\\\\n",
       "\t3 & 1 & \\emph{missing} & c & c \\\\\n",
       "\\end{tabular}\n"
      ],
      "text/plain": [
       "\u001b[1m3×4 DataFrame\u001b[0m\n",
       "\u001b[1m Row \u001b[0m│\u001b[1m A     \u001b[0m\u001b[1m B       \u001b[0m\u001b[1m C       \u001b[0m\u001b[1m D       \u001b[0m\n",
       "\u001b[1m     \u001b[0m│\u001b[90m Bool  \u001b[0m\u001b[90m Int64?  \u001b[0m\u001b[90m String? \u001b[0m\u001b[90m Char?   \u001b[0m\n",
       "─────┼──────────────────────────────────\n",
       "   1 │  true        1 \u001b[90m missing \u001b[0m a\n",
       "   2 │ false        2  b       \u001b[90m missing \u001b[0m\n",
       "   3 │  true \u001b[90m missing \u001b[0m c        c"
      ]
     },
     "execution_count": 30,
     "metadata": {},
     "output_type": "execute_result"
    }
   ],
   "source": [
    "y = Arrow.Table(\"x.arrow\") |> DataFrame"
   ]
  },
  {
   "cell_type": "code",
   "execution_count": 31,
   "metadata": {},
   "outputs": [
    {
     "data": {
      "text/plain": [
       "4-element Array{Type,1}:\n",
       " Bool\n",
       " Union{Missing, Int64}\n",
       " Union{Missing, String}\n",
       " Union{Missing, Char}"
      ]
     },
     "execution_count": 31,
     "metadata": {},
     "output_type": "execute_result"
    }
   ],
   "source": [
    "eltype.(eachcol(y))"
   ]
  },
  {
   "cell_type": "markdown",
   "metadata": {},
   "source": [
    "Note that columns of `y` are immutable"
   ]
  },
  {
   "cell_type": "code",
   "execution_count": 32,
   "metadata": {},
   "outputs": [
    {
     "ename": "LoadError",
     "evalue": "ReadOnlyMemoryError()",
     "output_type": "error",
     "traceback": [
      "ReadOnlyMemoryError()",
      "",
      "Stacktrace:",
      " [1] setindex! at .\\array.jl:847 [inlined]",
      " [2] setindex!(::Arrow.BoolVector{Bool}, ::Bool, ::Int64) at D:\\AppData\\.julia\\packages\\Arrow\\Gl8iW\\src\\arraytypes\\bool.jl:49",
      " [3] top-level scope at In[32]:1",
      " [4] include_string(::Function, ::Module, ::String, ::String) at .\\loading.jl:1091"
     ]
    }
   ],
   "source": [
    "y.A[1] = false"
   ]
  },
  {
   "cell_type": "markdown",
   "metadata": {},
   "source": [
    "This is because `Arrow.Table` uses memory mapping and thus uses a custom vector types:"
   ]
  },
  {
   "cell_type": "code",
   "execution_count": 33,
   "metadata": {},
   "outputs": [
    {
     "data": {
      "text/plain": [
       "3-element Arrow.BoolVector{Bool}:\n",
       " 1\n",
       " 0\n",
       " 1"
      ]
     },
     "execution_count": 33,
     "metadata": {},
     "output_type": "execute_result"
    }
   ],
   "source": [
    "y.A"
   ]
  },
  {
   "cell_type": "code",
   "execution_count": 34,
   "metadata": {},
   "outputs": [
    {
     "data": {
      "text/plain": [
       "3-element Arrow.Primitive{Union{Missing, Int64},Array{Int64,1}}:\n",
       " 1\n",
       " 2\n",
       "  missing"
      ]
     },
     "execution_count": 34,
     "metadata": {},
     "output_type": "execute_result"
    }
   ],
   "source": [
    "y.B"
   ]
  },
  {
   "cell_type": "markdown",
   "metadata": {},
   "source": [
    "You can get standard Julia Base vectors by copying a data frame"
   ]
  },
  {
   "cell_type": "code",
   "execution_count": 35,
   "metadata": {},
   "outputs": [
    {
     "data": {
      "text/html": [
       "<table class=\"data-frame\"><thead><tr><th></th><th>A</th><th>B</th><th>C</th><th>D</th></tr><tr><th></th><th>Bool</th><th>Int64?</th><th>String?</th><th>Char?</th></tr></thead><tbody><p>3 rows × 4 columns</p><tr><th>1</th><td>1</td><td>1</td><td><em>missing</em></td><td>a</td></tr><tr><th>2</th><td>0</td><td>2</td><td>b</td><td><em>missing</em></td></tr><tr><th>3</th><td>1</td><td><em>missing</em></td><td>c</td><td>c</td></tr></tbody></table>"
      ],
      "text/latex": [
       "\\begin{tabular}{r|cccc}\n",
       "\t& A & B & C & D\\\\\n",
       "\t\\hline\n",
       "\t& Bool & Int64? & String? & Char?\\\\\n",
       "\t\\hline\n",
       "\t1 & 1 & 1 & \\emph{missing} & a \\\\\n",
       "\t2 & 0 & 2 & b & \\emph{missing} \\\\\n",
       "\t3 & 1 & \\emph{missing} & c & c \\\\\n",
       "\\end{tabular}\n"
      ],
      "text/plain": [
       "\u001b[1m3×4 DataFrame\u001b[0m\n",
       "\u001b[1m Row \u001b[0m│\u001b[1m A     \u001b[0m\u001b[1m B       \u001b[0m\u001b[1m C       \u001b[0m\u001b[1m D       \u001b[0m\n",
       "\u001b[1m     \u001b[0m│\u001b[90m Bool  \u001b[0m\u001b[90m Int64?  \u001b[0m\u001b[90m String? \u001b[0m\u001b[90m Char?   \u001b[0m\n",
       "─────┼──────────────────────────────────\n",
       "   1 │  true        1 \u001b[90m missing \u001b[0m a\n",
       "   2 │ false        2  b       \u001b[90m missing \u001b[0m\n",
       "   3 │  true \u001b[90m missing \u001b[0m c        c"
      ]
     },
     "execution_count": 35,
     "metadata": {},
     "output_type": "execute_result"
    }
   ],
   "source": [
    "y2 = copy(y)"
   ]
  },
  {
   "cell_type": "code",
   "execution_count": 36,
   "metadata": {},
   "outputs": [
    {
     "data": {
      "text/plain": [
       "3-element Array{Bool,1}:\n",
       " 1\n",
       " 0\n",
       " 1"
      ]
     },
     "execution_count": 36,
     "metadata": {},
     "output_type": "execute_result"
    }
   ],
   "source": [
    "y2.A"
   ]
  },
  {
   "cell_type": "code",
   "execution_count": 37,
   "metadata": {},
   "outputs": [
    {
     "data": {
      "text/plain": [
       "3-element Array{Union{Missing, Int64},1}:\n",
       " 1\n",
       " 2\n",
       "  missing"
      ]
     },
     "execution_count": 37,
     "metadata": {},
     "output_type": "execute_result"
    }
   ],
   "source": [
    "y2.B"
   ]
  },
  {
   "cell_type": "markdown",
   "metadata": {},
   "source": [
    "### Basic bechmarking"
   ]
  },
  {
   "cell_type": "markdown",
   "metadata": {},
   "source": [
    "Next, we'll create some files, so be careful that you don't already have these files in your working directory!\n",
    "\n",
    "In particular, we'll time how long it takes us to write a `DataFrame` with 10^3 rows and 10^5 columns."
   ]
  },
  {
   "cell_type": "code",
   "execution_count": 38,
   "metadata": {},
   "outputs": [
    {
     "name": "stdout",
     "output_type": "stream",
     "text": [
      "First run\n",
      "CSV.jl\n",
      " 18.336468 seconds (251.61 M allocations: 8.272 GiB, 8.55% gc time)\n",
      "Serialization\n",
      "  1.292221 seconds (281.32 k allocations: 11.391 MiB)\n",
      "JDF.jl\n",
      "  3.174406 seconds (98.22 k allocations: 167.224 MiB, 0.84% gc time)\n",
      "JLSO.jl\n",
      "  4.622379 seconds (364.15 k allocations: 31.849 MiB)\n",
      "Arrow.jl\n",
      "  1.714735 seconds (3.91 M allocations: 210.636 MiB, 1.96% gc time)\n",
      "JSONTables.jl arraytable\n",
      "144.985897 seconds (1.30 G allocations: 227.096 GiB, 13.14% gc time)\n",
      "JSONTables.jl objecttable\n",
      "  2.078348 seconds (363.09 k allocations: 1.587 GiB, 4.75% gc time)\n",
      "Second run\n",
      "CSV.jl\n",
      " 17.975779 seconds (249.94 M allocations: 8.199 GiB, 6.94% gc time)\n",
      "Serialization\n",
      "  1.281253 seconds (105.69 k allocations: 2.292 MiB)\n",
      "JDF.jl\n",
      "  2.195526 seconds (27.08 k allocations: 163.650 MiB)\n",
      "JLSO.jl\n",
      "  4.601957 seconds (139.77 k allocations: 20.918 MiB)\n",
      "Arrow.jl\n",
      "  0.405740 seconds (123.71 k allocations: 14.419 MiB, 8.80% gc time)\n",
      "JSONTables.jl arraytable\n",
      "149.474199 seconds (1.30 G allocations: 227.064 GiB, 11.89% gc time)\n",
      "JSONTables.jl objecttable\n",
      "  1.410956 seconds (12.81 k allocations: 1.571 GiB, 6.22% gc time)\n"
     ]
    },
    {
     "data": {
      "text/plain": [
       "1.413189399"
      ]
     },
     "execution_count": 38,
     "metadata": {},
     "output_type": "execute_result"
    }
   ],
   "source": [
    "bigdf = DataFrame(rand(Bool, 10^5, 500), :auto)\n",
    "bigdf[!, 1] = Int.(bigdf[!, 1])\n",
    "bigdf[!, 2] = bigdf[!, 2] .+ 0.5\n",
    "bigdf[!, 3] = string.(bigdf[!, 3], \", as string\")\n",
    "println(\"First run\")\n",
    "println(\"CSV.jl\")\n",
    "csvwrite1 = @elapsed @time CSV.write(\"bigdf1.csv\", bigdf)\n",
    "println(\"Serialization\")\n",
    "serializewrite1 = @elapsed @time open(io -> serialize(io, bigdf), \"bigdf.bin\", \"w\")\n",
    "println(\"JDF.jl\")\n",
    "jdfwrite1 = @elapsed @time savejdf(\"bigdf.jdf\", bigdf)\n",
    "println(\"JLSO.jl\")\n",
    "jlsowrite1 = @elapsed @time JLSO.save(\"bigdf.jlso\", :data => bigdf)\n",
    "println(\"Arrow.jl\")\n",
    "arrowwrite1 = @elapsed @time Arrow.write(\"bigdf.arrow\", bigdf)\n",
    "println(\"JSONTables.jl arraytable\")\n",
    "jsontablesawrite1 = @elapsed @time open(io -> arraytable(io, bigdf), \"bigdf1.json\", \"w\")\n",
    "println(\"JSONTables.jl objecttable\")\n",
    "jsontablesowrite1 = @elapsed @time open(io -> objecttable(io, bigdf), \"bigdf2.json\", \"w\")\n",
    "println(\"Second run\")\n",
    "println(\"CSV.jl\")\n",
    "csvwrite2 = @elapsed @time CSV.write(\"bigdf1.csv\", bigdf)\n",
    "println(\"Serialization\")\n",
    "serializewrite2 = @elapsed @time open(io -> serialize(io, bigdf), \"bigdf.bin\", \"w\")\n",
    "println(\"JDF.jl\")\n",
    "jdfwrite2 = @elapsed @time savejdf(\"bigdf.jdf\", bigdf)\n",
    "println(\"JLSO.jl\")\n",
    "jlsowrite2 = @elapsed @time JLSO.save(\"bigdf.jlso\", :data => bigdf)\n",
    "println(\"Arrow.jl\")\n",
    "arrowwrite2 = @elapsed @time Arrow.write(\"bigdf.arrow\", bigdf)\n",
    "println(\"JSONTables.jl arraytable\")\n",
    "jsontablesawrite2 = @elapsed @time open(io -> arraytable(io, bigdf), \"bigdf1.json\", \"w\")\n",
    "println(\"JSONTables.jl objecttable\")\n",
    "jsontablesowrite2 = @elapsed @time open(io -> objecttable(io, bigdf), \"bigdf2.json\", \"w\")"
   ]
  },
  {
   "cell_type": "code",
   "execution_count": 39,
   "metadata": {},
   "outputs": [
    {
     "data": {
      "image/svg+xml": [
       "<?xml version=\"1.0\" encoding=\"utf-8\"?>\n",
       "<svg xmlns=\"http://www.w3.org/2000/svg\" xmlns:xlink=\"http://www.w3.org/1999/xlink\" width=\"600\" height=\"400\" viewBox=\"0 0 2400 1600\">\n",
       "<defs>\n",
       "  <clipPath id=\"clip030\">\n",
       "    <rect x=\"0\" y=\"0\" width=\"2400\" height=\"1600\"/>\n",
       "  </clipPath>\n",
       "</defs>\n",
       "<path clip-path=\"url(#clip030)\" d=\"\n",
       "M0 1600 L2400 1600 L2400 0 L0 0  Z\n",
       "  \" fill=\"#ffffff\" fill-rule=\"evenodd\" fill-opacity=\"1\"/>\n",
       "<defs>\n",
       "  <clipPath id=\"clip031\">\n",
       "    <rect x=\"480\" y=\"0\" width=\"1681\" height=\"1600\"/>\n",
       "  </clipPath>\n",
       "</defs>\n",
       "<path clip-path=\"url(#clip030)\" d=\"\n",
       "M197.852 1451.89 L2352.76 1451.89 L2352.76 244.432 L197.852 244.432  Z\n",
       "  \" fill=\"#ffffff\" fill-rule=\"evenodd\" fill-opacity=\"1\"/>\n",
       "<defs>\n",
       "  <clipPath id=\"clip032\">\n",
       "    <rect x=\"197\" y=\"244\" width=\"2156\" height=\"1208\"/>\n",
       "  </clipPath>\n",
       "</defs>\n",
       "<polyline clip-path=\"url(#clip032)\" style=\"stroke:#000000; stroke-width:2; stroke-opacity:0.1; fill:none\" points=\"\n",
       "  445.402,1451.89 445.402,244.432 \n",
       "  \"/>\n",
       "<polyline clip-path=\"url(#clip032)\" style=\"stroke:#000000; stroke-width:2; stroke-opacity:0.1; fill:none\" points=\"\n",
       "  777.363,1451.89 777.363,244.432 \n",
       "  \"/>\n",
       "<polyline clip-path=\"url(#clip032)\" style=\"stroke:#000000; stroke-width:2; stroke-opacity:0.1; fill:none\" points=\"\n",
       "  1109.32,1451.89 1109.32,244.432 \n",
       "  \"/>\n",
       "<polyline clip-path=\"url(#clip032)\" style=\"stroke:#000000; stroke-width:2; stroke-opacity:0.1; fill:none\" points=\"\n",
       "  1441.28,1451.89 1441.28,244.432 \n",
       "  \"/>\n",
       "<polyline clip-path=\"url(#clip032)\" style=\"stroke:#000000; stroke-width:2; stroke-opacity:0.1; fill:none\" points=\"\n",
       "  1773.25,1451.89 1773.25,244.432 \n",
       "  \"/>\n",
       "<polyline clip-path=\"url(#clip032)\" style=\"stroke:#000000; stroke-width:2; stroke-opacity:0.1; fill:none\" points=\"\n",
       "  2105.21,1451.89 2105.21,244.432 \n",
       "  \"/>\n",
       "<polyline clip-path=\"url(#clip030)\" style=\"stroke:#000000; stroke-width:4; stroke-opacity:1; fill:none\" points=\"\n",
       "  197.852,1451.89 2352.76,1451.89 \n",
       "  \"/>\n",
       "<polyline clip-path=\"url(#clip030)\" style=\"stroke:#000000; stroke-width:4; stroke-opacity:1; fill:none\" points=\"\n",
       "  445.402,1451.89 445.402,1437.4 \n",
       "  \"/>\n",
       "<polyline clip-path=\"url(#clip030)\" style=\"stroke:#000000; stroke-width:4; stroke-opacity:1; fill:none\" points=\"\n",
       "  777.363,1451.89 777.363,1437.4 \n",
       "  \"/>\n",
       "<polyline clip-path=\"url(#clip030)\" style=\"stroke:#000000; stroke-width:4; stroke-opacity:1; fill:none\" points=\"\n",
       "  1109.32,1451.89 1109.32,1437.4 \n",
       "  \"/>\n",
       "<polyline clip-path=\"url(#clip030)\" style=\"stroke:#000000; stroke-width:4; stroke-opacity:1; fill:none\" points=\"\n",
       "  1441.28,1451.89 1441.28,1437.4 \n",
       "  \"/>\n",
       "<polyline clip-path=\"url(#clip030)\" style=\"stroke:#000000; stroke-width:4; stroke-opacity:1; fill:none\" points=\"\n",
       "  1773.25,1451.89 1773.25,1437.4 \n",
       "  \"/>\n",
       "<polyline clip-path=\"url(#clip030)\" style=\"stroke:#000000; stroke-width:4; stroke-opacity:1; fill:none\" points=\"\n",
       "  2105.21,1451.89 2105.21,1437.4 \n",
       "  \"/>\n",
       "<path clip-path=\"url(#clip030)\" d=\"M 0 0 M383.724 1482.61 L377.382 1499.81 L390.09 1499.81 L383.724 1482.61 M381.085 1478 L386.386 1478 L399.558 1512.56 L394.697 1512.56 L391.548 1503.69 L375.97 1503.69 L372.822 1512.56 L367.891 1512.56 L381.085 1478 Z\" fill=\"#000000\" fill-rule=\"evenodd\" fill-opacity=\"1\" /><path clip-path=\"url(#clip030)\" d=\"M 0 0 M419.048 1490.62 Q418.331 1490.2 417.474 1490.01 Q416.641 1489.81 415.622 1489.81 Q412.011 1489.81 410.067 1492.17 Q408.146 1494.5 408.146 1498.9 L408.146 1512.56 L403.863 1512.56 L403.863 1486.63 L408.146 1486.63 L408.146 1490.66 Q409.488 1488.3 411.641 1487.17 Q413.794 1486.01 416.872 1486.01 Q417.312 1486.01 417.845 1486.08 Q418.377 1486.12 419.025 1486.24 L419.048 1490.62 Z\" fill=\"#000000\" fill-rule=\"evenodd\" fill-opacity=\"1\" /><path clip-path=\"url(#clip030)\" d=\"M 0 0 M437.706 1490.62 Q436.988 1490.2 436.131 1490.01 Q435.298 1489.81 434.28 1489.81 Q430.669 1489.81 428.724 1492.17 Q426.803 1494.5 426.803 1498.9 L426.803 1512.56 L422.52 1512.56 L422.52 1486.63 L426.803 1486.63 L426.803 1490.66 Q428.145 1488.3 430.298 1487.17 Q432.451 1486.01 435.53 1486.01 Q435.969 1486.01 436.502 1486.08 Q437.034 1486.12 437.682 1486.24 L437.706 1490.62 Z\" fill=\"#000000\" fill-rule=\"evenodd\" fill-opacity=\"1\" /><path clip-path=\"url(#clip030)\" d=\"M 0 0 M451.178 1489.62 Q447.752 1489.62 445.761 1492.31 Q443.77 1494.97 443.77 1499.62 Q443.77 1504.27 445.738 1506.96 Q447.729 1509.62 451.178 1509.62 Q454.58 1509.62 456.571 1506.93 Q458.562 1504.25 458.562 1499.62 Q458.562 1495.01 456.571 1492.33 Q454.58 1489.62 451.178 1489.62 M451.178 1486.01 Q456.733 1486.01 459.905 1489.62 Q463.076 1493.23 463.076 1499.62 Q463.076 1505.99 459.905 1509.62 Q456.733 1513.23 451.178 1513.23 Q445.599 1513.23 442.428 1509.62 Q439.28 1505.99 439.28 1499.62 Q439.28 1493.23 442.428 1489.62 Q445.599 1486.01 451.178 1486.01 Z\" fill=\"#000000\" fill-rule=\"evenodd\" fill-opacity=\"1\" /><path clip-path=\"url(#clip030)\" d=\"M 0 0 M465.067 1486.63 L469.326 1486.63 L474.65 1506.87 L479.951 1486.63 L484.974 1486.63 L490.298 1506.87 L495.599 1486.63 L499.858 1486.63 L493.076 1512.56 L488.053 1512.56 L482.474 1491.31 L476.872 1512.56 L471.849 1512.56 L465.067 1486.63 Z\" fill=\"#000000\" fill-rule=\"evenodd\" fill-opacity=\"1\" /><path clip-path=\"url(#clip030)\" d=\"M 0 0 M500.576 1506.68 L505.46 1506.68 L505.46 1512.56 L500.576 1512.56 L500.576 1506.68 Z\" fill=\"#000000\" fill-rule=\"evenodd\" fill-opacity=\"1\" /><path clip-path=\"url(#clip030)\" d=\"M 0 0 M509.927 1486.63 L514.187 1486.63 L514.187 1513.02 Q514.187 1517.98 512.288 1520.2 Q510.414 1522.42 506.224 1522.42 L504.603 1522.42 L504.603 1518.81 L505.738 1518.81 Q508.168 1518.81 509.048 1517.68 Q509.927 1516.56 509.927 1513.02 L509.927 1486.63 M509.927 1476.54 L514.187 1476.54 L514.187 1481.94 L509.927 1481.94 L509.927 1476.54 Z\" fill=\"#000000\" fill-rule=\"evenodd\" fill-opacity=\"1\" /><path clip-path=\"url(#clip030)\" d=\"M 0 0 M518.654 1476.54 L522.913 1476.54 L522.913 1512.56 L518.654 1512.56 L518.654 1476.54 Z\" fill=\"#000000\" fill-rule=\"evenodd\" fill-opacity=\"1\" /><path clip-path=\"url(#clip030)\" d=\"M 0 0 M750.905 1480.66 L750.905 1485.59 Q748.544 1483.39 745.859 1482.31 Q743.197 1481.22 740.187 1481.22 Q734.261 1481.22 731.113 1484.85 Q727.965 1488.46 727.965 1495.31 Q727.965 1502.14 731.113 1505.78 Q734.261 1509.39 740.187 1509.39 Q743.197 1509.39 745.859 1508.3 Q748.544 1507.21 750.905 1505.01 L750.905 1509.9 Q748.451 1511.56 745.697 1512.4 Q742.965 1513.23 739.91 1513.23 Q732.062 1513.23 727.548 1508.44 Q723.035 1503.62 723.035 1495.31 Q723.035 1486.98 727.548 1482.19 Q732.062 1477.37 739.91 1477.37 Q743.011 1477.37 745.743 1478.21 Q748.497 1479.02 750.905 1480.66 Z\" fill=\"#000000\" fill-rule=\"evenodd\" fill-opacity=\"1\" /><path clip-path=\"url(#clip030)\" d=\"M 0 0 M776.275 1479.13 L776.275 1483.69 Q773.613 1482.42 771.252 1481.8 Q768.891 1481.17 766.692 1481.17 Q762.872 1481.17 760.789 1482.65 Q758.729 1484.13 758.729 1486.87 Q758.729 1489.16 760.095 1490.34 Q761.484 1491.5 765.326 1492.21 L768.15 1492.79 Q773.382 1493.79 775.858 1496.31 Q778.358 1498.81 778.358 1503.02 Q778.358 1508.05 774.979 1510.64 Q771.622 1513.23 765.118 1513.23 Q762.664 1513.23 759.886 1512.68 Q757.132 1512.12 754.169 1511.03 L754.169 1506.22 Q757.016 1507.81 759.747 1508.62 Q762.479 1509.43 765.118 1509.43 Q769.122 1509.43 771.298 1507.86 Q773.474 1506.29 773.474 1503.37 Q773.474 1500.82 771.9 1499.39 Q770.349 1497.95 766.784 1497.24 L763.937 1496.68 Q758.706 1495.64 756.368 1493.42 Q754.03 1491.19 754.03 1487.24 Q754.03 1482.65 757.247 1480.01 Q760.488 1477.37 766.159 1477.37 Q768.59 1477.37 771.113 1477.81 Q773.636 1478.25 776.275 1479.13 Z\" fill=\"#000000\" fill-rule=\"evenodd\" fill-opacity=\"1\" /><path clip-path=\"url(#clip030)\" d=\"M 0 0 M791.923 1512.56 L778.729 1478 L783.613 1478 L794.562 1507.1 L805.534 1478 L810.395 1478 L797.224 1512.56 L791.923 1512.56 Z\" fill=\"#000000\" fill-rule=\"evenodd\" fill-opacity=\"1\" /><path clip-path=\"url(#clip030)\" d=\"M 0 0 M809.354 1506.68 L814.238 1506.68 L814.238 1512.56 L809.354 1512.56 L809.354 1506.68 Z\" fill=\"#000000\" fill-rule=\"evenodd\" fill-opacity=\"1\" /><path clip-path=\"url(#clip030)\" d=\"M 0 0 M818.705 1486.63 L822.965 1486.63 L822.965 1513.02 Q822.965 1517.98 821.067 1520.2 Q819.192 1522.42 815.002 1522.42 L813.381 1522.42 L813.381 1518.81 L814.516 1518.81 Q816.946 1518.81 817.826 1517.68 Q818.705 1516.56 818.705 1513.02 L818.705 1486.63 M818.705 1476.54 L822.965 1476.54 L822.965 1481.94 L818.705 1481.94 L818.705 1476.54 Z\" fill=\"#000000\" fill-rule=\"evenodd\" fill-opacity=\"1\" /><path clip-path=\"url(#clip030)\" d=\"M 0 0 M827.432 1476.54 L831.691 1476.54 L831.691 1512.56 L827.432 1512.56 L827.432 1476.54 Z\" fill=\"#000000\" fill-rule=\"evenodd\" fill-opacity=\"1\" /><path clip-path=\"url(#clip030)\" d=\"M 0 0 M1071.53 1478 L1076.21 1478 L1076.21 1510.15 Q1076.21 1516.4 1073.83 1519.23 Q1071.47 1522.05 1066.21 1522.05 L1064.43 1522.05 L1064.43 1518.12 L1065.89 1518.12 Q1068.99 1518.12 1070.26 1516.38 Q1071.53 1514.64 1071.53 1510.15 L1071.53 1478 Z\" fill=\"#000000\" fill-rule=\"evenodd\" fill-opacity=\"1\" /><path clip-path=\"url(#clip030)\" d=\"M 0 0 M1085.54 1481.84 L1085.54 1508.72 L1091.19 1508.72 Q1098.34 1508.72 1101.65 1505.48 Q1104.98 1502.24 1104.98 1495.25 Q1104.98 1488.3 1101.65 1485.08 Q1098.34 1481.84 1091.19 1481.84 L1085.54 1481.84 M1080.86 1478 L1090.47 1478 Q1100.52 1478 1105.22 1482.19 Q1109.91 1486.36 1109.91 1495.25 Q1109.91 1504.18 1105.19 1508.37 Q1100.47 1512.56 1090.47 1512.56 L1080.86 1512.56 L1080.86 1478 Z\" fill=\"#000000\" fill-rule=\"evenodd\" fill-opacity=\"1\" /><path clip-path=\"url(#clip030)\" d=\"M 0 0 M1114.57 1478 L1134.43 1478 L1134.43 1481.94 L1119.24 1481.94 L1119.24 1492.12 L1132.95 1492.12 L1132.95 1496.06 L1119.24 1496.06 L1119.24 1512.56 L1114.57 1512.56 L1114.57 1478 Z\" fill=\"#000000\" fill-rule=\"evenodd\" fill-opacity=\"1\" /><path clip-path=\"url(#clip030)\" d=\"M 0 0 M1131.88 1506.68 L1136.77 1506.68 L1136.77 1512.56 L1131.88 1512.56 L1131.88 1506.68 Z\" fill=\"#000000\" fill-rule=\"evenodd\" fill-opacity=\"1\" /><path clip-path=\"url(#clip030)\" d=\"M 0 0 M1141.23 1486.63 L1145.49 1486.63 L1145.49 1513.02 Q1145.49 1517.98 1143.59 1520.2 Q1141.72 1522.42 1137.53 1522.42 L1135.91 1522.42 L1135.91 1518.81 L1137.04 1518.81 Q1139.47 1518.81 1140.35 1517.68 Q1141.23 1516.56 1141.23 1513.02 L1141.23 1486.63 M1141.23 1476.54 L1145.49 1476.54 L1145.49 1481.94 L1141.23 1481.94 L1141.23 1476.54 Z\" fill=\"#000000\" fill-rule=\"evenodd\" fill-opacity=\"1\" /><path clip-path=\"url(#clip030)\" d=\"M 0 0 M1149.96 1476.54 L1154.22 1476.54 L1154.22 1512.56 L1149.96 1512.56 L1149.96 1476.54 Z\" fill=\"#000000\" fill-rule=\"evenodd\" fill-opacity=\"1\" /><path clip-path=\"url(#clip030)\" d=\"M 0 0 M1385.63 1478 L1390.3 1478 L1390.3 1510.15 Q1390.3 1516.4 1387.92 1519.23 Q1385.56 1522.05 1380.3 1522.05 L1378.52 1522.05 L1378.52 1518.12 L1379.98 1518.12 Q1383.08 1518.12 1384.35 1516.38 Q1385.63 1514.64 1385.63 1510.15 L1385.63 1478 Z\" fill=\"#000000\" fill-rule=\"evenodd\" fill-opacity=\"1\" /><path clip-path=\"url(#clip030)\" d=\"M 0 0 M1394.95 1478 L1399.63 1478 L1399.63 1508.62 L1416.46 1508.62 L1416.46 1512.56 L1394.95 1512.56 L1394.95 1478 Z\" fill=\"#000000\" fill-rule=\"evenodd\" fill-opacity=\"1\" /><path clip-path=\"url(#clip030)\" d=\"M 0 0 M1441.83 1479.13 L1441.83 1483.69 Q1439.17 1482.42 1436.81 1481.8 Q1434.44 1481.17 1432.25 1481.17 Q1428.43 1481.17 1426.34 1482.65 Q1424.28 1484.13 1424.28 1486.87 Q1424.28 1489.16 1425.65 1490.34 Q1427.04 1491.5 1430.88 1492.21 L1433.7 1492.79 Q1438.94 1493.79 1441.41 1496.31 Q1443.91 1498.81 1443.91 1503.02 Q1443.91 1508.05 1440.53 1510.64 Q1437.18 1513.23 1430.67 1513.23 Q1428.22 1513.23 1425.44 1512.68 Q1422.69 1512.12 1419.72 1511.03 L1419.72 1506.22 Q1422.57 1507.81 1425.3 1508.62 Q1428.03 1509.43 1430.67 1509.43 Q1434.68 1509.43 1436.85 1507.86 Q1439.03 1506.29 1439.03 1503.37 Q1439.03 1500.82 1437.45 1499.39 Q1435.9 1497.95 1432.34 1497.24 L1429.49 1496.68 Q1424.26 1495.64 1421.92 1493.42 Q1419.58 1491.19 1419.58 1487.24 Q1419.58 1482.65 1422.8 1480.01 Q1426.04 1477.37 1431.71 1477.37 Q1434.14 1477.37 1436.67 1477.81 Q1439.19 1478.25 1441.83 1479.13 Z\" fill=\"#000000\" fill-rule=\"evenodd\" fill-opacity=\"1\" /><path clip-path=\"url(#clip030)\" d=\"M 0 0 M1462.59 1481.17 Q1457.5 1481.17 1454.49 1484.97 Q1451.5 1488.76 1451.5 1495.31 Q1451.5 1501.84 1454.49 1505.64 Q1457.5 1509.43 1462.59 1509.43 Q1467.68 1509.43 1470.65 1505.64 Q1473.63 1501.84 1473.63 1495.31 Q1473.63 1488.76 1470.65 1484.97 Q1467.68 1481.17 1462.59 1481.17 M1462.59 1477.37 Q1469.86 1477.37 1474.21 1482.26 Q1478.56 1487.12 1478.56 1495.31 Q1478.56 1503.49 1474.21 1508.37 Q1469.86 1513.23 1462.59 1513.23 Q1455.3 1513.23 1450.93 1508.37 Q1446.57 1503.51 1446.57 1495.31 Q1446.57 1487.12 1450.93 1482.26 Q1455.3 1477.37 1462.59 1477.37 Z\" fill=\"#000000\" fill-rule=\"evenodd\" fill-opacity=\"1\" /><path clip-path=\"url(#clip030)\" d=\"M 0 0 M1481.71 1506.68 L1486.6 1506.68 L1486.6 1512.56 L1481.71 1512.56 L1481.71 1506.68 Z\" fill=\"#000000\" fill-rule=\"evenodd\" fill-opacity=\"1\" /><path clip-path=\"url(#clip030)\" d=\"M 0 0 M1491.06 1486.63 L1495.32 1486.63 L1495.32 1513.02 Q1495.32 1517.98 1493.43 1520.2 Q1491.55 1522.42 1487.36 1522.42 L1485.74 1522.42 L1485.74 1518.81 L1486.87 1518.81 Q1489.31 1518.81 1490.18 1517.68 Q1491.06 1516.56 1491.06 1513.02 L1491.06 1486.63 M1491.06 1476.54 L1495.32 1476.54 L1495.32 1481.94 L1491.06 1481.94 L1491.06 1476.54 Z\" fill=\"#000000\" fill-rule=\"evenodd\" fill-opacity=\"1\" /><path clip-path=\"url(#clip030)\" d=\"M 0 0 M1499.79 1476.54 L1504.05 1476.54 L1504.05 1512.56 L1499.79 1512.56 L1499.79 1476.54 Z\" fill=\"#000000\" fill-rule=\"evenodd\" fill-opacity=\"1\" /><path clip-path=\"url(#clip030)\" d=\"M 0 0 M1648.67 1478 L1653.35 1478 L1653.35 1510.15 Q1653.35 1516.4 1650.97 1519.23 Q1648.6 1522.05 1643.35 1522.05 L1641.57 1522.05 L1641.57 1518.12 L1643.03 1518.12 Q1646.13 1518.12 1647.4 1516.38 Q1648.67 1514.64 1648.67 1510.15 L1648.67 1478 Z\" fill=\"#000000\" fill-rule=\"evenodd\" fill-opacity=\"1\" /><path clip-path=\"url(#clip030)\" d=\"M 0 0 M1678.72 1479.13 L1678.72 1483.69 Q1676.06 1482.42 1673.7 1481.8 Q1671.34 1481.17 1669.14 1481.17 Q1665.32 1481.17 1663.23 1482.65 Q1661.17 1484.13 1661.17 1486.87 Q1661.17 1489.16 1662.54 1490.34 Q1663.93 1491.5 1667.77 1492.21 L1670.6 1492.79 Q1675.83 1493.79 1678.3 1496.31 Q1680.8 1498.81 1680.8 1503.02 Q1680.8 1508.05 1677.42 1510.64 Q1674.07 1513.23 1667.56 1513.23 Q1665.11 1513.23 1662.33 1512.68 Q1659.58 1512.12 1656.61 1511.03 L1656.61 1506.22 Q1659.46 1507.81 1662.19 1508.62 Q1664.92 1509.43 1667.56 1509.43 Q1671.57 1509.43 1673.74 1507.86 Q1675.92 1506.29 1675.92 1503.37 Q1675.92 1500.82 1674.35 1499.39 Q1672.79 1497.95 1669.23 1497.24 L1666.38 1496.68 Q1661.15 1495.64 1658.81 1493.42 Q1656.48 1491.19 1656.48 1487.24 Q1656.48 1482.65 1659.69 1480.01 Q1662.93 1477.37 1668.6 1477.37 Q1671.04 1477.37 1673.56 1477.81 Q1676.08 1478.25 1678.72 1479.13 Z\" fill=\"#000000\" fill-rule=\"evenodd\" fill-opacity=\"1\" /><path clip-path=\"url(#clip030)\" d=\"M 0 0 M1699.48 1481.17 Q1694.39 1481.17 1691.38 1484.97 Q1688.4 1488.76 1688.4 1495.31 Q1688.4 1501.84 1691.38 1505.64 Q1694.39 1509.43 1699.48 1509.43 Q1704.58 1509.43 1707.54 1505.64 Q1710.53 1501.84 1710.53 1495.31 Q1710.53 1488.76 1707.54 1484.97 Q1704.58 1481.17 1699.48 1481.17 M1699.48 1477.37 Q1706.75 1477.37 1711.1 1482.26 Q1715.46 1487.12 1715.46 1495.31 Q1715.46 1503.49 1711.1 1508.37 Q1706.75 1513.23 1699.48 1513.23 Q1692.19 1513.23 1687.82 1508.37 Q1683.47 1503.51 1683.47 1495.31 Q1683.47 1487.12 1687.82 1482.26 Q1692.19 1477.37 1699.48 1477.37 Z\" fill=\"#000000\" fill-rule=\"evenodd\" fill-opacity=\"1\" /><path clip-path=\"url(#clip030)\" d=\"M 0 0 M1720.11 1478 L1726.41 1478 L1741.73 1506.91 L1741.73 1478 L1746.27 1478 L1746.27 1512.56 L1739.97 1512.56 L1724.65 1483.65 L1724.65 1512.56 L1720.11 1512.56 L1720.11 1478 Z\" fill=\"#000000\" fill-rule=\"evenodd\" fill-opacity=\"1\" /><path clip-path=\"url(#clip030)\" d=\"M 0 0 M1746.13 1478 L1775.36 1478 L1775.36 1481.94 L1763.09 1481.94 L1763.09 1512.56 L1758.4 1512.56 L1758.4 1481.94 L1746.13 1481.94 L1746.13 1478 Z\" fill=\"#000000\" fill-rule=\"evenodd\" fill-opacity=\"1\" /><path clip-path=\"url(#clip030)\" d=\"M 0 0 M1783.77 1499.53 Q1778.6 1499.53 1776.61 1500.71 Q1774.62 1501.89 1774.62 1504.74 Q1774.62 1507 1776.1 1508.35 Q1777.61 1509.67 1780.18 1509.67 Q1783.72 1509.67 1785.85 1507.17 Q1788 1504.64 1788 1500.48 L1788 1499.53 L1783.77 1499.53 M1792.26 1497.77 L1792.26 1512.56 L1788 1512.56 L1788 1508.62 Q1786.54 1510.99 1784.37 1512.12 Q1782.19 1513.23 1779.04 1513.23 Q1775.06 1513.23 1772.7 1511.01 Q1770.36 1508.76 1770.36 1505.01 Q1770.36 1500.64 1773.28 1498.42 Q1776.22 1496.19 1782.03 1496.19 L1788 1496.19 L1788 1495.78 Q1788 1492.84 1786.06 1491.24 Q1784.14 1489.62 1780.64 1489.62 Q1778.42 1489.62 1776.31 1490.15 Q1774.21 1490.68 1772.26 1491.75 L1772.26 1487.81 Q1774.6 1486.91 1776.8 1486.47 Q1779 1486.01 1781.08 1486.01 Q1786.71 1486.01 1789.48 1488.93 Q1792.26 1491.84 1792.26 1497.77 Z\" fill=\"#000000\" fill-rule=\"evenodd\" fill-opacity=\"1\" /><path clip-path=\"url(#clip030)\" d=\"M 0 0 M1815.34 1499.62 Q1815.34 1494.92 1813.4 1492.26 Q1811.47 1489.57 1808.09 1489.57 Q1804.72 1489.57 1802.77 1492.26 Q1800.85 1494.92 1800.85 1499.62 Q1800.85 1504.32 1802.77 1507 Q1804.72 1509.67 1808.09 1509.67 Q1811.47 1509.67 1813.4 1507 Q1815.34 1504.32 1815.34 1499.62 M1800.85 1490.57 Q1802.19 1488.25 1804.23 1487.14 Q1806.29 1486.01 1809.14 1486.01 Q1813.86 1486.01 1816.8 1489.76 Q1819.76 1493.51 1819.76 1499.62 Q1819.76 1505.73 1816.8 1509.48 Q1813.86 1513.23 1809.14 1513.23 Q1806.29 1513.23 1804.23 1512.12 Q1802.19 1510.99 1800.85 1508.67 L1800.85 1512.56 L1796.57 1512.56 L1796.57 1476.54 L1800.85 1476.54 L1800.85 1490.57 Z\" fill=\"#000000\" fill-rule=\"evenodd\" fill-opacity=\"1\" /><path clip-path=\"url(#clip030)\" d=\"M 0 0 M1824.23 1476.54 L1828.49 1476.54 L1828.49 1512.56 L1824.23 1512.56 L1824.23 1476.54 Z\" fill=\"#000000\" fill-rule=\"evenodd\" fill-opacity=\"1\" /><path clip-path=\"url(#clip030)\" d=\"M 0 0 M1855.13 1498.53 L1855.13 1500.62 L1835.55 1500.62 Q1835.83 1505.01 1838.19 1507.33 Q1840.57 1509.62 1844.81 1509.62 Q1847.26 1509.62 1849.55 1509.02 Q1851.87 1508.42 1854.14 1507.21 L1854.14 1511.24 Q1851.84 1512.21 1849.44 1512.72 Q1847.03 1513.23 1844.55 1513.23 Q1838.35 1513.23 1834.71 1509.62 Q1831.1 1506.01 1831.1 1499.85 Q1831.1 1493.49 1834.53 1489.76 Q1837.98 1486.01 1843.81 1486.01 Q1849.04 1486.01 1852.08 1489.39 Q1855.13 1492.75 1855.13 1498.53 M1850.87 1497.28 Q1850.83 1493.79 1848.9 1491.7 Q1847.01 1489.62 1843.86 1489.62 Q1840.29 1489.62 1838.14 1491.63 Q1836.01 1493.65 1835.69 1497.31 L1850.87 1497.28 Z\" fill=\"#000000\" fill-rule=\"evenodd\" fill-opacity=\"1\" /><path clip-path=\"url(#clip030)\" d=\"M 0 0 M1876.13 1487.4 L1876.13 1491.43 Q1874.32 1490.5 1872.38 1490.04 Q1870.43 1489.57 1868.35 1489.57 Q1865.18 1489.57 1863.58 1490.55 Q1862.01 1491.52 1862.01 1493.46 Q1862.01 1494.94 1863.14 1495.8 Q1864.27 1496.63 1867.7 1497.4 L1869.16 1497.72 Q1873.7 1498.69 1875.59 1500.48 Q1877.52 1502.24 1877.52 1505.41 Q1877.52 1509.02 1874.65 1511.12 Q1871.8 1513.23 1866.8 1513.23 Q1864.71 1513.23 1862.45 1512.81 Q1860.2 1512.42 1857.7 1511.61 L1857.7 1507.21 Q1860.06 1508.44 1862.35 1509.06 Q1864.65 1509.67 1866.89 1509.67 Q1869.9 1509.67 1871.52 1508.65 Q1873.14 1507.61 1873.14 1505.73 Q1873.14 1504 1871.96 1503.07 Q1870.8 1502.14 1866.84 1501.29 L1865.36 1500.94 Q1861.4 1500.11 1859.65 1498.39 Q1857.89 1496.66 1857.89 1493.65 Q1857.89 1489.99 1860.48 1488 Q1863.07 1486.01 1867.84 1486.01 Q1870.2 1486.01 1872.28 1486.36 Q1874.37 1486.7 1876.13 1487.4 Z\" fill=\"#000000\" fill-rule=\"evenodd\" fill-opacity=\"1\" /><path clip-path=\"url(#clip030)\" d=\"M 0 0 M1882.59 1506.68 L1887.47 1506.68 L1887.47 1512.56 L1882.59 1512.56 L1882.59 1506.68 Z\" fill=\"#000000\" fill-rule=\"evenodd\" fill-opacity=\"1\" /><path clip-path=\"url(#clip030)\" d=\"M 0 0 M1891.94 1486.63 L1896.2 1486.63 L1896.2 1513.02 Q1896.2 1517.98 1894.3 1520.2 Q1892.42 1522.42 1888.23 1522.42 L1886.61 1522.42 L1886.61 1518.81 L1887.75 1518.81 Q1890.18 1518.81 1891.06 1517.68 Q1891.94 1516.56 1891.94 1513.02 L1891.94 1486.63 M1891.94 1476.54 L1896.2 1476.54 L1896.2 1481.94 L1891.94 1481.94 L1891.94 1476.54 Z\" fill=\"#000000\" fill-rule=\"evenodd\" fill-opacity=\"1\" /><path clip-path=\"url(#clip030)\" d=\"M 0 0 M1900.66 1476.54 L1904.92 1476.54 L1904.92 1512.56 L1900.66 1512.56 L1900.66 1476.54 Z\" fill=\"#000000\" fill-rule=\"evenodd\" fill-opacity=\"1\" /><path clip-path=\"url(#clip030)\" d=\"M 0 0 M1668.99 1541.46 Q1665.56 1541.46 1663.57 1544.15 Q1661.58 1546.81 1661.58 1551.46 Q1661.58 1556.11 1663.55 1558.8 Q1665.54 1561.46 1668.99 1561.46 Q1672.39 1561.46 1674.38 1558.77 Q1676.37 1556.09 1676.37 1551.46 Q1676.37 1546.85 1674.38 1544.17 Q1672.39 1541.46 1668.99 1541.46 M1668.99 1537.85 Q1674.54 1537.85 1677.71 1541.46 Q1680.88 1545.07 1680.88 1551.46 Q1680.88 1557.83 1677.71 1561.46 Q1674.54 1565.07 1668.99 1565.07 Q1663.41 1565.07 1660.24 1561.46 Q1657.09 1557.83 1657.09 1551.46 Q1657.09 1545.07 1660.24 1541.46 Q1663.41 1537.85 1668.99 1537.85 Z\" fill=\"#000000\" fill-rule=\"evenodd\" fill-opacity=\"1\" /><path clip-path=\"url(#clip030)\" d=\"M 0 0 M1703.96 1551.46 Q1703.96 1546.76 1702.02 1544.1 Q1700.1 1541.41 1696.72 1541.41 Q1693.34 1541.41 1691.39 1544.1 Q1689.47 1546.76 1689.47 1551.46 Q1689.47 1556.16 1691.39 1558.84 Q1693.34 1561.51 1696.72 1561.51 Q1700.1 1561.51 1702.02 1558.84 Q1703.96 1556.16 1703.96 1551.46 M1689.47 1542.41 Q1690.82 1540.09 1692.85 1538.98 Q1694.91 1537.85 1697.76 1537.85 Q1702.48 1537.85 1705.42 1541.6 Q1708.38 1545.35 1708.38 1551.46 Q1708.38 1557.57 1705.42 1561.32 Q1702.48 1565.07 1697.76 1565.07 Q1694.91 1565.07 1692.85 1563.96 Q1690.82 1562.83 1689.47 1560.51 L1689.47 1564.4 L1685.19 1564.4 L1685.19 1528.38 L1689.47 1528.38 L1689.47 1542.41 Z\" fill=\"#000000\" fill-rule=\"evenodd\" fill-opacity=\"1\" /><path clip-path=\"url(#clip030)\" d=\"M 0 0 M1712.85 1538.47 L1717.11 1538.47 L1717.11 1564.86 Q1717.11 1569.82 1715.21 1572.04 Q1713.34 1574.26 1709.15 1574.26 L1707.53 1574.26 L1707.53 1570.65 L1708.66 1570.65 Q1711.09 1570.65 1711.97 1569.52 Q1712.85 1568.4 1712.85 1564.86 L1712.85 1538.47 M1712.85 1528.38 L1717.11 1528.38 L1717.11 1533.78 L1712.85 1533.78 L1712.85 1528.38 Z\" fill=\"#000000\" fill-rule=\"evenodd\" fill-opacity=\"1\" /><path clip-path=\"url(#clip030)\" d=\"M 0 0 M1743.75 1550.37 L1743.75 1552.46 L1724.17 1552.46 Q1724.45 1556.85 1726.81 1559.17 Q1729.19 1561.46 1733.43 1561.46 Q1735.88 1561.46 1738.18 1560.86 Q1740.49 1560.26 1742.76 1559.05 L1742.76 1563.08 Q1740.47 1564.05 1738.06 1564.56 Q1735.65 1565.07 1733.18 1565.07 Q1726.97 1565.07 1723.34 1561.46 Q1719.73 1557.85 1719.73 1551.69 Q1719.73 1545.33 1723.15 1541.6 Q1726.6 1537.85 1732.44 1537.85 Q1737.67 1537.85 1740.7 1541.23 Q1743.75 1544.59 1743.75 1550.37 M1739.5 1549.12 Q1739.45 1545.63 1737.53 1543.54 Q1735.63 1541.46 1732.48 1541.46 Q1728.92 1541.46 1726.76 1543.47 Q1724.63 1545.49 1724.31 1549.15 L1739.5 1549.12 Z\" fill=\"#000000\" fill-rule=\"evenodd\" fill-opacity=\"1\" /><path clip-path=\"url(#clip030)\" d=\"M 0 0 M1766.88 1539.47 L1766.88 1543.45 Q1765.07 1542.46 1763.25 1541.97 Q1761.44 1541.46 1759.59 1541.46 Q1755.44 1541.46 1753.15 1544.1 Q1750.86 1546.71 1750.86 1551.46 Q1750.86 1556.21 1753.15 1558.84 Q1755.44 1561.46 1759.59 1561.46 Q1761.44 1561.46 1763.25 1560.97 Q1765.07 1560.46 1766.88 1559.47 L1766.88 1563.4 Q1765.1 1564.24 1763.18 1564.65 Q1761.28 1565.07 1759.13 1565.07 Q1753.27 1565.07 1749.82 1561.39 Q1746.37 1557.71 1746.37 1551.46 Q1746.37 1545.12 1749.84 1541.48 Q1753.34 1537.85 1759.4 1537.85 Q1761.37 1537.85 1763.25 1538.27 Q1765.12 1538.66 1766.88 1539.47 Z\" fill=\"#000000\" fill-rule=\"evenodd\" fill-opacity=\"1\" /><path clip-path=\"url(#clip030)\" d=\"M 0 0 M1775.56 1531.11 L1775.56 1538.47 L1784.33 1538.47 L1784.33 1541.78 L1775.56 1541.78 L1775.56 1555.86 Q1775.56 1559.03 1776.42 1559.93 Q1777.3 1560.84 1779.96 1560.84 L1784.33 1560.84 L1784.33 1564.4 L1779.96 1564.4 Q1775.03 1564.4 1773.15 1562.57 Q1771.28 1560.72 1771.28 1555.86 L1771.28 1541.78 L1768.15 1541.78 L1768.15 1538.47 L1771.28 1538.47 L1771.28 1531.11 L1775.56 1531.11 Z\" fill=\"#000000\" fill-rule=\"evenodd\" fill-opacity=\"1\" /><path clip-path=\"url(#clip030)\" d=\"M 0 0 M1793.01 1531.11 L1793.01 1538.47 L1801.79 1538.47 L1801.79 1541.78 L1793.01 1541.78 L1793.01 1555.86 Q1793.01 1559.03 1793.87 1559.93 Q1794.75 1560.84 1797.41 1560.84 L1801.79 1560.84 L1801.79 1564.4 L1797.41 1564.4 Q1792.48 1564.4 1790.61 1562.57 Q1788.73 1560.72 1788.73 1555.86 L1788.73 1541.78 L1785.61 1541.78 L1785.61 1538.47 L1788.73 1538.47 L1788.73 1531.11 L1793.01 1531.11 Z\" fill=\"#000000\" fill-rule=\"evenodd\" fill-opacity=\"1\" /><path clip-path=\"url(#clip030)\" d=\"M 0 0 M1818.04 1551.37 Q1812.87 1551.37 1810.88 1552.55 Q1808.89 1553.73 1808.89 1556.58 Q1808.89 1558.84 1810.37 1560.19 Q1811.88 1561.51 1814.45 1561.51 Q1817.99 1561.51 1820.12 1559.01 Q1822.27 1556.48 1822.27 1552.32 L1822.27 1551.37 L1818.04 1551.37 M1826.53 1549.61 L1826.53 1564.4 L1822.27 1564.4 L1822.27 1560.46 Q1820.81 1562.83 1818.64 1563.96 Q1816.46 1565.07 1813.31 1565.07 Q1809.33 1565.07 1806.97 1562.85 Q1804.63 1560.6 1804.63 1556.85 Q1804.63 1552.48 1807.55 1550.26 Q1810.49 1548.03 1816.3 1548.03 L1822.27 1548.03 L1822.27 1547.62 Q1822.27 1544.68 1820.33 1543.08 Q1818.41 1541.46 1814.91 1541.46 Q1812.69 1541.46 1810.58 1541.99 Q1808.48 1542.52 1806.53 1543.59 L1806.53 1539.65 Q1808.87 1538.75 1811.07 1538.31 Q1813.27 1537.85 1815.35 1537.85 Q1820.98 1537.85 1823.75 1540.77 Q1826.53 1543.68 1826.53 1549.61 Z\" fill=\"#000000\" fill-rule=\"evenodd\" fill-opacity=\"1\" /><path clip-path=\"url(#clip030)\" d=\"M 0 0 M1849.61 1551.46 Q1849.61 1546.76 1847.67 1544.1 Q1845.74 1541.41 1842.37 1541.41 Q1838.99 1541.41 1837.04 1544.1 Q1835.12 1546.76 1835.12 1551.46 Q1835.12 1556.16 1837.04 1558.84 Q1838.99 1561.51 1842.37 1561.51 Q1845.74 1561.51 1847.67 1558.84 Q1849.61 1556.16 1849.61 1551.46 M1835.12 1542.41 Q1836.46 1540.09 1838.5 1538.98 Q1840.56 1537.85 1843.41 1537.85 Q1848.13 1537.85 1851.07 1541.6 Q1854.03 1545.35 1854.03 1551.46 Q1854.03 1557.57 1851.07 1561.32 Q1848.13 1565.07 1843.41 1565.07 Q1840.56 1565.07 1838.5 1563.96 Q1836.46 1562.83 1835.12 1560.51 L1835.12 1564.4 L1830.84 1564.4 L1830.84 1528.38 L1835.12 1528.38 L1835.12 1542.41 Z\" fill=\"#000000\" fill-rule=\"evenodd\" fill-opacity=\"1\" /><path clip-path=\"url(#clip030)\" d=\"M 0 0 M1858.5 1528.38 L1862.76 1528.38 L1862.76 1564.4 L1858.5 1564.4 L1858.5 1528.38 Z\" fill=\"#000000\" fill-rule=\"evenodd\" fill-opacity=\"1\" /><path clip-path=\"url(#clip030)\" d=\"M 0 0 M1889.4 1550.37 L1889.4 1552.46 L1869.82 1552.46 Q1870.1 1556.85 1872.46 1559.17 Q1874.84 1561.46 1879.08 1561.46 Q1881.53 1561.46 1883.82 1560.86 Q1886.14 1560.26 1888.41 1559.05 L1888.41 1563.08 Q1886.12 1564.05 1883.71 1564.56 Q1881.3 1565.07 1878.82 1565.07 Q1872.62 1565.07 1868.99 1561.46 Q1865.37 1557.85 1865.37 1551.69 Q1865.37 1545.33 1868.8 1541.6 Q1872.25 1537.85 1878.08 1537.85 Q1883.31 1537.85 1886.35 1541.23 Q1889.4 1544.59 1889.4 1550.37 M1885.14 1549.12 Q1885.1 1545.63 1883.18 1543.54 Q1881.28 1541.46 1878.13 1541.46 Q1874.56 1541.46 1872.41 1543.47 Q1870.28 1545.49 1869.96 1549.15 L1885.14 1549.12 Z\" fill=\"#000000\" fill-rule=\"evenodd\" fill-opacity=\"1\" /><path clip-path=\"url(#clip030)\" d=\"M 0 0 M2003.66 1479.13 L2003.66 1483.69 Q2000.99 1482.42 1998.63 1481.8 Q1996.27 1481.17 1994.07 1481.17 Q1990.25 1481.17 1988.17 1482.65 Q1986.11 1484.13 1986.11 1486.87 Q1986.11 1489.16 1987.48 1490.34 Q1988.86 1491.5 1992.71 1492.21 L1995.53 1492.79 Q2000.76 1493.79 2003.24 1496.31 Q2005.74 1498.81 2005.74 1503.02 Q2005.74 1508.05 2002.36 1510.64 Q1999 1513.23 1992.5 1513.23 Q1990.04 1513.23 1987.27 1512.68 Q1984.51 1512.12 1981.55 1511.03 L1981.55 1506.22 Q1984.4 1507.81 1987.13 1508.62 Q1989.86 1509.43 1992.5 1509.43 Q1996.5 1509.43 1998.68 1507.86 Q2000.85 1506.29 2000.85 1503.37 Q2000.85 1500.82 1999.28 1499.39 Q1997.73 1497.95 1994.17 1497.24 L1991.32 1496.68 Q1986.09 1495.64 1983.75 1493.42 Q1981.41 1491.19 1981.41 1487.24 Q1981.41 1482.65 1984.63 1480.01 Q1987.87 1477.37 1993.54 1477.37 Q1995.97 1477.37 1998.49 1477.81 Q2001.02 1478.25 2003.66 1479.13 Z\" fill=\"#000000\" fill-rule=\"evenodd\" fill-opacity=\"1\" /><path clip-path=\"url(#clip030)\" d=\"M 0 0 M2032.38 1498.53 L2032.38 1500.62 L2012.8 1500.62 Q2013.08 1505.01 2015.44 1507.33 Q2017.82 1509.62 2022.06 1509.62 Q2024.51 1509.62 2026.8 1509.02 Q2029.12 1508.42 2031.39 1507.21 L2031.39 1511.24 Q2029.1 1512.21 2026.69 1512.72 Q2024.28 1513.23 2021.8 1513.23 Q2015.6 1513.23 2011.97 1509.62 Q2008.35 1506.01 2008.35 1499.85 Q2008.35 1493.49 2011.78 1489.76 Q2015.23 1486.01 2021.06 1486.01 Q2026.29 1486.01 2029.33 1489.39 Q2032.38 1492.75 2032.38 1498.53 M2028.12 1497.28 Q2028.08 1493.79 2026.16 1491.7 Q2024.26 1489.62 2021.11 1489.62 Q2017.54 1489.62 2015.39 1491.63 Q2013.26 1493.65 2012.94 1497.31 L2028.12 1497.28 Z\" fill=\"#000000\" fill-rule=\"evenodd\" fill-opacity=\"1\" /><path clip-path=\"url(#clip030)\" d=\"M 0 0 M2051.87 1490.62 Q2051.16 1490.2 2050.3 1490.01 Q2049.47 1489.81 2048.45 1489.81 Q2044.84 1489.81 2042.89 1492.17 Q2040.97 1494.5 2040.97 1498.9 L2040.97 1512.56 L2036.69 1512.56 L2036.69 1486.63 L2040.97 1486.63 L2040.97 1490.66 Q2042.31 1488.3 2044.47 1487.17 Q2046.62 1486.01 2049.7 1486.01 Q2050.14 1486.01 2050.67 1486.08 Q2051.2 1486.12 2051.85 1486.24 L2051.87 1490.62 Z\" fill=\"#000000\" fill-rule=\"evenodd\" fill-opacity=\"1\" /><path clip-path=\"url(#clip030)\" d=\"M 0 0 M2056.34 1486.63 L2060.6 1486.63 L2060.6 1512.56 L2056.34 1512.56 L2056.34 1486.63 M2056.34 1476.54 L2060.6 1476.54 L2060.6 1481.94 L2056.34 1481.94 L2056.34 1476.54 Z\" fill=\"#000000\" fill-rule=\"evenodd\" fill-opacity=\"1\" /><path clip-path=\"url(#clip030)\" d=\"M 0 0 M2076.85 1499.53 Q2071.69 1499.53 2069.7 1500.71 Q2067.71 1501.89 2067.71 1504.74 Q2067.71 1507 2069.19 1508.35 Q2070.69 1509.67 2073.26 1509.67 Q2076.8 1509.67 2078.93 1507.17 Q2081.09 1504.64 2081.09 1500.48 L2081.09 1499.53 L2076.85 1499.53 M2085.35 1497.77 L2085.35 1512.56 L2081.09 1512.56 L2081.09 1508.62 Q2079.63 1510.99 2077.45 1512.12 Q2075.28 1513.23 2072.13 1513.23 Q2068.15 1513.23 2065.79 1511.01 Q2063.45 1508.76 2063.45 1505.01 Q2063.45 1500.64 2066.36 1498.42 Q2069.3 1496.19 2075.11 1496.19 L2081.09 1496.19 L2081.09 1495.78 Q2081.09 1492.84 2079.14 1491.24 Q2077.22 1489.62 2073.72 1489.62 Q2071.5 1489.62 2069.4 1490.15 Q2067.29 1490.68 2065.35 1491.75 L2065.35 1487.81 Q2067.68 1486.91 2069.88 1486.47 Q2072.08 1486.01 2074.16 1486.01 Q2079.79 1486.01 2082.57 1488.93 Q2085.35 1491.84 2085.35 1497.77 Z\" fill=\"#000000\" fill-rule=\"evenodd\" fill-opacity=\"1\" /><path clip-path=\"url(#clip030)\" d=\"M 0 0 M2089.81 1476.54 L2094.07 1476.54 L2094.07 1512.56 L2089.81 1512.56 L2089.81 1476.54 Z\" fill=\"#000000\" fill-rule=\"evenodd\" fill-opacity=\"1\" /><path clip-path=\"url(#clip030)\" d=\"M 0 0 M2098.54 1486.63 L2102.8 1486.63 L2102.8 1512.56 L2098.54 1512.56 L2098.54 1486.63 M2098.54 1476.54 L2102.8 1476.54 L2102.8 1481.94 L2098.54 1481.94 L2098.54 1476.54 Z\" fill=\"#000000\" fill-rule=\"evenodd\" fill-opacity=\"1\" /><path clip-path=\"url(#clip030)\" d=\"M 0 0 M2105.41 1486.63 L2125.65 1486.63 L2125.65 1490.52 L2109.63 1509.16 L2125.65 1509.16 L2125.65 1512.56 L2104.84 1512.56 L2104.84 1508.67 L2120.85 1490.04 L2105.41 1490.04 L2105.41 1486.63 Z\" fill=\"#000000\" fill-rule=\"evenodd\" fill-opacity=\"1\" /><path clip-path=\"url(#clip030)\" d=\"M 0 0 M2141.9 1499.53 Q2136.73 1499.53 2134.74 1500.71 Q2132.75 1501.89 2132.75 1504.74 Q2132.75 1507 2134.23 1508.35 Q2135.74 1509.67 2138.31 1509.67 Q2141.85 1509.67 2143.98 1507.17 Q2146.13 1504.64 2146.13 1500.48 L2146.13 1499.53 L2141.9 1499.53 M2150.39 1497.77 L2150.39 1512.56 L2146.13 1512.56 L2146.13 1508.62 Q2144.67 1510.99 2142.5 1512.12 Q2140.32 1513.23 2137.17 1513.23 Q2133.19 1513.23 2130.83 1511.01 Q2128.49 1508.76 2128.49 1505.01 Q2128.49 1500.64 2131.41 1498.42 Q2134.35 1496.19 2140.16 1496.19 L2146.13 1496.19 L2146.13 1495.78 Q2146.13 1492.84 2144.19 1491.24 Q2142.27 1489.62 2138.77 1489.62 Q2136.55 1489.62 2134.44 1490.15 Q2132.34 1490.68 2130.39 1491.75 L2130.39 1487.81 Q2132.73 1486.91 2134.93 1486.47 Q2137.13 1486.01 2139.21 1486.01 Q2144.84 1486.01 2147.61 1488.93 Q2150.39 1491.84 2150.39 1497.77 Z\" fill=\"#000000\" fill-rule=\"evenodd\" fill-opacity=\"1\" /><path clip-path=\"url(#clip030)\" d=\"M 0 0 M2159.07 1479.27 L2159.07 1486.63 L2167.84 1486.63 L2167.84 1489.94 L2159.07 1489.94 L2159.07 1504.02 Q2159.07 1507.19 2159.93 1508.09 Q2160.81 1509 2163.47 1509 L2167.84 1509 L2167.84 1512.56 L2163.47 1512.56 Q2158.54 1512.56 2156.66 1510.73 Q2154.79 1508.88 2154.79 1504.02 L2154.79 1489.94 L2151.66 1489.94 L2151.66 1486.63 L2154.79 1486.63 L2154.79 1479.27 L2159.07 1479.27 Z\" fill=\"#000000\" fill-rule=\"evenodd\" fill-opacity=\"1\" /><path clip-path=\"url(#clip030)\" d=\"M 0 0 M2172.31 1486.63 L2176.57 1486.63 L2176.57 1512.56 L2172.31 1512.56 L2172.31 1486.63 M2172.31 1476.54 L2176.57 1476.54 L2176.57 1481.94 L2172.31 1481.94 L2172.31 1476.54 Z\" fill=\"#000000\" fill-rule=\"evenodd\" fill-opacity=\"1\" /><path clip-path=\"url(#clip030)\" d=\"M 0 0 M2191.09 1489.62 Q2187.66 1489.62 2185.67 1492.31 Q2183.68 1494.97 2183.68 1499.62 Q2183.68 1504.27 2185.65 1506.96 Q2187.64 1509.62 2191.09 1509.62 Q2194.49 1509.62 2196.48 1506.93 Q2198.47 1504.25 2198.47 1499.62 Q2198.47 1495.01 2196.48 1492.33 Q2194.49 1489.62 2191.09 1489.62 M2191.09 1486.01 Q2196.64 1486.01 2199.81 1489.62 Q2202.98 1493.23 2202.98 1499.62 Q2202.98 1505.99 2199.81 1509.62 Q2196.64 1513.23 2191.09 1513.23 Q2185.51 1513.23 2182.34 1509.62 Q2179.19 1505.99 2179.19 1499.62 Q2179.19 1493.23 2182.34 1489.62 Q2185.51 1486.01 2191.09 1486.01 Z\" fill=\"#000000\" fill-rule=\"evenodd\" fill-opacity=\"1\" /><path clip-path=\"url(#clip030)\" d=\"M 0 0 M2229 1496.91 L2229 1512.56 L2224.74 1512.56 L2224.74 1497.05 Q2224.74 1493.37 2223.31 1491.54 Q2221.87 1489.71 2219 1489.71 Q2215.55 1489.71 2213.56 1491.91 Q2211.57 1494.11 2211.57 1497.91 L2211.57 1512.56 L2207.29 1512.56 L2207.29 1486.63 L2211.57 1486.63 L2211.57 1490.66 Q2213.1 1488.32 2215.16 1487.17 Q2217.24 1486.01 2219.95 1486.01 Q2224.42 1486.01 2226.71 1488.79 Q2229 1491.54 2229 1496.91 Z\" fill=\"#000000\" fill-rule=\"evenodd\" fill-opacity=\"1\" /><polyline clip-path=\"url(#clip032)\" style=\"stroke:#000000; stroke-width:2; stroke-opacity:0.1; fill:none\" points=\"\n",
       "  197.852,1417.71 2352.76,1417.71 \n",
       "  \"/>\n",
       "<polyline clip-path=\"url(#clip032)\" style=\"stroke:#000000; stroke-width:2; stroke-opacity:0.1; fill:none\" points=\"\n",
       "  197.852,1107.79 2352.76,1107.79 \n",
       "  \"/>\n",
       "<polyline clip-path=\"url(#clip032)\" style=\"stroke:#000000; stroke-width:2; stroke-opacity:0.1; fill:none\" points=\"\n",
       "  197.852,797.859 2352.76,797.859 \n",
       "  \"/>\n",
       "<polyline clip-path=\"url(#clip032)\" style=\"stroke:#000000; stroke-width:2; stroke-opacity:0.1; fill:none\" points=\"\n",
       "  197.852,487.931 2352.76,487.931 \n",
       "  \"/>\n",
       "<polyline clip-path=\"url(#clip030)\" style=\"stroke:#000000; stroke-width:4; stroke-opacity:1; fill:none\" points=\"\n",
       "  197.852,1451.89 197.852,244.432 \n",
       "  \"/>\n",
       "<polyline clip-path=\"url(#clip030)\" style=\"stroke:#000000; stroke-width:4; stroke-opacity:1; fill:none\" points=\"\n",
       "  197.852,1417.71 223.711,1417.71 \n",
       "  \"/>\n",
       "<polyline clip-path=\"url(#clip030)\" style=\"stroke:#000000; stroke-width:4; stroke-opacity:1; fill:none\" points=\"\n",
       "  197.852,1107.79 223.711,1107.79 \n",
       "  \"/>\n",
       "<polyline clip-path=\"url(#clip030)\" style=\"stroke:#000000; stroke-width:4; stroke-opacity:1; fill:none\" points=\"\n",
       "  197.852,797.859 223.711,797.859 \n",
       "  \"/>\n",
       "<polyline clip-path=\"url(#clip030)\" style=\"stroke:#000000; stroke-width:4; stroke-opacity:1; fill:none\" points=\"\n",
       "  197.852,487.931 223.711,487.931 \n",
       "  \"/>\n",
       "<path clip-path=\"url(#clip030)\" d=\"M 0 0 M149.908 1403.51 Q146.297 1403.51 144.468 1407.08 Q142.663 1410.62 142.663 1417.75 Q142.663 1424.86 144.468 1428.42 Q146.297 1431.96 149.908 1431.96 Q153.542 1431.96 155.348 1428.42 Q157.177 1424.86 157.177 1417.75 Q157.177 1410.62 155.348 1407.08 Q153.542 1403.51 149.908 1403.51 M149.908 1399.81 Q155.718 1399.81 158.774 1404.42 Q161.852 1409 161.852 1417.75 Q161.852 1426.48 158.774 1431.08 Q155.718 1435.67 149.908 1435.67 Q144.098 1435.67 141.019 1431.08 Q137.964 1426.48 137.964 1417.75 Q137.964 1409 141.019 1404.42 Q144.098 1399.81 149.908 1399.81 Z\" fill=\"#000000\" fill-rule=\"evenodd\" fill-opacity=\"1\" /><path clip-path=\"url(#clip030)\" d=\"M 0 0 M140.95 1090.51 L159.306 1090.51 L159.306 1094.44 L145.232 1094.44 L145.232 1102.91 Q146.251 1102.57 147.269 1102.4 Q148.288 1102.22 149.306 1102.22 Q155.093 1102.22 158.473 1105.39 Q161.852 1108.56 161.852 1113.98 Q161.852 1119.56 158.38 1122.66 Q154.908 1125.74 148.589 1125.74 Q146.413 1125.74 144.144 1125.37 Q141.899 1125 139.492 1124.26 L139.492 1119.56 Q141.575 1120.69 143.797 1121.25 Q146.019 1121.8 148.496 1121.8 Q152.501 1121.8 154.839 1119.7 Q157.177 1117.59 157.177 1113.98 Q157.177 1110.37 154.839 1108.26 Q152.501 1106.15 148.496 1106.15 Q146.621 1106.15 144.746 1106.57 Q142.894 1106.99 140.95 1107.87 L140.95 1090.51 Z\" fill=\"#000000\" fill-rule=\"evenodd\" fill-opacity=\"1\" /><path clip-path=\"url(#clip030)\" d=\"M 0 0 M114.931 811.204 L122.57 811.204 L122.57 784.838 L114.26 786.505 L114.26 782.246 L122.524 780.579 L127.2 780.579 L127.2 811.204 L134.839 811.204 L134.839 815.139 L114.931 815.139 L114.931 811.204 Z\" fill=\"#000000\" fill-rule=\"evenodd\" fill-opacity=\"1\" /><path clip-path=\"url(#clip030)\" d=\"M 0 0 M149.908 783.658 Q146.297 783.658 144.468 787.222 Q142.663 790.764 142.663 797.894 Q142.663 805 144.468 808.565 Q146.297 812.107 149.908 812.107 Q153.542 812.107 155.348 808.565 Q157.177 805 157.177 797.894 Q157.177 790.764 155.348 787.222 Q153.542 783.658 149.908 783.658 M149.908 779.954 Q155.718 779.954 158.774 784.56 Q161.852 789.144 161.852 797.894 Q161.852 806.62 158.774 811.227 Q155.718 815.81 149.908 815.81 Q144.098 815.81 141.019 811.227 Q137.964 806.62 137.964 797.894 Q137.964 789.144 141.019 784.56 Q144.098 779.954 149.908 779.954 Z\" fill=\"#000000\" fill-rule=\"evenodd\" fill-opacity=\"1\" /><path clip-path=\"url(#clip030)\" d=\"M 0 0 M115.927 501.276 L123.566 501.276 L123.566 474.91 L115.256 476.577 L115.256 472.318 L123.519 470.651 L128.195 470.651 L128.195 501.276 L135.834 501.276 L135.834 505.211 L115.927 505.211 L115.927 501.276 Z\" fill=\"#000000\" fill-rule=\"evenodd\" fill-opacity=\"1\" /><path clip-path=\"url(#clip030)\" d=\"M 0 0 M140.95 470.651 L159.306 470.651 L159.306 474.586 L145.232 474.586 L145.232 483.058 Q146.251 482.711 147.269 482.549 Q148.288 482.364 149.306 482.364 Q155.093 482.364 158.473 485.535 Q161.852 488.707 161.852 494.123 Q161.852 499.702 158.38 502.804 Q154.908 505.882 148.589 505.882 Q146.413 505.882 144.144 505.512 Q141.899 505.142 139.492 504.401 L139.492 499.702 Q141.575 500.836 143.797 501.392 Q146.019 501.947 148.496 501.947 Q152.501 501.947 154.839 499.841 Q157.177 497.734 157.177 494.123 Q157.177 490.512 154.839 488.406 Q152.501 486.299 148.496 486.299 Q146.621 486.299 144.746 486.716 Q142.894 487.132 140.95 488.012 L140.95 470.651 Z\" fill=\"#000000\" fill-rule=\"evenodd\" fill-opacity=\"1\" /><path clip-path=\"url(#clip030)\" d=\"M 0 0 M42.0438 922.289 L48.314 922.289 Q46.5634 925.949 45.704 929.195 Q44.8447 932.442 44.8447 935.466 Q44.8447 940.717 46.8817 943.582 Q48.9187 946.415 52.6745 946.415 Q55.8255 946.415 57.4488 944.537 Q59.0402 942.627 60.0269 937.344 L60.8226 933.46 Q62.1912 926.267 65.6605 922.862 Q69.098 919.424 74.8908 919.424 Q81.7976 919.424 85.3624 924.071 Q88.9272 928.686 88.9272 937.63 Q88.9272 941.004 88.1633 944.823 Q87.3994 948.611 85.9035 952.685 L79.2831 952.685 Q81.4793 948.77 82.5933 945.014 Q83.7073 941.258 83.7073 937.63 Q83.7073 932.124 81.543 929.132 Q79.3786 926.14 75.3682 926.14 Q71.8671 926.14 69.8937 928.304 Q67.9204 930.437 66.9337 935.338 L66.1698 939.253 Q64.7375 946.447 61.682 949.661 Q58.6264 952.876 53.1837 952.876 Q46.8817 952.876 43.2532 948.452 Q39.6248 943.996 39.6248 936.198 Q39.6248 932.856 40.2295 929.386 Q40.8343 925.917 42.0438 922.289 Z\" fill=\"#000000\" fill-rule=\"evenodd\" fill-opacity=\"1\" /><path clip-path=\"url(#clip030)\" d=\"M 0 0 M68.7161 882.789 L71.5806 882.789 L71.5806 909.716 Q77.6281 909.334 80.8109 906.088 Q83.9619 902.81 83.9619 896.985 Q83.9619 893.611 83.1344 890.46 Q82.3069 887.277 80.6518 884.158 L86.1899 884.158 Q87.5267 887.309 88.227 890.619 Q88.9272 893.929 88.9272 897.335 Q88.9272 905.865 83.9619 910.862 Q78.9967 915.827 70.5303 915.827 Q61.7774 915.827 56.6531 911.117 Q51.4968 906.374 51.4968 898.354 Q51.4968 891.16 56.1438 886.991 Q60.7589 882.789 68.7161 882.789 M66.9973 888.646 Q62.1912 888.71 59.3266 891.351 Q56.4621 893.961 56.4621 898.29 Q56.4621 903.192 59.2312 906.152 Q62.0002 909.08 67.0292 909.525 L66.9973 888.646 Z\" fill=\"#000000\" fill-rule=\"evenodd\" fill-opacity=\"1\" /><path clip-path=\"url(#clip030)\" d=\"M 0 0 M53.7248 850.993 L59.1993 850.993 Q57.8307 853.475 57.1623 855.99 Q56.4621 858.472 56.4621 861.019 Q56.4621 866.716 60.0905 869.867 Q63.6872 873.018 70.212 873.018 Q76.7369 873.018 80.3653 869.867 Q83.9619 866.716 83.9619 861.019 Q83.9619 858.472 83.2935 855.99 Q82.5933 853.475 81.2247 850.993 L86.6355 850.993 Q87.7814 853.444 88.3543 856.085 Q88.9272 858.695 88.9272 861.655 Q88.9272 869.708 83.8664 874.45 Q78.8057 879.193 70.212 879.193 Q61.491 879.193 56.4939 874.419 Q51.4968 869.612 51.4968 861.273 Q51.4968 858.568 52.0697 855.99 Q52.6108 853.412 53.7248 850.993 Z\" fill=\"#000000\" fill-rule=\"evenodd\" fill-opacity=\"1\" /><path clip-path=\"url(#clip030)\" d=\"M 0 0 M56.4621 831.036 Q56.4621 835.747 60.1542 838.484 Q63.8145 841.221 70.212 841.221 Q76.6095 841.221 80.3017 838.516 Q83.9619 835.779 83.9619 831.036 Q83.9619 826.357 80.2698 823.62 Q76.5777 820.883 70.212 820.883 Q63.8781 820.883 60.186 823.62 Q56.4621 826.357 56.4621 831.036 M51.4968 831.036 Q51.4968 823.397 56.4621 819.037 Q61.4273 814.676 70.212 814.676 Q78.9649 814.676 83.9619 819.037 Q88.9272 823.397 88.9272 831.036 Q88.9272 838.707 83.9619 843.067 Q78.9649 847.396 70.212 847.396 Q61.4273 847.396 56.4621 843.067 Q51.4968 838.707 51.4968 831.036 Z\" fill=\"#000000\" fill-rule=\"evenodd\" fill-opacity=\"1\" /><path clip-path=\"url(#clip030)\" d=\"M 0 0 M66.4881 778.901 L88.0042 778.901 L88.0042 784.758 L66.679 784.758 Q61.6183 784.758 59.1038 786.731 Q56.5894 788.704 56.5894 792.651 Q56.5894 797.393 59.6131 800.131 Q62.6368 802.868 67.8567 802.868 L88.0042 802.868 L88.0042 808.756 L52.3562 808.756 L52.3562 802.868 L57.8944 802.868 Q54.6797 800.767 53.0883 797.935 Q51.4968 795.07 51.4968 791.346 Q51.4968 785.203 55.3163 782.052 Q59.1038 778.901 66.4881 778.901 Z\" fill=\"#000000\" fill-rule=\"evenodd\" fill-opacity=\"1\" /><path clip-path=\"url(#clip030)\" d=\"M 0 0 M57.7671 749.301 L38.479 749.301 L38.479 743.444 L88.0042 743.444 L88.0042 749.301 L82.657 749.301 Q85.8398 751.147 87.3994 753.979 Q88.9272 756.78 88.9272 760.727 Q88.9272 767.188 83.771 771.262 Q78.6147 775.304 70.212 775.304 Q61.8093 775.304 56.6531 771.262 Q51.4968 767.188 51.4968 760.727 Q51.4968 756.78 53.0564 753.979 Q54.5842 751.147 57.7671 749.301 M70.212 769.257 Q76.6732 769.257 80.3653 766.615 Q84.0256 763.942 84.0256 759.295 Q84.0256 754.648 80.3653 751.974 Q76.6732 749.301 70.212 749.301 Q63.7508 749.301 60.0905 751.974 Q56.3984 754.648 56.3984 759.295 Q56.3984 763.942 60.0905 766.615 Q63.7508 769.257 70.212 769.257 Z\" fill=\"#000000\" fill-rule=\"evenodd\" fill-opacity=\"1\" /><path clip-path=\"url(#clip030)\" d=\"M 0 0 M920.263 12.096 L928.527 12.096 L941.246 63.2184 L953.926 12.096 L963.121 12.096 L975.841 63.2184 L988.52 12.096 L996.825 12.096 L981.634 72.576 L971.345 72.576 L958.584 20.0763 L945.702 72.576 L935.413 72.576 L920.263 12.096 Z\" fill=\"#000000\" fill-rule=\"evenodd\" fill-opacity=\"1\" /><path clip-path=\"url(#clip030)\" d=\"M 0 0 M1027.21 34.1734 Q1025.95 33.4443 1024.45 33.1202 Q1022.99 32.7556 1021.21 32.7556 Q1014.89 32.7556 1011.49 36.8875 Q1008.13 40.9789 1008.13 48.6757 L1008.13 72.576 L1000.63 72.576 L1000.63 27.2059 L1008.13 27.2059 L1008.13 34.2544 Q1010.48 30.1225 1014.24 28.1376 Q1018.01 26.1121 1023.4 26.1121 Q1024.17 26.1121 1025.1 26.2337 Q1026.03 26.3147 1027.17 26.5172 L1027.21 34.1734 Z\" fill=\"#000000\" fill-rule=\"evenodd\" fill-opacity=\"1\" /><path clip-path=\"url(#clip030)\" d=\"M 0 0 M1035.02 27.2059 L1042.48 27.2059 L1042.48 72.576 L1035.02 72.576 L1035.02 27.2059 M1035.02 9.54393 L1042.48 9.54393 L1042.48 18.9825 L1035.02 18.9825 L1035.02 9.54393 Z\" fill=\"#000000\" fill-rule=\"evenodd\" fill-opacity=\"1\" /><path clip-path=\"url(#clip030)\" d=\"M 0 0 M1057.67 14.324 L1057.67 27.2059 L1073.02 27.2059 L1073.02 32.9987 L1057.67 32.9987 L1057.67 57.6282 Q1057.67 63.1779 1059.17 64.7578 Q1060.71 66.3376 1065.37 66.3376 L1073.02 66.3376 L1073.02 72.576 L1065.37 72.576 Q1056.74 72.576 1053.46 69.3758 Q1050.18 66.1351 1050.18 57.6282 L1050.18 32.9987 L1044.71 32.9987 L1044.71 27.2059 L1050.18 27.2059 L1050.18 14.324 L1057.67 14.324 Z\" fill=\"#000000\" fill-rule=\"evenodd\" fill-opacity=\"1\" /><path clip-path=\"url(#clip030)\" d=\"M 0 0 M1119.65 48.0275 L1119.65 51.6733 L1085.38 51.6733 Q1085.86 59.3701 1090 63.421 Q1094.17 67.4314 1101.58 67.4314 Q1105.88 67.4314 1109.89 66.3781 Q1113.94 65.3249 1117.91 63.2184 L1117.91 70.267 Q1113.9 71.9684 1109.68 72.8596 Q1105.47 73.7508 1101.14 73.7508 Q1090.28 73.7508 1083.92 67.4314 Q1077.6 61.1119 1077.6 50.3365 Q1077.6 39.1965 1083.6 32.6746 Q1089.63 26.1121 1099.84 26.1121 Q1108.99 26.1121 1114.3 32.0264 Q1119.65 37.9003 1119.65 48.0275 M1112.19 45.84 Q1112.11 39.7232 1108.75 36.0774 Q1105.43 32.4315 1099.92 32.4315 Q1093.68 32.4315 1089.91 35.9558 Q1086.19 39.4801 1085.62 45.8805 L1112.19 45.84 Z\" fill=\"#000000\" fill-rule=\"evenodd\" fill-opacity=\"1\" /><path clip-path=\"url(#clip030)\" d=\"M 0 0 M1162.34 18.8205 L1162.34 41.5461 L1172.63 41.5461 Q1178.35 41.5461 1181.47 38.5889 Q1184.58 35.6318 1184.58 30.163 Q1184.58 24.7348 1181.47 21.7777 Q1178.35 18.8205 1172.63 18.8205 L1162.34 18.8205 M1154.16 12.096 L1172.63 12.096 Q1182.8 12.096 1187.99 16.714 Q1193.21 21.2916 1193.21 30.163 Q1193.21 39.1155 1187.99 43.6931 Q1182.8 48.2706 1172.63 48.2706 L1162.34 48.2706 L1162.34 72.576 L1154.16 72.576 L1154.16 12.096 Z\" fill=\"#000000\" fill-rule=\"evenodd\" fill-opacity=\"1\" /><path clip-path=\"url(#clip030)\" d=\"M 0 0 M1236.88 48.0275 L1236.88 51.6733 L1202.61 51.6733 Q1203.1 59.3701 1207.23 63.421 Q1211.4 67.4314 1218.81 67.4314 Q1223.11 67.4314 1227.12 66.3781 Q1231.17 65.3249 1235.14 63.2184 L1235.14 70.267 Q1231.13 71.9684 1226.92 72.8596 Q1222.7 73.7508 1218.37 73.7508 Q1207.51 73.7508 1201.15 67.4314 Q1194.83 61.1119 1194.83 50.3365 Q1194.83 39.1965 1200.83 32.6746 Q1206.86 26.1121 1217.07 26.1121 Q1226.23 26.1121 1231.53 32.0264 Q1236.88 37.9003 1236.88 48.0275 M1229.43 45.84 Q1229.35 39.7232 1225.98 36.0774 Q1222.66 32.4315 1217.15 32.4315 Q1210.92 32.4315 1207.15 35.9558 Q1203.42 39.4801 1202.85 45.8805 L1229.43 45.84 Z\" fill=\"#000000\" fill-rule=\"evenodd\" fill-opacity=\"1\" /><path clip-path=\"url(#clip030)\" d=\"M 0 0 M1270.99 34.1734 Q1269.73 33.4443 1268.24 33.1202 Q1266.78 32.7556 1264.99 32.7556 Q1258.68 32.7556 1255.27 36.8875 Q1251.91 40.9789 1251.91 48.6757 L1251.91 72.576 L1244.42 72.576 L1244.42 27.2059 L1251.91 27.2059 L1251.91 34.2544 Q1254.26 30.1225 1258.03 28.1376 Q1261.79 26.1121 1267.18 26.1121 Q1267.95 26.1121 1268.88 26.2337 Q1269.82 26.3147 1270.95 26.5172 L1270.99 34.1734 Z\" fill=\"#000000\" fill-rule=\"evenodd\" fill-opacity=\"1\" /><path clip-path=\"url(#clip030)\" d=\"M 0 0 M1301.78 9.54393 L1301.78 15.7418 L1294.65 15.7418 Q1290.64 15.7418 1289.06 17.3622 Q1287.52 18.9825 1287.52 23.1955 L1287.52 27.2059 L1299.79 27.2059 L1299.79 32.9987 L1287.52 32.9987 L1287.52 72.576 L1280.02 72.576 L1280.02 32.9987 L1272.89 32.9987 L1272.89 27.2059 L1280.02 27.2059 L1280.02 24.0462 Q1280.02 16.471 1283.55 13.0277 Q1287.07 9.54393 1294.73 9.54393 L1301.78 9.54393 Z\" fill=\"#000000\" fill-rule=\"evenodd\" fill-opacity=\"1\" /><path clip-path=\"url(#clip030)\" d=\"M 0 0 M1327.18 32.4315 Q1321.18 32.4315 1317.7 37.1306 Q1314.21 41.7891 1314.21 49.9314 Q1314.21 58.0738 1317.66 62.7728 Q1321.14 67.4314 1327.18 67.4314 Q1333.13 67.4314 1336.61 62.7323 Q1340.1 58.0333 1340.1 49.9314 Q1340.1 41.8701 1336.61 37.1711 Q1333.13 32.4315 1327.18 32.4315 M1327.18 26.1121 Q1336.9 26.1121 1342.45 32.4315 Q1348 38.7509 1348 49.9314 Q1348 61.0714 1342.45 67.4314 Q1336.9 73.7508 1327.18 73.7508 Q1317.41 73.7508 1311.86 67.4314 Q1306.35 61.0714 1306.35 49.9314 Q1306.35 38.7509 1311.86 32.4315 Q1317.41 26.1121 1327.18 26.1121 Z\" fill=\"#000000\" fill-rule=\"evenodd\" fill-opacity=\"1\" /><path clip-path=\"url(#clip030)\" d=\"M 0 0 M1382.11 34.1734 Q1380.85 33.4443 1379.35 33.1202 Q1377.89 32.7556 1376.11 32.7556 Q1369.79 32.7556 1366.39 36.8875 Q1363.03 40.9789 1363.03 48.6757 L1363.03 72.576 L1355.53 72.576 L1355.53 27.2059 L1363.03 27.2059 L1363.03 34.2544 Q1365.38 30.1225 1369.14 28.1376 Q1372.91 26.1121 1378.3 26.1121 Q1379.07 26.1121 1380 26.2337 Q1380.93 26.3147 1382.07 26.5172 L1382.11 34.1734 Z\" fill=\"#000000\" fill-rule=\"evenodd\" fill-opacity=\"1\" /><path clip-path=\"url(#clip030)\" d=\"M 0 0 M1423.79 35.9153 Q1426.59 30.8922 1430.47 28.5022 Q1434.36 26.1121 1439.63 26.1121 Q1446.72 26.1121 1450.57 31.0947 Q1454.41 36.0368 1454.41 45.1919 L1454.41 72.576 L1446.92 72.576 L1446.92 45.4349 Q1446.92 38.913 1444.61 35.7533 Q1442.3 32.5936 1437.56 32.5936 Q1431.77 32.5936 1428.41 36.4419 Q1425.05 40.2903 1425.05 46.9338 L1425.05 72.576 L1417.55 72.576 L1417.55 45.4349 Q1417.55 38.8725 1415.24 35.7533 Q1412.93 32.5936 1408.11 32.5936 Q1402.4 32.5936 1399.04 36.4824 Q1395.68 40.3308 1395.68 46.9338 L1395.68 72.576 L1388.18 72.576 L1388.18 27.2059 L1395.68 27.2059 L1395.68 34.2544 Q1398.23 30.082 1401.79 28.0971 Q1405.36 26.1121 1410.26 26.1121 Q1415.2 26.1121 1418.65 28.6237 Q1422.13 31.1352 1423.79 35.9153 Z\" fill=\"#000000\" fill-rule=\"evenodd\" fill-opacity=\"1\" /><path clip-path=\"url(#clip030)\" d=\"M 0 0 M1482.85 49.7694 Q1473.82 49.7694 1470.33 51.8354 Q1466.85 53.9013 1466.85 58.8839 Q1466.85 62.8538 1469.44 65.2034 Q1472.08 67.5124 1476.57 67.5124 Q1482.77 67.5124 1486.5 63.1374 Q1490.27 58.7219 1490.27 51.4303 L1490.27 49.7694 L1482.85 49.7694 M1497.72 46.6907 L1497.72 72.576 L1490.27 72.576 L1490.27 65.6895 Q1487.71 69.8214 1483.91 71.8063 Q1480.1 73.7508 1474.59 73.7508 Q1467.62 73.7508 1463.49 69.8619 Q1459.4 65.9325 1459.4 59.3701 Q1459.4 51.7138 1464.5 47.825 Q1469.65 43.9361 1479.81 43.9361 L1490.27 43.9361 L1490.27 43.2069 Q1490.27 38.0623 1486.86 35.2672 Q1483.5 32.4315 1477.38 32.4315 Q1473.49 32.4315 1469.81 33.3632 Q1466.12 34.295 1462.72 36.1584 L1462.72 29.2718 Q1466.81 27.692 1470.66 26.9223 Q1474.51 26.1121 1478.15 26.1121 Q1488 26.1121 1492.86 31.2163 Q1497.72 36.3204 1497.72 46.6907 Z\" fill=\"#000000\" fill-rule=\"evenodd\" fill-opacity=\"1\" /><path clip-path=\"url(#clip030)\" d=\"M 0 0 M1543.25 45.1919 L1543.25 72.576 L1535.8 72.576 L1535.8 45.4349 Q1535.8 38.994 1533.29 35.7938 Q1530.77 32.5936 1525.75 32.5936 Q1519.72 32.5936 1516.23 36.4419 Q1512.75 40.2903 1512.75 46.9338 L1512.75 72.576 L1505.25 72.576 L1505.25 27.2059 L1512.75 27.2059 L1512.75 34.2544 Q1515.42 30.163 1519.03 28.1376 Q1522.67 26.1121 1527.41 26.1121 Q1535.23 26.1121 1539.24 30.9732 Q1543.25 35.7938 1543.25 45.1919 Z\" fill=\"#000000\" fill-rule=\"evenodd\" fill-opacity=\"1\" /><path clip-path=\"url(#clip030)\" d=\"M 0 0 M1583.72 28.9478 L1583.72 35.9153 Q1580.56 34.1734 1577.36 33.3227 Q1574.2 32.4315 1570.96 32.4315 Q1563.71 32.4315 1559.7 37.0496 Q1555.69 41.6271 1555.69 49.9314 Q1555.69 58.2358 1559.7 62.8538 Q1563.71 67.4314 1570.96 67.4314 Q1574.2 67.4314 1577.36 66.5807 Q1580.56 65.6895 1583.72 63.9476 L1583.72 70.8341 Q1580.6 72.2924 1577.24 73.0216 Q1573.92 73.7508 1570.15 73.7508 Q1559.9 73.7508 1553.86 67.3098 Q1547.83 60.8689 1547.83 49.9314 Q1547.83 38.832 1553.91 32.472 Q1560.02 26.1121 1570.64 26.1121 Q1574.08 26.1121 1577.36 26.8413 Q1580.64 27.5299 1583.72 28.9478 Z\" fill=\"#000000\" fill-rule=\"evenodd\" fill-opacity=\"1\" /><path clip-path=\"url(#clip030)\" d=\"M 0 0 M1630.35 48.0275 L1630.35 51.6733 L1596.08 51.6733 Q1596.56 59.3701 1600.69 63.421 Q1604.87 67.4314 1612.28 67.4314 Q1616.57 67.4314 1620.58 66.3781 Q1624.63 65.3249 1628.6 63.2184 L1628.6 70.267 Q1624.59 71.9684 1620.38 72.8596 Q1616.17 73.7508 1611.83 73.7508 Q1600.98 73.7508 1594.62 67.4314 Q1588.3 61.1119 1588.3 50.3365 Q1588.3 39.1965 1594.29 32.6746 Q1600.33 26.1121 1610.54 26.1121 Q1619.69 26.1121 1625 32.0264 Q1630.35 37.9003 1630.35 48.0275 M1622.89 45.84 Q1622.81 39.7232 1619.45 36.0774 Q1616.13 32.4315 1610.62 32.4315 Q1604.38 32.4315 1600.61 35.9558 Q1596.89 39.4801 1596.32 45.8805 L1622.89 45.84 Z\" fill=\"#000000\" fill-rule=\"evenodd\" fill-opacity=\"1\" /><path clip-path=\"url(#clip030)\" d=\"M 0 0 M967.618 109.541 L967.618 156.571 L977.502 156.571 Q990.019 156.571 995.812 150.9 Q1001.65 145.229 1001.65 132.995 Q1001.65 120.843 995.812 115.212 Q990.019 109.541 977.502 109.541 L967.618 109.541 M959.435 102.816 L976.246 102.816 Q993.827 102.816 1002.05 110.148 Q1010.27 117.44 1010.27 132.995 Q1010.27 148.632 1002.01 155.964 Q993.746 163.296 976.246 163.296 L959.435 163.296 L959.435 102.816 Z\" fill=\"#000000\" fill-rule=\"evenodd\" fill-opacity=\"1\" /><path clip-path=\"url(#clip030)\" d=\"M 0 0 M1038.71 140.489 Q1029.68 140.489 1026.19 142.555 Q1022.71 144.621 1022.71 149.604 Q1022.71 153.574 1025.3 155.923 Q1027.94 158.232 1032.43 158.232 Q1038.63 158.232 1042.36 153.857 Q1046.12 149.442 1046.12 142.15 L1046.12 140.489 L1038.71 140.489 M1053.58 137.411 L1053.58 163.296 L1046.12 163.296 L1046.12 156.409 Q1043.57 160.541 1039.76 162.526 Q1035.96 164.471 1030.45 164.471 Q1023.48 164.471 1019.35 160.582 Q1015.26 156.653 1015.26 150.09 Q1015.26 142.434 1020.36 138.545 Q1025.51 134.656 1035.67 134.656 L1046.12 134.656 L1046.12 133.927 Q1046.12 128.782 1042.72 125.987 Q1039.36 123.152 1033.24 123.152 Q1029.35 123.152 1025.67 124.083 Q1021.98 125.015 1018.58 126.878 L1018.58 119.992 Q1022.67 118.412 1026.52 117.642 Q1030.37 116.832 1034.01 116.832 Q1043.86 116.832 1048.72 121.936 Q1053.58 127.04 1053.58 137.411 Z\" fill=\"#000000\" fill-rule=\"evenodd\" fill-opacity=\"1\" /><path clip-path=\"url(#clip030)\" d=\"M 0 0 M1068.77 105.044 L1068.77 117.926 L1084.12 117.926 L1084.12 123.719 L1068.77 123.719 L1068.77 148.348 Q1068.77 153.898 1070.27 155.478 Q1071.81 157.058 1076.47 157.058 L1084.12 157.058 L1084.12 163.296 L1076.47 163.296 Q1067.84 163.296 1064.56 160.096 Q1061.27 156.855 1061.27 148.348 L1061.27 123.719 L1055.81 123.719 L1055.81 117.926 L1061.27 117.926 L1061.27 105.044 L1068.77 105.044 Z\" fill=\"#000000\" fill-rule=\"evenodd\" fill-opacity=\"1\" /><path clip-path=\"url(#clip030)\" d=\"M 0 0 M1112.56 140.489 Q1103.53 140.489 1100.04 142.555 Q1096.56 144.621 1096.56 149.604 Q1096.56 153.574 1099.15 155.923 Q1101.78 158.232 1106.28 158.232 Q1112.48 158.232 1116.2 153.857 Q1119.97 149.442 1119.97 142.15 L1119.97 140.489 L1112.56 140.489 M1127.43 137.411 L1127.43 163.296 L1119.97 163.296 L1119.97 156.409 Q1117.42 160.541 1113.61 162.526 Q1109.8 164.471 1104.3 164.471 Q1097.33 164.471 1093.2 160.582 Q1089.1 156.653 1089.1 150.09 Q1089.1 142.434 1094.21 138.545 Q1099.35 134.656 1109.52 134.656 L1119.97 134.656 L1119.97 133.927 Q1119.97 128.782 1116.57 125.987 Q1113.21 123.152 1107.09 123.152 Q1103.2 123.152 1099.52 124.083 Q1095.83 125.015 1092.43 126.878 L1092.43 119.992 Q1096.52 118.412 1100.37 117.642 Q1104.21 116.832 1107.86 116.832 Q1117.7 116.832 1122.56 121.936 Q1127.43 127.04 1127.43 137.411 Z\" fill=\"#000000\" fill-rule=\"evenodd\" fill-opacity=\"1\" /><path clip-path=\"url(#clip030)\" d=\"M 0 0 M1135.57 102.816 L1170.33 102.816 L1170.33 109.703 L1143.75 109.703 L1143.75 127.527 L1167.73 127.527 L1167.73 134.413 L1143.75 134.413 L1143.75 163.296 L1135.57 163.296 L1135.57 102.816 Z\" fill=\"#000000\" fill-rule=\"evenodd\" fill-opacity=\"1\" /><path clip-path=\"url(#clip030)\" d=\"M 0 0 M1198.4 124.893 Q1197.14 124.164 1195.64 123.84 Q1194.18 123.476 1192.4 123.476 Q1186.08 123.476 1182.68 127.608 Q1179.32 131.699 1179.32 139.396 L1179.32 163.296 L1171.82 163.296 L1171.82 117.926 L1179.32 117.926 L1179.32 124.974 Q1181.67 120.843 1185.43 118.858 Q1189.2 116.832 1194.59 116.832 Q1195.36 116.832 1196.29 116.954 Q1197.22 117.035 1198.36 117.237 L1198.4 124.893 Z\" fill=\"#000000\" fill-rule=\"evenodd\" fill-opacity=\"1\" /><path clip-path=\"url(#clip030)\" d=\"M 0 0 M1226.84 140.489 Q1217.8 140.489 1214.32 142.555 Q1210.83 144.621 1210.83 149.604 Q1210.83 153.574 1213.43 155.923 Q1216.06 158.232 1220.56 158.232 Q1226.75 158.232 1230.48 153.857 Q1234.25 149.442 1234.25 142.15 L1234.25 140.489 L1226.84 140.489 M1241.7 137.411 L1241.7 163.296 L1234.25 163.296 L1234.25 156.409 Q1231.7 160.541 1227.89 162.526 Q1224.08 164.471 1218.57 164.471 Q1211.6 164.471 1207.47 160.582 Q1203.38 156.653 1203.38 150.09 Q1203.38 142.434 1208.48 138.545 Q1213.63 134.656 1223.8 134.656 L1234.25 134.656 L1234.25 133.927 Q1234.25 128.782 1230.85 125.987 Q1227.48 123.152 1221.37 123.152 Q1217.48 123.152 1213.79 124.083 Q1210.1 125.015 1206.7 126.878 L1206.7 119.992 Q1210.79 118.412 1214.64 117.642 Q1218.49 116.832 1222.14 116.832 Q1231.98 116.832 1236.84 121.936 Q1241.7 127.04 1241.7 137.411 Z\" fill=\"#000000\" fill-rule=\"evenodd\" fill-opacity=\"1\" /><path clip-path=\"url(#clip030)\" d=\"M 0 0 M1284.84 126.635 Q1287.64 121.612 1291.53 119.222 Q1295.42 116.832 1300.68 116.832 Q1307.77 116.832 1311.62 121.815 Q1315.47 126.757 1315.47 135.912 L1315.47 163.296 L1307.97 163.296 L1307.97 136.155 Q1307.97 129.633 1305.67 126.473 Q1303.36 123.314 1298.62 123.314 Q1292.82 123.314 1289.46 127.162 Q1286.1 131.01 1286.1 137.654 L1286.1 163.296 L1278.61 163.296 L1278.61 136.155 Q1278.61 129.592 1276.3 126.473 Q1273.99 123.314 1269.17 123.314 Q1263.46 123.314 1260.09 127.202 Q1256.73 131.051 1256.73 137.654 L1256.73 163.296 L1249.24 163.296 L1249.24 117.926 L1256.73 117.926 L1256.73 124.974 Q1259.28 120.802 1262.85 118.817 Q1266.41 116.832 1271.31 116.832 Q1276.26 116.832 1279.7 119.344 Q1283.18 121.855 1284.84 126.635 Z\" fill=\"#000000\" fill-rule=\"evenodd\" fill-opacity=\"1\" /><path clip-path=\"url(#clip030)\" d=\"M 0 0 M1362.09 138.748 L1362.09 142.393 L1327.82 142.393 Q1328.31 150.09 1332.44 154.141 Q1336.61 158.151 1344.03 158.151 Q1348.32 158.151 1352.33 157.098 Q1356.38 156.045 1360.35 153.938 L1360.35 160.987 Q1356.34 162.688 1352.13 163.58 Q1347.92 164.471 1343.58 164.471 Q1332.73 164.471 1326.37 158.151 Q1320.05 151.832 1320.05 141.057 Q1320.05 129.917 1326.04 123.395 Q1332.08 116.832 1342.29 116.832 Q1351.44 116.832 1356.75 122.746 Q1362.09 128.62 1362.09 138.748 M1354.64 136.56 Q1354.56 130.443 1351.2 126.797 Q1347.88 123.152 1342.37 123.152 Q1336.13 123.152 1332.36 126.676 Q1328.63 130.2 1328.07 136.601 L1354.64 136.56 Z\" fill=\"#000000\" fill-rule=\"evenodd\" fill-opacity=\"1\" /><path clip-path=\"url(#clip030)\" d=\"M 0 0 M1371.82 153.007 L1380.36 153.007 L1380.36 163.296 L1371.82 163.296 L1371.82 153.007 M1371.82 120.397 L1380.36 120.397 L1380.36 130.686 L1371.82 130.686 L1371.82 120.397 Z\" fill=\"#000000\" fill-rule=\"evenodd\" fill-opacity=\"1\" /><path clip-path=\"url(#clip030)\" d=\"M 0 0 M1447.12 140.651 Q1447.12 132.428 1443.72 127.77 Q1440.36 123.071 1434.44 123.071 Q1428.53 123.071 1425.13 127.77 Q1421.76 132.428 1421.76 140.651 Q1421.76 148.875 1425.13 153.574 Q1428.53 158.232 1434.44 158.232 Q1440.36 158.232 1443.72 153.574 Q1447.12 148.875 1447.12 140.651 M1421.76 124.812 Q1424.11 120.762 1427.68 118.817 Q1431.28 116.832 1436.27 116.832 Q1444.53 116.832 1449.68 123.395 Q1454.86 129.957 1454.86 140.651 Q1454.86 151.346 1449.68 157.908 Q1444.53 164.471 1436.27 164.471 Q1431.28 164.471 1427.68 162.526 Q1424.11 160.541 1421.76 156.49 L1421.76 163.296 L1414.27 163.296 L1414.27 100.264 L1421.76 100.264 L1421.76 124.812 Z\" fill=\"#000000\" fill-rule=\"evenodd\" fill-opacity=\"1\" /><path clip-path=\"url(#clip030)\" d=\"M 0 0 M1462.68 117.926 L1470.13 117.926 L1470.13 163.296 L1462.68 163.296 L1462.68 117.926 M1462.68 100.264 L1470.13 100.264 L1470.13 109.703 L1462.68 109.703 L1462.68 100.264 Z\" fill=\"#000000\" fill-rule=\"evenodd\" fill-opacity=\"1\" /><path clip-path=\"url(#clip030)\" d=\"M 0 0 M1507.81 140.084 Q1507.81 131.983 1504.44 127.527 Q1501.12 123.071 1495.09 123.071 Q1489.09 123.071 1485.73 127.527 Q1482.41 131.983 1482.41 140.084 Q1482.41 148.146 1485.73 152.602 Q1489.09 157.058 1495.09 157.058 Q1501.12 157.058 1504.44 152.602 Q1507.81 148.146 1507.81 140.084 M1515.26 157.665 Q1515.26 169.251 1510.11 174.882 Q1504.97 180.553 1494.36 180.553 Q1490.43 180.553 1486.94 179.945 Q1483.46 179.378 1480.18 178.163 L1480.18 170.912 Q1483.46 172.694 1486.66 173.545 Q1489.86 174.395 1493.18 174.395 Q1500.51 174.395 1504.16 170.547 Q1507.81 166.739 1507.81 159.002 L1507.81 155.316 Q1505.5 159.326 1501.89 161.311 Q1498.29 163.296 1493.26 163.296 Q1484.92 163.296 1479.81 156.936 Q1474.71 150.576 1474.71 140.084 Q1474.71 129.552 1479.81 123.192 Q1484.92 116.832 1493.26 116.832 Q1498.29 116.832 1501.89 118.817 Q1505.5 120.802 1507.81 124.812 L1507.81 117.926 L1515.26 117.926 L1515.26 157.665 Z\" fill=\"#000000\" fill-rule=\"evenodd\" fill-opacity=\"1\" /><path clip-path=\"url(#clip030)\" d=\"M 0 0 M1552.93 124.812 L1552.93 100.264 L1560.39 100.264 L1560.39 163.296 L1552.93 163.296 L1552.93 156.49 Q1550.58 160.541 1546.98 162.526 Q1543.41 164.471 1538.39 164.471 Q1530.17 164.471 1524.98 157.908 Q1519.84 151.346 1519.84 140.651 Q1519.84 129.957 1524.98 123.395 Q1530.17 116.832 1538.39 116.832 Q1543.41 116.832 1546.98 118.817 Q1550.58 120.762 1552.93 124.812 M1527.53 140.651 Q1527.53 148.875 1530.9 153.574 Q1534.3 158.232 1540.21 158.232 Q1546.13 158.232 1549.53 153.574 Q1552.93 148.875 1552.93 140.651 Q1552.93 132.428 1549.53 127.77 Q1546.13 123.071 1540.21 123.071 Q1534.3 123.071 1530.9 127.77 Q1527.53 132.428 1527.53 140.651 Z\" fill=\"#000000\" fill-rule=\"evenodd\" fill-opacity=\"1\" /><path clip-path=\"url(#clip030)\" d=\"M 0 0 M1591.17 100.264 L1591.17 106.462 L1584.04 106.462 Q1580.03 106.462 1578.45 108.082 Q1576.91 109.703 1576.91 113.915 L1576.91 117.926 L1589.19 117.926 L1589.19 123.719 L1576.91 123.719 L1576.91 163.296 L1569.42 163.296 L1569.42 123.719 L1562.29 123.719 L1562.29 117.926 L1569.42 117.926 L1569.42 114.766 Q1569.42 107.191 1572.94 103.748 Q1576.47 100.264 1584.12 100.264 L1591.17 100.264 Z\" fill=\"#000000\" fill-rule=\"evenodd\" fill-opacity=\"1\" /><path clip-path=\"url(#clip030)\" d=\"M 0 0 M961.096 195.521 L961.096 203.501 Q956.437 201.273 952.305 200.179 Q948.173 199.086 944.325 199.086 Q937.641 199.086 933.995 201.678 Q930.39 204.271 930.39 209.051 Q930.39 213.061 932.78 215.127 Q935.211 217.153 941.935 218.409 L946.877 219.421 Q956.032 221.163 960.367 225.579 Q964.742 229.954 964.742 237.326 Q964.742 246.117 958.827 250.654 Q952.953 255.191 941.57 255.191 Q937.276 255.191 932.415 254.219 Q927.595 253.246 922.41 251.342 L922.41 242.917 Q927.392 245.712 932.172 247.129 Q936.952 248.547 941.57 248.547 Q948.579 248.547 952.386 245.793 Q956.194 243.038 956.194 237.934 Q956.194 233.478 953.44 230.966 Q950.725 228.455 944.487 227.199 L939.504 226.227 Q930.349 224.404 926.258 220.515 Q922.167 216.626 922.167 209.699 Q922.167 201.678 927.797 197.06 Q933.469 192.442 943.393 192.442 Q947.647 192.442 952.062 193.212 Q956.478 193.982 961.096 195.521 Z\" fill=\"#000000\" fill-rule=\"evenodd\" fill-opacity=\"1\" /><path clip-path=\"url(#clip030)\" d=\"M 0 0 M972.56 208.646 L980.014 208.646 L980.014 254.016 L972.56 254.016 L972.56 208.646 M972.56 190.984 L980.014 190.984 L980.014 200.423 L972.56 200.423 L972.56 190.984 Z\" fill=\"#000000\" fill-rule=\"evenodd\" fill-opacity=\"1\" /><path clip-path=\"url(#clip030)\" d=\"M 0 0 M984.591 208.646 L1020 208.646 L1020 215.451 L991.964 248.061 L1020 248.061 L1020 254.016 L983.578 254.016 L983.578 247.21 L1011.61 214.601 L984.591 214.601 L984.591 208.646 Z\" fill=\"#000000\" fill-rule=\"evenodd\" fill-opacity=\"1\" /><path clip-path=\"url(#clip030)\" d=\"M 0 0 M1066.62 229.468 L1066.62 233.113 L1032.35 233.113 Q1032.84 240.81 1036.97 244.861 Q1041.14 248.871 1048.55 248.871 Q1052.85 248.871 1056.86 247.818 Q1060.91 246.765 1064.88 244.658 L1064.88 251.707 Q1060.87 253.408 1056.66 254.3 Q1052.44 255.191 1048.11 255.191 Q1037.25 255.191 1030.89 248.871 Q1024.57 242.552 1024.57 231.777 Q1024.57 220.637 1030.57 214.115 Q1036.6 207.552 1046.81 207.552 Q1055.97 207.552 1061.27 213.466 Q1066.62 219.34 1066.62 229.468 M1059.17 227.28 Q1059.09 221.163 1055.72 217.517 Q1052.4 213.872 1046.89 213.872 Q1040.66 213.872 1036.89 217.396 Q1033.16 220.92 1032.59 227.321 L1059.17 227.28 Z\" fill=\"#000000\" fill-rule=\"evenodd\" fill-opacity=\"1\" /><path clip-path=\"url(#clip030)\" d=\"M 0 0 M1076.34 243.727 L1084.89 243.727 L1084.89 254.016 L1076.34 254.016 L1076.34 243.727 M1076.34 211.117 L1084.89 211.117 L1084.89 221.406 L1076.34 221.406 L1076.34 211.117 Z\" fill=\"#000000\" fill-rule=\"evenodd\" fill-opacity=\"1\" /><path clip-path=\"url(#clip030)\" d=\"M 0 0 M1136.99 191.065 Q1131.56 200.382 1128.92 209.497 Q1126.29 218.611 1126.29 227.969 Q1126.29 237.326 1128.92 246.522 Q1131.6 255.677 1136.99 264.953 L1130.5 264.953 Q1124.43 255.434 1121.39 246.238 Q1118.39 237.043 1118.39 227.969 Q1118.39 218.935 1121.39 209.78 Q1124.39 200.625 1130.5 191.065 L1136.99 191.065 Z\" fill=\"#000000\" fill-rule=\"evenodd\" fill-opacity=\"1\" /><path clip-path=\"url(#clip030)\" d=\"M 0 0 M1147.28 247.129 L1160.64 247.129 L1160.64 200.99 L1146.1 203.906 L1146.1 196.453 L1160.56 193.536 L1168.75 193.536 L1168.75 247.129 L1182.11 247.129 L1182.11 254.016 L1147.28 254.016 L1147.28 247.129 Z\" fill=\"#000000\" fill-rule=\"evenodd\" fill-opacity=\"1\" /><path clip-path=\"url(#clip030)\" d=\"M 0 0 M1208.48 198.924 Q1202.17 198.924 1198.96 205.162 Q1195.81 211.36 1195.81 223.837 Q1195.81 236.273 1198.96 242.511 Q1202.17 248.709 1208.48 248.709 Q1214.84 248.709 1218 242.511 Q1221.2 236.273 1221.2 223.837 Q1221.2 211.36 1218 205.162 Q1214.84 198.924 1208.48 198.924 M1208.48 192.442 Q1218.65 192.442 1224 200.504 Q1229.39 208.524 1229.39 223.837 Q1229.39 239.109 1224 247.17 Q1218.65 255.191 1208.48 255.191 Q1198.32 255.191 1192.93 247.17 Q1187.58 239.109 1187.58 223.837 Q1187.58 208.524 1192.93 200.504 Q1198.32 192.442 1208.48 192.442 Z\" fill=\"#000000\" fill-rule=\"evenodd\" fill-opacity=\"1\" /><path clip-path=\"url(#clip030)\" d=\"M 0 0 M1255.76 198.924 Q1249.44 198.924 1246.24 205.162 Q1243.08 211.36 1243.08 223.837 Q1243.08 236.273 1246.24 242.511 Q1249.44 248.709 1255.76 248.709 Q1262.12 248.709 1265.28 242.511 Q1268.48 236.273 1268.48 223.837 Q1268.48 211.36 1265.28 205.162 Q1262.12 198.924 1255.76 198.924 M1255.76 192.442 Q1265.93 192.442 1271.27 200.504 Q1276.66 208.524 1276.66 223.837 Q1276.66 239.109 1271.27 247.17 Q1265.93 255.191 1255.76 255.191 Q1245.59 255.191 1240.2 247.17 Q1234.86 239.109 1234.86 223.837 Q1234.86 208.524 1240.2 200.504 Q1245.59 192.442 1255.76 192.442 Z\" fill=\"#000000\" fill-rule=\"evenodd\" fill-opacity=\"1\" /><path clip-path=\"url(#clip030)\" d=\"M 0 0 M1303.03 198.924 Q1296.71 198.924 1293.51 205.162 Q1290.35 211.36 1290.35 223.837 Q1290.35 236.273 1293.51 242.511 Q1296.71 248.709 1303.03 248.709 Q1309.39 248.709 1312.55 242.511 Q1315.75 236.273 1315.75 223.837 Q1315.75 211.36 1312.55 205.162 Q1309.39 198.924 1303.03 198.924 M1303.03 192.442 Q1313.2 192.442 1318.55 200.504 Q1323.94 208.524 1323.94 223.837 Q1323.94 239.109 1318.55 247.17 Q1313.2 255.191 1303.03 255.191 Q1292.86 255.191 1287.48 247.17 Q1282.13 239.109 1282.13 223.837 Q1282.13 208.524 1287.48 200.504 Q1292.86 192.442 1303.03 192.442 Z\" fill=\"#000000\" fill-rule=\"evenodd\" fill-opacity=\"1\" /><path clip-path=\"url(#clip030)\" d=\"M 0 0 M1350.31 198.924 Q1343.99 198.924 1340.79 205.162 Q1337.63 211.36 1337.63 223.837 Q1337.63 236.273 1340.79 242.511 Q1343.99 248.709 1350.31 248.709 Q1356.67 248.709 1359.83 242.511 Q1363.03 236.273 1363.03 223.837 Q1363.03 211.36 1359.83 205.162 Q1356.67 198.924 1350.31 198.924 M1350.31 192.442 Q1360.47 192.442 1365.82 200.504 Q1371.21 208.524 1371.21 223.837 Q1371.21 239.109 1365.82 247.17 Q1360.47 255.191 1350.31 255.191 Q1340.14 255.191 1334.75 247.17 Q1329.4 239.109 1329.4 223.837 Q1329.4 208.524 1334.75 200.504 Q1340.14 192.442 1350.31 192.442 Z\" fill=\"#000000\" fill-rule=\"evenodd\" fill-opacity=\"1\" /><path clip-path=\"url(#clip030)\" d=\"M 0 0 M1397.58 198.924 Q1391.26 198.924 1388.06 205.162 Q1384.9 211.36 1384.9 223.837 Q1384.9 236.273 1388.06 242.511 Q1391.26 248.709 1397.58 248.709 Q1403.94 248.709 1407.1 242.511 Q1410.3 236.273 1410.3 223.837 Q1410.3 211.36 1407.1 205.162 Q1403.94 198.924 1397.58 198.924 M1397.58 192.442 Q1407.75 192.442 1413.1 200.504 Q1418.48 208.524 1418.48 223.837 Q1418.48 239.109 1413.1 247.17 Q1407.75 255.191 1397.58 255.191 Q1387.41 255.191 1382.03 247.17 Q1376.68 239.109 1376.68 223.837 Q1376.68 208.524 1382.03 200.504 Q1387.41 192.442 1397.58 192.442 Z\" fill=\"#000000\" fill-rule=\"evenodd\" fill-opacity=\"1\" /><path clip-path=\"url(#clip030)\" d=\"M 0 0 M1428.21 243.727 L1436.75 243.727 L1436.75 250.694 L1430.11 263.657 L1424.88 263.657 L1428.21 250.694 L1428.21 243.727 Z\" fill=\"#000000\" fill-rule=\"evenodd\" fill-opacity=\"1\" /><path clip-path=\"url(#clip030)\" d=\"M 0 0 M1472.08 193.536 L1504.2 193.536 L1504.2 200.423 L1479.57 200.423 L1479.57 215.249 Q1481.35 214.641 1483.14 214.358 Q1484.92 214.034 1486.7 214.034 Q1496.83 214.034 1502.74 219.583 Q1508.66 225.133 1508.66 234.612 Q1508.66 244.375 1502.58 249.803 Q1496.5 255.191 1485.44 255.191 Q1481.64 255.191 1477.67 254.543 Q1473.74 253.894 1469.52 252.598 L1469.52 244.375 Q1473.17 246.36 1477.06 247.332 Q1480.95 248.304 1485.28 248.304 Q1492.29 248.304 1496.38 244.618 Q1500.47 240.932 1500.47 234.612 Q1500.47 228.293 1496.38 224.606 Q1492.29 220.92 1485.28 220.92 Q1482 220.92 1478.72 221.649 Q1475.48 222.378 1472.08 223.918 L1472.08 193.536 Z\" fill=\"#000000\" fill-rule=\"evenodd\" fill-opacity=\"1\" /><path clip-path=\"url(#clip030)\" d=\"M 0 0 M1535.03 198.924 Q1528.71 198.924 1525.51 205.162 Q1522.35 211.36 1522.35 223.837 Q1522.35 236.273 1525.51 242.511 Q1528.71 248.709 1535.03 248.709 Q1541.39 248.709 1544.55 242.511 Q1547.75 236.273 1547.75 223.837 Q1547.75 211.36 1544.55 205.162 Q1541.39 198.924 1535.03 198.924 M1535.03 192.442 Q1545.2 192.442 1550.54 200.504 Q1555.93 208.524 1555.93 223.837 Q1555.93 239.109 1550.54 247.17 Q1545.2 255.191 1535.03 255.191 Q1524.86 255.191 1519.47 247.17 Q1514.13 239.109 1514.13 223.837 Q1514.13 208.524 1519.47 200.504 Q1524.86 192.442 1535.03 192.442 Z\" fill=\"#000000\" fill-rule=\"evenodd\" fill-opacity=\"1\" /><path clip-path=\"url(#clip030)\" d=\"M 0 0 M1582.3 198.924 Q1575.98 198.924 1572.78 205.162 Q1569.62 211.36 1569.62 223.837 Q1569.62 236.273 1572.78 242.511 Q1575.98 248.709 1582.3 248.709 Q1588.66 248.709 1591.82 242.511 Q1595.02 236.273 1595.02 223.837 Q1595.02 211.36 1591.82 205.162 Q1588.66 198.924 1582.3 198.924 M1582.3 192.442 Q1592.47 192.442 1597.82 200.504 Q1603.2 208.524 1603.2 223.837 Q1603.2 239.109 1597.82 247.17 Q1592.47 255.191 1582.3 255.191 Q1572.13 255.191 1566.75 247.17 Q1561.4 239.109 1561.4 223.837 Q1561.4 208.524 1566.75 200.504 Q1572.13 192.442 1582.3 192.442 Z\" fill=\"#000000\" fill-rule=\"evenodd\" fill-opacity=\"1\" /><path clip-path=\"url(#clip030)\" d=\"M 0 0 M1609.85 191.065 L1616.33 191.065 Q1622.41 200.625 1625.4 209.78 Q1628.44 218.935 1628.44 227.969 Q1628.44 237.043 1625.4 246.238 Q1622.41 255.434 1616.33 264.953 L1609.85 264.953 Q1615.24 255.677 1617.87 246.522 Q1620.54 237.326 1620.54 227.969 Q1620.54 218.611 1617.87 209.497 Q1615.24 200.382 1609.85 191.065 Z\" fill=\"#000000\" fill-rule=\"evenodd\" fill-opacity=\"1\" /><path clip-path=\"url(#clip032)\" d=\"\n",
       "M312.618 1311.29 L312.618 1417.71 L445.402 1417.71 L445.402 1311.29 L312.618 1311.29 L312.618 1311.29  Z\n",
       "  \" fill=\"#009af9\" fill-rule=\"evenodd\" fill-opacity=\"1\"/>\n",
       "<polyline clip-path=\"url(#clip032)\" style=\"stroke:#000000; stroke-width:4; stroke-opacity:1; fill:none\" points=\"\n",
       "  312.618,1311.29 312.618,1417.71 445.402,1417.71 445.402,1311.29 312.618,1311.29 \n",
       "  \"/>\n",
       "<path clip-path=\"url(#clip032)\" d=\"\n",
       "M644.579 278.605 L644.579 1417.71 L777.363 1417.71 L777.363 278.605 L644.579 278.605 L644.579 278.605  Z\n",
       "  \" fill=\"#009af9\" fill-rule=\"evenodd\" fill-opacity=\"1\"/>\n",
       "<polyline clip-path=\"url(#clip032)\" style=\"stroke:#000000; stroke-width:4; stroke-opacity:1; fill:none\" points=\"\n",
       "  644.579,278.605 644.579,1417.71 777.363,1417.71 777.363,278.605 644.579,278.605 \n",
       "  \"/>\n",
       "<path clip-path=\"url(#clip032)\" d=\"\n",
       "M976.54 1220.86 L976.54 1417.71 L1109.32 1417.71 L1109.32 1220.86 L976.54 1220.86 L976.54 1220.86  Z\n",
       "  \" fill=\"#009af9\" fill-rule=\"evenodd\" fill-opacity=\"1\"/>\n",
       "<polyline clip-path=\"url(#clip032)\" style=\"stroke:#000000; stroke-width:4; stroke-opacity:1; fill:none\" points=\"\n",
       "  976.54,1220.86 976.54,1417.71 1109.32,1417.71 1109.32,1220.86 976.54,1220.86 \n",
       "  \"/>\n",
       "<path clip-path=\"url(#clip032)\" d=\"\n",
       "M1308.5 1131.08 L1308.5 1417.71 L1441.28 1417.71 L1441.28 1131.08 L1308.5 1131.08 L1308.5 1131.08  Z\n",
       "  \" fill=\"#009af9\" fill-rule=\"evenodd\" fill-opacity=\"1\"/>\n",
       "<polyline clip-path=\"url(#clip032)\" style=\"stroke:#000000; stroke-width:4; stroke-opacity:1; fill:none\" points=\"\n",
       "  1308.5,1131.08 1308.5,1417.71 1441.28,1417.71 1441.28,1131.08 1308.5,1131.08 \n",
       "  \"/>\n",
       "<path clip-path=\"url(#clip032)\" d=\"\n",
       "M1640.46 1330.12 L1640.46 1417.71 L1773.25 1417.71 L1773.25 1330.12 L1640.46 1330.12 L1640.46 1330.12  Z\n",
       "  \" fill=\"#009af9\" fill-rule=\"evenodd\" fill-opacity=\"1\"/>\n",
       "<polyline clip-path=\"url(#clip032)\" style=\"stroke:#000000; stroke-width:4; stroke-opacity:1; fill:none\" points=\"\n",
       "  1640.46,1330.12 1640.46,1417.71 1773.25,1417.71 1773.25,1330.12 1640.46,1330.12 \n",
       "  \"/>\n",
       "<path clip-path=\"url(#clip032)\" d=\"\n",
       "M1972.42 1336.42 L1972.42 1417.71 L2105.21 1417.71 L2105.21 1336.42 L1972.42 1336.42 L1972.42 1336.42  Z\n",
       "  \" fill=\"#009af9\" fill-rule=\"evenodd\" fill-opacity=\"1\"/>\n",
       "<polyline clip-path=\"url(#clip032)\" style=\"stroke:#000000; stroke-width:4; stroke-opacity:1; fill:none\" points=\"\n",
       "  1972.42,1336.42 1972.42,1417.71 2105.21,1417.71 2105.21,1336.42 1972.42,1336.42 \n",
       "  \"/>\n",
       "<path clip-path=\"url(#clip032)\" d=\"\n",
       "M445.402 1392.44 L445.402 1417.71 L578.187 1417.71 L578.187 1392.44 L445.402 1392.44 L445.402 1392.44  Z\n",
       "  \" fill=\"#e26f46\" fill-rule=\"evenodd\" fill-opacity=\"1\"/>\n",
       "<polyline clip-path=\"url(#clip032)\" style=\"stroke:#000000; stroke-width:4; stroke-opacity:1; fill:none\" points=\"\n",
       "  445.402,1392.44 445.402,1417.71 578.187,1417.71 578.187,1392.44 445.402,1392.44 \n",
       "  \"/>\n",
       "<path clip-path=\"url(#clip032)\" d=\"\n",
       "M777.363 303.341 L777.363 1417.71 L910.147 1417.71 L910.147 303.341 L777.363 303.341 L777.363 303.341  Z\n",
       "  \" fill=\"#e26f46\" fill-rule=\"evenodd\" fill-opacity=\"1\"/>\n",
       "<polyline clip-path=\"url(#clip032)\" style=\"stroke:#000000; stroke-width:4; stroke-opacity:1; fill:none\" points=\"\n",
       "  777.363,303.341 777.363,1417.71 910.147,1417.71 910.147,303.341 777.363,303.341 \n",
       "  \"/>\n",
       "<path clip-path=\"url(#clip032)\" d=\"\n",
       "M1109.32 1281.53 L1109.32 1417.71 L1242.11 1417.71 L1242.11 1281.53 L1109.32 1281.53 L1109.32 1281.53  Z\n",
       "  \" fill=\"#e26f46\" fill-rule=\"evenodd\" fill-opacity=\"1\"/>\n",
       "<polyline clip-path=\"url(#clip032)\" style=\"stroke:#000000; stroke-width:4; stroke-opacity:1; fill:none\" points=\"\n",
       "  1109.32,1281.53 1109.32,1417.71 1242.11,1417.71 1242.11,1281.53 1109.32,1281.53 \n",
       "  \"/>\n",
       "<path clip-path=\"url(#clip032)\" d=\"\n",
       "M1441.28 1132.38 L1441.28 1417.71 L1574.07 1417.71 L1574.07 1132.38 L1441.28 1132.38 L1441.28 1132.38  Z\n",
       "  \" fill=\"#e26f46\" fill-rule=\"evenodd\" fill-opacity=\"1\"/>\n",
       "<polyline clip-path=\"url(#clip032)\" style=\"stroke:#000000; stroke-width:4; stroke-opacity:1; fill:none\" points=\"\n",
       "  1441.28,1132.38 1441.28,1417.71 1574.07,1417.71 1574.07,1132.38 1441.28,1132.38 \n",
       "  \"/>\n",
       "<path clip-path=\"url(#clip032)\" d=\"\n",
       "M1773.25 1330.12 L1773.25 1417.71 L1906.03 1417.71 L1906.03 1330.12 L1773.25 1330.12 L1773.25 1330.12  Z\n",
       "  \" fill=\"#e26f46\" fill-rule=\"evenodd\" fill-opacity=\"1\"/>\n",
       "<polyline clip-path=\"url(#clip032)\" style=\"stroke:#000000; stroke-width:4; stroke-opacity:1; fill:none\" points=\"\n",
       "  1773.25,1330.12 1773.25,1417.71 1906.03,1417.71 1906.03,1330.12 1773.25,1330.12 \n",
       "  \"/>\n",
       "<path clip-path=\"url(#clip032)\" d=\"\n",
       "M2105.21 1336.42 L2105.21 1417.71 L2237.99 1417.71 L2237.99 1336.42 L2105.21 1336.42 L2105.21 1336.42  Z\n",
       "  \" fill=\"#e26f46\" fill-rule=\"evenodd\" fill-opacity=\"1\"/>\n",
       "<polyline clip-path=\"url(#clip032)\" style=\"stroke:#000000; stroke-width:4; stroke-opacity:1; fill:none\" points=\"\n",
       "  2105.21,1336.42 2105.21,1417.71 2237.99,1417.71 2237.99,1336.42 2105.21,1336.42 \n",
       "  \"/>\n",
       "<path clip-path=\"url(#clip030)\" d=\"\n",
       "M1967.74 466.121 L2280.93 466.121 L2280.93 284.681 L1967.74 284.681  Z\n",
       "  \" fill=\"#ffffff\" fill-rule=\"evenodd\" fill-opacity=\"1\"/>\n",
       "<polyline clip-path=\"url(#clip030)\" style=\"stroke:#000000; stroke-width:4; stroke-opacity:1; fill:none\" points=\"\n",
       "  1967.74,466.121 2280.93,466.121 2280.93,284.681 1967.74,284.681 1967.74,466.121 \n",
       "  \"/>\n",
       "<path clip-path=\"url(#clip030)\" d=\"\n",
       "M1991.69 369.353 L2135.35 369.353 L2135.35 320.969 L1991.69 320.969 L1991.69 369.353  Z\n",
       "  \" fill=\"#009af9\" fill-rule=\"evenodd\" fill-opacity=\"1\"/>\n",
       "<polyline clip-path=\"url(#clip030)\" style=\"stroke:#000000; stroke-width:4; stroke-opacity:1; fill:none\" points=\"\n",
       "  1991.69,369.353 2135.35,369.353 2135.35,320.969 1991.69,320.969 1991.69,369.353 \n",
       "  \"/>\n",
       "<path clip-path=\"url(#clip030)\" d=\"M 0 0 M2159.96 358.505 L2167.6 358.505 L2167.6 332.14 L2159.29 333.807 L2159.29 329.547 L2167.55 327.881 L2172.23 327.881 L2172.23 358.505 L2179.87 358.505 L2179.87 362.441 L2159.96 362.441 L2159.96 358.505 Z\" fill=\"#000000\" fill-rule=\"evenodd\" fill-opacity=\"1\" /><path clip-path=\"url(#clip030)\" d=\"M 0 0 M2200.86 337.279 L2200.86 341.307 Q2199.06 340.381 2197.11 339.918 Q2195.17 339.455 2193.09 339.455 Q2189.91 339.455 2188.32 340.427 Q2186.74 341.399 2186.74 343.344 Q2186.74 344.825 2187.88 345.681 Q2189.01 346.515 2192.44 347.279 L2193.9 347.603 Q2198.43 348.575 2200.33 350.357 Q2202.25 352.117 2202.25 355.288 Q2202.25 358.899 2199.38 361.005 Q2196.53 363.112 2191.53 363.112 Q2189.45 363.112 2187.18 362.695 Q2184.94 362.302 2182.44 361.492 L2182.44 357.093 Q2184.8 358.32 2187.09 358.945 Q2189.38 359.547 2191.63 359.547 Q2194.64 359.547 2196.26 358.529 Q2197.88 357.487 2197.88 355.612 Q2197.88 353.876 2196.7 352.95 Q2195.54 352.024 2191.58 351.168 L2190.1 350.82 Q2186.14 349.987 2184.38 348.274 Q2182.62 346.538 2182.62 343.529 Q2182.62 339.871 2185.22 337.881 Q2187.81 335.89 2192.58 335.89 Q2194.94 335.89 2197.02 336.237 Q2199.1 336.584 2200.86 337.279 Z\" fill=\"#000000\" fill-rule=\"evenodd\" fill-opacity=\"1\" /><path clip-path=\"url(#clip030)\" d=\"M 0 0 M2210.93 329.154 L2210.93 336.515 L2219.71 336.515 L2219.71 339.825 L2210.93 339.825 L2210.93 353.899 Q2210.93 357.07 2211.79 357.973 Q2212.67 358.876 2215.33 358.876 L2219.71 358.876 L2219.71 362.441 L2215.33 362.441 Q2210.4 362.441 2208.53 360.612 Q2206.65 358.76 2206.65 353.899 L2206.65 339.825 L2203.53 339.825 L2203.53 336.515 L2206.65 336.515 L2206.65 329.154 L2210.93 329.154 Z\" fill=\"#000000\" fill-rule=\"evenodd\" fill-opacity=\"1\" /><path clip-path=\"url(#clip030)\" d=\"\n",
       "M1991.69 429.833 L2135.35 429.833 L2135.35 381.449 L1991.69 381.449 L1991.69 429.833  Z\n",
       "  \" fill=\"#e26f46\" fill-rule=\"evenodd\" fill-opacity=\"1\"/>\n",
       "<polyline clip-path=\"url(#clip030)\" style=\"stroke:#000000; stroke-width:4; stroke-opacity:1; fill:none\" points=\"\n",
       "  1991.69,429.833 2135.35,429.833 2135.35,381.449 1991.69,381.449 1991.69,429.833 \n",
       "  \"/>\n",
       "<path clip-path=\"url(#clip030)\" d=\"M 0 0 M2164.91 418.985 L2181.23 418.985 L2181.23 422.921 L2159.29 422.921 L2159.29 418.985 Q2161.95 416.231 2166.53 411.601 Q2171.14 406.949 2172.32 405.606 Q2174.57 403.083 2175.45 401.347 Q2176.35 399.587 2176.35 397.898 Q2176.35 395.143 2174.41 393.407 Q2172.48 391.671 2169.38 391.671 Q2167.18 391.671 2164.73 392.435 Q2162.3 393.199 2159.52 394.75 L2159.52 390.027 Q2162.34 388.893 2164.8 388.314 Q2167.25 387.736 2169.29 387.736 Q2174.66 387.736 2177.85 390.421 Q2181.05 393.106 2181.05 397.597 Q2181.05 399.726 2180.24 401.648 Q2179.45 403.546 2177.34 406.138 Q2176.77 406.81 2173.66 410.027 Q2170.56 413.222 2164.91 418.985 Z\" fill=\"#000000\" fill-rule=\"evenodd\" fill-opacity=\"1\" /><path clip-path=\"url(#clip030)\" d=\"M 0 0 M2207.25 407.273 L2207.25 422.921 L2202.99 422.921 L2202.99 407.411 Q2202.99 403.731 2201.56 401.902 Q2200.12 400.074 2197.25 400.074 Q2193.8 400.074 2191.81 402.273 Q2189.82 404.472 2189.82 408.268 L2189.82 422.921 L2185.54 422.921 L2185.54 396.995 L2189.82 396.995 L2189.82 401.023 Q2191.35 398.685 2193.41 397.527 Q2195.49 396.37 2198.2 396.37 Q2202.67 396.37 2204.96 399.148 Q2207.25 401.902 2207.25 407.273 Z\" fill=\"#000000\" fill-rule=\"evenodd\" fill-opacity=\"1\" /><path clip-path=\"url(#clip030)\" d=\"M 0 0 M2228.78 400.93 L2228.78 386.902 L2233.04 386.902 L2233.04 422.921 L2228.78 422.921 L2228.78 419.032 Q2227.44 421.347 2225.38 422.481 Q2223.34 423.592 2220.47 423.592 Q2215.77 423.592 2212.81 419.842 Q2209.87 416.092 2209.87 409.981 Q2209.87 403.87 2212.81 400.12 Q2215.77 396.37 2220.47 396.37 Q2223.34 396.37 2225.38 397.504 Q2227.44 398.615 2228.78 400.93 M2214.27 409.981 Q2214.27 414.68 2216.19 417.365 Q2218.13 420.027 2221.51 420.027 Q2224.89 420.027 2226.84 417.365 Q2228.78 414.68 2228.78 409.981 Q2228.78 405.282 2226.84 402.62 Q2224.89 399.935 2221.51 399.935 Q2218.13 399.935 2216.19 402.62 Q2214.27 405.282 2214.27 409.981 Z\" fill=\"#000000\" fill-rule=\"evenodd\" fill-opacity=\"1\" /></svg>\n"
      ]
     },
     "execution_count": 39,
     "metadata": {},
     "output_type": "execute_result"
    }
   ],
   "source": [
    "groupedbar(\n",
    "    # Exclude JSONTables.jl arraytable due to timing\n",
    "    repeat([\"CSV.jl\", \"Serialization\", \"JDF.jl\", \"JLSO.jl\", \"Arrow.jl\", \"JSONTables.jl\\nobjecttable\"],\n",
    "            inner = 2),\n",
    "    [csvwrite1, csvwrite2, serializewrite1, serializewrite1, jdfwrite1, jdfwrite2,\n",
    "     jlsowrite1, jlsowrite2, arrowwrite1, arrowwrite2, jsontablesowrite2, jsontablesowrite2],\n",
    "    group = repeat([\"1st\", \"2nd\"], outer = 6),\n",
    "    ylab = \"Second\",\n",
    "    title = \"Write Performance\\nDataFrame: bigdf\\nSize: $(size(bigdf))\"\n",
    ")"
   ]
  },
  {
   "cell_type": "code",
   "execution_count": 40,
   "metadata": {},
   "outputs": [
    {
     "data": {
      "text/html": [
       "<table class=\"data-frame\"><thead><tr><th></th><th>file</th><th>size</th></tr><tr><th></th><th>String</th><th>Int64</th></tr></thead><tbody><p>6 rows × 2 columns</p><tr><th>1</th><td>bigdf.arrow</td><td>9832362</td></tr><tr><th>2</th><td>bigdf.jdf</td><td>26010830</td></tr><tr><th>3</th><td>bigdf.bin</td><td>26765489</td></tr><tr><th>4</th><td>bigdf1.csv</td><td>275804508</td></tr><tr><th>5</th><td>bigdf2.json</td><td>275806509</td></tr><tr><th>6</th><td>bigdf1.json</td><td>615202117</td></tr></tbody></table>"
      ],
      "text/latex": [
       "\\begin{tabular}{r|cc}\n",
       "\t& file & size\\\\\n",
       "\t\\hline\n",
       "\t& String & Int64\\\\\n",
       "\t\\hline\n",
       "\t1 & bigdf.arrow & 9832362 \\\\\n",
       "\t2 & bigdf.jdf & 26010830 \\\\\n",
       "\t3 & bigdf.bin & 26765489 \\\\\n",
       "\t4 & bigdf1.csv & 275804508 \\\\\n",
       "\t5 & bigdf2.json & 275806509 \\\\\n",
       "\t6 & bigdf1.json & 615202117 \\\\\n",
       "\\end{tabular}\n"
      ],
      "text/plain": [
       "\u001b[1m6×2 DataFrame\u001b[0m\n",
       "\u001b[1m Row \u001b[0m│\u001b[1m file        \u001b[0m\u001b[1m size      \u001b[0m\n",
       "\u001b[1m     \u001b[0m│\u001b[90m String      \u001b[0m\u001b[90m Int64     \u001b[0m\n",
       "─────┼────────────────────────\n",
       "   1 │ bigdf.arrow    9832362\n",
       "   2 │ bigdf.jdf     26010830\n",
       "   3 │ bigdf.bin     26765489\n",
       "   4 │ bigdf1.csv   275804508\n",
       "   5 │ bigdf2.json  275806509\n",
       "   6 │ bigdf1.json  615202117"
      ]
     },
     "execution_count": 40,
     "metadata": {},
     "output_type": "execute_result"
    }
   ],
   "source": [
    "data_files = [\"bigdf1.csv\", \"bigdf.bin\", \"bigdf.arrow\", \"bigdf1.json\", \"bigdf2.json\"]\n",
    "df = DataFrame(file = data_files, size = getfield.(stat.(data_files), :size))\n",
    "append!(df, DataFrame(file = \"bigdf.jdf\", size=reduce((x,y)->x+y.size,\n",
    "                                                      stat.(joinpath.(\"bigdf.jdf\", readdir(\"bigdf.jdf\"))),\n",
    "                                                      init=0)))\n",
    "sort!(df, :size)"
   ]
  },
  {
   "cell_type": "code",
   "execution_count": 41,
   "metadata": {},
   "outputs": [
    {
     "data": {
      "image/svg+xml": [
       "<?xml version=\"1.0\" encoding=\"utf-8\"?>\n",
       "<svg xmlns=\"http://www.w3.org/2000/svg\" xmlns:xlink=\"http://www.w3.org/1999/xlink\" width=\"600\" height=\"400\" viewBox=\"0 0 2400 1600\">\n",
       "<defs>\n",
       "  <clipPath id=\"clip070\">\n",
       "    <rect x=\"0\" y=\"0\" width=\"2400\" height=\"1600\"/>\n",
       "  </clipPath>\n",
       "</defs>\n",
       "<path clip-path=\"url(#clip070)\" d=\"\n",
       "M0 1600 L2400 1600 L2400 0 L0 0  Z\n",
       "  \" fill=\"#ffffff\" fill-rule=\"evenodd\" fill-opacity=\"1\"/>\n",
       "<defs>\n",
       "  <clipPath id=\"clip071\">\n",
       "    <rect x=\"480\" y=\"0\" width=\"1681\" height=\"1600\"/>\n",
       "  </clipPath>\n",
       "</defs>\n",
       "<path clip-path=\"url(#clip070)\" d=\"\n",
       "M229.473 1486.45 L2352.76 1486.45 L2352.76 123.472 L229.473 123.472  Z\n",
       "  \" fill=\"#ffffff\" fill-rule=\"evenodd\" fill-opacity=\"1\"/>\n",
       "<defs>\n",
       "  <clipPath id=\"clip072\">\n",
       "    <rect x=\"229\" y=\"123\" width=\"2124\" height=\"1364\"/>\n",
       "  </clipPath>\n",
       "</defs>\n",
       "<polyline clip-path=\"url(#clip072)\" style=\"stroke:#000000; stroke-width:2; stroke-opacity:0.1; fill:none\" points=\"\n",
       "  476.582,1486.45 476.582,123.472 \n",
       "  \"/>\n",
       "<polyline clip-path=\"url(#clip072)\" style=\"stroke:#000000; stroke-width:2; stroke-opacity:0.1; fill:none\" points=\"\n",
       "  802.395,1486.45 802.395,123.472 \n",
       "  \"/>\n",
       "<polyline clip-path=\"url(#clip072)\" style=\"stroke:#000000; stroke-width:2; stroke-opacity:0.1; fill:none\" points=\"\n",
       "  1128.21,1486.45 1128.21,123.472 \n",
       "  \"/>\n",
       "<polyline clip-path=\"url(#clip072)\" style=\"stroke:#000000; stroke-width:2; stroke-opacity:0.1; fill:none\" points=\"\n",
       "  1454.02,1486.45 1454.02,123.472 \n",
       "  \"/>\n",
       "<polyline clip-path=\"url(#clip072)\" style=\"stroke:#000000; stroke-width:2; stroke-opacity:0.1; fill:none\" points=\"\n",
       "  1779.83,1486.45 1779.83,123.472 \n",
       "  \"/>\n",
       "<polyline clip-path=\"url(#clip072)\" style=\"stroke:#000000; stroke-width:2; stroke-opacity:0.1; fill:none\" points=\"\n",
       "  2105.65,1486.45 2105.65,123.472 \n",
       "  \"/>\n",
       "<polyline clip-path=\"url(#clip070)\" style=\"stroke:#000000; stroke-width:4; stroke-opacity:1; fill:none\" points=\"\n",
       "  229.473,1486.45 2352.76,1486.45 \n",
       "  \"/>\n",
       "<polyline clip-path=\"url(#clip070)\" style=\"stroke:#000000; stroke-width:4; stroke-opacity:1; fill:none\" points=\"\n",
       "  476.582,1486.45 476.582,1470.09 \n",
       "  \"/>\n",
       "<polyline clip-path=\"url(#clip070)\" style=\"stroke:#000000; stroke-width:4; stroke-opacity:1; fill:none\" points=\"\n",
       "  802.395,1486.45 802.395,1470.09 \n",
       "  \"/>\n",
       "<polyline clip-path=\"url(#clip070)\" style=\"stroke:#000000; stroke-width:4; stroke-opacity:1; fill:none\" points=\"\n",
       "  1128.21,1486.45 1128.21,1470.09 \n",
       "  \"/>\n",
       "<polyline clip-path=\"url(#clip070)\" style=\"stroke:#000000; stroke-width:4; stroke-opacity:1; fill:none\" points=\"\n",
       "  1454.02,1486.45 1454.02,1470.09 \n",
       "  \"/>\n",
       "<polyline clip-path=\"url(#clip070)\" style=\"stroke:#000000; stroke-width:4; stroke-opacity:1; fill:none\" points=\"\n",
       "  1779.83,1486.45 1779.83,1470.09 \n",
       "  \"/>\n",
       "<polyline clip-path=\"url(#clip070)\" style=\"stroke:#000000; stroke-width:4; stroke-opacity:1; fill:none\" points=\"\n",
       "  2105.65,1486.45 2105.65,1470.09 \n",
       "  \"/>\n",
       "<path clip-path=\"url(#clip070)\" d=\"M 0 0 M379.036 1534.18 Q379.036 1529.48 377.092 1526.82 Q375.171 1524.13 371.791 1524.13 Q368.411 1524.13 366.467 1526.82 Q364.546 1529.48 364.546 1534.18 Q364.546 1538.88 366.467 1541.56 Q368.411 1544.23 371.791 1544.23 Q375.171 1544.23 377.092 1541.56 Q379.036 1538.88 379.036 1534.18 M364.546 1525.13 Q365.888 1522.81 367.925 1521.7 Q369.986 1520.57 372.833 1520.57 Q377.555 1520.57 380.495 1524.32 Q383.458 1528.07 383.458 1534.18 Q383.458 1540.29 380.495 1544.04 Q377.555 1547.79 372.833 1547.79 Q369.986 1547.79 367.925 1546.68 Q365.888 1545.55 364.546 1543.23 L364.546 1547.12 L360.263 1547.12 L360.263 1511.1 L364.546 1511.1 L364.546 1525.13 Z\" fill=\"#000000\" fill-rule=\"evenodd\" fill-opacity=\"1\" /><path clip-path=\"url(#clip070)\" d=\"M 0 0 M387.925 1521.19 L392.184 1521.19 L392.184 1547.12 L387.925 1547.12 L387.925 1521.19 M387.925 1511.1 L392.184 1511.1 L392.184 1516.5 L387.925 1516.5 L387.925 1511.1 Z\" fill=\"#000000\" fill-rule=\"evenodd\" fill-opacity=\"1\" /><path clip-path=\"url(#clip070)\" d=\"M 0 0 M413.712 1533.86 Q413.712 1529.23 411.791 1526.68 Q409.893 1524.13 406.444 1524.13 Q403.018 1524.13 401.096 1526.68 Q399.198 1529.23 399.198 1533.86 Q399.198 1538.46 401.096 1541.01 Q403.018 1543.56 406.444 1543.56 Q409.893 1543.56 411.791 1541.01 Q413.712 1538.46 413.712 1533.86 M417.971 1543.9 Q417.971 1550.52 415.032 1553.74 Q412.092 1556.98 406.027 1556.98 Q403.782 1556.98 401.791 1556.63 Q399.8 1556.31 397.925 1555.62 L397.925 1551.47 Q399.8 1552.49 401.629 1552.98 Q403.458 1553.46 405.356 1553.46 Q409.546 1553.46 411.629 1551.26 Q413.712 1549.09 413.712 1544.67 L413.712 1542.56 Q412.393 1544.85 410.333 1545.99 Q408.272 1547.12 405.402 1547.12 Q400.634 1547.12 397.717 1543.49 Q394.8 1539.85 394.8 1533.86 Q394.8 1527.84 397.717 1524.2 Q400.634 1520.57 405.402 1520.57 Q408.272 1520.57 410.333 1521.7 Q412.393 1522.84 413.712 1525.13 L413.712 1521.19 L417.971 1521.19 L417.971 1543.9 Z\" fill=\"#000000\" fill-rule=\"evenodd\" fill-opacity=\"1\" /><path clip-path=\"url(#clip070)\" d=\"M 0 0 M439.499 1525.13 L439.499 1511.1 L443.758 1511.1 L443.758 1547.12 L439.499 1547.12 L439.499 1543.23 Q438.156 1545.55 436.096 1546.68 Q434.059 1547.79 431.189 1547.79 Q426.49 1547.79 423.527 1544.04 Q420.587 1540.29 420.587 1534.18 Q420.587 1528.07 423.527 1524.32 Q426.49 1520.57 431.189 1520.57 Q434.059 1520.57 436.096 1521.7 Q438.156 1522.81 439.499 1525.13 M424.985 1534.18 Q424.985 1538.88 426.907 1541.56 Q428.851 1544.23 432.231 1544.23 Q435.61 1544.23 437.555 1541.56 Q439.499 1538.88 439.499 1534.18 Q439.499 1529.48 437.555 1526.82 Q435.61 1524.13 432.231 1524.13 Q428.851 1524.13 426.907 1526.82 Q424.985 1529.48 424.985 1534.18 Z\" fill=\"#000000\" fill-rule=\"evenodd\" fill-opacity=\"1\" /><path clip-path=\"url(#clip070)\" d=\"M 0 0 M461.351 1511.1 L461.351 1514.64 L457.277 1514.64 Q454.985 1514.64 454.082 1515.57 Q453.203 1516.5 453.203 1518.9 L453.203 1521.19 L460.217 1521.19 L460.217 1524.5 L453.203 1524.5 L453.203 1547.12 L448.92 1547.12 L448.92 1524.5 L444.846 1524.5 L444.846 1521.19 L448.92 1521.19 L448.92 1519.39 Q448.92 1515.06 450.934 1513.09 Q452.948 1511.1 457.323 1511.1 L461.351 1511.1 Z\" fill=\"#000000\" fill-rule=\"evenodd\" fill-opacity=\"1\" /><path clip-path=\"url(#clip070)\" d=\"M 0 0 M462.971 1541.24 L467.855 1541.24 L467.855 1547.12 L462.971 1547.12 L462.971 1541.24 Z\" fill=\"#000000\" fill-rule=\"evenodd\" fill-opacity=\"1\" /><path clip-path=\"url(#clip070)\" d=\"M 0 0 M484.105 1534.09 Q478.943 1534.09 476.953 1535.27 Q474.962 1536.45 474.962 1539.3 Q474.962 1541.56 476.443 1542.91 Q477.948 1544.23 480.517 1544.23 Q484.059 1544.23 486.189 1541.73 Q488.341 1539.2 488.341 1535.04 L488.341 1534.09 L484.105 1534.09 M492.601 1532.33 L492.601 1547.12 L488.341 1547.12 L488.341 1543.18 Q486.883 1545.55 484.707 1546.68 Q482.531 1547.79 479.383 1547.79 Q475.402 1547.79 473.041 1545.57 Q470.703 1543.32 470.703 1539.57 Q470.703 1535.2 473.619 1532.98 Q476.559 1530.75 482.369 1530.75 L488.341 1530.75 L488.341 1530.34 Q488.341 1527.4 486.397 1525.8 Q484.476 1524.18 480.98 1524.18 Q478.758 1524.18 476.652 1524.71 Q474.545 1525.24 472.601 1526.31 L472.601 1522.37 Q474.939 1521.47 477.138 1521.03 Q479.337 1520.57 481.42 1520.57 Q487.045 1520.57 489.823 1523.49 Q492.601 1526.4 492.601 1532.33 Z\" fill=\"#000000\" fill-rule=\"evenodd\" fill-opacity=\"1\" /><path clip-path=\"url(#clip070)\" d=\"M 0 0 M512.091 1525.18 Q511.374 1524.76 510.517 1524.57 Q509.684 1524.37 508.665 1524.37 Q505.054 1524.37 503.11 1526.73 Q501.189 1529.06 501.189 1533.46 L501.189 1547.12 L496.906 1547.12 L496.906 1521.19 L501.189 1521.19 L501.189 1525.22 Q502.531 1522.86 504.684 1521.73 Q506.837 1520.57 509.915 1520.57 Q510.355 1520.57 510.888 1520.64 Q511.42 1520.68 512.068 1520.8 L512.091 1525.18 Z\" fill=\"#000000\" fill-rule=\"evenodd\" fill-opacity=\"1\" /><path clip-path=\"url(#clip070)\" d=\"M 0 0 M530.749 1525.18 Q530.031 1524.76 529.175 1524.57 Q528.341 1524.37 527.323 1524.37 Q523.712 1524.37 521.767 1526.73 Q519.846 1529.06 519.846 1533.46 L519.846 1547.12 L515.563 1547.12 L515.563 1521.19 L519.846 1521.19 L519.846 1525.22 Q521.188 1522.86 523.341 1521.73 Q525.494 1520.57 528.573 1520.57 Q529.012 1520.57 529.545 1520.64 Q530.077 1520.68 530.725 1520.8 L530.749 1525.18 Z\" fill=\"#000000\" fill-rule=\"evenodd\" fill-opacity=\"1\" /><path clip-path=\"url(#clip070)\" d=\"M 0 0 M544.221 1524.18 Q540.795 1524.18 538.804 1526.87 Q536.813 1529.53 536.813 1534.18 Q536.813 1538.83 538.781 1541.52 Q540.772 1544.18 544.221 1544.18 Q547.623 1544.18 549.614 1541.49 Q551.605 1538.81 551.605 1534.18 Q551.605 1529.57 549.614 1526.89 Q547.623 1524.18 544.221 1524.18 M544.221 1520.57 Q549.776 1520.57 552.948 1524.18 Q556.119 1527.79 556.119 1534.18 Q556.119 1540.55 552.948 1544.18 Q549.776 1547.79 544.221 1547.79 Q538.642 1547.79 535.471 1544.18 Q532.323 1540.55 532.323 1534.18 Q532.323 1527.79 535.471 1524.18 Q538.642 1520.57 544.221 1520.57 Z\" fill=\"#000000\" fill-rule=\"evenodd\" fill-opacity=\"1\" /><path clip-path=\"url(#clip070)\" d=\"M 0 0 M558.11 1521.19 L562.369 1521.19 L567.693 1541.43 L572.994 1521.19 L578.017 1521.19 L583.341 1541.43 L588.642 1521.19 L592.901 1521.19 L586.119 1547.12 L581.096 1547.12 L575.517 1525.87 L569.915 1547.12 L564.892 1547.12 L558.11 1521.19 Z\" fill=\"#000000\" fill-rule=\"evenodd\" fill-opacity=\"1\" /><path clip-path=\"url(#clip070)\" d=\"M 0 0 M741.319 1534.18 Q741.319 1529.48 739.375 1526.82 Q737.453 1524.13 734.074 1524.13 Q730.694 1524.13 728.75 1526.82 Q726.828 1529.48 726.828 1534.18 Q726.828 1538.88 728.75 1541.56 Q730.694 1544.23 734.074 1544.23 Q737.453 1544.23 739.375 1541.56 Q741.319 1538.88 741.319 1534.18 M726.828 1525.13 Q728.171 1522.81 730.208 1521.7 Q732.268 1520.57 735.115 1520.57 Q739.837 1520.57 742.777 1524.32 Q745.74 1528.07 745.74 1534.18 Q745.74 1540.29 742.777 1544.04 Q739.837 1547.79 735.115 1547.79 Q732.268 1547.79 730.208 1546.68 Q728.171 1545.55 726.828 1543.23 L726.828 1547.12 L722.546 1547.12 L722.546 1511.1 L726.828 1511.1 L726.828 1525.13 Z\" fill=\"#000000\" fill-rule=\"evenodd\" fill-opacity=\"1\" /><path clip-path=\"url(#clip070)\" d=\"M 0 0 M750.208 1521.19 L754.467 1521.19 L754.467 1547.12 L750.208 1547.12 L750.208 1521.19 M750.208 1511.1 L754.467 1511.1 L754.467 1516.5 L750.208 1516.5 L750.208 1511.1 Z\" fill=\"#000000\" fill-rule=\"evenodd\" fill-opacity=\"1\" /><path clip-path=\"url(#clip070)\" d=\"M 0 0 M775.995 1533.86 Q775.995 1529.23 774.073 1526.68 Q772.175 1524.13 768.726 1524.13 Q765.3 1524.13 763.379 1526.68 Q761.481 1529.23 761.481 1533.86 Q761.481 1538.46 763.379 1541.01 Q765.3 1543.56 768.726 1543.56 Q772.175 1543.56 774.073 1541.01 Q775.995 1538.46 775.995 1533.86 M780.254 1543.9 Q780.254 1550.52 777.314 1553.74 Q774.374 1556.98 768.31 1556.98 Q766.064 1556.98 764.073 1556.63 Q762.083 1556.31 760.208 1555.62 L760.208 1551.47 Q762.083 1552.49 763.911 1552.98 Q765.74 1553.46 767.638 1553.46 Q771.828 1553.46 773.911 1551.26 Q775.995 1549.09 775.995 1544.67 L775.995 1542.56 Q774.675 1544.85 772.615 1545.99 Q770.555 1547.12 767.685 1547.12 Q762.916 1547.12 759.999 1543.49 Q757.083 1539.85 757.083 1533.86 Q757.083 1527.84 759.999 1524.2 Q762.916 1520.57 767.685 1520.57 Q770.555 1520.57 772.615 1521.7 Q774.675 1522.84 775.995 1525.13 L775.995 1521.19 L780.254 1521.19 L780.254 1543.9 Z\" fill=\"#000000\" fill-rule=\"evenodd\" fill-opacity=\"1\" /><path clip-path=\"url(#clip070)\" d=\"M 0 0 M801.782 1525.13 L801.782 1511.1 L806.041 1511.1 L806.041 1547.12 L801.782 1547.12 L801.782 1543.23 Q800.439 1545.55 798.379 1546.68 Q796.342 1547.79 793.471 1547.79 Q788.772 1547.79 785.809 1544.04 Q782.87 1540.29 782.87 1534.18 Q782.87 1528.07 785.809 1524.32 Q788.772 1520.57 793.471 1520.57 Q796.342 1520.57 798.379 1521.7 Q800.439 1522.81 801.782 1525.13 M787.268 1534.18 Q787.268 1538.88 789.189 1541.56 Q791.134 1544.23 794.513 1544.23 Q797.893 1544.23 799.837 1541.56 Q801.782 1538.88 801.782 1534.18 Q801.782 1529.48 799.837 1526.82 Q797.893 1524.13 794.513 1524.13 Q791.134 1524.13 789.189 1526.82 Q787.268 1529.48 787.268 1534.18 Z\" fill=\"#000000\" fill-rule=\"evenodd\" fill-opacity=\"1\" /><path clip-path=\"url(#clip070)\" d=\"M 0 0 M823.633 1511.1 L823.633 1514.64 L819.559 1514.64 Q817.268 1514.64 816.365 1515.57 Q815.485 1516.5 815.485 1518.9 L815.485 1521.19 L822.499 1521.19 L822.499 1524.5 L815.485 1524.5 L815.485 1547.12 L811.203 1547.12 L811.203 1524.5 L807.129 1524.5 L807.129 1521.19 L811.203 1521.19 L811.203 1519.39 Q811.203 1515.06 813.217 1513.09 Q815.231 1511.1 819.606 1511.1 L823.633 1511.1 Z\" fill=\"#000000\" fill-rule=\"evenodd\" fill-opacity=\"1\" /><path clip-path=\"url(#clip070)\" d=\"M 0 0 M825.254 1541.24 L830.138 1541.24 L830.138 1547.12 L825.254 1547.12 L825.254 1541.24 Z\" fill=\"#000000\" fill-rule=\"evenodd\" fill-opacity=\"1\" /><path clip-path=\"url(#clip070)\" d=\"M 0 0 M834.606 1521.19 L838.865 1521.19 L838.865 1547.58 Q838.865 1552.54 836.967 1554.76 Q835.092 1556.98 830.902 1556.98 L829.281 1556.98 L829.281 1553.37 L830.416 1553.37 Q832.846 1553.37 833.726 1552.24 Q834.606 1551.12 834.606 1547.58 L834.606 1521.19 M834.606 1511.1 L838.865 1511.1 L838.865 1516.5 L834.606 1516.5 L834.606 1511.1 Z\" fill=\"#000000\" fill-rule=\"evenodd\" fill-opacity=\"1\" /><path clip-path=\"url(#clip070)\" d=\"M 0 0 M860.392 1525.13 L860.392 1511.1 L864.652 1511.1 L864.652 1547.12 L860.392 1547.12 L860.392 1543.23 Q859.05 1545.55 856.99 1546.68 Q854.953 1547.79 852.082 1547.79 Q847.383 1547.79 844.42 1544.04 Q841.48 1540.29 841.48 1534.18 Q841.48 1528.07 844.42 1524.32 Q847.383 1520.57 852.082 1520.57 Q854.953 1520.57 856.99 1521.7 Q859.05 1522.81 860.392 1525.13 M845.879 1534.18 Q845.879 1538.88 847.8 1541.56 Q849.744 1544.23 853.124 1544.23 Q856.504 1544.23 858.448 1541.56 Q860.392 1538.88 860.392 1534.18 Q860.392 1529.48 858.448 1526.82 Q856.504 1524.13 853.124 1524.13 Q849.744 1524.13 847.8 1526.82 Q845.879 1529.48 845.879 1534.18 Z\" fill=\"#000000\" fill-rule=\"evenodd\" fill-opacity=\"1\" /><path clip-path=\"url(#clip070)\" d=\"M 0 0 M882.244 1511.1 L882.244 1514.64 L878.17 1514.64 Q875.878 1514.64 874.976 1515.57 Q874.096 1516.5 874.096 1518.9 L874.096 1521.19 L881.11 1521.19 L881.11 1524.5 L874.096 1524.5 L874.096 1547.12 L869.814 1547.12 L869.814 1524.5 L865.74 1524.5 L865.74 1521.19 L869.814 1521.19 L869.814 1519.39 Q869.814 1515.06 871.828 1513.09 Q873.841 1511.1 878.216 1511.1 L882.244 1511.1 Z\" fill=\"#000000\" fill-rule=\"evenodd\" fill-opacity=\"1\" /><path clip-path=\"url(#clip070)\" d=\"M 0 0 M1062.06 1534.18 Q1062.06 1529.48 1060.12 1526.82 Q1058.2 1524.13 1054.82 1524.13 Q1051.44 1524.13 1049.49 1526.82 Q1047.57 1529.48 1047.57 1534.18 Q1047.57 1538.88 1049.49 1541.56 Q1051.44 1544.23 1054.82 1544.23 Q1058.2 1544.23 1060.12 1541.56 Q1062.06 1538.88 1062.06 1534.18 M1047.57 1525.13 Q1048.91 1522.81 1050.95 1521.7 Q1053.01 1520.57 1055.86 1520.57 Q1060.58 1520.57 1063.52 1524.32 Q1066.48 1528.07 1066.48 1534.18 Q1066.48 1540.29 1063.52 1544.04 Q1060.58 1547.79 1055.86 1547.79 Q1053.01 1547.79 1050.95 1546.68 Q1048.91 1545.55 1047.57 1543.23 L1047.57 1547.12 L1043.29 1547.12 L1043.29 1511.1 L1047.57 1511.1 L1047.57 1525.13 Z\" fill=\"#000000\" fill-rule=\"evenodd\" fill-opacity=\"1\" /><path clip-path=\"url(#clip070)\" d=\"M 0 0 M1070.95 1521.19 L1075.21 1521.19 L1075.21 1547.12 L1070.95 1547.12 L1070.95 1521.19 M1070.95 1511.1 L1075.21 1511.1 L1075.21 1516.5 L1070.95 1516.5 L1070.95 1511.1 Z\" fill=\"#000000\" fill-rule=\"evenodd\" fill-opacity=\"1\" /><path clip-path=\"url(#clip070)\" d=\"M 0 0 M1096.74 1533.86 Q1096.74 1529.23 1094.82 1526.68 Q1092.92 1524.13 1089.47 1524.13 Q1086.04 1524.13 1084.12 1526.68 Q1082.22 1529.23 1082.22 1533.86 Q1082.22 1538.46 1084.12 1541.01 Q1086.04 1543.56 1089.47 1543.56 Q1092.92 1543.56 1094.82 1541.01 Q1096.74 1538.46 1096.74 1533.86 M1101 1543.9 Q1101 1550.52 1098.06 1553.74 Q1095.12 1556.98 1089.05 1556.98 Q1086.81 1556.98 1084.82 1556.63 Q1082.83 1556.31 1080.95 1555.62 L1080.95 1551.47 Q1082.83 1552.49 1084.65 1552.98 Q1086.48 1553.46 1088.38 1553.46 Q1092.57 1553.46 1094.65 1551.26 Q1096.74 1549.09 1096.74 1544.67 L1096.74 1542.56 Q1095.42 1544.85 1093.36 1545.99 Q1091.3 1547.12 1088.43 1547.12 Q1083.66 1547.12 1080.74 1543.49 Q1077.83 1539.85 1077.83 1533.86 Q1077.83 1527.84 1080.74 1524.2 Q1083.66 1520.57 1088.43 1520.57 Q1091.3 1520.57 1093.36 1521.7 Q1095.42 1522.84 1096.74 1525.13 L1096.74 1521.19 L1101 1521.19 L1101 1543.9 Z\" fill=\"#000000\" fill-rule=\"evenodd\" fill-opacity=\"1\" /><path clip-path=\"url(#clip070)\" d=\"M 0 0 M1122.53 1525.13 L1122.53 1511.1 L1126.78 1511.1 L1126.78 1547.12 L1122.53 1547.12 L1122.53 1543.23 Q1121.18 1545.55 1119.12 1546.68 Q1117.09 1547.79 1114.21 1547.79 Q1109.52 1547.79 1106.55 1544.04 Q1103.61 1540.29 1103.61 1534.18 Q1103.61 1528.07 1106.55 1524.32 Q1109.52 1520.57 1114.21 1520.57 Q1117.09 1520.57 1119.12 1521.7 Q1121.18 1522.81 1122.53 1525.13 M1108.01 1534.18 Q1108.01 1538.88 1109.93 1541.56 Q1111.88 1544.23 1115.26 1544.23 Q1118.64 1544.23 1120.58 1541.56 Q1122.53 1538.88 1122.53 1534.18 Q1122.53 1529.48 1120.58 1526.82 Q1118.64 1524.13 1115.26 1524.13 Q1111.88 1524.13 1109.93 1526.82 Q1108.01 1529.48 1108.01 1534.18 Z\" fill=\"#000000\" fill-rule=\"evenodd\" fill-opacity=\"1\" /><path clip-path=\"url(#clip070)\" d=\"M 0 0 M1144.38 1511.1 L1144.38 1514.64 L1140.3 1514.64 Q1138.01 1514.64 1137.11 1515.57 Q1136.23 1516.5 1136.23 1518.9 L1136.23 1521.19 L1143.24 1521.19 L1143.24 1524.5 L1136.23 1524.5 L1136.23 1547.12 L1131.95 1547.12 L1131.95 1524.5 L1127.87 1524.5 L1127.87 1521.19 L1131.95 1521.19 L1131.95 1519.39 Q1131.95 1515.06 1133.96 1513.09 Q1135.97 1511.1 1140.35 1511.1 L1144.38 1511.1 Z\" fill=\"#000000\" fill-rule=\"evenodd\" fill-opacity=\"1\" /><path clip-path=\"url(#clip070)\" d=\"M 0 0 M1146 1541.24 L1150.88 1541.24 L1150.88 1547.12 L1146 1547.12 L1146 1541.24 Z\" fill=\"#000000\" fill-rule=\"evenodd\" fill-opacity=\"1\" /><path clip-path=\"url(#clip070)\" d=\"M 0 0 M1173.96 1534.18 Q1173.96 1529.48 1172.02 1526.82 Q1170.09 1524.13 1166.71 1524.13 Q1163.34 1524.13 1161.39 1526.82 Q1159.47 1529.48 1159.47 1534.18 Q1159.47 1538.88 1161.39 1541.56 Q1163.34 1544.23 1166.71 1544.23 Q1170.09 1544.23 1172.02 1541.56 Q1173.96 1538.88 1173.96 1534.18 M1159.47 1525.13 Q1160.81 1522.81 1162.85 1521.7 Q1164.91 1520.57 1167.76 1520.57 Q1172.48 1520.57 1175.42 1524.32 Q1178.38 1528.07 1178.38 1534.18 Q1178.38 1540.29 1175.42 1544.04 Q1172.48 1547.79 1167.76 1547.79 Q1164.91 1547.79 1162.85 1546.68 Q1160.81 1545.55 1159.47 1543.23 L1159.47 1547.12 L1155.19 1547.12 L1155.19 1511.1 L1159.47 1511.1 L1159.47 1525.13 Z\" fill=\"#000000\" fill-rule=\"evenodd\" fill-opacity=\"1\" /><path clip-path=\"url(#clip070)\" d=\"M 0 0 M1182.85 1521.19 L1187.11 1521.19 L1187.11 1547.12 L1182.85 1547.12 L1182.85 1521.19 M1182.85 1511.1 L1187.11 1511.1 L1187.11 1516.5 L1182.85 1516.5 L1182.85 1511.1 Z\" fill=\"#000000\" fill-rule=\"evenodd\" fill-opacity=\"1\" /><path clip-path=\"url(#clip070)\" d=\"M 0 0 M1213.13 1531.47 L1213.13 1547.12 L1208.87 1547.12 L1208.87 1531.61 Q1208.87 1527.93 1207.43 1526.1 Q1206 1524.27 1203.13 1524.27 Q1199.68 1524.27 1197.69 1526.47 Q1195.7 1528.67 1195.7 1532.47 L1195.7 1547.12 L1191.41 1547.12 L1191.41 1521.19 L1195.7 1521.19 L1195.7 1525.22 Q1197.22 1522.88 1199.28 1521.73 Q1201.37 1520.57 1204.08 1520.57 Q1208.54 1520.57 1210.83 1523.35 Q1213.13 1526.1 1213.13 1531.47 Z\" fill=\"#000000\" fill-rule=\"evenodd\" fill-opacity=\"1\" /><path clip-path=\"url(#clip070)\" d=\"M 0 0 M1368.3 1534.18 Q1368.3 1529.48 1366.36 1526.82 Q1364.44 1524.13 1361.06 1524.13 Q1357.68 1524.13 1355.73 1526.82 Q1353.81 1529.48 1353.81 1534.18 Q1353.81 1538.88 1355.73 1541.56 Q1357.68 1544.23 1361.06 1544.23 Q1364.44 1544.23 1366.36 1541.56 Q1368.3 1538.88 1368.3 1534.18 M1353.81 1525.13 Q1355.16 1522.81 1357.19 1521.7 Q1359.25 1520.57 1362.1 1520.57 Q1366.82 1520.57 1369.76 1524.32 Q1372.72 1528.07 1372.72 1534.18 Q1372.72 1540.29 1369.76 1544.04 Q1366.82 1547.79 1362.1 1547.79 Q1359.25 1547.79 1357.19 1546.68 Q1355.16 1545.55 1353.81 1543.23 L1353.81 1547.12 L1349.53 1547.12 L1349.53 1511.1 L1353.81 1511.1 L1353.81 1525.13 Z\" fill=\"#000000\" fill-rule=\"evenodd\" fill-opacity=\"1\" /><path clip-path=\"url(#clip070)\" d=\"M 0 0 M1377.19 1521.19 L1381.45 1521.19 L1381.45 1547.12 L1377.19 1547.12 L1377.19 1521.19 M1377.19 1511.1 L1381.45 1511.1 L1381.45 1516.5 L1377.19 1516.5 L1377.19 1511.1 Z\" fill=\"#000000\" fill-rule=\"evenodd\" fill-opacity=\"1\" /><path clip-path=\"url(#clip070)\" d=\"M 0 0 M1402.98 1533.86 Q1402.98 1529.23 1401.06 1526.68 Q1399.16 1524.13 1395.71 1524.13 Q1392.28 1524.13 1390.36 1526.68 Q1388.47 1529.23 1388.47 1533.86 Q1388.47 1538.46 1390.36 1541.01 Q1392.28 1543.56 1395.71 1543.56 Q1399.16 1543.56 1401.06 1541.01 Q1402.98 1538.46 1402.98 1533.86 M1407.24 1543.9 Q1407.24 1550.52 1404.3 1553.74 Q1401.36 1556.98 1395.29 1556.98 Q1393.05 1556.98 1391.06 1556.63 Q1389.07 1556.31 1387.19 1555.62 L1387.19 1551.47 Q1389.07 1552.49 1390.9 1552.98 Q1392.72 1553.46 1394.62 1553.46 Q1398.81 1553.46 1400.9 1551.26 Q1402.98 1549.09 1402.98 1544.67 L1402.98 1542.56 Q1401.66 1544.85 1399.6 1545.99 Q1397.54 1547.12 1394.67 1547.12 Q1389.9 1547.12 1386.98 1543.49 Q1384.07 1539.85 1384.07 1533.86 Q1384.07 1527.84 1386.98 1524.2 Q1389.9 1520.57 1394.67 1520.57 Q1397.54 1520.57 1399.6 1521.7 Q1401.66 1522.84 1402.98 1525.13 L1402.98 1521.19 L1407.24 1521.19 L1407.24 1543.9 Z\" fill=\"#000000\" fill-rule=\"evenodd\" fill-opacity=\"1\" /><path clip-path=\"url(#clip070)\" d=\"M 0 0 M1428.77 1525.13 L1428.77 1511.1 L1433.03 1511.1 L1433.03 1547.12 L1428.77 1547.12 L1428.77 1543.23 Q1427.42 1545.55 1425.36 1546.68 Q1423.33 1547.79 1420.46 1547.79 Q1415.76 1547.79 1412.79 1544.04 Q1409.85 1540.29 1409.85 1534.18 Q1409.85 1528.07 1412.79 1524.32 Q1415.76 1520.57 1420.46 1520.57 Q1423.33 1520.57 1425.36 1521.7 Q1427.42 1522.81 1428.77 1525.13 M1414.25 1534.18 Q1414.25 1538.88 1416.17 1541.56 Q1418.12 1544.23 1421.5 1544.23 Q1424.88 1544.23 1426.82 1541.56 Q1428.77 1538.88 1428.77 1534.18 Q1428.77 1529.48 1426.82 1526.82 Q1424.88 1524.13 1421.5 1524.13 Q1418.12 1524.13 1416.17 1526.82 Q1414.25 1529.48 1414.25 1534.18 Z\" fill=\"#000000\" fill-rule=\"evenodd\" fill-opacity=\"1\" /><path clip-path=\"url(#clip070)\" d=\"M 0 0 M1450.62 1511.1 L1450.62 1514.64 L1446.54 1514.64 Q1444.25 1514.64 1443.35 1515.57 Q1442.47 1516.5 1442.47 1518.9 L1442.47 1521.19 L1449.48 1521.19 L1449.48 1524.5 L1442.47 1524.5 L1442.47 1547.12 L1438.19 1547.12 L1438.19 1524.5 L1434.11 1524.5 L1434.11 1521.19 L1438.19 1521.19 L1438.19 1519.39 Q1438.19 1515.06 1440.2 1513.09 Q1442.22 1511.1 1446.59 1511.1 L1450.62 1511.1 Z\" fill=\"#000000\" fill-rule=\"evenodd\" fill-opacity=\"1\" /><path clip-path=\"url(#clip070)\" d=\"M 0 0 M1456.5 1543.18 L1464.14 1543.18 L1464.14 1516.82 L1455.83 1518.49 L1455.83 1514.23 L1464.09 1512.56 L1468.77 1512.56 L1468.77 1543.18 L1476.4 1543.18 L1476.4 1547.12 L1456.5 1547.12 L1456.5 1543.18 Z\" fill=\"#000000\" fill-rule=\"evenodd\" fill-opacity=\"1\" /><path clip-path=\"url(#clip070)\" d=\"M 0 0 M1481.47 1541.24 L1486.36 1541.24 L1486.36 1547.12 L1481.47 1547.12 L1481.47 1541.24 Z\" fill=\"#000000\" fill-rule=\"evenodd\" fill-opacity=\"1\" /><path clip-path=\"url(#clip070)\" d=\"M 0 0 M1509.48 1522.19 L1509.48 1526.17 Q1507.68 1525.18 1505.85 1524.69 Q1504.04 1524.18 1502.19 1524.18 Q1498.05 1524.18 1495.76 1526.82 Q1493.46 1529.43 1493.46 1534.18 Q1493.46 1538.93 1495.76 1541.56 Q1498.05 1544.18 1502.19 1544.18 Q1504.04 1544.18 1505.85 1543.69 Q1507.68 1543.18 1509.48 1542.19 L1509.48 1546.12 Q1507.7 1546.96 1505.78 1547.37 Q1503.88 1547.79 1501.73 1547.79 Q1495.87 1547.79 1492.42 1544.11 Q1488.97 1540.43 1488.97 1534.18 Q1488.97 1527.84 1492.45 1524.2 Q1495.94 1520.57 1502.01 1520.57 Q1503.97 1520.57 1505.85 1520.99 Q1507.72 1521.38 1509.48 1522.19 Z\" fill=\"#000000\" fill-rule=\"evenodd\" fill-opacity=\"1\" /><path clip-path=\"url(#clip070)\" d=\"M 0 0 M1530.48 1521.96 L1530.48 1525.99 Q1528.67 1525.06 1526.73 1524.6 Q1524.78 1524.13 1522.7 1524.13 Q1519.53 1524.13 1517.93 1525.11 Q1516.36 1526.08 1516.36 1528.02 Q1516.36 1529.5 1517.49 1530.36 Q1518.63 1531.19 1522.05 1531.96 L1523.51 1532.28 Q1528.05 1533.25 1529.95 1535.04 Q1531.87 1536.8 1531.87 1539.97 Q1531.87 1543.58 1529 1545.68 Q1526.15 1547.79 1521.15 1547.79 Q1519.07 1547.79 1516.8 1547.37 Q1514.55 1546.98 1512.05 1546.17 L1512.05 1541.77 Q1514.41 1543 1516.71 1543.62 Q1519 1544.23 1521.24 1544.23 Q1524.25 1544.23 1525.87 1543.21 Q1527.49 1542.17 1527.49 1540.29 Q1527.49 1538.56 1526.31 1537.63 Q1525.15 1536.7 1521.2 1535.85 L1519.71 1535.5 Q1515.76 1534.67 1514 1532.95 Q1512.24 1531.22 1512.24 1528.21 Q1512.24 1524.55 1514.83 1522.56 Q1517.42 1520.57 1522.19 1520.57 Q1524.55 1520.57 1526.64 1520.92 Q1528.72 1521.26 1530.48 1521.96 Z\" fill=\"#000000\" fill-rule=\"evenodd\" fill-opacity=\"1\" /><path clip-path=\"url(#clip070)\" d=\"M 0 0 M1533.28 1521.19 L1537.79 1521.19 L1545.9 1542.95 L1554 1521.19 L1558.51 1521.19 L1548.79 1547.12 L1543 1547.12 L1533.28 1521.19 Z\" fill=\"#000000\" fill-rule=\"evenodd\" fill-opacity=\"1\" /><path clip-path=\"url(#clip070)\" d=\"M 0 0 M1688.61 1534.18 Q1688.61 1529.48 1686.66 1526.82 Q1684.74 1524.13 1681.36 1524.13 Q1677.98 1524.13 1676.04 1526.82 Q1674.12 1529.48 1674.12 1534.18 Q1674.12 1538.88 1676.04 1541.56 Q1677.98 1544.23 1681.36 1544.23 Q1684.74 1544.23 1686.66 1541.56 Q1688.61 1538.88 1688.61 1534.18 M1674.12 1525.13 Q1675.46 1522.81 1677.5 1521.7 Q1679.56 1520.57 1682.4 1520.57 Q1687.13 1520.57 1690.07 1524.32 Q1693.03 1528.07 1693.03 1534.18 Q1693.03 1540.29 1690.07 1544.04 Q1687.13 1547.79 1682.4 1547.79 Q1679.56 1547.79 1677.5 1546.68 Q1675.46 1545.55 1674.12 1543.23 L1674.12 1547.12 L1669.83 1547.12 L1669.83 1511.1 L1674.12 1511.1 L1674.12 1525.13 Z\" fill=\"#000000\" fill-rule=\"evenodd\" fill-opacity=\"1\" /><path clip-path=\"url(#clip070)\" d=\"M 0 0 M1697.5 1521.19 L1701.76 1521.19 L1701.76 1547.12 L1697.5 1547.12 L1697.5 1521.19 M1697.5 1511.1 L1701.76 1511.1 L1701.76 1516.5 L1697.5 1516.5 L1697.5 1511.1 Z\" fill=\"#000000\" fill-rule=\"evenodd\" fill-opacity=\"1\" /><path clip-path=\"url(#clip070)\" d=\"M 0 0 M1723.28 1533.86 Q1723.28 1529.23 1721.36 1526.68 Q1719.46 1524.13 1716.01 1524.13 Q1712.59 1524.13 1710.67 1526.68 Q1708.77 1529.23 1708.77 1533.86 Q1708.77 1538.46 1710.67 1541.01 Q1712.59 1543.56 1716.01 1543.56 Q1719.46 1543.56 1721.36 1541.01 Q1723.28 1538.46 1723.28 1533.86 M1727.54 1543.9 Q1727.54 1550.52 1724.6 1553.74 Q1721.66 1556.98 1715.6 1556.98 Q1713.35 1556.98 1711.36 1556.63 Q1709.37 1556.31 1707.5 1555.62 L1707.5 1551.47 Q1709.37 1552.49 1711.2 1552.98 Q1713.03 1553.46 1714.93 1553.46 Q1719.12 1553.46 1721.2 1551.26 Q1723.28 1549.09 1723.28 1544.67 L1723.28 1542.56 Q1721.96 1544.85 1719.9 1545.99 Q1717.84 1547.12 1714.97 1547.12 Q1710.2 1547.12 1707.29 1543.49 Q1704.37 1539.85 1704.37 1533.86 Q1704.37 1527.84 1707.29 1524.2 Q1710.2 1520.57 1714.97 1520.57 Q1717.84 1520.57 1719.9 1521.7 Q1721.96 1522.84 1723.28 1525.13 L1723.28 1521.19 L1727.54 1521.19 L1727.54 1543.9 Z\" fill=\"#000000\" fill-rule=\"evenodd\" fill-opacity=\"1\" /><path clip-path=\"url(#clip070)\" d=\"M 0 0 M1749.07 1525.13 L1749.07 1511.1 L1753.33 1511.1 L1753.33 1547.12 L1749.07 1547.12 L1749.07 1543.23 Q1747.73 1545.55 1745.67 1546.68 Q1743.63 1547.79 1740.76 1547.79 Q1736.06 1547.79 1733.1 1544.04 Q1730.16 1540.29 1730.16 1534.18 Q1730.16 1528.07 1733.1 1524.32 Q1736.06 1520.57 1740.76 1520.57 Q1743.63 1520.57 1745.67 1521.7 Q1747.73 1522.81 1749.07 1525.13 M1734.56 1534.18 Q1734.56 1538.88 1736.48 1541.56 Q1738.42 1544.23 1741.8 1544.23 Q1745.18 1544.23 1747.13 1541.56 Q1749.07 1538.88 1749.07 1534.18 Q1749.07 1529.48 1747.13 1526.82 Q1745.18 1524.13 1741.8 1524.13 Q1738.42 1524.13 1736.48 1526.82 Q1734.56 1529.48 1734.56 1534.18 Z\" fill=\"#000000\" fill-rule=\"evenodd\" fill-opacity=\"1\" /><path clip-path=\"url(#clip070)\" d=\"M 0 0 M1770.92 1511.1 L1770.92 1514.64 L1766.85 1514.64 Q1764.56 1514.64 1763.65 1515.57 Q1762.77 1516.5 1762.77 1518.9 L1762.77 1521.19 L1769.79 1521.19 L1769.79 1524.5 L1762.77 1524.5 L1762.77 1547.12 L1758.49 1547.12 L1758.49 1524.5 L1754.42 1524.5 L1754.42 1521.19 L1758.49 1521.19 L1758.49 1519.39 Q1758.49 1515.06 1760.5 1513.09 Q1762.52 1511.1 1766.89 1511.1 L1770.92 1511.1 Z\" fill=\"#000000\" fill-rule=\"evenodd\" fill-opacity=\"1\" /><path clip-path=\"url(#clip070)\" d=\"M 0 0 M1780.02 1543.18 L1796.34 1543.18 L1796.34 1547.12 L1774.39 1547.12 L1774.39 1543.18 Q1777.06 1540.43 1781.64 1535.8 Q1786.25 1531.15 1787.43 1529.81 Q1789.67 1527.28 1790.55 1525.55 Q1791.45 1523.79 1791.45 1522.1 Q1791.45 1519.34 1789.51 1517.61 Q1787.59 1515.87 1784.49 1515.87 Q1782.29 1515.87 1779.83 1516.63 Q1777.4 1517.4 1774.63 1518.95 L1774.63 1514.23 Q1777.45 1513.09 1779.9 1512.51 Q1782.36 1511.93 1784.39 1511.93 Q1789.76 1511.93 1792.96 1514.62 Q1796.15 1517.31 1796.15 1521.8 Q1796.15 1523.93 1795.34 1525.85 Q1794.56 1527.74 1792.45 1530.34 Q1791.87 1531.01 1788.77 1534.23 Q1785.67 1537.42 1780.02 1543.18 Z\" fill=\"#000000\" fill-rule=\"evenodd\" fill-opacity=\"1\" /><path clip-path=\"url(#clip070)\" d=\"M 0 0 M1801.41 1541.24 L1806.29 1541.24 L1806.29 1547.12 L1801.41 1547.12 L1801.41 1541.24 Z\" fill=\"#000000\" fill-rule=\"evenodd\" fill-opacity=\"1\" /><path clip-path=\"url(#clip070)\" d=\"M 0 0 M1810.76 1521.19 L1815.02 1521.19 L1815.02 1547.58 Q1815.02 1552.54 1813.12 1554.76 Q1811.25 1556.98 1807.06 1556.98 L1805.44 1556.98 L1805.44 1553.37 L1806.57 1553.37 Q1809 1553.37 1809.88 1552.24 Q1810.76 1551.12 1810.76 1547.58 L1810.76 1521.19 M1810.76 1511.1 L1815.02 1511.1 L1815.02 1516.5 L1810.76 1516.5 L1810.76 1511.1 Z\" fill=\"#000000\" fill-rule=\"evenodd\" fill-opacity=\"1\" /><path clip-path=\"url(#clip070)\" d=\"M 0 0 M1836.01 1521.96 L1836.01 1525.99 Q1834.21 1525.06 1832.26 1524.6 Q1830.32 1524.13 1828.24 1524.13 Q1825.06 1524.13 1823.47 1525.11 Q1821.89 1526.08 1821.89 1528.02 Q1821.89 1529.5 1823.03 1530.36 Q1824.16 1531.19 1827.59 1531.96 L1829.05 1532.28 Q1833.58 1533.25 1835.48 1535.04 Q1837.4 1536.8 1837.4 1539.97 Q1837.4 1543.58 1834.53 1545.68 Q1831.69 1547.79 1826.69 1547.79 Q1824.6 1547.79 1822.33 1547.37 Q1820.09 1546.98 1817.59 1546.17 L1817.59 1541.77 Q1819.95 1543 1822.24 1543.62 Q1824.53 1544.23 1826.78 1544.23 Q1829.79 1544.23 1831.41 1543.21 Q1833.03 1542.17 1833.03 1540.29 Q1833.03 1538.56 1831.85 1537.63 Q1830.69 1536.7 1826.73 1535.85 L1825.25 1535.5 Q1821.29 1534.67 1819.53 1532.95 Q1817.77 1531.22 1817.77 1528.21 Q1817.77 1524.55 1820.37 1522.56 Q1822.96 1520.57 1827.73 1520.57 Q1830.09 1520.57 1832.17 1520.92 Q1834.25 1521.26 1836.01 1521.96 Z\" fill=\"#000000\" fill-rule=\"evenodd\" fill-opacity=\"1\" /><path clip-path=\"url(#clip070)\" d=\"M 0 0 M1851.92 1524.18 Q1848.49 1524.18 1846.5 1526.87 Q1844.51 1529.53 1844.51 1534.18 Q1844.51 1538.83 1846.48 1541.52 Q1848.47 1544.18 1851.92 1544.18 Q1855.32 1544.18 1857.31 1541.49 Q1859.3 1538.81 1859.3 1534.18 Q1859.3 1529.57 1857.31 1526.89 Q1855.32 1524.18 1851.92 1524.18 M1851.92 1520.57 Q1857.47 1520.57 1860.64 1524.18 Q1863.81 1527.79 1863.81 1534.18 Q1863.81 1540.55 1860.64 1544.18 Q1857.47 1547.79 1851.92 1547.79 Q1846.34 1547.79 1843.17 1544.18 Q1840.02 1540.55 1840.02 1534.18 Q1840.02 1527.79 1843.17 1524.18 Q1846.34 1520.57 1851.92 1520.57 Z\" fill=\"#000000\" fill-rule=\"evenodd\" fill-opacity=\"1\" /><path clip-path=\"url(#clip070)\" d=\"M 0 0 M1889.83 1531.47 L1889.83 1547.12 L1885.57 1547.12 L1885.57 1531.61 Q1885.57 1527.93 1884.14 1526.1 Q1882.7 1524.27 1879.83 1524.27 Q1876.38 1524.27 1874.39 1526.47 Q1872.4 1528.67 1872.4 1532.47 L1872.4 1547.12 L1868.12 1547.12 L1868.12 1521.19 L1872.4 1521.19 L1872.4 1525.22 Q1873.93 1522.88 1875.99 1521.73 Q1878.07 1520.57 1880.78 1520.57 Q1885.25 1520.57 1887.54 1523.35 Q1889.83 1526.1 1889.83 1531.47 Z\" fill=\"#000000\" fill-rule=\"evenodd\" fill-opacity=\"1\" /><path clip-path=\"url(#clip070)\" d=\"M 0 0 M2014.23 1534.18 Q2014.23 1529.48 2012.29 1526.82 Q2010.37 1524.13 2006.99 1524.13 Q2003.61 1524.13 2001.67 1526.82 Q1999.74 1529.48 1999.74 1534.18 Q1999.74 1538.88 2001.67 1541.56 Q2003.61 1544.23 2006.99 1544.23 Q2010.37 1544.23 2012.29 1541.56 Q2014.23 1538.88 2014.23 1534.18 M1999.74 1525.13 Q2001.09 1522.81 2003.12 1521.7 Q2005.18 1520.57 2008.03 1520.57 Q2012.75 1520.57 2015.69 1524.32 Q2018.66 1528.07 2018.66 1534.18 Q2018.66 1540.29 2015.69 1544.04 Q2012.75 1547.79 2008.03 1547.79 Q2005.18 1547.79 2003.12 1546.68 Q2001.09 1545.55 1999.74 1543.23 L1999.74 1547.12 L1995.46 1547.12 L1995.46 1511.1 L1999.74 1511.1 L1999.74 1525.13 Z\" fill=\"#000000\" fill-rule=\"evenodd\" fill-opacity=\"1\" /><path clip-path=\"url(#clip070)\" d=\"M 0 0 M2023.12 1521.19 L2027.38 1521.19 L2027.38 1547.12 L2023.12 1547.12 L2023.12 1521.19 M2023.12 1511.1 L2027.38 1511.1 L2027.38 1516.5 L2023.12 1516.5 L2023.12 1511.1 Z\" fill=\"#000000\" fill-rule=\"evenodd\" fill-opacity=\"1\" /><path clip-path=\"url(#clip070)\" d=\"M 0 0 M2048.91 1533.86 Q2048.91 1529.23 2046.99 1526.68 Q2045.09 1524.13 2041.64 1524.13 Q2038.22 1524.13 2036.29 1526.68 Q2034.4 1529.23 2034.4 1533.86 Q2034.4 1538.46 2036.29 1541.01 Q2038.22 1543.56 2041.64 1543.56 Q2045.09 1543.56 2046.99 1541.01 Q2048.91 1538.46 2048.91 1533.86 M2053.17 1543.9 Q2053.17 1550.52 2050.23 1553.74 Q2047.29 1556.98 2041.23 1556.98 Q2038.98 1556.98 2036.99 1556.63 Q2035 1556.31 2033.12 1555.62 L2033.12 1551.47 Q2035 1552.49 2036.83 1552.98 Q2038.66 1553.46 2040.55 1553.46 Q2044.74 1553.46 2046.83 1551.26 Q2048.91 1549.09 2048.91 1544.67 L2048.91 1542.56 Q2047.59 1544.85 2045.53 1545.99 Q2043.47 1547.12 2040.6 1547.12 Q2035.83 1547.12 2032.92 1543.49 Q2030 1539.85 2030 1533.86 Q2030 1527.84 2032.92 1524.2 Q2035.83 1520.57 2040.6 1520.57 Q2043.47 1520.57 2045.53 1521.7 Q2047.59 1522.84 2048.91 1525.13 L2048.91 1521.19 L2053.17 1521.19 L2053.17 1543.9 Z\" fill=\"#000000\" fill-rule=\"evenodd\" fill-opacity=\"1\" /><path clip-path=\"url(#clip070)\" d=\"M 0 0 M2074.7 1525.13 L2074.7 1511.1 L2078.96 1511.1 L2078.96 1547.12 L2074.7 1547.12 L2074.7 1543.23 Q2073.35 1545.55 2071.29 1546.68 Q2069.26 1547.79 2066.39 1547.79 Q2061.69 1547.79 2058.73 1544.04 Q2055.79 1540.29 2055.79 1534.18 Q2055.79 1528.07 2058.73 1524.32 Q2061.69 1520.57 2066.39 1520.57 Q2069.26 1520.57 2071.29 1521.7 Q2073.35 1522.81 2074.7 1525.13 M2060.18 1534.18 Q2060.18 1538.88 2062.1 1541.56 Q2064.05 1544.23 2067.43 1544.23 Q2070.81 1544.23 2072.75 1541.56 Q2074.7 1538.88 2074.7 1534.18 Q2074.7 1529.48 2072.75 1526.82 Q2070.81 1524.13 2067.43 1524.13 Q2064.05 1524.13 2062.1 1526.82 Q2060.18 1529.48 2060.18 1534.18 Z\" fill=\"#000000\" fill-rule=\"evenodd\" fill-opacity=\"1\" /><path clip-path=\"url(#clip070)\" d=\"M 0 0 M2096.55 1511.1 L2096.55 1514.64 L2092.48 1514.64 Q2090.18 1514.64 2089.28 1515.57 Q2088.4 1516.5 2088.4 1518.9 L2088.4 1521.19 L2095.41 1521.19 L2095.41 1524.5 L2088.4 1524.5 L2088.4 1547.12 L2084.12 1547.12 L2084.12 1524.5 L2080.04 1524.5 L2080.04 1521.19 L2084.12 1521.19 L2084.12 1519.39 Q2084.12 1515.06 2086.13 1513.09 Q2088.15 1511.1 2092.52 1511.1 L2096.55 1511.1 Z\" fill=\"#000000\" fill-rule=\"evenodd\" fill-opacity=\"1\" /><path clip-path=\"url(#clip070)\" d=\"M 0 0 M2102.43 1543.18 L2110.07 1543.18 L2110.07 1516.82 L2101.76 1518.49 L2101.76 1514.23 L2110.02 1512.56 L2114.7 1512.56 L2114.7 1543.18 L2122.34 1543.18 L2122.34 1547.12 L2102.43 1547.12 L2102.43 1543.18 Z\" fill=\"#000000\" fill-rule=\"evenodd\" fill-opacity=\"1\" /><path clip-path=\"url(#clip070)\" d=\"M 0 0 M2127.41 1541.24 L2132.29 1541.24 L2132.29 1547.12 L2127.41 1547.12 L2127.41 1541.24 Z\" fill=\"#000000\" fill-rule=\"evenodd\" fill-opacity=\"1\" /><path clip-path=\"url(#clip070)\" d=\"M 0 0 M2136.76 1521.19 L2141.02 1521.19 L2141.02 1547.58 Q2141.02 1552.54 2139.12 1554.76 Q2137.24 1556.98 2133.05 1556.98 L2131.43 1556.98 L2131.43 1553.37 L2132.57 1553.37 Q2135 1553.37 2135.88 1552.24 Q2136.76 1551.12 2136.76 1547.58 L2136.76 1521.19 M2136.76 1511.1 L2141.02 1511.1 L2141.02 1516.5 L2136.76 1516.5 L2136.76 1511.1 Z\" fill=\"#000000\" fill-rule=\"evenodd\" fill-opacity=\"1\" /><path clip-path=\"url(#clip070)\" d=\"M 0 0 M2162.01 1521.96 L2162.01 1525.99 Q2160.21 1525.06 2158.26 1524.6 Q2156.32 1524.13 2154.23 1524.13 Q2151.06 1524.13 2149.47 1525.11 Q2147.89 1526.08 2147.89 1528.02 Q2147.89 1529.5 2149.03 1530.36 Q2150.16 1531.19 2153.59 1531.96 L2155.04 1532.28 Q2159.58 1533.25 2161.48 1535.04 Q2163.4 1536.8 2163.4 1539.97 Q2163.4 1543.58 2160.53 1545.68 Q2157.68 1547.79 2152.68 1547.79 Q2150.6 1547.79 2148.33 1547.37 Q2146.09 1546.98 2143.59 1546.17 L2143.59 1541.77 Q2145.95 1543 2148.24 1543.62 Q2150.53 1544.23 2152.78 1544.23 Q2155.79 1544.23 2157.41 1543.21 Q2159.03 1542.17 2159.03 1540.29 Q2159.03 1538.56 2157.85 1537.63 Q2156.69 1536.7 2152.73 1535.85 L2151.25 1535.5 Q2147.29 1534.67 2145.53 1532.95 Q2143.77 1531.22 2143.77 1528.21 Q2143.77 1524.55 2146.36 1522.56 Q2148.96 1520.57 2153.72 1520.57 Q2156.09 1520.57 2158.17 1520.92 Q2160.25 1521.26 2162.01 1521.96 Z\" fill=\"#000000\" fill-rule=\"evenodd\" fill-opacity=\"1\" /><path clip-path=\"url(#clip070)\" d=\"M 0 0 M2177.91 1524.18 Q2174.49 1524.18 2172.5 1526.87 Q2170.51 1529.53 2170.51 1534.18 Q2170.51 1538.83 2172.47 1541.52 Q2174.47 1544.18 2177.91 1544.18 Q2181.32 1544.18 2183.31 1541.49 Q2185.3 1538.81 2185.3 1534.18 Q2185.3 1529.57 2183.31 1526.89 Q2181.32 1524.18 2177.91 1524.18 M2177.91 1520.57 Q2183.47 1520.57 2186.64 1524.18 Q2189.81 1527.79 2189.81 1534.18 Q2189.81 1540.55 2186.64 1544.18 Q2183.47 1547.79 2177.91 1547.79 Q2172.34 1547.79 2169.16 1544.18 Q2166.02 1540.55 2166.02 1534.18 Q2166.02 1527.79 2169.16 1524.18 Q2172.34 1520.57 2177.91 1520.57 Z\" fill=\"#000000\" fill-rule=\"evenodd\" fill-opacity=\"1\" /><path clip-path=\"url(#clip070)\" d=\"M 0 0 M2215.83 1531.47 L2215.83 1547.12 L2211.57 1547.12 L2211.57 1531.61 Q2211.57 1527.93 2210.14 1526.1 Q2208.7 1524.27 2205.83 1524.27 Q2202.38 1524.27 2200.39 1526.47 Q2198.4 1528.67 2198.4 1532.47 L2198.4 1547.12 L2194.12 1547.12 L2194.12 1521.19 L2198.4 1521.19 L2198.4 1525.22 Q2199.93 1522.88 2201.99 1521.73 Q2204.07 1520.57 2206.78 1520.57 Q2211.25 1520.57 2213.54 1523.35 Q2215.83 1526.1 2215.83 1531.47 Z\" fill=\"#000000\" fill-rule=\"evenodd\" fill-opacity=\"1\" /><polyline clip-path=\"url(#clip072)\" style=\"stroke:#000000; stroke-width:2; stroke-opacity:0.1; fill:none\" points=\"\n",
       "  229.473,1447.87 2352.76,1447.87 \n",
       "  \"/>\n",
       "<polyline clip-path=\"url(#clip072)\" style=\"stroke:#000000; stroke-width:2; stroke-opacity:0.1; fill:none\" points=\"\n",
       "  229.473,1228.71 2352.76,1228.71 \n",
       "  \"/>\n",
       "<polyline clip-path=\"url(#clip072)\" style=\"stroke:#000000; stroke-width:2; stroke-opacity:0.1; fill:none\" points=\"\n",
       "  229.473,1009.55 2352.76,1009.55 \n",
       "  \"/>\n",
       "<polyline clip-path=\"url(#clip072)\" style=\"stroke:#000000; stroke-width:2; stroke-opacity:0.1; fill:none\" points=\"\n",
       "  229.473,790.388 2352.76,790.388 \n",
       "  \"/>\n",
       "<polyline clip-path=\"url(#clip072)\" style=\"stroke:#000000; stroke-width:2; stroke-opacity:0.1; fill:none\" points=\"\n",
       "  229.473,571.227 2352.76,571.227 \n",
       "  \"/>\n",
       "<polyline clip-path=\"url(#clip072)\" style=\"stroke:#000000; stroke-width:2; stroke-opacity:0.1; fill:none\" points=\"\n",
       "  229.473,352.065 2352.76,352.065 \n",
       "  \"/>\n",
       "<polyline clip-path=\"url(#clip072)\" style=\"stroke:#000000; stroke-width:2; stroke-opacity:0.1; fill:none\" points=\"\n",
       "  229.473,132.904 2352.76,132.904 \n",
       "  \"/>\n",
       "<polyline clip-path=\"url(#clip070)\" style=\"stroke:#000000; stroke-width:4; stroke-opacity:1; fill:none\" points=\"\n",
       "  229.473,1486.45 229.473,123.472 \n",
       "  \"/>\n",
       "<polyline clip-path=\"url(#clip070)\" style=\"stroke:#000000; stroke-width:4; stroke-opacity:1; fill:none\" points=\"\n",
       "  229.473,1447.87 254.952,1447.87 \n",
       "  \"/>\n",
       "<polyline clip-path=\"url(#clip070)\" style=\"stroke:#000000; stroke-width:4; stroke-opacity:1; fill:none\" points=\"\n",
       "  229.473,1228.71 254.952,1228.71 \n",
       "  \"/>\n",
       "<polyline clip-path=\"url(#clip070)\" style=\"stroke:#000000; stroke-width:4; stroke-opacity:1; fill:none\" points=\"\n",
       "  229.473,1009.55 254.952,1009.55 \n",
       "  \"/>\n",
       "<polyline clip-path=\"url(#clip070)\" style=\"stroke:#000000; stroke-width:4; stroke-opacity:1; fill:none\" points=\"\n",
       "  229.473,790.388 254.952,790.388 \n",
       "  \"/>\n",
       "<polyline clip-path=\"url(#clip070)\" style=\"stroke:#000000; stroke-width:4; stroke-opacity:1; fill:none\" points=\"\n",
       "  229.473,571.227 254.952,571.227 \n",
       "  \"/>\n",
       "<polyline clip-path=\"url(#clip070)\" style=\"stroke:#000000; stroke-width:4; stroke-opacity:1; fill:none\" points=\"\n",
       "  229.473,352.065 254.952,352.065 \n",
       "  \"/>\n",
       "<polyline clip-path=\"url(#clip070)\" style=\"stroke:#000000; stroke-width:4; stroke-opacity:1; fill:none\" points=\"\n",
       "  229.473,132.904 254.952,132.904 \n",
       "  \"/>\n",
       "<path clip-path=\"url(#clip070)\" d=\"M 0 0 M181.528 1433.67 Q177.917 1433.67 176.089 1437.24 Q174.283 1440.78 174.283 1447.91 Q174.283 1455.01 176.089 1458.58 Q177.917 1462.12 181.528 1462.12 Q185.163 1462.12 186.968 1458.58 Q188.797 1455.01 188.797 1447.91 Q188.797 1440.78 186.968 1437.24 Q185.163 1433.67 181.528 1433.67 M181.528 1429.97 Q187.338 1429.97 190.394 1434.57 Q193.473 1439.16 193.473 1447.91 Q193.473 1456.63 190.394 1461.24 Q187.338 1465.82 181.528 1465.82 Q175.718 1465.82 172.639 1461.24 Q169.584 1456.63 169.584 1447.91 Q169.584 1439.16 172.639 1434.57 Q175.718 1429.97 181.528 1429.97 Z\" fill=\"#000000\" fill-rule=\"evenodd\" fill-opacity=\"1\" /><path clip-path=\"url(#clip070)\" d=\"M 0 0 M119.538 1242.06 L127.177 1242.06 L127.177 1215.69 L118.867 1217.36 L118.867 1213.1 L127.13 1211.43 L131.806 1211.43 L131.806 1242.06 L139.445 1242.06 L139.445 1245.99 L119.538 1245.99 L119.538 1242.06 Z\" fill=\"#000000\" fill-rule=\"evenodd\" fill-opacity=\"1\" /><path clip-path=\"url(#clip070)\" d=\"M 0 0 M154.515 1214.51 Q150.903 1214.51 149.075 1218.08 Q147.269 1221.62 147.269 1228.75 Q147.269 1235.85 149.075 1239.42 Q150.903 1242.96 154.515 1242.96 Q158.149 1242.96 159.954 1239.42 Q161.783 1235.85 161.783 1228.75 Q161.783 1221.62 159.954 1218.08 Q158.149 1214.51 154.515 1214.51 M154.515 1210.81 Q160.325 1210.81 163.38 1215.41 Q166.459 1220 166.459 1228.75 Q166.459 1237.47 163.38 1242.08 Q160.325 1246.66 154.515 1246.66 Q148.704 1246.66 145.626 1242.08 Q142.57 1237.47 142.57 1228.75 Q142.57 1220 145.626 1215.41 Q148.704 1210.81 154.515 1210.81 Z\" fill=\"#000000\" fill-rule=\"evenodd\" fill-opacity=\"1\" /><path clip-path=\"url(#clip070)\" d=\"M 0 0 M181.528 1214.51 Q177.917 1214.51 176.089 1218.08 Q174.283 1221.62 174.283 1228.75 Q174.283 1235.85 176.089 1239.42 Q177.917 1242.96 181.528 1242.96 Q185.163 1242.96 186.968 1239.42 Q188.797 1235.85 188.797 1228.75 Q188.797 1221.62 186.968 1218.08 Q185.163 1214.51 181.528 1214.51 M181.528 1210.81 Q187.338 1210.81 190.394 1215.41 Q193.473 1220 193.473 1228.75 Q193.473 1237.47 190.394 1242.08 Q187.338 1246.66 181.528 1246.66 Q175.718 1246.66 172.639 1242.08 Q169.584 1237.47 169.584 1228.75 Q169.584 1220 172.639 1215.41 Q175.718 1210.81 181.528 1210.81 Z\" fill=\"#000000\" fill-rule=\"evenodd\" fill-opacity=\"1\" /><path clip-path=\"url(#clip070)\" d=\"M 0 0 M123.126 1022.89 L139.445 1022.89 L139.445 1026.83 L117.501 1026.83 L117.501 1022.89 Q120.163 1020.14 124.746 1015.51 Q129.353 1010.86 130.533 1009.52 Q132.779 1006.99 133.658 1005.26 Q134.561 1003.5 134.561 1001.81 Q134.561 999.052 132.617 997.316 Q130.695 995.58 127.593 995.58 Q125.394 995.58 122.941 996.344 Q120.51 997.108 117.732 998.659 L117.732 993.937 Q120.556 992.802 123.01 992.224 Q125.464 991.645 127.501 991.645 Q132.871 991.645 136.066 994.33 Q139.26 997.015 139.26 1001.51 Q139.26 1003.64 138.45 1005.56 Q137.663 1007.46 135.556 1010.05 Q134.978 1010.72 131.876 1013.94 Q128.774 1017.13 123.126 1022.89 Z\" fill=\"#000000\" fill-rule=\"evenodd\" fill-opacity=\"1\" /><path clip-path=\"url(#clip070)\" d=\"M 0 0 M154.515 995.349 Q150.903 995.349 149.075 998.913 Q147.269 1002.46 147.269 1009.58 Q147.269 1016.69 149.075 1020.26 Q150.903 1023.8 154.515 1023.8 Q158.149 1023.8 159.954 1020.26 Q161.783 1016.69 161.783 1009.58 Q161.783 1002.46 159.954 998.913 Q158.149 995.349 154.515 995.349 M154.515 991.645 Q160.325 991.645 163.38 996.251 Q166.459 1000.83 166.459 1009.58 Q166.459 1018.31 163.38 1022.92 Q160.325 1027.5 154.515 1027.5 Q148.704 1027.5 145.626 1022.92 Q142.57 1018.31 142.57 1009.58 Q142.57 1000.83 145.626 996.251 Q148.704 991.645 154.515 991.645 Z\" fill=\"#000000\" fill-rule=\"evenodd\" fill-opacity=\"1\" /><path clip-path=\"url(#clip070)\" d=\"M 0 0 M181.528 995.349 Q177.917 995.349 176.089 998.913 Q174.283 1002.46 174.283 1009.58 Q174.283 1016.69 176.089 1020.26 Q177.917 1023.8 181.528 1023.8 Q185.163 1023.8 186.968 1020.26 Q188.797 1016.69 188.797 1009.58 Q188.797 1002.46 186.968 998.913 Q185.163 995.349 181.528 995.349 M181.528 991.645 Q187.338 991.645 190.394 996.251 Q193.473 1000.83 193.473 1009.58 Q193.473 1018.31 190.394 1022.92 Q187.338 1027.5 181.528 1027.5 Q175.718 1027.5 172.639 1022.92 Q169.584 1018.31 169.584 1009.58 Q169.584 1000.83 172.639 996.251 Q175.718 991.645 181.528 991.645 Z\" fill=\"#000000\" fill-rule=\"evenodd\" fill-opacity=\"1\" /><path clip-path=\"url(#clip070)\" d=\"M 0 0 M132.316 789.034 Q135.672 789.752 137.547 792.02 Q139.445 794.289 139.445 797.622 Q139.445 802.738 135.927 805.539 Q132.408 808.34 125.927 808.34 Q123.751 808.34 121.436 807.9 Q119.144 807.483 116.691 806.627 L116.691 802.113 Q118.635 803.247 120.95 803.826 Q123.265 804.405 125.788 804.405 Q130.186 804.405 132.478 802.668 Q134.792 800.932 134.792 797.622 Q134.792 794.567 132.64 792.854 Q130.51 791.118 126.691 791.118 L122.663 791.118 L122.663 787.275 L126.876 787.275 Q130.325 787.275 132.154 785.909 Q133.982 784.52 133.982 781.928 Q133.982 779.266 132.084 777.854 Q130.209 776.419 126.691 776.419 Q124.769 776.419 122.57 776.835 Q120.371 777.252 117.732 778.132 L117.732 773.965 Q120.394 773.224 122.709 772.854 Q125.047 772.483 127.107 772.483 Q132.431 772.483 135.533 774.914 Q138.635 777.321 138.635 781.442 Q138.635 784.312 136.992 786.303 Q135.348 788.27 132.316 789.034 Z\" fill=\"#000000\" fill-rule=\"evenodd\" fill-opacity=\"1\" /><path clip-path=\"url(#clip070)\" d=\"M 0 0 M154.515 776.187 Q150.903 776.187 149.075 779.752 Q147.269 783.294 147.269 790.423 Q147.269 797.53 149.075 801.094 Q150.903 804.636 154.515 804.636 Q158.149 804.636 159.954 801.094 Q161.783 797.53 161.783 790.423 Q161.783 783.294 159.954 779.752 Q158.149 776.187 154.515 776.187 M154.515 772.483 Q160.325 772.483 163.38 777.09 Q166.459 781.673 166.459 790.423 Q166.459 799.15 163.38 803.756 Q160.325 808.34 154.515 808.34 Q148.704 808.34 145.626 803.756 Q142.57 799.15 142.57 790.423 Q142.57 781.673 145.626 777.09 Q148.704 772.483 154.515 772.483 Z\" fill=\"#000000\" fill-rule=\"evenodd\" fill-opacity=\"1\" /><path clip-path=\"url(#clip070)\" d=\"M 0 0 M181.528 776.187 Q177.917 776.187 176.089 779.752 Q174.283 783.294 174.283 790.423 Q174.283 797.53 176.089 801.094 Q177.917 804.636 181.528 804.636 Q185.163 804.636 186.968 801.094 Q188.797 797.53 188.797 790.423 Q188.797 783.294 186.968 779.752 Q185.163 776.187 181.528 776.187 M181.528 772.483 Q187.338 772.483 190.394 777.09 Q193.473 781.673 193.473 790.423 Q193.473 799.15 190.394 803.756 Q187.338 808.34 181.528 808.34 Q175.718 808.34 172.639 803.756 Q169.584 799.15 169.584 790.423 Q169.584 781.673 172.639 777.09 Q175.718 772.483 181.528 772.483 Z\" fill=\"#000000\" fill-rule=\"evenodd\" fill-opacity=\"1\" /><path clip-path=\"url(#clip070)\" d=\"M 0 0 M129.862 558.021 L118.056 576.47 L129.862 576.47 L129.862 558.021 M128.635 553.947 L134.515 553.947 L134.515 576.47 L139.445 576.47 L139.445 580.359 L134.515 580.359 L134.515 588.507 L129.862 588.507 L129.862 580.359 L114.26 580.359 L114.26 575.845 L128.635 553.947 Z\" fill=\"#000000\" fill-rule=\"evenodd\" fill-opacity=\"1\" /><path clip-path=\"url(#clip070)\" d=\"M 0 0 M154.515 557.026 Q150.903 557.026 149.075 560.59 Q147.269 564.132 147.269 571.262 Q147.269 578.368 149.075 581.933 Q150.903 585.475 154.515 585.475 Q158.149 585.475 159.954 581.933 Q161.783 578.368 161.783 571.262 Q161.783 564.132 159.954 560.59 Q158.149 557.026 154.515 557.026 M154.515 553.322 Q160.325 553.322 163.38 557.928 Q166.459 562.512 166.459 571.262 Q166.459 579.988 163.38 584.595 Q160.325 589.178 154.515 589.178 Q148.704 589.178 145.626 584.595 Q142.57 579.988 142.57 571.262 Q142.57 562.512 145.626 557.928 Q148.704 553.322 154.515 553.322 Z\" fill=\"#000000\" fill-rule=\"evenodd\" fill-opacity=\"1\" /><path clip-path=\"url(#clip070)\" d=\"M 0 0 M181.528 557.026 Q177.917 557.026 176.089 560.59 Q174.283 564.132 174.283 571.262 Q174.283 578.368 176.089 581.933 Q177.917 585.475 181.528 585.475 Q185.163 585.475 186.968 581.933 Q188.797 578.368 188.797 571.262 Q188.797 564.132 186.968 560.59 Q185.163 557.026 181.528 557.026 M181.528 553.322 Q187.338 553.322 190.394 557.928 Q193.473 562.512 193.473 571.262 Q193.473 579.988 190.394 584.595 Q187.338 589.178 181.528 589.178 Q175.718 589.178 172.639 584.595 Q169.584 579.988 169.584 571.262 Q169.584 562.512 172.639 557.928 Q175.718 553.322 181.528 553.322 Z\" fill=\"#000000\" fill-rule=\"evenodd\" fill-opacity=\"1\" /><path clip-path=\"url(#clip070)\" d=\"M 0 0 M118.543 334.785 L136.899 334.785 L136.899 338.721 L122.825 338.721 L122.825 347.193 Q123.843 346.845 124.862 346.683 Q125.88 346.498 126.899 346.498 Q132.686 346.498 136.066 349.67 Q139.445 352.841 139.445 358.257 Q139.445 363.836 135.973 366.938 Q132.501 370.017 126.181 370.017 Q124.005 370.017 121.737 369.646 Q119.492 369.276 117.084 368.535 L117.084 363.836 Q119.168 364.97 121.39 365.526 Q123.612 366.081 126.089 366.081 Q130.093 366.081 132.431 363.975 Q134.769 361.869 134.769 358.257 Q134.769 354.646 132.431 352.54 Q130.093 350.433 126.089 350.433 Q124.214 350.433 122.339 350.85 Q120.487 351.267 118.543 352.146 L118.543 334.785 Z\" fill=\"#000000\" fill-rule=\"evenodd\" fill-opacity=\"1\" /><path clip-path=\"url(#clip070)\" d=\"M 0 0 M154.515 337.864 Q150.903 337.864 149.075 341.429 Q147.269 344.97 147.269 352.1 Q147.269 359.207 149.075 362.771 Q150.903 366.313 154.515 366.313 Q158.149 366.313 159.954 362.771 Q161.783 359.207 161.783 352.1 Q161.783 344.97 159.954 341.429 Q158.149 337.864 154.515 337.864 M154.515 334.16 Q160.325 334.16 163.38 338.767 Q166.459 343.35 166.459 352.1 Q166.459 360.827 163.38 365.433 Q160.325 370.017 154.515 370.017 Q148.704 370.017 145.626 365.433 Q142.57 360.827 142.57 352.1 Q142.57 343.35 145.626 338.767 Q148.704 334.16 154.515 334.16 Z\" fill=\"#000000\" fill-rule=\"evenodd\" fill-opacity=\"1\" /><path clip-path=\"url(#clip070)\" d=\"M 0 0 M181.528 337.864 Q177.917 337.864 176.089 341.429 Q174.283 344.97 174.283 352.1 Q174.283 359.207 176.089 362.771 Q177.917 366.313 181.528 366.313 Q185.163 366.313 186.968 362.771 Q188.797 359.207 188.797 352.1 Q188.797 344.97 186.968 341.429 Q185.163 337.864 181.528 337.864 M181.528 334.16 Q187.338 334.16 190.394 338.767 Q193.473 343.35 193.473 352.1 Q193.473 360.827 190.394 365.433 Q187.338 370.017 181.528 370.017 Q175.718 370.017 172.639 365.433 Q169.584 360.827 169.584 352.1 Q169.584 343.35 172.639 338.767 Q175.718 334.16 181.528 334.16 Z\" fill=\"#000000\" fill-rule=\"evenodd\" fill-opacity=\"1\" /><path clip-path=\"url(#clip070)\" d=\"M 0 0 M127.917 131.04 Q124.769 131.04 122.918 133.193 Q121.089 135.346 121.089 139.096 Q121.089 142.823 122.918 144.999 Q124.769 147.151 127.917 147.151 Q131.066 147.151 132.894 144.999 Q134.746 142.823 134.746 139.096 Q134.746 135.346 132.894 133.193 Q131.066 131.04 127.917 131.04 M137.2 116.388 L137.2 120.647 Q135.441 119.814 133.635 119.374 Q131.853 118.934 130.093 118.934 Q125.464 118.934 123.01 122.059 Q120.58 125.184 120.232 131.503 Q121.598 129.489 123.658 128.425 Q125.718 127.337 128.195 127.337 Q133.404 127.337 136.413 130.508 Q139.445 133.656 139.445 139.096 Q139.445 144.42 136.297 147.638 Q133.149 150.855 127.917 150.855 Q121.922 150.855 118.751 146.272 Q115.58 141.665 115.58 132.939 Q115.58 124.744 119.468 119.883 Q123.357 114.999 129.908 114.999 Q131.667 114.999 133.45 115.346 Q135.255 115.693 137.2 116.388 Z\" fill=\"#000000\" fill-rule=\"evenodd\" fill-opacity=\"1\" /><path clip-path=\"url(#clip070)\" d=\"M 0 0 M154.515 118.703 Q150.903 118.703 149.075 122.267 Q147.269 125.809 147.269 132.939 Q147.269 140.045 149.075 143.61 Q150.903 147.151 154.515 147.151 Q158.149 147.151 159.954 143.61 Q161.783 140.045 161.783 132.939 Q161.783 125.809 159.954 122.267 Q158.149 118.703 154.515 118.703 M154.515 114.999 Q160.325 114.999 163.38 119.605 Q166.459 124.189 166.459 132.939 Q166.459 141.665 163.38 146.272 Q160.325 150.855 154.515 150.855 Q148.704 150.855 145.626 146.272 Q142.57 141.665 142.57 132.939 Q142.57 124.189 145.626 119.605 Q148.704 114.999 154.515 114.999 Z\" fill=\"#000000\" fill-rule=\"evenodd\" fill-opacity=\"1\" /><path clip-path=\"url(#clip070)\" d=\"M 0 0 M181.528 118.703 Q177.917 118.703 176.089 122.267 Q174.283 125.809 174.283 132.939 Q174.283 140.045 176.089 143.61 Q177.917 147.151 181.528 147.151 Q185.163 147.151 186.968 143.61 Q188.797 140.045 188.797 132.939 Q188.797 125.809 186.968 122.267 Q185.163 118.703 181.528 118.703 M181.528 114.999 Q187.338 114.999 190.394 119.605 Q193.473 124.189 193.473 132.939 Q193.473 141.665 190.394 146.272 Q187.338 150.855 181.528 150.855 Q175.718 150.855 172.639 146.272 Q169.584 141.665 169.584 132.939 Q169.584 124.189 172.639 119.605 Q175.718 114.999 181.528 114.999 Z\" fill=\"#000000\" fill-rule=\"evenodd\" fill-opacity=\"1\" /><path clip-path=\"url(#clip070)\" d=\"M 0 0 M40.4842 846.751 L40.4842 837.17 L72.8219 825.044 L40.4842 812.853 L40.4842 803.273 L88.0042 803.273 L88.0042 809.543 L46.277 809.543 L78.8694 821.797 L78.8694 828.258 L46.277 840.512 L88.0042 840.512 L88.0042 846.751 L40.4842 846.751 Z\" fill=\"#000000\" fill-rule=\"evenodd\" fill-opacity=\"1\" /><path clip-path=\"url(#clip070)\" d=\"M 0 0 M65.3104 790.446 L82.7206 790.446 L82.7206 780.134 Q82.7206 774.946 80.5881 772.463 Q78.4238 769.949 73.9996 769.949 Q69.5436 769.949 67.4429 772.463 Q65.3104 774.946 65.3104 780.134 L65.3104 790.446 M45.7677 790.446 L60.0905 790.446 L60.0905 780.929 Q60.0905 776.219 58.34 773.927 Q56.5576 771.604 52.9291 771.604 Q49.3325 771.604 47.5501 773.927 Q45.7677 776.219 45.7677 780.929 L45.7677 790.446 M40.4842 796.876 L40.4842 780.452 Q40.4842 773.1 43.5397 769.121 Q46.5952 765.143 52.2289 765.143 Q56.5894 765.143 59.1675 767.18 Q61.7456 769.217 62.3822 773.163 Q63.4007 768.421 66.6472 765.811 Q69.8619 763.169 74.6998 763.169 Q81.0655 763.169 84.5348 767.498 Q88.0042 771.826 88.0042 779.815 L88.0042 796.876 L40.4842 796.876 Z\" fill=\"#000000\" fill-rule=\"evenodd\" fill-opacity=\"1\" /><path clip-path=\"url(#clip070)\" d=\"M 0 0 M907.696 12.096 L942.453 12.096 L942.453 18.9825 L915.879 18.9825 L915.879 36.8065 L939.86 36.8065 L939.86 43.6931 L915.879 43.6931 L915.879 72.576 L907.696 72.576 L907.696 12.096 Z\" fill=\"#000000\" fill-rule=\"evenodd\" fill-opacity=\"1\" /><path clip-path=\"url(#clip070)\" d=\"M 0 0 M964.895 32.4315 Q958.9 32.4315 955.416 37.1306 Q951.932 41.7891 951.932 49.9314 Q951.932 58.0738 955.375 62.7728 Q958.859 67.4314 964.895 67.4314 Q970.85 67.4314 974.334 62.7323 Q977.817 58.0333 977.817 49.9314 Q977.817 41.8701 974.334 37.1711 Q970.85 32.4315 964.895 32.4315 M964.895 26.1121 Q974.617 26.1121 980.167 32.4315 Q985.717 38.7509 985.717 49.9314 Q985.717 61.0714 980.167 67.4314 Q974.617 73.7508 964.895 73.7508 Q955.132 73.7508 949.583 67.4314 Q944.073 61.0714 944.073 49.9314 Q944.073 38.7509 949.583 32.4315 Q955.132 26.1121 964.895 26.1121 Z\" fill=\"#000000\" fill-rule=\"evenodd\" fill-opacity=\"1\" /><path clip-path=\"url(#clip070)\" d=\"M 0 0 M1019.83 34.1734 Q1018.57 33.4443 1017.07 33.1202 Q1015.61 32.7556 1013.83 32.7556 Q1007.51 32.7556 1004.11 36.8875 Q1000.75 40.9789 1000.75 48.6757 L1000.75 72.576 L993.251 72.576 L993.251 27.2059 L1000.75 27.2059 L1000.75 34.2544 Q1003.1 30.1225 1006.86 28.1376 Q1010.63 26.1121 1016.02 26.1121 Q1016.79 26.1121 1017.72 26.2337 Q1018.65 26.3147 1019.78 26.5172 L1019.83 34.1734 Z\" fill=\"#000000\" fill-rule=\"evenodd\" fill-opacity=\"1\" /><path clip-path=\"url(#clip070)\" d=\"M 0 0 M1061.51 35.9153 Q1064.3 30.8922 1068.19 28.5022 Q1072.08 26.1121 1077.35 26.1121 Q1084.44 26.1121 1088.29 31.0947 Q1092.13 36.0368 1092.13 45.1919 L1092.13 72.576 L1084.64 72.576 L1084.64 45.4349 Q1084.64 38.913 1082.33 35.7533 Q1080.02 32.5936 1075.28 32.5936 Q1069.49 32.5936 1066.13 36.4419 Q1062.76 40.2903 1062.76 46.9338 L1062.76 72.576 L1055.27 72.576 L1055.27 45.4349 Q1055.27 38.8725 1052.96 35.7533 Q1050.65 32.5936 1045.83 32.5936 Q1040.12 32.5936 1036.76 36.4824 Q1033.4 40.3308 1033.4 46.9338 L1033.4 72.576 L1025.9 72.576 L1025.9 27.2059 L1033.4 27.2059 L1033.4 34.2544 Q1035.95 30.082 1039.51 28.0971 Q1043.08 26.1121 1047.98 26.1121 Q1052.92 26.1121 1056.36 28.6237 Q1059.85 31.1352 1061.51 35.9153 Z\" fill=\"#000000\" fill-rule=\"evenodd\" fill-opacity=\"1\" /><path clip-path=\"url(#clip070)\" d=\"M 0 0 M1120.57 49.7694 Q1111.54 49.7694 1108.05 51.8354 Q1104.57 53.9013 1104.57 58.8839 Q1104.57 62.8538 1107.16 65.2034 Q1109.8 67.5124 1114.29 67.5124 Q1120.49 67.5124 1124.22 63.1374 Q1127.98 58.7219 1127.98 51.4303 L1127.98 49.7694 L1120.57 49.7694 M1135.44 46.6907 L1135.44 72.576 L1127.98 72.576 L1127.98 65.6895 Q1125.43 69.8214 1121.62 71.8063 Q1117.82 73.7508 1112.31 73.7508 Q1105.34 73.7508 1101.21 69.8619 Q1097.12 65.9325 1097.12 59.3701 Q1097.12 51.7138 1102.22 47.825 Q1107.37 43.9361 1117.53 43.9361 L1127.98 43.9361 L1127.98 43.2069 Q1127.98 38.0623 1124.58 35.2672 Q1121.22 32.4315 1115.1 32.4315 Q1111.21 32.4315 1107.53 33.3632 Q1103.84 34.295 1100.44 36.1584 L1100.44 29.2718 Q1104.53 27.692 1108.38 26.9223 Q1112.23 26.1121 1115.87 26.1121 Q1125.72 26.1121 1130.58 31.2163 Q1135.44 36.3204 1135.44 46.6907 Z\" fill=\"#000000\" fill-rule=\"evenodd\" fill-opacity=\"1\" /><path clip-path=\"url(#clip070)\" d=\"M 0 0 M1150.63 14.324 L1150.63 27.2059 L1165.98 27.2059 L1165.98 32.9987 L1150.63 32.9987 L1150.63 57.6282 Q1150.63 63.1779 1152.13 64.7578 Q1153.67 66.3376 1158.33 66.3376 L1165.98 66.3376 L1165.98 72.576 L1158.33 72.576 Q1149.7 72.576 1146.42 69.3758 Q1143.13 66.1351 1143.13 57.6282 L1143.13 32.9987 L1137.67 32.9987 L1137.67 27.2059 L1143.13 27.2059 L1143.13 14.324 L1150.63 14.324 Z\" fill=\"#000000\" fill-rule=\"evenodd\" fill-opacity=\"1\" /><path clip-path=\"url(#clip070)\" d=\"M 0 0 M1200.5 12.096 L1235.25 12.096 L1235.25 18.9825 L1208.68 18.9825 L1208.68 36.8065 L1232.66 36.8065 L1232.66 43.6931 L1208.68 43.6931 L1208.68 72.576 L1200.5 72.576 L1200.5 12.096 Z\" fill=\"#000000\" fill-rule=\"evenodd\" fill-opacity=\"1\" /><path clip-path=\"url(#clip070)\" d=\"M 0 0 M1237.03 27.2059 L1244.49 27.2059 L1244.49 72.576 L1237.03 72.576 L1237.03 27.2059 M1237.03 9.54393 L1244.49 9.54393 L1244.49 18.9825 L1237.03 18.9825 L1237.03 9.54393 Z\" fill=\"#000000\" fill-rule=\"evenodd\" fill-opacity=\"1\" /><path clip-path=\"url(#clip070)\" d=\"M 0 0 M1252.31 9.54393 L1259.76 9.54393 L1259.76 72.576 L1252.31 72.576 L1252.31 9.54393 Z\" fill=\"#000000\" fill-rule=\"evenodd\" fill-opacity=\"1\" /><path clip-path=\"url(#clip070)\" d=\"M 0 0 M1306.39 48.0275 L1306.39 51.6733 L1272.12 51.6733 Q1272.6 59.3701 1276.73 63.421 Q1280.91 67.4314 1288.32 67.4314 Q1292.61 67.4314 1296.62 66.3781 Q1300.67 65.3249 1304.64 63.2184 L1304.64 70.267 Q1300.63 71.9684 1296.42 72.8596 Q1292.21 73.7508 1287.87 73.7508 Q1277.02 73.7508 1270.66 67.4314 Q1264.34 61.1119 1264.34 50.3365 Q1264.34 39.1965 1270.33 32.6746 Q1276.37 26.1121 1286.58 26.1121 Q1295.73 26.1121 1301.04 32.0264 Q1306.39 37.9003 1306.39 48.0275 M1298.93 45.84 Q1298.85 39.7232 1295.49 36.0774 Q1292.17 32.4315 1286.66 32.4315 Q1280.42 32.4315 1276.65 35.9558 Q1272.93 39.4801 1272.36 45.8805 L1298.93 45.84 Z\" fill=\"#000000\" fill-rule=\"evenodd\" fill-opacity=\"1\" /><path clip-path=\"url(#clip070)\" d=\"M 0 0 M1377.16 14.0809 L1377.16 22.0612 Q1372.5 19.8332 1368.37 18.7395 Q1364.23 17.6457 1360.38 17.6457 Q1353.7 17.6457 1350.05 20.2383 Q1346.45 22.8309 1346.45 27.611 Q1346.45 31.6214 1348.84 33.6873 Q1351.27 35.7128 1357.99 36.9686 L1362.94 37.9813 Q1372.09 39.7232 1376.43 44.1387 Q1380.8 48.5136 1380.8 55.8863 Q1380.8 64.6767 1374.89 69.2137 Q1369.01 73.7508 1357.63 73.7508 Q1353.34 73.7508 1348.48 72.7785 Q1343.65 71.8063 1338.47 69.9024 L1338.47 61.4765 Q1343.45 64.2716 1348.23 65.6895 Q1353.01 67.1073 1357.63 67.1073 Q1364.64 67.1073 1368.45 64.3527 Q1372.25 61.598 1372.25 56.4939 Q1372.25 52.0379 1369.5 49.5264 Q1366.79 47.0148 1360.55 45.759 L1355.56 44.7868 Q1346.41 42.9639 1342.32 39.075 Q1338.23 35.1862 1338.23 28.2591 Q1338.23 20.2383 1343.86 15.6203 Q1349.53 11.0023 1359.45 11.0023 Q1363.71 11.0023 1368.12 11.7719 Q1372.54 12.5416 1377.16 14.0809 Z\" fill=\"#000000\" fill-rule=\"evenodd\" fill-opacity=\"1\" /><path clip-path=\"url(#clip070)\" d=\"M 0 0 M1388.62 27.2059 L1396.07 27.2059 L1396.07 72.576 L1388.62 72.576 L1388.62 27.2059 M1388.62 9.54393 L1396.07 9.54393 L1396.07 18.9825 L1388.62 18.9825 L1388.62 9.54393 Z\" fill=\"#000000\" fill-rule=\"evenodd\" fill-opacity=\"1\" /><path clip-path=\"url(#clip070)\" d=\"M 0 0 M1400.65 27.2059 L1436.06 27.2059 L1436.06 34.0114 L1408.02 66.6212 L1436.06 66.6212 L1436.06 72.576 L1399.64 72.576 L1399.64 65.7705 L1427.67 33.1607 L1400.65 33.1607 L1400.65 27.2059 Z\" fill=\"#000000\" fill-rule=\"evenodd\" fill-opacity=\"1\" /><path clip-path=\"url(#clip070)\" d=\"M 0 0 M1482.68 48.0275 L1482.68 51.6733 L1448.41 51.6733 Q1448.9 59.3701 1453.03 63.421 Q1457.2 67.4314 1464.61 67.4314 Q1468.91 67.4314 1472.92 66.3781 Q1476.97 65.3249 1480.94 63.2184 L1480.94 70.267 Q1476.93 71.9684 1472.72 72.8596 Q1468.5 73.7508 1464.17 73.7508 Q1453.31 73.7508 1446.95 67.4314 Q1440.63 61.1119 1440.63 50.3365 Q1440.63 39.1965 1446.63 32.6746 Q1452.66 26.1121 1462.87 26.1121 Q1472.03 26.1121 1477.33 32.0264 Q1482.68 37.9003 1482.68 48.0275 M1475.23 45.84 Q1475.15 39.7232 1471.78 36.0774 Q1468.46 32.4315 1462.95 32.4315 Q1456.72 32.4315 1452.95 35.9558 Q1449.22 39.4801 1448.65 45.8805 L1475.23 45.84 Z\" fill=\"#000000\" fill-rule=\"evenodd\" fill-opacity=\"1\" /><path clip-path=\"url(#clip070)\" d=\"M 0 0 M1534.78 9.62495 Q1529.35 18.942 1526.71 28.0566 Q1524.08 37.1711 1524.08 46.5287 Q1524.08 55.8863 1526.71 65.0818 Q1529.39 74.2369 1534.78 83.5134 L1528.29 83.5134 Q1522.22 73.9938 1519.18 64.7983 Q1516.18 55.6027 1516.18 46.5287 Q1516.18 37.4952 1519.18 28.3401 Q1522.18 19.1851 1528.29 9.62495 L1534.78 9.62495 Z\" fill=\"#000000\" fill-rule=\"evenodd\" fill-opacity=\"1\" /><path clip-path=\"url(#clip070)\" d=\"M 0 0 M1542.92 12.096 L1555.11 12.096 L1570.55 53.2532 L1586.06 12.096 L1598.25 12.096 L1598.25 72.576 L1590.27 72.576 L1590.27 19.4686 L1574.68 60.9499 L1566.45 60.9499 L1550.86 19.4686 L1550.86 72.576 L1542.92 72.576 L1542.92 12.096 Z\" fill=\"#000000\" fill-rule=\"evenodd\" fill-opacity=\"1\" /><path clip-path=\"url(#clip070)\" d=\"M 0 0 M1614.58 43.6931 L1614.58 65.8515 L1627.7 65.8515 Q1634.31 65.8515 1637.47 63.1374 Q1640.67 60.3828 1640.67 54.752 Q1640.67 49.0808 1637.47 46.4072 Q1634.31 43.6931 1627.7 43.6931 L1614.58 43.6931 M1614.58 18.8205 L1614.58 37.0496 L1626.69 37.0496 Q1632.69 37.0496 1635.6 34.8216 Q1638.56 32.5531 1638.56 27.935 Q1638.56 23.3575 1635.6 21.089 Q1632.69 18.8205 1626.69 18.8205 L1614.58 18.8205 M1606.4 12.096 L1627.3 12.096 Q1636.66 12.096 1641.72 15.9849 Q1646.78 19.8737 1646.78 27.0438 Q1646.78 32.5936 1644.19 35.8748 Q1641.6 39.156 1636.58 39.9662 Q1642.61 41.2625 1645.93 45.3944 Q1649.3 49.4858 1649.3 55.6432 Q1649.3 63.745 1643.79 68.1605 Q1638.28 72.576 1628.11 72.576 L1606.4 72.576 L1606.4 12.096 Z\" fill=\"#000000\" fill-rule=\"evenodd\" fill-opacity=\"1\" /><path clip-path=\"url(#clip070)\" d=\"M 0 0 M1655.94 9.62495 L1662.42 9.62495 Q1668.5 19.1851 1671.49 28.3401 Q1674.53 37.4952 1674.53 46.5287 Q1674.53 55.6027 1671.49 64.7983 Q1668.5 73.9938 1662.42 83.5134 L1655.94 83.5134 Q1661.33 74.2369 1663.96 65.0818 Q1666.63 55.8863 1666.63 46.5287 Q1666.63 37.1711 1663.96 28.0566 Q1661.33 18.942 1655.94 9.62495 Z\" fill=\"#000000\" fill-rule=\"evenodd\" fill-opacity=\"1\" /><path clip-path=\"url(#clip072)\" d=\"\n",
       "M346.257 1427.32 L346.257 1447.87 L606.907 1447.87 L606.907 1427.32 L346.257 1427.32 L346.257 1427.32  Z\n",
       "  \" fill=\"#009af9\" fill-rule=\"evenodd\" fill-opacity=\"1\"/>\n",
       "<polyline clip-path=\"url(#clip072)\" style=\"stroke:#000000; stroke-width:4; stroke-opacity:1; fill:none\" points=\"\n",
       "  346.257,1427.32 346.257,1447.87 606.907,1447.87 606.907,1427.32 346.257,1427.32 \n",
       "  \"/>\n",
       "<path clip-path=\"url(#clip072)\" d=\"\n",
       "M672.07 1393.51 L672.07 1447.87 L932.72 1447.87 L932.72 1393.51 L672.07 1393.51 L672.07 1393.51  Z\n",
       "  \" fill=\"#009af9\" fill-rule=\"evenodd\" fill-opacity=\"1\"/>\n",
       "<polyline clip-path=\"url(#clip072)\" style=\"stroke:#000000; stroke-width:4; stroke-opacity:1; fill:none\" points=\"\n",
       "  672.07,1393.51 672.07,1447.87 932.72,1447.87 932.72,1393.51 672.07,1393.51 \n",
       "  \"/>\n",
       "<path clip-path=\"url(#clip072)\" d=\"\n",
       "M997.883 1391.93 L997.883 1447.87 L1258.53 1447.87 L1258.53 1391.93 L997.883 1391.93 L997.883 1391.93  Z\n",
       "  \" fill=\"#009af9\" fill-rule=\"evenodd\" fill-opacity=\"1\"/>\n",
       "<polyline clip-path=\"url(#clip072)\" style=\"stroke:#000000; stroke-width:4; stroke-opacity:1; fill:none\" points=\"\n",
       "  997.883,1391.93 997.883,1447.87 1258.53,1447.87 1258.53,1391.93 997.883,1391.93 \n",
       "  \"/>\n",
       "<path clip-path=\"url(#clip072)\" d=\"\n",
       "M1323.7 871.418 L1323.7 1447.87 L1584.35 1447.87 L1584.35 871.418 L1323.7 871.418 L1323.7 871.418  Z\n",
       "  \" fill=\"#009af9\" fill-rule=\"evenodd\" fill-opacity=\"1\"/>\n",
       "<polyline clip-path=\"url(#clip072)\" style=\"stroke:#000000; stroke-width:4; stroke-opacity:1; fill:none\" points=\"\n",
       "  1323.7,871.418 1323.7,1447.87 1584.35,1447.87 1584.35,871.418 1323.7,871.418 \n",
       "  \"/>\n",
       "<path clip-path=\"url(#clip072)\" d=\"\n",
       "M1649.51 871.413 L1649.51 1447.87 L1910.16 1447.87 L1910.16 871.413 L1649.51 871.413 L1649.51 871.413  Z\n",
       "  \" fill=\"#009af9\" fill-rule=\"evenodd\" fill-opacity=\"1\"/>\n",
       "<polyline clip-path=\"url(#clip072)\" style=\"stroke:#000000; stroke-width:4; stroke-opacity:1; fill:none\" points=\"\n",
       "  1649.51,871.413 1649.51,1447.87 1910.16,1447.87 1910.16,871.413 1649.51,871.413 \n",
       "  \"/>\n",
       "<path clip-path=\"url(#clip072)\" d=\"\n",
       "M1975.32 162.047 L1975.32 1447.87 L2235.97 1447.87 L2235.97 162.047 L1975.32 162.047 L1975.32 162.047  Z\n",
       "  \" fill=\"#009af9\" fill-rule=\"evenodd\" fill-opacity=\"1\"/>\n",
       "<polyline clip-path=\"url(#clip072)\" style=\"stroke:#000000; stroke-width:4; stroke-opacity:1; fill:none\" points=\"\n",
       "  1975.32,162.047 1975.32,1447.87 2235.97,1447.87 2235.97,162.047 1975.32,162.047 \n",
       "  \"/>\n",
       "<path clip-path=\"url(#clip070)\" d=\"\n",
       "M1963.51 289.865 L2281.98 289.865 L2281.98 168.905 L1963.51 168.905  Z\n",
       "  \" fill=\"#ffffff\" fill-rule=\"evenodd\" fill-opacity=\"1\"/>\n",
       "<polyline clip-path=\"url(#clip070)\" style=\"stroke:#000000; stroke-width:4; stroke-opacity:1; fill:none\" points=\"\n",
       "  1963.51,289.865 2281.98,289.865 2281.98,168.905 1963.51,168.905 1963.51,289.865 \n",
       "  \"/>\n",
       "<path clip-path=\"url(#clip070)\" d=\"\n",
       "M1987.11 253.577 L2128.66 253.577 L2128.66 205.193 L1987.11 205.193 L1987.11 253.577  Z\n",
       "  \" fill=\"#009af9\" fill-rule=\"evenodd\" fill-opacity=\"1\"/>\n",
       "<polyline clip-path=\"url(#clip070)\" style=\"stroke:#000000; stroke-width:4; stroke-opacity:1; fill:none\" points=\"\n",
       "  1987.11,253.577 2128.66,253.577 2128.66,205.193 1987.11,205.193 1987.11,253.577 \n",
       "  \"/>\n",
       "<path clip-path=\"url(#clip070)\" d=\"M 0 0 M2174.5 213.239 L2174.5 217.799 Q2171.83 216.526 2169.47 215.901 Q2167.11 215.276 2164.91 215.276 Q2161.09 215.276 2159.01 216.757 Q2156.95 218.239 2156.95 220.97 Q2156.95 223.262 2158.31 224.443 Q2159.7 225.6 2163.55 226.318 L2166.37 226.896 Q2171.6 227.892 2174.08 230.415 Q2176.58 232.915 2176.58 237.128 Q2176.58 242.151 2173.2 244.743 Q2169.84 247.336 2163.34 247.336 Q2160.88 247.336 2158.11 246.78 Q2155.35 246.225 2152.39 245.137 L2152.39 240.322 Q2155.24 241.919 2157.97 242.729 Q2160.7 243.54 2163.34 243.54 Q2167.34 243.54 2169.52 241.966 Q2171.69 240.392 2171.69 237.475 Q2171.69 234.929 2170.12 233.493 Q2168.57 232.058 2165 231.341 L2162.16 230.785 Q2156.93 229.743 2154.59 227.521 Q2152.25 225.299 2152.25 221.341 Q2152.25 216.757 2155.47 214.119 Q2158.71 211.48 2164.38 211.48 Q2166.81 211.48 2169.33 211.919 Q2171.86 212.359 2174.5 213.239 Z\" fill=\"#000000\" fill-rule=\"evenodd\" fill-opacity=\"1\" /><path clip-path=\"url(#clip070)\" d=\"M 0 0 M2181.05 220.739 L2185.31 220.739 L2185.31 246.665 L2181.05 246.665 L2181.05 220.739 M2181.05 210.646 L2185.31 210.646 L2185.31 216.04 L2181.05 216.04 L2181.05 210.646 Z\" fill=\"#000000\" fill-rule=\"evenodd\" fill-opacity=\"1\" /><path clip-path=\"url(#clip070)\" d=\"M 0 0 M2187.92 220.739 L2208.15 220.739 L2208.15 224.628 L2192.13 243.262 L2208.15 243.262 L2208.15 246.665 L2187.34 246.665 L2187.34 242.776 L2203.36 224.142 L2187.92 224.142 L2187.92 220.739 Z\" fill=\"#000000\" fill-rule=\"evenodd\" fill-opacity=\"1\" /><path clip-path=\"url(#clip070)\" d=\"M 0 0 M2234.8 232.637 L2234.8 234.72 L2215.21 234.72 Q2215.49 239.118 2217.85 241.433 Q2220.24 243.725 2224.47 243.725 Q2226.93 243.725 2229.22 243.123 Q2231.53 242.521 2233.8 241.317 L2233.8 245.345 Q2231.51 246.317 2229.1 246.827 Q2226.69 247.336 2224.22 247.336 Q2218.01 247.336 2214.38 243.725 Q2210.77 240.114 2210.77 233.956 Q2210.77 227.591 2214.19 223.864 Q2217.64 220.114 2223.48 220.114 Q2228.71 220.114 2231.74 223.493 Q2234.8 226.85 2234.8 232.637 M2230.54 231.387 Q2230.49 227.892 2228.57 225.808 Q2226.67 223.725 2223.52 223.725 Q2219.96 223.725 2217.81 225.739 Q2215.68 227.753 2215.35 231.41 L2230.54 231.387 Z\" fill=\"#000000\" fill-rule=\"evenodd\" fill-opacity=\"1\" /></svg>\n"
      ]
     },
     "execution_count": 41,
     "metadata": {},
     "output_type": "execute_result"
    }
   ],
   "source": [
    "@df df plot(:file, :size/1024^2, seriestype=:bar, title = \"Format File Size (MB)\", label=\"Size\", ylab=\"MB\")"
   ]
  },
  {
   "cell_type": "code",
   "execution_count": 42,
   "metadata": {},
   "outputs": [
    {
     "name": "stdout",
     "output_type": "stream",
     "text": [
      "First run\n",
      "CSV.jl\n",
      "  2.607400 seconds (928.84 k allocations: 202.391 MiB)\n",
      "Serialization\n",
      "  2.710477 seconds (49.56 M allocations: 806.986 MiB, 11.29% gc time)\n",
      "JDF.jl\n",
      "  0.676249 seconds (192.12 k allocations: 156.729 MiB, 9.14% gc time)\n",
      "JLSO.jl\n",
      "  1.975146 seconds (49.68 M allocations: 818.153 MiB, 6.09% gc time)\n",
      "Arrow.jl\n",
      "  0.193021 seconds (287.39 k allocations: 14.699 MiB)\n",
      "  1.084494 seconds (335.84 k allocations: 66.043 MiB)\n",
      "JSONTables.jl arraytable\n",
      "  4.053238 seconds (27 allocations: 2.144 GiB, 6.48% gc time)\n",
      "JSONTables.jl objecttable\n",
      "  2.621731 seconds (2.50 k allocations: 1.156 GiB, 11.33% gc time)\n",
      "Second run\n",
      "  2.314200 seconds (6.22 k allocations: 155.171 MiB, 4.05% gc time)\n",
      "Serialization\n",
      "  2.343229 seconds (49.55 M allocations: 806.356 MiB, 3.73% gc time)\n",
      "JDF.jl\n",
      "  0.449178 seconds (34.62 k allocations: 148.844 MiB, 1.13% gc time)\n",
      "JLSO.jl\n",
      "  1.868072 seconds (49.67 M allocations: 817.597 MiB, 4.71% gc time)\n",
      "Arrow.jl\n",
      "  0.002340 seconds (31.11 k allocations: 1.693 MiB)\n",
      "  0.905664 seconds (101.53 k allocations: 53.615 MiB)\n",
      "JSONTables.jl arraytable\n",
      "  4.051027 seconds (27 allocations: 2.144 GiB, 5.96% gc time)\n",
      "JSONTables.jl objecttable\n",
      "  2.641381 seconds (40 allocations: 1.156 GiB, 11.36% gc time)\n"
     ]
    }
   ],
   "source": [
    "println(\"First run\")\n",
    "println(\"CSV.jl\")\n",
    "csvread1 = @elapsed @time CSV.read(\"bigdf1.csv\", DataFrame)\n",
    "println(\"Serialization\")\n",
    "serializeread1 = @elapsed @time open(deserialize, \"bigdf.bin\")\n",
    "println(\"JDF.jl\")\n",
    "jdfread1 = @elapsed @time loadjdf(\"bigdf.jdf\")\n",
    "println(\"JLSO.jl\")\n",
    "jlsoread1 = @elapsed @time JLSO.load(\"bigdf.jlso\")\n",
    "println(\"Arrow.jl\")\n",
    "arrowread1 = @elapsed @time df_tmp = Arrow.Table(\"bigdf.arrow\") |> DataFrame\n",
    "arrowread1copy = @elapsed @time copy(df_tmp)\n",
    "println(\"JSONTables.jl arraytable\")\n",
    "jsontablesaread1 = @elapsed @time open(jsontable, \"bigdf1.json\")\n",
    "println(\"JSONTables.jl objecttable\")\n",
    "jsontablesoread1 = @elapsed @time open(jsontable, \"bigdf2.json\")\n",
    "println(\"Second run\")\n",
    "csvread2 = @elapsed @time CSV.read(\"bigdf1.csv\", DataFrame)\n",
    "println(\"Serialization\")\n",
    "serializeread2 = @elapsed @time open(deserialize, \"bigdf.bin\")\n",
    "println(\"JDF.jl\")\n",
    "jdfread2 = @elapsed @time loadjdf(\"bigdf.jdf\")\n",
    "println(\"JLSO.jl\")\n",
    "jlsoread2 = @elapsed @time JLSO.load(\"bigdf.jlso\")\n",
    "println(\"Arrow.jl\")\n",
    "arrowread2 = @elapsed @time df_tmp = Arrow.Table(\"bigdf.arrow\") |> DataFrame\n",
    "arrowread2copy = @elapsed @time copy(df_tmp)\n",
    "println(\"JSONTables.jl arraytable\")\n",
    "jsontablesaread2 = @elapsed @time open(jsontable, \"bigdf1.json\")\n",
    "println(\"JSONTables.jl objecttable\")\n",
    "jsontablesoread2 = @elapsed @time open(jsontable, \"bigdf2.json\");"
   ]
  },
  {
   "cell_type": "code",
   "execution_count": 43,
   "metadata": {},
   "outputs": [
    {
     "data": {
      "image/svg+xml": [
       "<?xml version=\"1.0\" encoding=\"utf-8\"?>\n",
       "<svg xmlns=\"http://www.w3.org/2000/svg\" xmlns:xlink=\"http://www.w3.org/1999/xlink\" width=\"600\" height=\"400\" viewBox=\"0 0 2400 1600\">\n",
       "<defs>\n",
       "  <clipPath id=\"clip110\">\n",
       "    <rect x=\"0\" y=\"0\" width=\"2400\" height=\"1600\"/>\n",
       "  </clipPath>\n",
       "</defs>\n",
       "<path clip-path=\"url(#clip110)\" d=\"\n",
       "M0 1600 L2400 1600 L2400 0 L0 0  Z\n",
       "  \" fill=\"#ffffff\" fill-rule=\"evenodd\" fill-opacity=\"1\"/>\n",
       "<defs>\n",
       "  <clipPath id=\"clip111\">\n",
       "    <rect x=\"480\" y=\"0\" width=\"1681\" height=\"1600\"/>\n",
       "  </clipPath>\n",
       "</defs>\n",
       "<path clip-path=\"url(#clip110)\" d=\"\n",
       "M175.445 1451.89 L2352.76 1451.89 L2352.76 244.432 L175.445 244.432  Z\n",
       "  \" fill=\"#ffffff\" fill-rule=\"evenodd\" fill-opacity=\"1\"/>\n",
       "<defs>\n",
       "  <clipPath id=\"clip112\">\n",
       "    <rect x=\"175\" y=\"244\" width=\"2178\" height=\"1208\"/>\n",
       "  </clipPath>\n",
       "</defs>\n",
       "<polyline clip-path=\"url(#clip112)\" style=\"stroke:#000000; stroke-width:2; stroke-opacity:0.1; fill:none\" points=\"\n",
       "  392.044,1451.89 392.044,244.432 \n",
       "  \"/>\n",
       "<polyline clip-path=\"url(#clip112)\" style=\"stroke:#000000; stroke-width:2; stroke-opacity:0.1; fill:none\" points=\"\n",
       "  641.203,1451.89 641.203,244.432 \n",
       "  \"/>\n",
       "<polyline clip-path=\"url(#clip112)\" style=\"stroke:#000000; stroke-width:2; stroke-opacity:0.1; fill:none\" points=\"\n",
       "  890.362,1451.89 890.362,244.432 \n",
       "  \"/>\n",
       "<polyline clip-path=\"url(#clip112)\" style=\"stroke:#000000; stroke-width:2; stroke-opacity:0.1; fill:none\" points=\"\n",
       "  1139.52,1451.89 1139.52,244.432 \n",
       "  \"/>\n",
       "<polyline clip-path=\"url(#clip112)\" style=\"stroke:#000000; stroke-width:2; stroke-opacity:0.1; fill:none\" points=\"\n",
       "  1388.68,1451.89 1388.68,244.432 \n",
       "  \"/>\n",
       "<polyline clip-path=\"url(#clip112)\" style=\"stroke:#000000; stroke-width:2; stroke-opacity:0.1; fill:none\" points=\"\n",
       "  1637.84,1451.89 1637.84,244.432 \n",
       "  \"/>\n",
       "<polyline clip-path=\"url(#clip112)\" style=\"stroke:#000000; stroke-width:2; stroke-opacity:0.1; fill:none\" points=\"\n",
       "  1887,1451.89 1887,244.432 \n",
       "  \"/>\n",
       "<polyline clip-path=\"url(#clip112)\" style=\"stroke:#000000; stroke-width:2; stroke-opacity:0.1; fill:none\" points=\"\n",
       "  2136.16,1451.89 2136.16,244.432 \n",
       "  \"/>\n",
       "<polyline clip-path=\"url(#clip110)\" style=\"stroke:#000000; stroke-width:4; stroke-opacity:1; fill:none\" points=\"\n",
       "  175.445,1451.89 2352.76,1451.89 \n",
       "  \"/>\n",
       "<polyline clip-path=\"url(#clip110)\" style=\"stroke:#000000; stroke-width:4; stroke-opacity:1; fill:none\" points=\"\n",
       "  392.044,1451.89 392.044,1437.4 \n",
       "  \"/>\n",
       "<polyline clip-path=\"url(#clip110)\" style=\"stroke:#000000; stroke-width:4; stroke-opacity:1; fill:none\" points=\"\n",
       "  641.203,1451.89 641.203,1437.4 \n",
       "  \"/>\n",
       "<polyline clip-path=\"url(#clip110)\" style=\"stroke:#000000; stroke-width:4; stroke-opacity:1; fill:none\" points=\"\n",
       "  890.362,1451.89 890.362,1437.4 \n",
       "  \"/>\n",
       "<polyline clip-path=\"url(#clip110)\" style=\"stroke:#000000; stroke-width:4; stroke-opacity:1; fill:none\" points=\"\n",
       "  1139.52,1451.89 1139.52,1437.4 \n",
       "  \"/>\n",
       "<polyline clip-path=\"url(#clip110)\" style=\"stroke:#000000; stroke-width:4; stroke-opacity:1; fill:none\" points=\"\n",
       "  1388.68,1451.89 1388.68,1437.4 \n",
       "  \"/>\n",
       "<polyline clip-path=\"url(#clip110)\" style=\"stroke:#000000; stroke-width:4; stroke-opacity:1; fill:none\" points=\"\n",
       "  1637.84,1451.89 1637.84,1437.4 \n",
       "  \"/>\n",
       "<polyline clip-path=\"url(#clip110)\" style=\"stroke:#000000; stroke-width:4; stroke-opacity:1; fill:none\" points=\"\n",
       "  1887,1451.89 1887,1437.4 \n",
       "  \"/>\n",
       "<polyline clip-path=\"url(#clip110)\" style=\"stroke:#000000; stroke-width:4; stroke-opacity:1; fill:none\" points=\"\n",
       "  2136.16,1451.89 2136.16,1437.4 \n",
       "  \"/>\n",
       "<path clip-path=\"url(#clip110)\" d=\"M 0 0 M330.366 1482.61 L324.024 1499.81 L336.732 1499.81 L330.366 1482.61 M327.727 1478 L333.028 1478 L346.199 1512.56 L341.338 1512.56 L338.19 1503.69 L322.612 1503.69 L319.463 1512.56 L314.533 1512.56 L327.727 1478 Z\" fill=\"#000000\" fill-rule=\"evenodd\" fill-opacity=\"1\" /><path clip-path=\"url(#clip110)\" d=\"M 0 0 M365.69 1490.62 Q364.972 1490.2 364.116 1490.01 Q363.283 1489.81 362.264 1489.81 Q358.653 1489.81 356.709 1492.17 Q354.787 1494.5 354.787 1498.9 L354.787 1512.56 L350.505 1512.56 L350.505 1486.63 L354.787 1486.63 L354.787 1490.66 Q356.13 1488.3 358.283 1487.17 Q360.435 1486.01 363.514 1486.01 Q363.954 1486.01 364.486 1486.08 Q365.019 1486.12 365.667 1486.24 L365.69 1490.62 Z\" fill=\"#000000\" fill-rule=\"evenodd\" fill-opacity=\"1\" /><path clip-path=\"url(#clip110)\" d=\"M 0 0 M384.347 1490.62 Q383.63 1490.2 382.773 1490.01 Q381.94 1489.81 380.921 1489.81 Q377.31 1489.81 375.366 1492.17 Q373.445 1494.5 373.445 1498.9 L373.445 1512.56 L369.162 1512.56 L369.162 1486.63 L373.445 1486.63 L373.445 1490.66 Q374.787 1488.3 376.94 1487.17 Q379.093 1486.01 382.171 1486.01 Q382.611 1486.01 383.144 1486.08 Q383.676 1486.12 384.324 1486.24 L384.347 1490.62 Z\" fill=\"#000000\" fill-rule=\"evenodd\" fill-opacity=\"1\" /><path clip-path=\"url(#clip110)\" d=\"M 0 0 M397.82 1489.62 Q394.394 1489.62 392.403 1492.31 Q390.412 1494.97 390.412 1499.62 Q390.412 1504.27 392.38 1506.96 Q394.37 1509.62 397.82 1509.62 Q401.222 1509.62 403.213 1506.93 Q405.204 1504.25 405.204 1499.62 Q405.204 1495.01 403.213 1492.33 Q401.222 1489.62 397.82 1489.62 M397.82 1486.01 Q403.375 1486.01 406.546 1489.62 Q409.718 1493.23 409.718 1499.62 Q409.718 1505.99 406.546 1509.62 Q403.375 1513.23 397.82 1513.23 Q392.241 1513.23 389.07 1509.62 Q385.921 1505.99 385.921 1499.62 Q385.921 1493.23 389.07 1489.62 Q392.241 1486.01 397.82 1486.01 Z\" fill=\"#000000\" fill-rule=\"evenodd\" fill-opacity=\"1\" /><path clip-path=\"url(#clip110)\" d=\"M 0 0 M411.708 1486.63 L415.968 1486.63 L421.292 1506.87 L426.593 1486.63 L431.616 1486.63 L436.94 1506.87 L442.241 1486.63 L446.5 1486.63 L439.717 1512.56 L434.694 1512.56 L429.116 1491.31 L423.514 1512.56 L418.491 1512.56 L411.708 1486.63 Z\" fill=\"#000000\" fill-rule=\"evenodd\" fill-opacity=\"1\" /><path clip-path=\"url(#clip110)\" d=\"M 0 0 M447.217 1506.68 L452.102 1506.68 L452.102 1512.56 L447.217 1512.56 L447.217 1506.68 Z\" fill=\"#000000\" fill-rule=\"evenodd\" fill-opacity=\"1\" /><path clip-path=\"url(#clip110)\" d=\"M 0 0 M456.569 1486.63 L460.828 1486.63 L460.828 1513.02 Q460.828 1517.98 458.93 1520.2 Q457.055 1522.42 452.866 1522.42 L451.245 1522.42 L451.245 1518.81 L452.379 1518.81 Q454.81 1518.81 455.69 1517.68 Q456.569 1516.56 456.569 1513.02 L456.569 1486.63 M456.569 1476.54 L460.828 1476.54 L460.828 1481.94 L456.569 1481.94 L456.569 1476.54 Z\" fill=\"#000000\" fill-rule=\"evenodd\" fill-opacity=\"1\" /><path clip-path=\"url(#clip110)\" d=\"M 0 0 M465.296 1476.54 L469.555 1476.54 L469.555 1512.56 L465.296 1512.56 L465.296 1476.54 Z\" fill=\"#000000\" fill-rule=\"evenodd\" fill-opacity=\"1\" /><path clip-path=\"url(#clip110)\" d=\"M 0 0 M579.525 1482.61 L573.183 1499.81 L585.891 1499.81 L579.525 1482.61 M576.886 1478 L582.187 1478 L595.358 1512.56 L590.497 1512.56 L587.349 1503.69 L571.771 1503.69 L568.622 1512.56 L563.692 1512.56 L576.886 1478 Z\" fill=\"#000000\" fill-rule=\"evenodd\" fill-opacity=\"1\" /><path clip-path=\"url(#clip110)\" d=\"M 0 0 M614.849 1490.62 Q614.131 1490.2 613.275 1490.01 Q612.442 1489.81 611.423 1489.81 Q607.812 1489.81 605.868 1492.17 Q603.946 1494.5 603.946 1498.9 L603.946 1512.56 L599.664 1512.56 L599.664 1486.63 L603.946 1486.63 L603.946 1490.66 Q605.289 1488.3 607.442 1487.17 Q609.594 1486.01 612.673 1486.01 Q613.113 1486.01 613.645 1486.08 Q614.178 1486.12 614.826 1486.24 L614.849 1490.62 Z\" fill=\"#000000\" fill-rule=\"evenodd\" fill-opacity=\"1\" /><path clip-path=\"url(#clip110)\" d=\"M 0 0 M633.506 1490.62 Q632.789 1490.2 631.932 1490.01 Q631.099 1489.81 630.08 1489.81 Q626.469 1489.81 624.525 1492.17 Q622.604 1494.5 622.604 1498.9 L622.604 1512.56 L618.321 1512.56 L618.321 1486.63 L622.604 1486.63 L622.604 1490.66 Q623.946 1488.3 626.099 1487.17 Q628.252 1486.01 631.33 1486.01 Q631.77 1486.01 632.303 1486.08 Q632.835 1486.12 633.483 1486.24 L633.506 1490.62 Z\" fill=\"#000000\" fill-rule=\"evenodd\" fill-opacity=\"1\" /><path clip-path=\"url(#clip110)\" d=\"M 0 0 M646.979 1489.62 Q643.553 1489.62 641.562 1492.31 Q639.571 1494.97 639.571 1499.62 Q639.571 1504.27 641.539 1506.96 Q643.529 1509.62 646.979 1509.62 Q650.381 1509.62 652.372 1506.93 Q654.363 1504.25 654.363 1499.62 Q654.363 1495.01 652.372 1492.33 Q650.381 1489.62 646.979 1489.62 M646.979 1486.01 Q652.534 1486.01 655.705 1489.62 Q658.877 1493.23 658.877 1499.62 Q658.877 1505.99 655.705 1509.62 Q652.534 1513.23 646.979 1513.23 Q641.4 1513.23 638.229 1509.62 Q635.08 1505.99 635.08 1499.62 Q635.08 1493.23 638.229 1489.62 Q641.4 1486.01 646.979 1486.01 Z\" fill=\"#000000\" fill-rule=\"evenodd\" fill-opacity=\"1\" /><path clip-path=\"url(#clip110)\" d=\"M 0 0 M660.867 1486.63 L665.127 1486.63 L670.451 1506.87 L675.752 1486.63 L680.775 1486.63 L686.099 1506.87 L691.4 1486.63 L695.659 1486.63 L688.876 1512.56 L683.853 1512.56 L678.275 1491.31 L672.673 1512.56 L667.65 1512.56 L660.867 1486.63 Z\" fill=\"#000000\" fill-rule=\"evenodd\" fill-opacity=\"1\" /><path clip-path=\"url(#clip110)\" d=\"M 0 0 M696.376 1506.68 L701.261 1506.68 L701.261 1512.56 L696.376 1512.56 L696.376 1506.68 Z\" fill=\"#000000\" fill-rule=\"evenodd\" fill-opacity=\"1\" /><path clip-path=\"url(#clip110)\" d=\"M 0 0 M705.728 1486.63 L709.987 1486.63 L709.987 1513.02 Q709.987 1517.98 708.089 1520.2 Q706.214 1522.42 702.025 1522.42 L700.404 1522.42 L700.404 1518.81 L701.538 1518.81 Q703.969 1518.81 704.849 1517.68 Q705.728 1516.56 705.728 1513.02 L705.728 1486.63 M705.728 1476.54 L709.987 1476.54 L709.987 1481.94 L705.728 1481.94 L705.728 1476.54 Z\" fill=\"#000000\" fill-rule=\"evenodd\" fill-opacity=\"1\" /><path clip-path=\"url(#clip110)\" d=\"M 0 0 M714.455 1476.54 L718.714 1476.54 L718.714 1512.56 L714.455 1512.56 L714.455 1476.54 Z\" fill=\"#000000\" fill-rule=\"evenodd\" fill-opacity=\"1\" /><path clip-path=\"url(#clip110)\" d=\"M 0 0 M611.18 1539.47 L611.18 1543.45 Q609.375 1542.46 607.546 1541.97 Q605.74 1541.46 603.888 1541.46 Q599.745 1541.46 597.453 1544.1 Q595.162 1546.71 595.162 1551.46 Q595.162 1556.21 597.453 1558.84 Q599.745 1561.46 603.888 1561.46 Q605.74 1561.46 607.546 1560.97 Q609.375 1560.46 611.18 1559.47 L611.18 1563.4 Q609.398 1564.24 607.476 1564.65 Q605.578 1565.07 603.426 1565.07 Q597.569 1565.07 594.12 1561.39 Q590.671 1557.71 590.671 1551.46 Q590.671 1545.12 594.143 1541.48 Q597.639 1537.85 603.703 1537.85 Q605.671 1537.85 607.546 1538.27 Q609.421 1538.66 611.18 1539.47 Z\" fill=\"#000000\" fill-rule=\"evenodd\" fill-opacity=\"1\" /><path clip-path=\"url(#clip110)\" d=\"M 0 0 M625.694 1541.46 Q622.268 1541.46 620.277 1544.15 Q618.287 1546.81 618.287 1551.46 Q618.287 1556.11 620.254 1558.8 Q622.245 1561.46 625.694 1561.46 Q629.097 1561.46 631.087 1558.77 Q633.078 1556.09 633.078 1551.46 Q633.078 1546.85 631.087 1544.17 Q629.097 1541.46 625.694 1541.46 M625.694 1537.85 Q631.249 1537.85 634.421 1541.46 Q637.592 1545.07 637.592 1551.46 Q637.592 1557.83 634.421 1561.46 Q631.249 1565.07 625.694 1565.07 Q620.115 1565.07 616.944 1561.46 Q613.796 1557.83 613.796 1551.46 Q613.796 1545.07 616.944 1541.46 Q620.115 1537.85 625.694 1537.85 Z\" fill=\"#000000\" fill-rule=\"evenodd\" fill-opacity=\"1\" /><path clip-path=\"url(#clip110)\" d=\"M 0 0 M646.18 1560.51 L646.18 1574.26 L641.898 1574.26 L641.898 1538.47 L646.18 1538.47 L646.18 1542.41 Q647.522 1540.09 649.56 1538.98 Q651.62 1537.85 654.467 1537.85 Q659.189 1537.85 662.129 1541.6 Q665.092 1545.35 665.092 1551.46 Q665.092 1557.57 662.129 1561.32 Q659.189 1565.07 654.467 1565.07 Q651.62 1565.07 649.56 1563.96 Q647.522 1562.83 646.18 1560.51 M660.671 1551.46 Q660.671 1546.76 658.726 1544.1 Q656.805 1541.41 653.425 1541.41 Q650.046 1541.41 648.101 1544.1 Q646.18 1546.76 646.18 1551.46 Q646.18 1556.16 648.101 1558.84 Q650.046 1561.51 653.425 1561.51 Q656.805 1561.51 658.726 1558.84 Q660.671 1556.16 660.671 1551.46 Z\" fill=\"#000000\" fill-rule=\"evenodd\" fill-opacity=\"1\" /><path clip-path=\"url(#clip110)\" d=\"M 0 0 M680.346 1566.81 Q678.541 1571.44 676.828 1572.85 Q675.115 1574.26 672.245 1574.26 L668.842 1574.26 L668.842 1570.7 L671.342 1570.7 Q673.101 1570.7 674.073 1569.86 Q675.045 1569.03 676.226 1565.93 L676.99 1563.98 L666.504 1538.47 L671.018 1538.47 L679.12 1558.75 L687.221 1538.47 L691.735 1538.47 L680.346 1566.81 Z\" fill=\"#000000\" fill-rule=\"evenodd\" fill-opacity=\"1\" /><path clip-path=\"url(#clip110)\" d=\"M 0 0 M863.904 1480.66 L863.904 1485.59 Q861.543 1483.39 858.858 1482.31 Q856.196 1481.22 853.186 1481.22 Q847.26 1481.22 844.112 1484.85 Q840.964 1488.46 840.964 1495.31 Q840.964 1502.14 844.112 1505.78 Q847.26 1509.39 853.186 1509.39 Q856.196 1509.39 858.858 1508.3 Q861.543 1507.21 863.904 1505.01 L863.904 1509.9 Q861.45 1511.56 858.696 1512.4 Q855.964 1513.23 852.909 1513.23 Q845.061 1513.23 840.548 1508.44 Q836.034 1503.62 836.034 1495.31 Q836.034 1486.98 840.548 1482.19 Q845.061 1477.37 852.909 1477.37 Q856.01 1477.37 858.742 1478.21 Q861.496 1479.02 863.904 1480.66 Z\" fill=\"#000000\" fill-rule=\"evenodd\" fill-opacity=\"1\" /><path clip-path=\"url(#clip110)\" d=\"M 0 0 M889.274 1479.13 L889.274 1483.69 Q886.612 1482.42 884.251 1481.8 Q881.89 1481.17 879.691 1481.17 Q875.871 1481.17 873.788 1482.65 Q871.728 1484.13 871.728 1486.87 Q871.728 1489.16 873.094 1490.34 Q874.483 1491.5 878.325 1492.21 L881.149 1492.79 Q886.381 1493.79 888.857 1496.31 Q891.357 1498.81 891.357 1503.02 Q891.357 1508.05 887.978 1510.64 Q884.621 1513.23 878.117 1513.23 Q875.663 1513.23 872.885 1512.68 Q870.131 1512.12 867.168 1511.03 L867.168 1506.22 Q870.015 1507.81 872.746 1508.62 Q875.478 1509.43 878.117 1509.43 Q882.121 1509.43 884.297 1507.86 Q886.473 1506.29 886.473 1503.37 Q886.473 1500.82 884.899 1499.39 Q883.348 1497.95 879.783 1497.24 L876.936 1496.68 Q871.705 1495.64 869.367 1493.42 Q867.029 1491.19 867.029 1487.24 Q867.029 1482.65 870.246 1480.01 Q873.487 1477.37 879.158 1477.37 Q881.589 1477.37 884.112 1477.81 Q886.635 1478.25 889.274 1479.13 Z\" fill=\"#000000\" fill-rule=\"evenodd\" fill-opacity=\"1\" /><path clip-path=\"url(#clip110)\" d=\"M 0 0 M904.922 1512.56 L891.728 1478 L896.612 1478 L907.561 1507.1 L918.533 1478 L923.394 1478 L910.223 1512.56 L904.922 1512.56 Z\" fill=\"#000000\" fill-rule=\"evenodd\" fill-opacity=\"1\" /><path clip-path=\"url(#clip110)\" d=\"M 0 0 M922.353 1506.68 L927.237 1506.68 L927.237 1512.56 L922.353 1512.56 L922.353 1506.68 Z\" fill=\"#000000\" fill-rule=\"evenodd\" fill-opacity=\"1\" /><path clip-path=\"url(#clip110)\" d=\"M 0 0 M931.704 1486.63 L935.964 1486.63 L935.964 1513.02 Q935.964 1517.98 934.066 1520.2 Q932.191 1522.42 928.001 1522.42 L926.38 1522.42 L926.38 1518.81 L927.515 1518.81 Q929.945 1518.81 930.825 1517.68 Q931.704 1516.56 931.704 1513.02 L931.704 1486.63 M931.704 1476.54 L935.964 1476.54 L935.964 1481.94 L931.704 1481.94 L931.704 1476.54 Z\" fill=\"#000000\" fill-rule=\"evenodd\" fill-opacity=\"1\" /><path clip-path=\"url(#clip110)\" d=\"M 0 0 M940.431 1476.54 L944.69 1476.54 L944.69 1512.56 L940.431 1512.56 L940.431 1476.54 Z\" fill=\"#000000\" fill-rule=\"evenodd\" fill-opacity=\"1\" /><path clip-path=\"url(#clip110)\" d=\"M 0 0 M1101.73 1478 L1106.41 1478 L1106.41 1510.15 Q1106.41 1516.4 1104.02 1519.23 Q1101.66 1522.05 1096.41 1522.05 L1094.63 1522.05 L1094.63 1518.12 L1096.08 1518.12 Q1099.19 1518.12 1100.46 1516.38 Q1101.73 1514.64 1101.73 1510.15 L1101.73 1478 Z\" fill=\"#000000\" fill-rule=\"evenodd\" fill-opacity=\"1\" /><path clip-path=\"url(#clip110)\" d=\"M 0 0 M1115.74 1481.84 L1115.74 1508.72 L1121.38 1508.72 Q1128.54 1508.72 1131.85 1505.48 Q1135.18 1502.24 1135.18 1495.25 Q1135.18 1488.3 1131.85 1485.08 Q1128.54 1481.84 1121.38 1481.84 L1115.74 1481.84 M1111.06 1478 L1120.67 1478 Q1130.71 1478 1135.41 1482.19 Q1140.11 1486.36 1140.11 1495.25 Q1140.11 1504.18 1135.39 1508.37 Q1130.67 1512.56 1120.67 1512.56 L1111.06 1512.56 L1111.06 1478 Z\" fill=\"#000000\" fill-rule=\"evenodd\" fill-opacity=\"1\" /><path clip-path=\"url(#clip110)\" d=\"M 0 0 M1144.76 1478 L1164.63 1478 L1164.63 1481.94 L1149.44 1481.94 L1149.44 1492.12 L1163.14 1492.12 L1163.14 1496.06 L1149.44 1496.06 L1149.44 1512.56 L1144.76 1512.56 L1144.76 1478 Z\" fill=\"#000000\" fill-rule=\"evenodd\" fill-opacity=\"1\" /><path clip-path=\"url(#clip110)\" d=\"M 0 0 M1162.08 1506.68 L1166.96 1506.68 L1166.96 1512.56 L1162.08 1512.56 L1162.08 1506.68 Z\" fill=\"#000000\" fill-rule=\"evenodd\" fill-opacity=\"1\" /><path clip-path=\"url(#clip110)\" d=\"M 0 0 M1171.43 1486.63 L1175.69 1486.63 L1175.69 1513.02 Q1175.69 1517.98 1173.79 1520.2 Q1171.92 1522.42 1167.73 1522.42 L1166.11 1522.42 L1166.11 1518.81 L1167.24 1518.81 Q1169.67 1518.81 1170.55 1517.68 Q1171.43 1516.56 1171.43 1513.02 L1171.43 1486.63 M1171.43 1476.54 L1175.69 1476.54 L1175.69 1481.94 L1171.43 1481.94 L1171.43 1476.54 Z\" fill=\"#000000\" fill-rule=\"evenodd\" fill-opacity=\"1\" /><path clip-path=\"url(#clip110)\" d=\"M 0 0 M1180.16 1476.54 L1184.42 1476.54 L1184.42 1512.56 L1180.16 1512.56 L1180.16 1476.54 Z\" fill=\"#000000\" fill-rule=\"evenodd\" fill-opacity=\"1\" /><path clip-path=\"url(#clip110)\" d=\"M 0 0 M1333.02 1478 L1337.7 1478 L1337.7 1510.15 Q1337.7 1516.4 1335.31 1519.23 Q1332.95 1522.05 1327.7 1522.05 L1325.91 1522.05 L1325.91 1518.12 L1327.37 1518.12 Q1330.47 1518.12 1331.75 1516.38 Q1333.02 1514.64 1333.02 1510.15 L1333.02 1478 Z\" fill=\"#000000\" fill-rule=\"evenodd\" fill-opacity=\"1\" /><path clip-path=\"url(#clip110)\" d=\"M 0 0 M1342.35 1478 L1347.03 1478 L1347.03 1508.62 L1363.85 1508.62 L1363.85 1512.56 L1342.35 1512.56 L1342.35 1478 Z\" fill=\"#000000\" fill-rule=\"evenodd\" fill-opacity=\"1\" /><path clip-path=\"url(#clip110)\" d=\"M 0 0 M1389.22 1479.13 L1389.22 1483.69 Q1386.56 1482.42 1384.2 1481.8 Q1381.84 1481.17 1379.64 1481.17 Q1375.82 1481.17 1373.74 1482.65 Q1371.68 1484.13 1371.68 1486.87 Q1371.68 1489.16 1373.04 1490.34 Q1374.43 1491.5 1378.28 1492.21 L1381.1 1492.79 Q1386.33 1493.79 1388.81 1496.31 Q1391.31 1498.81 1391.31 1503.02 Q1391.31 1508.05 1387.93 1510.64 Q1384.57 1513.23 1378.07 1513.23 Q1375.61 1513.23 1372.84 1512.68 Q1370.08 1512.12 1367.12 1511.03 L1367.12 1506.22 Q1369.96 1507.81 1372.7 1508.62 Q1375.43 1509.43 1378.07 1509.43 Q1382.07 1509.43 1384.25 1507.86 Q1386.42 1506.29 1386.42 1503.37 Q1386.42 1500.82 1384.85 1499.39 Q1383.3 1497.95 1379.73 1497.24 L1376.89 1496.68 Q1371.65 1495.64 1369.32 1493.42 Q1366.98 1491.19 1366.98 1487.24 Q1366.98 1482.65 1370.2 1480.01 Q1373.44 1477.37 1379.11 1477.37 Q1381.54 1477.37 1384.06 1477.81 Q1386.59 1478.25 1389.22 1479.13 Z\" fill=\"#000000\" fill-rule=\"evenodd\" fill-opacity=\"1\" /><path clip-path=\"url(#clip110)\" d=\"M 0 0 M1409.99 1481.17 Q1404.9 1481.17 1401.89 1484.97 Q1398.9 1488.76 1398.9 1495.31 Q1398.9 1501.84 1401.89 1505.64 Q1404.9 1509.43 1409.99 1509.43 Q1415.08 1509.43 1418.04 1505.64 Q1421.03 1501.84 1421.03 1495.31 Q1421.03 1488.76 1418.04 1484.97 Q1415.08 1481.17 1409.99 1481.17 M1409.99 1477.37 Q1417.26 1477.37 1421.61 1482.26 Q1425.96 1487.12 1425.96 1495.31 Q1425.96 1503.49 1421.61 1508.37 Q1417.26 1513.23 1409.99 1513.23 Q1402.7 1513.23 1398.32 1508.37 Q1393.97 1503.51 1393.97 1495.31 Q1393.97 1487.12 1398.32 1482.26 Q1402.7 1477.37 1409.99 1477.37 Z\" fill=\"#000000\" fill-rule=\"evenodd\" fill-opacity=\"1\" /><path clip-path=\"url(#clip110)\" d=\"M 0 0 M1429.11 1506.68 L1433.99 1506.68 L1433.99 1512.56 L1429.11 1512.56 L1429.11 1506.68 Z\" fill=\"#000000\" fill-rule=\"evenodd\" fill-opacity=\"1\" /><path clip-path=\"url(#clip110)\" d=\"M 0 0 M1438.46 1486.63 L1442.72 1486.63 L1442.72 1513.02 Q1442.72 1517.98 1440.82 1520.2 Q1438.95 1522.42 1434.76 1522.42 L1433.14 1522.42 L1433.14 1518.81 L1434.27 1518.81 Q1436.7 1518.81 1437.58 1517.68 Q1438.46 1516.56 1438.46 1513.02 L1438.46 1486.63 M1438.46 1476.54 L1442.72 1476.54 L1442.72 1481.94 L1438.46 1481.94 L1438.46 1476.54 Z\" fill=\"#000000\" fill-rule=\"evenodd\" fill-opacity=\"1\" /><path clip-path=\"url(#clip110)\" d=\"M 0 0 M1447.19 1476.54 L1451.45 1476.54 L1451.45 1512.56 L1447.19 1512.56 L1447.19 1476.54 Z\" fill=\"#000000\" fill-rule=\"evenodd\" fill-opacity=\"1\" /><path clip-path=\"url(#clip110)\" d=\"M 0 0 M1592.6 1478 L1597.27 1478 L1597.27 1510.15 Q1597.27 1516.4 1594.89 1519.23 Q1592.53 1522.05 1587.27 1522.05 L1585.49 1522.05 L1585.49 1518.12 L1586.95 1518.12 Q1590.05 1518.12 1591.32 1516.38 Q1592.6 1514.64 1592.6 1510.15 L1592.6 1478 Z\" fill=\"#000000\" fill-rule=\"evenodd\" fill-opacity=\"1\" /><path clip-path=\"url(#clip110)\" d=\"M 0 0 M1622.64 1479.13 L1622.64 1483.69 Q1619.98 1482.42 1617.62 1481.8 Q1615.26 1481.17 1613.06 1481.17 Q1609.24 1481.17 1607.16 1482.65 Q1605.1 1484.13 1605.1 1486.87 Q1605.1 1489.16 1606.46 1490.34 Q1607.85 1491.5 1611.69 1492.21 L1614.52 1492.79 Q1619.75 1493.79 1622.23 1496.31 Q1624.73 1498.81 1624.73 1503.02 Q1624.73 1508.05 1621.35 1510.64 Q1617.99 1513.23 1611.49 1513.23 Q1609.03 1513.23 1606.25 1512.68 Q1603.5 1512.12 1600.54 1511.03 L1600.54 1506.22 Q1603.38 1507.81 1606.11 1508.62 Q1608.85 1509.43 1611.49 1509.43 Q1615.49 1509.43 1617.67 1507.86 Q1619.84 1506.29 1619.84 1503.37 Q1619.84 1500.82 1618.27 1499.39 Q1616.72 1497.95 1613.15 1497.24 L1610.3 1496.68 Q1605.07 1495.64 1602.74 1493.42 Q1600.4 1491.19 1600.4 1487.24 Q1600.4 1482.65 1603.61 1480.01 Q1606.86 1477.37 1612.53 1477.37 Q1614.96 1477.37 1617.48 1477.81 Q1620 1478.25 1622.64 1479.13 Z\" fill=\"#000000\" fill-rule=\"evenodd\" fill-opacity=\"1\" /><path clip-path=\"url(#clip110)\" d=\"M 0 0 M1643.41 1481.17 Q1638.31 1481.17 1635.3 1484.97 Q1632.32 1488.76 1632.32 1495.31 Q1632.32 1501.84 1635.3 1505.64 Q1638.31 1509.43 1643.41 1509.43 Q1648.5 1509.43 1651.46 1505.64 Q1654.45 1501.84 1654.45 1495.31 Q1654.45 1488.76 1651.46 1484.97 Q1648.5 1481.17 1643.41 1481.17 M1643.41 1477.37 Q1650.67 1477.37 1655.03 1482.26 Q1659.38 1487.12 1659.38 1495.31 Q1659.38 1503.49 1655.03 1508.37 Q1650.67 1513.23 1643.41 1513.23 Q1636.11 1513.23 1631.74 1508.37 Q1627.39 1503.51 1627.39 1495.31 Q1627.39 1487.12 1631.74 1482.26 Q1636.11 1477.37 1643.41 1477.37 Z\" fill=\"#000000\" fill-rule=\"evenodd\" fill-opacity=\"1\" /><path clip-path=\"url(#clip110)\" d=\"M 0 0 M1664.03 1478 L1670.33 1478 L1685.65 1506.91 L1685.65 1478 L1690.19 1478 L1690.19 1512.56 L1683.89 1512.56 L1668.57 1483.65 L1668.57 1512.56 L1664.03 1512.56 L1664.03 1478 Z\" fill=\"#000000\" fill-rule=\"evenodd\" fill-opacity=\"1\" /><path clip-path=\"url(#clip110)\" d=\"M 0 0 M1542.99 1551.37 Q1537.83 1551.37 1535.84 1552.55 Q1533.85 1553.73 1533.85 1556.58 Q1533.85 1558.84 1535.33 1560.19 Q1536.83 1561.51 1539.4 1561.51 Q1542.94 1561.51 1545.07 1559.01 Q1547.23 1556.48 1547.23 1552.32 L1547.23 1551.37 L1542.99 1551.37 M1551.49 1549.61 L1551.49 1564.4 L1547.23 1564.4 L1547.23 1560.46 Q1545.77 1562.83 1543.59 1563.96 Q1541.42 1565.07 1538.27 1565.07 Q1534.29 1565.07 1531.93 1562.85 Q1529.59 1560.6 1529.59 1556.85 Q1529.59 1552.48 1532.5 1550.26 Q1535.44 1548.03 1541.25 1548.03 L1547.23 1548.03 L1547.23 1547.62 Q1547.23 1544.68 1545.28 1543.08 Q1543.36 1541.46 1539.87 1541.46 Q1537.64 1541.46 1535.54 1541.99 Q1533.43 1542.52 1531.49 1543.59 L1531.49 1539.65 Q1533.82 1538.75 1536.02 1538.31 Q1538.22 1537.85 1540.3 1537.85 Q1545.93 1537.85 1548.71 1540.77 Q1551.49 1543.68 1551.49 1549.61 Z\" fill=\"#000000\" fill-rule=\"evenodd\" fill-opacity=\"1\" /><path clip-path=\"url(#clip110)\" d=\"M 0 0 M1570.98 1542.46 Q1570.26 1542.04 1569.4 1541.85 Q1568.57 1541.65 1567.55 1541.65 Q1563.94 1541.65 1561.99 1544.01 Q1560.07 1546.34 1560.07 1550.74 L1560.07 1564.4 L1555.79 1564.4 L1555.79 1538.47 L1560.07 1538.47 L1560.07 1542.5 Q1561.42 1540.14 1563.57 1539.01 Q1565.72 1537.85 1568.8 1537.85 Q1569.24 1537.85 1569.77 1537.92 Q1570.3 1537.96 1570.95 1538.08 L1570.98 1542.46 Z\" fill=\"#000000\" fill-rule=\"evenodd\" fill-opacity=\"1\" /><path clip-path=\"url(#clip110)\" d=\"M 0 0 M1589.63 1542.46 Q1588.92 1542.04 1588.06 1541.85 Q1587.23 1541.65 1586.21 1541.65 Q1582.6 1541.65 1580.65 1544.01 Q1578.73 1546.34 1578.73 1550.74 L1578.73 1564.4 L1574.45 1564.4 L1574.45 1538.47 L1578.73 1538.47 L1578.73 1542.5 Q1580.07 1540.14 1582.23 1539.01 Q1584.38 1537.85 1587.46 1537.85 Q1587.9 1537.85 1588.43 1537.92 Q1588.96 1537.96 1589.61 1538.08 L1589.63 1542.46 Z\" fill=\"#000000\" fill-rule=\"evenodd\" fill-opacity=\"1\" /><path clip-path=\"url(#clip110)\" d=\"M 0 0 M1605.88 1551.37 Q1600.72 1551.37 1598.73 1552.55 Q1596.74 1553.73 1596.74 1556.58 Q1596.74 1558.84 1598.22 1560.19 Q1599.73 1561.51 1602.3 1561.51 Q1605.84 1561.51 1607.97 1559.01 Q1610.12 1556.48 1610.12 1552.32 L1610.12 1551.37 L1605.88 1551.37 M1614.38 1549.61 L1614.38 1564.4 L1610.12 1564.4 L1610.12 1560.46 Q1608.66 1562.83 1606.49 1563.96 Q1604.31 1565.07 1601.16 1565.07 Q1597.18 1565.07 1594.82 1562.85 Q1592.48 1560.6 1592.48 1556.85 Q1592.48 1552.48 1595.4 1550.26 Q1598.34 1548.03 1604.15 1548.03 L1610.12 1548.03 L1610.12 1547.62 Q1610.12 1544.68 1608.17 1543.08 Q1606.25 1541.46 1602.76 1541.46 Q1600.54 1541.46 1598.43 1541.99 Q1596.32 1542.52 1594.38 1543.59 L1594.38 1539.65 Q1596.72 1538.75 1598.92 1538.31 Q1601.11 1537.85 1603.2 1537.85 Q1608.82 1537.85 1611.6 1540.77 Q1614.38 1543.68 1614.38 1549.61 Z\" fill=\"#000000\" fill-rule=\"evenodd\" fill-opacity=\"1\" /><path clip-path=\"url(#clip110)\" d=\"M 0 0 M1629.63 1566.81 Q1627.83 1571.44 1626.11 1572.85 Q1624.4 1574.26 1621.53 1574.26 L1618.13 1574.26 L1618.13 1570.7 L1620.63 1570.7 Q1622.39 1570.7 1623.36 1569.86 Q1624.33 1569.03 1625.51 1565.93 L1626.28 1563.98 L1615.79 1538.47 L1620.3 1538.47 L1628.41 1558.75 L1636.51 1538.47 L1641.02 1538.47 L1629.63 1566.81 Z\" fill=\"#000000\" fill-rule=\"evenodd\" fill-opacity=\"1\" /><path clip-path=\"url(#clip110)\" d=\"M 0 0 M1649.7 1531.11 L1649.7 1538.47 L1658.48 1538.47 L1658.48 1541.78 L1649.7 1541.78 L1649.7 1555.86 Q1649.7 1559.03 1650.56 1559.93 Q1651.44 1560.84 1654.1 1560.84 L1658.48 1560.84 L1658.48 1564.4 L1654.1 1564.4 Q1649.17 1564.4 1647.3 1562.57 Q1645.42 1560.72 1645.42 1555.86 L1645.42 1541.78 L1642.3 1541.78 L1642.3 1538.47 L1645.42 1538.47 L1645.42 1531.11 L1649.7 1531.11 Z\" fill=\"#000000\" fill-rule=\"evenodd\" fill-opacity=\"1\" /><path clip-path=\"url(#clip110)\" d=\"M 0 0 M1674.73 1551.37 Q1669.56 1551.37 1667.57 1552.55 Q1665.58 1553.73 1665.58 1556.58 Q1665.58 1558.84 1667.06 1560.19 Q1668.57 1561.51 1671.14 1561.51 Q1674.68 1561.51 1676.81 1559.01 Q1678.96 1556.48 1678.96 1552.32 L1678.96 1551.37 L1674.73 1551.37 M1683.22 1549.61 L1683.22 1564.4 L1678.96 1564.4 L1678.96 1560.46 Q1677.5 1562.83 1675.33 1563.96 Q1673.15 1565.07 1670 1565.07 Q1666.02 1565.07 1663.66 1562.85 Q1661.32 1560.6 1661.32 1556.85 Q1661.32 1552.48 1664.24 1550.26 Q1667.18 1548.03 1672.99 1548.03 L1678.96 1548.03 L1678.96 1547.62 Q1678.96 1544.68 1677.02 1543.08 Q1675.1 1541.46 1671.6 1541.46 Q1669.38 1541.46 1667.27 1541.99 Q1665.17 1542.52 1663.22 1543.59 L1663.22 1539.65 Q1665.56 1538.75 1667.76 1538.31 Q1669.96 1537.85 1672.04 1537.85 Q1677.67 1537.85 1680.44 1540.77 Q1683.22 1543.68 1683.22 1549.61 Z\" fill=\"#000000\" fill-rule=\"evenodd\" fill-opacity=\"1\" /><path clip-path=\"url(#clip110)\" d=\"M 0 0 M1706.3 1551.46 Q1706.3 1546.76 1704.35 1544.1 Q1702.43 1541.41 1699.05 1541.41 Q1695.67 1541.41 1693.73 1544.1 Q1691.81 1546.76 1691.81 1551.46 Q1691.81 1556.16 1693.73 1558.84 Q1695.67 1561.51 1699.05 1561.51 Q1702.43 1561.51 1704.35 1558.84 Q1706.3 1556.16 1706.3 1551.46 M1691.81 1542.41 Q1693.15 1540.09 1695.19 1538.98 Q1697.25 1537.85 1700.1 1537.85 Q1704.82 1537.85 1707.76 1541.6 Q1710.72 1545.35 1710.72 1551.46 Q1710.72 1557.57 1707.76 1561.32 Q1704.82 1565.07 1700.1 1565.07 Q1697.25 1565.07 1695.19 1563.96 Q1693.15 1562.83 1691.81 1560.51 L1691.81 1564.4 L1687.53 1564.4 L1687.53 1528.38 L1691.81 1528.38 L1691.81 1542.41 Z\" fill=\"#000000\" fill-rule=\"evenodd\" fill-opacity=\"1\" /><path clip-path=\"url(#clip110)\" d=\"M 0 0 M1715.19 1528.38 L1719.45 1528.38 L1719.45 1564.4 L1715.19 1564.4 L1715.19 1528.38 Z\" fill=\"#000000\" fill-rule=\"evenodd\" fill-opacity=\"1\" /><path clip-path=\"url(#clip110)\" d=\"M 0 0 M1746.09 1550.37 L1746.09 1552.46 L1726.51 1552.46 Q1726.79 1556.85 1729.15 1559.17 Q1731.53 1561.46 1735.77 1561.46 Q1738.22 1561.46 1740.51 1560.86 Q1742.83 1560.26 1745.1 1559.05 L1745.1 1563.08 Q1742.8 1564.05 1740.4 1564.56 Q1737.99 1565.07 1735.51 1565.07 Q1729.31 1565.07 1725.67 1561.46 Q1722.06 1557.85 1722.06 1551.69 Q1722.06 1545.33 1725.49 1541.6 Q1728.94 1537.85 1734.77 1537.85 Q1740 1537.85 1743.04 1541.23 Q1746.09 1544.59 1746.09 1550.37 M1741.83 1549.12 Q1741.79 1545.63 1739.86 1543.54 Q1737.97 1541.46 1734.82 1541.46 Q1731.25 1541.46 1729.1 1543.47 Q1726.97 1545.49 1726.65 1549.15 L1741.83 1549.12 Z\" fill=\"#000000\" fill-rule=\"evenodd\" fill-opacity=\"1\" /><path clip-path=\"url(#clip110)\" d=\"M 0 0 M1841.76 1478 L1846.43 1478 L1846.43 1510.15 Q1846.43 1516.4 1844.05 1519.23 Q1841.69 1522.05 1836.43 1522.05 L1834.65 1522.05 L1834.65 1518.12 L1836.11 1518.12 Q1839.21 1518.12 1840.48 1516.38 Q1841.76 1514.64 1841.76 1510.15 L1841.76 1478 Z\" fill=\"#000000\" fill-rule=\"evenodd\" fill-opacity=\"1\" /><path clip-path=\"url(#clip110)\" d=\"M 0 0 M1871.8 1479.13 L1871.8 1483.69 Q1869.14 1482.42 1866.78 1481.8 Q1864.42 1481.17 1862.22 1481.17 Q1858.4 1481.17 1856.32 1482.65 Q1854.26 1484.13 1854.26 1486.87 Q1854.26 1489.16 1855.62 1490.34 Q1857.01 1491.5 1860.85 1492.21 L1863.68 1492.79 Q1868.91 1493.79 1871.38 1496.31 Q1873.88 1498.81 1873.88 1503.02 Q1873.88 1508.05 1870.51 1510.64 Q1867.15 1513.23 1860.64 1513.23 Q1858.19 1513.23 1855.41 1512.68 Q1852.66 1512.12 1849.69 1511.03 L1849.69 1506.22 Q1852.54 1507.81 1855.27 1508.62 Q1858.01 1509.43 1860.64 1509.43 Q1864.65 1509.43 1866.82 1507.86 Q1869 1506.29 1869 1503.37 Q1869 1500.82 1867.43 1499.39 Q1865.88 1497.95 1862.31 1497.24 L1859.46 1496.68 Q1854.23 1495.64 1851.89 1493.42 Q1849.56 1491.19 1849.56 1487.24 Q1849.56 1482.65 1852.77 1480.01 Q1856.01 1477.37 1861.69 1477.37 Q1864.12 1477.37 1866.64 1477.81 Q1869.16 1478.25 1871.8 1479.13 Z\" fill=\"#000000\" fill-rule=\"evenodd\" fill-opacity=\"1\" /><path clip-path=\"url(#clip110)\" d=\"M 0 0 M1892.57 1481.17 Q1887.47 1481.17 1884.46 1484.97 Q1881.48 1488.76 1881.48 1495.31 Q1881.48 1501.84 1884.46 1505.64 Q1887.47 1509.43 1892.57 1509.43 Q1897.66 1509.43 1900.62 1505.64 Q1903.61 1501.84 1903.61 1495.31 Q1903.61 1488.76 1900.62 1484.97 Q1897.66 1481.17 1892.57 1481.17 M1892.57 1477.37 Q1899.83 1477.37 1904.19 1482.26 Q1908.54 1487.12 1908.54 1495.31 Q1908.54 1503.49 1904.19 1508.37 Q1899.83 1513.23 1892.57 1513.23 Q1885.27 1513.23 1880.9 1508.37 Q1876.55 1503.51 1876.55 1495.31 Q1876.55 1487.12 1880.9 1482.26 Q1885.27 1477.37 1892.57 1477.37 Z\" fill=\"#000000\" fill-rule=\"evenodd\" fill-opacity=\"1\" /><path clip-path=\"url(#clip110)\" d=\"M 0 0 M1913.19 1478 L1919.49 1478 L1934.81 1506.91 L1934.81 1478 L1939.35 1478 L1939.35 1512.56 L1933.05 1512.56 L1917.73 1483.65 L1917.73 1512.56 L1913.19 1512.56 L1913.19 1478 Z\" fill=\"#000000\" fill-rule=\"evenodd\" fill-opacity=\"1\" /><path clip-path=\"url(#clip110)\" d=\"M 0 0 M1782.74 1541.46 Q1779.31 1541.46 1777.32 1544.15 Q1775.33 1546.81 1775.33 1551.46 Q1775.33 1556.11 1777.3 1558.8 Q1779.29 1561.46 1782.74 1561.46 Q1786.14 1561.46 1788.13 1558.77 Q1790.12 1556.09 1790.12 1551.46 Q1790.12 1546.85 1788.13 1544.17 Q1786.14 1541.46 1782.74 1541.46 M1782.74 1537.85 Q1788.29 1537.85 1791.47 1541.46 Q1794.64 1545.07 1794.64 1551.46 Q1794.64 1557.83 1791.47 1561.46 Q1788.29 1565.07 1782.74 1565.07 Q1777.16 1565.07 1773.99 1561.46 Q1770.84 1557.83 1770.84 1551.46 Q1770.84 1545.07 1773.99 1541.46 Q1777.16 1537.85 1782.74 1537.85 Z\" fill=\"#000000\" fill-rule=\"evenodd\" fill-opacity=\"1\" /><path clip-path=\"url(#clip110)\" d=\"M 0 0 M1817.72 1551.46 Q1817.72 1546.76 1815.77 1544.1 Q1813.85 1541.41 1810.47 1541.41 Q1807.09 1541.41 1805.15 1544.1 Q1803.23 1546.76 1803.23 1551.46 Q1803.23 1556.16 1805.15 1558.84 Q1807.09 1561.51 1810.47 1561.51 Q1813.85 1561.51 1815.77 1558.84 Q1817.72 1556.16 1817.72 1551.46 M1803.23 1542.41 Q1804.57 1540.09 1806.6 1538.98 Q1808.67 1537.85 1811.51 1537.85 Q1816.23 1537.85 1819.17 1541.6 Q1822.14 1545.35 1822.14 1551.46 Q1822.14 1557.57 1819.17 1561.32 Q1816.23 1565.07 1811.51 1565.07 Q1808.67 1565.07 1806.6 1563.96 Q1804.57 1562.83 1803.23 1560.51 L1803.23 1564.4 L1798.94 1564.4 L1798.94 1528.38 L1803.23 1528.38 L1803.23 1542.41 Z\" fill=\"#000000\" fill-rule=\"evenodd\" fill-opacity=\"1\" /><path clip-path=\"url(#clip110)\" d=\"M 0 0 M1826.6 1538.47 L1830.86 1538.47 L1830.86 1564.86 Q1830.86 1569.82 1828.97 1572.04 Q1827.09 1574.26 1822.9 1574.26 L1821.28 1574.26 L1821.28 1570.65 L1822.42 1570.65 Q1824.85 1570.65 1825.73 1569.52 Q1826.6 1568.4 1826.6 1564.86 L1826.6 1538.47 M1826.6 1528.38 L1830.86 1528.38 L1830.86 1533.78 L1826.6 1533.78 L1826.6 1528.38 Z\" fill=\"#000000\" fill-rule=\"evenodd\" fill-opacity=\"1\" /><path clip-path=\"url(#clip110)\" d=\"M 0 0 M1857.51 1550.37 L1857.51 1552.46 L1837.92 1552.46 Q1838.2 1556.85 1840.56 1559.17 Q1842.95 1561.46 1847.18 1561.46 Q1849.64 1561.46 1851.93 1560.86 Q1854.24 1560.26 1856.51 1559.05 L1856.51 1563.08 Q1854.22 1564.05 1851.81 1564.56 Q1849.41 1565.07 1846.93 1565.07 Q1840.73 1565.07 1837.09 1561.46 Q1833.48 1557.85 1833.48 1551.69 Q1833.48 1545.33 1836.91 1541.6 Q1840.35 1537.85 1846.19 1537.85 Q1851.42 1537.85 1854.45 1541.23 Q1857.51 1544.59 1857.51 1550.37 M1853.25 1549.12 Q1853.2 1545.63 1851.28 1543.54 Q1849.38 1541.46 1846.23 1541.46 Q1842.67 1541.46 1840.52 1543.47 Q1838.39 1545.49 1838.06 1549.15 L1853.25 1549.12 Z\" fill=\"#000000\" fill-rule=\"evenodd\" fill-opacity=\"1\" /><path clip-path=\"url(#clip110)\" d=\"M 0 0 M1880.63 1539.47 L1880.63 1543.45 Q1878.83 1542.46 1877 1541.97 Q1875.19 1541.46 1873.34 1541.46 Q1869.2 1541.46 1866.91 1544.1 Q1864.61 1546.71 1864.61 1551.46 Q1864.61 1556.21 1866.91 1558.84 Q1869.2 1561.46 1873.34 1561.46 Q1875.19 1561.46 1877 1560.97 Q1878.83 1560.46 1880.63 1559.47 L1880.63 1563.4 Q1878.85 1564.24 1876.93 1564.65 Q1875.03 1565.07 1872.88 1565.07 Q1867.02 1565.07 1863.57 1561.39 Q1860.12 1557.71 1860.12 1551.46 Q1860.12 1545.12 1863.6 1541.48 Q1867.09 1537.85 1873.16 1537.85 Q1875.12 1537.85 1877 1538.27 Q1878.87 1538.66 1880.63 1539.47 Z\" fill=\"#000000\" fill-rule=\"evenodd\" fill-opacity=\"1\" /><path clip-path=\"url(#clip110)\" d=\"M 0 0 M1889.31 1531.11 L1889.31 1538.47 L1898.09 1538.47 L1898.09 1541.78 L1889.31 1541.78 L1889.31 1555.86 Q1889.31 1559.03 1890.17 1559.93 Q1891.05 1560.84 1893.71 1560.84 L1898.09 1560.84 L1898.09 1564.4 L1893.71 1564.4 Q1888.78 1564.4 1886.91 1562.57 Q1885.03 1560.72 1885.03 1555.86 L1885.03 1541.78 L1881.91 1541.78 L1881.91 1538.47 L1885.03 1538.47 L1885.03 1531.11 L1889.31 1531.11 Z\" fill=\"#000000\" fill-rule=\"evenodd\" fill-opacity=\"1\" /><path clip-path=\"url(#clip110)\" d=\"M 0 0 M1906.77 1531.11 L1906.77 1538.47 L1915.54 1538.47 L1915.54 1541.78 L1906.77 1541.78 L1906.77 1555.86 Q1906.77 1559.03 1907.62 1559.93 Q1908.5 1560.84 1911.16 1560.84 L1915.54 1560.84 L1915.54 1564.4 L1911.16 1564.4 Q1906.23 1564.4 1904.36 1562.57 Q1902.48 1560.72 1902.48 1555.86 L1902.48 1541.78 L1899.36 1541.78 L1899.36 1538.47 L1902.48 1538.47 L1902.48 1531.11 L1906.77 1531.11 Z\" fill=\"#000000\" fill-rule=\"evenodd\" fill-opacity=\"1\" /><path clip-path=\"url(#clip110)\" d=\"M 0 0 M1931.79 1551.37 Q1926.63 1551.37 1924.64 1552.55 Q1922.65 1553.73 1922.65 1556.58 Q1922.65 1558.84 1924.13 1560.19 Q1925.63 1561.51 1928.2 1561.51 Q1931.74 1561.51 1933.87 1559.01 Q1936.03 1556.48 1936.03 1552.32 L1936.03 1551.37 L1931.79 1551.37 M1940.28 1549.61 L1940.28 1564.4 L1936.03 1564.4 L1936.03 1560.46 Q1934.57 1562.83 1932.39 1563.96 Q1930.22 1565.07 1927.07 1565.07 Q1923.09 1565.07 1920.72 1562.85 Q1918.39 1560.6 1918.39 1556.85 Q1918.39 1552.48 1921.3 1550.26 Q1924.24 1548.03 1930.05 1548.03 L1936.03 1548.03 L1936.03 1547.62 Q1936.03 1544.68 1934.08 1543.08 Q1932.16 1541.46 1928.66 1541.46 Q1926.44 1541.46 1924.34 1541.99 Q1922.23 1542.52 1920.28 1543.59 L1920.28 1539.65 Q1922.62 1538.75 1924.82 1538.31 Q1927.02 1537.85 1929.1 1537.85 Q1934.73 1537.85 1937.51 1540.77 Q1940.28 1543.68 1940.28 1549.61 Z\" fill=\"#000000\" fill-rule=\"evenodd\" fill-opacity=\"1\" /><path clip-path=\"url(#clip110)\" d=\"M 0 0 M1963.36 1551.46 Q1963.36 1546.76 1961.42 1544.1 Q1959.5 1541.41 1956.12 1541.41 Q1952.74 1541.41 1950.79 1544.1 Q1948.87 1546.76 1948.87 1551.46 Q1948.87 1556.16 1950.79 1558.84 Q1952.74 1561.51 1956.12 1561.51 Q1959.5 1561.51 1961.42 1558.84 Q1963.36 1556.16 1963.36 1551.46 M1948.87 1542.41 Q1950.22 1540.09 1952.25 1538.98 Q1954.31 1537.85 1957.16 1537.85 Q1961.88 1537.85 1964.82 1541.6 Q1967.78 1545.35 1967.78 1551.46 Q1967.78 1557.57 1964.82 1561.32 Q1961.88 1565.07 1957.16 1565.07 Q1954.31 1565.07 1952.25 1563.96 Q1950.22 1562.83 1948.87 1560.51 L1948.87 1564.4 L1944.59 1564.4 L1944.59 1528.38 L1948.87 1528.38 L1948.87 1542.41 Z\" fill=\"#000000\" fill-rule=\"evenodd\" fill-opacity=\"1\" /><path clip-path=\"url(#clip110)\" d=\"M 0 0 M1972.25 1528.38 L1976.51 1528.38 L1976.51 1564.4 L1972.25 1564.4 L1972.25 1528.38 Z\" fill=\"#000000\" fill-rule=\"evenodd\" fill-opacity=\"1\" /><path clip-path=\"url(#clip110)\" d=\"M 0 0 M2003.15 1550.37 L2003.15 1552.46 L1983.57 1552.46 Q1983.85 1556.85 1986.21 1559.17 Q1988.59 1561.46 1992.83 1561.46 Q1995.28 1561.46 1997.58 1560.86 Q1999.89 1560.26 2002.16 1559.05 L2002.16 1563.08 Q1999.87 1564.05 1997.46 1564.56 Q1995.05 1565.07 1992.58 1565.07 Q1986.37 1565.07 1982.74 1561.46 Q1979.13 1557.85 1979.13 1551.69 Q1979.13 1545.33 1982.55 1541.6 Q1986 1537.85 1991.84 1537.85 Q1997.07 1537.85 2000.1 1541.23 Q2003.15 1544.59 2003.15 1550.37 M1998.9 1549.12 Q1998.85 1545.63 1996.93 1543.54 Q1995.03 1541.46 1991.88 1541.46 Q1988.32 1541.46 1986.16 1543.47 Q1984.03 1545.49 1983.71 1549.15 L1998.9 1549.12 Z\" fill=\"#000000\" fill-rule=\"evenodd\" fill-opacity=\"1\" /><path clip-path=\"url(#clip110)\" d=\"M 0 0 M2034.61 1479.13 L2034.61 1483.69 Q2031.94 1482.42 2029.58 1481.8 Q2027.22 1481.17 2025.02 1481.17 Q2021.2 1481.17 2019.12 1482.65 Q2017.06 1484.13 2017.06 1486.87 Q2017.06 1489.16 2018.43 1490.34 Q2019.82 1491.5 2023.66 1492.21 L2026.48 1492.79 Q2031.71 1493.79 2034.19 1496.31 Q2036.69 1498.81 2036.69 1503.02 Q2036.69 1508.05 2033.31 1510.64 Q2029.95 1513.23 2023.45 1513.23 Q2021 1513.23 2018.22 1512.68 Q2015.46 1512.12 2012.5 1511.03 L2012.5 1506.22 Q2015.35 1507.81 2018.08 1508.62 Q2020.81 1509.43 2023.45 1509.43 Q2027.45 1509.43 2029.63 1507.86 Q2031.81 1506.29 2031.81 1503.37 Q2031.81 1500.82 2030.23 1499.39 Q2028.68 1497.95 2025.12 1497.24 L2022.27 1496.68 Q2017.04 1495.64 2014.7 1493.42 Q2012.36 1491.19 2012.36 1487.24 Q2012.36 1482.65 2015.58 1480.01 Q2018.82 1477.37 2024.49 1477.37 Q2026.92 1477.37 2029.44 1477.81 Q2031.97 1478.25 2034.61 1479.13 Z\" fill=\"#000000\" fill-rule=\"evenodd\" fill-opacity=\"1\" /><path clip-path=\"url(#clip110)\" d=\"M 0 0 M2063.33 1498.53 L2063.33 1500.62 L2043.75 1500.62 Q2044.03 1505.01 2046.39 1507.33 Q2048.77 1509.62 2053.01 1509.62 Q2055.46 1509.62 2057.75 1509.02 Q2060.07 1508.42 2062.34 1507.21 L2062.34 1511.24 Q2060.05 1512.21 2057.64 1512.72 Q2055.23 1513.23 2052.75 1513.23 Q2046.55 1513.23 2042.92 1509.62 Q2039.31 1506.01 2039.31 1499.85 Q2039.31 1493.49 2042.73 1489.76 Q2046.18 1486.01 2052.01 1486.01 Q2057.25 1486.01 2060.28 1489.39 Q2063.33 1492.75 2063.33 1498.53 M2059.07 1497.28 Q2059.03 1493.79 2057.11 1491.7 Q2055.21 1489.62 2052.06 1489.62 Q2048.5 1489.62 2046.34 1491.63 Q2044.21 1493.65 2043.89 1497.31 L2059.07 1497.28 Z\" fill=\"#000000\" fill-rule=\"evenodd\" fill-opacity=\"1\" /><path clip-path=\"url(#clip110)\" d=\"M 0 0 M2082.82 1490.62 Q2082.11 1490.2 2081.25 1490.01 Q2080.42 1489.81 2079.4 1489.81 Q2075.79 1489.81 2073.84 1492.17 Q2071.92 1494.5 2071.92 1498.9 L2071.92 1512.56 L2067.64 1512.56 L2067.64 1486.63 L2071.92 1486.63 L2071.92 1490.66 Q2073.26 1488.3 2075.42 1487.17 Q2077.57 1486.01 2080.65 1486.01 Q2081.09 1486.01 2081.62 1486.08 Q2082.15 1486.12 2082.8 1486.24 L2082.82 1490.62 Z\" fill=\"#000000\" fill-rule=\"evenodd\" fill-opacity=\"1\" /><path clip-path=\"url(#clip110)\" d=\"M 0 0 M2087.29 1486.63 L2091.55 1486.63 L2091.55 1512.56 L2087.29 1512.56 L2087.29 1486.63 M2087.29 1476.54 L2091.55 1476.54 L2091.55 1481.94 L2087.29 1481.94 L2087.29 1476.54 Z\" fill=\"#000000\" fill-rule=\"evenodd\" fill-opacity=\"1\" /><path clip-path=\"url(#clip110)\" d=\"M 0 0 M2107.8 1499.53 Q2102.64 1499.53 2100.65 1500.71 Q2098.66 1501.89 2098.66 1504.74 Q2098.66 1507 2100.14 1508.35 Q2101.64 1509.67 2104.21 1509.67 Q2107.75 1509.67 2109.88 1507.17 Q2112.04 1504.64 2112.04 1500.48 L2112.04 1499.53 L2107.8 1499.53 M2116.3 1497.77 L2116.3 1512.56 L2112.04 1512.56 L2112.04 1508.62 Q2110.58 1510.99 2108.4 1512.12 Q2106.23 1513.23 2103.08 1513.23 Q2099.1 1513.23 2096.74 1511.01 Q2094.4 1508.76 2094.4 1505.01 Q2094.4 1500.64 2097.31 1498.42 Q2100.25 1496.19 2106.06 1496.19 L2112.04 1496.19 L2112.04 1495.78 Q2112.04 1492.84 2110.09 1491.24 Q2108.17 1489.62 2104.68 1489.62 Q2102.45 1489.62 2100.35 1490.15 Q2098.24 1490.68 2096.3 1491.75 L2096.3 1487.81 Q2098.63 1486.91 2100.83 1486.47 Q2103.03 1486.01 2105.12 1486.01 Q2110.74 1486.01 2113.52 1488.93 Q2116.3 1491.84 2116.3 1497.77 Z\" fill=\"#000000\" fill-rule=\"evenodd\" fill-opacity=\"1\" /><path clip-path=\"url(#clip110)\" d=\"M 0 0 M2120.76 1476.54 L2125.02 1476.54 L2125.02 1512.56 L2120.76 1512.56 L2120.76 1476.54 Z\" fill=\"#000000\" fill-rule=\"evenodd\" fill-opacity=\"1\" /><path clip-path=\"url(#clip110)\" d=\"M 0 0 M2129.49 1486.63 L2133.75 1486.63 L2133.75 1512.56 L2129.49 1512.56 L2129.49 1486.63 M2129.49 1476.54 L2133.75 1476.54 L2133.75 1481.94 L2129.49 1481.94 L2129.49 1476.54 Z\" fill=\"#000000\" fill-rule=\"evenodd\" fill-opacity=\"1\" /><path clip-path=\"url(#clip110)\" d=\"M 0 0 M2136.37 1486.63 L2156.6 1486.63 L2156.6 1490.52 L2140.58 1509.16 L2156.6 1509.16 L2156.6 1512.56 L2135.79 1512.56 L2135.79 1508.67 L2151.81 1490.04 L2136.37 1490.04 L2136.37 1486.63 Z\" fill=\"#000000\" fill-rule=\"evenodd\" fill-opacity=\"1\" /><path clip-path=\"url(#clip110)\" d=\"M 0 0 M2172.85 1499.53 Q2167.68 1499.53 2165.69 1500.71 Q2163.7 1501.89 2163.7 1504.74 Q2163.7 1507 2165.18 1508.35 Q2166.69 1509.67 2169.26 1509.67 Q2172.8 1509.67 2174.93 1507.17 Q2177.08 1504.64 2177.08 1500.48 L2177.08 1499.53 L2172.85 1499.53 M2181.34 1497.77 L2181.34 1512.56 L2177.08 1512.56 L2177.08 1508.62 Q2175.62 1510.99 2173.45 1512.12 Q2171.27 1513.23 2168.12 1513.23 Q2164.14 1513.23 2161.78 1511.01 Q2159.44 1508.76 2159.44 1505.01 Q2159.44 1500.64 2162.36 1498.42 Q2165.3 1496.19 2171.11 1496.19 L2177.08 1496.19 L2177.08 1495.78 Q2177.08 1492.84 2175.14 1491.24 Q2173.22 1489.62 2169.72 1489.62 Q2167.5 1489.62 2165.39 1490.15 Q2163.29 1490.68 2161.34 1491.75 L2161.34 1487.81 Q2163.68 1486.91 2165.88 1486.47 Q2168.08 1486.01 2170.16 1486.01 Q2175.79 1486.01 2178.56 1488.93 Q2181.34 1491.84 2181.34 1497.77 Z\" fill=\"#000000\" fill-rule=\"evenodd\" fill-opacity=\"1\" /><path clip-path=\"url(#clip110)\" d=\"M 0 0 M2190.02 1479.27 L2190.02 1486.63 L2198.8 1486.63 L2198.8 1489.94 L2190.02 1489.94 L2190.02 1504.02 Q2190.02 1507.19 2190.88 1508.09 Q2191.76 1509 2194.42 1509 L2198.8 1509 L2198.8 1512.56 L2194.42 1512.56 Q2189.49 1512.56 2187.62 1510.73 Q2185.74 1508.88 2185.74 1504.02 L2185.74 1489.94 L2182.62 1489.94 L2182.62 1486.63 L2185.74 1486.63 L2185.74 1479.27 L2190.02 1479.27 Z\" fill=\"#000000\" fill-rule=\"evenodd\" fill-opacity=\"1\" /><path clip-path=\"url(#clip110)\" d=\"M 0 0 M2203.26 1486.63 L2207.52 1486.63 L2207.52 1512.56 L2203.26 1512.56 L2203.26 1486.63 M2203.26 1476.54 L2207.52 1476.54 L2207.52 1481.94 L2203.26 1481.94 L2203.26 1476.54 Z\" fill=\"#000000\" fill-rule=\"evenodd\" fill-opacity=\"1\" /><path clip-path=\"url(#clip110)\" d=\"M 0 0 M2222.04 1489.62 Q2218.61 1489.62 2216.62 1492.31 Q2214.63 1494.97 2214.63 1499.62 Q2214.63 1504.27 2216.6 1506.96 Q2218.59 1509.62 2222.04 1509.62 Q2225.44 1509.62 2227.43 1506.93 Q2229.42 1504.25 2229.42 1499.62 Q2229.42 1495.01 2227.43 1492.33 Q2225.44 1489.62 2222.04 1489.62 M2222.04 1486.01 Q2227.59 1486.01 2230.76 1489.62 Q2233.93 1493.23 2233.93 1499.62 Q2233.93 1505.99 2230.76 1509.62 Q2227.59 1513.23 2222.04 1513.23 Q2216.46 1513.23 2213.29 1509.62 Q2210.14 1505.99 2210.14 1499.62 Q2210.14 1493.23 2213.29 1489.62 Q2216.46 1486.01 2222.04 1486.01 Z\" fill=\"#000000\" fill-rule=\"evenodd\" fill-opacity=\"1\" /><path clip-path=\"url(#clip110)\" d=\"M 0 0 M2259.95 1496.91 L2259.95 1512.56 L2255.69 1512.56 L2255.69 1497.05 Q2255.69 1493.37 2254.26 1491.54 Q2252.82 1489.71 2249.95 1489.71 Q2246.5 1489.71 2244.51 1491.91 Q2242.52 1494.11 2242.52 1497.91 L2242.52 1512.56 L2238.24 1512.56 L2238.24 1486.63 L2242.52 1486.63 L2242.52 1490.66 Q2244.05 1488.32 2246.11 1487.17 Q2248.19 1486.01 2250.9 1486.01 Q2255.37 1486.01 2257.66 1488.79 Q2259.95 1491.54 2259.95 1496.91 Z\" fill=\"#000000\" fill-rule=\"evenodd\" fill-opacity=\"1\" /><polyline clip-path=\"url(#clip112)\" style=\"stroke:#000000; stroke-width:2; stroke-opacity:0.1; fill:none\" points=\"\n",
       "  175.445,1417.71 2352.76,1417.71 \n",
       "  \"/>\n",
       "<polyline clip-path=\"url(#clip112)\" style=\"stroke:#000000; stroke-width:2; stroke-opacity:0.1; fill:none\" points=\"\n",
       "  175.445,1138.23 2352.76,1138.23 \n",
       "  \"/>\n",
       "<polyline clip-path=\"url(#clip112)\" style=\"stroke:#000000; stroke-width:2; stroke-opacity:0.1; fill:none\" points=\"\n",
       "  175.445,858.742 2352.76,858.742 \n",
       "  \"/>\n",
       "<polyline clip-path=\"url(#clip112)\" style=\"stroke:#000000; stroke-width:2; stroke-opacity:0.1; fill:none\" points=\"\n",
       "  175.445,579.256 2352.76,579.256 \n",
       "  \"/>\n",
       "<polyline clip-path=\"url(#clip112)\" style=\"stroke:#000000; stroke-width:2; stroke-opacity:0.1; fill:none\" points=\"\n",
       "  175.445,299.77 2352.76,299.77 \n",
       "  \"/>\n",
       "<polyline clip-path=\"url(#clip110)\" style=\"stroke:#000000; stroke-width:4; stroke-opacity:1; fill:none\" points=\"\n",
       "  175.445,1451.89 175.445,244.432 \n",
       "  \"/>\n",
       "<polyline clip-path=\"url(#clip110)\" style=\"stroke:#000000; stroke-width:4; stroke-opacity:1; fill:none\" points=\"\n",
       "  175.445,1417.71 201.573,1417.71 \n",
       "  \"/>\n",
       "<polyline clip-path=\"url(#clip110)\" style=\"stroke:#000000; stroke-width:4; stroke-opacity:1; fill:none\" points=\"\n",
       "  175.445,1138.23 201.573,1138.23 \n",
       "  \"/>\n",
       "<polyline clip-path=\"url(#clip110)\" style=\"stroke:#000000; stroke-width:4; stroke-opacity:1; fill:none\" points=\"\n",
       "  175.445,858.742 201.573,858.742 \n",
       "  \"/>\n",
       "<polyline clip-path=\"url(#clip110)\" style=\"stroke:#000000; stroke-width:4; stroke-opacity:1; fill:none\" points=\"\n",
       "  175.445,579.256 201.573,579.256 \n",
       "  \"/>\n",
       "<polyline clip-path=\"url(#clip110)\" style=\"stroke:#000000; stroke-width:4; stroke-opacity:1; fill:none\" points=\"\n",
       "  175.445,299.77 201.573,299.77 \n",
       "  \"/>\n",
       "<path clip-path=\"url(#clip110)\" d=\"M 0 0 M127.501 1403.51 Q123.89 1403.51 122.061 1407.08 Q120.255 1410.62 120.255 1417.75 Q120.255 1424.86 122.061 1428.42 Q123.89 1431.96 127.501 1431.96 Q131.135 1431.96 132.941 1428.42 Q134.769 1424.86 134.769 1417.75 Q134.769 1410.62 132.941 1407.08 Q131.135 1403.51 127.501 1403.51 M127.501 1399.81 Q133.311 1399.81 136.367 1404.42 Q139.445 1409 139.445 1417.75 Q139.445 1426.48 136.367 1431.08 Q133.311 1435.67 127.501 1435.67 Q121.691 1435.67 118.612 1431.08 Q115.556 1426.48 115.556 1417.75 Q115.556 1409 118.612 1404.42 Q121.691 1399.81 127.501 1399.81 Z\" fill=\"#000000\" fill-rule=\"evenodd\" fill-opacity=\"1\" /><path clip-path=\"url(#clip110)\" d=\"M 0 0 M119.538 1151.57 L127.177 1151.57 L127.177 1125.21 L118.867 1126.87 L118.867 1122.62 L127.13 1120.95 L131.806 1120.95 L131.806 1151.57 L139.445 1151.57 L139.445 1155.51 L119.538 1155.51 L119.538 1151.57 Z\" fill=\"#000000\" fill-rule=\"evenodd\" fill-opacity=\"1\" /><path clip-path=\"url(#clip110)\" d=\"M 0 0 M123.126 872.087 L139.445 872.087 L139.445 876.022 L117.501 876.022 L117.501 872.087 Q120.163 869.332 124.746 864.703 Q129.353 860.05 130.533 858.707 Q132.779 856.184 133.658 854.448 Q134.561 852.689 134.561 850.999 Q134.561 848.245 132.617 846.508 Q130.695 844.772 127.593 844.772 Q125.394 844.772 122.941 845.536 Q120.51 846.3 117.732 847.851 L117.732 843.129 Q120.556 841.995 123.01 841.416 Q125.464 840.837 127.501 840.837 Q132.871 840.837 136.066 843.522 Q139.26 846.208 139.26 850.698 Q139.26 852.828 138.45 854.749 Q137.663 856.647 135.556 859.24 Q134.978 859.911 131.876 863.129 Q128.774 866.323 123.126 872.087 Z\" fill=\"#000000\" fill-rule=\"evenodd\" fill-opacity=\"1\" /><path clip-path=\"url(#clip110)\" d=\"M 0 0 M132.316 577.902 Q135.672 578.619 137.547 580.888 Q139.445 583.156 139.445 586.49 Q139.445 591.605 135.927 594.406 Q132.408 597.207 125.927 597.207 Q123.751 597.207 121.436 596.767 Q119.144 596.351 116.691 595.494 L116.691 590.98 Q118.635 592.115 120.95 592.693 Q123.265 593.272 125.788 593.272 Q130.186 593.272 132.478 591.536 Q134.792 589.8 134.792 586.49 Q134.792 583.434 132.64 581.721 Q130.51 579.985 126.691 579.985 L122.663 579.985 L122.663 576.143 L126.876 576.143 Q130.325 576.143 132.154 574.777 Q133.982 573.388 133.982 570.795 Q133.982 568.133 132.084 566.721 Q130.209 565.286 126.691 565.286 Q124.769 565.286 122.57 565.703 Q120.371 566.119 117.732 566.999 L117.732 562.832 Q120.394 562.092 122.709 561.721 Q125.047 561.351 127.107 561.351 Q132.431 561.351 135.533 563.782 Q138.635 566.189 138.635 570.309 Q138.635 573.18 136.992 575.17 Q135.348 577.138 132.316 577.902 Z\" fill=\"#000000\" fill-rule=\"evenodd\" fill-opacity=\"1\" /><path clip-path=\"url(#clip110)\" d=\"M 0 0 M129.862 286.564 L118.056 305.013 L129.862 305.013 L129.862 286.564 M128.635 282.49 L134.515 282.49 L134.515 305.013 L139.445 305.013 L139.445 308.902 L134.515 308.902 L134.515 317.05 L129.862 317.05 L129.862 308.902 L114.26 308.902 L114.26 304.388 L128.635 282.49 Z\" fill=\"#000000\" fill-rule=\"evenodd\" fill-opacity=\"1\" /><path clip-path=\"url(#clip110)\" d=\"M 0 0 M42.0438 922.289 L48.314 922.289 Q46.5634 925.949 45.704 929.195 Q44.8447 932.442 44.8447 935.466 Q44.8447 940.717 46.8817 943.582 Q48.9187 946.415 52.6745 946.415 Q55.8255 946.415 57.4488 944.537 Q59.0402 942.627 60.0269 937.344 L60.8226 933.46 Q62.1912 926.267 65.6605 922.862 Q69.098 919.424 74.8908 919.424 Q81.7976 919.424 85.3624 924.071 Q88.9272 928.686 88.9272 937.63 Q88.9272 941.004 88.1633 944.823 Q87.3994 948.611 85.9035 952.685 L79.2831 952.685 Q81.4793 948.77 82.5933 945.014 Q83.7073 941.258 83.7073 937.63 Q83.7073 932.124 81.543 929.132 Q79.3786 926.14 75.3682 926.14 Q71.8671 926.14 69.8937 928.304 Q67.9204 930.437 66.9337 935.338 L66.1698 939.253 Q64.7375 946.447 61.682 949.661 Q58.6264 952.876 53.1837 952.876 Q46.8817 952.876 43.2532 948.452 Q39.6248 943.996 39.6248 936.198 Q39.6248 932.856 40.2295 929.386 Q40.8343 925.917 42.0438 922.289 Z\" fill=\"#000000\" fill-rule=\"evenodd\" fill-opacity=\"1\" /><path clip-path=\"url(#clip110)\" d=\"M 0 0 M68.7161 882.789 L71.5806 882.789 L71.5806 909.716 Q77.6281 909.334 80.8109 906.088 Q83.9619 902.81 83.9619 896.985 Q83.9619 893.611 83.1344 890.46 Q82.3069 887.277 80.6518 884.158 L86.1899 884.158 Q87.5267 887.309 88.227 890.619 Q88.9272 893.929 88.9272 897.335 Q88.9272 905.865 83.9619 910.862 Q78.9967 915.827 70.5303 915.827 Q61.7774 915.827 56.6531 911.117 Q51.4968 906.374 51.4968 898.354 Q51.4968 891.16 56.1438 886.991 Q60.7589 882.789 68.7161 882.789 M66.9973 888.646 Q62.1912 888.71 59.3266 891.351 Q56.4621 893.961 56.4621 898.29 Q56.4621 903.192 59.2312 906.152 Q62.0002 909.08 67.0292 909.525 L66.9973 888.646 Z\" fill=\"#000000\" fill-rule=\"evenodd\" fill-opacity=\"1\" /><path clip-path=\"url(#clip110)\" d=\"M 0 0 M53.7248 850.993 L59.1993 850.993 Q57.8307 853.475 57.1623 855.99 Q56.4621 858.472 56.4621 861.019 Q56.4621 866.716 60.0905 869.867 Q63.6872 873.018 70.212 873.018 Q76.7369 873.018 80.3653 869.867 Q83.9619 866.716 83.9619 861.019 Q83.9619 858.472 83.2935 855.99 Q82.5933 853.475 81.2247 850.993 L86.6355 850.993 Q87.7814 853.444 88.3543 856.085 Q88.9272 858.695 88.9272 861.655 Q88.9272 869.708 83.8664 874.45 Q78.8057 879.193 70.212 879.193 Q61.491 879.193 56.4939 874.419 Q51.4968 869.612 51.4968 861.273 Q51.4968 858.568 52.0697 855.99 Q52.6108 853.412 53.7248 850.993 Z\" fill=\"#000000\" fill-rule=\"evenodd\" fill-opacity=\"1\" /><path clip-path=\"url(#clip110)\" d=\"M 0 0 M56.4621 831.036 Q56.4621 835.747 60.1542 838.484 Q63.8145 841.221 70.212 841.221 Q76.6095 841.221 80.3017 838.516 Q83.9619 835.779 83.9619 831.036 Q83.9619 826.357 80.2698 823.62 Q76.5777 820.883 70.212 820.883 Q63.8781 820.883 60.186 823.62 Q56.4621 826.357 56.4621 831.036 M51.4968 831.036 Q51.4968 823.397 56.4621 819.037 Q61.4273 814.676 70.212 814.676 Q78.9649 814.676 83.9619 819.037 Q88.9272 823.397 88.9272 831.036 Q88.9272 838.707 83.9619 843.067 Q78.9649 847.396 70.212 847.396 Q61.4273 847.396 56.4621 843.067 Q51.4968 838.707 51.4968 831.036 Z\" fill=\"#000000\" fill-rule=\"evenodd\" fill-opacity=\"1\" /><path clip-path=\"url(#clip110)\" d=\"M 0 0 M66.4881 778.901 L88.0042 778.901 L88.0042 784.758 L66.679 784.758 Q61.6183 784.758 59.1038 786.731 Q56.5894 788.704 56.5894 792.651 Q56.5894 797.393 59.6131 800.131 Q62.6368 802.868 67.8567 802.868 L88.0042 802.868 L88.0042 808.756 L52.3562 808.756 L52.3562 802.868 L57.8944 802.868 Q54.6797 800.767 53.0883 797.935 Q51.4968 795.07 51.4968 791.346 Q51.4968 785.203 55.3163 782.052 Q59.1038 778.901 66.4881 778.901 Z\" fill=\"#000000\" fill-rule=\"evenodd\" fill-opacity=\"1\" /><path clip-path=\"url(#clip110)\" d=\"M 0 0 M57.7671 749.301 L38.479 749.301 L38.479 743.444 L88.0042 743.444 L88.0042 749.301 L82.657 749.301 Q85.8398 751.147 87.3994 753.979 Q88.9272 756.78 88.9272 760.727 Q88.9272 767.188 83.771 771.262 Q78.6147 775.304 70.212 775.304 Q61.8093 775.304 56.6531 771.262 Q51.4968 767.188 51.4968 760.727 Q51.4968 756.78 53.0564 753.979 Q54.5842 751.147 57.7671 749.301 M70.212 769.257 Q76.6732 769.257 80.3653 766.615 Q84.0256 763.942 84.0256 759.295 Q84.0256 754.648 80.3653 751.974 Q76.6732 749.301 70.212 749.301 Q63.7508 749.301 60.0905 751.974 Q56.3984 754.648 56.3984 759.295 Q56.3984 763.942 60.0905 766.615 Q63.7508 769.257 70.212 769.257 Z\" fill=\"#000000\" fill-rule=\"evenodd\" fill-opacity=\"1\" /><path clip-path=\"url(#clip110)\" d=\"M 0 0 M948.211 44.2197 Q950.844 45.1109 953.315 48.0275 Q955.827 50.9442 958.338 56.0483 L966.643 72.576 L957.852 72.576 L950.115 57.061 Q947.117 50.9847 944.282 48.9997 Q941.487 47.0148 936.625 47.0148 L927.713 47.0148 L927.713 72.576 L919.531 72.576 L919.531 12.096 L938.003 12.096 Q948.373 12.096 953.477 16.4305 Q958.581 20.7649 958.581 29.5149 Q958.581 35.2267 955.908 38.994 Q953.275 42.7613 948.211 44.2197 M927.713 18.8205 L927.713 40.2903 L938.003 40.2903 Q943.917 40.2903 946.915 37.5762 Q949.953 34.8216 949.953 29.5149 Q949.953 24.2082 946.915 21.5346 Q943.917 18.8205 938.003 18.8205 L927.713 18.8205 Z\" fill=\"#000000\" fill-rule=\"evenodd\" fill-opacity=\"1\" /><path clip-path=\"url(#clip110)\" d=\"M 0 0 M1009.54 48.0275 L1009.54 51.6733 L975.271 51.6733 Q975.757 59.3701 979.889 63.421 Q984.062 67.4314 991.475 67.4314 Q995.769 67.4314 999.779 66.3781 Q1003.83 65.3249 1007.8 63.2184 L1007.8 70.267 Q1003.79 71.9684 999.577 72.8596 Q995.364 73.7508 991.029 73.7508 Q980.173 73.7508 973.813 67.4314 Q967.493 61.1119 967.493 50.3365 Q967.493 39.1965 973.489 32.6746 Q979.525 26.1121 989.733 26.1121 Q998.888 26.1121 1004.19 32.0264 Q1009.54 37.9003 1009.54 48.0275 M1002.09 45.84 Q1002.01 39.7232 998.645 36.0774 Q995.323 32.4315 989.814 32.4315 Q983.575 32.4315 979.808 35.9558 Q976.081 39.4801 975.514 45.8805 L1002.09 45.84 Z\" fill=\"#000000\" fill-rule=\"evenodd\" fill-opacity=\"1\" /><path clip-path=\"url(#clip110)\" d=\"M 0 0 M1037.98 49.7694 Q1028.95 49.7694 1025.46 51.8354 Q1021.98 53.9013 1021.98 58.8839 Q1021.98 62.8538 1024.57 65.2034 Q1027.2 67.5124 1031.7 67.5124 Q1037.9 67.5124 1041.62 63.1374 Q1045.39 58.7219 1045.39 51.4303 L1045.39 49.7694 L1037.98 49.7694 M1052.85 46.6907 L1052.85 72.576 L1045.39 72.576 L1045.39 65.6895 Q1042.84 69.8214 1039.03 71.8063 Q1035.22 73.7508 1029.72 73.7508 Q1022.75 73.7508 1018.62 69.8619 Q1014.52 65.9325 1014.52 59.3701 Q1014.52 51.7138 1019.63 47.825 Q1024.77 43.9361 1034.94 43.9361 L1045.39 43.9361 L1045.39 43.2069 Q1045.39 38.0623 1041.99 35.2672 Q1038.63 32.4315 1032.51 32.4315 Q1028.62 32.4315 1024.94 33.3632 Q1021.25 34.295 1017.85 36.1584 L1017.85 29.2718 Q1021.94 27.692 1025.79 26.9223 Q1029.63 26.1121 1033.28 26.1121 Q1043.12 26.1121 1047.98 31.2163 Q1052.85 36.3204 1052.85 46.6907 Z\" fill=\"#000000\" fill-rule=\"evenodd\" fill-opacity=\"1\" /><path clip-path=\"url(#clip110)\" d=\"M 0 0 M1090.52 34.0924 L1090.52 9.54393 L1097.97 9.54393 L1097.97 72.576 L1090.52 72.576 L1090.52 65.7705 Q1088.17 69.8214 1084.56 71.8063 Q1081 73.7508 1075.98 73.7508 Q1067.75 73.7508 1062.57 67.1883 Q1057.42 60.6258 1057.42 49.9314 Q1057.42 39.2371 1062.57 32.6746 Q1067.75 26.1121 1075.98 26.1121 Q1081 26.1121 1084.56 28.0971 Q1088.17 30.0415 1090.52 34.0924 M1065.12 49.9314 Q1065.12 58.1548 1068.48 62.8538 Q1071.89 67.5124 1077.8 67.5124 Q1083.71 67.5124 1087.12 62.8538 Q1090.52 58.1548 1090.52 49.9314 Q1090.52 41.7081 1087.12 37.0496 Q1083.71 32.3505 1077.8 32.3505 Q1071.89 32.3505 1068.48 37.0496 Q1065.12 41.7081 1065.12 49.9314 Z\" fill=\"#000000\" fill-rule=\"evenodd\" fill-opacity=\"1\" /><path clip-path=\"url(#clip110)\" d=\"M 0 0 M1140.67 18.8205 L1140.67 41.5461 L1150.96 41.5461 Q1156.67 41.5461 1159.79 38.5889 Q1162.91 35.6318 1162.91 30.163 Q1162.91 24.7348 1159.79 21.7777 Q1156.67 18.8205 1150.96 18.8205 L1140.67 18.8205 M1132.49 12.096 L1150.96 12.096 Q1161.13 12.096 1166.31 16.714 Q1171.54 21.2916 1171.54 30.163 Q1171.54 39.1155 1166.31 43.6931 Q1161.13 48.2706 1150.96 48.2706 L1140.67 48.2706 L1140.67 72.576 L1132.49 72.576 L1132.49 12.096 Z\" fill=\"#000000\" fill-rule=\"evenodd\" fill-opacity=\"1\" /><path clip-path=\"url(#clip110)\" d=\"M 0 0 M1215.21 48.0275 L1215.21 51.6733 L1180.94 51.6733 Q1181.42 59.3701 1185.55 63.421 Q1189.73 67.4314 1197.14 67.4314 Q1201.43 67.4314 1205.44 66.3781 Q1209.49 65.3249 1213.46 63.2184 L1213.46 70.267 Q1209.45 71.9684 1205.24 72.8596 Q1201.03 73.7508 1196.69 73.7508 Q1185.84 73.7508 1179.48 67.4314 Q1173.16 61.1119 1173.16 50.3365 Q1173.16 39.1965 1179.15 32.6746 Q1185.19 26.1121 1195.4 26.1121 Q1204.55 26.1121 1209.86 32.0264 Q1215.21 37.9003 1215.21 48.0275 M1207.75 45.84 Q1207.67 39.7232 1204.31 36.0774 Q1200.99 32.4315 1195.48 32.4315 Q1189.24 32.4315 1185.47 35.9558 Q1181.75 39.4801 1181.18 45.8805 L1207.75 45.84 Z\" fill=\"#000000\" fill-rule=\"evenodd\" fill-opacity=\"1\" /><path clip-path=\"url(#clip110)\" d=\"M 0 0 M1249.31 34.1734 Q1248.06 33.4443 1246.56 33.1202 Q1245.1 32.7556 1243.32 32.7556 Q1237 32.7556 1233.6 36.8875 Q1230.23 40.9789 1230.23 48.6757 L1230.23 72.576 L1222.74 72.576 L1222.74 27.2059 L1230.23 27.2059 L1230.23 34.2544 Q1232.58 30.1225 1236.35 28.1376 Q1240.12 26.1121 1245.51 26.1121 Q1246.28 26.1121 1247.21 26.2337 Q1248.14 26.3147 1249.27 26.5172 L1249.31 34.1734 Z\" fill=\"#000000\" fill-rule=\"evenodd\" fill-opacity=\"1\" /><path clip-path=\"url(#clip110)\" d=\"M 0 0 M1280.1 9.54393 L1280.1 15.7418 L1272.97 15.7418 Q1268.96 15.7418 1267.38 17.3622 Q1265.84 18.9825 1265.84 23.1955 L1265.84 27.2059 L1278.12 27.2059 L1278.12 32.9987 L1265.84 32.9987 L1265.84 72.576 L1258.35 72.576 L1258.35 32.9987 L1251.22 32.9987 L1251.22 27.2059 L1258.35 27.2059 L1258.35 24.0462 Q1258.35 16.471 1261.87 13.0277 Q1265.4 9.54393 1273.05 9.54393 L1280.1 9.54393 Z\" fill=\"#000000\" fill-rule=\"evenodd\" fill-opacity=\"1\" /><path clip-path=\"url(#clip110)\" d=\"M 0 0 M1305.5 32.4315 Q1299.51 32.4315 1296.02 37.1306 Q1292.54 41.7891 1292.54 49.9314 Q1292.54 58.0738 1295.98 62.7728 Q1299.46 67.4314 1305.5 67.4314 Q1311.46 67.4314 1314.94 62.7323 Q1318.42 58.0333 1318.42 49.9314 Q1318.42 41.8701 1314.94 37.1711 Q1311.46 32.4315 1305.5 32.4315 M1305.5 26.1121 Q1315.22 26.1121 1320.77 32.4315 Q1326.32 38.7509 1326.32 49.9314 Q1326.32 61.0714 1320.77 67.4314 Q1315.22 73.7508 1305.5 73.7508 Q1295.74 73.7508 1290.19 67.4314 Q1284.68 61.0714 1284.68 49.9314 Q1284.68 38.7509 1290.19 32.4315 Q1295.74 26.1121 1305.5 26.1121 Z\" fill=\"#000000\" fill-rule=\"evenodd\" fill-opacity=\"1\" /><path clip-path=\"url(#clip110)\" d=\"M 0 0 M1360.43 34.1734 Q1359.18 33.4443 1357.68 33.1202 Q1356.22 32.7556 1354.44 32.7556 Q1348.12 32.7556 1344.71 36.8875 Q1341.35 40.9789 1341.35 48.6757 L1341.35 72.576 L1333.86 72.576 L1333.86 27.2059 L1341.35 27.2059 L1341.35 34.2544 Q1343.7 30.1225 1347.47 28.1376 Q1351.24 26.1121 1356.62 26.1121 Q1357.39 26.1121 1358.32 26.2337 Q1359.26 26.3147 1360.39 26.5172 L1360.43 34.1734 Z\" fill=\"#000000\" fill-rule=\"evenodd\" fill-opacity=\"1\" /><path clip-path=\"url(#clip110)\" d=\"M 0 0 M1402.11 35.9153 Q1404.91 30.8922 1408.8 28.5022 Q1412.69 26.1121 1417.95 26.1121 Q1425.04 26.1121 1428.89 31.0947 Q1432.74 36.0368 1432.74 45.1919 L1432.74 72.576 L1425.25 72.576 L1425.25 45.4349 Q1425.25 38.913 1422.94 35.7533 Q1420.63 32.5936 1415.89 32.5936 Q1410.1 32.5936 1406.73 36.4419 Q1403.37 40.2903 1403.37 46.9338 L1403.37 72.576 L1395.88 72.576 L1395.88 45.4349 Q1395.88 38.8725 1393.57 35.7533 Q1391.26 32.5936 1386.44 32.5936 Q1380.73 32.5936 1377.36 36.4824 Q1374 40.3308 1374 46.9338 L1374 72.576 L1366.51 72.576 L1366.51 27.2059 L1374 27.2059 L1374 34.2544 Q1376.55 30.082 1380.12 28.0971 Q1383.68 26.1121 1388.58 26.1121 Q1393.53 26.1121 1396.97 28.6237 Q1400.45 31.1352 1402.11 35.9153 Z\" fill=\"#000000\" fill-rule=\"evenodd\" fill-opacity=\"1\" /><path clip-path=\"url(#clip110)\" d=\"M 0 0 M1461.18 49.7694 Q1452.14 49.7694 1448.66 51.8354 Q1445.18 53.9013 1445.18 58.8839 Q1445.18 62.8538 1447.77 65.2034 Q1450.4 67.5124 1454.9 67.5124 Q1461.1 67.5124 1464.82 63.1374 Q1468.59 58.7219 1468.59 51.4303 L1468.59 49.7694 L1461.18 49.7694 M1476.04 46.6907 L1476.04 72.576 L1468.59 72.576 L1468.59 65.6895 Q1466.04 69.8214 1462.23 71.8063 Q1458.42 73.7508 1452.91 73.7508 Q1445.95 73.7508 1441.81 69.8619 Q1437.72 65.9325 1437.72 59.3701 Q1437.72 51.7138 1442.83 47.825 Q1447.97 43.9361 1458.14 43.9361 L1468.59 43.9361 L1468.59 43.2069 Q1468.59 38.0623 1465.19 35.2672 Q1461.83 32.4315 1455.71 32.4315 Q1451.82 32.4315 1448.13 33.3632 Q1444.45 34.295 1441.04 36.1584 L1441.04 29.2718 Q1445.14 27.692 1448.98 26.9223 Q1452.83 26.1121 1456.48 26.1121 Q1466.32 26.1121 1471.18 31.2163 Q1476.04 36.3204 1476.04 46.6907 Z\" fill=\"#000000\" fill-rule=\"evenodd\" fill-opacity=\"1\" /><path clip-path=\"url(#clip110)\" d=\"M 0 0 M1521.58 45.1919 L1521.58 72.576 L1514.12 72.576 L1514.12 45.4349 Q1514.12 38.994 1511.61 35.7938 Q1509.1 32.5936 1504.08 32.5936 Q1498.04 32.5936 1494.56 36.4419 Q1491.07 40.2903 1491.07 46.9338 L1491.07 72.576 L1483.58 72.576 L1483.58 27.2059 L1491.07 27.2059 L1491.07 34.2544 Q1493.75 30.163 1497.35 28.1376 Q1501 26.1121 1505.74 26.1121 Q1513.56 26.1121 1517.57 30.9732 Q1521.58 35.7938 1521.58 45.1919 Z\" fill=\"#000000\" fill-rule=\"evenodd\" fill-opacity=\"1\" /><path clip-path=\"url(#clip110)\" d=\"M 0 0 M1562.04 28.9478 L1562.04 35.9153 Q1558.88 34.1734 1555.68 33.3227 Q1552.52 32.4315 1549.28 32.4315 Q1542.03 32.4315 1538.02 37.0496 Q1534.01 41.6271 1534.01 49.9314 Q1534.01 58.2358 1538.02 62.8538 Q1542.03 67.4314 1549.28 67.4314 Q1552.52 67.4314 1555.68 66.5807 Q1558.88 65.6895 1562.04 63.9476 L1562.04 70.8341 Q1558.93 72.2924 1555.56 73.0216 Q1552.24 73.7508 1548.47 73.7508 Q1538.23 73.7508 1532.19 67.3098 Q1526.15 60.8689 1526.15 49.9314 Q1526.15 38.832 1532.23 32.472 Q1538.35 26.1121 1548.96 26.1121 Q1552.4 26.1121 1555.68 26.8413 Q1558.97 27.5299 1562.04 28.9478 Z\" fill=\"#000000\" fill-rule=\"evenodd\" fill-opacity=\"1\" /><path clip-path=\"url(#clip110)\" d=\"M 0 0 M1608.67 48.0275 L1608.67 51.6733 L1574.4 51.6733 Q1574.89 59.3701 1579.02 63.421 Q1583.19 67.4314 1590.6 67.4314 Q1594.9 67.4314 1598.91 66.3781 Q1602.96 65.3249 1606.93 63.2184 L1606.93 70.267 Q1602.92 71.9684 1598.71 72.8596 Q1594.49 73.7508 1590.16 73.7508 Q1579.3 73.7508 1572.94 67.4314 Q1566.62 61.1119 1566.62 50.3365 Q1566.62 39.1965 1572.62 32.6746 Q1578.65 26.1121 1588.86 26.1121 Q1598.02 26.1121 1603.32 32.0264 Q1608.67 37.9003 1608.67 48.0275 M1601.22 45.84 Q1601.14 39.7232 1597.77 36.0774 Q1594.45 32.4315 1588.94 32.4315 Q1582.7 32.4315 1578.94 35.9558 Q1575.21 39.4801 1574.64 45.8805 L1601.22 45.84 Z\" fill=\"#000000\" fill-rule=\"evenodd\" fill-opacity=\"1\" /><path clip-path=\"url(#clip110)\" d=\"M 0 0 M956.414 109.541 L956.414 156.571 L966.298 156.571 Q978.816 156.571 984.608 150.9 Q990.442 145.229 990.442 132.995 Q990.442 120.843 984.608 115.212 Q978.816 109.541 966.298 109.541 L956.414 109.541 M948.231 102.816 L965.043 102.816 Q982.623 102.816 990.847 110.148 Q999.07 117.44 999.07 132.995 Q999.07 148.632 990.806 155.964 Q982.542 163.296 965.043 163.296 L948.231 163.296 L948.231 102.816 Z\" fill=\"#000000\" fill-rule=\"evenodd\" fill-opacity=\"1\" /><path clip-path=\"url(#clip110)\" d=\"M 0 0 M1027.51 140.489 Q1018.47 140.489 1014.99 142.555 Q1011.51 144.621 1011.51 149.604 Q1011.51 153.574 1014.1 155.923 Q1016.73 158.232 1021.23 158.232 Q1027.43 158.232 1031.15 153.857 Q1034.92 149.442 1034.92 142.15 L1034.92 140.489 L1027.51 140.489 M1042.37 137.411 L1042.37 163.296 L1034.92 163.296 L1034.92 156.409 Q1032.37 160.541 1028.56 162.526 Q1024.75 164.471 1019.24 164.471 Q1012.28 164.471 1008.14 160.582 Q1004.05 156.653 1004.05 150.09 Q1004.05 142.434 1009.16 138.545 Q1014.3 134.656 1024.47 134.656 L1034.92 134.656 L1034.92 133.927 Q1034.92 128.782 1031.52 125.987 Q1028.16 123.152 1022.04 123.152 Q1018.15 123.152 1014.46 124.083 Q1010.78 125.015 1007.37 126.878 L1007.37 119.992 Q1011.47 118.412 1015.31 117.642 Q1019.16 116.832 1022.81 116.832 Q1032.65 116.832 1037.51 121.936 Q1042.37 127.04 1042.37 137.411 Z\" fill=\"#000000\" fill-rule=\"evenodd\" fill-opacity=\"1\" /><path clip-path=\"url(#clip110)\" d=\"M 0 0 M1057.57 105.044 L1057.57 117.926 L1072.92 117.926 L1072.92 123.719 L1057.57 123.719 L1057.57 148.348 Q1057.57 153.898 1059.06 155.478 Q1060.6 157.058 1065.26 157.058 L1072.92 157.058 L1072.92 163.296 L1065.26 163.296 Q1056.63 163.296 1053.35 160.096 Q1050.07 156.855 1050.07 148.348 L1050.07 123.719 L1044.6 123.719 L1044.6 117.926 L1050.07 117.926 L1050.07 105.044 L1057.57 105.044 Z\" fill=\"#000000\" fill-rule=\"evenodd\" fill-opacity=\"1\" /><path clip-path=\"url(#clip110)\" d=\"M 0 0 M1101.36 140.489 Q1092.32 140.489 1088.84 142.555 Q1085.35 144.621 1085.35 149.604 Q1085.35 153.574 1087.95 155.923 Q1090.58 158.232 1095.08 158.232 Q1101.27 158.232 1105 153.857 Q1108.77 149.442 1108.77 142.15 L1108.77 140.489 L1101.36 140.489 M1116.22 137.411 L1116.22 163.296 L1108.77 163.296 L1108.77 156.409 Q1106.22 160.541 1102.41 162.526 Q1098.6 164.471 1093.09 164.471 Q1086.12 164.471 1081.99 160.582 Q1077.9 156.653 1077.9 150.09 Q1077.9 142.434 1083 138.545 Q1088.15 134.656 1098.32 134.656 L1108.77 134.656 L1108.77 133.927 Q1108.77 128.782 1105.37 125.987 Q1102 123.152 1095.89 123.152 Q1092 123.152 1088.31 124.083 Q1084.63 125.015 1081.22 126.878 L1081.22 119.992 Q1085.31 118.412 1089.16 117.642 Q1093.01 116.832 1096.66 116.832 Q1106.5 116.832 1111.36 121.936 Q1116.22 127.04 1116.22 137.411 Z\" fill=\"#000000\" fill-rule=\"evenodd\" fill-opacity=\"1\" /><path clip-path=\"url(#clip110)\" d=\"M 0 0 M1124.36 102.816 L1159.12 102.816 L1159.12 109.703 L1132.55 109.703 L1132.55 127.527 L1156.53 127.527 L1156.53 134.413 L1132.55 134.413 L1132.55 163.296 L1124.36 163.296 L1124.36 102.816 Z\" fill=\"#000000\" fill-rule=\"evenodd\" fill-opacity=\"1\" /><path clip-path=\"url(#clip110)\" d=\"M 0 0 M1187.19 124.893 Q1185.94 124.164 1184.44 123.84 Q1182.98 123.476 1181.2 123.476 Q1174.88 123.476 1171.48 127.608 Q1168.11 131.699 1168.11 139.396 L1168.11 163.296 L1160.62 163.296 L1160.62 117.926 L1168.11 117.926 L1168.11 124.974 Q1170.46 120.843 1174.23 118.858 Q1178 116.832 1183.39 116.832 Q1184.16 116.832 1185.09 116.954 Q1186.02 117.035 1187.15 117.237 L1187.19 124.893 Z\" fill=\"#000000\" fill-rule=\"evenodd\" fill-opacity=\"1\" /><path clip-path=\"url(#clip110)\" d=\"M 0 0 M1215.63 140.489 Q1206.6 140.489 1203.11 142.555 Q1199.63 144.621 1199.63 149.604 Q1199.63 153.574 1202.22 155.923 Q1204.86 158.232 1209.35 158.232 Q1215.55 158.232 1219.28 153.857 Q1223.04 149.442 1223.04 142.15 L1223.04 140.489 L1215.63 140.489 M1230.5 137.411 L1230.5 163.296 L1223.04 163.296 L1223.04 156.409 Q1220.49 160.541 1216.68 162.526 Q1212.88 164.471 1207.37 164.471 Q1200.4 164.471 1196.27 160.582 Q1192.18 156.653 1192.18 150.09 Q1192.18 142.434 1197.28 138.545 Q1202.43 134.656 1212.59 134.656 L1223.04 134.656 L1223.04 133.927 Q1223.04 128.782 1219.64 125.987 Q1216.28 123.152 1210.16 123.152 Q1206.27 123.152 1202.59 124.083 Q1198.9 125.015 1195.5 126.878 L1195.5 119.992 Q1199.59 118.412 1203.44 117.642 Q1207.29 116.832 1210.93 116.832 Q1220.78 116.832 1225.64 121.936 Q1230.5 127.04 1230.5 137.411 Z\" fill=\"#000000\" fill-rule=\"evenodd\" fill-opacity=\"1\" /><path clip-path=\"url(#clip110)\" d=\"M 0 0 M1273.64 126.635 Q1276.44 121.612 1280.32 119.222 Q1284.21 116.832 1289.48 116.832 Q1296.57 116.832 1300.42 121.815 Q1304.27 126.757 1304.27 135.912 L1304.27 163.296 L1296.77 163.296 L1296.77 136.155 Q1296.77 129.633 1294.46 126.473 Q1292.15 123.314 1287.41 123.314 Q1281.62 123.314 1278.26 127.162 Q1274.9 131.01 1274.9 137.654 L1274.9 163.296 L1267.4 163.296 L1267.4 136.155 Q1267.4 129.592 1265.09 126.473 Q1262.78 123.314 1257.96 123.314 Q1252.25 123.314 1248.89 127.202 Q1245.53 131.051 1245.53 137.654 L1245.53 163.296 L1238.03 163.296 L1238.03 117.926 L1245.53 117.926 L1245.53 124.974 Q1248.08 120.802 1251.64 118.817 Q1255.21 116.832 1260.11 116.832 Q1265.05 116.832 1268.5 119.344 Q1271.98 121.855 1273.64 126.635 Z\" fill=\"#000000\" fill-rule=\"evenodd\" fill-opacity=\"1\" /><path clip-path=\"url(#clip110)\" d=\"M 0 0 M1350.89 138.748 L1350.89 142.393 L1316.62 142.393 Q1317.11 150.09 1321.24 154.141 Q1325.41 158.151 1332.82 158.151 Q1337.12 158.151 1341.13 157.098 Q1345.18 156.045 1349.15 153.938 L1349.15 160.987 Q1345.14 162.688 1340.93 163.58 Q1336.71 164.471 1332.38 164.471 Q1321.52 164.471 1315.16 158.151 Q1308.84 151.832 1308.84 141.057 Q1308.84 129.917 1314.84 123.395 Q1320.87 116.832 1331.08 116.832 Q1340.24 116.832 1345.54 122.746 Q1350.89 128.62 1350.89 138.748 M1343.44 136.56 Q1343.36 130.443 1339.99 126.797 Q1336.67 123.152 1331.16 123.152 Q1324.92 123.152 1321.16 126.676 Q1317.43 130.2 1316.86 136.601 L1343.44 136.56 Z\" fill=\"#000000\" fill-rule=\"evenodd\" fill-opacity=\"1\" /><path clip-path=\"url(#clip110)\" d=\"M 0 0 M1360.61 153.007 L1369.16 153.007 L1369.16 163.296 L1360.61 163.296 L1360.61 153.007 M1360.61 120.397 L1369.16 120.397 L1369.16 130.686 L1360.61 130.686 L1360.61 120.397 Z\" fill=\"#000000\" fill-rule=\"evenodd\" fill-opacity=\"1\" /><path clip-path=\"url(#clip110)\" d=\"M 0 0 M1435.92 140.651 Q1435.92 132.428 1432.52 127.77 Q1429.15 123.071 1423.24 123.071 Q1417.33 123.071 1413.92 127.77 Q1410.56 132.428 1410.56 140.651 Q1410.56 148.875 1413.92 153.574 Q1417.33 158.232 1423.24 158.232 Q1429.15 158.232 1432.52 153.574 Q1435.92 148.875 1435.92 140.651 M1410.56 124.812 Q1412.91 120.762 1416.48 118.817 Q1420.08 116.832 1425.06 116.832 Q1433.33 116.832 1438.47 123.395 Q1443.66 129.957 1443.66 140.651 Q1443.66 151.346 1438.47 157.908 Q1433.33 164.471 1425.06 164.471 Q1420.08 164.471 1416.48 162.526 Q1412.91 160.541 1410.56 156.49 L1410.56 163.296 L1403.07 163.296 L1403.07 100.264 L1410.56 100.264 L1410.56 124.812 Z\" fill=\"#000000\" fill-rule=\"evenodd\" fill-opacity=\"1\" /><path clip-path=\"url(#clip110)\" d=\"M 0 0 M1451.48 117.926 L1458.93 117.926 L1458.93 163.296 L1451.48 163.296 L1451.48 117.926 M1451.48 100.264 L1458.93 100.264 L1458.93 109.703 L1451.48 109.703 L1451.48 100.264 Z\" fill=\"#000000\" fill-rule=\"evenodd\" fill-opacity=\"1\" /><path clip-path=\"url(#clip110)\" d=\"M 0 0 M1496.6 140.084 Q1496.6 131.983 1493.24 127.527 Q1489.92 123.071 1483.88 123.071 Q1477.89 123.071 1474.52 127.527 Q1471.2 131.983 1471.2 140.084 Q1471.2 148.146 1474.52 152.602 Q1477.89 157.058 1483.88 157.058 Q1489.92 157.058 1493.24 152.602 Q1496.6 148.146 1496.6 140.084 M1504.06 157.665 Q1504.06 169.251 1498.91 174.882 Q1493.77 180.553 1483.15 180.553 Q1479.22 180.553 1475.74 179.945 Q1472.26 179.378 1468.98 178.163 L1468.98 170.912 Q1472.26 172.694 1475.46 173.545 Q1478.66 174.395 1481.98 174.395 Q1489.31 174.395 1492.96 170.547 Q1496.6 166.739 1496.6 159.002 L1496.6 155.316 Q1494.29 159.326 1490.69 161.311 Q1487.08 163.296 1482.06 163.296 Q1473.71 163.296 1468.61 156.936 Q1463.51 150.576 1463.51 140.084 Q1463.51 129.552 1468.61 123.192 Q1473.71 116.832 1482.06 116.832 Q1487.08 116.832 1490.69 118.817 Q1494.29 120.802 1496.6 124.812 L1496.6 117.926 L1504.06 117.926 L1504.06 157.665 Z\" fill=\"#000000\" fill-rule=\"evenodd\" fill-opacity=\"1\" /><path clip-path=\"url(#clip110)\" d=\"M 0 0 M1541.73 124.812 L1541.73 100.264 L1549.18 100.264 L1549.18 163.296 L1541.73 163.296 L1541.73 156.49 Q1539.38 160.541 1535.77 162.526 Q1532.21 164.471 1527.19 164.471 Q1518.96 164.471 1513.78 157.908 Q1508.63 151.346 1508.63 140.651 Q1508.63 129.957 1513.78 123.395 Q1518.96 116.832 1527.19 116.832 Q1532.21 116.832 1535.77 118.817 Q1539.38 120.762 1541.73 124.812 M1516.33 140.651 Q1516.33 148.875 1519.69 153.574 Q1523.1 158.232 1529.01 158.232 Q1534.92 158.232 1538.33 153.574 Q1541.73 148.875 1541.73 140.651 Q1541.73 132.428 1538.33 127.77 Q1534.92 123.071 1529.01 123.071 Q1523.1 123.071 1519.69 127.77 Q1516.33 132.428 1516.33 140.651 Z\" fill=\"#000000\" fill-rule=\"evenodd\" fill-opacity=\"1\" /><path clip-path=\"url(#clip110)\" d=\"M 0 0 M1579.97 100.264 L1579.97 106.462 L1572.84 106.462 Q1568.83 106.462 1567.25 108.082 Q1565.71 109.703 1565.71 113.915 L1565.71 117.926 L1577.98 117.926 L1577.98 123.719 L1565.71 123.719 L1565.71 163.296 L1558.22 163.296 L1558.22 123.719 L1551.09 123.719 L1551.09 117.926 L1558.22 117.926 L1558.22 114.766 Q1558.22 107.191 1561.74 103.748 Q1565.27 100.264 1572.92 100.264 L1579.97 100.264 Z\" fill=\"#000000\" fill-rule=\"evenodd\" fill-opacity=\"1\" /><path clip-path=\"url(#clip110)\" d=\"M 0 0 M949.892 195.521 L949.892 203.501 Q945.234 201.273 941.102 200.179 Q936.97 199.086 933.121 199.086 Q926.437 199.086 922.792 201.678 Q919.186 204.271 919.186 209.051 Q919.186 213.061 921.576 215.127 Q924.007 217.153 930.731 218.409 L935.673 219.421 Q944.829 221.163 949.163 225.579 Q953.538 229.954 953.538 237.326 Q953.538 246.117 947.624 250.654 Q941.75 255.191 930.367 255.191 Q926.073 255.191 921.212 254.219 Q916.391 253.246 911.206 251.342 L911.206 242.917 Q916.189 245.712 920.969 247.129 Q925.749 248.547 930.367 248.547 Q937.375 248.547 941.183 245.793 Q944.991 243.038 944.991 237.934 Q944.991 233.478 942.236 230.966 Q939.522 228.455 933.283 227.199 L928.301 226.227 Q919.146 224.404 915.054 220.515 Q910.963 216.626 910.963 209.699 Q910.963 201.678 916.594 197.06 Q922.265 192.442 932.19 192.442 Q936.443 192.442 940.859 193.212 Q945.274 193.982 949.892 195.521 Z\" fill=\"#000000\" fill-rule=\"evenodd\" fill-opacity=\"1\" /><path clip-path=\"url(#clip110)\" d=\"M 0 0 M961.356 208.646 L968.81 208.646 L968.81 254.016 L961.356 254.016 L961.356 208.646 M961.356 190.984 L968.81 190.984 L968.81 200.423 L961.356 200.423 L961.356 190.984 Z\" fill=\"#000000\" fill-rule=\"evenodd\" fill-opacity=\"1\" /><path clip-path=\"url(#clip110)\" d=\"M 0 0 M973.387 208.646 L1008.79 208.646 L1008.79 215.451 L980.76 248.061 L1008.79 248.061 L1008.79 254.016 L972.375 254.016 L972.375 247.21 L1000.41 214.601 L973.387 214.601 L973.387 208.646 Z\" fill=\"#000000\" fill-rule=\"evenodd\" fill-opacity=\"1\" /><path clip-path=\"url(#clip110)\" d=\"M 0 0 M1055.42 229.468 L1055.42 233.113 L1021.15 233.113 Q1021.63 240.81 1025.77 244.861 Q1029.94 248.871 1037.35 248.871 Q1041.65 248.871 1045.66 247.818 Q1049.71 246.765 1053.68 244.658 L1053.68 251.707 Q1049.67 253.408 1045.45 254.3 Q1041.24 255.191 1036.91 255.191 Q1026.05 255.191 1019.69 248.871 Q1013.37 242.552 1013.37 231.777 Q1013.37 220.637 1019.37 214.115 Q1025.4 207.552 1035.61 207.552 Q1044.76 207.552 1050.07 213.466 Q1055.42 219.34 1055.42 229.468 M1047.96 227.28 Q1047.88 221.163 1044.52 217.517 Q1041.2 213.872 1035.69 213.872 Q1029.45 213.872 1025.68 217.396 Q1021.96 220.92 1021.39 227.321 L1047.96 227.28 Z\" fill=\"#000000\" fill-rule=\"evenodd\" fill-opacity=\"1\" /><path clip-path=\"url(#clip110)\" d=\"M 0 0 M1065.14 243.727 L1073.69 243.727 L1073.69 254.016 L1065.14 254.016 L1065.14 243.727 M1065.14 211.117 L1073.69 211.117 L1073.69 221.406 L1065.14 221.406 L1065.14 211.117 Z\" fill=\"#000000\" fill-rule=\"evenodd\" fill-opacity=\"1\" /><path clip-path=\"url(#clip110)\" d=\"M 0 0 M1125.78 191.065 Q1120.35 200.382 1117.72 209.497 Q1115.09 218.611 1115.09 227.969 Q1115.09 237.326 1117.72 246.522 Q1120.39 255.677 1125.78 264.953 L1119.3 264.953 Q1113.22 255.434 1110.19 246.238 Q1107.19 237.043 1107.19 227.969 Q1107.19 218.935 1110.19 209.78 Q1113.18 200.625 1119.3 191.065 L1125.78 191.065 Z\" fill=\"#000000\" fill-rule=\"evenodd\" fill-opacity=\"1\" /><path clip-path=\"url(#clip110)\" d=\"M 0 0 M1136.07 247.129 L1149.44 247.129 L1149.44 200.99 L1134.9 203.906 L1134.9 196.453 L1149.36 193.536 L1157.54 193.536 L1157.54 247.129 L1170.91 247.129 L1170.91 254.016 L1136.07 254.016 L1136.07 247.129 Z\" fill=\"#000000\" fill-rule=\"evenodd\" fill-opacity=\"1\" /><path clip-path=\"url(#clip110)\" d=\"M 0 0 M1197.28 198.924 Q1190.96 198.924 1187.76 205.162 Q1184.6 211.36 1184.6 223.837 Q1184.6 236.273 1187.76 242.511 Q1190.96 248.709 1197.28 248.709 Q1203.64 248.709 1206.8 242.511 Q1210 236.273 1210 223.837 Q1210 211.36 1206.8 205.162 Q1203.64 198.924 1197.28 198.924 M1197.28 192.442 Q1207.45 192.442 1212.8 200.504 Q1218.18 208.524 1218.18 223.837 Q1218.18 239.109 1212.8 247.17 Q1207.45 255.191 1197.28 255.191 Q1187.11 255.191 1181.73 247.17 Q1176.38 239.109 1176.38 223.837 Q1176.38 208.524 1181.73 200.504 Q1187.11 192.442 1197.28 192.442 Z\" fill=\"#000000\" fill-rule=\"evenodd\" fill-opacity=\"1\" /><path clip-path=\"url(#clip110)\" d=\"M 0 0 M1244.55 198.924 Q1238.24 198.924 1235.04 205.162 Q1231.88 211.36 1231.88 223.837 Q1231.88 236.273 1235.04 242.511 Q1238.24 248.709 1244.55 248.709 Q1250.91 248.709 1254.07 242.511 Q1257.27 236.273 1257.27 223.837 Q1257.27 211.36 1254.07 205.162 Q1250.91 198.924 1244.55 198.924 M1244.55 192.442 Q1254.72 192.442 1260.07 200.504 Q1265.46 208.524 1265.46 223.837 Q1265.46 239.109 1260.07 247.17 Q1254.72 255.191 1244.55 255.191 Q1234.39 255.191 1229 247.17 Q1223.65 239.109 1223.65 223.837 Q1223.65 208.524 1229 200.504 Q1234.39 192.442 1244.55 192.442 Z\" fill=\"#000000\" fill-rule=\"evenodd\" fill-opacity=\"1\" /><path clip-path=\"url(#clip110)\" d=\"M 0 0 M1291.83 198.924 Q1285.51 198.924 1282.31 205.162 Q1279.15 211.36 1279.15 223.837 Q1279.15 236.273 1282.31 242.511 Q1285.51 248.709 1291.83 248.709 Q1298.19 248.709 1301.35 242.511 Q1304.55 236.273 1304.55 223.837 Q1304.55 211.36 1301.35 205.162 Q1298.19 198.924 1291.83 198.924 M1291.83 192.442 Q1302 192.442 1307.34 200.504 Q1312.73 208.524 1312.73 223.837 Q1312.73 239.109 1307.34 247.17 Q1302 255.191 1291.83 255.191 Q1281.66 255.191 1276.27 247.17 Q1270.93 239.109 1270.93 223.837 Q1270.93 208.524 1276.27 200.504 Q1281.66 192.442 1291.83 192.442 Z\" fill=\"#000000\" fill-rule=\"evenodd\" fill-opacity=\"1\" /><path clip-path=\"url(#clip110)\" d=\"M 0 0 M1339.1 198.924 Q1332.78 198.924 1329.58 205.162 Q1326.42 211.36 1326.42 223.837 Q1326.42 236.273 1329.58 242.511 Q1332.78 248.709 1339.1 248.709 Q1345.46 248.709 1348.62 242.511 Q1351.82 236.273 1351.82 223.837 Q1351.82 211.36 1348.62 205.162 Q1345.46 198.924 1339.1 198.924 M1339.1 192.442 Q1349.27 192.442 1354.62 200.504 Q1360.01 208.524 1360.01 223.837 Q1360.01 239.109 1354.62 247.17 Q1349.27 255.191 1339.1 255.191 Q1328.94 255.191 1323.55 247.17 Q1318.2 239.109 1318.2 223.837 Q1318.2 208.524 1323.55 200.504 Q1328.94 192.442 1339.1 192.442 Z\" fill=\"#000000\" fill-rule=\"evenodd\" fill-opacity=\"1\" /><path clip-path=\"url(#clip110)\" d=\"M 0 0 M1386.38 198.924 Q1380.06 198.924 1376.86 205.162 Q1373.7 211.36 1373.7 223.837 Q1373.7 236.273 1376.86 242.511 Q1380.06 248.709 1386.38 248.709 Q1392.74 248.709 1395.9 242.511 Q1399.1 236.273 1399.1 223.837 Q1399.1 211.36 1395.9 205.162 Q1392.74 198.924 1386.38 198.924 M1386.38 192.442 Q1396.54 192.442 1401.89 200.504 Q1407.28 208.524 1407.28 223.837 Q1407.28 239.109 1401.89 247.17 Q1396.54 255.191 1386.38 255.191 Q1376.21 255.191 1370.82 247.17 Q1365.47 239.109 1365.47 223.837 Q1365.47 208.524 1370.82 200.504 Q1376.21 192.442 1386.38 192.442 Z\" fill=\"#000000\" fill-rule=\"evenodd\" fill-opacity=\"1\" /><path clip-path=\"url(#clip110)\" d=\"M 0 0 M1417 243.727 L1425.55 243.727 L1425.55 250.694 L1418.91 263.657 L1413.68 263.657 L1417 250.694 L1417 243.727 Z\" fill=\"#000000\" fill-rule=\"evenodd\" fill-opacity=\"1\" /><path clip-path=\"url(#clip110)\" d=\"M 0 0 M1460.87 193.536 L1493 193.536 L1493 200.423 L1468.37 200.423 L1468.37 215.249 Q1470.15 214.641 1471.93 214.358 Q1473.71 214.034 1475.5 214.034 Q1485.62 214.034 1491.54 219.583 Q1497.45 225.133 1497.45 234.612 Q1497.45 244.375 1491.38 249.803 Q1485.3 255.191 1474.24 255.191 Q1470.43 255.191 1466.46 254.543 Q1462.53 253.894 1458.32 252.598 L1458.32 244.375 Q1461.97 246.36 1465.86 247.332 Q1469.74 248.304 1474.08 248.304 Q1481.09 248.304 1485.18 244.618 Q1489.27 240.932 1489.27 234.612 Q1489.27 228.293 1485.18 224.606 Q1481.09 220.92 1474.08 220.92 Q1470.8 220.92 1467.52 221.649 Q1464.28 222.378 1460.87 223.918 L1460.87 193.536 Z\" fill=\"#000000\" fill-rule=\"evenodd\" fill-opacity=\"1\" /><path clip-path=\"url(#clip110)\" d=\"M 0 0 M1523.82 198.924 Q1517.5 198.924 1514.3 205.162 Q1511.14 211.36 1511.14 223.837 Q1511.14 236.273 1514.3 242.511 Q1517.5 248.709 1523.82 248.709 Q1530.18 248.709 1533.34 242.511 Q1536.54 236.273 1536.54 223.837 Q1536.54 211.36 1533.34 205.162 Q1530.18 198.924 1523.82 198.924 M1523.82 192.442 Q1533.99 192.442 1539.34 200.504 Q1544.73 208.524 1544.73 223.837 Q1544.73 239.109 1539.34 247.17 Q1533.99 255.191 1523.82 255.191 Q1513.66 255.191 1508.27 247.17 Q1502.92 239.109 1502.92 223.837 Q1502.92 208.524 1508.27 200.504 Q1513.66 192.442 1523.82 192.442 Z\" fill=\"#000000\" fill-rule=\"evenodd\" fill-opacity=\"1\" /><path clip-path=\"url(#clip110)\" d=\"M 0 0 M1571.1 198.924 Q1564.78 198.924 1561.58 205.162 Q1558.42 211.36 1558.42 223.837 Q1558.42 236.273 1561.58 242.511 Q1564.78 248.709 1571.1 248.709 Q1577.46 248.709 1580.62 242.511 Q1583.82 236.273 1583.82 223.837 Q1583.82 211.36 1580.62 205.162 Q1577.46 198.924 1571.1 198.924 M1571.1 192.442 Q1581.27 192.442 1586.61 200.504 Q1592 208.524 1592 223.837 Q1592 239.109 1586.61 247.17 Q1581.27 255.191 1571.1 255.191 Q1560.93 255.191 1555.54 247.17 Q1550.2 239.109 1550.2 223.837 Q1550.2 208.524 1555.54 200.504 Q1560.93 192.442 1571.1 192.442 Z\" fill=\"#000000\" fill-rule=\"evenodd\" fill-opacity=\"1\" /><path clip-path=\"url(#clip110)\" d=\"M 0 0 M1598.64 191.065 L1605.13 191.065 Q1611.2 200.625 1614.2 209.78 Q1617.24 218.935 1617.24 227.969 Q1617.24 237.043 1614.2 246.238 Q1611.2 255.434 1605.13 264.953 L1598.64 264.953 Q1604.03 255.677 1606.67 246.522 Q1609.34 237.326 1609.34 227.969 Q1609.34 218.611 1606.67 209.497 Q1604.03 200.382 1598.64 191.065 Z\" fill=\"#000000\" fill-rule=\"evenodd\" fill-opacity=\"1\" /><path clip-path=\"url(#clip112)\" d=\"\n",
       "M292.381 1363.45 L292.381 1417.71 L392.044 1417.71 L392.044 1363.45 L292.381 1363.45 L292.381 1363.45  Z\n",
       "  \" fill=\"#009af9\" fill-rule=\"evenodd\" fill-opacity=\"1\"/>\n",
       "<polyline clip-path=\"url(#clip112)\" style=\"stroke:#000000; stroke-width:4; stroke-opacity:1; fill:none\" points=\"\n",
       "  292.381,1363.45 292.381,1417.71 392.044,1417.71 392.044,1363.45 292.381,1363.45 \n",
       "  \"/>\n",
       "<path clip-path=\"url(#clip112)\" d=\"\n",
       "M541.539 1059.88 L541.539 1417.71 L641.203 1417.71 L641.203 1059.88 L541.539 1059.88 L541.539 1059.88  Z\n",
       "  \" fill=\"#009af9\" fill-rule=\"evenodd\" fill-opacity=\"1\"/>\n",
       "<polyline clip-path=\"url(#clip112)\" style=\"stroke:#000000; stroke-width:4; stroke-opacity:1; fill:none\" points=\"\n",
       "  541.539,1059.88 541.539,1417.71 641.203,1417.71 641.203,1059.88 541.539,1059.88 \n",
       "  \"/>\n",
       "<path clip-path=\"url(#clip112)\" d=\"\n",
       "M790.698 688.635 L790.698 1417.71 L890.362 1417.71 L890.362 688.635 L790.698 688.635 L790.698 688.635  Z\n",
       "  \" fill=\"#009af9\" fill-rule=\"evenodd\" fill-opacity=\"1\"/>\n",
       "<polyline clip-path=\"url(#clip112)\" style=\"stroke:#000000; stroke-width:4; stroke-opacity:1; fill:none\" points=\"\n",
       "  790.698,688.635 790.698,1417.71 890.362,1417.71 890.362,688.635 790.698,688.635 \n",
       "  \"/>\n",
       "<path clip-path=\"url(#clip112)\" d=\"\n",
       "M1039.86 1228.2 L1039.86 1417.71 L1139.52 1417.71 L1139.52 1228.2 L1039.86 1228.2 L1039.86 1228.2  Z\n",
       "  \" fill=\"#009af9\" fill-rule=\"evenodd\" fill-opacity=\"1\"/>\n",
       "<polyline clip-path=\"url(#clip112)\" style=\"stroke:#000000; stroke-width:4; stroke-opacity:1; fill:none\" points=\"\n",
       "  1039.86,1228.2 1039.86,1417.71 1139.52,1417.71 1139.52,1228.2 1039.86,1228.2 \n",
       "  \"/>\n",
       "<path clip-path=\"url(#clip112)\" d=\"\n",
       "M1289.02 865.167 L1289.02 1417.71 L1388.68 1417.71 L1388.68 865.167 L1289.02 865.167 L1289.02 865.167  Z\n",
       "  \" fill=\"#009af9\" fill-rule=\"evenodd\" fill-opacity=\"1\"/>\n",
       "<polyline clip-path=\"url(#clip112)\" style=\"stroke:#000000; stroke-width:4; stroke-opacity:1; fill:none\" points=\"\n",
       "  1289.02,865.167 1289.02,1417.71 1388.68,1417.71 1388.68,865.167 1289.02,865.167 \n",
       "  \"/>\n",
       "<path clip-path=\"url(#clip112)\" d=\"\n",
       "M1538.18 278.605 L1538.18 1417.71 L1637.84 1417.71 L1637.84 278.605 L1538.18 278.605 L1538.18 278.605  Z\n",
       "  \" fill=\"#009af9\" fill-rule=\"evenodd\" fill-opacity=\"1\"/>\n",
       "<polyline clip-path=\"url(#clip112)\" style=\"stroke:#000000; stroke-width:4; stroke-opacity:1; fill:none\" points=\"\n",
       "  1538.18,278.605 1538.18,1417.71 1637.84,1417.71 1637.84,278.605 1538.18,278.605 \n",
       "  \"/>\n",
       "<path clip-path=\"url(#clip112)\" d=\"\n",
       "M1787.33 684.536 L1787.33 1417.71 L1887 1417.71 L1887 684.536 L1787.33 684.536 L1787.33 684.536  Z\n",
       "  \" fill=\"#009af9\" fill-rule=\"evenodd\" fill-opacity=\"1\"/>\n",
       "<polyline clip-path=\"url(#clip112)\" style=\"stroke:#000000; stroke-width:4; stroke-opacity:1; fill:none\" points=\"\n",
       "  1787.33,684.536 1787.33,1417.71 1887,1417.71 1887,684.536 1787.33,684.536 \n",
       "  \"/>\n",
       "<path clip-path=\"url(#clip112)\" d=\"\n",
       "M2036.49 659.686 L2036.49 1417.71 L2136.16 1417.71 L2136.16 659.686 L2036.49 659.686 L2036.49 659.686  Z\n",
       "  \" fill=\"#009af9\" fill-rule=\"evenodd\" fill-opacity=\"1\"/>\n",
       "<polyline clip-path=\"url(#clip112)\" style=\"stroke:#000000; stroke-width:4; stroke-opacity:1; fill:none\" points=\"\n",
       "  2036.49,659.686 2036.49,1417.71 2136.16,1417.71 2136.16,659.686 2036.49,659.686 \n",
       "  \"/>\n",
       "<path clip-path=\"url(#clip112)\" d=\"\n",
       "M392.044 1416.77 L392.044 1417.71 L491.708 1417.71 L491.708 1416.77 L392.044 1416.77 L392.044 1416.77  Z\n",
       "  \" fill=\"#e26f46\" fill-rule=\"evenodd\" fill-opacity=\"1\"/>\n",
       "<polyline clip-path=\"url(#clip112)\" style=\"stroke:#000000; stroke-width:4; stroke-opacity:1; fill:none\" points=\"\n",
       "  392.044,1416.77 392.044,1417.71 491.708,1417.71 491.708,1416.77 392.044,1416.77 \n",
       "  \"/>\n",
       "<path clip-path=\"url(#clip112)\" d=\"\n",
       "M641.203 1163.19 L641.203 1417.71 L740.867 1417.71 L740.867 1163.19 L641.203 1163.19 L641.203 1163.19  Z\n",
       "  \" fill=\"#e26f46\" fill-rule=\"evenodd\" fill-opacity=\"1\"/>\n",
       "<polyline clip-path=\"url(#clip112)\" style=\"stroke:#000000; stroke-width:4; stroke-opacity:1; fill:none\" points=\"\n",
       "  641.203,1163.19 641.203,1417.71 740.867,1417.71 740.867,1163.19 641.203,1163.19 \n",
       "  \"/>\n",
       "<path clip-path=\"url(#clip112)\" d=\"\n",
       "M890.362 770.448 L890.362 1417.71 L990.026 1417.71 L990.026 770.448 L890.362 770.448 L890.362 770.448  Z\n",
       "  \" fill=\"#e26f46\" fill-rule=\"evenodd\" fill-opacity=\"1\"/>\n",
       "<polyline clip-path=\"url(#clip112)\" style=\"stroke:#000000; stroke-width:4; stroke-opacity:1; fill:none\" points=\"\n",
       "  890.362,770.448 890.362,1417.71 990.026,1417.71 990.026,770.448 890.362,770.448 \n",
       "  \"/>\n",
       "<path clip-path=\"url(#clip112)\" d=\"\n",
       "M1139.52 1291.66 L1139.52 1417.71 L1239.18 1417.71 L1239.18 1291.66 L1139.52 1291.66 L1139.52 1291.66  Z\n",
       "  \" fill=\"#e26f46\" fill-rule=\"evenodd\" fill-opacity=\"1\"/>\n",
       "<polyline clip-path=\"url(#clip112)\" style=\"stroke:#000000; stroke-width:4; stroke-opacity:1; fill:none\" points=\"\n",
       "  1139.52,1291.66 1139.52,1417.71 1239.18,1417.71 1239.18,1291.66 1139.52,1291.66 \n",
       "  \"/>\n",
       "<path clip-path=\"url(#clip112)\" d=\"\n",
       "M1388.68 895.157 L1388.68 1417.71 L1488.34 1417.71 L1488.34 895.157 L1388.68 895.157 L1388.68 895.157  Z\n",
       "  \" fill=\"#e26f46\" fill-rule=\"evenodd\" fill-opacity=\"1\"/>\n",
       "<polyline clip-path=\"url(#clip112)\" style=\"stroke:#000000; stroke-width:4; stroke-opacity:1; fill:none\" points=\"\n",
       "  1388.68,895.157 1388.68,1417.71 1488.34,1417.71 1488.34,895.157 1388.68,895.157 \n",
       "  \"/>\n",
       "<path clip-path=\"url(#clip112)\" d=\"\n",
       "M1637.84 284.988 L1637.84 1417.71 L1737.5 1417.71 L1737.5 284.988 L1637.84 284.988 L1637.84 284.988  Z\n",
       "  \" fill=\"#e26f46\" fill-rule=\"evenodd\" fill-opacity=\"1\"/>\n",
       "<polyline clip-path=\"url(#clip112)\" style=\"stroke:#000000; stroke-width:4; stroke-opacity:1; fill:none\" points=\"\n",
       "  1637.84,284.988 1637.84,1417.71 1737.5,1417.71 1737.5,284.988 1637.84,284.988 \n",
       "  \"/>\n",
       "<path clip-path=\"url(#clip112)\" d=\"\n",
       "M1887 678.984 L1887 1417.71 L1986.66 1417.71 L1986.66 678.984 L1887 678.984 L1887 678.984  Z\n",
       "  \" fill=\"#e26f46\" fill-rule=\"evenodd\" fill-opacity=\"1\"/>\n",
       "<polyline clip-path=\"url(#clip112)\" style=\"stroke:#000000; stroke-width:4; stroke-opacity:1; fill:none\" points=\"\n",
       "  1887,678.984 1887,1417.71 1986.66,1417.71 1986.66,678.984 1887,678.984 \n",
       "  \"/>\n",
       "<path clip-path=\"url(#clip112)\" d=\"\n",
       "M2136.16 762.239 L2136.16 1417.71 L2235.82 1417.71 L2235.82 762.239 L2136.16 762.239 L2136.16 762.239  Z\n",
       "  \" fill=\"#e26f46\" fill-rule=\"evenodd\" fill-opacity=\"1\"/>\n",
       "<polyline clip-path=\"url(#clip112)\" style=\"stroke:#000000; stroke-width:4; stroke-opacity:1; fill:none\" points=\"\n",
       "  2136.16,762.239 2136.16,1417.71 2235.82,1417.71 2235.82,762.239 2136.16,762.239 \n",
       "  \"/>\n",
       "<path clip-path=\"url(#clip110)\" d=\"\n",
       "M1964.51 466.121 L2280.18 466.121 L2280.18 284.681 L1964.51 284.681  Z\n",
       "  \" fill=\"#ffffff\" fill-rule=\"evenodd\" fill-opacity=\"1\"/>\n",
       "<polyline clip-path=\"url(#clip110)\" style=\"stroke:#000000; stroke-width:4; stroke-opacity:1; fill:none\" points=\"\n",
       "  1964.51,466.121 2280.18,466.121 2280.18,284.681 1964.51,284.681 1964.51,466.121 \n",
       "  \"/>\n",
       "<path clip-path=\"url(#clip110)\" d=\"\n",
       "M1988.7 369.353 L2133.85 369.353 L2133.85 320.969 L1988.7 320.969 L1988.7 369.353  Z\n",
       "  \" fill=\"#009af9\" fill-rule=\"evenodd\" fill-opacity=\"1\"/>\n",
       "<polyline clip-path=\"url(#clip110)\" style=\"stroke:#000000; stroke-width:4; stroke-opacity:1; fill:none\" points=\"\n",
       "  1988.7,369.353 2133.85,369.353 2133.85,320.969 1988.7,320.969 1988.7,369.353 \n",
       "  \"/>\n",
       "<path clip-path=\"url(#clip110)\" d=\"M 0 0 M2158.72 358.505 L2166.35 358.505 L2166.35 332.14 L2158.04 333.807 L2158.04 329.547 L2166.31 327.881 L2170.98 327.881 L2170.98 358.505 L2178.62 358.505 L2178.62 362.441 L2158.72 362.441 L2158.72 358.505 Z\" fill=\"#000000\" fill-rule=\"evenodd\" fill-opacity=\"1\" /><path clip-path=\"url(#clip110)\" d=\"M 0 0 M2199.62 337.279 L2199.62 341.307 Q2197.81 340.381 2195.87 339.918 Q2193.92 339.455 2191.84 339.455 Q2188.67 339.455 2187.07 340.427 Q2185.5 341.399 2185.5 343.344 Q2185.5 344.825 2186.63 345.681 Q2187.77 346.515 2191.19 347.279 L2192.65 347.603 Q2197.19 348.575 2199.09 350.357 Q2201.01 352.117 2201.01 355.288 Q2201.01 358.899 2198.14 361.005 Q2195.29 363.112 2190.29 363.112 Q2188.21 363.112 2185.94 362.695 Q2183.69 362.302 2181.19 361.492 L2181.19 357.093 Q2183.55 358.32 2185.85 358.945 Q2188.14 359.547 2190.38 359.547 Q2193.39 359.547 2195.01 358.529 Q2196.63 357.487 2196.63 355.612 Q2196.63 353.876 2195.45 352.95 Q2194.29 352.024 2190.34 351.168 L2188.85 350.82 Q2184.9 349.987 2183.14 348.274 Q2181.38 346.538 2181.38 343.529 Q2181.38 339.871 2183.97 337.881 Q2186.56 335.89 2191.33 335.89 Q2193.69 335.89 2195.78 336.237 Q2197.86 336.584 2199.62 337.279 Z\" fill=\"#000000\" fill-rule=\"evenodd\" fill-opacity=\"1\" /><path clip-path=\"url(#clip110)\" d=\"M 0 0 M2209.69 329.154 L2209.69 336.515 L2218.46 336.515 L2218.46 339.825 L2209.69 339.825 L2209.69 353.899 Q2209.69 357.07 2210.54 357.973 Q2211.42 358.876 2214.09 358.876 L2218.46 358.876 L2218.46 362.441 L2214.09 362.441 Q2209.16 362.441 2207.28 360.612 Q2205.41 358.76 2205.41 353.899 L2205.41 339.825 L2202.28 339.825 L2202.28 336.515 L2205.41 336.515 L2205.41 329.154 L2209.69 329.154 Z\" fill=\"#000000\" fill-rule=\"evenodd\" fill-opacity=\"1\" /><path clip-path=\"url(#clip110)\" d=\"\n",
       "M1988.7 429.833 L2133.85 429.833 L2133.85 381.449 L1988.7 381.449 L1988.7 429.833  Z\n",
       "  \" fill=\"#e26f46\" fill-rule=\"evenodd\" fill-opacity=\"1\"/>\n",
       "<polyline clip-path=\"url(#clip110)\" style=\"stroke:#000000; stroke-width:4; stroke-opacity:1; fill:none\" points=\"\n",
       "  1988.7,429.833 2133.85,429.833 2133.85,381.449 1988.7,381.449 1988.7,429.833 \n",
       "  \"/>\n",
       "<path clip-path=\"url(#clip110)\" d=\"M 0 0 M2163.67 418.985 L2179.99 418.985 L2179.99 422.921 L2158.04 422.921 L2158.04 418.985 Q2160.71 416.231 2165.29 411.601 Q2169.9 406.949 2171.08 405.606 Q2173.32 403.083 2174.2 401.347 Q2175.1 399.587 2175.1 397.898 Q2175.1 395.143 2173.16 393.407 Q2171.24 391.671 2168.14 391.671 Q2165.94 391.671 2163.48 392.435 Q2161.05 393.199 2158.28 394.75 L2158.28 390.027 Q2161.1 388.893 2163.55 388.314 Q2166.01 387.736 2168.04 387.736 Q2173.41 387.736 2176.61 390.421 Q2179.8 393.106 2179.8 397.597 Q2179.8 399.726 2178.99 401.648 Q2178.21 403.546 2176.1 406.138 Q2175.52 406.81 2172.42 410.027 Q2169.32 413.222 2163.67 418.985 Z\" fill=\"#000000\" fill-rule=\"evenodd\" fill-opacity=\"1\" /><path clip-path=\"url(#clip110)\" d=\"M 0 0 M2206.01 407.273 L2206.01 422.921 L2201.75 422.921 L2201.75 407.411 Q2201.75 403.731 2200.31 401.902 Q2198.88 400.074 2196.01 400.074 Q2192.56 400.074 2190.57 402.273 Q2188.58 404.472 2188.58 408.268 L2188.58 422.921 L2184.29 422.921 L2184.29 396.995 L2188.58 396.995 L2188.58 401.023 Q2190.1 398.685 2192.16 397.527 Q2194.25 396.37 2196.96 396.37 Q2201.42 396.37 2203.72 399.148 Q2206.01 401.902 2206.01 407.273 Z\" fill=\"#000000\" fill-rule=\"evenodd\" fill-opacity=\"1\" /><path clip-path=\"url(#clip110)\" d=\"M 0 0 M2227.53 400.93 L2227.53 386.902 L2231.79 386.902 L2231.79 422.921 L2227.53 422.921 L2227.53 419.032 Q2226.19 421.347 2224.13 422.481 Q2222.1 423.592 2219.22 423.592 Q2214.53 423.592 2211.56 419.842 Q2208.62 416.092 2208.62 409.981 Q2208.62 403.87 2211.56 400.12 Q2214.53 396.37 2219.22 396.37 Q2222.1 396.37 2224.13 397.504 Q2226.19 398.615 2227.53 400.93 M2213.02 409.981 Q2213.02 414.68 2214.94 417.365 Q2216.89 420.027 2220.27 420.027 Q2223.65 420.027 2225.59 417.365 Q2227.53 414.68 2227.53 409.981 Q2227.53 405.282 2225.59 402.62 Q2223.65 399.935 2220.27 399.935 Q2216.89 399.935 2214.94 402.62 Q2213.02 405.282 2213.02 409.981 Z\" fill=\"#000000\" fill-rule=\"evenodd\" fill-opacity=\"1\" /></svg>\n"
      ]
     },
     "execution_count": 43,
     "metadata": {},
     "output_type": "execute_result"
    }
   ],
   "source": [
    "groupedbar(\n",
    "    repeat([\"CSV.jl\", \"Serialization\", \"JDF.jl\", \"JLSO.jl\", \"Arrow.jl\", \"Arrow.jl\\ncopy\", \"JSON\\narraytable\",\n",
    "            \"JSON\\nobjecttable\"], inner = 2),\n",
    "    [csvread1, csvread2, serializeread1, serializeread2, jdfread1, jdfread2, jlsoread1, jlsoread2,\n",
    "     arrowread1, arrowread2, arrowread1+arrowread1copy, arrowread2+arrowread2copy,\n",
    "     jsontablesaread1, jsontablesaread2, jsontablesoread1, jsontablesoread2],    \n",
    "    group = repeat([\"1st\", \"2nd\"], outer = 8),\n",
    "    ylab = \"Second\",\n",
    "    title = \"Read Performance\\nDataFrame: bigdf\\nSize: $(size(bigdf))\"\n",
    ")"
   ]
  },
  {
   "cell_type": "markdown",
   "metadata": {},
   "source": [
    "### Using gzip compression"
   ]
  },
  {
   "cell_type": "markdown",
   "metadata": {},
   "source": [
    "A common user requirement is to be able to load and save CSV that are compressed using gzip.\n",
    "Below we show how this can be accomplished using CodecZlib.jl.\n",
    "The same pattern is applicable to JSONTables.jl compression/decompression.\n",
    "\n",
    "Again make sure that you do not have file named `df_compress_test.csv.gz` in your working directory"
   ]
  },
  {
   "cell_type": "markdown",
   "metadata": {},
   "source": [
    "We first generate a random data frame"
   ]
  },
  {
   "cell_type": "code",
   "execution_count": 44,
   "metadata": {},
   "outputs": [
    {
     "data": {
      "text/html": [
       "<table class=\"data-frame\"><thead><tr><th></th><th>x1</th><th>x2</th><th>x3</th><th>x4</th><th>x5</th><th>x6</th><th>x7</th><th>x8</th><th>x9</th><th>x10</th><th>x11</th><th>x12</th></tr><tr><th></th><th>Int64</th><th>Int64</th><th>Int64</th><th>Int64</th><th>Int64</th><th>Int64</th><th>Int64</th><th>Int64</th><th>Int64</th><th>Int64</th><th>Int64</th><th>Int64</th></tr></thead><tbody><p>10 rows × 1,000 columns (omitted printing of 988 columns)</p><tr><th>1</th><td>10</td><td>2</td><td>9</td><td>9</td><td>2</td><td>4</td><td>8</td><td>6</td><td>1</td><td>7</td><td>8</td><td>1</td></tr><tr><th>2</th><td>2</td><td>6</td><td>2</td><td>8</td><td>3</td><td>8</td><td>6</td><td>3</td><td>10</td><td>5</td><td>5</td><td>1</td></tr><tr><th>3</th><td>1</td><td>5</td><td>3</td><td>7</td><td>5</td><td>7</td><td>7</td><td>1</td><td>5</td><td>7</td><td>10</td><td>7</td></tr><tr><th>4</th><td>9</td><td>10</td><td>10</td><td>7</td><td>1</td><td>5</td><td>6</td><td>5</td><td>9</td><td>6</td><td>7</td><td>10</td></tr><tr><th>5</th><td>1</td><td>10</td><td>8</td><td>7</td><td>5</td><td>8</td><td>2</td><td>1</td><td>10</td><td>9</td><td>5</td><td>1</td></tr><tr><th>6</th><td>2</td><td>6</td><td>7</td><td>8</td><td>10</td><td>4</td><td>4</td><td>4</td><td>3</td><td>8</td><td>5</td><td>5</td></tr><tr><th>7</th><td>8</td><td>7</td><td>10</td><td>8</td><td>9</td><td>2</td><td>3</td><td>3</td><td>5</td><td>2</td><td>9</td><td>7</td></tr><tr><th>8</th><td>5</td><td>8</td><td>4</td><td>6</td><td>7</td><td>6</td><td>3</td><td>4</td><td>8</td><td>7</td><td>7</td><td>8</td></tr><tr><th>9</th><td>8</td><td>8</td><td>5</td><td>1</td><td>5</td><td>5</td><td>6</td><td>5</td><td>4</td><td>8</td><td>4</td><td>7</td></tr><tr><th>10</th><td>2</td><td>9</td><td>4</td><td>8</td><td>6</td><td>7</td><td>2</td><td>5</td><td>1</td><td>9</td><td>6</td><td>1</td></tr></tbody></table>"
      ],
      "text/latex": [
       "\\begin{tabular}{r|ccccccccccccc}\n",
       "\t& x1 & x2 & x3 & x4 & x5 & x6 & x7 & x8 & x9 & x10 & x11 & x12 & \\\\\n",
       "\t\\hline\n",
       "\t& Int64 & Int64 & Int64 & Int64 & Int64 & Int64 & Int64 & Int64 & Int64 & Int64 & Int64 & Int64 & \\\\\n",
       "\t\\hline\n",
       "\t1 & 10 & 2 & 9 & 9 & 2 & 4 & 8 & 6 & 1 & 7 & 8 & 1 & $\\dots$ \\\\\n",
       "\t2 & 2 & 6 & 2 & 8 & 3 & 8 & 6 & 3 & 10 & 5 & 5 & 1 & $\\dots$ \\\\\n",
       "\t3 & 1 & 5 & 3 & 7 & 5 & 7 & 7 & 1 & 5 & 7 & 10 & 7 & $\\dots$ \\\\\n",
       "\t4 & 9 & 10 & 10 & 7 & 1 & 5 & 6 & 5 & 9 & 6 & 7 & 10 & $\\dots$ \\\\\n",
       "\t5 & 1 & 10 & 8 & 7 & 5 & 8 & 2 & 1 & 10 & 9 & 5 & 1 & $\\dots$ \\\\\n",
       "\t6 & 2 & 6 & 7 & 8 & 10 & 4 & 4 & 4 & 3 & 8 & 5 & 5 & $\\dots$ \\\\\n",
       "\t7 & 8 & 7 & 10 & 8 & 9 & 2 & 3 & 3 & 5 & 2 & 9 & 7 & $\\dots$ \\\\\n",
       "\t8 & 5 & 8 & 4 & 6 & 7 & 6 & 3 & 4 & 8 & 7 & 7 & 8 & $\\dots$ \\\\\n",
       "\t9 & 8 & 8 & 5 & 1 & 5 & 5 & 6 & 5 & 4 & 8 & 4 & 7 & $\\dots$ \\\\\n",
       "\t10 & 2 & 9 & 4 & 8 & 6 & 7 & 2 & 5 & 1 & 9 & 6 & 1 & $\\dots$ \\\\\n",
       "\\end{tabular}\n"
      ],
      "text/plain": [
       "\u001b[1m10×1000 DataFrame\u001b[0m\n",
       "\u001b[1m Row \u001b[0m│\u001b[1m x1    \u001b[0m\u001b[1m x2    \u001b[0m\u001b[1m x3    \u001b[0m\u001b[1m x4    \u001b[0m\u001b[1m x5    \u001b[0m\u001b[1m x6    \u001b[0m\u001b[1m x7    \u001b[0m\u001b[1m x8    \u001b[0m\u001b[1m x9    \u001b[0m\u001b[1m x10   \u001b[0m\u001b[1m x\u001b[0m ⋯\n",
       "\u001b[1m     \u001b[0m│\u001b[90m Int64 \u001b[0m\u001b[90m Int64 \u001b[0m\u001b[90m Int64 \u001b[0m\u001b[90m Int64 \u001b[0m\u001b[90m Int64 \u001b[0m\u001b[90m Int64 \u001b[0m\u001b[90m Int64 \u001b[0m\u001b[90m Int64 \u001b[0m\u001b[90m Int64 \u001b[0m\u001b[90m Int64 \u001b[0m\u001b[90m I\u001b[0m ⋯\n",
       "─────┼──────────────────────────────────────────────────────────────────────────\n",
       "   1 │    10      2      9      9      2      4      8      6  1      7      8 ⋯\n",
       "   2 │     2      6      2      8      3      8      6      3  10     5      5\n",
       "   3 │     1      5      3      7      5      7      7      1  5      7      1\n",
       "   4 │     9     10     10      7      1      5      6      5  9      6      7\n",
       "   5 │     1     10      8      7      5      8      2      1  10     9      5 ⋯\n",
       "   6 │     2      6      7      8     10      4      4      4  3      8      5\n",
       "   7 │     8      7     10      8      9      2      3      3  5      2      9\n",
       "   8 │     5      8      4      6      7      6      3      4  8      7      7\n",
       "   9 │     8      8      5      1      5      5      6      5  4      8      4 ⋯\n",
       "  10 │     2      9      4      8      6      7      2      5  1      9      6\n",
       "\u001b[31m                                                             990 columns omitted\u001b[0m"
      ]
     },
     "execution_count": 44,
     "metadata": {},
     "output_type": "execute_result"
    }
   ],
   "source": [
    "df = DataFrame(rand(1:10, 10, 1000), :auto)"
   ]
  },
  {
   "cell_type": "code",
   "execution_count": 45,
   "metadata": {},
   "outputs": [],
   "source": [
    "# GzipCompressorStream comes from CodecZlib\n",
    "\n",
    "open(\"df_compress_test.csv.gz\", \"w\") do io\n",
    "    stream = GzipCompressorStream(io)\n",
    "    CSV.write(stream, df)\n",
    "    close(stream)\n",
    "end"
   ]
  },
  {
   "cell_type": "code",
   "execution_count": 46,
   "metadata": {},
   "outputs": [
    {
     "data": {
      "text/html": [
       "<table class=\"data-frame\"><thead><tr><th></th><th>x1</th><th>x2</th><th>x3</th><th>x4</th><th>x5</th><th>x6</th><th>x7</th><th>x8</th><th>x9</th><th>x10</th><th>x11</th><th>x12</th></tr><tr><th></th><th>Int64</th><th>Int64</th><th>Int64</th><th>Int64</th><th>Int64</th><th>Int64</th><th>Int64</th><th>Int64</th><th>Int64</th><th>Int64</th><th>Int64</th><th>Int64</th></tr></thead><tbody><p>10 rows × 1,000 columns (omitted printing of 988 columns)</p><tr><th>1</th><td>10</td><td>2</td><td>9</td><td>9</td><td>2</td><td>4</td><td>8</td><td>6</td><td>1</td><td>7</td><td>8</td><td>1</td></tr><tr><th>2</th><td>2</td><td>6</td><td>2</td><td>8</td><td>3</td><td>8</td><td>6</td><td>3</td><td>10</td><td>5</td><td>5</td><td>1</td></tr><tr><th>3</th><td>1</td><td>5</td><td>3</td><td>7</td><td>5</td><td>7</td><td>7</td><td>1</td><td>5</td><td>7</td><td>10</td><td>7</td></tr><tr><th>4</th><td>9</td><td>10</td><td>10</td><td>7</td><td>1</td><td>5</td><td>6</td><td>5</td><td>9</td><td>6</td><td>7</td><td>10</td></tr><tr><th>5</th><td>1</td><td>10</td><td>8</td><td>7</td><td>5</td><td>8</td><td>2</td><td>1</td><td>10</td><td>9</td><td>5</td><td>1</td></tr><tr><th>6</th><td>2</td><td>6</td><td>7</td><td>8</td><td>10</td><td>4</td><td>4</td><td>4</td><td>3</td><td>8</td><td>5</td><td>5</td></tr><tr><th>7</th><td>8</td><td>7</td><td>10</td><td>8</td><td>9</td><td>2</td><td>3</td><td>3</td><td>5</td><td>2</td><td>9</td><td>7</td></tr><tr><th>8</th><td>5</td><td>8</td><td>4</td><td>6</td><td>7</td><td>6</td><td>3</td><td>4</td><td>8</td><td>7</td><td>7</td><td>8</td></tr><tr><th>9</th><td>8</td><td>8</td><td>5</td><td>1</td><td>5</td><td>5</td><td>6</td><td>5</td><td>4</td><td>8</td><td>4</td><td>7</td></tr><tr><th>10</th><td>2</td><td>9</td><td>4</td><td>8</td><td>6</td><td>7</td><td>2</td><td>5</td><td>1</td><td>9</td><td>6</td><td>1</td></tr></tbody></table>"
      ],
      "text/latex": [
       "\\begin{tabular}{r|ccccccccccccc}\n",
       "\t& x1 & x2 & x3 & x4 & x5 & x6 & x7 & x8 & x9 & x10 & x11 & x12 & \\\\\n",
       "\t\\hline\n",
       "\t& Int64 & Int64 & Int64 & Int64 & Int64 & Int64 & Int64 & Int64 & Int64 & Int64 & Int64 & Int64 & \\\\\n",
       "\t\\hline\n",
       "\t1 & 10 & 2 & 9 & 9 & 2 & 4 & 8 & 6 & 1 & 7 & 8 & 1 & $\\dots$ \\\\\n",
       "\t2 & 2 & 6 & 2 & 8 & 3 & 8 & 6 & 3 & 10 & 5 & 5 & 1 & $\\dots$ \\\\\n",
       "\t3 & 1 & 5 & 3 & 7 & 5 & 7 & 7 & 1 & 5 & 7 & 10 & 7 & $\\dots$ \\\\\n",
       "\t4 & 9 & 10 & 10 & 7 & 1 & 5 & 6 & 5 & 9 & 6 & 7 & 10 & $\\dots$ \\\\\n",
       "\t5 & 1 & 10 & 8 & 7 & 5 & 8 & 2 & 1 & 10 & 9 & 5 & 1 & $\\dots$ \\\\\n",
       "\t6 & 2 & 6 & 7 & 8 & 10 & 4 & 4 & 4 & 3 & 8 & 5 & 5 & $\\dots$ \\\\\n",
       "\t7 & 8 & 7 & 10 & 8 & 9 & 2 & 3 & 3 & 5 & 2 & 9 & 7 & $\\dots$ \\\\\n",
       "\t8 & 5 & 8 & 4 & 6 & 7 & 6 & 3 & 4 & 8 & 7 & 7 & 8 & $\\dots$ \\\\\n",
       "\t9 & 8 & 8 & 5 & 1 & 5 & 5 & 6 & 5 & 4 & 8 & 4 & 7 & $\\dots$ \\\\\n",
       "\t10 & 2 & 9 & 4 & 8 & 6 & 7 & 2 & 5 & 1 & 9 & 6 & 1 & $\\dots$ \\\\\n",
       "\\end{tabular}\n"
      ],
      "text/plain": [
       "\u001b[1m10×1000 DataFrame\u001b[0m\n",
       "\u001b[1m Row \u001b[0m│\u001b[1m x1    \u001b[0m\u001b[1m x2    \u001b[0m\u001b[1m x3    \u001b[0m\u001b[1m x4    \u001b[0m\u001b[1m x5    \u001b[0m\u001b[1m x6    \u001b[0m\u001b[1m x7    \u001b[0m\u001b[1m x8    \u001b[0m\u001b[1m x9    \u001b[0m\u001b[1m x10   \u001b[0m\u001b[1m x\u001b[0m ⋯\n",
       "\u001b[1m     \u001b[0m│\u001b[90m Int64 \u001b[0m\u001b[90m Int64 \u001b[0m\u001b[90m Int64 \u001b[0m\u001b[90m Int64 \u001b[0m\u001b[90m Int64 \u001b[0m\u001b[90m Int64 \u001b[0m\u001b[90m Int64 \u001b[0m\u001b[90m Int64 \u001b[0m\u001b[90m Int64 \u001b[0m\u001b[90m Int64 \u001b[0m\u001b[90m I\u001b[0m ⋯\n",
       "─────┼──────────────────────────────────────────────────────────────────────────\n",
       "   1 │    10      2      9      9      2      4      8      6  1      7      8 ⋯\n",
       "   2 │     2      6      2      8      3      8      6      3  10     5      5\n",
       "   3 │     1      5      3      7      5      7      7      1  5      7      1\n",
       "   4 │     9     10     10      7      1      5      6      5  9      6      7\n",
       "   5 │     1     10      8      7      5      8      2      1  10     9      5 ⋯\n",
       "   6 │     2      6      7      8     10      4      4      4  3      8      5\n",
       "   7 │     8      7     10      8      9      2      3      3  5      2      9\n",
       "   8 │     5      8      4      6      7      6      3      4  8      7      7\n",
       "   9 │     8      8      5      1      5      5      6      5  4      8      4 ⋯\n",
       "  10 │     2      9      4      8      6      7      2      5  1      9      6\n",
       "\u001b[31m                                                             990 columns omitted\u001b[0m"
      ]
     },
     "execution_count": 46,
     "metadata": {},
     "output_type": "execute_result"
    }
   ],
   "source": [
    "df2 = CSV.File(transcode(GzipDecompressor, Mmap.mmap(\"df_compress_test.csv.gz\"))) |> DataFrame"
   ]
  },
  {
   "cell_type": "code",
   "execution_count": 47,
   "metadata": {},
   "outputs": [
    {
     "data": {
      "text/plain": [
       "true"
      ]
     },
     "execution_count": 47,
     "metadata": {},
     "output_type": "execute_result"
    }
   ],
   "source": [
    "df == df2"
   ]
  },
  {
   "cell_type": "markdown",
   "metadata": {},
   "source": [
    "### Using zip files"
   ]
  },
  {
   "cell_type": "markdown",
   "metadata": {},
   "source": [
    "Sometimes you may have files compressed inside a zip file.\n",
    "\n",
    "In such a situation you may use [ZipFile.jl](https://github.com/fhs/ZipFile.jl) in conjunction an an appropriate reader to read the files."
   ]
  },
  {
   "cell_type": "markdown",
   "metadata": {},
   "source": [
    "Here we first create a ZIP file and then read back its contents into a `DataFrame`."
   ]
  },
  {
   "cell_type": "code",
   "execution_count": 48,
   "metadata": {},
   "outputs": [
    {
     "data": {
      "text/html": [
       "<table class=\"data-frame\"><thead><tr><th></th><th>x1</th><th>x2</th><th>x3</th><th>x4</th></tr><tr><th></th><th>Int64</th><th>Int64</th><th>Int64</th><th>Int64</th></tr></thead><tbody><p>3 rows × 4 columns</p><tr><th>1</th><td>9</td><td>10</td><td>9</td><td>1</td></tr><tr><th>2</th><td>4</td><td>1</td><td>1</td><td>6</td></tr><tr><th>3</th><td>1</td><td>5</td><td>8</td><td>10</td></tr></tbody></table>"
      ],
      "text/latex": [
       "\\begin{tabular}{r|cccc}\n",
       "\t& x1 & x2 & x3 & x4\\\\\n",
       "\t\\hline\n",
       "\t& Int64 & Int64 & Int64 & Int64\\\\\n",
       "\t\\hline\n",
       "\t1 & 9 & 10 & 9 & 1 \\\\\n",
       "\t2 & 4 & 1 & 1 & 6 \\\\\n",
       "\t3 & 1 & 5 & 8 & 10 \\\\\n",
       "\\end{tabular}\n"
      ],
      "text/plain": [
       "\u001b[1m3×4 DataFrame\u001b[0m\n",
       "\u001b[1m Row \u001b[0m│\u001b[1m x1    \u001b[0m\u001b[1m x2    \u001b[0m\u001b[1m x3    \u001b[0m\u001b[1m x4    \u001b[0m\n",
       "\u001b[1m     \u001b[0m│\u001b[90m Int64 \u001b[0m\u001b[90m Int64 \u001b[0m\u001b[90m Int64 \u001b[0m\u001b[90m Int64 \u001b[0m\n",
       "─────┼────────────────────────────\n",
       "   1 │     9     10      9      1\n",
       "   2 │     4      1      1      6\n",
       "   3 │     1      5      8     10"
      ]
     },
     "execution_count": 48,
     "metadata": {},
     "output_type": "execute_result"
    }
   ],
   "source": [
    "df1 = DataFrame(rand(1:10, 3, 4), :auto)"
   ]
  },
  {
   "cell_type": "code",
   "execution_count": 49,
   "metadata": {},
   "outputs": [
    {
     "data": {
      "text/html": [
       "<table class=\"data-frame\"><thead><tr><th></th><th>x1</th><th>x2</th><th>x3</th><th>x4</th></tr><tr><th></th><th>Int64</th><th>Int64</th><th>Int64</th><th>Int64</th></tr></thead><tbody><p>3 rows × 4 columns</p><tr><th>1</th><td>3</td><td>4</td><td>2</td><td>2</td></tr><tr><th>2</th><td>10</td><td>3</td><td>9</td><td>3</td></tr><tr><th>3</th><td>7</td><td>7</td><td>8</td><td>6</td></tr></tbody></table>"
      ],
      "text/latex": [
       "\\begin{tabular}{r|cccc}\n",
       "\t& x1 & x2 & x3 & x4\\\\\n",
       "\t\\hline\n",
       "\t& Int64 & Int64 & Int64 & Int64\\\\\n",
       "\t\\hline\n",
       "\t1 & 3 & 4 & 2 & 2 \\\\\n",
       "\t2 & 10 & 3 & 9 & 3 \\\\\n",
       "\t3 & 7 & 7 & 8 & 6 \\\\\n",
       "\\end{tabular}\n"
      ],
      "text/plain": [
       "\u001b[1m3×4 DataFrame\u001b[0m\n",
       "\u001b[1m Row \u001b[0m│\u001b[1m x1    \u001b[0m\u001b[1m x2    \u001b[0m\u001b[1m x3    \u001b[0m\u001b[1m x4    \u001b[0m\n",
       "\u001b[1m     \u001b[0m│\u001b[90m Int64 \u001b[0m\u001b[90m Int64 \u001b[0m\u001b[90m Int64 \u001b[0m\u001b[90m Int64 \u001b[0m\n",
       "─────┼────────────────────────────\n",
       "   1 │     3      4      2      2\n",
       "   2 │    10      3      9      3\n",
       "   3 │     7      7      8      6"
      ]
     },
     "execution_count": 49,
     "metadata": {},
     "output_type": "execute_result"
    }
   ],
   "source": [
    "df2 = DataFrame(rand(1:10, 3, 4), :auto)"
   ]
  },
  {
   "cell_type": "markdown",
   "metadata": {},
   "source": [
    "And we show yet another way to write a `DataFrame` into a CSV file"
   ]
  },
  {
   "cell_type": "code",
   "execution_count": 50,
   "metadata": {},
   "outputs": [],
   "source": [
    "# write a CSV file into the zip file\n",
    "w = ZipFile.Writer(\"x.zip\")\n",
    "\n",
    "f1 = ZipFile.addfile(w, \"x1.csv\")\n",
    "write(f1, sprint(show, \"text/csv\", df1))\n",
    "\n",
    "# write a second CSV file into zip file\n",
    "f2 = ZipFile.addfile(w, \"x2.csv\", method=ZipFile.Deflate)\n",
    "write(f2, sprint(show, \"text/csv\", df2))\n",
    "\n",
    "close(w)"
   ]
  },
  {
   "cell_type": "markdown",
   "metadata": {},
   "source": [
    "Now we read the CSV we have written:"
   ]
  },
  {
   "cell_type": "code",
   "execution_count": 51,
   "metadata": {},
   "outputs": [],
   "source": [
    "z = ZipFile.Reader(\"x.zip\");"
   ]
  },
  {
   "cell_type": "code",
   "execution_count": 52,
   "metadata": {},
   "outputs": [
    {
     "data": {
      "text/html": [
       "<table class=\"data-frame\"><thead><tr><th></th><th>x1</th><th>x2</th><th>x3</th><th>x4</th></tr><tr><th></th><th>Int64</th><th>Int64</th><th>Int64</th><th>Int64</th></tr></thead><tbody><p>3 rows × 4 columns</p><tr><th>1</th><td>9</td><td>10</td><td>9</td><td>1</td></tr><tr><th>2</th><td>4</td><td>1</td><td>1</td><td>6</td></tr><tr><th>3</th><td>1</td><td>5</td><td>8</td><td>10</td></tr></tbody></table>"
      ],
      "text/latex": [
       "\\begin{tabular}{r|cccc}\n",
       "\t& x1 & x2 & x3 & x4\\\\\n",
       "\t\\hline\n",
       "\t& Int64 & Int64 & Int64 & Int64\\\\\n",
       "\t\\hline\n",
       "\t1 & 9 & 10 & 9 & 1 \\\\\n",
       "\t2 & 4 & 1 & 1 & 6 \\\\\n",
       "\t3 & 1 & 5 & 8 & 10 \\\\\n",
       "\\end{tabular}\n"
      ],
      "text/plain": [
       "\u001b[1m3×4 DataFrame\u001b[0m\n",
       "\u001b[1m Row \u001b[0m│\u001b[1m x1    \u001b[0m\u001b[1m x2    \u001b[0m\u001b[1m x3    \u001b[0m\u001b[1m x4    \u001b[0m\n",
       "\u001b[1m     \u001b[0m│\u001b[90m Int64 \u001b[0m\u001b[90m Int64 \u001b[0m\u001b[90m Int64 \u001b[0m\u001b[90m Int64 \u001b[0m\n",
       "─────┼────────────────────────────\n",
       "   1 │     9     10      9      1\n",
       "   2 │     4      1      1      6\n",
       "   3 │     1      5      8     10"
      ]
     },
     "execution_count": 52,
     "metadata": {},
     "output_type": "execute_result"
    }
   ],
   "source": [
    "# find the index index of file called x1.csv\n",
    "index_xcsv = findfirst(x->x.name == \"x1.csv\", z.files)\n",
    "# to read the x1.csv file in the zip file\n",
    "df1_2 = CSV.read(read(z.files[index_xcsv]), DataFrame)"
   ]
  },
  {
   "cell_type": "code",
   "execution_count": 53,
   "metadata": {},
   "outputs": [
    {
     "data": {
      "text/plain": [
       "true"
      ]
     },
     "execution_count": 53,
     "metadata": {},
     "output_type": "execute_result"
    }
   ],
   "source": [
    "df1_2 == df1"
   ]
  },
  {
   "cell_type": "code",
   "execution_count": 54,
   "metadata": {},
   "outputs": [
    {
     "data": {
      "text/html": [
       "<table class=\"data-frame\"><thead><tr><th></th><th>x1</th><th>x2</th><th>x3</th><th>x4</th></tr><tr><th></th><th>Int64</th><th>Int64</th><th>Int64</th><th>Int64</th></tr></thead><tbody><p>3 rows × 4 columns</p><tr><th>1</th><td>3</td><td>4</td><td>2</td><td>2</td></tr><tr><th>2</th><td>10</td><td>3</td><td>9</td><td>3</td></tr><tr><th>3</th><td>7</td><td>7</td><td>8</td><td>6</td></tr></tbody></table>"
      ],
      "text/latex": [
       "\\begin{tabular}{r|cccc}\n",
       "\t& x1 & x2 & x3 & x4\\\\\n",
       "\t\\hline\n",
       "\t& Int64 & Int64 & Int64 & Int64\\\\\n",
       "\t\\hline\n",
       "\t1 & 3 & 4 & 2 & 2 \\\\\n",
       "\t2 & 10 & 3 & 9 & 3 \\\\\n",
       "\t3 & 7 & 7 & 8 & 6 \\\\\n",
       "\\end{tabular}\n"
      ],
      "text/plain": [
       "\u001b[1m3×4 DataFrame\u001b[0m\n",
       "\u001b[1m Row \u001b[0m│\u001b[1m x1    \u001b[0m\u001b[1m x2    \u001b[0m\u001b[1m x3    \u001b[0m\u001b[1m x4    \u001b[0m\n",
       "\u001b[1m     \u001b[0m│\u001b[90m Int64 \u001b[0m\u001b[90m Int64 \u001b[0m\u001b[90m Int64 \u001b[0m\u001b[90m Int64 \u001b[0m\n",
       "─────┼────────────────────────────\n",
       "   1 │     3      4      2      2\n",
       "   2 │    10      3      9      3\n",
       "   3 │     7      7      8      6"
      ]
     },
     "execution_count": 54,
     "metadata": {},
     "output_type": "execute_result"
    }
   ],
   "source": [
    "# find the index index of file called x2.csv\n",
    "index_xcsv = findfirst(x->x.name == \"x2.csv\", z.files)\n",
    "# to read the x2.csv file in the zip file\n",
    "df2_2 = CSV.read(read(z.files[index_xcsv]), DataFrame)"
   ]
  },
  {
   "cell_type": "code",
   "execution_count": 55,
   "metadata": {},
   "outputs": [
    {
     "data": {
      "text/plain": [
       "true"
      ]
     },
     "execution_count": 55,
     "metadata": {},
     "output_type": "execute_result"
    }
   ],
   "source": [
    "df2_2 == df2"
   ]
  },
  {
   "cell_type": "markdown",
   "metadata": {},
   "source": [
    "Note that once you read a given file from `z` object its stream is all used-up (it is at its end). Therefore to read it again you need to close `z` and open it again.\n",
    "\n",
    "Also do not forget to close the zip file once done."
   ]
  },
  {
   "cell_type": "code",
   "execution_count": 56,
   "metadata": {},
   "outputs": [],
   "source": [
    "close(z)"
   ]
  },
  {
   "cell_type": "markdown",
   "metadata": {},
   "source": [
    "Finally, let's clean up. Do not run the next cell unless you are sure that it will not erase your important files."
   ]
  },
  {
   "cell_type": "code",
   "execution_count": 57,
   "metadata": {},
   "outputs": [],
   "source": [
    "foreach(rm, [\"x1.csv\", \"x.bin\", \"x.jlso\", \"x1.json\", \"x2.json\",\n",
    "             \"bigdf1.csv\", \"bigdf.bin\", \"bigdf.jlso\", \"bigdf1.json\", \"bigdf2.json\", \n",
    "             \"x.zip\"])"
   ]
  },
  {
   "cell_type": "code",
   "execution_count": 58,
   "metadata": {},
   "outputs": [],
   "source": [
    "rm(\"bigdf.jdf\", recursive=true)\n",
    "rm(\"x.jdf\", recursive=true)"
   ]
  },
  {
   "cell_type": "markdown",
   "metadata": {},
   "source": [
    "Note that we did not remove `x.arrow` and `bigdf.arrow` and `df_compress_test.csv.gz` - you have to do it manually, as these files are memory mapped."
   ]
  }
 ],
 "metadata": {
  "@webio": {
   "lastCommId": null,
   "lastKernelId": null
  },
  "kernelspec": {
   "display_name": "Julia 1.5.3",
   "language": "julia",
   "name": "julia-1.5"
  },
  "language_info": {
   "file_extension": ".jl",
   "mimetype": "application/julia",
   "name": "julia",
   "version": "1.5.3"
  }
 },
 "nbformat": 4,
 "nbformat_minor": 4
}
