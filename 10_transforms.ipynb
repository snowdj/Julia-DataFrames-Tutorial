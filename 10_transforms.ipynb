{
 "cells": [
  {
   "cell_type": "markdown",
   "metadata": {},
   "source": [
    "# Introduction to DataFrames\n",
    "**[Bogumił Kamiński](http://bogumilkaminski.pl/about/), December 8, 2019**"
   ]
  },
  {
   "cell_type": "code",
   "execution_count": 1,
   "metadata": {},
   "outputs": [],
   "source": [
    "using DataFrames"
   ]
  },
  {
   "cell_type": "markdown",
   "metadata": {},
   "source": [
    "## Split-apply-combine"
   ]
  },
  {
   "cell_type": "markdown",
   "metadata": {},
   "source": [
    "### Grouping a data frame"
   ]
  },
  {
   "cell_type": "code",
   "execution_count": 2,
   "metadata": {},
   "outputs": [
    {
     "data": {
      "text/html": [
       "<table class=\"data-frame\"><thead><tr><th></th><th>id</th><th>id2</th><th>v</th></tr><tr><th></th><th>Int64</th><th>Int64</th><th>Float64</th></tr></thead><tbody><p>8 rows × 3 columns</p><tr><th>1</th><td>1</td><td>1</td><td>0.969649</td></tr><tr><th>2</th><td>2</td><td>2</td><td>0.707424</td></tr><tr><th>3</th><td>3</td><td>1</td><td>0.556397</td></tr><tr><th>4</th><td>4</td><td>2</td><td>0.398913</td></tr><tr><th>5</th><td>1</td><td>1</td><td>0.536786</td></tr><tr><th>6</th><td>2</td><td>2</td><td>0.716584</td></tr><tr><th>7</th><td>3</td><td>1</td><td>0.726574</td></tr><tr><th>8</th><td>4</td><td>2</td><td>0.766508</td></tr></tbody></table>"
      ],
      "text/latex": [
       "\\begin{tabular}{r|ccc}\n",
       "\t& id & id2 & v\\\\\n",
       "\t\\hline\n",
       "\t& Int64 & Int64 & Float64\\\\\n",
       "\t\\hline\n",
       "\t1 & 1 & 1 & 0.969649 \\\\\n",
       "\t2 & 2 & 2 & 0.707424 \\\\\n",
       "\t3 & 3 & 1 & 0.556397 \\\\\n",
       "\t4 & 4 & 2 & 0.398913 \\\\\n",
       "\t5 & 1 & 1 & 0.536786 \\\\\n",
       "\t6 & 2 & 2 & 0.716584 \\\\\n",
       "\t7 & 3 & 1 & 0.726574 \\\\\n",
       "\t8 & 4 & 2 & 0.766508 \\\\\n",
       "\\end{tabular}\n"
      ],
      "text/plain": [
       "8×3 DataFrame\n",
       "│ Row │ id    │ id2   │ v        │\n",
       "│     │ \u001b[90mInt64\u001b[39m │ \u001b[90mInt64\u001b[39m │ \u001b[90mFloat64\u001b[39m  │\n",
       "├─────┼───────┼───────┼──────────┤\n",
       "│ 1   │ 1     │ 1     │ 0.969649 │\n",
       "│ 2   │ 2     │ 2     │ 0.707424 │\n",
       "│ 3   │ 3     │ 1     │ 0.556397 │\n",
       "│ 4   │ 4     │ 2     │ 0.398913 │\n",
       "│ 5   │ 1     │ 1     │ 0.536786 │\n",
       "│ 6   │ 2     │ 2     │ 0.716584 │\n",
       "│ 7   │ 3     │ 1     │ 0.726574 │\n",
       "│ 8   │ 4     │ 2     │ 0.766508 │"
      ]
     },
     "execution_count": 2,
     "metadata": {},
     "output_type": "execute_result"
    }
   ],
   "source": [
    "x = DataFrame(id=[1,2,3,4,1,2,3,4], id2=[1,2,1,2,1,2,1,2], v=rand(8))"
   ]
  },
  {
   "cell_type": "code",
   "execution_count": 3,
   "metadata": {
    "scrolled": true
   },
   "outputs": [
    {
     "data": {
      "text/html": [
       "<p><b>GroupedDataFrame with 4 groups based on key: id</b></p><p><i>First Group (2 rows): id = 1</i></p><table class=\"data-frame\"><thead><tr><th></th><th>id</th><th>id2</th><th>v</th></tr><tr><th></th><th>Int64</th><th>Int64</th><th>Float64</th></tr></thead><tbody><tr><th>1</th><td>1</td><td>1</td><td>0.969649</td></tr><tr><th>2</th><td>1</td><td>1</td><td>0.536786</td></tr></tbody></table><p>&vellip;</p><p><i>Last Group (2 rows): id = 4</i></p><table class=\"data-frame\"><thead><tr><th></th><th>id</th><th>id2</th><th>v</th></tr><tr><th></th><th>Int64</th><th>Int64</th><th>Float64</th></tr></thead><tbody><tr><th>1</th><td>4</td><td>2</td><td>0.398913</td></tr><tr><th>2</th><td>4</td><td>2</td><td>0.766508</td></tr></tbody></table>"
      ],
      "text/latex": [
       "GroupedDataFrame with 4 groups based on key: id\n",
       "\n",
       "First Group (2 rows): id = 1\n",
       "\n",
       "\\begin{tabular}{r|ccc}\n",
       "\t& id & id2 & v\\\\\n",
       "\t\\hline\n",
       "\t& Int64 & Int64 & Float64\\\\\n",
       "\t\\hline\n",
       "\t1 & 1 & 1 & 0.969649 \\\\\n",
       "\t2 & 1 & 1 & 0.536786 \\\\\n",
       "\\end{tabular}\n",
       "\n",
       "$\\dots$\n",
       "\n",
       "Last Group (2 rows): id = 4\n",
       "\n",
       "\\begin{tabular}{r|ccc}\n",
       "\t& id & id2 & v\\\\\n",
       "\t\\hline\n",
       "\t& Int64 & Int64 & Float64\\\\\n",
       "\t\\hline\n",
       "\t1 & 4 & 2 & 0.398913 \\\\\n",
       "\t2 & 4 & 2 & 0.766508 \\\\\n",
       "\\end{tabular}\n"
      ],
      "text/plain": [
       "GroupedDataFrame with 4 groups based on key: id\n",
       "First Group (2 rows): id = 1\n",
       "│ Row │ id    │ id2   │ v        │\n",
       "│     │ \u001b[90mInt64\u001b[39m │ \u001b[90mInt64\u001b[39m │ \u001b[90mFloat64\u001b[39m  │\n",
       "├─────┼───────┼───────┼──────────┤\n",
       "│ 1   │ 1     │ 1     │ 0.969649 │\n",
       "│ 2   │ 1     │ 1     │ 0.536786 │\n",
       "⋮\n",
       "Last Group (2 rows): id = 4\n",
       "│ Row │ id    │ id2   │ v        │\n",
       "│     │ \u001b[90mInt64\u001b[39m │ \u001b[90mInt64\u001b[39m │ \u001b[90mFloat64\u001b[39m  │\n",
       "├─────┼───────┼───────┼──────────┤\n",
       "│ 1   │ 4     │ 2     │ 0.398913 │\n",
       "│ 2   │ 4     │ 2     │ 0.766508 │"
      ]
     },
     "execution_count": 3,
     "metadata": {},
     "output_type": "execute_result"
    }
   ],
   "source": [
    "groupby(x, :id)"
   ]
  },
  {
   "cell_type": "code",
   "execution_count": 4,
   "metadata": {},
   "outputs": [
    {
     "data": {
      "text/html": [
       "<p><b>GroupedDataFrame with 1 group based on key: </b></p><p><i>First Group (8 rows): </i></p><table class=\"data-frame\"><thead><tr><th></th><th>id</th><th>id2</th><th>v</th></tr><tr><th></th><th>Int64</th><th>Int64</th><th>Float64</th></tr></thead><tbody><tr><th>1</th><td>1</td><td>1</td><td>0.969649</td></tr><tr><th>2</th><td>2</td><td>2</td><td>0.707424</td></tr><tr><th>3</th><td>3</td><td>1</td><td>0.556397</td></tr><tr><th>4</th><td>4</td><td>2</td><td>0.398913</td></tr><tr><th>5</th><td>1</td><td>1</td><td>0.536786</td></tr><tr><th>6</th><td>2</td><td>2</td><td>0.716584</td></tr><tr><th>7</th><td>3</td><td>1</td><td>0.726574</td></tr><tr><th>8</th><td>4</td><td>2</td><td>0.766508</td></tr></tbody></table>"
      ],
      "text/latex": [
       "GroupedDataFrame with 1 group based on key: \n",
       "\n",
       "First Group (8 rows): \n",
       "\n",
       "\\begin{tabular}{r|ccc}\n",
       "\t& id & id2 & v\\\\\n",
       "\t\\hline\n",
       "\t& Int64 & Int64 & Float64\\\\\n",
       "\t\\hline\n",
       "\t1 & 1 & 1 & 0.969649 \\\\\n",
       "\t2 & 2 & 2 & 0.707424 \\\\\n",
       "\t3 & 3 & 1 & 0.556397 \\\\\n",
       "\t4 & 4 & 2 & 0.398913 \\\\\n",
       "\t5 & 1 & 1 & 0.536786 \\\\\n",
       "\t6 & 2 & 2 & 0.716584 \\\\\n",
       "\t7 & 3 & 1 & 0.726574 \\\\\n",
       "\t8 & 4 & 2 & 0.766508 \\\\\n",
       "\\end{tabular}\n"
      ],
      "text/plain": [
       "GroupedDataFrame with 1 group based on key: \n",
       "First Group (8 rows): \n",
       "│ Row │ id    │ id2   │ v        │\n",
       "│     │ \u001b[90mInt64\u001b[39m │ \u001b[90mInt64\u001b[39m │ \u001b[90mFloat64\u001b[39m  │\n",
       "├─────┼───────┼───────┼──────────┤\n",
       "│ 1   │ 1     │ 1     │ 0.969649 │\n",
       "│ 2   │ 2     │ 2     │ 0.707424 │\n",
       "│ 3   │ 3     │ 1     │ 0.556397 │\n",
       "│ 4   │ 4     │ 2     │ 0.398913 │\n",
       "│ 5   │ 1     │ 1     │ 0.536786 │\n",
       "│ 6   │ 2     │ 2     │ 0.716584 │\n",
       "│ 7   │ 3     │ 1     │ 0.726574 │\n",
       "│ 8   │ 4     │ 2     │ 0.766508 │"
      ]
     },
     "execution_count": 4,
     "metadata": {},
     "output_type": "execute_result"
    }
   ],
   "source": [
    "groupby(x, []) # no grouping columns produce a single group; it can be useful for aggregations over a whole data frame"
   ]
  },
  {
   "cell_type": "code",
   "execution_count": 5,
   "metadata": {},
   "outputs": [
    {
     "data": {
      "text/html": [
       "<p><b>GroupedDataFrame with 4 groups based on keys: id, id2</b></p><p><i>First Group (2 rows): id = 1, id2 = 1</i></p><table class=\"data-frame\"><thead><tr><th></th><th>id</th><th>id2</th><th>v</th></tr><tr><th></th><th>Int64</th><th>Int64</th><th>Float64</th></tr></thead><tbody><tr><th>1</th><td>1</td><td>1</td><td>0.969649</td></tr><tr><th>2</th><td>1</td><td>1</td><td>0.536786</td></tr></tbody></table><p>&vellip;</p><p><i>Last Group (2 rows): id = 4, id2 = 2</i></p><table class=\"data-frame\"><thead><tr><th></th><th>id</th><th>id2</th><th>v</th></tr><tr><th></th><th>Int64</th><th>Int64</th><th>Float64</th></tr></thead><tbody><tr><th>1</th><td>4</td><td>2</td><td>0.398913</td></tr><tr><th>2</th><td>4</td><td>2</td><td>0.766508</td></tr></tbody></table>"
      ],
      "text/latex": [
       "GroupedDataFrame with 4 groups based on keys: id, id2\n",
       "\n",
       "First Group (2 rows): id = 1, id2 = 1\n",
       "\n",
       "\\begin{tabular}{r|ccc}\n",
       "\t& id & id2 & v\\\\\n",
       "\t\\hline\n",
       "\t& Int64 & Int64 & Float64\\\\\n",
       "\t\\hline\n",
       "\t1 & 1 & 1 & 0.969649 \\\\\n",
       "\t2 & 1 & 1 & 0.536786 \\\\\n",
       "\\end{tabular}\n",
       "\n",
       "$\\dots$\n",
       "\n",
       "Last Group (2 rows): id = 4, id2 = 2\n",
       "\n",
       "\\begin{tabular}{r|ccc}\n",
       "\t& id & id2 & v\\\\\n",
       "\t\\hline\n",
       "\t& Int64 & Int64 & Float64\\\\\n",
       "\t\\hline\n",
       "\t1 & 4 & 2 & 0.398913 \\\\\n",
       "\t2 & 4 & 2 & 0.766508 \\\\\n",
       "\\end{tabular}\n"
      ],
      "text/plain": [
       "GroupedDataFrame with 4 groups based on keys: id, id2\n",
       "First Group (2 rows): id = 1, id2 = 1\n",
       "│ Row │ id    │ id2   │ v        │\n",
       "│     │ \u001b[90mInt64\u001b[39m │ \u001b[90mInt64\u001b[39m │ \u001b[90mFloat64\u001b[39m  │\n",
       "├─────┼───────┼───────┼──────────┤\n",
       "│ 1   │ 1     │ 1     │ 0.969649 │\n",
       "│ 2   │ 1     │ 1     │ 0.536786 │\n",
       "⋮\n",
       "Last Group (2 rows): id = 4, id2 = 2\n",
       "│ Row │ id    │ id2   │ v        │\n",
       "│     │ \u001b[90mInt64\u001b[39m │ \u001b[90mInt64\u001b[39m │ \u001b[90mFloat64\u001b[39m  │\n",
       "├─────┼───────┼───────┼──────────┤\n",
       "│ 1   │ 4     │ 2     │ 0.398913 │\n",
       "│ 2   │ 4     │ 2     │ 0.766508 │"
      ]
     },
     "execution_count": 5,
     "metadata": {},
     "output_type": "execute_result"
    }
   ],
   "source": [
    "gx2 = groupby(x, [:id, :id2])"
   ]
  },
  {
   "cell_type": "code",
   "execution_count": 6,
   "metadata": {},
   "outputs": [
    {
     "data": {
      "text/html": [
       "<table class=\"data-frame\"><thead><tr><th></th><th>id</th><th>id2</th><th>v</th></tr><tr><th></th><th>Int64</th><th>Int64</th><th>Float64</th></tr></thead><tbody><p>8 rows × 3 columns</p><tr><th>1</th><td>1</td><td>1</td><td>0.969649</td></tr><tr><th>2</th><td>2</td><td>2</td><td>0.707424</td></tr><tr><th>3</th><td>3</td><td>1</td><td>0.556397</td></tr><tr><th>4</th><td>4</td><td>2</td><td>0.398913</td></tr><tr><th>5</th><td>1</td><td>1</td><td>0.536786</td></tr><tr><th>6</th><td>2</td><td>2</td><td>0.716584</td></tr><tr><th>7</th><td>3</td><td>1</td><td>0.726574</td></tr><tr><th>8</th><td>4</td><td>2</td><td>0.766508</td></tr></tbody></table>"
      ],
      "text/latex": [
       "\\begin{tabular}{r|ccc}\n",
       "\t& id & id2 & v\\\\\n",
       "\t\\hline\n",
       "\t& Int64 & Int64 & Float64\\\\\n",
       "\t\\hline\n",
       "\t1 & 1 & 1 & 0.969649 \\\\\n",
       "\t2 & 2 & 2 & 0.707424 \\\\\n",
       "\t3 & 3 & 1 & 0.556397 \\\\\n",
       "\t4 & 4 & 2 & 0.398913 \\\\\n",
       "\t5 & 1 & 1 & 0.536786 \\\\\n",
       "\t6 & 2 & 2 & 0.716584 \\\\\n",
       "\t7 & 3 & 1 & 0.726574 \\\\\n",
       "\t8 & 4 & 2 & 0.766508 \\\\\n",
       "\\end{tabular}\n"
      ],
      "text/plain": [
       "8×3 DataFrame\n",
       "│ Row │ id    │ id2   │ v        │\n",
       "│     │ \u001b[90mInt64\u001b[39m │ \u001b[90mInt64\u001b[39m │ \u001b[90mFloat64\u001b[39m  │\n",
       "├─────┼───────┼───────┼──────────┤\n",
       "│ 1   │ 1     │ 1     │ 0.969649 │\n",
       "│ 2   │ 2     │ 2     │ 0.707424 │\n",
       "│ 3   │ 3     │ 1     │ 0.556397 │\n",
       "│ 4   │ 4     │ 2     │ 0.398913 │\n",
       "│ 5   │ 1     │ 1     │ 0.536786 │\n",
       "│ 6   │ 2     │ 2     │ 0.716584 │\n",
       "│ 7   │ 3     │ 1     │ 0.726574 │\n",
       "│ 8   │ 4     │ 2     │ 0.766508 │"
      ]
     },
     "execution_count": 6,
     "metadata": {},
     "output_type": "execute_result"
    }
   ],
   "source": [
    "parent(gx2) # get the parent DataFrame "
   ]
  },
  {
   "cell_type": "code",
   "execution_count": 7,
   "metadata": {},
   "outputs": [
    {
     "data": {
      "text/html": [
       "<table class=\"data-frame\"><thead><tr><th></th><th>id</th><th>id2</th><th>v</th></tr><tr><th></th><th>Int64</th><th>Int64</th><th>Float64</th></tr></thead><tbody><p>8 rows × 3 columns</p><tr><th>1</th><td>1</td><td>1</td><td>0.969649</td></tr><tr><th>2</th><td>1</td><td>1</td><td>0.536786</td></tr><tr><th>3</th><td>2</td><td>2</td><td>0.707424</td></tr><tr><th>4</th><td>2</td><td>2</td><td>0.716584</td></tr><tr><th>5</th><td>3</td><td>1</td><td>0.556397</td></tr><tr><th>6</th><td>3</td><td>1</td><td>0.726574</td></tr><tr><th>7</th><td>4</td><td>2</td><td>0.398913</td></tr><tr><th>8</th><td>4</td><td>2</td><td>0.766508</td></tr></tbody></table>"
      ],
      "text/latex": [
       "\\begin{tabular}{r|ccc}\n",
       "\t& id & id2 & v\\\\\n",
       "\t\\hline\n",
       "\t& Int64 & Int64 & Float64\\\\\n",
       "\t\\hline\n",
       "\t1 & 1 & 1 & 0.969649 \\\\\n",
       "\t2 & 1 & 1 & 0.536786 \\\\\n",
       "\t3 & 2 & 2 & 0.707424 \\\\\n",
       "\t4 & 2 & 2 & 0.716584 \\\\\n",
       "\t5 & 3 & 1 & 0.556397 \\\\\n",
       "\t6 & 3 & 1 & 0.726574 \\\\\n",
       "\t7 & 4 & 2 & 0.398913 \\\\\n",
       "\t8 & 4 & 2 & 0.766508 \\\\\n",
       "\\end{tabular}\n"
      ],
      "text/plain": [
       "8×3 DataFrame\n",
       "│ Row │ id    │ id2   │ v        │\n",
       "│     │ \u001b[90mInt64\u001b[39m │ \u001b[90mInt64\u001b[39m │ \u001b[90mFloat64\u001b[39m  │\n",
       "├─────┼───────┼───────┼──────────┤\n",
       "│ 1   │ 1     │ 1     │ 0.969649 │\n",
       "│ 2   │ 1     │ 1     │ 0.536786 │\n",
       "│ 3   │ 2     │ 2     │ 0.707424 │\n",
       "│ 4   │ 2     │ 2     │ 0.716584 │\n",
       "│ 5   │ 3     │ 1     │ 0.556397 │\n",
       "│ 6   │ 3     │ 1     │ 0.726574 │\n",
       "│ 7   │ 4     │ 2     │ 0.398913 │\n",
       "│ 8   │ 4     │ 2     │ 0.766508 │"
      ]
     },
     "execution_count": 7,
     "metadata": {},
     "output_type": "execute_result"
    }
   ],
   "source": [
    "vcat(gx2...) # back to the DataFrame, but in a different order of rows than the original"
   ]
  },
  {
   "cell_type": "code",
   "execution_count": 8,
   "metadata": {},
   "outputs": [
    {
     "data": {
      "text/html": [
       "<table class=\"data-frame\"><thead><tr><th></th><th>id</th><th>id2</th><th>v</th></tr><tr><th></th><th>Int64</th><th>Int64</th><th>Float64</th></tr></thead><tbody><p>8 rows × 3 columns</p><tr><th>1</th><td>1</td><td>1</td><td>0.969649</td></tr><tr><th>2</th><td>1</td><td>1</td><td>0.536786</td></tr><tr><th>3</th><td>2</td><td>2</td><td>0.707424</td></tr><tr><th>4</th><td>2</td><td>2</td><td>0.716584</td></tr><tr><th>5</th><td>3</td><td>1</td><td>0.556397</td></tr><tr><th>6</th><td>3</td><td>1</td><td>0.726574</td></tr><tr><th>7</th><td>4</td><td>2</td><td>0.398913</td></tr><tr><th>8</th><td>4</td><td>2</td><td>0.766508</td></tr></tbody></table>"
      ],
      "text/latex": [
       "\\begin{tabular}{r|ccc}\n",
       "\t& id & id2 & v\\\\\n",
       "\t\\hline\n",
       "\t& Int64 & Int64 & Float64\\\\\n",
       "\t\\hline\n",
       "\t1 & 1 & 1 & 0.969649 \\\\\n",
       "\t2 & 1 & 1 & 0.536786 \\\\\n",
       "\t3 & 2 & 2 & 0.707424 \\\\\n",
       "\t4 & 2 & 2 & 0.716584 \\\\\n",
       "\t5 & 3 & 1 & 0.556397 \\\\\n",
       "\t6 & 3 & 1 & 0.726574 \\\\\n",
       "\t7 & 4 & 2 & 0.398913 \\\\\n",
       "\t8 & 4 & 2 & 0.766508 \\\\\n",
       "\\end{tabular}\n"
      ],
      "text/plain": [
       "8×3 DataFrame\n",
       "│ Row │ id    │ id2   │ v        │\n",
       "│     │ \u001b[90mInt64\u001b[39m │ \u001b[90mInt64\u001b[39m │ \u001b[90mFloat64\u001b[39m  │\n",
       "├─────┼───────┼───────┼──────────┤\n",
       "│ 1   │ 1     │ 1     │ 0.969649 │\n",
       "│ 2   │ 1     │ 1     │ 0.536786 │\n",
       "│ 3   │ 2     │ 2     │ 0.707424 │\n",
       "│ 4   │ 2     │ 2     │ 0.716584 │\n",
       "│ 5   │ 3     │ 1     │ 0.556397 │\n",
       "│ 6   │ 3     │ 1     │ 0.726574 │\n",
       "│ 7   │ 4     │ 2     │ 0.398913 │\n",
       "│ 8   │ 4     │ 2     │ 0.766508 │"
      ]
     },
     "execution_count": 8,
     "metadata": {},
     "output_type": "execute_result"
    }
   ],
   "source": [
    "DataFrame(gx2) # the same"
   ]
  },
  {
   "cell_type": "code",
   "execution_count": 9,
   "metadata": {},
   "outputs": [
    {
     "data": {
      "text/plain": [
       "2-element Array{Symbol,1}:\n",
       " :id \n",
       " :id2"
      ]
     },
     "execution_count": 9,
     "metadata": {},
     "output_type": "execute_result"
    }
   ],
   "source": [
    "groupvars(gx2) # vector of names of grouping variables"
   ]
  },
  {
   "cell_type": "code",
   "execution_count": 10,
   "metadata": {},
   "outputs": [
    {
     "data": {
      "text/plain": [
       "8-element Array{Union{Missing, Int64},1}:\n",
       " 1\n",
       " 2\n",
       " 3\n",
       " 4\n",
       " 1\n",
       " 2\n",
       " 3\n",
       " 4"
      ]
     },
     "execution_count": 10,
     "metadata": {},
     "output_type": "execute_result"
    }
   ],
   "source": [
    "groupindices(gx2) # group indices in parent(gx2)"
   ]
  },
  {
   "cell_type": "code",
   "execution_count": 11,
   "metadata": {},
   "outputs": [
    {
     "data": {
      "text/plain": [
       "4-element DataFrames.GroupKeys{GroupedDataFrame{DataFrame}}:\n",
       " GroupKey: (id = 1, id2 = 1)\n",
       " GroupKey: (id = 2, id2 = 2)\n",
       " GroupKey: (id = 3, id2 = 1)\n",
       " GroupKey: (id = 4, id2 = 2)"
      ]
     },
     "execution_count": 11,
     "metadata": {},
     "output_type": "execute_result"
    }
   ],
   "source": [
    "kgx2 = keys(gx2)"
   ]
  },
  {
   "cell_type": "markdown",
   "metadata": {},
   "source": [
    "You can index into a `GroupedDataFrame` like to a vector or to a dictionary.\n",
    "The second form acceps `GroupKey`, `NamedTuple` or a `Tuple`"
   ]
  },
  {
   "cell_type": "code",
   "execution_count": 12,
   "metadata": {},
   "outputs": [
    {
     "data": {
      "text/html": [
       "<p><b>GroupedDataFrame with 4 groups based on keys: id, id2</b></p><p><i>First Group (2 rows): id = 1, id2 = 1</i></p><table class=\"data-frame\"><thead><tr><th></th><th>id</th><th>id2</th><th>v</th></tr><tr><th></th><th>Int64</th><th>Int64</th><th>Float64</th></tr></thead><tbody><tr><th>1</th><td>1</td><td>1</td><td>0.969649</td></tr><tr><th>2</th><td>1</td><td>1</td><td>0.536786</td></tr></tbody></table><p>&vellip;</p><p><i>Last Group (2 rows): id = 4, id2 = 2</i></p><table class=\"data-frame\"><thead><tr><th></th><th>id</th><th>id2</th><th>v</th></tr><tr><th></th><th>Int64</th><th>Int64</th><th>Float64</th></tr></thead><tbody><tr><th>1</th><td>4</td><td>2</td><td>0.398913</td></tr><tr><th>2</th><td>4</td><td>2</td><td>0.766508</td></tr></tbody></table>"
      ],
      "text/latex": [
       "GroupedDataFrame with 4 groups based on keys: id, id2\n",
       "\n",
       "First Group (2 rows): id = 1, id2 = 1\n",
       "\n",
       "\\begin{tabular}{r|ccc}\n",
       "\t& id & id2 & v\\\\\n",
       "\t\\hline\n",
       "\t& Int64 & Int64 & Float64\\\\\n",
       "\t\\hline\n",
       "\t1 & 1 & 1 & 0.969649 \\\\\n",
       "\t2 & 1 & 1 & 0.536786 \\\\\n",
       "\\end{tabular}\n",
       "\n",
       "$\\dots$\n",
       "\n",
       "Last Group (2 rows): id = 4, id2 = 2\n",
       "\n",
       "\\begin{tabular}{r|ccc}\n",
       "\t& id & id2 & v\\\\\n",
       "\t\\hline\n",
       "\t& Int64 & Int64 & Float64\\\\\n",
       "\t\\hline\n",
       "\t1 & 4 & 2 & 0.398913 \\\\\n",
       "\t2 & 4 & 2 & 0.766508 \\\\\n",
       "\\end{tabular}\n"
      ],
      "text/plain": [
       "GroupedDataFrame with 4 groups based on keys: id, id2\n",
       "First Group (2 rows): id = 1, id2 = 1\n",
       "│ Row │ id    │ id2   │ v        │\n",
       "│     │ \u001b[90mInt64\u001b[39m │ \u001b[90mInt64\u001b[39m │ \u001b[90mFloat64\u001b[39m  │\n",
       "├─────┼───────┼───────┼──────────┤\n",
       "│ 1   │ 1     │ 1     │ 0.969649 │\n",
       "│ 2   │ 1     │ 1     │ 0.536786 │\n",
       "⋮\n",
       "Last Group (2 rows): id = 4, id2 = 2\n",
       "│ Row │ id    │ id2   │ v        │\n",
       "│     │ \u001b[90mInt64\u001b[39m │ \u001b[90mInt64\u001b[39m │ \u001b[90mFloat64\u001b[39m  │\n",
       "├─────┼───────┼───────┼──────────┤\n",
       "│ 1   │ 4     │ 2     │ 0.398913 │\n",
       "│ 2   │ 4     │ 2     │ 0.766508 │"
      ]
     },
     "execution_count": 12,
     "metadata": {},
     "output_type": "execute_result"
    }
   ],
   "source": [
    "gx2"
   ]
  },
  {
   "cell_type": "code",
   "execution_count": 13,
   "metadata": {},
   "outputs": [
    {
     "data": {
      "text/plain": [
       "GroupKey: (id = 1, id2 = 1)"
      ]
     },
     "execution_count": 13,
     "metadata": {},
     "output_type": "execute_result"
    }
   ],
   "source": [
    "k = keys(gx2)[1]"
   ]
  },
  {
   "cell_type": "code",
   "execution_count": 14,
   "metadata": {},
   "outputs": [
    {
     "data": {
      "text/plain": [
       "(id = 1, id2 = 1)"
      ]
     },
     "execution_count": 14,
     "metadata": {},
     "output_type": "execute_result"
    }
   ],
   "source": [
    "ntk = NamedTuple(k)"
   ]
  },
  {
   "cell_type": "code",
   "execution_count": 15,
   "metadata": {},
   "outputs": [
    {
     "data": {
      "text/plain": [
       "(1, 1)"
      ]
     },
     "execution_count": 15,
     "metadata": {},
     "output_type": "execute_result"
    }
   ],
   "source": [
    "tk = Tuple(k)"
   ]
  },
  {
   "cell_type": "markdown",
   "metadata": {},
   "source": [
    "the operations below produce the same result"
   ]
  },
  {
   "cell_type": "code",
   "execution_count": 16,
   "metadata": {},
   "outputs": [
    {
     "data": {
      "text/html": [
       "<table class=\"data-frame\"><thead><tr><th></th><th>id</th><th>id2</th><th>v</th></tr><tr><th></th><th>Int64</th><th>Int64</th><th>Float64</th></tr></thead><tbody><p>2 rows × 3 columns</p><tr><th>1</th><td>1</td><td>1</td><td>0.969649</td></tr><tr><th>2</th><td>1</td><td>1</td><td>0.536786</td></tr></tbody></table>"
      ],
      "text/latex": [
       "\\begin{tabular}{r|ccc}\n",
       "\t& id & id2 & v\\\\\n",
       "\t\\hline\n",
       "\t& Int64 & Int64 & Float64\\\\\n",
       "\t\\hline\n",
       "\t1 & 1 & 1 & 0.969649 \\\\\n",
       "\t2 & 1 & 1 & 0.536786 \\\\\n",
       "\\end{tabular}\n"
      ],
      "text/plain": [
       "2×3 SubDataFrame\n",
       "│ Row │ id    │ id2   │ v        │\n",
       "│     │ \u001b[90mInt64\u001b[39m │ \u001b[90mInt64\u001b[39m │ \u001b[90mFloat64\u001b[39m  │\n",
       "├─────┼───────┼───────┼──────────┤\n",
       "│ 1   │ 1     │ 1     │ 0.969649 │\n",
       "│ 2   │ 1     │ 1     │ 0.536786 │"
      ]
     },
     "execution_count": 16,
     "metadata": {},
     "output_type": "execute_result"
    }
   ],
   "source": [
    "gx2[1]"
   ]
  },
  {
   "cell_type": "code",
   "execution_count": 17,
   "metadata": {},
   "outputs": [
    {
     "data": {
      "text/html": [
       "<table class=\"data-frame\"><thead><tr><th></th><th>id</th><th>id2</th><th>v</th></tr><tr><th></th><th>Int64</th><th>Int64</th><th>Float64</th></tr></thead><tbody><p>2 rows × 3 columns</p><tr><th>1</th><td>1</td><td>1</td><td>0.969649</td></tr><tr><th>2</th><td>1</td><td>1</td><td>0.536786</td></tr></tbody></table>"
      ],
      "text/latex": [
       "\\begin{tabular}{r|ccc}\n",
       "\t& id & id2 & v\\\\\n",
       "\t\\hline\n",
       "\t& Int64 & Int64 & Float64\\\\\n",
       "\t\\hline\n",
       "\t1 & 1 & 1 & 0.969649 \\\\\n",
       "\t2 & 1 & 1 & 0.536786 \\\\\n",
       "\\end{tabular}\n"
      ],
      "text/plain": [
       "2×3 SubDataFrame\n",
       "│ Row │ id    │ id2   │ v        │\n",
       "│     │ \u001b[90mInt64\u001b[39m │ \u001b[90mInt64\u001b[39m │ \u001b[90mFloat64\u001b[39m  │\n",
       "├─────┼───────┼───────┼──────────┤\n",
       "│ 1   │ 1     │ 1     │ 0.969649 │\n",
       "│ 2   │ 1     │ 1     │ 0.536786 │"
      ]
     },
     "execution_count": 17,
     "metadata": {},
     "output_type": "execute_result"
    }
   ],
   "source": [
    "gx2[k]"
   ]
  },
  {
   "cell_type": "code",
   "execution_count": 18,
   "metadata": {},
   "outputs": [
    {
     "data": {
      "text/html": [
       "<table class=\"data-frame\"><thead><tr><th></th><th>id</th><th>id2</th><th>v</th></tr><tr><th></th><th>Int64</th><th>Int64</th><th>Float64</th></tr></thead><tbody><p>2 rows × 3 columns</p><tr><th>1</th><td>1</td><td>1</td><td>0.969649</td></tr><tr><th>2</th><td>1</td><td>1</td><td>0.536786</td></tr></tbody></table>"
      ],
      "text/latex": [
       "\\begin{tabular}{r|ccc}\n",
       "\t& id & id2 & v\\\\\n",
       "\t\\hline\n",
       "\t& Int64 & Int64 & Float64\\\\\n",
       "\t\\hline\n",
       "\t1 & 1 & 1 & 0.969649 \\\\\n",
       "\t2 & 1 & 1 & 0.536786 \\\\\n",
       "\\end{tabular}\n"
      ],
      "text/plain": [
       "2×3 SubDataFrame\n",
       "│ Row │ id    │ id2   │ v        │\n",
       "│     │ \u001b[90mInt64\u001b[39m │ \u001b[90mInt64\u001b[39m │ \u001b[90mFloat64\u001b[39m  │\n",
       "├─────┼───────┼───────┼──────────┤\n",
       "│ 1   │ 1     │ 1     │ 0.969649 │\n",
       "│ 2   │ 1     │ 1     │ 0.536786 │"
      ]
     },
     "execution_count": 18,
     "metadata": {},
     "output_type": "execute_result"
    }
   ],
   "source": [
    "gx2[ntk]"
   ]
  },
  {
   "cell_type": "code",
   "execution_count": 19,
   "metadata": {},
   "outputs": [
    {
     "data": {
      "text/html": [
       "<table class=\"data-frame\"><thead><tr><th></th><th>id</th><th>id2</th><th>v</th></tr><tr><th></th><th>Int64</th><th>Int64</th><th>Float64</th></tr></thead><tbody><p>2 rows × 3 columns</p><tr><th>1</th><td>1</td><td>1</td><td>0.969649</td></tr><tr><th>2</th><td>1</td><td>1</td><td>0.536786</td></tr></tbody></table>"
      ],
      "text/latex": [
       "\\begin{tabular}{r|ccc}\n",
       "\t& id & id2 & v\\\\\n",
       "\t\\hline\n",
       "\t& Int64 & Int64 & Float64\\\\\n",
       "\t\\hline\n",
       "\t1 & 1 & 1 & 0.969649 \\\\\n",
       "\t2 & 1 & 1 & 0.536786 \\\\\n",
       "\\end{tabular}\n"
      ],
      "text/plain": [
       "2×3 SubDataFrame\n",
       "│ Row │ id    │ id2   │ v        │\n",
       "│     │ \u001b[90mInt64\u001b[39m │ \u001b[90mInt64\u001b[39m │ \u001b[90mFloat64\u001b[39m  │\n",
       "├─────┼───────┼───────┼──────────┤\n",
       "│ 1   │ 1     │ 1     │ 0.969649 │\n",
       "│ 2   │ 1     │ 1     │ 0.536786 │"
      ]
     },
     "execution_count": 19,
     "metadata": {},
     "output_type": "execute_result"
    }
   ],
   "source": [
    "gx2[tk]"
   ]
  },
  {
   "cell_type": "markdown",
   "metadata": {},
   "source": [
    "handling missing values"
   ]
  },
  {
   "cell_type": "code",
   "execution_count": 20,
   "metadata": {},
   "outputs": [
    {
     "data": {
      "text/html": [
       "<table class=\"data-frame\"><thead><tr><th></th><th>id</th><th>x</th></tr><tr><th></th><th>Int64⍰</th><th>Int64</th></tr></thead><tbody><p>5 rows × 2 columns</p><tr><th>1</th><td>missing</td><td>1</td></tr><tr><th>2</th><td>5</td><td>2</td></tr><tr><th>3</th><td>1</td><td>3</td></tr><tr><th>4</th><td>3</td><td>4</td></tr><tr><th>5</th><td>missing</td><td>5</td></tr></tbody></table>"
      ],
      "text/latex": [
       "\\begin{tabular}{r|cc}\n",
       "\t& id & x\\\\\n",
       "\t\\hline\n",
       "\t& Int64⍰ & Int64\\\\\n",
       "\t\\hline\n",
       "\t1 &  & 1 \\\\\n",
       "\t2 & 5 & 2 \\\\\n",
       "\t3 & 1 & 3 \\\\\n",
       "\t4 & 3 & 4 \\\\\n",
       "\t5 &  & 5 \\\\\n",
       "\\end{tabular}\n"
      ],
      "text/plain": [
       "5×2 DataFrame\n",
       "│ Row │ id      │ x     │\n",
       "│     │ \u001b[90mInt64⍰\u001b[39m  │ \u001b[90mInt64\u001b[39m │\n",
       "├─────┼─────────┼───────┤\n",
       "│ 1   │ \u001b[90mmissing\u001b[39m │ 1     │\n",
       "│ 2   │ 5       │ 2     │\n",
       "│ 3   │ 1       │ 3     │\n",
       "│ 4   │ 3       │ 4     │\n",
       "│ 5   │ \u001b[90mmissing\u001b[39m │ 5     │"
      ]
     },
     "execution_count": 20,
     "metadata": {},
     "output_type": "execute_result"
    }
   ],
   "source": [
    "x = DataFrame(id = [missing, 5, 1, 3, missing], x = 1:5)"
   ]
  },
  {
   "cell_type": "code",
   "execution_count": 21,
   "metadata": {},
   "outputs": [
    {
     "data": {
      "text/html": [
       "<p><b>GroupedDataFrame with 4 groups based on key: id</b></p><p><i>First Group (2 rows): id = missing</i></p><table class=\"data-frame\"><thead><tr><th></th><th>id</th><th>x</th></tr><tr><th></th><th>Int64⍰</th><th>Int64</th></tr></thead><tbody><tr><th>1</th><td>missing</td><td>1</td></tr><tr><th>2</th><td>missing</td><td>5</td></tr></tbody></table><p>&vellip;</p><p><i>Last Group (1 row): id = 3</i></p><table class=\"data-frame\"><thead><tr><th></th><th>id</th><th>x</th></tr><tr><th></th><th>Int64⍰</th><th>Int64</th></tr></thead><tbody><tr><th>1</th><td>3</td><td>4</td></tr></tbody></table>"
      ],
      "text/latex": [
       "GroupedDataFrame with 4 groups based on key: id\n",
       "\n",
       "First Group (2 rows): id = missing\n",
       "\n",
       "\\begin{tabular}{r|cc}\n",
       "\t& id & x\\\\\n",
       "\t\\hline\n",
       "\t& Int64⍰ & Int64\\\\\n",
       "\t\\hline\n",
       "\t1 &  & 1 \\\\\n",
       "\t2 &  & 5 \\\\\n",
       "\\end{tabular}\n",
       "\n",
       "$\\dots$\n",
       "\n",
       "Last Group (1 row): id = 3\n",
       "\n",
       "\\begin{tabular}{r|cc}\n",
       "\t& id & x\\\\\n",
       "\t\\hline\n",
       "\t& Int64⍰ & Int64\\\\\n",
       "\t\\hline\n",
       "\t1 & 3 & 4 \\\\\n",
       "\\end{tabular}\n"
      ],
      "text/plain": [
       "GroupedDataFrame with 4 groups based on key: id\n",
       "First Group (2 rows): id = missing\n",
       "│ Row │ id      │ x     │\n",
       "│     │ \u001b[90mInt64⍰\u001b[39m  │ \u001b[90mInt64\u001b[39m │\n",
       "├─────┼─────────┼───────┤\n",
       "│ 1   │ \u001b[90mmissing\u001b[39m │ 1     │\n",
       "│ 2   │ \u001b[90mmissing\u001b[39m │ 5     │\n",
       "⋮\n",
       "Last Group (1 row): id = 3\n",
       "│ Row │ id     │ x     │\n",
       "│     │ \u001b[90mInt64⍰\u001b[39m │ \u001b[90mInt64\u001b[39m │\n",
       "├─────┼────────┼───────┤\n",
       "│ 1   │ 3      │ 4     │"
      ]
     },
     "execution_count": 21,
     "metadata": {},
     "output_type": "execute_result"
    }
   ],
   "source": [
    "groupby(x, :id) # by default groups include mising values and are not sorted"
   ]
  },
  {
   "cell_type": "code",
   "execution_count": 22,
   "metadata": {},
   "outputs": [
    {
     "data": {
      "text/html": [
       "<p><b>GroupedDataFrame with 3 groups based on key: id</b></p><p><i>First Group (1 row): id = 1</i></p><table class=\"data-frame\"><thead><tr><th></th><th>id</th><th>x</th></tr><tr><th></th><th>Int64⍰</th><th>Int64</th></tr></thead><tbody><tr><th>1</th><td>1</td><td>3</td></tr></tbody></table><p>&vellip;</p><p><i>Last Group (1 row): id = 5</i></p><table class=\"data-frame\"><thead><tr><th></th><th>id</th><th>x</th></tr><tr><th></th><th>Int64⍰</th><th>Int64</th></tr></thead><tbody><tr><th>1</th><td>5</td><td>2</td></tr></tbody></table>"
      ],
      "text/latex": [
       "GroupedDataFrame with 3 groups based on key: id\n",
       "\n",
       "First Group (1 row): id = 1\n",
       "\n",
       "\\begin{tabular}{r|cc}\n",
       "\t& id & x\\\\\n",
       "\t\\hline\n",
       "\t& Int64⍰ & Int64\\\\\n",
       "\t\\hline\n",
       "\t1 & 1 & 3 \\\\\n",
       "\\end{tabular}\n",
       "\n",
       "$\\dots$\n",
       "\n",
       "Last Group (1 row): id = 5\n",
       "\n",
       "\\begin{tabular}{r|cc}\n",
       "\t& id & x\\\\\n",
       "\t\\hline\n",
       "\t& Int64⍰ & Int64\\\\\n",
       "\t\\hline\n",
       "\t1 & 5 & 2 \\\\\n",
       "\\end{tabular}\n"
      ],
      "text/plain": [
       "GroupedDataFrame with 3 groups based on key: id\n",
       "First Group (1 row): id = 1\n",
       "│ Row │ id     │ x     │\n",
       "│     │ \u001b[90mInt64⍰\u001b[39m │ \u001b[90mInt64\u001b[39m │\n",
       "├─────┼────────┼───────┤\n",
       "│ 1   │ 1      │ 3     │\n",
       "⋮\n",
       "Last Group (1 row): id = 5\n",
       "│ Row │ id     │ x     │\n",
       "│     │ \u001b[90mInt64⍰\u001b[39m │ \u001b[90mInt64\u001b[39m │\n",
       "├─────┼────────┼───────┤\n",
       "│ 1   │ 5      │ 2     │"
      ]
     },
     "execution_count": 22,
     "metadata": {},
     "output_type": "execute_result"
    }
   ],
   "source": [
    "groupby(x, :id, sort=true, skipmissing=true) # but we can change it"
   ]
  },
  {
   "cell_type": "markdown",
   "metadata": {},
   "source": [
    "### Performing transformations by group using `by`"
   ]
  },
  {
   "cell_type": "code",
   "execution_count": 23,
   "metadata": {},
   "outputs": [
    {
     "data": {
      "text/html": [
       "<table class=\"data-frame\"><thead><tr><th></th><th>id</th><th>v_mean</th></tr><tr><th></th><th>Char</th><th>Float64</th></tr></thead><tbody><p>4 rows × 2 columns</p><tr><th>1</th><td>'d'</td><td>0.415229</td></tr><tr><th>2</th><td>'c'</td><td>0.536199</td></tr><tr><th>3</th><td>'b'</td><td>0.54997</td></tr><tr><th>4</th><td>'a'</td><td>0.438933</td></tr></tbody></table>"
      ],
      "text/latex": [
       "\\begin{tabular}{r|cc}\n",
       "\t& id & v\\_mean\\\\\n",
       "\t\\hline\n",
       "\t& Char & Float64\\\\\n",
       "\t\\hline\n",
       "\t1 & 'd' & 0.415229 \\\\\n",
       "\t2 & 'c' & 0.536199 \\\\\n",
       "\t3 & 'b' & 0.54997 \\\\\n",
       "\t4 & 'a' & 0.438933 \\\\\n",
       "\\end{tabular}\n"
      ],
      "text/plain": [
       "4×2 DataFrame\n",
       "│ Row │ id   │ v_mean   │\n",
       "│     │ \u001b[90mChar\u001b[39m │ \u001b[90mFloat64\u001b[39m  │\n",
       "├─────┼──────┼──────────┤\n",
       "│ 1   │ 'd'  │ 0.415229 │\n",
       "│ 2   │ 'c'  │ 0.536199 │\n",
       "│ 3   │ 'b'  │ 0.54997  │\n",
       "│ 4   │ 'a'  │ 0.438933 │"
      ]
     },
     "execution_count": 23,
     "metadata": {},
     "output_type": "execute_result"
    }
   ],
   "source": [
    "using Statistics\n",
    "x = DataFrame(id=rand('a':'d', 100), v=rand(100));\n",
    "by(x, :id, :v=>mean) # apply a function to each group of a data frame"
   ]
  },
  {
   "cell_type": "code",
   "execution_count": 24,
   "metadata": {},
   "outputs": [
    {
     "data": {
      "text/html": [
       "<table class=\"data-frame\"><thead><tr><th></th><th>id</th><th>v_mean</th></tr><tr><th></th><th>Char</th><th>Float64</th></tr></thead><tbody><p>4 rows × 2 columns</p><tr><th>1</th><td>'a'</td><td>0.438933</td></tr><tr><th>2</th><td>'b'</td><td>0.54997</td></tr><tr><th>3</th><td>'c'</td><td>0.536199</td></tr><tr><th>4</th><td>'d'</td><td>0.415229</td></tr></tbody></table>"
      ],
      "text/latex": [
       "\\begin{tabular}{r|cc}\n",
       "\t& id & v\\_mean\\\\\n",
       "\t\\hline\n",
       "\t& Char & Float64\\\\\n",
       "\t\\hline\n",
       "\t1 & 'a' & 0.438933 \\\\\n",
       "\t2 & 'b' & 0.54997 \\\\\n",
       "\t3 & 'c' & 0.536199 \\\\\n",
       "\t4 & 'd' & 0.415229 \\\\\n",
       "\\end{tabular}\n"
      ],
      "text/plain": [
       "4×2 DataFrame\n",
       "│ Row │ id   │ v_mean   │\n",
       "│     │ \u001b[90mChar\u001b[39m │ \u001b[90mFloat64\u001b[39m  │\n",
       "├─────┼──────┼──────────┤\n",
       "│ 1   │ 'a'  │ 0.438933 │\n",
       "│ 2   │ 'b'  │ 0.54997  │\n",
       "│ 3   │ 'c'  │ 0.536199 │\n",
       "│ 4   │ 'd'  │ 0.415229 │"
      ]
     },
     "execution_count": 24,
     "metadata": {},
     "output_type": "execute_result"
    }
   ],
   "source": [
    "by(x, :id, :v=>mean, sort=true) # we can sort the output"
   ]
  },
  {
   "cell_type": "code",
   "execution_count": 25,
   "metadata": {},
   "outputs": [
    {
     "data": {
      "text/html": [
       "<table class=\"data-frame\"><thead><tr><th></th><th>id</th><th>res</th></tr><tr><th></th><th>Char</th><th>Float64</th></tr></thead><tbody><p>4 rows × 2 columns</p><tr><th>1</th><td>'d'</td><td>0.415229</td></tr><tr><th>2</th><td>'c'</td><td>0.536199</td></tr><tr><th>3</th><td>'b'</td><td>0.54997</td></tr><tr><th>4</th><td>'a'</td><td>0.438933</td></tr></tbody></table>"
      ],
      "text/latex": [
       "\\begin{tabular}{r|cc}\n",
       "\t& id & res\\\\\n",
       "\t\\hline\n",
       "\t& Char & Float64\\\\\n",
       "\t\\hline\n",
       "\t1 & 'd' & 0.415229 \\\\\n",
       "\t2 & 'c' & 0.536199 \\\\\n",
       "\t3 & 'b' & 0.54997 \\\\\n",
       "\t4 & 'a' & 0.438933 \\\\\n",
       "\\end{tabular}\n"
      ],
      "text/plain": [
       "4×2 DataFrame\n",
       "│ Row │ id   │ res      │\n",
       "│     │ \u001b[90mChar\u001b[39m │ \u001b[90mFloat64\u001b[39m  │\n",
       "├─────┼──────┼──────────┤\n",
       "│ 1   │ 'd'  │ 0.415229 │\n",
       "│ 2   │ 'c'  │ 0.536199 │\n",
       "│ 3   │ 'b'  │ 0.54997  │\n",
       "│ 4   │ 'a'  │ 0.438933 │"
      ]
     },
     "execution_count": 25,
     "metadata": {},
     "output_type": "execute_result"
    }
   ],
   "source": [
    "by(x, :id, res=:v=>mean) # this way we can set a name for a column"
   ]
  },
  {
   "cell_type": "code",
   "execution_count": 26,
   "metadata": {},
   "outputs": [
    {
     "data": {
      "text/html": [
       "<table class=\"data-frame\"><thead><tr><th></th><th>id</th><th>res1</th><th>res2</th></tr><tr><th></th><th>Char</th><th>Float64</th><th>Float64</th></tr></thead><tbody><p>4 rows × 3 columns</p><tr><th>1</th><td>'d'</td><td>0.415229</td><td>7.88936</td></tr><tr><th>2</th><td>'c'</td><td>0.536199</td><td>21.9842</td></tr><tr><th>3</th><td>'b'</td><td>0.54997</td><td>12.0993</td></tr><tr><th>4</th><td>'a'</td><td>0.438933</td><td>7.90079</td></tr></tbody></table>"
      ],
      "text/latex": [
       "\\begin{tabular}{r|ccc}\n",
       "\t& id & res1 & res2\\\\\n",
       "\t\\hline\n",
       "\t& Char & Float64 & Float64\\\\\n",
       "\t\\hline\n",
       "\t1 & 'd' & 0.415229 & 7.88936 \\\\\n",
       "\t2 & 'c' & 0.536199 & 21.9842 \\\\\n",
       "\t3 & 'b' & 0.54997 & 12.0993 \\\\\n",
       "\t4 & 'a' & 0.438933 & 7.90079 \\\\\n",
       "\\end{tabular}\n"
      ],
      "text/plain": [
       "4×3 DataFrame\n",
       "│ Row │ id   │ res1     │ res2    │\n",
       "│     │ \u001b[90mChar\u001b[39m │ \u001b[90mFloat64\u001b[39m  │ \u001b[90mFloat64\u001b[39m │\n",
       "├─────┼──────┼──────────┼─────────┤\n",
       "│ 1   │ 'd'  │ 0.415229 │ 7.88936 │\n",
       "│ 2   │ 'c'  │ 0.536199 │ 21.9842 │\n",
       "│ 3   │ 'b'  │ 0.54997  │ 12.0993 │\n",
       "│ 4   │ 'a'  │ 0.438933 │ 7.90079 │"
      ]
     },
     "execution_count": 26,
     "metadata": {},
     "output_type": "execute_result"
    }
   ],
   "source": [
    "by(x, :id, res1=:v=>mean, res2=:v=>sum) # you can have multiple operations"
   ]
  },
  {
   "cell_type": "markdown",
   "metadata": {},
   "source": [
    "### Aggregation of a data frame using `aggregate`"
   ]
  },
  {
   "cell_type": "code",
   "execution_count": 27,
   "metadata": {},
   "outputs": [
    {
     "data": {
      "text/html": [
       "<table class=\"data-frame\"><thead><tr><th></th><th>id</th><th>x1_sum</th><th>x2_sum</th></tr><tr><th></th><th>Char</th><th>Float64</th><th>Float64</th></tr></thead><tbody><p>4 rows × 3 columns</p><tr><th>1</th><td>'d'</td><td>10.1913</td><td>9.79288</td></tr><tr><th>2</th><td>'a'</td><td>18.0119</td><td>17.5088</td></tr><tr><th>3</th><td>'c'</td><td>7.9908</td><td>7.4382</td></tr><tr><th>4</th><td>'b'</td><td>15.6003</td><td>12.5855</td></tr></tbody></table>"
      ],
      "text/latex": [
       "\\begin{tabular}{r|ccc}\n",
       "\t& id & x1\\_sum & x2\\_sum\\\\\n",
       "\t\\hline\n",
       "\t& Char & Float64 & Float64\\\\\n",
       "\t\\hline\n",
       "\t1 & 'd' & 10.1913 & 9.79288 \\\\\n",
       "\t2 & 'a' & 18.0119 & 17.5088 \\\\\n",
       "\t3 & 'c' & 7.9908 & 7.4382 \\\\\n",
       "\t4 & 'b' & 15.6003 & 12.5855 \\\\\n",
       "\\end{tabular}\n"
      ],
      "text/plain": [
       "4×3 DataFrame\n",
       "│ Row │ id   │ x1_sum  │ x2_sum  │\n",
       "│     │ \u001b[90mChar\u001b[39m │ \u001b[90mFloat64\u001b[39m │ \u001b[90mFloat64\u001b[39m │\n",
       "├─────┼──────┼─────────┼─────────┤\n",
       "│ 1   │ 'd'  │ 10.1913 │ 9.79288 │\n",
       "│ 2   │ 'a'  │ 18.0119 │ 17.5088 │\n",
       "│ 3   │ 'c'  │ 7.9908  │ 7.4382  │\n",
       "│ 4   │ 'b'  │ 15.6003 │ 12.5855 │"
      ]
     },
     "execution_count": 27,
     "metadata": {},
     "output_type": "execute_result"
    }
   ],
   "source": [
    "x = DataFrame(id=rand('a':'d', 100), x1=rand(100), x2=rand(100))\n",
    "aggregate(x, :id, sum) # apply a function over all columns of a data frame in groups given by id"
   ]
  },
  {
   "cell_type": "code",
   "execution_count": 28,
   "metadata": {},
   "outputs": [
    {
     "data": {
      "text/html": [
       "<table class=\"data-frame\"><thead><tr><th></th><th>id</th><th>x1_sum</th><th>x2_sum</th></tr><tr><th></th><th>Char</th><th>Float64</th><th>Float64</th></tr></thead><tbody><p>4 rows × 3 columns</p><tr><th>1</th><td>'a'</td><td>18.0119</td><td>17.5088</td></tr><tr><th>2</th><td>'b'</td><td>15.6003</td><td>12.5855</td></tr><tr><th>3</th><td>'c'</td><td>7.9908</td><td>7.4382</td></tr><tr><th>4</th><td>'d'</td><td>10.1913</td><td>9.79288</td></tr></tbody></table>"
      ],
      "text/latex": [
       "\\begin{tabular}{r|ccc}\n",
       "\t& id & x1\\_sum & x2\\_sum\\\\\n",
       "\t\\hline\n",
       "\t& Char & Float64 & Float64\\\\\n",
       "\t\\hline\n",
       "\t1 & 'a' & 18.0119 & 17.5088 \\\\\n",
       "\t2 & 'b' & 15.6003 & 12.5855 \\\\\n",
       "\t3 & 'c' & 7.9908 & 7.4382 \\\\\n",
       "\t4 & 'd' & 10.1913 & 9.79288 \\\\\n",
       "\\end{tabular}\n"
      ],
      "text/plain": [
       "4×3 DataFrame\n",
       "│ Row │ id   │ x1_sum  │ x2_sum  │\n",
       "│     │ \u001b[90mChar\u001b[39m │ \u001b[90mFloat64\u001b[39m │ \u001b[90mFloat64\u001b[39m │\n",
       "├─────┼──────┼─────────┼─────────┤\n",
       "│ 1   │ 'a'  │ 18.0119 │ 17.5088 │\n",
       "│ 2   │ 'b'  │ 15.6003 │ 12.5855 │\n",
       "│ 3   │ 'c'  │ 7.9908  │ 7.4382  │\n",
       "│ 4   │ 'd'  │ 10.1913 │ 9.79288 │"
      ]
     },
     "execution_count": 28,
     "metadata": {},
     "output_type": "execute_result"
    }
   ],
   "source": [
    "aggregate(x, :id, sum, sort=true) # also can be sorted"
   ]
  },
  {
   "cell_type": "markdown",
   "metadata": {},
   "source": [
    "Additionally you can use a `mapcols` convinience function"
   ]
  },
  {
   "cell_type": "code",
   "execution_count": 29,
   "metadata": {},
   "outputs": [
    {
     "data": {
      "text/html": [
       "<table class=\"data-frame\"><thead><tr><th></th><th>x1</th><th>x2</th><th>x3</th><th>x4</th><th>x5</th></tr><tr><th></th><th>Float64</th><th>Float64</th><th>Float64</th><th>Float64</th><th>Float64</th></tr></thead><tbody><p>3 rows × 5 columns</p><tr><th>1</th><td>0.724584</td><td>0.564722</td><td>0.125285</td><td>0.139595</td><td>0.269535</td></tr><tr><th>2</th><td>0.0283743</td><td>0.426664</td><td>0.449505</td><td>0.390202</td><td>0.368115</td></tr><tr><th>3</th><td>0.726498</td><td>0.304478</td><td>0.842521</td><td>0.430402</td><td>0.0972168</td></tr></tbody></table>"
      ],
      "text/latex": [
       "\\begin{tabular}{r|ccccc}\n",
       "\t& x1 & x2 & x3 & x4 & x5\\\\\n",
       "\t\\hline\n",
       "\t& Float64 & Float64 & Float64 & Float64 & Float64\\\\\n",
       "\t\\hline\n",
       "\t1 & 0.724584 & 0.564722 & 0.125285 & 0.139595 & 0.269535 \\\\\n",
       "\t2 & 0.0283743 & 0.426664 & 0.449505 & 0.390202 & 0.368115 \\\\\n",
       "\t3 & 0.726498 & 0.304478 & 0.842521 & 0.430402 & 0.0972168 \\\\\n",
       "\\end{tabular}\n"
      ],
      "text/plain": [
       "3×5 DataFrame\n",
       "│ Row │ x1        │ x2       │ x3       │ x4       │ x5        │\n",
       "│     │ \u001b[90mFloat64\u001b[39m   │ \u001b[90mFloat64\u001b[39m  │ \u001b[90mFloat64\u001b[39m  │ \u001b[90mFloat64\u001b[39m  │ \u001b[90mFloat64\u001b[39m   │\n",
       "├─────┼───────────┼──────────┼──────────┼──────────┼───────────┤\n",
       "│ 1   │ 0.724584  │ 0.564722 │ 0.125285 │ 0.139595 │ 0.269535  │\n",
       "│ 2   │ 0.0283743 │ 0.426664 │ 0.449505 │ 0.390202 │ 0.368115  │\n",
       "│ 3   │ 0.726498  │ 0.304478 │ 0.842521 │ 0.430402 │ 0.0972168 │"
      ]
     },
     "execution_count": 29,
     "metadata": {},
     "output_type": "execute_result"
    }
   ],
   "source": [
    "x = DataFrame(rand(3, 5))"
   ]
  },
  {
   "cell_type": "code",
   "execution_count": 30,
   "metadata": {},
   "outputs": [
    {
     "data": {
      "text/html": [
       "<table class=\"data-frame\"><thead><tr><th></th><th>x1</th><th>x2</th><th>x3</th><th>x4</th><th>x5</th></tr><tr><th></th><th>Float64</th><th>Float64</th><th>Float64</th><th>Float64</th><th>Float64</th></tr></thead><tbody><p>1 rows × 5 columns</p><tr><th>1</th><td>0.493152</td><td>0.431955</td><td>0.472437</td><td>0.320067</td><td>0.244955</td></tr></tbody></table>"
      ],
      "text/latex": [
       "\\begin{tabular}{r|ccccc}\n",
       "\t& x1 & x2 & x3 & x4 & x5\\\\\n",
       "\t\\hline\n",
       "\t& Float64 & Float64 & Float64 & Float64 & Float64\\\\\n",
       "\t\\hline\n",
       "\t1 & 0.493152 & 0.431955 & 0.472437 & 0.320067 & 0.244955 \\\\\n",
       "\\end{tabular}\n"
      ],
      "text/plain": [
       "1×5 DataFrame\n",
       "│ Row │ x1       │ x2       │ x3       │ x4       │ x5       │\n",
       "│     │ \u001b[90mFloat64\u001b[39m  │ \u001b[90mFloat64\u001b[39m  │ \u001b[90mFloat64\u001b[39m  │ \u001b[90mFloat64\u001b[39m  │ \u001b[90mFloat64\u001b[39m  │\n",
       "├─────┼──────────┼──────────┼──────────┼──────────┼──────────┤\n",
       "│ 1   │ 0.493152 │ 0.431955 │ 0.472437 │ 0.320067 │ 0.244955 │"
      ]
     },
     "execution_count": 30,
     "metadata": {},
     "output_type": "execute_result"
    }
   ],
   "source": [
    "mapcols(mean, x)"
   ]
  },
  {
   "cell_type": "markdown",
   "metadata": {},
   "source": [
    "### Mapping rows and columns using `eachcol` and `eachrow`"
   ]
  },
  {
   "cell_type": "code",
   "execution_count": 31,
   "metadata": {},
   "outputs": [
    {
     "data": {
      "text/plain": [
       "5-element Array{Float64,1}:\n",
       " 0.4931520339797553 \n",
       " 0.43195477494607304\n",
       " 0.47243716191293056\n",
       " 0.3200665438143661 \n",
       " 0.2449554266873982 "
      ]
     },
     "execution_count": 31,
     "metadata": {},
     "output_type": "execute_result"
    }
   ],
   "source": [
    "map(mean, eachcol(x, false)) # map a function over each column and return a vector"
   ]
  },
  {
   "cell_type": "code",
   "execution_count": 32,
   "metadata": {},
   "outputs": [
    {
     "name": "stdout",
     "output_type": "stream",
     "text": [
      "x1: 0.4931520339797553\n",
      "x2: 0.43195477494607304\n",
      "x3: 0.47243716191293056\n",
      "x4: 0.3200665438143661\n",
      "x5: 0.2449554266873982\n"
     ]
    }
   ],
   "source": [
    "foreach(c -> println(c[1], \": \", mean(c[2])), eachcol(x, true)) # an iteration returns a Pair with column name and values"
   ]
  },
  {
   "cell_type": "code",
   "execution_count": 33,
   "metadata": {},
   "outputs": [
    {
     "data": {
      "text/plain": [
       "3-element Array{Float64,1}:\n",
       " 1.2830801044067726 \n",
       " 0.06650260896319257\n",
       " 2.386046545972731  "
      ]
     },
     "execution_count": 33,
     "metadata": {},
     "output_type": "execute_result"
    }
   ],
   "source": [
    "map(r -> r.x1/r.x2, eachrow(x)) # now the returned value is DataFrameRow which works similarly to a one-row DataFrame"
   ]
  },
  {
   "cell_type": "code",
   "execution_count": 34,
   "metadata": {},
   "outputs": [
    {
     "data": {
      "text/html": [
       "<p>3×5 DataFrameRows</p><table class=\"data-frame\"><thead><tr><th></th><th>x1</th><th>x2</th><th>x3</th><th>x4</th><th>x5</th></tr><tr><th></th><th>Float64</th><th>Float64</th><th>Float64</th><th>Float64</th><th>Float64</th></tr></thead><tbody><tr><th>1</th><td>0.724584</td><td>0.564722</td><td>0.125285</td><td>0.139595</td><td>0.269535</td></tr><tr><th>2</th><td>0.0283743</td><td>0.426664</td><td>0.449505</td><td>0.390202</td><td>0.368115</td></tr><tr><th>3</th><td>0.726498</td><td>0.304478</td><td>0.842521</td><td>0.430402</td><td>0.0972168</td></tr></tbody></table>"
      ],
      "text/latex": [
       "\\begin{tabular}{r|ccccc}\n",
       "\t& x1 & x2 & x3 & x4 & x5\\\\\n",
       "\t\\hline\n",
       "\t& Float64 & Float64 & Float64 & Float64 & Float64\\\\\n",
       "\t\\hline\n",
       "\t1 & 0.724584 & 0.564722 & 0.125285 & 0.139595 & 0.269535 \\\\\n",
       "\t2 & 0.0283743 & 0.426664 & 0.449505 & 0.390202 & 0.368115 \\\\\n",
       "\t3 & 0.726498 & 0.304478 & 0.842521 & 0.430402 & 0.0972168 \\\\\n",
       "\\end{tabular}\n"
      ],
      "text/plain": [
       "3×5 DataFrameRows\n",
       "│ Row │ x1        │ x2       │ x3       │ x4       │ x5        │\n",
       "│     │ \u001b[90mFloat64\u001b[39m   │ \u001b[90mFloat64\u001b[39m  │ \u001b[90mFloat64\u001b[39m  │ \u001b[90mFloat64\u001b[39m  │ \u001b[90mFloat64\u001b[39m   │\n",
       "├─────┼───────────┼──────────┼──────────┼──────────┼───────────┤\n",
       "│ 1   │ 0.724584  │ 0.564722 │ 0.125285 │ 0.139595 │ 0.269535  │\n",
       "│ 2   │ 0.0283743 │ 0.426664 │ 0.449505 │ 0.390202 │ 0.368115  │\n",
       "│ 3   │ 0.726498  │ 0.304478 │ 0.842521 │ 0.430402 │ 0.0972168 │"
      ]
     },
     "execution_count": 34,
     "metadata": {},
     "output_type": "execute_result"
    }
   ],
   "source": [
    "er = eachrow(x) # it prints like a data frame, only the caption is different so that you know the type of the object"
   ]
  },
  {
   "cell_type": "code",
   "execution_count": 35,
   "metadata": {},
   "outputs": [
    {
     "data": {
      "text/plain": [
       "3-element Array{Float64,1}:\n",
       " 0.7245836824840111  \n",
       " 0.028374300180372458\n",
       " 0.7264981192748825  "
      ]
     },
     "execution_count": 35,
     "metadata": {},
     "output_type": "execute_result"
    }
   ],
   "source": [
    "er.x1 # you can access columns of a parent data frame directly"
   ]
  },
  {
   "cell_type": "code",
   "execution_count": 36,
   "metadata": {},
   "outputs": [
    {
     "data": {
      "text/html": [
       "<p>3×5 DataFrameColumns (with names=false)</p><table class=\"data-frame\"><thead><tr><th></th><th>x1</th><th>x2</th><th>x3</th><th>x4</th><th>x5</th></tr><tr><th></th><th>Float64</th><th>Float64</th><th>Float64</th><th>Float64</th><th>Float64</th></tr></thead><tbody><tr><th>1</th><td>0.724584</td><td>0.564722</td><td>0.125285</td><td>0.139595</td><td>0.269535</td></tr><tr><th>2</th><td>0.0283743</td><td>0.426664</td><td>0.449505</td><td>0.390202</td><td>0.368115</td></tr><tr><th>3</th><td>0.726498</td><td>0.304478</td><td>0.842521</td><td>0.430402</td><td>0.0972168</td></tr></tbody></table>"
      ],
      "text/latex": [
       "\\begin{tabular}{r|ccccc}\n",
       "\t& x1 & x2 & x3 & x4 & x5\\\\\n",
       "\t\\hline\n",
       "\t& Float64 & Float64 & Float64 & Float64 & Float64\\\\\n",
       "\t\\hline\n",
       "\t1 & 0.724584 & 0.564722 & 0.125285 & 0.139595 & 0.269535 \\\\\n",
       "\t2 & 0.0283743 & 0.426664 & 0.449505 & 0.390202 & 0.368115 \\\\\n",
       "\t3 & 0.726498 & 0.304478 & 0.842521 & 0.430402 & 0.0972168 \\\\\n",
       "\\end{tabular}\n"
      ],
      "text/plain": [
       "3×5 DataFrameColumns (with names=false)\n",
       "│ Row │ x1        │ x2       │ x3       │ x4       │ x5        │\n",
       "│     │ \u001b[90mFloat64\u001b[39m   │ \u001b[90mFloat64\u001b[39m  │ \u001b[90mFloat64\u001b[39m  │ \u001b[90mFloat64\u001b[39m  │ \u001b[90mFloat64\u001b[39m   │\n",
       "├─────┼───────────┼──────────┼──────────┼──────────┼───────────┤\n",
       "│ 1   │ 0.724584  │ 0.564722 │ 0.125285 │ 0.139595 │ 0.269535  │\n",
       "│ 2   │ 0.0283743 │ 0.426664 │ 0.449505 │ 0.390202 │ 0.368115  │\n",
       "│ 3   │ 0.726498  │ 0.304478 │ 0.842521 │ 0.430402 │ 0.0972168 │"
      ]
     },
     "execution_count": 36,
     "metadata": {},
     "output_type": "execute_result"
    }
   ],
   "source": [
    "ec = eachcol(x) # it prints like a data frame, only the caption is different so that you know the type of the object"
   ]
  },
  {
   "cell_type": "code",
   "execution_count": 37,
   "metadata": {},
   "outputs": [
    {
     "data": {
      "text/plain": [
       "3-element Array{Float64,1}:\n",
       " 0.7245836824840111  \n",
       " 0.028374300180372458\n",
       " 0.7264981192748825  "
      ]
     },
     "execution_count": 37,
     "metadata": {},
     "output_type": "execute_result"
    }
   ],
   "source": [
    "ec.x1 # you can access columns of a parent data frame directly"
   ]
  }
 ],
 "metadata": {
  "@webio": {
   "lastCommId": null,
   "lastKernelId": null
  },
  "kernelspec": {
   "display_name": "Julia 1.3.0",
   "language": "julia",
   "name": "julia-1.3"
  },
  "language_info": {
   "file_extension": ".jl",
   "mimetype": "application/julia",
   "name": "julia",
   "version": "1.3.0"
  }
 },
 "nbformat": 4,
 "nbformat_minor": 1
}
