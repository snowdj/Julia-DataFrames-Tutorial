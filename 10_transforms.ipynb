{
 "cells": [
  {
   "cell_type": "markdown",
   "metadata": {},
   "source": [
    "# Introduction to DataFrames\n",
    "**[Bogumił Kamiński](http://bogumilkaminski.pl/about/), August 26, 2019**"
   ]
  },
  {
   "cell_type": "code",
   "execution_count": 1,
   "metadata": {},
   "outputs": [
    {
     "name": "stdout",
     "output_type": "stream",
     "text": [
      "\u001b[32m\u001b[1mActivating\u001b[22m\u001b[39m environment at `d:\\Dev\\Julia\\DataFrames_Tutorial\\Project.toml`\n"
     ]
    }
   ],
   "source": [
    "using Pkg\n",
    "Pkg.activate(\".\")"
   ]
  },
  {
   "cell_type": "code",
   "execution_count": 2,
   "metadata": {},
   "outputs": [],
   "source": [
    "using DataFrames"
   ]
  },
  {
   "cell_type": "markdown",
   "metadata": {},
   "source": [
    "## Split-apply-combine"
   ]
  },
  {
   "cell_type": "code",
   "execution_count": 3,
   "metadata": {},
   "outputs": [
    {
     "data": {
      "text/html": [
       "<table class=\"data-frame\"><thead><tr><th></th><th>id</th><th>id2</th><th>v</th></tr><tr><th></th><th>Int64</th><th>Int64</th><th>Float64</th></tr></thead><tbody><p>8 rows × 3 columns</p><tr><th>1</th><td>1</td><td>1</td><td>0.271526</td></tr><tr><th>2</th><td>2</td><td>2</td><td>0.642008</td></tr><tr><th>3</th><td>3</td><td>1</td><td>0.303488</td></tr><tr><th>4</th><td>4</td><td>2</td><td>0.660327</td></tr><tr><th>5</th><td>1</td><td>1</td><td>0.423707</td></tr><tr><th>6</th><td>2</td><td>2</td><td>0.833898</td></tr><tr><th>7</th><td>3</td><td>1</td><td>0.267755</td></tr><tr><th>8</th><td>4</td><td>2</td><td>0.865183</td></tr></tbody></table>"
      ],
      "text/latex": [
       "\\begin{tabular}{r|ccc}\n",
       "\t& id & id2 & v\\\\\n",
       "\t\\hline\n",
       "\t& Int64 & Int64 & Float64\\\\\n",
       "\t\\hline\n",
       "\t1 & 1 & 1 & 0.271526 \\\\\n",
       "\t2 & 2 & 2 & 0.642008 \\\\\n",
       "\t3 & 3 & 1 & 0.303488 \\\\\n",
       "\t4 & 4 & 2 & 0.660327 \\\\\n",
       "\t5 & 1 & 1 & 0.423707 \\\\\n",
       "\t6 & 2 & 2 & 0.833898 \\\\\n",
       "\t7 & 3 & 1 & 0.267755 \\\\\n",
       "\t8 & 4 & 2 & 0.865183 \\\\\n",
       "\\end{tabular}\n"
      ],
      "text/plain": [
       "8×3 DataFrame\n",
       "│ Row │ id    │ id2   │ v        │\n",
       "│     │ \u001b[90mInt64\u001b[39m │ \u001b[90mInt64\u001b[39m │ \u001b[90mFloat64\u001b[39m  │\n",
       "├─────┼───────┼───────┼──────────┤\n",
       "│ 1   │ 1     │ 1     │ 0.271526 │\n",
       "│ 2   │ 2     │ 2     │ 0.642008 │\n",
       "│ 3   │ 3     │ 1     │ 0.303488 │\n",
       "│ 4   │ 4     │ 2     │ 0.660327 │\n",
       "│ 5   │ 1     │ 1     │ 0.423707 │\n",
       "│ 6   │ 2     │ 2     │ 0.833898 │\n",
       "│ 7   │ 3     │ 1     │ 0.267755 │\n",
       "│ 8   │ 4     │ 2     │ 0.865183 │"
      ]
     },
     "execution_count": 3,
     "metadata": {},
     "output_type": "execute_result"
    }
   ],
   "source": [
    "x = DataFrame(id=[1,2,3,4,1,2,3,4], id2=[1,2,1,2,1,2,1,2], v=rand(8))"
   ]
  },
  {
   "cell_type": "code",
   "execution_count": 4,
   "metadata": {
    "scrolled": true
   },
   "outputs": [
    {
     "data": {
      "text/html": [
       "<p><b>GroupedDataFrame with 4 groups based on key: id</b></p><p><i>First Group (2 rows): id = 1</i></p><table class=\"data-frame\"><thead><tr><th></th><th>id</th><th>id2</th><th>v</th></tr><tr><th></th><th>Int64</th><th>Int64</th><th>Float64</th></tr></thead><tbody><tr><th>1</th><td>1</td><td>1</td><td>0.271526</td></tr><tr><th>2</th><td>1</td><td>1</td><td>0.423707</td></tr></tbody></table><p>&vellip;</p><p><i>Last Group (2 rows): id = 4</i></p><table class=\"data-frame\"><thead><tr><th></th><th>id</th><th>id2</th><th>v</th></tr><tr><th></th><th>Int64</th><th>Int64</th><th>Float64</th></tr></thead><tbody><tr><th>1</th><td>4</td><td>2</td><td>0.660327</td></tr><tr><th>2</th><td>4</td><td>2</td><td>0.865183</td></tr></tbody></table>"
      ],
      "text/latex": [
       "GroupedDataFrame with 4 groups based on key: id\n",
       "\n",
       "First Group (2 rows): id = 1\n",
       "\n",
       "\\begin{tabular}{r|ccc}\n",
       "\t& id & id2 & v\\\\\n",
       "\t\\hline\n",
       "\t& Int64 & Int64 & Float64\\\\\n",
       "\t\\hline\n",
       "\t1 & 1 & 1 & 0.271526 \\\\\n",
       "\t2 & 1 & 1 & 0.423707 \\\\\n",
       "\\end{tabular}\n",
       "\n",
       "$\\dots$\n",
       "\n",
       "Last Group (2 rows): id = 4\n",
       "\n",
       "\\begin{tabular}{r|ccc}\n",
       "\t& id & id2 & v\\\\\n",
       "\t\\hline\n",
       "\t& Int64 & Int64 & Float64\\\\\n",
       "\t\\hline\n",
       "\t1 & 4 & 2 & 0.660327 \\\\\n",
       "\t2 & 4 & 2 & 0.865183 \\\\\n",
       "\\end{tabular}\n"
      ],
      "text/plain": [
       "GroupedDataFrame with 4 groups based on key: id\n",
       "First Group (2 rows): id = 1\n",
       "│ Row │ id    │ id2   │ v        │\n",
       "│     │ \u001b[90mInt64\u001b[39m │ \u001b[90mInt64\u001b[39m │ \u001b[90mFloat64\u001b[39m  │\n",
       "├─────┼───────┼───────┼──────────┤\n",
       "│ 1   │ 1     │ 1     │ 0.271526 │\n",
       "│ 2   │ 1     │ 1     │ 0.423707 │\n",
       "⋮\n",
       "Last Group (2 rows): id = 4\n",
       "│ Row │ id    │ id2   │ v        │\n",
       "│     │ \u001b[90mInt64\u001b[39m │ \u001b[90mInt64\u001b[39m │ \u001b[90mFloat64\u001b[39m  │\n",
       "├─────┼───────┼───────┼──────────┤\n",
       "│ 1   │ 4     │ 2     │ 0.660327 │\n",
       "│ 2   │ 4     │ 2     │ 0.865183 │"
      ]
     },
     "execution_count": 4,
     "metadata": {},
     "output_type": "execute_result"
    }
   ],
   "source": [
    "gx1 = groupby(x, :id)"
   ]
  },
  {
   "cell_type": "code",
   "execution_count": 5,
   "metadata": {},
   "outputs": [
    {
     "data": {
      "text/html": [
       "<p><b>GroupedDataFrame with 4 groups based on keys: id, id2</b></p><p><i>First Group (2 rows): id = 1, id2 = 1</i></p><table class=\"data-frame\"><thead><tr><th></th><th>id</th><th>id2</th><th>v</th></tr><tr><th></th><th>Int64</th><th>Int64</th><th>Float64</th></tr></thead><tbody><tr><th>1</th><td>1</td><td>1</td><td>0.271526</td></tr><tr><th>2</th><td>1</td><td>1</td><td>0.423707</td></tr></tbody></table><p>&vellip;</p><p><i>Last Group (2 rows): id = 4, id2 = 2</i></p><table class=\"data-frame\"><thead><tr><th></th><th>id</th><th>id2</th><th>v</th></tr><tr><th></th><th>Int64</th><th>Int64</th><th>Float64</th></tr></thead><tbody><tr><th>1</th><td>4</td><td>2</td><td>0.660327</td></tr><tr><th>2</th><td>4</td><td>2</td><td>0.865183</td></tr></tbody></table>"
      ],
      "text/latex": [
       "GroupedDataFrame with 4 groups based on keys: id, id2\n",
       "\n",
       "First Group (2 rows): id = 1, id2 = 1\n",
       "\n",
       "\\begin{tabular}{r|ccc}\n",
       "\t& id & id2 & v\\\\\n",
       "\t\\hline\n",
       "\t& Int64 & Int64 & Float64\\\\\n",
       "\t\\hline\n",
       "\t1 & 1 & 1 & 0.271526 \\\\\n",
       "\t2 & 1 & 1 & 0.423707 \\\\\n",
       "\\end{tabular}\n",
       "\n",
       "$\\dots$\n",
       "\n",
       "Last Group (2 rows): id = 4, id2 = 2\n",
       "\n",
       "\\begin{tabular}{r|ccc}\n",
       "\t& id & id2 & v\\\\\n",
       "\t\\hline\n",
       "\t& Int64 & Int64 & Float64\\\\\n",
       "\t\\hline\n",
       "\t1 & 4 & 2 & 0.660327 \\\\\n",
       "\t2 & 4 & 2 & 0.865183 \\\\\n",
       "\\end{tabular}\n"
      ],
      "text/plain": [
       "GroupedDataFrame with 4 groups based on keys: id, id2\n",
       "First Group (2 rows): id = 1, id2 = 1\n",
       "│ Row │ id    │ id2   │ v        │\n",
       "│     │ \u001b[90mInt64\u001b[39m │ \u001b[90mInt64\u001b[39m │ \u001b[90mFloat64\u001b[39m  │\n",
       "├─────┼───────┼───────┼──────────┤\n",
       "│ 1   │ 1     │ 1     │ 0.271526 │\n",
       "│ 2   │ 1     │ 1     │ 0.423707 │\n",
       "⋮\n",
       "Last Group (2 rows): id = 4, id2 = 2\n",
       "│ Row │ id    │ id2   │ v        │\n",
       "│     │ \u001b[90mInt64\u001b[39m │ \u001b[90mInt64\u001b[39m │ \u001b[90mFloat64\u001b[39m  │\n",
       "├─────┼───────┼───────┼──────────┤\n",
       "│ 1   │ 4     │ 2     │ 0.660327 │\n",
       "│ 2   │ 4     │ 2     │ 0.865183 │"
      ]
     },
     "execution_count": 5,
     "metadata": {},
     "output_type": "execute_result"
    }
   ],
   "source": [
    "gx2 = groupby(x, [:id, :id2])"
   ]
  },
  {
   "cell_type": "code",
   "execution_count": 6,
   "metadata": {},
   "outputs": [
    {
     "data": {
      "text/html": [
       "<table class=\"data-frame\"><thead><tr><th></th><th>id</th><th>id2</th><th>v</th></tr><tr><th></th><th>Int64</th><th>Int64</th><th>Float64</th></tr></thead><tbody><p>8 rows × 3 columns</p><tr><th>1</th><td>1</td><td>1</td><td>0.271526</td></tr><tr><th>2</th><td>2</td><td>2</td><td>0.642008</td></tr><tr><th>3</th><td>3</td><td>1</td><td>0.303488</td></tr><tr><th>4</th><td>4</td><td>2</td><td>0.660327</td></tr><tr><th>5</th><td>1</td><td>1</td><td>0.423707</td></tr><tr><th>6</th><td>2</td><td>2</td><td>0.833898</td></tr><tr><th>7</th><td>3</td><td>1</td><td>0.267755</td></tr><tr><th>8</th><td>4</td><td>2</td><td>0.865183</td></tr></tbody></table>"
      ],
      "text/latex": [
       "\\begin{tabular}{r|ccc}\n",
       "\t& id & id2 & v\\\\\n",
       "\t\\hline\n",
       "\t& Int64 & Int64 & Float64\\\\\n",
       "\t\\hline\n",
       "\t1 & 1 & 1 & 0.271526 \\\\\n",
       "\t2 & 2 & 2 & 0.642008 \\\\\n",
       "\t3 & 3 & 1 & 0.303488 \\\\\n",
       "\t4 & 4 & 2 & 0.660327 \\\\\n",
       "\t5 & 1 & 1 & 0.423707 \\\\\n",
       "\t6 & 2 & 2 & 0.833898 \\\\\n",
       "\t7 & 3 & 1 & 0.267755 \\\\\n",
       "\t8 & 4 & 2 & 0.865183 \\\\\n",
       "\\end{tabular}\n"
      ],
      "text/plain": [
       "8×3 DataFrame\n",
       "│ Row │ id    │ id2   │ v        │\n",
       "│     │ \u001b[90mInt64\u001b[39m │ \u001b[90mInt64\u001b[39m │ \u001b[90mFloat64\u001b[39m  │\n",
       "├─────┼───────┼───────┼──────────┤\n",
       "│ 1   │ 1     │ 1     │ 0.271526 │\n",
       "│ 2   │ 2     │ 2     │ 0.642008 │\n",
       "│ 3   │ 3     │ 1     │ 0.303488 │\n",
       "│ 4   │ 4     │ 2     │ 0.660327 │\n",
       "│ 5   │ 1     │ 1     │ 0.423707 │\n",
       "│ 6   │ 2     │ 2     │ 0.833898 │\n",
       "│ 7   │ 3     │ 1     │ 0.267755 │\n",
       "│ 8   │ 4     │ 2     │ 0.865183 │"
      ]
     },
     "execution_count": 6,
     "metadata": {},
     "output_type": "execute_result"
    }
   ],
   "source": [
    "parent(gx2) # get the parent DataFrame "
   ]
  },
  {
   "cell_type": "code",
   "execution_count": 7,
   "metadata": {},
   "outputs": [
    {
     "data": {
      "text/html": [
       "<table class=\"data-frame\"><thead><tr><th></th><th>id</th><th>id2</th><th>v</th></tr><tr><th></th><th>Int64</th><th>Int64</th><th>Float64</th></tr></thead><tbody><p>8 rows × 3 columns</p><tr><th>1</th><td>1</td><td>1</td><td>0.271526</td></tr><tr><th>2</th><td>1</td><td>1</td><td>0.423707</td></tr><tr><th>3</th><td>2</td><td>2</td><td>0.642008</td></tr><tr><th>4</th><td>2</td><td>2</td><td>0.833898</td></tr><tr><th>5</th><td>3</td><td>1</td><td>0.303488</td></tr><tr><th>6</th><td>3</td><td>1</td><td>0.267755</td></tr><tr><th>7</th><td>4</td><td>2</td><td>0.660327</td></tr><tr><th>8</th><td>4</td><td>2</td><td>0.865183</td></tr></tbody></table>"
      ],
      "text/latex": [
       "\\begin{tabular}{r|ccc}\n",
       "\t& id & id2 & v\\\\\n",
       "\t\\hline\n",
       "\t& Int64 & Int64 & Float64\\\\\n",
       "\t\\hline\n",
       "\t1 & 1 & 1 & 0.271526 \\\\\n",
       "\t2 & 1 & 1 & 0.423707 \\\\\n",
       "\t3 & 2 & 2 & 0.642008 \\\\\n",
       "\t4 & 2 & 2 & 0.833898 \\\\\n",
       "\t5 & 3 & 1 & 0.303488 \\\\\n",
       "\t6 & 3 & 1 & 0.267755 \\\\\n",
       "\t7 & 4 & 2 & 0.660327 \\\\\n",
       "\t8 & 4 & 2 & 0.865183 \\\\\n",
       "\\end{tabular}\n"
      ],
      "text/plain": [
       "8×3 DataFrame\n",
       "│ Row │ id    │ id2   │ v        │\n",
       "│     │ \u001b[90mInt64\u001b[39m │ \u001b[90mInt64\u001b[39m │ \u001b[90mFloat64\u001b[39m  │\n",
       "├─────┼───────┼───────┼──────────┤\n",
       "│ 1   │ 1     │ 1     │ 0.271526 │\n",
       "│ 2   │ 1     │ 1     │ 0.423707 │\n",
       "│ 3   │ 2     │ 2     │ 0.642008 │\n",
       "│ 4   │ 2     │ 2     │ 0.833898 │\n",
       "│ 5   │ 3     │ 1     │ 0.303488 │\n",
       "│ 6   │ 3     │ 1     │ 0.267755 │\n",
       "│ 7   │ 4     │ 2     │ 0.660327 │\n",
       "│ 8   │ 4     │ 2     │ 0.865183 │"
      ]
     },
     "execution_count": 7,
     "metadata": {},
     "output_type": "execute_result"
    }
   ],
   "source": [
    "vcat(gx2...) # back to the DataFrame, but in a different order of rows than the original"
   ]
  },
  {
   "cell_type": "code",
   "execution_count": 8,
   "metadata": {},
   "outputs": [
    {
     "data": {
      "text/html": [
       "<table class=\"data-frame\"><thead><tr><th></th><th>id</th><th>id2</th><th>v</th></tr><tr><th></th><th>Int64</th><th>Int64</th><th>Float64</th></tr></thead><tbody><p>8 rows × 3 columns</p><tr><th>1</th><td>1</td><td>1</td><td>0.271526</td></tr><tr><th>2</th><td>1</td><td>1</td><td>0.423707</td></tr><tr><th>3</th><td>2</td><td>2</td><td>0.642008</td></tr><tr><th>4</th><td>2</td><td>2</td><td>0.833898</td></tr><tr><th>5</th><td>3</td><td>1</td><td>0.303488</td></tr><tr><th>6</th><td>3</td><td>1</td><td>0.267755</td></tr><tr><th>7</th><td>4</td><td>2</td><td>0.660327</td></tr><tr><th>8</th><td>4</td><td>2</td><td>0.865183</td></tr></tbody></table>"
      ],
      "text/latex": [
       "\\begin{tabular}{r|ccc}\n",
       "\t& id & id2 & v\\\\\n",
       "\t\\hline\n",
       "\t& Int64 & Int64 & Float64\\\\\n",
       "\t\\hline\n",
       "\t1 & 1 & 1 & 0.271526 \\\\\n",
       "\t2 & 1 & 1 & 0.423707 \\\\\n",
       "\t3 & 2 & 2 & 0.642008 \\\\\n",
       "\t4 & 2 & 2 & 0.833898 \\\\\n",
       "\t5 & 3 & 1 & 0.303488 \\\\\n",
       "\t6 & 3 & 1 & 0.267755 \\\\\n",
       "\t7 & 4 & 2 & 0.660327 \\\\\n",
       "\t8 & 4 & 2 & 0.865183 \\\\\n",
       "\\end{tabular}\n"
      ],
      "text/plain": [
       "8×3 DataFrame\n",
       "│ Row │ id    │ id2   │ v        │\n",
       "│     │ \u001b[90mInt64\u001b[39m │ \u001b[90mInt64\u001b[39m │ \u001b[90mFloat64\u001b[39m  │\n",
       "├─────┼───────┼───────┼──────────┤\n",
       "│ 1   │ 1     │ 1     │ 0.271526 │\n",
       "│ 2   │ 1     │ 1     │ 0.423707 │\n",
       "│ 3   │ 2     │ 2     │ 0.642008 │\n",
       "│ 4   │ 2     │ 2     │ 0.833898 │\n",
       "│ 5   │ 3     │ 1     │ 0.303488 │\n",
       "│ 6   │ 3     │ 1     │ 0.267755 │\n",
       "│ 7   │ 4     │ 2     │ 0.660327 │\n",
       "│ 8   │ 4     │ 2     │ 0.865183 │"
      ]
     },
     "execution_count": 8,
     "metadata": {},
     "output_type": "execute_result"
    }
   ],
   "source": [
    "DataFrame(gx2) # the same"
   ]
  },
  {
   "cell_type": "code",
   "execution_count": 9,
   "metadata": {},
   "outputs": [
    {
     "data": {
      "text/plain": [
       "2-element Array{Symbol,1}:\n",
       " :id \n",
       " :id2"
      ]
     },
     "execution_count": 9,
     "metadata": {},
     "output_type": "execute_result"
    }
   ],
   "source": [
    "groupvars(gx2) # vector of names of grouping variables"
   ]
  },
  {
   "cell_type": "code",
   "execution_count": 10,
   "metadata": {},
   "outputs": [
    {
     "data": {
      "text/plain": [
       "8-element Array{Union{Missing, Int64},1}:\n",
       " 1\n",
       " 2\n",
       " 3\n",
       " 4\n",
       " 1\n",
       " 2\n",
       " 3\n",
       " 4"
      ]
     },
     "execution_count": 10,
     "metadata": {},
     "output_type": "execute_result"
    }
   ],
   "source": [
    "groupindices(gx2) # group indices in parent(gx2)"
   ]
  },
  {
   "cell_type": "code",
   "execution_count": 11,
   "metadata": {},
   "outputs": [
    {
     "data": {
      "text/html": [
       "<table class=\"data-frame\"><thead><tr><th></th><th>id</th><th>x</th></tr><tr><th></th><th>Int64⍰</th><th>Int64</th></tr></thead><tbody><p>5 rows × 2 columns</p><tr><th>1</th><td>missing</td><td>1</td></tr><tr><th>2</th><td>5</td><td>2</td></tr><tr><th>3</th><td>1</td><td>3</td></tr><tr><th>4</th><td>3</td><td>4</td></tr><tr><th>5</th><td>missing</td><td>5</td></tr></tbody></table>"
      ],
      "text/latex": [
       "\\begin{tabular}{r|cc}\n",
       "\t& id & x\\\\\n",
       "\t\\hline\n",
       "\t& Int64⍰ & Int64\\\\\n",
       "\t\\hline\n",
       "\t1 &  & 1 \\\\\n",
       "\t2 & 5 & 2 \\\\\n",
       "\t3 & 1 & 3 \\\\\n",
       "\t4 & 3 & 4 \\\\\n",
       "\t5 &  & 5 \\\\\n",
       "\\end{tabular}\n"
      ],
      "text/plain": [
       "5×2 DataFrame\n",
       "│ Row │ id      │ x     │\n",
       "│     │ \u001b[90mInt64⍰\u001b[39m  │ \u001b[90mInt64\u001b[39m │\n",
       "├─────┼─────────┼───────┤\n",
       "│ 1   │ \u001b[90mmissing\u001b[39m │ 1     │\n",
       "│ 2   │ 5       │ 2     │\n",
       "│ 3   │ 1       │ 3     │\n",
       "│ 4   │ 3       │ 4     │\n",
       "│ 5   │ \u001b[90mmissing\u001b[39m │ 5     │"
      ]
     },
     "execution_count": 11,
     "metadata": {},
     "output_type": "execute_result"
    }
   ],
   "source": [
    "x = DataFrame(id = [missing, 5, 1, 3, missing], x = 1:5)"
   ]
  },
  {
   "cell_type": "code",
   "execution_count": 12,
   "metadata": {},
   "outputs": [
    {
     "data": {
      "text/html": [
       "<p><b>GroupedDataFrame with 4 groups based on key: id</b></p><p><i>First Group (2 rows): id = missing</i></p><table class=\"data-frame\"><thead><tr><th></th><th>id</th><th>x</th></tr><tr><th></th><th>Int64⍰</th><th>Int64</th></tr></thead><tbody><tr><th>1</th><td>missing</td><td>1</td></tr><tr><th>2</th><td>missing</td><td>5</td></tr></tbody></table><p>&vellip;</p><p><i>Last Group (1 row): id = 3</i></p><table class=\"data-frame\"><thead><tr><th></th><th>id</th><th>x</th></tr><tr><th></th><th>Int64⍰</th><th>Int64</th></tr></thead><tbody><tr><th>1</th><td>3</td><td>4</td></tr></tbody></table>"
      ],
      "text/latex": [
       "GroupedDataFrame with 4 groups based on key: id\n",
       "\n",
       "First Group (2 rows): id = missing\n",
       "\n",
       "\\begin{tabular}{r|cc}\n",
       "\t& id & x\\\\\n",
       "\t\\hline\n",
       "\t& Int64⍰ & Int64\\\\\n",
       "\t\\hline\n",
       "\t1 &  & 1 \\\\\n",
       "\t2 &  & 5 \\\\\n",
       "\\end{tabular}\n",
       "\n",
       "$\\dots$\n",
       "\n",
       "Last Group (1 row): id = 3\n",
       "\n",
       "\\begin{tabular}{r|cc}\n",
       "\t& id & x\\\\\n",
       "\t\\hline\n",
       "\t& Int64⍰ & Int64\\\\\n",
       "\t\\hline\n",
       "\t1 & 3 & 4 \\\\\n",
       "\\end{tabular}\n"
      ],
      "text/plain": [
       "GroupedDataFrame with 4 groups based on key: id\n",
       "First Group (2 rows): id = missing\n",
       "│ Row │ id      │ x     │\n",
       "│     │ \u001b[90mInt64⍰\u001b[39m  │ \u001b[90mInt64\u001b[39m │\n",
       "├─────┼─────────┼───────┤\n",
       "│ 1   │ \u001b[90mmissing\u001b[39m │ 1     │\n",
       "│ 2   │ \u001b[90mmissing\u001b[39m │ 5     │\n",
       "⋮\n",
       "Last Group (1 row): id = 3\n",
       "│ Row │ id     │ x     │\n",
       "│     │ \u001b[90mInt64⍰\u001b[39m │ \u001b[90mInt64\u001b[39m │\n",
       "├─────┼────────┼───────┤\n",
       "│ 1   │ 3      │ 4     │"
      ]
     },
     "execution_count": 12,
     "metadata": {},
     "output_type": "execute_result"
    }
   ],
   "source": [
    "groupby(x, :id) # by default groups include mising values and are not sorted"
   ]
  },
  {
   "cell_type": "code",
   "execution_count": 13,
   "metadata": {},
   "outputs": [
    {
     "data": {
      "text/html": [
       "<p><b>GroupedDataFrame with 3 groups based on key: id</b></p><p><i>First Group (1 row): id = 1</i></p><table class=\"data-frame\"><thead><tr><th></th><th>id</th><th>x</th></tr><tr><th></th><th>Int64⍰</th><th>Int64</th></tr></thead><tbody><tr><th>1</th><td>1</td><td>3</td></tr></tbody></table><p>&vellip;</p><p><i>Last Group (1 row): id = 5</i></p><table class=\"data-frame\"><thead><tr><th></th><th>id</th><th>x</th></tr><tr><th></th><th>Int64⍰</th><th>Int64</th></tr></thead><tbody><tr><th>1</th><td>5</td><td>2</td></tr></tbody></table>"
      ],
      "text/latex": [
       "GroupedDataFrame with 3 groups based on key: id\n",
       "\n",
       "First Group (1 row): id = 1\n",
       "\n",
       "\\begin{tabular}{r|cc}\n",
       "\t& id & x\\\\\n",
       "\t\\hline\n",
       "\t& Int64⍰ & Int64\\\\\n",
       "\t\\hline\n",
       "\t1 & 1 & 3 \\\\\n",
       "\\end{tabular}\n",
       "\n",
       "$\\dots$\n",
       "\n",
       "Last Group (1 row): id = 5\n",
       "\n",
       "\\begin{tabular}{r|cc}\n",
       "\t& id & x\\\\\n",
       "\t\\hline\n",
       "\t& Int64⍰ & Int64\\\\\n",
       "\t\\hline\n",
       "\t1 & 5 & 2 \\\\\n",
       "\\end{tabular}\n"
      ],
      "text/plain": [
       "GroupedDataFrame with 3 groups based on key: id\n",
       "First Group (1 row): id = 1\n",
       "│ Row │ id     │ x     │\n",
       "│     │ \u001b[90mInt64⍰\u001b[39m │ \u001b[90mInt64\u001b[39m │\n",
       "├─────┼────────┼───────┤\n",
       "│ 1   │ 1      │ 3     │\n",
       "⋮\n",
       "Last Group (1 row): id = 5\n",
       "│ Row │ id     │ x     │\n",
       "│     │ \u001b[90mInt64⍰\u001b[39m │ \u001b[90mInt64\u001b[39m │\n",
       "├─────┼────────┼───────┤\n",
       "│ 1   │ 5      │ 2     │"
      ]
     },
     "execution_count": 13,
     "metadata": {},
     "output_type": "execute_result"
    }
   ],
   "source": [
    "groupby(x, :id, sort=true, skipmissing=true) # but we can change it"
   ]
  },
  {
   "cell_type": "code",
   "execution_count": 14,
   "metadata": {},
   "outputs": [
    {
     "data": {
      "text/html": [
       "<table class=\"data-frame\"><thead><tr><th></th><th>id</th><th>v_mean</th></tr><tr><th></th><th>Char</th><th>Float64</th></tr></thead><tbody><p>4 rows × 2 columns</p><tr><th>1</th><td>'b'</td><td>0.558413</td></tr><tr><th>2</th><td>'c'</td><td>0.442001</td></tr><tr><th>3</th><td>'a'</td><td>0.522355</td></tr><tr><th>4</th><td>'d'</td><td>0.502747</td></tr></tbody></table>"
      ],
      "text/latex": [
       "\\begin{tabular}{r|cc}\n",
       "\t& id & v\\_mean\\\\\n",
       "\t\\hline\n",
       "\t& Char & Float64\\\\\n",
       "\t\\hline\n",
       "\t1 & 'b' & 0.558413 \\\\\n",
       "\t2 & 'c' & 0.442001 \\\\\n",
       "\t3 & 'a' & 0.522355 \\\\\n",
       "\t4 & 'd' & 0.502747 \\\\\n",
       "\\end{tabular}\n"
      ],
      "text/plain": [
       "4×2 DataFrame\n",
       "│ Row │ id   │ v_mean   │\n",
       "│     │ \u001b[90mChar\u001b[39m │ \u001b[90mFloat64\u001b[39m  │\n",
       "├─────┼──────┼──────────┤\n",
       "│ 1   │ 'b'  │ 0.558413 │\n",
       "│ 2   │ 'c'  │ 0.442001 │\n",
       "│ 3   │ 'a'  │ 0.522355 │\n",
       "│ 4   │ 'd'  │ 0.502747 │"
      ]
     },
     "execution_count": 14,
     "metadata": {},
     "output_type": "execute_result"
    }
   ],
   "source": [
    "using Statistics\n",
    "x = DataFrame(id=rand('a':'d', 100), v=rand(100));\n",
    "by(x, :id, :v=>mean) # apply a function to each group of a data frame"
   ]
  },
  {
   "cell_type": "code",
   "execution_count": 15,
   "metadata": {},
   "outputs": [
    {
     "data": {
      "text/html": [
       "<table class=\"data-frame\"><thead><tr><th></th><th>id</th><th>v_mean</th></tr><tr><th></th><th>Char</th><th>Float64</th></tr></thead><tbody><p>4 rows × 2 columns</p><tr><th>1</th><td>'a'</td><td>0.522355</td></tr><tr><th>2</th><td>'b'</td><td>0.558413</td></tr><tr><th>3</th><td>'c'</td><td>0.442001</td></tr><tr><th>4</th><td>'d'</td><td>0.502747</td></tr></tbody></table>"
      ],
      "text/latex": [
       "\\begin{tabular}{r|cc}\n",
       "\t& id & v\\_mean\\\\\n",
       "\t\\hline\n",
       "\t& Char & Float64\\\\\n",
       "\t\\hline\n",
       "\t1 & 'a' & 0.522355 \\\\\n",
       "\t2 & 'b' & 0.558413 \\\\\n",
       "\t3 & 'c' & 0.442001 \\\\\n",
       "\t4 & 'd' & 0.502747 \\\\\n",
       "\\end{tabular}\n"
      ],
      "text/plain": [
       "4×2 DataFrame\n",
       "│ Row │ id   │ v_mean   │\n",
       "│     │ \u001b[90mChar\u001b[39m │ \u001b[90mFloat64\u001b[39m  │\n",
       "├─────┼──────┼──────────┤\n",
       "│ 1   │ 'a'  │ 0.522355 │\n",
       "│ 2   │ 'b'  │ 0.558413 │\n",
       "│ 3   │ 'c'  │ 0.442001 │\n",
       "│ 4   │ 'd'  │ 0.502747 │"
      ]
     },
     "execution_count": 15,
     "metadata": {},
     "output_type": "execute_result"
    }
   ],
   "source": [
    "by(x, :id, :v=>mean, sort=true) # we can sort the output"
   ]
  },
  {
   "cell_type": "code",
   "execution_count": 16,
   "metadata": {},
   "outputs": [
    {
     "data": {
      "text/html": [
       "<table class=\"data-frame\"><thead><tr><th></th><th>id</th><th>res</th></tr><tr><th></th><th>Char</th><th>Float64</th></tr></thead><tbody><p>4 rows × 2 columns</p><tr><th>1</th><td>'b'</td><td>0.558413</td></tr><tr><th>2</th><td>'c'</td><td>0.442001</td></tr><tr><th>3</th><td>'a'</td><td>0.522355</td></tr><tr><th>4</th><td>'d'</td><td>0.502747</td></tr></tbody></table>"
      ],
      "text/latex": [
       "\\begin{tabular}{r|cc}\n",
       "\t& id & res\\\\\n",
       "\t\\hline\n",
       "\t& Char & Float64\\\\\n",
       "\t\\hline\n",
       "\t1 & 'b' & 0.558413 \\\\\n",
       "\t2 & 'c' & 0.442001 \\\\\n",
       "\t3 & 'a' & 0.522355 \\\\\n",
       "\t4 & 'd' & 0.502747 \\\\\n",
       "\\end{tabular}\n"
      ],
      "text/plain": [
       "4×2 DataFrame\n",
       "│ Row │ id   │ res      │\n",
       "│     │ \u001b[90mChar\u001b[39m │ \u001b[90mFloat64\u001b[39m  │\n",
       "├─────┼──────┼──────────┤\n",
       "│ 1   │ 'b'  │ 0.558413 │\n",
       "│ 2   │ 'c'  │ 0.442001 │\n",
       "│ 3   │ 'a'  │ 0.522355 │\n",
       "│ 4   │ 'd'  │ 0.502747 │"
      ]
     },
     "execution_count": 16,
     "metadata": {},
     "output_type": "execute_result"
    }
   ],
   "source": [
    "by(x, :id, res=:v=>mean) # this way we can set a name for a column"
   ]
  },
  {
   "cell_type": "code",
   "execution_count": 17,
   "metadata": {},
   "outputs": [
    {
     "data": {
      "text/html": [
       "<table class=\"data-frame\"><thead><tr><th></th><th>id</th><th>res1</th><th>res2</th></tr><tr><th></th><th>Char</th><th>Float64</th><th>Float64</th></tr></thead><tbody><p>4 rows × 3 columns</p><tr><th>1</th><td>'b'</td><td>0.558413</td><td>15.6356</td></tr><tr><th>2</th><td>'c'</td><td>0.442001</td><td>9.72401</td></tr><tr><th>3</th><td>'a'</td><td>0.522355</td><td>11.4918</td></tr><tr><th>4</th><td>'d'</td><td>0.502747</td><td>14.0769</td></tr></tbody></table>"
      ],
      "text/latex": [
       "\\begin{tabular}{r|ccc}\n",
       "\t& id & res1 & res2\\\\\n",
       "\t\\hline\n",
       "\t& Char & Float64 & Float64\\\\\n",
       "\t\\hline\n",
       "\t1 & 'b' & 0.558413 & 15.6356 \\\\\n",
       "\t2 & 'c' & 0.442001 & 9.72401 \\\\\n",
       "\t3 & 'a' & 0.522355 & 11.4918 \\\\\n",
       "\t4 & 'd' & 0.502747 & 14.0769 \\\\\n",
       "\\end{tabular}\n"
      ],
      "text/plain": [
       "4×3 DataFrame\n",
       "│ Row │ id   │ res1     │ res2    │\n",
       "│     │ \u001b[90mChar\u001b[39m │ \u001b[90mFloat64\u001b[39m  │ \u001b[90mFloat64\u001b[39m │\n",
       "├─────┼──────┼──────────┼─────────┤\n",
       "│ 1   │ 'b'  │ 0.558413 │ 15.6356 │\n",
       "│ 2   │ 'c'  │ 0.442001 │ 9.72401 │\n",
       "│ 3   │ 'a'  │ 0.522355 │ 11.4918 │\n",
       "│ 4   │ 'd'  │ 0.502747 │ 14.0769 │"
      ]
     },
     "execution_count": 17,
     "metadata": {},
     "output_type": "execute_result"
    }
   ],
   "source": [
    "by(x, :id, res1=:v=>mean, res2=:v=>sum) # you can have multiple operations"
   ]
  },
  {
   "cell_type": "code",
   "execution_count": 18,
   "metadata": {},
   "outputs": [
    {
     "data": {
      "text/html": [
       "<table class=\"data-frame\"><thead><tr><th></th><th>id</th><th>x1_sum</th><th>x2_sum</th></tr><tr><th></th><th>Char</th><th>Float64</th><th>Float64</th></tr></thead><tbody><p>4 rows × 3 columns</p><tr><th>1</th><td>'c'</td><td>12.3439</td><td>12.8312</td></tr><tr><th>2</th><td>'a'</td><td>8.39491</td><td>7.5936</td></tr><tr><th>3</th><td>'b'</td><td>14.0745</td><td>17.1006</td></tr><tr><th>4</th><td>'d'</td><td>13.3796</td><td>15.5769</td></tr></tbody></table>"
      ],
      "text/latex": [
       "\\begin{tabular}{r|ccc}\n",
       "\t& id & x1\\_sum & x2\\_sum\\\\\n",
       "\t\\hline\n",
       "\t& Char & Float64 & Float64\\\\\n",
       "\t\\hline\n",
       "\t1 & 'c' & 12.3439 & 12.8312 \\\\\n",
       "\t2 & 'a' & 8.39491 & 7.5936 \\\\\n",
       "\t3 & 'b' & 14.0745 & 17.1006 \\\\\n",
       "\t4 & 'd' & 13.3796 & 15.5769 \\\\\n",
       "\\end{tabular}\n"
      ],
      "text/plain": [
       "4×3 DataFrame\n",
       "│ Row │ id   │ x1_sum  │ x2_sum  │\n",
       "│     │ \u001b[90mChar\u001b[39m │ \u001b[90mFloat64\u001b[39m │ \u001b[90mFloat64\u001b[39m │\n",
       "├─────┼──────┼─────────┼─────────┤\n",
       "│ 1   │ 'c'  │ 12.3439 │ 12.8312 │\n",
       "│ 2   │ 'a'  │ 8.39491 │ 7.5936  │\n",
       "│ 3   │ 'b'  │ 14.0745 │ 17.1006 │\n",
       "│ 4   │ 'd'  │ 13.3796 │ 15.5769 │"
      ]
     },
     "execution_count": 18,
     "metadata": {},
     "output_type": "execute_result"
    }
   ],
   "source": [
    "x = DataFrame(id=rand('a':'d', 100), x1=rand(100), x2=rand(100))\n",
    "aggregate(x, :id, sum) # apply a function over all columns of a data frame in groups given by id"
   ]
  },
  {
   "cell_type": "code",
   "execution_count": 19,
   "metadata": {},
   "outputs": [
    {
     "data": {
      "text/html": [
       "<table class=\"data-frame\"><thead><tr><th></th><th>id</th><th>x1_sum</th><th>x2_sum</th></tr><tr><th></th><th>Char</th><th>Float64</th><th>Float64</th></tr></thead><tbody><p>4 rows × 3 columns</p><tr><th>1</th><td>'a'</td><td>8.39491</td><td>7.5936</td></tr><tr><th>2</th><td>'b'</td><td>14.0745</td><td>17.1006</td></tr><tr><th>3</th><td>'c'</td><td>12.3439</td><td>12.8312</td></tr><tr><th>4</th><td>'d'</td><td>13.3796</td><td>15.5769</td></tr></tbody></table>"
      ],
      "text/latex": [
       "\\begin{tabular}{r|ccc}\n",
       "\t& id & x1\\_sum & x2\\_sum\\\\\n",
       "\t\\hline\n",
       "\t& Char & Float64 & Float64\\\\\n",
       "\t\\hline\n",
       "\t1 & 'a' & 8.39491 & 7.5936 \\\\\n",
       "\t2 & 'b' & 14.0745 & 17.1006 \\\\\n",
       "\t3 & 'c' & 12.3439 & 12.8312 \\\\\n",
       "\t4 & 'd' & 13.3796 & 15.5769 \\\\\n",
       "\\end{tabular}\n"
      ],
      "text/plain": [
       "4×3 DataFrame\n",
       "│ Row │ id   │ x1_sum  │ x2_sum  │\n",
       "│     │ \u001b[90mChar\u001b[39m │ \u001b[90mFloat64\u001b[39m │ \u001b[90mFloat64\u001b[39m │\n",
       "├─────┼──────┼─────────┼─────────┤\n",
       "│ 1   │ 'a'  │ 8.39491 │ 7.5936  │\n",
       "│ 2   │ 'b'  │ 14.0745 │ 17.1006 │\n",
       "│ 3   │ 'c'  │ 12.3439 │ 12.8312 │\n",
       "│ 4   │ 'd'  │ 13.3796 │ 15.5769 │"
      ]
     },
     "execution_count": 19,
     "metadata": {},
     "output_type": "execute_result"
    }
   ],
   "source": [
    "aggregate(x, :id, sum, sort=true) # also can be sorted"
   ]
  },
  {
   "cell_type": "markdown",
   "metadata": {},
   "source": [
    "A new feature is `mapcols` convinience function"
   ]
  },
  {
   "cell_type": "code",
   "execution_count": 20,
   "metadata": {},
   "outputs": [
    {
     "data": {
      "text/html": [
       "<table class=\"data-frame\"><thead><tr><th></th><th>x1</th><th>x2</th><th>x3</th><th>x4</th><th>x5</th></tr><tr><th></th><th>Float64</th><th>Float64</th><th>Float64</th><th>Float64</th><th>Float64</th></tr></thead><tbody><p>3 rows × 5 columns</p><tr><th>1</th><td>0.873986</td><td>0.315663</td><td>0.720103</td><td>0.577715</td><td>0.241681</td></tr><tr><th>2</th><td>0.77242</td><td>0.714456</td><td>0.154359</td><td>0.661758</td><td>0.0682483</td></tr><tr><th>3</th><td>0.499805</td><td>0.555766</td><td>0.663409</td><td>0.678376</td><td>0.627233</td></tr></tbody></table>"
      ],
      "text/latex": [
       "\\begin{tabular}{r|ccccc}\n",
       "\t& x1 & x2 & x3 & x4 & x5\\\\\n",
       "\t\\hline\n",
       "\t& Float64 & Float64 & Float64 & Float64 & Float64\\\\\n",
       "\t\\hline\n",
       "\t1 & 0.873986 & 0.315663 & 0.720103 & 0.577715 & 0.241681 \\\\\n",
       "\t2 & 0.77242 & 0.714456 & 0.154359 & 0.661758 & 0.0682483 \\\\\n",
       "\t3 & 0.499805 & 0.555766 & 0.663409 & 0.678376 & 0.627233 \\\\\n",
       "\\end{tabular}\n"
      ],
      "text/plain": [
       "3×5 DataFrame\n",
       "│ Row │ x1       │ x2       │ x3       │ x4       │ x5        │\n",
       "│     │ \u001b[90mFloat64\u001b[39m  │ \u001b[90mFloat64\u001b[39m  │ \u001b[90mFloat64\u001b[39m  │ \u001b[90mFloat64\u001b[39m  │ \u001b[90mFloat64\u001b[39m   │\n",
       "├─────┼──────────┼──────────┼──────────┼──────────┼───────────┤\n",
       "│ 1   │ 0.873986 │ 0.315663 │ 0.720103 │ 0.577715 │ 0.241681  │\n",
       "│ 2   │ 0.77242  │ 0.714456 │ 0.154359 │ 0.661758 │ 0.0682483 │\n",
       "│ 3   │ 0.499805 │ 0.555766 │ 0.663409 │ 0.678376 │ 0.627233  │"
      ]
     },
     "execution_count": 20,
     "metadata": {},
     "output_type": "execute_result"
    }
   ],
   "source": [
    "x = DataFrame(rand(3, 5))"
   ]
  },
  {
   "cell_type": "code",
   "execution_count": 21,
   "metadata": {},
   "outputs": [
    {
     "data": {
      "text/html": [
       "<table class=\"data-frame\"><thead><tr><th></th><th>x1</th><th>x2</th><th>x3</th><th>x4</th><th>x5</th></tr><tr><th></th><th>Float64</th><th>Float64</th><th>Float64</th><th>Float64</th><th>Float64</th></tr></thead><tbody><p>1 rows × 5 columns</p><tr><th>1</th><td>0.715404</td><td>0.528629</td><td>0.512624</td><td>0.639283</td><td>0.312388</td></tr></tbody></table>"
      ],
      "text/latex": [
       "\\begin{tabular}{r|ccccc}\n",
       "\t& x1 & x2 & x3 & x4 & x5\\\\\n",
       "\t\\hline\n",
       "\t& Float64 & Float64 & Float64 & Float64 & Float64\\\\\n",
       "\t\\hline\n",
       "\t1 & 0.715404 & 0.528629 & 0.512624 & 0.639283 & 0.312388 \\\\\n",
       "\\end{tabular}\n"
      ],
      "text/plain": [
       "1×5 DataFrame\n",
       "│ Row │ x1       │ x2       │ x3       │ x4       │ x5       │\n",
       "│     │ \u001b[90mFloat64\u001b[39m  │ \u001b[90mFloat64\u001b[39m  │ \u001b[90mFloat64\u001b[39m  │ \u001b[90mFloat64\u001b[39m  │ \u001b[90mFloat64\u001b[39m  │\n",
       "├─────┼──────────┼──────────┼──────────┼──────────┼──────────┤\n",
       "│ 1   │ 0.715404 │ 0.528629 │ 0.512624 │ 0.639283 │ 0.312388 │"
      ]
     },
     "execution_count": 21,
     "metadata": {},
     "output_type": "execute_result"
    }
   ],
   "source": [
    "mapcols(mean, x)"
   ]
  },
  {
   "cell_type": "code",
   "execution_count": 22,
   "metadata": {},
   "outputs": [
    {
     "data": {
      "text/plain": [
       "5-element Array{Float64,1}:\n",
       " 0.7154036917288855\n",
       " 0.528628590378507 \n",
       " 0.5126235198745835\n",
       " 0.6392830678401201\n",
       " 0.3123876657450813"
      ]
     },
     "execution_count": 22,
     "metadata": {},
     "output_type": "execute_result"
    }
   ],
   "source": [
    "map(mean, eachcol(x, false)) # map a function over each column and return a vector"
   ]
  },
  {
   "cell_type": "code",
   "execution_count": 23,
   "metadata": {},
   "outputs": [
    {
     "name": "stdout",
     "output_type": "stream",
     "text": [
      "x1: 0.7154036917288855\n",
      "x2: 0.528628590378507\n",
      "x3: 0.5126235198745835\n",
      "x4: 0.6392830678401201\n",
      "x5: 0.3123876657450813\n"
     ]
    }
   ],
   "source": [
    "foreach(c -> println(c[1], \": \", mean(c[2])), eachcol(x, true)) # an iteration returns a Pair with column name and values"
   ]
  },
  {
   "cell_type": "code",
   "execution_count": 24,
   "metadata": {},
   "outputs": [
    {
     "data": {
      "text/plain": [
       "3-element Array{Float64,1}:\n",
       " 2.768727152127032 \n",
       " 1.0811298965724347\n",
       " 0.899308361719669 "
      ]
     },
     "execution_count": 24,
     "metadata": {},
     "output_type": "execute_result"
    }
   ],
   "source": [
    "map(r -> r.x1/r.x2, eachrow(x)) # now the returned value is DataFrameRow which works similarly to a one-row DataFrame"
   ]
  },
  {
   "cell_type": "code",
   "execution_count": 25,
   "metadata": {},
   "outputs": [
    {
     "data": {
      "text/html": [
       "<p>3×5 DataFrameRows</p><table class=\"data-frame\"><thead><tr><th></th><th>x1</th><th>x2</th><th>x3</th><th>x4</th><th>x5</th></tr><tr><th></th><th>Float64</th><th>Float64</th><th>Float64</th><th>Float64</th><th>Float64</th></tr></thead><tbody><tr><th>1</th><td>0.873986</td><td>0.315663</td><td>0.720103</td><td>0.577715</td><td>0.241681</td></tr><tr><th>2</th><td>0.77242</td><td>0.714456</td><td>0.154359</td><td>0.661758</td><td>0.0682483</td></tr><tr><th>3</th><td>0.499805</td><td>0.555766</td><td>0.663409</td><td>0.678376</td><td>0.627233</td></tr></tbody></table>"
      ],
      "text/latex": [
       "\\begin{tabular}{r|ccccc}\n",
       "\t& x1 & x2 & x3 & x4 & x5\\\\\n",
       "\t\\hline\n",
       "\t& Float64 & Float64 & Float64 & Float64 & Float64\\\\\n",
       "\t\\hline\n",
       "\t1 & 0.873986 & 0.315663 & 0.720103 & 0.577715 & 0.241681 \\\\\n",
       "\t2 & 0.77242 & 0.714456 & 0.154359 & 0.661758 & 0.0682483 \\\\\n",
       "\t3 & 0.499805 & 0.555766 & 0.663409 & 0.678376 & 0.627233 \\\\\n",
       "\\end{tabular}\n"
      ],
      "text/plain": [
       "3×5 DataFrameRows\n",
       "│ Row │ x1       │ x2       │ x3       │ x4       │ x5        │\n",
       "│     │ \u001b[90mFloat64\u001b[39m  │ \u001b[90mFloat64\u001b[39m  │ \u001b[90mFloat64\u001b[39m  │ \u001b[90mFloat64\u001b[39m  │ \u001b[90mFloat64\u001b[39m   │\n",
       "├─────┼──────────┼──────────┼──────────┼──────────┼───────────┤\n",
       "│ 1   │ 0.873986 │ 0.315663 │ 0.720103 │ 0.577715 │ 0.241681  │\n",
       "│ 2   │ 0.77242  │ 0.714456 │ 0.154359 │ 0.661758 │ 0.0682483 │\n",
       "│ 3   │ 0.499805 │ 0.555766 │ 0.663409 │ 0.678376 │ 0.627233  │"
      ]
     },
     "execution_count": 25,
     "metadata": {},
     "output_type": "execute_result"
    }
   ],
   "source": [
    "er = eachrow(x) # it prints like a data frame, only the caption is different so that you know the type of the object"
   ]
  },
  {
   "cell_type": "code",
   "execution_count": 26,
   "metadata": {},
   "outputs": [
    {
     "data": {
      "text/plain": [
       "3-element Array{Float64,1}:\n",
       " 0.8739860966417328\n",
       " 0.7724196235040937\n",
       " 0.4998053550408301"
      ]
     },
     "execution_count": 26,
     "metadata": {},
     "output_type": "execute_result"
    }
   ],
   "source": [
    "er.x1 # you can access columns of a parent data frame directly"
   ]
  },
  {
   "cell_type": "code",
   "execution_count": 27,
   "metadata": {},
   "outputs": [
    {
     "data": {
      "text/html": [
       "<p>3×5 DataFrameColumns (with names=false)</p><table class=\"data-frame\"><thead><tr><th></th><th>x1</th><th>x2</th><th>x3</th><th>x4</th><th>x5</th></tr><tr><th></th><th>Float64</th><th>Float64</th><th>Float64</th><th>Float64</th><th>Float64</th></tr></thead><tbody><tr><th>1</th><td>0.873986</td><td>0.315663</td><td>0.720103</td><td>0.577715</td><td>0.241681</td></tr><tr><th>2</th><td>0.77242</td><td>0.714456</td><td>0.154359</td><td>0.661758</td><td>0.0682483</td></tr><tr><th>3</th><td>0.499805</td><td>0.555766</td><td>0.663409</td><td>0.678376</td><td>0.627233</td></tr></tbody></table>"
      ],
      "text/latex": [
       "\\begin{tabular}{r|ccccc}\n",
       "\t& x1 & x2 & x3 & x4 & x5\\\\\n",
       "\t\\hline\n",
       "\t& Float64 & Float64 & Float64 & Float64 & Float64\\\\\n",
       "\t\\hline\n",
       "\t1 & 0.873986 & 0.315663 & 0.720103 & 0.577715 & 0.241681 \\\\\n",
       "\t2 & 0.77242 & 0.714456 & 0.154359 & 0.661758 & 0.0682483 \\\\\n",
       "\t3 & 0.499805 & 0.555766 & 0.663409 & 0.678376 & 0.627233 \\\\\n",
       "\\end{tabular}\n"
      ],
      "text/plain": [
       "3×5 DataFrameColumns (with names=false)\n",
       "│ Row │ x1       │ x2       │ x3       │ x4       │ x5        │\n",
       "│     │ \u001b[90mFloat64\u001b[39m  │ \u001b[90mFloat64\u001b[39m  │ \u001b[90mFloat64\u001b[39m  │ \u001b[90mFloat64\u001b[39m  │ \u001b[90mFloat64\u001b[39m   │\n",
       "├─────┼──────────┼──────────┼──────────┼──────────┼───────────┤\n",
       "│ 1   │ 0.873986 │ 0.315663 │ 0.720103 │ 0.577715 │ 0.241681  │\n",
       "│ 2   │ 0.77242  │ 0.714456 │ 0.154359 │ 0.661758 │ 0.0682483 │\n",
       "│ 3   │ 0.499805 │ 0.555766 │ 0.663409 │ 0.678376 │ 0.627233  │"
      ]
     },
     "execution_count": 27,
     "metadata": {},
     "output_type": "execute_result"
    }
   ],
   "source": [
    "ec = eachcol(x) # it prints like a data frame, only the caption is different so that you know the type of the object"
   ]
  },
  {
   "cell_type": "code",
   "execution_count": 28,
   "metadata": {},
   "outputs": [
    {
     "data": {
      "text/plain": [
       "3-element Array{Float64,1}:\n",
       " 0.8739860966417328\n",
       " 0.7724196235040937\n",
       " 0.4998053550408301"
      ]
     },
     "execution_count": 28,
     "metadata": {},
     "output_type": "execute_result"
    }
   ],
   "source": [
    "ec.x1 # you can access columns of a parent data frame directly"
   ]
  }
 ],
 "metadata": {
  "@webio": {
   "lastCommId": null,
   "lastKernelId": null
  },
  "kernelspec": {
   "display_name": "Julia 1.2.0",
   "language": "julia",
   "name": "julia-1.2"
  },
  "language_info": {
   "file_extension": ".jl",
   "mimetype": "application/julia",
   "name": "julia",
   "version": "1.2.0"
  }
 },
 "nbformat": 4,
 "nbformat_minor": 1
}
