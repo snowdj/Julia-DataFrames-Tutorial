{
 "cells": [
  {
   "cell_type": "markdown",
   "metadata": {},
   "source": [
    "# Introduction to DataFrames\n",
    "**[Bogumił Kamiński](http://bogumilkaminski.pl/about/), July 16, 2019**"
   ]
  },
  {
   "cell_type": "code",
   "execution_count": 1,
   "metadata": {},
   "outputs": [],
   "source": [
    "using DataFrames"
   ]
  },
  {
   "cell_type": "markdown",
   "metadata": {},
   "source": [
    "## Possible pitfalls"
   ]
  },
  {
   "cell_type": "markdown",
   "metadata": {},
   "source": [
    "### Know what is copied when creating a `DataFrame`"
   ]
  },
  {
   "cell_type": "code",
   "execution_count": 2,
   "metadata": {},
   "outputs": [
    {
     "data": {
      "text/html": [
       "<table class=\"data-frame\"><thead><tr><th></th><th>x1</th><th>x2</th><th>x3</th><th>x4</th><th>x5</th></tr><tr><th></th><th>Float64</th><th>Float64</th><th>Float64</th><th>Float64</th><th>Float64</th></tr></thead><tbody><p>3 rows × 5 columns</p><tr><th>1</th><td>0.492559</td><td>0.243183</td><td>0.966703</td><td>0.693184</td><td>0.92395</td></tr><tr><th>2</th><td>0.0928541</td><td>0.665956</td><td>0.355291</td><td>0.249962</td><td>0.347599</td></tr><tr><th>3</th><td>0.552664</td><td>0.403156</td><td>0.351879</td><td>0.963344</td><td>0.760738</td></tr></tbody></table>"
      ],
      "text/latex": [
       "\\begin{tabular}{r|ccccc}\n",
       "\t& x1 & x2 & x3 & x4 & x5\\\\\n",
       "\t\\hline\n",
       "\t& Float64 & Float64 & Float64 & Float64 & Float64\\\\\n",
       "\t\\hline\n",
       "\t1 & 0.492559 & 0.243183 & 0.966703 & 0.693184 & 0.92395 \\\\\n",
       "\t2 & 0.0928541 & 0.665956 & 0.355291 & 0.249962 & 0.347599 \\\\\n",
       "\t3 & 0.552664 & 0.403156 & 0.351879 & 0.963344 & 0.760738 \\\\\n",
       "\\end{tabular}\n"
      ],
      "text/plain": [
       "3×5 DataFrame\n",
       "│ Row │ x1        │ x2       │ x3       │ x4       │ x5       │\n",
       "│     │ \u001b[90mFloat64\u001b[39m   │ \u001b[90mFloat64\u001b[39m  │ \u001b[90mFloat64\u001b[39m  │ \u001b[90mFloat64\u001b[39m  │ \u001b[90mFloat64\u001b[39m  │\n",
       "├─────┼───────────┼──────────┼──────────┼──────────┼──────────┤\n",
       "│ 1   │ 0.492559  │ 0.243183 │ 0.966703 │ 0.693184 │ 0.92395  │\n",
       "│ 2   │ 0.0928541 │ 0.665956 │ 0.355291 │ 0.249962 │ 0.347599 │\n",
       "│ 3   │ 0.552664  │ 0.403156 │ 0.351879 │ 0.963344 │ 0.760738 │"
      ]
     },
     "execution_count": 2,
     "metadata": {},
     "output_type": "execute_result"
    }
   ],
   "source": [
    "x = DataFrame(rand(3, 5))"
   ]
  },
  {
   "cell_type": "code",
   "execution_count": 3,
   "metadata": {},
   "outputs": [
    {
     "data": {
      "text/plain": [
       "true"
      ]
     },
     "execution_count": 3,
     "metadata": {},
     "output_type": "execute_result"
    }
   ],
   "source": [
    "y = convert(DataFrame, x)\n",
    "x === y # no copyinng performed"
   ]
  },
  {
   "cell_type": "code",
   "execution_count": 4,
   "metadata": {},
   "outputs": [
    {
     "data": {
      "text/plain": [
       "false"
      ]
     },
     "execution_count": 4,
     "metadata": {},
     "output_type": "execute_result"
    }
   ],
   "source": [
    "y = copy(x)\n",
    "x === y # not the same object"
   ]
  },
  {
   "cell_type": "code",
   "execution_count": 5,
   "metadata": {},
   "outputs": [
    {
     "data": {
      "text/plain": [
       "false"
      ]
     },
     "execution_count": 5,
     "metadata": {},
     "output_type": "execute_result"
    }
   ],
   "source": [
    "y = DataFrame(x)\n",
    "x === y"
   ]
  },
  {
   "cell_type": "code",
   "execution_count": 6,
   "metadata": {},
   "outputs": [
    {
     "data": {
      "text/plain": [
       "false"
      ]
     },
     "execution_count": 6,
     "metadata": {},
     "output_type": "execute_result"
    }
   ],
   "source": [
    "all(x[!, i] === y[!, i] for i in ncol(x)) # the columns are also not the same"
   ]
  },
  {
   "cell_type": "code",
   "execution_count": 7,
   "metadata": {},
   "outputs": [
    {
     "data": {
      "text/html": [
       "<table class=\"data-frame\"><thead><tr><th></th><th>x</th><th>y</th></tr><tr><th></th><th>Int64</th><th>Int64</th></tr></thead><tbody><p>3 rows × 2 columns</p><tr><th>1</th><td>1</td><td>1</td></tr><tr><th>2</th><td>2</td><td>2</td></tr><tr><th>3</th><td>3</td><td>3</td></tr></tbody></table>"
      ],
      "text/latex": [
       "\\begin{tabular}{r|cc}\n",
       "\t& x & y\\\\\n",
       "\t\\hline\n",
       "\t& Int64 & Int64\\\\\n",
       "\t\\hline\n",
       "\t1 & 1 & 1 \\\\\n",
       "\t2 & 2 & 2 \\\\\n",
       "\t3 & 3 & 3 \\\\\n",
       "\\end{tabular}\n"
      ],
      "text/plain": [
       "3×2 DataFrame\n",
       "│ Row │ x     │ y     │\n",
       "│     │ \u001b[90mInt64\u001b[39m │ \u001b[90mInt64\u001b[39m │\n",
       "├─────┼───────┼───────┤\n",
       "│ 1   │ 1     │ 1     │\n",
       "│ 2   │ 2     │ 2     │\n",
       "│ 3   │ 3     │ 3     │"
      ]
     },
     "execution_count": 7,
     "metadata": {},
     "output_type": "execute_result"
    }
   ],
   "source": [
    "x = 1:3; y = [1, 2, 3]; df = DataFrame(x=x,y=y) # the same when creating arrays or assigning columns"
   ]
  },
  {
   "cell_type": "code",
   "execution_count": 8,
   "metadata": {},
   "outputs": [
    {
     "data": {
      "text/plain": [
       "false"
      ]
     },
     "execution_count": 8,
     "metadata": {},
     "output_type": "execute_result"
    }
   ],
   "source": [
    "y === df.y # different object"
   ]
  },
  {
   "cell_type": "code",
   "execution_count": 9,
   "metadata": {},
   "outputs": [
    {
     "data": {
      "text/plain": [
       "(UnitRange{Int64}, Array{Int64,1})"
      ]
     },
     "execution_count": 9,
     "metadata": {},
     "output_type": "execute_result"
    }
   ],
   "source": [
    "typeof(x), typeof(df.x) # range is converted to a vector"
   ]
  },
  {
   "cell_type": "code",
   "execution_count": 10,
   "metadata": {},
   "outputs": [
    {
     "data": {
      "text/plain": [
       "false"
      ]
     },
     "execution_count": 10,
     "metadata": {},
     "output_type": "execute_result"
    }
   ],
   "source": [
    "y === df[:, :y] # slicing rows always creates a copy"
   ]
  },
  {
   "cell_type": "markdown",
   "metadata": {},
   "source": [
    "you can avoid copying by using `copycols=false` keyword argument in functions. In particular `DataFrame!` is a shorthand for a non-copying constructor."
   ]
  },
  {
   "cell_type": "code",
   "execution_count": 11,
   "metadata": {},
   "outputs": [
    {
     "data": {
      "text/html": [
       "<table class=\"data-frame\"><thead><tr><th></th><th>x</th><th>y</th></tr><tr><th></th><th>Int64</th><th>Int64</th></tr></thead><tbody><p>3 rows × 2 columns</p><tr><th>1</th><td>1</td><td>1</td></tr><tr><th>2</th><td>2</td><td>2</td></tr><tr><th>3</th><td>3</td><td>3</td></tr></tbody></table>"
      ],
      "text/latex": [
       "\\begin{tabular}{r|cc}\n",
       "\t& x & y\\\\\n",
       "\t\\hline\n",
       "\t& Int64 & Int64\\\\\n",
       "\t\\hline\n",
       "\t1 & 1 & 1 \\\\\n",
       "\t2 & 2 & 2 \\\\\n",
       "\t3 & 3 & 3 \\\\\n",
       "\\end{tabular}\n"
      ],
      "text/plain": [
       "3×2 DataFrame\n",
       "│ Row │ x     │ y     │\n",
       "│     │ \u001b[90mInt64\u001b[39m │ \u001b[90mInt64\u001b[39m │\n",
       "├─────┼───────┼───────┤\n",
       "│ 1   │ 1     │ 1     │\n",
       "│ 2   │ 2     │ 2     │\n",
       "│ 3   │ 3     │ 3     │"
      ]
     },
     "execution_count": 11,
     "metadata": {},
     "output_type": "execute_result"
    }
   ],
   "source": [
    "df = DataFrame!(x=x,y=y)"
   ]
  },
  {
   "cell_type": "code",
   "execution_count": 12,
   "metadata": {},
   "outputs": [
    {
     "data": {
      "text/plain": [
       "true"
      ]
     },
     "execution_count": 12,
     "metadata": {},
     "output_type": "execute_result"
    }
   ],
   "source": [
    "y === df.y # now it is the same"
   ]
  },
  {
   "cell_type": "code",
   "execution_count": 13,
   "metadata": {},
   "outputs": [
    {
     "data": {
      "text/plain": [
       "false"
      ]
     },
     "execution_count": 13,
     "metadata": {},
     "output_type": "execute_result"
    }
   ],
   "source": [
    "select(df, :y)[!, 1] === y # not the same"
   ]
  },
  {
   "cell_type": "code",
   "execution_count": 14,
   "metadata": {},
   "outputs": [
    {
     "data": {
      "text/plain": [
       "true"
      ]
     },
     "execution_count": 14,
     "metadata": {},
     "output_type": "execute_result"
    }
   ],
   "source": [
    "select(df, :y, copycols=false)[!, 1] === y # the same"
   ]
  },
  {
   "cell_type": "markdown",
   "metadata": {},
   "source": [
    "### Do not modify the parent of `GroupedDataFrame` or `view`"
   ]
  },
  {
   "cell_type": "code",
   "execution_count": 15,
   "metadata": {},
   "outputs": [
    {
     "data": {
      "text/html": [
       "<p><b>GroupedDataFrame with 2 groups based on key: id</b></p><p><i>First Group (3 rows): id = 1</i></p><table class=\"data-frame\"><thead><tr><th></th><th>id</th><th>x</th></tr><tr><th></th><th>Int64</th><th>Int64</th></tr></thead><tbody><tr><th>1</th><td>1</td><td>1</td></tr><tr><th>2</th><td>1</td><td>3</td></tr><tr><th>3</th><td>1</td><td>5</td></tr></tbody></table><p>&vellip;</p><p><i>Last Group (3 rows): id = 2</i></p><table class=\"data-frame\"><thead><tr><th></th><th>id</th><th>x</th></tr><tr><th></th><th>Int64</th><th>Int64</th></tr></thead><tbody><tr><th>1</th><td>2</td><td>2</td></tr><tr><th>2</th><td>2</td><td>4</td></tr><tr><th>3</th><td>2</td><td>6</td></tr></tbody></table>"
      ],
      "text/latex": [
       "GroupedDataFrame with 2 groups based on key: id\n",
       "\n",
       "First Group (3 rows): id = 1\n",
       "\n",
       "\\begin{tabular}{r|cc}\n",
       "\t& id & x\\\\\n",
       "\t\\hline\n",
       "\t& Int64 & Int64\\\\\n",
       "\t\\hline\n",
       "\t1 & 1 & 1 \\\\\n",
       "\t2 & 1 & 3 \\\\\n",
       "\t3 & 1 & 5 \\\\\n",
       "\\end{tabular}\n",
       "\n",
       "$\\dots$\n",
       "\n",
       "Last Group (3 rows): id = 2\n",
       "\n",
       "\\begin{tabular}{r|cc}\n",
       "\t& id & x\\\\\n",
       "\t\\hline\n",
       "\t& Int64 & Int64\\\\\n",
       "\t\\hline\n",
       "\t1 & 2 & 2 \\\\\n",
       "\t2 & 2 & 4 \\\\\n",
       "\t3 & 2 & 6 \\\\\n",
       "\\end{tabular}\n"
      ],
      "text/plain": [
       "GroupedDataFrame with 2 groups based on key: id\n",
       "First Group (3 rows): id = 1\n",
       "│ Row │ id    │ x     │\n",
       "│     │ \u001b[90mInt64\u001b[39m │ \u001b[90mInt64\u001b[39m │\n",
       "├─────┼───────┼───────┤\n",
       "│ 1   │ 1     │ 1     │\n",
       "│ 2   │ 1     │ 3     │\n",
       "│ 3   │ 1     │ 5     │\n",
       "⋮\n",
       "Last Group (3 rows): id = 2\n",
       "│ Row │ id    │ x     │\n",
       "│     │ \u001b[90mInt64\u001b[39m │ \u001b[90mInt64\u001b[39m │\n",
       "├─────┼───────┼───────┤\n",
       "│ 1   │ 2     │ 2     │\n",
       "│ 2   │ 2     │ 4     │\n",
       "│ 3   │ 2     │ 6     │"
      ]
     },
     "execution_count": 15,
     "metadata": {},
     "output_type": "execute_result"
    }
   ],
   "source": [
    "x = DataFrame(id=repeat([1,2], outer=3), x=1:6)\n",
    "g = groupby(x, :id)"
   ]
  },
  {
   "cell_type": "code",
   "execution_count": 16,
   "metadata": {},
   "outputs": [
    {
     "data": {
      "text/html": [
       "<p><b>GroupedDataFrame with 2 groups based on key: id</b></p><p><i>First Group (3 rows): id = 2</i></p><table class=\"data-frame\"><thead><tr><th></th><th>id</th><th>x</th></tr><tr><th></th><th>Int64</th><th>Int64</th></tr></thead><tbody><tr><th>1</th><td>2</td><td>1</td></tr><tr><th>2</th><td>2</td><td>3</td></tr><tr><th>3</th><td>1</td><td>5</td></tr></tbody></table><p>&vellip;</p><p><i>Last Group (3 rows): id = 2</i></p><table class=\"data-frame\"><thead><tr><th></th><th>id</th><th>x</th></tr><tr><th></th><th>Int64</th><th>Int64</th></tr></thead><tbody><tr><th>1</th><td>2</td><td>2</td></tr><tr><th>2</th><td>2</td><td>4</td></tr><tr><th>3</th><td>2</td><td>6</td></tr></tbody></table>"
      ],
      "text/latex": [
       "GroupedDataFrame with 2 groups based on key: id\n",
       "\n",
       "First Group (3 rows): id = 2\n",
       "\n",
       "\\begin{tabular}{r|cc}\n",
       "\t& id & x\\\\\n",
       "\t\\hline\n",
       "\t& Int64 & Int64\\\\\n",
       "\t\\hline\n",
       "\t1 & 2 & 1 \\\\\n",
       "\t2 & 2 & 3 \\\\\n",
       "\t3 & 1 & 5 \\\\\n",
       "\\end{tabular}\n",
       "\n",
       "$\\dots$\n",
       "\n",
       "Last Group (3 rows): id = 2\n",
       "\n",
       "\\begin{tabular}{r|cc}\n",
       "\t& id & x\\\\\n",
       "\t\\hline\n",
       "\t& Int64 & Int64\\\\\n",
       "\t\\hline\n",
       "\t1 & 2 & 2 \\\\\n",
       "\t2 & 2 & 4 \\\\\n",
       "\t3 & 2 & 6 \\\\\n",
       "\\end{tabular}\n"
      ],
      "text/plain": [
       "GroupedDataFrame with 2 groups based on key: id\n",
       "First Group (3 rows): id = 2\n",
       "│ Row │ id    │ x     │\n",
       "│     │ \u001b[90mInt64\u001b[39m │ \u001b[90mInt64\u001b[39m │\n",
       "├─────┼───────┼───────┤\n",
       "│ 1   │ 2     │ 1     │\n",
       "│ 2   │ 2     │ 3     │\n",
       "│ 3   │ 1     │ 5     │\n",
       "⋮\n",
       "Last Group (3 rows): id = 2\n",
       "│ Row │ id    │ x     │\n",
       "│     │ \u001b[90mInt64\u001b[39m │ \u001b[90mInt64\u001b[39m │\n",
       "├─────┼───────┼───────┤\n",
       "│ 1   │ 2     │ 2     │\n",
       "│ 2   │ 2     │ 4     │\n",
       "│ 3   │ 2     │ 6     │"
      ]
     },
     "execution_count": 16,
     "metadata": {},
     "output_type": "execute_result"
    }
   ],
   "source": [
    "x[1:3, 1] = [2,2,2]\n",
    "g # well - it is wrong now, g is only a view"
   ]
  },
  {
   "cell_type": "code",
   "execution_count": 17,
   "metadata": {},
   "outputs": [
    {
     "data": {
      "text/html": [
       "<table class=\"data-frame\"><thead><tr><th></th><th>id</th><th>x</th></tr><tr><th></th><th>Int64</th><th>Int64</th></tr></thead><tbody><p>2 rows × 2 columns</p><tr><th>1</th><td>1</td><td>5</td></tr><tr><th>2</th><td>2</td><td>6</td></tr></tbody></table>"
      ],
      "text/latex": [
       "\\begin{tabular}{r|cc}\n",
       "\t& id & x\\\\\n",
       "\t\\hline\n",
       "\t& Int64 & Int64\\\\\n",
       "\t\\hline\n",
       "\t1 & 1 & 5 \\\\\n",
       "\t2 & 2 & 6 \\\\\n",
       "\\end{tabular}\n"
      ],
      "text/plain": [
       "2×2 SubDataFrame\n",
       "│ Row │ id    │ x     │\n",
       "│     │ \u001b[90mInt64\u001b[39m │ \u001b[90mInt64\u001b[39m │\n",
       "├─────┼───────┼───────┤\n",
       "│ 1   │ 1     │ 5     │\n",
       "│ 2   │ 2     │ 6     │"
      ]
     },
     "execution_count": 17,
     "metadata": {},
     "output_type": "execute_result"
    }
   ],
   "source": [
    "s = view(x, 5:6, :)"
   ]
  },
  {
   "cell_type": "code",
   "execution_count": 18,
   "metadata": {},
   "outputs": [
    {
     "data": {
      "text/html": [
       "<table class=\"data-frame\"><thead><tr><th></th><th>id</th><th>x</th></tr><tr><th></th><th>Int64</th><th>Int64</th></tr></thead><tbody><p>2 rows × 2 columns</p><tr><th>1</th><td>2</td><td>1</td></tr><tr><th>2</th><td>2</td><td>2</td></tr></tbody></table>"
      ],
      "text/latex": [
       "\\begin{tabular}{r|cc}\n",
       "\t& id & x\\\\\n",
       "\t\\hline\n",
       "\t& Int64 & Int64\\\\\n",
       "\t\\hline\n",
       "\t1 & 2 & 1 \\\\\n",
       "\t2 & 2 & 2 \\\\\n",
       "\\end{tabular}\n"
      ],
      "text/plain": [
       "2×2 DataFrame\n",
       "│ Row │ id    │ x     │\n",
       "│     │ \u001b[90mInt64\u001b[39m │ \u001b[90mInt64\u001b[39m │\n",
       "├─────┼───────┼───────┤\n",
       "│ 1   │ 2     │ 1     │\n",
       "│ 2   │ 2     │ 2     │"
      ]
     },
     "execution_count": 18,
     "metadata": {},
     "output_type": "execute_result"
    }
   ],
   "source": [
    "deleterows!(x, 3:6)"
   ]
  },
  {
   "cell_type": "code",
   "execution_count": 19,
   "metadata": {},
   "outputs": [
    {
     "ename": "BoundsError",
     "evalue": "BoundsError: attempt to access 2-element Array{Int64,1} at index [5:6]",
     "output_type": "error",
     "traceback": [
      "BoundsError: attempt to access 2-element Array{Int64,1} at index [5:6]",
      "",
      "Stacktrace:",
      " [1] throw_boundserror(::Array{Int64,1}, ::Tuple{UnitRange{Int64}}) at .\\abstractarray.jl:484",
      " [2] checkbounds at .\\abstractarray.jl:449 [inlined]",
      " [3] view(::Array{Int64,1}, ::UnitRange{Int64}) at .\\subarray.jl:155",
      " [4] view at C:\\Users\\bogum\\.julia\\packages\\DataFrames\\GoFnP\\src\\subdataframe\\subdataframe.jl:90 [inlined]",
      " [5] getindex at C:\\Users\\bogum\\.julia\\packages\\DataFrames\\GoFnP\\src\\subdataframe\\subdataframe.jl:127 [inlined]",
      " [6] getindex at C:\\Users\\bogum\\.julia\\packages\\DataFrames\\GoFnP\\src\\abstractdataframe\\iteration.jl:159 [inlined]",
      " [7] iterate(::DataFrames.DataFrameColumns{SubDataFrame{DataFrame,DataFrames.Index,UnitRange{Int64}},Pair{Symbol,AbstractArray{T,1} where T}}, ::Tuple{Base.OneTo{Int64}}) at .\\abstractarray.jl:860",
      " [8] iterate at .\\abstractarray.jl:858 [inlined]",
      " [9] getmaxwidths(::SubDataFrame{DataFrame,DataFrames.Index,UnitRange{Int64}}, ::IOContext{Base.GenericIOBuffer{Array{UInt8,1}}}, ::UnitRange{Int64}, ::UnitRange{Int64}, ::Symbol, ::Nothing) at C:\\Users\\bogum\\.julia\\packages\\DataFrames\\GoFnP\\src\\abstractdataframe\\show.jl:107",
      " [10] #_show#302(::Bool, ::Bool, ::Bool, ::Symbol, ::Bool, ::Nothing, ::Function, ::IOContext{Base.GenericIOBuffer{Array{UInt8,1}}}, ::SubDataFrame{DataFrame,DataFrames.Index,UnitRange{Int64}}) at C:\\Users\\bogum\\.julia\\packages\\DataFrames\\GoFnP\\src\\abstractdataframe\\show.jl:536",
      " [11] #_show at .\\none:0 [inlined]",
      " [12] #show#303 at C:\\Users\\bogum\\.julia\\packages\\DataFrames\\GoFnP\\src\\abstractdataframe\\show.jl:608 [inlined]",
      " [13] #show at .\\none:0 [inlined]",
      " [14] #show#316(::Bool, ::Bool, ::Bool, ::Symbol, ::Bool, ::Function, ::IOContext{Base.GenericIOBuffer{Array{UInt8,1}}}, ::MIME{Symbol(\"text/plain\")}, ::SubDataFrame{DataFrame,DataFrames.Index,UnitRange{Int64}}) at C:\\Users\\bogum\\.julia\\packages\\DataFrames\\GoFnP\\src\\abstractdataframe\\io.jl:53",
      " [15] show(::IOContext{Base.GenericIOBuffer{Array{UInt8,1}}}, ::MIME{Symbol(\"text/plain\")}, ::SubDataFrame{DataFrame,DataFrames.Index,UnitRange{Int64}}) at C:\\Users\\bogum\\.julia\\packages\\DataFrames\\GoFnP\\src\\abstractdataframe\\io.jl:53",
      " [16] limitstringmime(::MIME{Symbol(\"text/plain\")}, ::SubDataFrame{DataFrame,DataFrames.Index,UnitRange{Int64}}) at C:\\Users\\bogum\\.julia\\packages\\IJulia\\gI2uA\\src\\inline.jl:37",
      " [17] display_mimestring(::MIME{Symbol(\"text/plain\")}, ::SubDataFrame{DataFrame,DataFrames.Index,UnitRange{Int64}}) at C:\\Users\\bogum\\.julia\\packages\\IJulia\\gI2uA\\src\\display.jl:67",
      " [18] display_dict(::SubDataFrame{DataFrame,DataFrames.Index,UnitRange{Int64}}) at C:\\Users\\bogum\\.julia\\packages\\IJulia\\gI2uA\\src\\display.jl:96",
      " [19] #invokelatest#1 at .\\essentials.jl:742 [inlined]",
      " [20] invokelatest at .\\essentials.jl:741 [inlined]",
      " [21] execute_request(::ZMQ.Socket, ::IJulia.Msg) at C:\\Users\\bogum\\.julia\\packages\\IJulia\\gI2uA\\src\\execute_request.jl:112",
      " [22] #invokelatest#1 at .\\essentials.jl:742 [inlined]",
      " [23] invokelatest at .\\essentials.jl:741 [inlined]",
      " [24] eventloop(::ZMQ.Socket) at C:\\Users\\bogum\\.julia\\packages\\IJulia\\gI2uA\\src\\eventloop.jl:8",
      " [25] (::getfield(IJulia, Symbol(\"##15#18\")))() at .\\task.jl:259"
     ]
    }
   ],
   "source": [
    "s # error"
   ]
  },
  {
   "cell_type": "markdown",
   "metadata": {},
   "source": [
    "### Single column selection for `DataFrame` creates aliases with `!` and `getproperty` syntax and copies with `:`"
   ]
  },
  {
   "cell_type": "code",
   "execution_count": 20,
   "metadata": {},
   "outputs": [
    {
     "data": {
      "text/html": [
       "<table class=\"data-frame\"><thead><tr><th></th><th>a</th><th>b</th><th>c</th><th>d</th><th>e</th></tr><tr><th></th><th>Int64</th><th>Int64</th><th>Int64</th><th>Int64</th><th>Int64</th></tr></thead><tbody><p>3 rows × 5 columns</p><tr><th>1</th><td>1</td><td>1</td><td>1</td><td>1</td><td>1</td></tr><tr><th>2</th><td>2</td><td>2</td><td>2</td><td>2</td><td>2</td></tr><tr><th>3</th><td>3</td><td>3</td><td>3</td><td>3</td><td>3</td></tr></tbody></table>"
      ],
      "text/latex": [
       "\\begin{tabular}{r|ccccc}\n",
       "\t& a & b & c & d & e\\\\\n",
       "\t\\hline\n",
       "\t& Int64 & Int64 & Int64 & Int64 & Int64\\\\\n",
       "\t\\hline\n",
       "\t1 & 1 & 1 & 1 & 1 & 1 \\\\\n",
       "\t2 & 2 & 2 & 2 & 2 & 2 \\\\\n",
       "\t3 & 3 & 3 & 3 & 3 & 3 \\\\\n",
       "\\end{tabular}\n"
      ],
      "text/plain": [
       "3×5 DataFrame\n",
       "│ Row │ a     │ b     │ c     │ d     │ e     │\n",
       "│     │ \u001b[90mInt64\u001b[39m │ \u001b[90mInt64\u001b[39m │ \u001b[90mInt64\u001b[39m │ \u001b[90mInt64\u001b[39m │ \u001b[90mInt64\u001b[39m │\n",
       "├─────┼───────┼───────┼───────┼───────┼───────┤\n",
       "│ 1   │ 1     │ 1     │ 1     │ 1     │ 1     │\n",
       "│ 2   │ 2     │ 2     │ 2     │ 2     │ 2     │\n",
       "│ 3   │ 3     │ 3     │ 3     │ 3     │ 3     │"
      ]
     },
     "metadata": {},
     "output_type": "display_data"
    },
    {
     "data": {
      "text/html": [
       "<table class=\"data-frame\"><thead><tr><th></th><th>a</th><th>b</th><th>c</th><th>d</th><th>e</th></tr><tr><th></th><th>Int64</th><th>Int64</th><th>Int64</th><th>Int64</th><th>Int64</th></tr></thead><tbody><p>3 rows × 5 columns</p><tr><th>1</th><td>100</td><td>100</td><td>1</td><td>1</td><td>1</td></tr><tr><th>2</th><td>2</td><td>2</td><td>2</td><td>2</td><td>2</td></tr><tr><th>3</th><td>3</td><td>3</td><td>3</td><td>3</td><td>3</td></tr></tbody></table>"
      ],
      "text/latex": [
       "\\begin{tabular}{r|ccccc}\n",
       "\t& a & b & c & d & e\\\\\n",
       "\t\\hline\n",
       "\t& Int64 & Int64 & Int64 & Int64 & Int64\\\\\n",
       "\t\\hline\n",
       "\t1 & 100 & 100 & 1 & 1 & 1 \\\\\n",
       "\t2 & 2 & 2 & 2 & 2 & 2 \\\\\n",
       "\t3 & 3 & 3 & 3 & 3 & 3 \\\\\n",
       "\\end{tabular}\n"
      ],
      "text/plain": [
       "3×5 DataFrame\n",
       "│ Row │ a     │ b     │ c     │ d     │ e     │\n",
       "│     │ \u001b[90mInt64\u001b[39m │ \u001b[90mInt64\u001b[39m │ \u001b[90mInt64\u001b[39m │ \u001b[90mInt64\u001b[39m │ \u001b[90mInt64\u001b[39m │\n",
       "├─────┼───────┼───────┼───────┼───────┼───────┤\n",
       "│ 1   │ 100   │ 100   │ 1     │ 1     │ 1     │\n",
       "│ 2   │ 2     │ 2     │ 2     │ 2     │ 2     │\n",
       "│ 3   │ 3     │ 3     │ 3     │ 3     │ 3     │"
      ]
     },
     "metadata": {},
     "output_type": "display_data"
    }
   ],
   "source": [
    "x = DataFrame(a=1:3)\n",
    "x.b = x[!, 1] # alias\n",
    "x.c = x[:, 1] # copy\n",
    "x.d = x[!, 1][:] # copy\n",
    "x.e = copy(x[!, 1]) # explicit copy\n",
    "display(x)\n",
    "x[1,1] = 100\n",
    "display(x)"
   ]
  }
 ],
 "metadata": {
  "@webio": {
   "lastCommId": null,
   "lastKernelId": null
  },
  "kernelspec": {
   "display_name": "Julia 1.1.0",
   "language": "julia",
   "name": "julia-1.1"
  },
  "language_info": {
   "file_extension": ".jl",
   "mimetype": "application/julia",
   "name": "julia",
   "version": "1.1.0"
  }
 },
 "nbformat": 4,
 "nbformat_minor": 1
}
